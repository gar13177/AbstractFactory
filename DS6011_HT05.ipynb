{
  "nbformat": 4,
  "nbformat_minor": 0,
  "metadata": {
    "colab": {
      "provenance": []
    },
    "kernelspec": {
      "name": "python3",
      "display_name": "Python 3"
    },
    "language_info": {
      "name": "python"
    }
  },
  "cells": [
    {
      "cell_type": "markdown",
      "metadata": {
        "id": "saaO06RMwzGH"
      },
      "source": [
        "# Hoja de Trabajo \\# 5\n",
        "\n",
        "\n",
        "---\n",
        "\n",
        "\n",
        "por Josué Obregón <br>\n",
        "DS6011 - Feature Engineering <br>\n",
        "UVG Masters - Escuela de Negocios<br>\n"
      ]
    },
    {
      "cell_type": "markdown",
      "metadata": {
        "id": "w0-nImUHNxOv"
      },
      "source": [
        "## Objetivos\n",
        "\n",
        "El objetivo de esta hoja de trabajo  es presentar al estudiante diferentes técnicas de extracción y generación de atributos.\n",
        "\n",
        "También se busca que el estudiante practique la utilización de éstas técnicas con las librerías disponibles en el lenguaje Python."
      ]
    },
    {
      "cell_type": "markdown",
      "metadata": {
        "id": "RYjZ_KEuTCTe"
      },
      "source": [
        "## Importación de librerías y carga de los datos\n",
        "\n",
        "Las librerías que importaremos para empezar son pandas y numpy para el manejo de los datos, y matplotlib, seaborn y plotly para la generación de visualizaciones. \n",
        "\n"
      ]
    },
    {
      "cell_type": "code",
      "metadata": {
        "id": "EoXELFC48mlh"
      },
      "source": [
        "import pandas as pd\n",
        "import numpy as np\n",
        "import matplotlib.pyplot as plt\n",
        "import seaborn as sns\n",
        "import plotly.express as px\n",
        "import plotly.graph_objects as go"
      ],
      "execution_count": 12,
      "outputs": []
    },
    {
      "cell_type": "markdown",
      "metadata": {
        "id": "Ndtakjmx8rQs"
      },
      "source": [
        "# Dimensionality reduction"
      ]
    },
    {
      "cell_type": "markdown",
      "metadata": {
        "id": "0-0etrH4ChqZ"
      },
      "source": [
        "## Ejemplo con datos de prueba"
      ]
    },
    {
      "cell_type": "code",
      "metadata": {
        "id": "1aI1NNgR8tAJ"
      },
      "source": [
        "df_test = pd.DataFrame({\n",
        "... 'Gene1': [10,11,8,3,2,1],\n",
        "... 'Gene2': [6,4,5,3,2.8,1],\n",
        "... 'Gene3': [12,9,10,2.5,1.3,2],\n",
        "... 'Gene4': [5,7,6,2,4,7]\n",
        "... }, index=['Mouse1','Mouse2','Mouse3','Mouse4','Mouse5','Mouse6'])"
      ],
      "execution_count": 13,
      "outputs": []
    },
    {
      "cell_type": "code",
      "metadata": {
        "id": "Cje97qC09st8",
        "outputId": "708506ae-75b9-4def-8a43-eca2e02d05b4",
        "colab": {
          "base_uri": "https://localhost:8080/",
          "height": 238
        }
      },
      "source": [
        "df_test"
      ],
      "execution_count": 14,
      "outputs": [
        {
          "output_type": "execute_result",
          "data": {
            "text/plain": [
              "        Gene1  Gene2  Gene3  Gene4\n",
              "Mouse1     10    6.0   12.0      5\n",
              "Mouse2     11    4.0    9.0      7\n",
              "Mouse3      8    5.0   10.0      6\n",
              "Mouse4      3    3.0    2.5      2\n",
              "Mouse5      2    2.8    1.3      4\n",
              "Mouse6      1    1.0    2.0      7"
            ],
            "text/html": [
              "\n",
              "  <div id=\"df-b395ea12-b09b-40bd-8c81-d2ad19373b33\">\n",
              "    <div class=\"colab-df-container\">\n",
              "      <div>\n",
              "<style scoped>\n",
              "    .dataframe tbody tr th:only-of-type {\n",
              "        vertical-align: middle;\n",
              "    }\n",
              "\n",
              "    .dataframe tbody tr th {\n",
              "        vertical-align: top;\n",
              "    }\n",
              "\n",
              "    .dataframe thead th {\n",
              "        text-align: right;\n",
              "    }\n",
              "</style>\n",
              "<table border=\"1\" class=\"dataframe\">\n",
              "  <thead>\n",
              "    <tr style=\"text-align: right;\">\n",
              "      <th></th>\n",
              "      <th>Gene1</th>\n",
              "      <th>Gene2</th>\n",
              "      <th>Gene3</th>\n",
              "      <th>Gene4</th>\n",
              "    </tr>\n",
              "  </thead>\n",
              "  <tbody>\n",
              "    <tr>\n",
              "      <th>Mouse1</th>\n",
              "      <td>10</td>\n",
              "      <td>6.0</td>\n",
              "      <td>12.0</td>\n",
              "      <td>5</td>\n",
              "    </tr>\n",
              "    <tr>\n",
              "      <th>Mouse2</th>\n",
              "      <td>11</td>\n",
              "      <td>4.0</td>\n",
              "      <td>9.0</td>\n",
              "      <td>7</td>\n",
              "    </tr>\n",
              "    <tr>\n",
              "      <th>Mouse3</th>\n",
              "      <td>8</td>\n",
              "      <td>5.0</td>\n",
              "      <td>10.0</td>\n",
              "      <td>6</td>\n",
              "    </tr>\n",
              "    <tr>\n",
              "      <th>Mouse4</th>\n",
              "      <td>3</td>\n",
              "      <td>3.0</td>\n",
              "      <td>2.5</td>\n",
              "      <td>2</td>\n",
              "    </tr>\n",
              "    <tr>\n",
              "      <th>Mouse5</th>\n",
              "      <td>2</td>\n",
              "      <td>2.8</td>\n",
              "      <td>1.3</td>\n",
              "      <td>4</td>\n",
              "    </tr>\n",
              "    <tr>\n",
              "      <th>Mouse6</th>\n",
              "      <td>1</td>\n",
              "      <td>1.0</td>\n",
              "      <td>2.0</td>\n",
              "      <td>7</td>\n",
              "    </tr>\n",
              "  </tbody>\n",
              "</table>\n",
              "</div>\n",
              "      <button class=\"colab-df-convert\" onclick=\"convertToInteractive('df-b395ea12-b09b-40bd-8c81-d2ad19373b33')\"\n",
              "              title=\"Convert this dataframe to an interactive table.\"\n",
              "              style=\"display:none;\">\n",
              "        \n",
              "  <svg xmlns=\"http://www.w3.org/2000/svg\" height=\"24px\"viewBox=\"0 0 24 24\"\n",
              "       width=\"24px\">\n",
              "    <path d=\"M0 0h24v24H0V0z\" fill=\"none\"/>\n",
              "    <path d=\"M18.56 5.44l.94 2.06.94-2.06 2.06-.94-2.06-.94-.94-2.06-.94 2.06-2.06.94zm-11 1L8.5 8.5l.94-2.06 2.06-.94-2.06-.94L8.5 2.5l-.94 2.06-2.06.94zm10 10l.94 2.06.94-2.06 2.06-.94-2.06-.94-.94-2.06-.94 2.06-2.06.94z\"/><path d=\"M17.41 7.96l-1.37-1.37c-.4-.4-.92-.59-1.43-.59-.52 0-1.04.2-1.43.59L10.3 9.45l-7.72 7.72c-.78.78-.78 2.05 0 2.83L4 21.41c.39.39.9.59 1.41.59.51 0 1.02-.2 1.41-.59l7.78-7.78 2.81-2.81c.8-.78.8-2.07 0-2.86zM5.41 20L4 18.59l7.72-7.72 1.47 1.35L5.41 20z\"/>\n",
              "  </svg>\n",
              "      </button>\n",
              "      \n",
              "  <style>\n",
              "    .colab-df-container {\n",
              "      display:flex;\n",
              "      flex-wrap:wrap;\n",
              "      gap: 12px;\n",
              "    }\n",
              "\n",
              "    .colab-df-convert {\n",
              "      background-color: #E8F0FE;\n",
              "      border: none;\n",
              "      border-radius: 50%;\n",
              "      cursor: pointer;\n",
              "      display: none;\n",
              "      fill: #1967D2;\n",
              "      height: 32px;\n",
              "      padding: 0 0 0 0;\n",
              "      width: 32px;\n",
              "    }\n",
              "\n",
              "    .colab-df-convert:hover {\n",
              "      background-color: #E2EBFA;\n",
              "      box-shadow: 0px 1px 2px rgba(60, 64, 67, 0.3), 0px 1px 3px 1px rgba(60, 64, 67, 0.15);\n",
              "      fill: #174EA6;\n",
              "    }\n",
              "\n",
              "    [theme=dark] .colab-df-convert {\n",
              "      background-color: #3B4455;\n",
              "      fill: #D2E3FC;\n",
              "    }\n",
              "\n",
              "    [theme=dark] .colab-df-convert:hover {\n",
              "      background-color: #434B5C;\n",
              "      box-shadow: 0px 1px 3px 1px rgba(0, 0, 0, 0.15);\n",
              "      filter: drop-shadow(0px 1px 2px rgba(0, 0, 0, 0.3));\n",
              "      fill: #FFFFFF;\n",
              "    }\n",
              "  </style>\n",
              "\n",
              "      <script>\n",
              "        const buttonEl =\n",
              "          document.querySelector('#df-b395ea12-b09b-40bd-8c81-d2ad19373b33 button.colab-df-convert');\n",
              "        buttonEl.style.display =\n",
              "          google.colab.kernel.accessAllowed ? 'block' : 'none';\n",
              "\n",
              "        async function convertToInteractive(key) {\n",
              "          const element = document.querySelector('#df-b395ea12-b09b-40bd-8c81-d2ad19373b33');\n",
              "          const dataTable =\n",
              "            await google.colab.kernel.invokeFunction('convertToInteractive',\n",
              "                                                     [key], {});\n",
              "          if (!dataTable) return;\n",
              "\n",
              "          const docLinkHtml = 'Like what you see? Visit the ' +\n",
              "            '<a target=\"_blank\" href=https://colab.research.google.com/notebooks/data_table.ipynb>data table notebook</a>'\n",
              "            + ' to learn more about interactive tables.';\n",
              "          element.innerHTML = '';\n",
              "          dataTable['output_type'] = 'display_data';\n",
              "          await google.colab.output.renderOutput(dataTable, element);\n",
              "          const docLink = document.createElement('div');\n",
              "          docLink.innerHTML = docLinkHtml;\n",
              "          element.appendChild(docLink);\n",
              "        }\n",
              "      </script>\n",
              "    </div>\n",
              "  </div>\n",
              "  "
            ]
          },
          "metadata": {},
          "execution_count": 14
        }
      ]
    },
    {
      "cell_type": "code",
      "metadata": {
        "id": "RJF7F6F_9tV-",
        "outputId": "a6620145-c79e-4f99-9e46-1ee1fa6cda74",
        "colab": {
          "base_uri": "https://localhost:8080/",
          "height": 466
        }
      },
      "source": [
        "sns.scatterplot(data=df_test,  x='Gene1',y='Gene2')"
      ],
      "execution_count": 15,
      "outputs": [
        {
          "output_type": "execute_result",
          "data": {
            "text/plain": [
              "<Axes: xlabel='Gene1', ylabel='Gene2'>"
            ]
          },
          "metadata": {},
          "execution_count": 15
        },
        {
          "output_type": "display_data",
          "data": {
            "text/plain": [
              "<Figure size 640x480 with 1 Axes>"
            ],
            "image/png": "[encoded data removed]"
          },
          "metadata": {}
        }
      ]
    },
    {
      "cell_type": "code",
      "metadata": {
        "id": "nZWP21J0-e8r"
      },
      "source": [],
      "execution_count": 15,
      "outputs": []
    },
    {
      "cell_type": "markdown",
      "metadata": {
        "id": "Na78HArY-7rL"
      },
      "source": [
        "### PCA"
      ]
    },
    {
      "cell_type": "code",
      "metadata": {
        "id": "M_EejDf3-9my"
      },
      "source": [
        "from sklearn.decomposition import PCA"
      ],
      "execution_count": 16,
      "outputs": []
    },
    {
      "cell_type": "code",
      "metadata": {
        "id": "OqyroGKU--m9"
      },
      "source": [
        "pca = PCA()"
      ],
      "execution_count": 17,
      "outputs": []
    },
    {
      "cell_type": "code",
      "metadata": {
        "id": "kIWjB07n--q-",
        "outputId": "c6d73165-4906-48c3-8d2a-2d9005796d56",
        "colab": {
          "base_uri": "https://localhost:8080/",
          "height": 75
        }
      },
      "source": [
        "pca.fit(df_test)"
      ],
      "execution_count": 18,
      "outputs": [
        {
          "output_type": "execute_result",
          "data": {
            "text/plain": [
              "PCA()"
            ],
            "text/html": [
              "<style>#sk-container-id-2 {color: black;background-color: white;}#sk-container-id-2 pre{padding: 0;}#sk-container-id-2 div.sk-toggleable {background-color: white;}#sk-container-id-2 label.sk-toggleable__label {cursor: pointer;display: block;width: 100%;margin-bottom: 0;padding: 0.3em;box-sizing: border-box;text-align: center;}#sk-container-id-2 label.sk-toggleable__label-arrow:before {content: \"▸\";float: left;margin-right: 0.25em;color: #696969;}#sk-container-id-2 label.sk-toggleable__label-arrow:hover:before {color: black;}#sk-container-id-2 div.sk-estimator:hover label.sk-toggleable__label-arrow:before {color: black;}#sk-container-id-2 div.sk-toggleable__content {max-height: 0;max-width: 0;overflow: hidden;text-align: left;background-color: #f0f8ff;}#sk-container-id-2 div.sk-toggleable__content pre {margin: 0.2em;color: black;border-radius: 0.25em;background-color: #f0f8ff;}#sk-container-id-2 input.sk-toggleable__control:checked~div.sk-toggleable__content {max-height: 200px;max-width: 100%;overflow: auto;}#sk-container-id-2 input.sk-toggleable__control:checked~label.sk-toggleable__label-arrow:before {content: \"▾\";}#sk-container-id-2 div.sk-estimator input.sk-toggleable__control:checked~label.sk-toggleable__label {background-color: #d4ebff;}#sk-container-id-2 div.sk-label input.sk-toggleable__control:checked~label.sk-toggleable__label {background-color: #d4ebff;}#sk-container-id-2 input.sk-hidden--visually {border: 0;clip: rect(1px 1px 1px 1px);clip: rect(1px, 1px, 1px, 1px);height: 1px;margin: -1px;overflow: hidden;padding: 0;position: absolute;width: 1px;}#sk-container-id-2 div.sk-estimator {font-family: monospace;background-color: #f0f8ff;border: 1px dotted black;border-radius: 0.25em;box-sizing: border-box;margin-bottom: 0.5em;}#sk-container-id-2 div.sk-estimator:hover {background-color: #d4ebff;}#sk-container-id-2 div.sk-parallel-item::after {content: \"\";width: 100%;border-bottom: 1px solid gray;flex-grow: 1;}#sk-container-id-2 div.sk-label:hover label.sk-toggleable__label {background-color: #d4ebff;}#sk-container-id-2 div.sk-serial::before {content: \"\";position: absolute;border-left: 1px solid gray;box-sizing: border-box;top: 0;bottom: 0;left: 50%;z-index: 0;}#sk-container-id-2 div.sk-serial {display: flex;flex-direction: column;align-items: center;background-color: white;padding-right: 0.2em;padding-left: 0.2em;position: relative;}#sk-container-id-2 div.sk-item {position: relative;z-index: 1;}#sk-container-id-2 div.sk-parallel {display: flex;align-items: stretch;justify-content: center;background-color: white;position: relative;}#sk-container-id-2 div.sk-item::before, #sk-container-id-2 div.sk-parallel-item::before {content: \"\";position: absolute;border-left: 1px solid gray;box-sizing: border-box;top: 0;bottom: 0;left: 50%;z-index: -1;}#sk-container-id-2 div.sk-parallel-item {display: flex;flex-direction: column;z-index: 1;position: relative;background-color: white;}#sk-container-id-2 div.sk-parallel-item:first-child::after {align-self: flex-end;width: 50%;}#sk-container-id-2 div.sk-parallel-item:last-child::after {align-self: flex-start;width: 50%;}#sk-container-id-2 div.sk-parallel-item:only-child::after {width: 0;}#sk-container-id-2 div.sk-dashed-wrapped {border: 1px dashed gray;margin: 0 0.4em 0.5em 0.4em;box-sizing: border-box;padding-bottom: 0.4em;background-color: white;}#sk-container-id-2 div.sk-label label {font-family: monospace;font-weight: bold;display: inline-block;line-height: 1.2em;}#sk-container-id-2 div.sk-label-container {text-align: center;}#sk-container-id-2 div.sk-container {/* jupyter's `normalize.less` sets `[hidden] { display: none; }` but bootstrap.min.css set `[hidden] { display: none !important; }` so we also need the `!important` here to be able to override the default hidden behavior on the sphinx rendered scikit-learn.org. See: https://github.com/scikit-learn/scikit-learn/issues/21755 */display: inline-block !important;position: relative;}#sk-container-id-2 div.sk-text-repr-fallback {display: none;}</style><div id=\"sk-container-id-2\" class=\"sk-top-container\"><div class=\"sk-text-repr-fallback\"><pre>PCA()</pre><b>In a Jupyter environment, please rerun this cell to show the HTML representation or trust the notebook. <br />On GitHub, the HTML representation is unable to render, please try loading this page with nbviewer.org.</b></div><div class=\"sk-container\" hidden><div class=\"sk-item\"><div class=\"sk-estimator sk-toggleable\"><input class=\"sk-toggleable__control sk-hidden--visually\" id=\"sk-estimator-id-2\" type=\"checkbox\" checked><label for=\"sk-estimator-id-2\" class=\"sk-toggleable__label sk-toggleable__label-arrow\">PCA</label><div class=\"sk-toggleable__content\"><pre>PCA()</pre></div></div></div></div></div>"
            ]
          },
          "metadata": {},
          "execution_count": 18
        }
      ]
    },
    {
      "cell_type": "code",
      "metadata": {
        "id": "gtn9eKqQ_XyQ"
      },
      "source": [
        "pca_proj = pd.DataFrame(pca.transform(df_test), columns=['Component1','Component2','Component3','Component4'], index = df_test.index)"
      ],
      "execution_count": 19,
      "outputs": []
    },
    {
      "cell_type": "code",
      "metadata": {
        "id": "yELTJrHn_X5N",
        "outputId": "65a09135-e4c6-4b19-cb06-3c4eba717dff",
        "colab": {
          "base_uri": "https://localhost:8080/",
          "height": 238
        }
      },
      "source": [
        "pca_proj"
      ],
      "execution_count": 20,
      "outputs": [
        {
          "output_type": "execute_result",
          "data": {
            "text/plain": [
              "        Component1  Component2  Component3  Component4\n",
              "Mouse1    7.435167   -1.157951   -0.885242   -0.039570\n",
              "Mouse2    5.696298    1.510140    1.917896   -0.033484\n",
              "Mouse3    4.582350    0.182406   -1.077132    0.127922\n",
              "Mouse4   -4.935668   -2.625896    0.508698   -0.377957\n",
              "Mouse5   -6.264743   -0.673880    0.321437    0.553774\n",
              "Mouse6   -6.513403    2.765180   -0.785657   -0.230685"
            ],
            "text/html": [
              "\n",
              "  <div id=\"df-db44b83d-85df-4a66-adda-bbaf860c413b\">\n",
              "    <div class=\"colab-df-container\">\n",
              "      <div>\n",
              "<style scoped>\n",
              "    .dataframe tbody tr th:only-of-type {\n",
              "        vertical-align: middle;\n",
              "    }\n",
              "\n",
              "    .dataframe tbody tr th {\n",
              "        vertical-align: top;\n",
              "    }\n",
              "\n",
              "    .dataframe thead th {\n",
              "        text-align: right;\n",
              "    }\n",
              "</style>\n",
              "<table border=\"1\" class=\"dataframe\">\n",
              "  <thead>\n",
              "    <tr style=\"text-align: right;\">\n",
              "      <th></th>\n",
              "      <th>Component1</th>\n",
              "      <th>Component2</th>\n",
              "      <th>Component3</th>\n",
              "      <th>Component4</th>\n",
              "    </tr>\n",
              "  </thead>\n",
              "  <tbody>\n",
              "    <tr>\n",
              "      <th>Mouse1</th>\n",
              "      <td>7.435167</td>\n",
              "      <td>-1.157951</td>\n",
              "      <td>-0.885242</td>\n",
              "      <td>-0.039570</td>\n",
              "    </tr>\n",
              "    <tr>\n",
              "      <th>Mouse2</th>\n",
              "      <td>5.696298</td>\n",
              "      <td>1.510140</td>\n",
              "      <td>1.917896</td>\n",
              "      <td>-0.033484</td>\n",
              "    </tr>\n",
              "    <tr>\n",
              "      <th>Mouse3</th>\n",
              "      <td>4.582350</td>\n",
              "      <td>0.182406</td>\n",
              "      <td>-1.077132</td>\n",
              "      <td>0.127922</td>\n",
              "    </tr>\n",
              "    <tr>\n",
              "      <th>Mouse4</th>\n",
              "      <td>-4.935668</td>\n",
              "      <td>-2.625896</td>\n",
              "      <td>0.508698</td>\n",
              "      <td>-0.377957</td>\n",
              "    </tr>\n",
              "    <tr>\n",
              "      <th>Mouse5</th>\n",
              "      <td>-6.264743</td>\n",
              "      <td>-0.673880</td>\n",
              "      <td>0.321437</td>\n",
              "      <td>0.553774</td>\n",
              "    </tr>\n",
              "    <tr>\n",
              "      <th>Mouse6</th>\n",
              "      <td>-6.513403</td>\n",
              "      <td>2.765180</td>\n",
              "      <td>-0.785657</td>\n",
              "      <td>-0.230685</td>\n",
              "    </tr>\n",
              "  </tbody>\n",
              "</table>\n",
              "</div>\n",
              "      <button class=\"colab-df-convert\" onclick=\"convertToInteractive('df-db44b83d-85df-4a66-adda-bbaf860c413b')\"\n",
              "              title=\"Convert this dataframe to an interactive table.\"\n",
              "              style=\"display:none;\">\n",
              "        \n",
              "  <svg xmlns=\"http://www.w3.org/2000/svg\" height=\"24px\"viewBox=\"0 0 24 24\"\n",
              "       width=\"24px\">\n",
              "    <path d=\"M0 0h24v24H0V0z\" fill=\"none\"/>\n",
              "    <path d=\"M18.56 5.44l.94 2.06.94-2.06 2.06-.94-2.06-.94-.94-2.06-.94 2.06-2.06.94zm-11 1L8.5 8.5l.94-2.06 2.06-.94-2.06-.94L8.5 2.5l-.94 2.06-2.06.94zm10 10l.94 2.06.94-2.06 2.06-.94-2.06-.94-.94-2.06-.94 2.06-2.06.94z\"/><path d=\"M17.41 7.96l-1.37-1.37c-.4-.4-.92-.59-1.43-.59-.52 0-1.04.2-1.43.59L10.3 9.45l-7.72 7.72c-.78.78-.78 2.05 0 2.83L4 21.41c.39.39.9.59 1.41.59.51 0 1.02-.2 1.41-.59l7.78-7.78 2.81-2.81c.8-.78.8-2.07 0-2.86zM5.41 20L4 18.59l7.72-7.72 1.47 1.35L5.41 20z\"/>\n",
              "  </svg>\n",
              "      </button>\n",
              "      \n",
              "  <style>\n",
              "    .colab-df-container {\n",
              "      display:flex;\n",
              "      flex-wrap:wrap;\n",
              "      gap: 12px;\n",
              "    }\n",
              "\n",
              "    .colab-df-convert {\n",
              "      background-color: #E8F0FE;\n",
              "      border: none;\n",
              "      border-radius: 50%;\n",
              "      cursor: pointer;\n",
              "      display: none;\n",
              "      fill: #1967D2;\n",
              "      height: 32px;\n",
              "      padding: 0 0 0 0;\n",
              "      width: 32px;\n",
              "    }\n",
              "\n",
              "    .colab-df-convert:hover {\n",
              "      background-color: #E2EBFA;\n",
              "      box-shadow: 0px 1px 2px rgba(60, 64, 67, 0.3), 0px 1px 3px 1px rgba(60, 64, 67, 0.15);\n",
              "      fill: #174EA6;\n",
              "    }\n",
              "\n",
              "    [theme=dark] .colab-df-convert {\n",
              "      background-color: #3B4455;\n",
              "      fill: #D2E3FC;\n",
              "    }\n",
              "\n",
              "    [theme=dark] .colab-df-convert:hover {\n",
              "      background-color: #434B5C;\n",
              "      box-shadow: 0px 1px 3px 1px rgba(0, 0, 0, 0.15);\n",
              "      filter: drop-shadow(0px 1px 2px rgba(0, 0, 0, 0.3));\n",
              "      fill: #FFFFFF;\n",
              "    }\n",
              "  </style>\n",
              "\n",
              "      <script>\n",
              "        const buttonEl =\n",
              "          document.querySelector('#df-db44b83d-85df-4a66-adda-bbaf860c413b button.colab-df-convert');\n",
              "        buttonEl.style.display =\n",
              "          google.colab.kernel.accessAllowed ? 'block' : 'none';\n",
              "\n",
              "        async function convertToInteractive(key) {\n",
              "          const element = document.querySelector('#df-db44b83d-85df-4a66-adda-bbaf860c413b');\n",
              "          const dataTable =\n",
              "            await google.colab.kernel.invokeFunction('convertToInteractive',\n",
              "                                                     [key], {});\n",
              "          if (!dataTable) return;\n",
              "\n",
              "          const docLinkHtml = 'Like what you see? Visit the ' +\n",
              "            '<a target=\"_blank\" href=https://colab.research.google.com/notebooks/data_table.ipynb>data table notebook</a>'\n",
              "            + ' to learn more about interactive tables.';\n",
              "          element.innerHTML = '';\n",
              "          dataTable['output_type'] = 'display_data';\n",
              "          await google.colab.output.renderOutput(dataTable, element);\n",
              "          const docLink = document.createElement('div');\n",
              "          docLink.innerHTML = docLinkHtml;\n",
              "          element.appendChild(docLink);\n",
              "        }\n",
              "      </script>\n",
              "    </div>\n",
              "  </div>\n",
              "  "
            ]
          },
          "metadata": {},
          "execution_count": 20
        }
      ]
    },
    {
      "cell_type": "code",
      "metadata": {
        "id": "tuGE07c__7Pl",
        "outputId": "35e1ed49-7abe-4322-ebb0-ff3b8d103bf1",
        "colab": {
          "base_uri": "https://localhost:8080/"
        }
      },
      "source": [
        "pca.explained_variance_ratio_"
      ],
      "execution_count": 21,
      "outputs": [
        {
          "output_type": "execute_result",
          "data": {
            "text/plain": [
              "array([0.89284793, 0.07753734, 0.02744545, 0.00216928])"
            ]
          },
          "metadata": {},
          "execution_count": 21
        }
      ]
    },
    {
      "cell_type": "code",
      "metadata": {
        "id": "dxQbq1_aN-2F",
        "outputId": "2c665f96-4b0c-4bfe-ab52-2cb0fecc6d71",
        "colab": {
          "base_uri": "https://localhost:8080/"
        }
      },
      "source": [
        "pca.explained_variance_ratio_.sum()"
      ],
      "execution_count": 22,
      "outputs": [
        {
          "output_type": "execute_result",
          "data": {
            "text/plain": [
              "0.9999999999999999"
            ]
          },
          "metadata": {},
          "execution_count": 22
        }
      ]
    },
    {
      "cell_type": "code",
      "metadata": {
        "id": "Z760hHKn_X8R",
        "outputId": "b068a251-7752-4d0f-dbe6-bad67b40062a",
        "colab": {
          "base_uri": "https://localhost:8080/",
          "height": 470
        }
      },
      "source": [
        "sns.scatterplot(data=pca_proj,  x='Component1',y='Component2')"
      ],
      "execution_count": 23,
      "outputs": [
        {
          "output_type": "execute_result",
          "data": {
            "text/plain": [
              "<Axes: xlabel='Component1', ylabel='Component2'>"
            ]
          },
          "metadata": {},
          "execution_count": 23
        },
        {
          "output_type": "display_data",
          "data": {
            "text/plain": [
              "<Figure size 640x480 with 1 Axes>"
            ],
            "image/png": "[encoded data removed]"
          },
          "metadata": {}
        }
      ]
    },
    {
      "cell_type": "code",
      "metadata": {
        "id": "3YcYg7H2OPhu",
        "outputId": "2e1cfffd-d4a7-4efe-8420-4f1ac37ce336",
        "colab": {
          "base_uri": "https://localhost:8080/",
          "height": 466
        }
      },
      "source": [
        "sns.scatterplot(data=pca_proj,  x='Component2',y='Component3')"
      ],
      "execution_count": 24,
      "outputs": [
        {
          "output_type": "execute_result",
          "data": {
            "text/plain": [
              "<Axes: xlabel='Component2', ylabel='Component3'>"
            ]
          },
          "metadata": {},
          "execution_count": 24
        },
        {
          "output_type": "display_data",
          "data": {
            "text/plain": [
              "<Figure size 640x480 with 1 Axes>"
            ],
            "image/png": "[encoded data removed]"
          },
          "metadata": {}
        }
      ]
    },
    {
      "cell_type": "markdown",
      "metadata": {
        "id": "d0tWwtcW--7p"
      },
      "source": [
        "### NMF"
      ]
    },
    {
      "cell_type": "code",
      "metadata": {
        "id": "mk8PHMDk_DL2"
      },
      "source": [
        "from sklearn.decomposition import NMF"
      ],
      "execution_count": 25,
      "outputs": []
    },
    {
      "cell_type": "code",
      "metadata": {
        "id": "Et3nI2To_HFG"
      },
      "source": [
        "nmf = NMF(n_components=2)"
      ],
      "execution_count": 26,
      "outputs": []
    },
    {
      "cell_type": "code",
      "metadata": {
        "id": "KjLe2uIw_Thb",
        "outputId": "6c71c76b-e779-460d-ec82-e3425c372eba",
        "colab": {
          "base_uri": "https://localhost:8080/",
          "height": 75
        }
      },
      "source": [
        "nmf.fit(df_test)"
      ],
      "execution_count": 27,
      "outputs": [
        {
          "output_type": "execute_result",
          "data": {
            "text/plain": [
              "NMF(n_components=2)"
            ],
            "text/html": [
              "<style>#sk-container-id-3 {color: black;background-color: white;}#sk-container-id-3 pre{padding: 0;}#sk-container-id-3 div.sk-toggleable {background-color: white;}#sk-container-id-3 label.sk-toggleable__label {cursor: pointer;display: block;width: 100%;margin-bottom: 0;padding: 0.3em;box-sizing: border-box;text-align: center;}#sk-container-id-3 label.sk-toggleable__label-arrow:before {content: \"▸\";float: left;margin-right: 0.25em;color: #696969;}#sk-container-id-3 label.sk-toggleable__label-arrow:hover:before {color: black;}#sk-container-id-3 div.sk-estimator:hover label.sk-toggleable__label-arrow:before {color: black;}#sk-container-id-3 div.sk-toggleable__content {max-height: 0;max-width: 0;overflow: hidden;text-align: left;background-color: #f0f8ff;}#sk-container-id-3 div.sk-toggleable__content pre {margin: 0.2em;color: black;border-radius: 0.25em;background-color: #f0f8ff;}#sk-container-id-3 input.sk-toggleable__control:checked~div.sk-toggleable__content {max-height: 200px;max-width: 100%;overflow: auto;}#sk-container-id-3 input.sk-toggleable__control:checked~label.sk-toggleable__label-arrow:before {content: \"▾\";}#sk-container-id-3 div.sk-estimator input.sk-toggleable__control:checked~label.sk-toggleable__label {background-color: #d4ebff;}#sk-container-id-3 div.sk-label input.sk-toggleable__control:checked~label.sk-toggleable__label {background-color: #d4ebff;}#sk-container-id-3 input.sk-hidden--visually {border: 0;clip: rect(1px 1px 1px 1px);clip: rect(1px, 1px, 1px, 1px);height: 1px;margin: -1px;overflow: hidden;padding: 0;position: absolute;width: 1px;}#sk-container-id-3 div.sk-estimator {font-family: monospace;background-color: #f0f8ff;border: 1px dotted black;border-radius: 0.25em;box-sizing: border-box;margin-bottom: 0.5em;}#sk-container-id-3 div.sk-estimator:hover {background-color: #d4ebff;}#sk-container-id-3 div.sk-parallel-item::after {content: \"\";width: 100%;border-bottom: 1px solid gray;flex-grow: 1;}#sk-container-id-3 div.sk-label:hover label.sk-toggleable__label {background-color: #d4ebff;}#sk-container-id-3 div.sk-serial::before {content: \"\";position: absolute;border-left: 1px solid gray;box-sizing: border-box;top: 0;bottom: 0;left: 50%;z-index: 0;}#sk-container-id-3 div.sk-serial {display: flex;flex-direction: column;align-items: center;background-color: white;padding-right: 0.2em;padding-left: 0.2em;position: relative;}#sk-container-id-3 div.sk-item {position: relative;z-index: 1;}#sk-container-id-3 div.sk-parallel {display: flex;align-items: stretch;justify-content: center;background-color: white;position: relative;}#sk-container-id-3 div.sk-item::before, #sk-container-id-3 div.sk-parallel-item::before {content: \"\";position: absolute;border-left: 1px solid gray;box-sizing: border-box;top: 0;bottom: 0;left: 50%;z-index: -1;}#sk-container-id-3 div.sk-parallel-item {display: flex;flex-direction: column;z-index: 1;position: relative;background-color: white;}#sk-container-id-3 div.sk-parallel-item:first-child::after {align-self: flex-end;width: 50%;}#sk-container-id-3 div.sk-parallel-item:last-child::after {align-self: flex-start;width: 50%;}#sk-container-id-3 div.sk-parallel-item:only-child::after {width: 0;}#sk-container-id-3 div.sk-dashed-wrapped {border: 1px dashed gray;margin: 0 0.4em 0.5em 0.4em;box-sizing: border-box;padding-bottom: 0.4em;background-color: white;}#sk-container-id-3 div.sk-label label {font-family: monospace;font-weight: bold;display: inline-block;line-height: 1.2em;}#sk-container-id-3 div.sk-label-container {text-align: center;}#sk-container-id-3 div.sk-container {/* jupyter's `normalize.less` sets `[hidden] { display: none; }` but bootstrap.min.css set `[hidden] { display: none !important; }` so we also need the `!important` here to be able to override the default hidden behavior on the sphinx rendered scikit-learn.org. See: https://github.com/scikit-learn/scikit-learn/issues/21755 */display: inline-block !important;position: relative;}#sk-container-id-3 div.sk-text-repr-fallback {display: none;}</style><div id=\"sk-container-id-3\" class=\"sk-top-container\"><div class=\"sk-text-repr-fallback\"><pre>NMF(n_components=2)</pre><b>In a Jupyter environment, please rerun this cell to show the HTML representation or trust the notebook. <br />On GitHub, the HTML representation is unable to render, please try loading this page with nbviewer.org.</b></div><div class=\"sk-container\" hidden><div class=\"sk-item\"><div class=\"sk-estimator sk-toggleable\"><input class=\"sk-toggleable__control sk-hidden--visually\" id=\"sk-estimator-id-3\" type=\"checkbox\" checked><label for=\"sk-estimator-id-3\" class=\"sk-toggleable__label sk-toggleable__label-arrow\">NMF</label><div class=\"sk-toggleable__content\"><pre>NMF(n_components=2)</pre></div></div></div></div></div>"
            ]
          },
          "metadata": {},
          "execution_count": 27
        }
      ]
    },
    {
      "cell_type": "code",
      "metadata": {
        "id": "_ZH-aqN-ASMG"
      },
      "source": [
        "nmf_proj = pd.DataFrame(nmf.transform(df_test), columns=['Component1','Component2'], index = df_test.index)"
      ],
      "execution_count": 28,
      "outputs": []
    },
    {
      "cell_type": "code",
      "metadata": {
        "id": "lPwQRmiNASMG",
        "outputId": "e1d2ace1-9525-4a7d-cd41-2038488ad5ee",
        "colab": {
          "base_uri": "https://localhost:8080/",
          "height": 238
        }
      },
      "source": [
        "nmf_proj"
      ],
      "execution_count": 29,
      "outputs": [
        {
          "output_type": "execute_result",
          "data": {
            "text/plain": [
              "        Component1  Component2\n",
              "Mouse1    0.398391    1.490266\n",
              "Mouse2    1.179418    1.222209\n",
              "Mouse3    0.954551    1.159240\n",
              "Mouse4    0.373067    0.384430\n",
              "Mouse5    1.163224    0.162742\n",
              "Mouse6    2.135971    0.000000"
            ],
            "text/html": [
              "\n",
              "  <div id=\"df-f5a0c18f-bf47-414d-8266-2c9ff68e3d37\">\n",
              "    <div class=\"colab-df-container\">\n",
              "      <div>\n",
              "<style scoped>\n",
              "    .dataframe tbody tr th:only-of-type {\n",
              "        vertical-align: middle;\n",
              "    }\n",
              "\n",
              "    .dataframe tbody tr th {\n",
              "        vertical-align: top;\n",
              "    }\n",
              "\n",
              "    .dataframe thead th {\n",
              "        text-align: right;\n",
              "    }\n",
              "</style>\n",
              "<table border=\"1\" class=\"dataframe\">\n",
              "  <thead>\n",
              "    <tr style=\"text-align: right;\">\n",
              "      <th></th>\n",
              "      <th>Component1</th>\n",
              "      <th>Component2</th>\n",
              "    </tr>\n",
              "  </thead>\n",
              "  <tbody>\n",
              "    <tr>\n",
              "      <th>Mouse1</th>\n",
              "      <td>0.398391</td>\n",
              "      <td>1.490266</td>\n",
              "    </tr>\n",
              "    <tr>\n",
              "      <th>Mouse2</th>\n",
              "      <td>1.179418</td>\n",
              "      <td>1.222209</td>\n",
              "    </tr>\n",
              "    <tr>\n",
              "      <th>Mouse3</th>\n",
              "      <td>0.954551</td>\n",
              "      <td>1.159240</td>\n",
              "    </tr>\n",
              "    <tr>\n",
              "      <th>Mouse4</th>\n",
              "      <td>0.373067</td>\n",
              "      <td>0.384430</td>\n",
              "    </tr>\n",
              "    <tr>\n",
              "      <th>Mouse5</th>\n",
              "      <td>1.163224</td>\n",
              "      <td>0.162742</td>\n",
              "    </tr>\n",
              "    <tr>\n",
              "      <th>Mouse6</th>\n",
              "      <td>2.135971</td>\n",
              "      <td>0.000000</td>\n",
              "    </tr>\n",
              "  </tbody>\n",
              "</table>\n",
              "</div>\n",
              "      <button class=\"colab-df-convert\" onclick=\"convertToInteractive('df-f5a0c18f-bf47-414d-8266-2c9ff68e3d37')\"\n",
              "              title=\"Convert this dataframe to an interactive table.\"\n",
              "              style=\"display:none;\">\n",
              "        \n",
              "  <svg xmlns=\"http://www.w3.org/2000/svg\" height=\"24px\"viewBox=\"0 0 24 24\"\n",
              "       width=\"24px\">\n",
              "    <path d=\"M0 0h24v24H0V0z\" fill=\"none\"/>\n",
              "    <path d=\"M18.56 5.44l.94 2.06.94-2.06 2.06-.94-2.06-.94-.94-2.06-.94 2.06-2.06.94zm-11 1L8.5 8.5l.94-2.06 2.06-.94-2.06-.94L8.5 2.5l-.94 2.06-2.06.94zm10 10l.94 2.06.94-2.06 2.06-.94-2.06-.94-.94-2.06-.94 2.06-2.06.94z\"/><path d=\"M17.41 7.96l-1.37-1.37c-.4-.4-.92-.59-1.43-.59-.52 0-1.04.2-1.43.59L10.3 9.45l-7.72 7.72c-.78.78-.78 2.05 0 2.83L4 21.41c.39.39.9.59 1.41.59.51 0 1.02-.2 1.41-.59l7.78-7.78 2.81-2.81c.8-.78.8-2.07 0-2.86zM5.41 20L4 18.59l7.72-7.72 1.47 1.35L5.41 20z\"/>\n",
              "  </svg>\n",
              "      </button>\n",
              "      \n",
              "  <style>\n",
              "    .colab-df-container {\n",
              "      display:flex;\n",
              "      flex-wrap:wrap;\n",
              "      gap: 12px;\n",
              "    }\n",
              "\n",
              "    .colab-df-convert {\n",
              "      background-color: #E8F0FE;\n",
              "      border: none;\n",
              "      border-radius: 50%;\n",
              "      cursor: pointer;\n",
              "      display: none;\n",
              "      fill: #1967D2;\n",
              "      height: 32px;\n",
              "      padding: 0 0 0 0;\n",
              "      width: 32px;\n",
              "    }\n",
              "\n",
              "    .colab-df-convert:hover {\n",
              "      background-color: #E2EBFA;\n",
              "      box-shadow: 0px 1px 2px rgba(60, 64, 67, 0.3), 0px 1px 3px 1px rgba(60, 64, 67, 0.15);\n",
              "      fill: #174EA6;\n",
              "    }\n",
              "\n",
              "    [theme=dark] .colab-df-convert {\n",
              "      background-color: #3B4455;\n",
              "      fill: #D2E3FC;\n",
              "    }\n",
              "\n",
              "    [theme=dark] .colab-df-convert:hover {\n",
              "      background-color: #434B5C;\n",
              "      box-shadow: 0px 1px 3px 1px rgba(0, 0, 0, 0.15);\n",
              "      filter: drop-shadow(0px 1px 2px rgba(0, 0, 0, 0.3));\n",
              "      fill: #FFFFFF;\n",
              "    }\n",
              "  </style>\n",
              "\n",
              "      <script>\n",
              "        const buttonEl =\n",
              "          document.querySelector('#df-f5a0c18f-bf47-414d-8266-2c9ff68e3d37 button.colab-df-convert');\n",
              "        buttonEl.style.display =\n",
              "          google.colab.kernel.accessAllowed ? 'block' : 'none';\n",
              "\n",
              "        async function convertToInteractive(key) {\n",
              "          const element = document.querySelector('#df-f5a0c18f-bf47-414d-8266-2c9ff68e3d37');\n",
              "          const dataTable =\n",
              "            await google.colab.kernel.invokeFunction('convertToInteractive',\n",
              "                                                     [key], {});\n",
              "          if (!dataTable) return;\n",
              "\n",
              "          const docLinkHtml = 'Like what you see? Visit the ' +\n",
              "            '<a target=\"_blank\" href=https://colab.research.google.com/notebooks/data_table.ipynb>data table notebook</a>'\n",
              "            + ' to learn more about interactive tables.';\n",
              "          element.innerHTML = '';\n",
              "          dataTable['output_type'] = 'display_data';\n",
              "          await google.colab.output.renderOutput(dataTable, element);\n",
              "          const docLink = document.createElement('div');\n",
              "          docLink.innerHTML = docLinkHtml;\n",
              "          element.appendChild(docLink);\n",
              "        }\n",
              "      </script>\n",
              "    </div>\n",
              "  </div>\n",
              "  "
            ]
          },
          "metadata": {},
          "execution_count": 29
        }
      ]
    },
    {
      "cell_type": "code",
      "metadata": {
        "id": "KRvp0AWFAWFG",
        "outputId": "2ae842b0-9a2c-4708-8a42-1161fe75611e",
        "colab": {
          "base_uri": "https://localhost:8080/",
          "height": 466
        }
      },
      "source": [
        "sns.scatterplot(data=nmf_proj,  x='Component1',y='Component2')"
      ],
      "execution_count": 30,
      "outputs": [
        {
          "output_type": "execute_result",
          "data": {
            "text/plain": [
              "<Axes: xlabel='Component1', ylabel='Component2'>"
            ]
          },
          "metadata": {},
          "execution_count": 30
        },
        {
          "output_type": "display_data",
          "data": {
            "text/plain": [
              "<Figure size 640x480 with 1 Axes>"
            ],
            "image/png": "[encoded data removed]"
          },
          "metadata": {}
        }
      ]
    },
    {
      "cell_type": "code",
      "metadata": {
        "id": "1Mj7BFV_AZLN",
        "outputId": "642a6e42-616f-41bf-a81a-d0aa7dab4087",
        "colab": {
          "base_uri": "https://localhost:8080/"
        }
      },
      "source": [
        "print('Dimensiones de los datos proyectados: ',nmf_proj.shape)\n",
        "print('Dimensiones de la matriz H: ', nmf.components_.shape)"
      ],
      "execution_count": 31,
      "outputs": [
        {
          "output_type": "stream",
          "name": "stdout",
          "text": [
            "Dimensiones de los datos proyectados:  (6, 2)\n",
            "Dimensiones de la matriz H:  (2, 4)\n"
          ]
        }
      ]
    },
    {
      "cell_type": "code",
      "metadata": {
        "id": "R9dbpQJbBDkR",
        "outputId": "84489ec6-5c5f-4f03-a053-6dbfb8baafa4",
        "colab": {
          "base_uri": "https://localhost:8080/"
        }
      },
      "source": [
        "  # X ≈ W x H\n",
        "np.matmul(nmf_proj.to_numpy(),nmf.components_)"
      ],
      "execution_count": 32,
      "outputs": [
        {
          "output_type": "execute_result",
          "data": {
            "text/plain": [
              "array([[10.73346572,  5.63871885, 11.47985872,  5.02704818],\n",
              "       [ 9.38233306,  5.21444676,  9.96496745,  6.88816439],\n",
              "       [ 8.78742093,  4.83225307,  9.34571582,  6.00108175],\n",
              "       [ 2.9525186 ,  1.64158833,  3.13570637,  2.17338147],\n",
              "       [ 1.93312562,  1.39049901,  1.97589085,  4.18031933],\n",
              "       [ 1.45167326,  1.47787714,  1.37776656,  6.9271514 ]])"
            ]
          },
          "metadata": {},
          "execution_count": 32
        }
      ]
    },
    {
      "cell_type": "code",
      "metadata": {
        "id": "Ru69wQimCBuL",
        "outputId": "d02b6f94-e77f-4275-ece0-243f1e87e507",
        "colab": {
          "base_uri": "https://localhost:8080/",
          "height": 238
        }
      },
      "source": [
        "df_test"
      ],
      "execution_count": 33,
      "outputs": [
        {
          "output_type": "execute_result",
          "data": {
            "text/plain": [
              "        Gene1  Gene2  Gene3  Gene4\n",
              "Mouse1     10    6.0   12.0      5\n",
              "Mouse2     11    4.0    9.0      7\n",
              "Mouse3      8    5.0   10.0      6\n",
              "Mouse4      3    3.0    2.5      2\n",
              "Mouse5      2    2.8    1.3      4\n",
              "Mouse6      1    1.0    2.0      7"
            ],
            "text/html": [
              "\n",
              "  <div id=\"df-3a0f3e51-9748-44ce-9bd2-330a339e7b6d\">\n",
              "    <div class=\"colab-df-container\">\n",
              "      <div>\n",
              "<style scoped>\n",
              "    .dataframe tbody tr th:only-of-type {\n",
              "        vertical-align: middle;\n",
              "    }\n",
              "\n",
              "    .dataframe tbody tr th {\n",
              "        vertical-align: top;\n",
              "    }\n",
              "\n",
              "    .dataframe thead th {\n",
              "        text-align: right;\n",
              "    }\n",
              "</style>\n",
              "<table border=\"1\" class=\"dataframe\">\n",
              "  <thead>\n",
              "    <tr style=\"text-align: right;\">\n",
              "      <th></th>\n",
              "      <th>Gene1</th>\n",
              "      <th>Gene2</th>\n",
              "      <th>Gene3</th>\n",
              "      <th>Gene4</th>\n",
              "    </tr>\n",
              "  </thead>\n",
              "  <tbody>\n",
              "    <tr>\n",
              "      <th>Mouse1</th>\n",
              "      <td>10</td>\n",
              "      <td>6.0</td>\n",
              "      <td>12.0</td>\n",
              "      <td>5</td>\n",
              "    </tr>\n",
              "    <tr>\n",
              "      <th>Mouse2</th>\n",
              "      <td>11</td>\n",
              "      <td>4.0</td>\n",
              "      <td>9.0</td>\n",
              "      <td>7</td>\n",
              "    </tr>\n",
              "    <tr>\n",
              "      <th>Mouse3</th>\n",
              "      <td>8</td>\n",
              "      <td>5.0</td>\n",
              "      <td>10.0</td>\n",
              "      <td>6</td>\n",
              "    </tr>\n",
              "    <tr>\n",
              "      <th>Mouse4</th>\n",
              "      <td>3</td>\n",
              "      <td>3.0</td>\n",
              "      <td>2.5</td>\n",
              "      <td>2</td>\n",
              "    </tr>\n",
              "    <tr>\n",
              "      <th>Mouse5</th>\n",
              "      <td>2</td>\n",
              "      <td>2.8</td>\n",
              "      <td>1.3</td>\n",
              "      <td>4</td>\n",
              "    </tr>\n",
              "    <tr>\n",
              "      <th>Mouse6</th>\n",
              "      <td>1</td>\n",
              "      <td>1.0</td>\n",
              "      <td>2.0</td>\n",
              "      <td>7</td>\n",
              "    </tr>\n",
              "  </tbody>\n",
              "</table>\n",
              "</div>\n",
              "      <button class=\"colab-df-convert\" onclick=\"convertToInteractive('df-3a0f3e51-9748-44ce-9bd2-330a339e7b6d')\"\n",
              "              title=\"Convert this dataframe to an interactive table.\"\n",
              "              style=\"display:none;\">\n",
              "        \n",
              "  <svg xmlns=\"http://www.w3.org/2000/svg\" height=\"24px\"viewBox=\"0 0 24 24\"\n",
              "       width=\"24px\">\n",
              "    <path d=\"M0 0h24v24H0V0z\" fill=\"none\"/>\n",
              "    <path d=\"M18.56 5.44l.94 2.06.94-2.06 2.06-.94-2.06-.94-.94-2.06-.94 2.06-2.06.94zm-11 1L8.5 8.5l.94-2.06 2.06-.94-2.06-.94L8.5 2.5l-.94 2.06-2.06.94zm10 10l.94 2.06.94-2.06 2.06-.94-2.06-.94-.94-2.06-.94 2.06-2.06.94z\"/><path d=\"M17.41 7.96l-1.37-1.37c-.4-.4-.92-.59-1.43-.59-.52 0-1.04.2-1.43.59L10.3 9.45l-7.72 7.72c-.78.78-.78 2.05 0 2.83L4 21.41c.39.39.9.59 1.41.59.51 0 1.02-.2 1.41-.59l7.78-7.78 2.81-2.81c.8-.78.8-2.07 0-2.86zM5.41 20L4 18.59l7.72-7.72 1.47 1.35L5.41 20z\"/>\n",
              "  </svg>\n",
              "      </button>\n",
              "      \n",
              "  <style>\n",
              "    .colab-df-container {\n",
              "      display:flex;\n",
              "      flex-wrap:wrap;\n",
              "      gap: 12px;\n",
              "    }\n",
              "\n",
              "    .colab-df-convert {\n",
              "      background-color: #E8F0FE;\n",
              "      border: none;\n",
              "      border-radius: 50%;\n",
              "      cursor: pointer;\n",
              "      display: none;\n",
              "      fill: #1967D2;\n",
              "      height: 32px;\n",
              "      padding: 0 0 0 0;\n",
              "      width: 32px;\n",
              "    }\n",
              "\n",
              "    .colab-df-convert:hover {\n",
              "      background-color: #E2EBFA;\n",
              "      box-shadow: 0px 1px 2px rgba(60, 64, 67, 0.3), 0px 1px 3px 1px rgba(60, 64, 67, 0.15);\n",
              "      fill: #174EA6;\n",
              "    }\n",
              "\n",
              "    [theme=dark] .colab-df-convert {\n",
              "      background-color: #3B4455;\n",
              "      fill: #D2E3FC;\n",
              "    }\n",
              "\n",
              "    [theme=dark] .colab-df-convert:hover {\n",
              "      background-color: #434B5C;\n",
              "      box-shadow: 0px 1px 3px 1px rgba(0, 0, 0, 0.15);\n",
              "      filter: drop-shadow(0px 1px 2px rgba(0, 0, 0, 0.3));\n",
              "      fill: #FFFFFF;\n",
              "    }\n",
              "  </style>\n",
              "\n",
              "      <script>\n",
              "        const buttonEl =\n",
              "          document.querySelector('#df-3a0f3e51-9748-44ce-9bd2-330a339e7b6d button.colab-df-convert');\n",
              "        buttonEl.style.display =\n",
              "          google.colab.kernel.accessAllowed ? 'block' : 'none';\n",
              "\n",
              "        async function convertToInteractive(key) {\n",
              "          const element = document.querySelector('#df-3a0f3e51-9748-44ce-9bd2-330a339e7b6d');\n",
              "          const dataTable =\n",
              "            await google.colab.kernel.invokeFunction('convertToInteractive',\n",
              "                                                     [key], {});\n",
              "          if (!dataTable) return;\n",
              "\n",
              "          const docLinkHtml = 'Like what you see? Visit the ' +\n",
              "            '<a target=\"_blank\" href=https://colab.research.google.com/notebooks/data_table.ipynb>data table notebook</a>'\n",
              "            + ' to learn more about interactive tables.';\n",
              "          element.innerHTML = '';\n",
              "          dataTable['output_type'] = 'display_data';\n",
              "          await google.colab.output.renderOutput(dataTable, element);\n",
              "          const docLink = document.createElement('div');\n",
              "          docLink.innerHTML = docLinkHtml;\n",
              "          element.appendChild(docLink);\n",
              "        }\n",
              "      </script>\n",
              "    </div>\n",
              "  </div>\n",
              "  "
            ]
          },
          "metadata": {},
          "execution_count": 33
        }
      ]
    },
    {
      "cell_type": "code",
      "metadata": {
        "id": "XPgZ8CNCCXve"
      },
      "source": [],
      "execution_count": null,
      "outputs": []
    },
    {
      "cell_type": "markdown",
      "metadata": {
        "id": "rjnpR9a-njQB"
      },
      "source": [
        "# Ejemplo con los datos de pasajeros en Chicago"
      ]
    },
    {
      "cell_type": "code",
      "metadata": {
        "id": "bBRl7VGfALex"
      },
      "source": [
        "!mkdir data"
      ],
      "execution_count": 34,
      "outputs": []
    },
    {
      "cell_type": "code",
      "metadata": {
        "id": "YR1uTokC8Wzi",
        "outputId": "dcf33925-a92f-4b86-9cf4-9ce6027724d8",
        "colab": {
          "base_uri": "https://localhost:8080/"
        }
      },
      "source": [
        "import gdown\n",
        "\n",
        "urls = ['https://drive.google.com/uc?export=download&id=1QvHTL7yok7oHX0TmuSm8OMpvxnItjT_s', # training  https://drive.google.com/file/d/1QvHTL7yok7oHX0TmuSm8OMpvxnItjT_s/view?usp=sharing  \n",
        "        'https://drive.google.com/uc?export=download&id=1nWcvoCkgUeCr-AT45JSsqKcSBUr1YbpU', # testing https://drive.google.com/file/d/1nWcvoCkgUeCr-AT45JSsqKcSBUr1YbpU/view?usp=sharing\n",
        "        'https://drive.google.com/uc?export=download&id=1LIK0YFER5ve9Wn7Uap4Zb6f5pXcAExZ-', # train_days   https://drive.google.com/file/d/1LIK0YFER5ve9Wn7Uap4Zb6f5pXcAExZ-/view?usp=sharing \n",
        "        'https://drive.google.com/uc?export=download&id=16AGQw1nM9NYILv2aSZaSNSn9jBPByWPq', # okc_train  https://drive.google.com/file/d/16AGQw1nM9NYILv2aSZaSNSn9jBPByWPq/view?usp=sharing\n",
        "        ]\n",
        "outputs = ['training_proj.csv','testing_proj.csv', 'train_days.csv','okc_train.csv']\n",
        "\n",
        "for url,output in zip(urls,outputs):\n",
        "  gdown.download(url, f'data/{output}', quiet=False)"
      ],
      "execution_count": 35,
      "outputs": [
        {
          "output_type": "stream",
          "name": "stderr",
          "text": [
            "Downloading...\n",
            "From: https://drive.google.com/uc?export=download&id=1QvHTL7yok7oHX0TmuSm8OMpvxnItjT_s\n",
            "To: /content/data/training_proj.csv\n",
            "100%|██████████| 35.2M/35.2M [00:00<00:00, 211MB/s]\n",
            "Downloading...\n",
            "From: https://drive.google.com/uc?export=download&id=1nWcvoCkgUeCr-AT45JSsqKcSBUr1YbpU\n",
            "To: /content/data/testing_proj.csv\n",
            "100%|██████████| 101k/101k [00:00<00:00, 38.1MB/s]\n",
            "Downloading...\n",
            "From: https://drive.google.com/uc?export=download&id=1LIK0YFER5ve9Wn7Uap4Zb6f5pXcAExZ-\n",
            "To: /content/data/train_days.csv\n",
            "100%|██████████| 107k/107k [00:00<00:00, 55.9MB/s]\n",
            "Downloading...\n",
            "From: https://drive.google.com/uc?export=download&id=16AGQw1nM9NYILv2aSZaSNSn9jBPByWPq\n",
            "To: /content/data/okc_train.csv\n",
            "100%|██████████| 12.3M/12.3M [00:00<00:00, 188MB/s]\n"
          ]
        }
      ]
    },
    {
      "cell_type": "code",
      "metadata": {
        "id": "E0mp-gb-npxS"
      },
      "source": [
        "training = pd.read_csv('data/training_proj.csv', parse_dates=True, index_col=0)\n",
        "testing = pd.read_csv('data/testing_proj.csv', parse_dates=True, index_col=1)\n",
        "train_days = pd.read_csv('data/train_days.csv',index_col=1, parse_dates=True)"
      ],
      "execution_count": 36,
      "outputs": []
    },
    {
      "cell_type": "code",
      "metadata": {
        "id": "SqxiddoXoM29",
        "outputId": "c35a3dda-3a23-4c81-cc88-3576acdddd17",
        "colab": {
          "base_uri": "https://localhost:8080/",
          "height": 300
        }
      },
      "source": [
        "training.head()"
      ],
      "execution_count": 37,
      "outputs": [
        {
          "output_type": "execute_result",
          "data": {
            "text/plain": [
              "   s_40380  dow  doy  week month  year  Advent1st  Advent2nd  Advent3rd  \\\n",
              "1   15.732  Mon   22     4   Jan  2001          0          0          0   \n",
              "2   15.762  Tue   23     4   Jan  2001          0          0          0   \n",
              "3   15.872  Wed   24     4   Jan  2001          0          0          0   \n",
              "4   15.874  Thu   25     4   Jan  2001          0          0          0   \n",
              "5   15.423  Fri   26     4   Jan  2001          0          0          0   \n",
              "\n",
              "   Advent4th  ...  Bulls_Away  Bulls_Home  Bears_Away  Bears_Home  \\\n",
              "1          0  ...           0           0           0           0   \n",
              "2          0  ...           0           1           0           0   \n",
              "3          0  ...           1           0           0           0   \n",
              "4          0  ...           0           0           0           0   \n",
              "5          0  ...           0           0           0           0   \n",
              "\n",
              "   WhiteSox_Away  WhiteSox_Home  Cubs_Away  Cubs_Home  l14_gas_price  \\\n",
              "1              0              0          0          0          1.516   \n",
              "2              0              0          0          0          1.516   \n",
              "3              0              0          0          0          1.516   \n",
              "4              0              0          0          0          1.516   \n",
              "5              0              0          0          0          1.516   \n",
              "\n",
              "   l30_unemployment_rate  \n",
              "1                    NaN  \n",
              "2                    NaN  \n",
              "3                    NaN  \n",
              "4                    NaN  \n",
              "5                    NaN  \n",
              "\n",
              "[5 rows x 1091 columns]"
            ],
            "text/html": [
              "\n",
              "  <div id=\"df-78c34779-456c-44db-9fb7-87ee5d8a27fb\">\n",
              "    <div class=\"colab-df-container\">\n",
              "      <div>\n",
              "<style scoped>\n",
              "    .dataframe tbody tr th:only-of-type {\n",
              "        vertical-align: middle;\n",
              "    }\n",
              "\n",
              "    .dataframe tbody tr th {\n",
              "        vertical-align: top;\n",
              "    }\n",
              "\n",
              "    .dataframe thead th {\n",
              "        text-align: right;\n",
              "    }\n",
              "</style>\n",
              "<table border=\"1\" class=\"dataframe\">\n",
              "  <thead>\n",
              "    <tr style=\"text-align: right;\">\n",
              "      <th></th>\n",
              "      <th>s_40380</th>\n",
              "      <th>dow</th>\n",
              "      <th>doy</th>\n",
              "      <th>week</th>\n",
              "      <th>month</th>\n",
              "      <th>year</th>\n",
              "      <th>Advent1st</th>\n",
              "      <th>Advent2nd</th>\n",
              "      <th>Advent3rd</th>\n",
              "      <th>Advent4th</th>\n",
              "      <th>...</th>\n",
              "      <th>Bulls_Away</th>\n",
              "      <th>Bulls_Home</th>\n",
              "      <th>Bears_Away</th>\n",
              "      <th>Bears_Home</th>\n",
              "      <th>WhiteSox_Away</th>\n",
              "      <th>WhiteSox_Home</th>\n",
              "      <th>Cubs_Away</th>\n",
              "      <th>Cubs_Home</th>\n",
              "      <th>l14_gas_price</th>\n",
              "      <th>l30_unemployment_rate</th>\n",
              "    </tr>\n",
              "  </thead>\n",
              "  <tbody>\n",
              "    <tr>\n",
              "      <th>1</th>\n",
              "      <td>15.732</td>\n",
              "      <td>Mon</td>\n",
              "      <td>22</td>\n",
              "      <td>4</td>\n",
              "      <td>Jan</td>\n",
              "      <td>2001</td>\n",
              "      <td>0</td>\n",
              "      <td>0</td>\n",
              "      <td>0</td>\n",
              "      <td>0</td>\n",
              "      <td>...</td>\n",
              "      <td>0</td>\n",
              "      <td>0</td>\n",
              "      <td>0</td>\n",
              "      <td>0</td>\n",
              "      <td>0</td>\n",
              "      <td>0</td>\n",
              "      <td>0</td>\n",
              "      <td>0</td>\n",
              "      <td>1.516</td>\n",
              "      <td>NaN</td>\n",
              "    </tr>\n",
              "    <tr>\n",
              "      <th>2</th>\n",
              "      <td>15.762</td>\n",
              "      <td>Tue</td>\n",
              "      <td>23</td>\n",
              "      <td>4</td>\n",
              "      <td>Jan</td>\n",
              "      <td>2001</td>\n",
              "      <td>0</td>\n",
              "      <td>0</td>\n",
              "      <td>0</td>\n",
              "      <td>0</td>\n",
              "      <td>...</td>\n",
              "      <td>0</td>\n",
              "      <td>1</td>\n",
              "      <td>0</td>\n",
              "      <td>0</td>\n",
              "      <td>0</td>\n",
              "      <td>0</td>\n",
              "      <td>0</td>\n",
              "      <td>0</td>\n",
              "      <td>1.516</td>\n",
              "      <td>NaN</td>\n",
              "    </tr>\n",
              "    <tr>\n",
              "      <th>3</th>\n",
              "      <td>15.872</td>\n",
              "      <td>Wed</td>\n",
              "      <td>24</td>\n",
              "      <td>4</td>\n",
              "      <td>Jan</td>\n",
              "      <td>2001</td>\n",
              "      <td>0</td>\n",
              "      <td>0</td>\n",
              "      <td>0</td>\n",
              "      <td>0</td>\n",
              "      <td>...</td>\n",
              "      <td>1</td>\n",
              "      <td>0</td>\n",
              "      <td>0</td>\n",
              "      <td>0</td>\n",
              "      <td>0</td>\n",
              "      <td>0</td>\n",
              "      <td>0</td>\n",
              "      <td>0</td>\n",
              "      <td>1.516</td>\n",
              "      <td>NaN</td>\n",
              "    </tr>\n",
              "    <tr>\n",
              "      <th>4</th>\n",
              "      <td>15.874</td>\n",
              "      <td>Thu</td>\n",
              "      <td>25</td>\n",
              "      <td>4</td>\n",
              "      <td>Jan</td>\n",
              "      <td>2001</td>\n",
              "      <td>0</td>\n",
              "      <td>0</td>\n",
              "      <td>0</td>\n",
              "      <td>0</td>\n",
              "      <td>...</td>\n",
              "      <td>0</td>\n",
              "      <td>0</td>\n",
              "      <td>0</td>\n",
              "      <td>0</td>\n",
              "      <td>0</td>\n",
              "      <td>0</td>\n",
              "      <td>0</td>\n",
              "      <td>0</td>\n",
              "      <td>1.516</td>\n",
              "      <td>NaN</td>\n",
              "    </tr>\n",
              "    <tr>\n",
              "      <th>5</th>\n",
              "      <td>15.423</td>\n",
              "      <td>Fri</td>\n",
              "      <td>26</td>\n",
              "      <td>4</td>\n",
              "      <td>Jan</td>\n",
              "      <td>2001</td>\n",
              "      <td>0</td>\n",
              "      <td>0</td>\n",
              "      <td>0</td>\n",
              "      <td>0</td>\n",
              "      <td>...</td>\n",
              "      <td>0</td>\n",
              "      <td>0</td>\n",
              "      <td>0</td>\n",
              "      <td>0</td>\n",
              "      <td>0</td>\n",
              "      <td>0</td>\n",
              "      <td>0</td>\n",
              "      <td>0</td>\n",
              "      <td>1.516</td>\n",
              "      <td>NaN</td>\n",
              "    </tr>\n",
              "  </tbody>\n",
              "</table>\n",
              "<p>5 rows × 1091 columns</p>\n",
              "</div>\n",
              "      <button class=\"colab-df-convert\" onclick=\"convertToInteractive('df-78c34779-456c-44db-9fb7-87ee5d8a27fb')\"\n",
              "              title=\"Convert this dataframe to an interactive table.\"\n",
              "              style=\"display:none;\">\n",
              "        \n",
              "  <svg xmlns=\"http://www.w3.org/2000/svg\" height=\"24px\"viewBox=\"0 0 24 24\"\n",
              "       width=\"24px\">\n",
              "    <path d=\"M0 0h24v24H0V0z\" fill=\"none\"/>\n",
              "    <path d=\"M18.56 5.44l.94 2.06.94-2.06 2.06-.94-2.06-.94-.94-2.06-.94 2.06-2.06.94zm-11 1L8.5 8.5l.94-2.06 2.06-.94-2.06-.94L8.5 2.5l-.94 2.06-2.06.94zm10 10l.94 2.06.94-2.06 2.06-.94-2.06-.94-.94-2.06-.94 2.06-2.06.94z\"/><path d=\"M17.41 7.96l-1.37-1.37c-.4-.4-.92-.59-1.43-.59-.52 0-1.04.2-1.43.59L10.3 9.45l-7.72 7.72c-.78.78-.78 2.05 0 2.83L4 21.41c.39.39.9.59 1.41.59.51 0 1.02-.2 1.41-.59l7.78-7.78 2.81-2.81c.8-.78.8-2.07 0-2.86zM5.41 20L4 18.59l7.72-7.72 1.47 1.35L5.41 20z\"/>\n",
              "  </svg>\n",
              "      </button>\n",
              "      \n",
              "  <style>\n",
              "    .colab-df-container {\n",
              "      display:flex;\n",
              "      flex-wrap:wrap;\n",
              "      gap: 12px;\n",
              "    }\n",
              "\n",
              "    .colab-df-convert {\n",
              "      background-color: #E8F0FE;\n",
              "      border: none;\n",
              "      border-radius: 50%;\n",
              "      cursor: pointer;\n",
              "      display: none;\n",
              "      fill: #1967D2;\n",
              "      height: 32px;\n",
              "      padding: 0 0 0 0;\n",
              "      width: 32px;\n",
              "    }\n",
              "\n",
              "    .colab-df-convert:hover {\n",
              "      background-color: #E2EBFA;\n",
              "      box-shadow: 0px 1px 2px rgba(60, 64, 67, 0.3), 0px 1px 3px 1px rgba(60, 64, 67, 0.15);\n",
              "      fill: #174EA6;\n",
              "    }\n",
              "\n",
              "    [theme=dark] .colab-df-convert {\n",
              "      background-color: #3B4455;\n",
              "      fill: #D2E3FC;\n",
              "    }\n",
              "\n",
              "    [theme=dark] .colab-df-convert:hover {\n",
              "      background-color: #434B5C;\n",
              "      box-shadow: 0px 1px 3px 1px rgba(0, 0, 0, 0.15);\n",
              "      filter: drop-shadow(0px 1px 2px rgba(0, 0, 0, 0.3));\n",
              "      fill: #FFFFFF;\n",
              "    }\n",
              "  </style>\n",
              "\n",
              "      <script>\n",
              "        const buttonEl =\n",
              "          document.querySelector('#df-78c34779-456c-44db-9fb7-87ee5d8a27fb button.colab-df-convert');\n",
              "        buttonEl.style.display =\n",
              "          google.colab.kernel.accessAllowed ? 'block' : 'none';\n",
              "\n",
              "        async function convertToInteractive(key) {\n",
              "          const element = document.querySelector('#df-78c34779-456c-44db-9fb7-87ee5d8a27fb');\n",
              "          const dataTable =\n",
              "            await google.colab.kernel.invokeFunction('convertToInteractive',\n",
              "                                                     [key], {});\n",
              "          if (!dataTable) return;\n",
              "\n",
              "          const docLinkHtml = 'Like what you see? Visit the ' +\n",
              "            '<a target=\"_blank\" href=https://colab.research.google.com/notebooks/data_table.ipynb>data table notebook</a>'\n",
              "            + ' to learn more about interactive tables.';\n",
              "          element.innerHTML = '';\n",
              "          dataTable['output_type'] = 'display_data';\n",
              "          await google.colab.output.renderOutput(dataTable, element);\n",
              "          const docLink = document.createElement('div');\n",
              "          docLink.innerHTML = docLinkHtml;\n",
              "          element.appendChild(docLink);\n",
              "        }\n",
              "      </script>\n",
              "    </div>\n",
              "  </div>\n",
              "  "
            ]
          },
          "metadata": {},
          "execution_count": 37
        }
      ]
    },
    {
      "cell_type": "code",
      "metadata": {
        "id": "iCX6-Rm6sUon",
        "outputId": "34adc71c-1980-4da2-959c-bdf58e281cd1",
        "colab": {
          "base_uri": "https://localhost:8080/",
          "height": 874
        }
      },
      "source": [
        "testing"
      ],
      "execution_count": 38,
      "outputs": [
        {
          "output_type": "execute_result",
          "data": {
            "text/plain": [
              "            Unnamed: 0  s_40380  dow  doy  week month  year  Advent1st  \\\n",
              "date                                                                     \n",
              "2016-08-29           1   21.137  Mon  242    35   Aug  2016          0   \n",
              "2016-08-30           2   21.464  Tue  243    35   Aug  2016          0   \n",
              "2016-08-31           3   21.738  Wed  244    35   Aug  2016          0   \n",
              "2016-09-01           4   21.482  Thu  245    35   Sep  2016          0   \n",
              "2016-09-02           5   19.790  Fri  246    36   Sep  2016          0   \n",
              "2016-09-03           6    6.906  Sat  247    36   Sep  2016          0   \n",
              "2016-09-04           7    6.196  Sun  248    36   Sep  2016          0   \n",
              "2016-09-05           8    5.832  Mon  249    36   Sep  2016          0   \n",
              "2016-09-06           9   21.117  Tue  250    36   Sep  2016          0   \n",
              "2016-09-07          10   20.813  Wed  251    36   Sep  2016          0   \n",
              "2016-09-08          11   21.648  Thu  252    36   Sep  2016          0   \n",
              "2016-09-09          12   21.118  Fri  253    37   Sep  2016          0   \n",
              "2016-09-10          13    6.203  Sat  254    37   Sep  2016          0   \n",
              "2016-09-11          14    5.333  Sun  255    37   Sep  2016          0   \n",
              "\n",
              "            Advent2nd  Advent3rd  ...  Bulls_Away  Bulls_Home  Bears_Away  \\\n",
              "date                              ...                                       \n",
              "2016-08-29          0          0  ...           0           0           0   \n",
              "2016-08-30          0          0  ...           0           0           0   \n",
              "2016-08-31          0          0  ...           0           0           0   \n",
              "2016-09-01          0          0  ...           0           0           1   \n",
              "2016-09-02          0          0  ...           0           0           0   \n",
              "2016-09-03          0          0  ...           0           0           0   \n",
              "2016-09-04          0          0  ...           0           0           0   \n",
              "2016-09-05          0          0  ...           0           0           0   \n",
              "2016-09-06          0          0  ...           0           0           0   \n",
              "2016-09-07          0          0  ...           0           0           0   \n",
              "2016-09-08          0          0  ...           0           0           0   \n",
              "2016-09-09          0          0  ...           0           0           0   \n",
              "2016-09-10          0          0  ...           0           0           0   \n",
              "2016-09-11          0          0  ...           0           0           1   \n",
              "\n",
              "            Bears_Home  WhiteSox_Away  WhiteSox_Home  Cubs_Away  Cubs_Home  \\\n",
              "date                                                                         \n",
              "2016-08-29           0              1              1          1          1   \n",
              "2016-08-30           0              1              1          1          1   \n",
              "2016-08-31           0              1              1          1          1   \n",
              "2016-09-01           0              1              1          1          1   \n",
              "2016-09-02           0              1              1          1          1   \n",
              "2016-09-03           0              1              1          1          1   \n",
              "2016-09-04           0              1              1          1          1   \n",
              "2016-09-05           0              1              1          1          1   \n",
              "2016-09-06           0              1              1          1          1   \n",
              "2016-09-07           0              1              1          1          1   \n",
              "2016-09-08           0              0              0          0          0   \n",
              "2016-09-09           0              1              1          1          1   \n",
              "2016-09-10           0              1              1          1          1   \n",
              "2016-09-11           0              1              1          1          1   \n",
              "\n",
              "            l14_gas_price  l30_unemployment_rate  \n",
              "date                                              \n",
              "2016-08-29          2.380                    5.8  \n",
              "2016-08-30          2.380                    5.8  \n",
              "2016-08-31          2.380                    5.8  \n",
              "2016-09-01          2.380                    5.8  \n",
              "2016-09-02          2.479                    5.8  \n",
              "2016-09-03          2.479                    5.8  \n",
              "2016-09-04          2.479                    5.8  \n",
              "2016-09-05          2.479                    5.8  \n",
              "2016-09-06          2.479                    5.8  \n",
              "2016-09-07          2.479                    5.8  \n",
              "2016-09-08          2.479                    5.8  \n",
              "2016-09-09          2.556                    5.8  \n",
              "2016-09-10          2.556                    5.8  \n",
              "2016-09-11          2.556                    5.8  \n",
              "\n",
              "[14 rows x 1092 columns]"
            ],
            "text/html": [
              "\n",
              "  <div id=\"df-29bc2ff4-bdac-4e2a-8228-de8a7ea8cc33\">\n",
              "    <div class=\"colab-df-container\">\n",
              "      <div>\n",
              "<style scoped>\n",
              "    .dataframe tbody tr th:only-of-type {\n",
              "        vertical-align: middle;\n",
              "    }\n",
              "\n",
              "    .dataframe tbody tr th {\n",
              "        vertical-align: top;\n",
              "    }\n",
              "\n",
              "    .dataframe thead th {\n",
              "        text-align: right;\n",
              "    }\n",
              "</style>\n",
              "<table border=\"1\" class=\"dataframe\">\n",
              "  <thead>\n",
              "    <tr style=\"text-align: right;\">\n",
              "      <th></th>\n",
              "      <th>Unnamed: 0</th>\n",
              "      <th>s_40380</th>\n",
              "      <th>dow</th>\n",
              "      <th>doy</th>\n",
              "      <th>week</th>\n",
              "      <th>month</th>\n",
              "      <th>year</th>\n",
              "      <th>Advent1st</th>\n",
              "      <th>Advent2nd</th>\n",
              "      <th>Advent3rd</th>\n",
              "      <th>...</th>\n",
              "      <th>Bulls_Away</th>\n",
              "      <th>Bulls_Home</th>\n",
              "      <th>Bears_Away</th>\n",
              "      <th>Bears_Home</th>\n",
              "      <th>WhiteSox_Away</th>\n",
              "      <th>WhiteSox_Home</th>\n",
              "      <th>Cubs_Away</th>\n",
              "      <th>Cubs_Home</th>\n",
              "      <th>l14_gas_price</th>\n",
              "      <th>l30_unemployment_rate</th>\n",
              "    </tr>\n",
              "    <tr>\n",
              "      <th>date</th>\n",
              "      <th></th>\n",
              "      <th></th>\n",
              "      <th></th>\n",
              "      <th></th>\n",
              "      <th></th>\n",
              "      <th></th>\n",
              "      <th></th>\n",
              "      <th></th>\n",
              "      <th></th>\n",
              "      <th></th>\n",
              "      <th></th>\n",
              "      <th></th>\n",
              "      <th></th>\n",
              "      <th></th>\n",
              "      <th></th>\n",
              "      <th></th>\n",
              "      <th></th>\n",
              "      <th></th>\n",
              "      <th></th>\n",
              "      <th></th>\n",
              "      <th></th>\n",
              "    </tr>\n",
              "  </thead>\n",
              "  <tbody>\n",
              "    <tr>\n",
              "      <th>2016-08-29</th>\n",
              "      <td>1</td>\n",
              "      <td>21.137</td>\n",
              "      <td>Mon</td>\n",
              "      <td>242</td>\n",
              "      <td>35</td>\n",
              "      <td>Aug</td>\n",
              "      <td>2016</td>\n",
              "      <td>0</td>\n",
              "      <td>0</td>\n",
              "      <td>0</td>\n",
              "      <td>...</td>\n",
              "      <td>0</td>\n",
              "      <td>0</td>\n",
              "      <td>0</td>\n",
              "      <td>0</td>\n",
              "      <td>1</td>\n",
              "      <td>1</td>\n",
              "      <td>1</td>\n",
              "      <td>1</td>\n",
              "      <td>2.380</td>\n",
              "      <td>5.8</td>\n",
              "    </tr>\n",
              "    <tr>\n",
              "      <th>2016-08-30</th>\n",
              "      <td>2</td>\n",
              "      <td>21.464</td>\n",
              "      <td>Tue</td>\n",
              "      <td>243</td>\n",
              "      <td>35</td>\n",
              "      <td>Aug</td>\n",
              "      <td>2016</td>\n",
              "      <td>0</td>\n",
              "      <td>0</td>\n",
              "      <td>0</td>\n",
              "      <td>...</td>\n",
              "      <td>0</td>\n",
              "      <td>0</td>\n",
              "      <td>0</td>\n",
              "      <td>0</td>\n",
              "      <td>1</td>\n",
              "      <td>1</td>\n",
              "      <td>1</td>\n",
              "      <td>1</td>\n",
              "      <td>2.380</td>\n",
              "      <td>5.8</td>\n",
              "    </tr>\n",
              "    <tr>\n",
              "      <th>2016-08-31</th>\n",
              "      <td>3</td>\n",
              "      <td>21.738</td>\n",
              "      <td>Wed</td>\n",
              "      <td>244</td>\n",
              "      <td>35</td>\n",
              "      <td>Aug</td>\n",
              "      <td>2016</td>\n",
              "      <td>0</td>\n",
              "      <td>0</td>\n",
              "      <td>0</td>\n",
              "      <td>...</td>\n",
              "      <td>0</td>\n",
              "      <td>0</td>\n",
              "      <td>0</td>\n",
              "      <td>0</td>\n",
              "      <td>1</td>\n",
              "      <td>1</td>\n",
              "      <td>1</td>\n",
              "      <td>1</td>\n",
              "      <td>2.380</td>\n",
              "      <td>5.8</td>\n",
              "    </tr>\n",
              "    <tr>\n",
              "      <th>2016-09-01</th>\n",
              "      <td>4</td>\n",
              "      <td>21.482</td>\n",
              "      <td>Thu</td>\n",
              "      <td>245</td>\n",
              "      <td>35</td>\n",
              "      <td>Sep</td>\n",
              "      <td>2016</td>\n",
              "      <td>0</td>\n",
              "      <td>0</td>\n",
              "      <td>0</td>\n",
              "      <td>...</td>\n",
              "      <td>0</td>\n",
              "      <td>0</td>\n",
              "      <td>1</td>\n",
              "      <td>0</td>\n",
              "      <td>1</td>\n",
              "      <td>1</td>\n",
              "      <td>1</td>\n",
              "      <td>1</td>\n",
              "      <td>2.380</td>\n",
              "      <td>5.8</td>\n",
              "    </tr>\n",
              "    <tr>\n",
              "      <th>2016-09-02</th>\n",
              "      <td>5</td>\n",
              "      <td>19.790</td>\n",
              "      <td>Fri</td>\n",
              "      <td>246</td>\n",
              "      <td>36</td>\n",
              "      <td>Sep</td>\n",
              "      <td>2016</td>\n",
              "      <td>0</td>\n",
              "      <td>0</td>\n",
              "      <td>0</td>\n",
              "      <td>...</td>\n",
              "      <td>0</td>\n",
              "      <td>0</td>\n",
              "      <td>0</td>\n",
              "      <td>0</td>\n",
              "      <td>1</td>\n",
              "      <td>1</td>\n",
              "      <td>1</td>\n",
              "      <td>1</td>\n",
              "      <td>2.479</td>\n",
              "      <td>5.8</td>\n",
              "    </tr>\n",
              "    <tr>\n",
              "      <th>2016-09-03</th>\n",
              "      <td>6</td>\n",
              "      <td>6.906</td>\n",
              "      <td>Sat</td>\n",
              "      <td>247</td>\n",
              "      <td>36</td>\n",
              "      <td>Sep</td>\n",
              "      <td>2016</td>\n",
              "      <td>0</td>\n",
              "      <td>0</td>\n",
              "      <td>0</td>\n",
              "      <td>...</td>\n",
              "      <td>0</td>\n",
              "      <td>0</td>\n",
              "      <td>0</td>\n",
              "      <td>0</td>\n",
              "      <td>1</td>\n",
              "      <td>1</td>\n",
              "      <td>1</td>\n",
              "      <td>1</td>\n",
              "      <td>2.479</td>\n",
              "      <td>5.8</td>\n",
              "    </tr>\n",
              "    <tr>\n",
              "      <th>2016-09-04</th>\n",
              "      <td>7</td>\n",
              "      <td>6.196</td>\n",
              "      <td>Sun</td>\n",
              "      <td>248</td>\n",
              "      <td>36</td>\n",
              "      <td>Sep</td>\n",
              "      <td>2016</td>\n",
              "      <td>0</td>\n",
              "      <td>0</td>\n",
              "      <td>0</td>\n",
              "      <td>...</td>\n",
              "      <td>0</td>\n",
              "      <td>0</td>\n",
              "      <td>0</td>\n",
              "      <td>0</td>\n",
              "      <td>1</td>\n",
              "      <td>1</td>\n",
              "      <td>1</td>\n",
              "      <td>1</td>\n",
              "      <td>2.479</td>\n",
              "      <td>5.8</td>\n",
              "    </tr>\n",
              "    <tr>\n",
              "      <th>2016-09-05</th>\n",
              "      <td>8</td>\n",
              "      <td>5.832</td>\n",
              "      <td>Mon</td>\n",
              "      <td>249</td>\n",
              "      <td>36</td>\n",
              "      <td>Sep</td>\n",
              "      <td>2016</td>\n",
              "      <td>0</td>\n",
              "      <td>0</td>\n",
              "      <td>0</td>\n",
              "      <td>...</td>\n",
              "      <td>0</td>\n",
              "      <td>0</td>\n",
              "      <td>0</td>\n",
              "      <td>0</td>\n",
              "      <td>1</td>\n",
              "      <td>1</td>\n",
              "      <td>1</td>\n",
              "      <td>1</td>\n",
              "      <td>2.479</td>\n",
              "      <td>5.8</td>\n",
              "    </tr>\n",
              "    <tr>\n",
              "      <th>2016-09-06</th>\n",
              "      <td>9</td>\n",
              "      <td>21.117</td>\n",
              "      <td>Tue</td>\n",
              "      <td>250</td>\n",
              "      <td>36</td>\n",
              "      <td>Sep</td>\n",
              "      <td>2016</td>\n",
              "      <td>0</td>\n",
              "      <td>0</td>\n",
              "      <td>0</td>\n",
              "      <td>...</td>\n",
              "      <td>0</td>\n",
              "      <td>0</td>\n",
              "      <td>0</td>\n",
              "      <td>0</td>\n",
              "      <td>1</td>\n",
              "      <td>1</td>\n",
              "      <td>1</td>\n",
              "      <td>1</td>\n",
              "      <td>2.479</td>\n",
              "      <td>5.8</td>\n",
              "    </tr>\n",
              "    <tr>\n",
              "      <th>2016-09-07</th>\n",
              "      <td>10</td>\n",
              "      <td>20.813</td>\n",
              "      <td>Wed</td>\n",
              "      <td>251</td>\n",
              "      <td>36</td>\n",
              "      <td>Sep</td>\n",
              "      <td>2016</td>\n",
              "      <td>0</td>\n",
              "      <td>0</td>\n",
              "      <td>0</td>\n",
              "      <td>...</td>\n",
              "      <td>0</td>\n",
              "      <td>0</td>\n",
              "      <td>0</td>\n",
              "      <td>0</td>\n",
              "      <td>1</td>\n",
              "      <td>1</td>\n",
              "      <td>1</td>\n",
              "      <td>1</td>\n",
              "      <td>2.479</td>\n",
              "      <td>5.8</td>\n",
              "    </tr>\n",
              "    <tr>\n",
              "      <th>2016-09-08</th>\n",
              "      <td>11</td>\n",
              "      <td>21.648</td>\n",
              "      <td>Thu</td>\n",
              "      <td>252</td>\n",
              "      <td>36</td>\n",
              "      <td>Sep</td>\n",
              "      <td>2016</td>\n",
              "      <td>0</td>\n",
              "      <td>0</td>\n",
              "      <td>0</td>\n",
              "      <td>...</td>\n",
              "      <td>0</td>\n",
              "      <td>0</td>\n",
              "      <td>0</td>\n",
              "      <td>0</td>\n",
              "      <td>0</td>\n",
              "      <td>0</td>\n",
              "      <td>0</td>\n",
              "      <td>0</td>\n",
              "      <td>2.479</td>\n",
              "      <td>5.8</td>\n",
              "    </tr>\n",
              "    <tr>\n",
              "      <th>2016-09-09</th>\n",
              "      <td>12</td>\n",
              "      <td>21.118</td>\n",
              "      <td>Fri</td>\n",
              "      <td>253</td>\n",
              "      <td>37</td>\n",
              "      <td>Sep</td>\n",
              "      <td>2016</td>\n",
              "      <td>0</td>\n",
              "      <td>0</td>\n",
              "      <td>0</td>\n",
              "      <td>...</td>\n",
              "      <td>0</td>\n",
              "      <td>0</td>\n",
              "      <td>0</td>\n",
              "      <td>0</td>\n",
              "      <td>1</td>\n",
              "      <td>1</td>\n",
              "      <td>1</td>\n",
              "      <td>1</td>\n",
              "      <td>2.556</td>\n",
              "      <td>5.8</td>\n",
              "    </tr>\n",
              "    <tr>\n",
              "      <th>2016-09-10</th>\n",
              "      <td>13</td>\n",
              "      <td>6.203</td>\n",
              "      <td>Sat</td>\n",
              "      <td>254</td>\n",
              "      <td>37</td>\n",
              "      <td>Sep</td>\n",
              "      <td>2016</td>\n",
              "      <td>0</td>\n",
              "      <td>0</td>\n",
              "      <td>0</td>\n",
              "      <td>...</td>\n",
              "      <td>0</td>\n",
              "      <td>0</td>\n",
              "      <td>0</td>\n",
              "      <td>0</td>\n",
              "      <td>1</td>\n",
              "      <td>1</td>\n",
              "      <td>1</td>\n",
              "      <td>1</td>\n",
              "      <td>2.556</td>\n",
              "      <td>5.8</td>\n",
              "    </tr>\n",
              "    <tr>\n",
              "      <th>2016-09-11</th>\n",
              "      <td>14</td>\n",
              "      <td>5.333</td>\n",
              "      <td>Sun</td>\n",
              "      <td>255</td>\n",
              "      <td>37</td>\n",
              "      <td>Sep</td>\n",
              "      <td>2016</td>\n",
              "      <td>0</td>\n",
              "      <td>0</td>\n",
              "      <td>0</td>\n",
              "      <td>...</td>\n",
              "      <td>0</td>\n",
              "      <td>0</td>\n",
              "      <td>1</td>\n",
              "      <td>0</td>\n",
              "      <td>1</td>\n",
              "      <td>1</td>\n",
              "      <td>1</td>\n",
              "      <td>1</td>\n",
              "      <td>2.556</td>\n",
              "      <td>5.8</td>\n",
              "    </tr>\n",
              "  </tbody>\n",
              "</table>\n",
              "<p>14 rows × 1092 columns</p>\n",
              "</div>\n",
              "      <button class=\"colab-df-convert\" onclick=\"convertToInteractive('df-29bc2ff4-bdac-4e2a-8228-de8a7ea8cc33')\"\n",
              "              title=\"Convert this dataframe to an interactive table.\"\n",
              "              style=\"display:none;\">\n",
              "        \n",
              "  <svg xmlns=\"http://www.w3.org/2000/svg\" height=\"24px\"viewBox=\"0 0 24 24\"\n",
              "       width=\"24px\">\n",
              "    <path d=\"M0 0h24v24H0V0z\" fill=\"none\"/>\n",
              "    <path d=\"M18.56 5.44l.94 2.06.94-2.06 2.06-.94-2.06-.94-.94-2.06-.94 2.06-2.06.94zm-11 1L8.5 8.5l.94-2.06 2.06-.94-2.06-.94L8.5 2.5l-.94 2.06-2.06.94zm10 10l.94 2.06.94-2.06 2.06-.94-2.06-.94-.94-2.06-.94 2.06-2.06.94z\"/><path d=\"M17.41 7.96l-1.37-1.37c-.4-.4-.92-.59-1.43-.59-.52 0-1.04.2-1.43.59L10.3 9.45l-7.72 7.72c-.78.78-.78 2.05 0 2.83L4 21.41c.39.39.9.59 1.41.59.51 0 1.02-.2 1.41-.59l7.78-7.78 2.81-2.81c.8-.78.8-2.07 0-2.86zM5.41 20L4 18.59l7.72-7.72 1.47 1.35L5.41 20z\"/>\n",
              "  </svg>\n",
              "      </button>\n",
              "      \n",
              "  <style>\n",
              "    .colab-df-container {\n",
              "      display:flex;\n",
              "      flex-wrap:wrap;\n",
              "      gap: 12px;\n",
              "    }\n",
              "\n",
              "    .colab-df-convert {\n",
              "      background-color: #E8F0FE;\n",
              "      border: none;\n",
              "      border-radius: 50%;\n",
              "      cursor: pointer;\n",
              "      display: none;\n",
              "      fill: #1967D2;\n",
              "      height: 32px;\n",
              "      padding: 0 0 0 0;\n",
              "      width: 32px;\n",
              "    }\n",
              "\n",
              "    .colab-df-convert:hover {\n",
              "      background-color: #E2EBFA;\n",
              "      box-shadow: 0px 1px 2px rgba(60, 64, 67, 0.3), 0px 1px 3px 1px rgba(60, 64, 67, 0.15);\n",
              "      fill: #174EA6;\n",
              "    }\n",
              "\n",
              "    [theme=dark] .colab-df-convert {\n",
              "      background-color: #3B4455;\n",
              "      fill: #D2E3FC;\n",
              "    }\n",
              "\n",
              "    [theme=dark] .colab-df-convert:hover {\n",
              "      background-color: #434B5C;\n",
              "      box-shadow: 0px 1px 3px 1px rgba(0, 0, 0, 0.15);\n",
              "      filter: drop-shadow(0px 1px 2px rgba(0, 0, 0, 0.3));\n",
              "      fill: #FFFFFF;\n",
              "    }\n",
              "  </style>\n",
              "\n",
              "      <script>\n",
              "        const buttonEl =\n",
              "          document.querySelector('#df-29bc2ff4-bdac-4e2a-8228-de8a7ea8cc33 button.colab-df-convert');\n",
              "        buttonEl.style.display =\n",
              "          google.colab.kernel.accessAllowed ? 'block' : 'none';\n",
              "\n",
              "        async function convertToInteractive(key) {\n",
              "          const element = document.querySelector('#df-29bc2ff4-bdac-4e2a-8228-de8a7ea8cc33');\n",
              "          const dataTable =\n",
              "            await google.colab.kernel.invokeFunction('convertToInteractive',\n",
              "                                                     [key], {});\n",
              "          if (!dataTable) return;\n",
              "\n",
              "          const docLinkHtml = 'Like what you see? Visit the ' +\n",
              "            '<a target=\"_blank\" href=https://colab.research.google.com/notebooks/data_table.ipynb>data table notebook</a>'\n",
              "            + ' to learn more about interactive tables.';\n",
              "          element.innerHTML = '';\n",
              "          dataTable['output_type'] = 'display_data';\n",
              "          await google.colab.output.renderOutput(dataTable, element);\n",
              "          const docLink = document.createElement('div');\n",
              "          docLink.innerHTML = docLinkHtml;\n",
              "          element.appendChild(docLink);\n",
              "        }\n",
              "      </script>\n",
              "    </div>\n",
              "  </div>\n",
              "  "
            ]
          },
          "metadata": {},
          "execution_count": 38
        }
      ]
    },
    {
      "cell_type": "code",
      "metadata": {
        "id": "d4bz6mgmtH5E",
        "outputId": "68afe07e-f59a-4fcb-98c2-627d43f3c4e8",
        "colab": {
          "base_uri": "https://localhost:8080/",
          "height": 317
        }
      },
      "source": [
        "weekends = training[training['dow'].isin(['Sat','Sun'])].filter(regex=(\"(l14_[0-9]|s_40380)\"), axis=1).copy()\n",
        "print(weekends.to_numpy().shape)\n",
        "weekends.head()"
      ],
      "execution_count": 39,
      "outputs": [
        {
          "output_type": "stream",
          "name": "stdout",
          "text": [
            "(1628, 126)\n"
          ]
        },
        {
          "output_type": "execute_result",
          "data": {
            "text/plain": [
              "    s_40380  l14_40010  l14_40020  l14_40030  l14_40040  l14_40050  l14_40060  \\\n",
              "6     2.425      0.693      1.610      0.889      0.911      2.704      2.274   \n",
              "7     1.467      0.408      0.882      0.601      0.414      1.468      1.631   \n",
              "13    2.477      0.663      1.640      0.880      0.914      2.422      2.280   \n",
              "14    1.556      0.411      0.873      0.580      0.454      1.471      1.639   \n",
              "20    2.432      0.677      1.729      0.929      0.914      2.573      2.317   \n",
              "\n",
              "    l14_40070  l14_40080  l14_40090  ...  l14_41400  l14_41410  l14_41420  \\\n",
              "6       1.954      2.733      0.994  ...      3.370      0.661      3.079   \n",
              "7       0.978      1.843      0.565  ...      2.292      0.389      2.170   \n",
              "13      1.852      2.675      1.046  ...      3.105      0.635      2.863   \n",
              "14      1.015      1.821      0.533  ...      2.183      0.371      2.025   \n",
              "20      1.820      2.550      1.058  ...      3.138      0.719      2.922   \n",
              "\n",
              "    l14_41440  l14_41450  l14_41460  l14_41480  l14_41490  l14_41500  \\\n",
              "6       0.662      9.386      0.953      1.646      1.367      0.912   \n",
              "7       0.270      6.490      0.486      0.909      0.887      0.567   \n",
              "13      0.642      9.332      0.932      1.582      1.204      0.949   \n",
              "14      0.312      6.016      0.488      0.920      0.661      0.491   \n",
              "20      0.634      9.301      0.883      1.642      1.048      0.905   \n",
              "\n",
              "    l14_41660  \n",
              "6       5.605  \n",
              "7       3.662  \n",
              "13      5.734  \n",
              "14      3.759  \n",
              "20      6.104  \n",
              "\n",
              "[5 rows x 126 columns]"
            ],
            "text/html": [
              "\n",
              "  <div id=\"df-1f3dbabc-2f09-408c-bf45-c4f870b3c5f5\">\n",
              "    <div class=\"colab-df-container\">\n",
              "      <div>\n",
              "<style scoped>\n",
              "    .dataframe tbody tr th:only-of-type {\n",
              "        vertical-align: middle;\n",
              "    }\n",
              "\n",
              "    .dataframe tbody tr th {\n",
              "        vertical-align: top;\n",
              "    }\n",
              "\n",
              "    .dataframe thead th {\n",
              "        text-align: right;\n",
              "    }\n",
              "</style>\n",
              "<table border=\"1\" class=\"dataframe\">\n",
              "  <thead>\n",
              "    <tr style=\"text-align: right;\">\n",
              "      <th></th>\n",
              "      <th>s_40380</th>\n",
              "      <th>l14_40010</th>\n",
              "      <th>l14_40020</th>\n",
              "      <th>l14_40030</th>\n",
              "      <th>l14_40040</th>\n",
              "      <th>l14_40050</th>\n",
              "      <th>l14_40060</th>\n",
              "      <th>l14_40070</th>\n",
              "      <th>l14_40080</th>\n",
              "      <th>l14_40090</th>\n",
              "      <th>...</th>\n",
              "      <th>l14_41400</th>\n",
              "      <th>l14_41410</th>\n",
              "      <th>l14_41420</th>\n",
              "      <th>l14_41440</th>\n",
              "      <th>l14_41450</th>\n",
              "      <th>l14_41460</th>\n",
              "      <th>l14_41480</th>\n",
              "      <th>l14_41490</th>\n",
              "      <th>l14_41500</th>\n",
              "      <th>l14_41660</th>\n",
              "    </tr>\n",
              "  </thead>\n",
              "  <tbody>\n",
              "    <tr>\n",
              "      <th>6</th>\n",
              "      <td>2.425</td>\n",
              "      <td>0.693</td>\n",
              "      <td>1.610</td>\n",
              "      <td>0.889</td>\n",
              "      <td>0.911</td>\n",
              "      <td>2.704</td>\n",
              "      <td>2.274</td>\n",
              "      <td>1.954</td>\n",
              "      <td>2.733</td>\n",
              "      <td>0.994</td>\n",
              "      <td>...</td>\n",
              "      <td>3.370</td>\n",
              "      <td>0.661</td>\n",
              "      <td>3.079</td>\n",
              "      <td>0.662</td>\n",
              "      <td>9.386</td>\n",
              "      <td>0.953</td>\n",
              "      <td>1.646</td>\n",
              "      <td>1.367</td>\n",
              "      <td>0.912</td>\n",
              "      <td>5.605</td>\n",
              "    </tr>\n",
              "    <tr>\n",
              "      <th>7</th>\n",
              "      <td>1.467</td>\n",
              "      <td>0.408</td>\n",
              "      <td>0.882</td>\n",
              "      <td>0.601</td>\n",
              "      <td>0.414</td>\n",
              "      <td>1.468</td>\n",
              "      <td>1.631</td>\n",
              "      <td>0.978</td>\n",
              "      <td>1.843</td>\n",
              "      <td>0.565</td>\n",
              "      <td>...</td>\n",
              "      <td>2.292</td>\n",
              "      <td>0.389</td>\n",
              "      <td>2.170</td>\n",
              "      <td>0.270</td>\n",
              "      <td>6.490</td>\n",
              "      <td>0.486</td>\n",
              "      <td>0.909</td>\n",
              "      <td>0.887</td>\n",
              "      <td>0.567</td>\n",
              "      <td>3.662</td>\n",
              "    </tr>\n",
              "    <tr>\n",
              "      <th>13</th>\n",
              "      <td>2.477</td>\n",
              "      <td>0.663</td>\n",
              "      <td>1.640</td>\n",
              "      <td>0.880</td>\n",
              "      <td>0.914</td>\n",
              "      <td>2.422</td>\n",
              "      <td>2.280</td>\n",
              "      <td>1.852</td>\n",
              "      <td>2.675</td>\n",
              "      <td>1.046</td>\n",
              "      <td>...</td>\n",
              "      <td>3.105</td>\n",
              "      <td>0.635</td>\n",
              "      <td>2.863</td>\n",
              "      <td>0.642</td>\n",
              "      <td>9.332</td>\n",
              "      <td>0.932</td>\n",
              "      <td>1.582</td>\n",
              "      <td>1.204</td>\n",
              "      <td>0.949</td>\n",
              "      <td>5.734</td>\n",
              "    </tr>\n",
              "    <tr>\n",
              "      <th>14</th>\n",
              "      <td>1.556</td>\n",
              "      <td>0.411</td>\n",
              "      <td>0.873</td>\n",
              "      <td>0.580</td>\n",
              "      <td>0.454</td>\n",
              "      <td>1.471</td>\n",
              "      <td>1.639</td>\n",
              "      <td>1.015</td>\n",
              "      <td>1.821</td>\n",
              "      <td>0.533</td>\n",
              "      <td>...</td>\n",
              "      <td>2.183</td>\n",
              "      <td>0.371</td>\n",
              "      <td>2.025</td>\n",
              "      <td>0.312</td>\n",
              "      <td>6.016</td>\n",
              "      <td>0.488</td>\n",
              "      <td>0.920</td>\n",
              "      <td>0.661</td>\n",
              "      <td>0.491</td>\n",
              "      <td>3.759</td>\n",
              "    </tr>\n",
              "    <tr>\n",
              "      <th>20</th>\n",
              "      <td>2.432</td>\n",
              "      <td>0.677</td>\n",
              "      <td>1.729</td>\n",
              "      <td>0.929</td>\n",
              "      <td>0.914</td>\n",
              "      <td>2.573</td>\n",
              "      <td>2.317</td>\n",
              "      <td>1.820</td>\n",
              "      <td>2.550</td>\n",
              "      <td>1.058</td>\n",
              "      <td>...</td>\n",
              "      <td>3.138</td>\n",
              "      <td>0.719</td>\n",
              "      <td>2.922</td>\n",
              "      <td>0.634</td>\n",
              "      <td>9.301</td>\n",
              "      <td>0.883</td>\n",
              "      <td>1.642</td>\n",
              "      <td>1.048</td>\n",
              "      <td>0.905</td>\n",
              "      <td>6.104</td>\n",
              "    </tr>\n",
              "  </tbody>\n",
              "</table>\n",
              "<p>5 rows × 126 columns</p>\n",
              "</div>\n",
              "      <button class=\"colab-df-convert\" onclick=\"convertToInteractive('df-1f3dbabc-2f09-408c-bf45-c4f870b3c5f5')\"\n",
              "              title=\"Convert this dataframe to an interactive table.\"\n",
              "              style=\"display:none;\">\n",
              "        \n",
              "  <svg xmlns=\"http://www.w3.org/2000/svg\" height=\"24px\"viewBox=\"0 0 24 24\"\n",
              "       width=\"24px\">\n",
              "    <path d=\"M0 0h24v24H0V0z\" fill=\"none\"/>\n",
              "    <path d=\"M18.56 5.44l.94 2.06.94-2.06 2.06-.94-2.06-.94-.94-2.06-.94 2.06-2.06.94zm-11 1L8.5 8.5l.94-2.06 2.06-.94-2.06-.94L8.5 2.5l-.94 2.06-2.06.94zm10 10l.94 2.06.94-2.06 2.06-.94-2.06-.94-.94-2.06-.94 2.06-2.06.94z\"/><path d=\"M17.41 7.96l-1.37-1.37c-.4-.4-.92-.59-1.43-.59-.52 0-1.04.2-1.43.59L10.3 9.45l-7.72 7.72c-.78.78-.78 2.05 0 2.83L4 21.41c.39.39.9.59 1.41.59.51 0 1.02-.2 1.41-.59l7.78-7.78 2.81-2.81c.8-.78.8-2.07 0-2.86zM5.41 20L4 18.59l7.72-7.72 1.47 1.35L5.41 20z\"/>\n",
              "  </svg>\n",
              "      </button>\n",
              "      \n",
              "  <style>\n",
              "    .colab-df-container {\n",
              "      display:flex;\n",
              "      flex-wrap:wrap;\n",
              "      gap: 12px;\n",
              "    }\n",
              "\n",
              "    .colab-df-convert {\n",
              "      background-color: #E8F0FE;\n",
              "      border: none;\n",
              "      border-radius: 50%;\n",
              "      cursor: pointer;\n",
              "      display: none;\n",
              "      fill: #1967D2;\n",
              "      height: 32px;\n",
              "      padding: 0 0 0 0;\n",
              "      width: 32px;\n",
              "    }\n",
              "\n",
              "    .colab-df-convert:hover {\n",
              "      background-color: #E2EBFA;\n",
              "      box-shadow: 0px 1px 2px rgba(60, 64, 67, 0.3), 0px 1px 3px 1px rgba(60, 64, 67, 0.15);\n",
              "      fill: #174EA6;\n",
              "    }\n",
              "\n",
              "    [theme=dark] .colab-df-convert {\n",
              "      background-color: #3B4455;\n",
              "      fill: #D2E3FC;\n",
              "    }\n",
              "\n",
              "    [theme=dark] .colab-df-convert:hover {\n",
              "      background-color: #434B5C;\n",
              "      box-shadow: 0px 1px 3px 1px rgba(0, 0, 0, 0.15);\n",
              "      filter: drop-shadow(0px 1px 2px rgba(0, 0, 0, 0.3));\n",
              "      fill: #FFFFFF;\n",
              "    }\n",
              "  </style>\n",
              "\n",
              "      <script>\n",
              "        const buttonEl =\n",
              "          document.querySelector('#df-1f3dbabc-2f09-408c-bf45-c4f870b3c5f5 button.colab-df-convert');\n",
              "        buttonEl.style.display =\n",
              "          google.colab.kernel.accessAllowed ? 'block' : 'none';\n",
              "\n",
              "        async function convertToInteractive(key) {\n",
              "          const element = document.querySelector('#df-1f3dbabc-2f09-408c-bf45-c4f870b3c5f5');\n",
              "          const dataTable =\n",
              "            await google.colab.kernel.invokeFunction('convertToInteractive',\n",
              "                                                     [key], {});\n",
              "          if (!dataTable) return;\n",
              "\n",
              "          const docLinkHtml = 'Like what you see? Visit the ' +\n",
              "            '<a target=\"_blank\" href=https://colab.research.google.com/notebooks/data_table.ipynb>data table notebook</a>'\n",
              "            + ' to learn more about interactive tables.';\n",
              "          element.innerHTML = '';\n",
              "          dataTable['output_type'] = 'display_data';\n",
              "          await google.colab.output.renderOutput(dataTable, element);\n",
              "          const docLink = document.createElement('div');\n",
              "          docLink.innerHTML = docLinkHtml;\n",
              "          element.appendChild(docLink);\n",
              "        }\n",
              "      </script>\n",
              "    </div>\n",
              "  </div>\n",
              "  "
            ]
          },
          "metadata": {},
          "execution_count": 39
        }
      ]
    },
    {
      "cell_type": "code",
      "metadata": {
        "id": "TyeUt84qtJ2k",
        "outputId": "479e6b04-84c7-4100-a935-10933a7ed10f",
        "colab": {
          "base_uri": "https://localhost:8080/"
        }
      },
      "source": [
        "weekend_days = train_days[train_days.index.dayofweek>4].copy()\n",
        "print(weekend_days.index[0])\n",
        "print(weekend_days.index[-1])\n",
        "print(len(weekend_days))"
      ],
      "execution_count": 40,
      "outputs": [
        {
          "output_type": "stream",
          "name": "stdout",
          "text": [
            "2001-01-27 00:00:00\n",
            "2016-08-28 00:00:00\n",
            "1628\n"
          ]
        }
      ]
    },
    {
      "cell_type": "markdown",
      "metadata": {
        "id": "0Ox0ZTg_8dSM"
      },
      "source": [
        "Utilizaremos a manera de ejemplo una librería para validación de series de tiempo [tscv](https://github.com/WenjieZ/TSCV) [Artículo informativo](https://www.zhengwenjie.net/tscv/)"
      ]
    },
    {
      "cell_type": "code",
      "metadata": {
        "id": "HFnZY2zk0cYs",
        "outputId": "24b29d0d-ae42-49a9-a857-fdd2afa70eb5",
        "colab": {
          "base_uri": "https://localhost:8080/"
        }
      },
      "source": [
        "!pip install tscv"
      ],
      "execution_count": 41,
      "outputs": [
        {
          "output_type": "stream",
          "name": "stdout",
          "text": [
            "Looking in indexes: https://pypi.org/simple, https://us-python.pkg.dev/colab-wheels/public/simple/\n",
            "Collecting tscv\n",
            "  Downloading tscv-0.1.3-py3-none-any.whl (12 kB)\n",
            "Requirement already satisfied: numpy>=1.13.3 in /usr/local/lib/python3.10/dist-packages (from tscv) (1.22.4)\n",
            "Requirement already satisfied: scikit-learn>=0.22 in /usr/local/lib/python3.10/dist-packages (from tscv) (1.2.2)\n",
            "Requirement already satisfied: scipy>=1.3.2 in /usr/local/lib/python3.10/dist-packages (from scikit-learn>=0.22->tscv) (1.10.1)\n",
            "Requirement already satisfied: joblib>=1.1.1 in /usr/local/lib/python3.10/dist-packages (from scikit-learn>=0.22->tscv) (1.2.0)\n",
            "Requirement already satisfied: threadpoolctl>=2.0.0 in /usr/local/lib/python3.10/dist-packages (from scikit-learn>=0.22->tscv) (3.1.0)\n",
            "Installing collected packages: tscv\n",
            "Successfully installed tscv-0.1.3\n"
          ]
        }
      ]
    },
    {
      "cell_type": "code",
      "metadata": {
        "id": "6_AknX42tJ5M"
      },
      "source": [
        "from tscv import GapRollForward"
      ],
      "execution_count": 42,
      "outputs": []
    },
    {
      "cell_type": "code",
      "metadata": {
        "id": "wgnP9tvstJ8Y"
      },
      "source": [
        "ts_cv= GapRollForward(min_train_size=1600,min_test_size=4,max_test_size= 4,roll_size=1)"
      ],
      "execution_count": 43,
      "outputs": []
    },
    {
      "cell_type": "code",
      "metadata": {
        "id": "9h6pFzJ4xpKO",
        "outputId": "9534dc42-f461-4bd5-d980-b56fbd7b368a",
        "colab": {
          "base_uri": "https://localhost:8080/"
        }
      },
      "source": [
        "i=1\n",
        "for train_index, test_index in ts_cv.split( weekend_days):\n",
        "  print(f'Training Split {i}: {train_index.shape} -- Testing Split {i}: {test_index.shape}')\n",
        "  i=i+1\n",
        "  # print(train_index[0])\n",
        "  # print(train_index[-1])\n",
        "  # print(test_index[0])\n",
        "  # print(test_index[-1])\n"
      ],
      "execution_count": 44,
      "outputs": [
        {
          "output_type": "stream",
          "name": "stdout",
          "text": [
            "Training Split 1: (1600,) -- Testing Split 1: (4,)\n",
            "Training Split 2: (1601,) -- Testing Split 2: (4,)\n",
            "Training Split 3: (1602,) -- Testing Split 3: (4,)\n",
            "Training Split 4: (1603,) -- Testing Split 4: (4,)\n",
            "Training Split 5: (1604,) -- Testing Split 5: (4,)\n",
            "Training Split 6: (1605,) -- Testing Split 6: (4,)\n",
            "Training Split 7: (1606,) -- Testing Split 7: (4,)\n",
            "Training Split 8: (1607,) -- Testing Split 8: (4,)\n",
            "Training Split 9: (1608,) -- Testing Split 9: (4,)\n",
            "Training Split 10: (1609,) -- Testing Split 10: (4,)\n",
            "Training Split 11: (1610,) -- Testing Split 11: (4,)\n",
            "Training Split 12: (1611,) -- Testing Split 12: (4,)\n",
            "Training Split 13: (1612,) -- Testing Split 13: (4,)\n",
            "Training Split 14: (1613,) -- Testing Split 14: (4,)\n",
            "Training Split 15: (1614,) -- Testing Split 15: (4,)\n",
            "Training Split 16: (1615,) -- Testing Split 16: (4,)\n",
            "Training Split 17: (1616,) -- Testing Split 17: (4,)\n",
            "Training Split 18: (1617,) -- Testing Split 18: (4,)\n",
            "Training Split 19: (1618,) -- Testing Split 19: (4,)\n",
            "Training Split 20: (1619,) -- Testing Split 20: (4,)\n",
            "Training Split 21: (1620,) -- Testing Split 21: (4,)\n",
            "Training Split 22: (1621,) -- Testing Split 22: (4,)\n",
            "Training Split 23: (1622,) -- Testing Split 23: (4,)\n",
            "Training Split 24: (1623,) -- Testing Split 24: (4,)\n",
            "Training Split 25: (1624,) -- Testing Split 25: (4,)\n"
          ]
        }
      ]
    },
    {
      "cell_type": "code",
      "metadata": {
        "id": "-viIdkCY2tr4"
      },
      "source": [
        "# Taken from https://scikit-learn.org/stable/auto_examples/model_selection/plot_cv_indices.html#sphx-glr-auto-examples-model-selection-plot-cv-indices-py \n",
        "from matplotlib.patches import Patch\n",
        "cmap_data = plt.cm.Paired\n",
        "cmap_cv = plt.cm.coolwarm\n",
        "n_splits = 25\n",
        "def plot_cv_indices(cv, X, y,  ax, n_splits, lw=10):\n",
        "    \"\"\"Create a sample plot for indices of a cross-validation object.\"\"\"\n",
        "\n",
        "    # Generate the training/testing visualizations for each CV split\n",
        "    for ii, (tr, tt) in enumerate(cv.split(X=X)):\n",
        "        # Fill in indices with the training/test groups\n",
        "        indices = np.array([np.nan] * len(X))\n",
        "        indices[tt] = 1\n",
        "        indices[tr] = 0\n",
        "\n",
        "        # Visualize the results\n",
        "        x_labels = [weekend_days.index[idx].strftime('%Y-%m-%d') for idx in range(len(indices))]        \n",
        "       #print(len(x_labels))\n",
        "       # print(len([ii + .5] * len(indices)))\n",
        "        ax.scatter(x_labels, [ii + .5] * len(indices),\n",
        "                   c=indices, marker='_', lw=lw, cmap=cmap_cv,\n",
        "                   vmin=-.2, vmax=1.2)\n",
        "\n",
        "\n",
        "    # Formatting\n",
        "    yticklabels = list(range(n_splits)) \n",
        "    ax.set(yticks=np.arange(n_splits) + .5, yticklabels=yticklabels,\n",
        "           xlabel='Sample index', ylabel=\"CV iteration\",\n",
        "             xlim=[1585, 1630])\n",
        "    ax.set_title('{}'.format(type(cv).__name__), fontsize=15)\n",
        "    plt.xticks(rotation='vertical')\n",
        "    return ax"
      ],
      "execution_count": 45,
      "outputs": []
    },
    {
      "cell_type": "code",
      "metadata": {
        "id": "CC-wD8NGxpNY",
        "outputId": "25f2b193-51ae-49a0-8576-f3af488b92ed",
        "colab": {
          "base_uri": "https://localhost:8080/",
          "height": 605
        }
      },
      "source": [
        "groups = np.hstack([[ii] * 25 for ii in range(25)])\n",
        "fig, ax = plt.subplots(figsize=(16, 6))\n",
        "plot_cv_indices(ts_cv, weekends, None,  ax, n_splits)\n",
        "\n",
        "ax.legend([Patch(color=cmap_cv(.8)), Patch(color=cmap_cv(.02))],\n",
        "          ['Testing set', 'Training set'], loc=(1.02, .8))\n",
        "# Make the legend fit\n",
        "plt.tight_layout()"
      ],
      "execution_count": 46,
      "outputs": [
        {
          "output_type": "display_data",
          "data": {
            "text/plain": [
              "<Figure size 1600x600 with 1 Axes>"
            ],
            "image/png": "[encoded data removed]"
          },
          "metadata": {}
        }
      ]
    },
    {
      "cell_type": "code",
      "metadata": {
        "id": "Q_qsXtN7xpQT",
        "outputId": "a7369612-764f-4206-b9f7-c94e57f65df1",
        "colab": {
          "base_uri": "https://localhost:8080/",
          "height": 300
        }
      },
      "source": [
        "X_train = weekends.drop(['s_40380'],axis=1) # Variables predictoras X\n",
        "X_train.head()"
      ],
      "execution_count": 47,
      "outputs": [
        {
          "output_type": "execute_result",
          "data": {
            "text/plain": [
              "    l14_40010  l14_40020  l14_40030  l14_40040  l14_40050  l14_40060  \\\n",
              "6       0.693      1.610      0.889      0.911      2.704      2.274   \n",
              "7       0.408      0.882      0.601      0.414      1.468      1.631   \n",
              "13      0.663      1.640      0.880      0.914      2.422      2.280   \n",
              "14      0.411      0.873      0.580      0.454      1.471      1.639   \n",
              "20      0.677      1.729      0.929      0.914      2.573      2.317   \n",
              "\n",
              "    l14_40070  l14_40080  l14_40090  l14_40100  ...  l14_41400  l14_41410  \\\n",
              "6       1.954      2.733      0.994      3.023  ...      3.370      0.661   \n",
              "7       0.978      1.843      0.565      2.195  ...      2.292      0.389   \n",
              "13      1.852      2.675      1.046      3.104  ...      3.105      0.635   \n",
              "14      1.015      1.821      0.533      2.171  ...      2.183      0.371   \n",
              "20      1.820      2.550      1.058      3.110  ...      3.138      0.719   \n",
              "\n",
              "    l14_41420  l14_41440  l14_41450  l14_41460  l14_41480  l14_41490  \\\n",
              "6       3.079      0.662      9.386      0.953      1.646      1.367   \n",
              "7       2.170      0.270      6.490      0.486      0.909      0.887   \n",
              "13      2.863      0.642      9.332      0.932      1.582      1.204   \n",
              "14      2.025      0.312      6.016      0.488      0.920      0.661   \n",
              "20      2.922      0.634      9.301      0.883      1.642      1.048   \n",
              "\n",
              "    l14_41500  l14_41660  \n",
              "6       0.912      5.605  \n",
              "7       0.567      3.662  \n",
              "13      0.949      5.734  \n",
              "14      0.491      3.759  \n",
              "20      0.905      6.104  \n",
              "\n",
              "[5 rows x 125 columns]"
            ],
            "text/html": [
              "\n",
              "  <div id=\"df-45c2a9e7-6da3-4e13-884a-0fb00148c092\">\n",
              "    <div class=\"colab-df-container\">\n",
              "      <div>\n",
              "<style scoped>\n",
              "    .dataframe tbody tr th:only-of-type {\n",
              "        vertical-align: middle;\n",
              "    }\n",
              "\n",
              "    .dataframe tbody tr th {\n",
              "        vertical-align: top;\n",
              "    }\n",
              "\n",
              "    .dataframe thead th {\n",
              "        text-align: right;\n",
              "    }\n",
              "</style>\n",
              "<table border=\"1\" class=\"dataframe\">\n",
              "  <thead>\n",
              "    <tr style=\"text-align: right;\">\n",
              "      <th></th>\n",
              "      <th>l14_40010</th>\n",
              "      <th>l14_40020</th>\n",
              "      <th>l14_40030</th>\n",
              "      <th>l14_40040</th>\n",
              "      <th>l14_40050</th>\n",
              "      <th>l14_40060</th>\n",
              "      <th>l14_40070</th>\n",
              "      <th>l14_40080</th>\n",
              "      <th>l14_40090</th>\n",
              "      <th>l14_40100</th>\n",
              "      <th>...</th>\n",
              "      <th>l14_41400</th>\n",
              "      <th>l14_41410</th>\n",
              "      <th>l14_41420</th>\n",
              "      <th>l14_41440</th>\n",
              "      <th>l14_41450</th>\n",
              "      <th>l14_41460</th>\n",
              "      <th>l14_41480</th>\n",
              "      <th>l14_41490</th>\n",
              "      <th>l14_41500</th>\n",
              "      <th>l14_41660</th>\n",
              "    </tr>\n",
              "  </thead>\n",
              "  <tbody>\n",
              "    <tr>\n",
              "      <th>6</th>\n",
              "      <td>0.693</td>\n",
              "      <td>1.610</td>\n",
              "      <td>0.889</td>\n",
              "      <td>0.911</td>\n",
              "      <td>2.704</td>\n",
              "      <td>2.274</td>\n",
              "      <td>1.954</td>\n",
              "      <td>2.733</td>\n",
              "      <td>0.994</td>\n",
              "      <td>3.023</td>\n",
              "      <td>...</td>\n",
              "      <td>3.370</td>\n",
              "      <td>0.661</td>\n",
              "      <td>3.079</td>\n",
              "      <td>0.662</td>\n",
              "      <td>9.386</td>\n",
              "      <td>0.953</td>\n",
              "      <td>1.646</td>\n",
              "      <td>1.367</td>\n",
              "      <td>0.912</td>\n",
              "      <td>5.605</td>\n",
              "    </tr>\n",
              "    <tr>\n",
              "      <th>7</th>\n",
              "      <td>0.408</td>\n",
              "      <td>0.882</td>\n",
              "      <td>0.601</td>\n",
              "      <td>0.414</td>\n",
              "      <td>1.468</td>\n",
              "      <td>1.631</td>\n",
              "      <td>0.978</td>\n",
              "      <td>1.843</td>\n",
              "      <td>0.565</td>\n",
              "      <td>2.195</td>\n",
              "      <td>...</td>\n",
              "      <td>2.292</td>\n",
              "      <td>0.389</td>\n",
              "      <td>2.170</td>\n",
              "      <td>0.270</td>\n",
              "      <td>6.490</td>\n",
              "      <td>0.486</td>\n",
              "      <td>0.909</td>\n",
              "      <td>0.887</td>\n",
              "      <td>0.567</td>\n",
              "      <td>3.662</td>\n",
              "    </tr>\n",
              "    <tr>\n",
              "      <th>13</th>\n",
              "      <td>0.663</td>\n",
              "      <td>1.640</td>\n",
              "      <td>0.880</td>\n",
              "      <td>0.914</td>\n",
              "      <td>2.422</td>\n",
              "      <td>2.280</td>\n",
              "      <td>1.852</td>\n",
              "      <td>2.675</td>\n",
              "      <td>1.046</td>\n",
              "      <td>3.104</td>\n",
              "      <td>...</td>\n",
              "      <td>3.105</td>\n",
              "      <td>0.635</td>\n",
              "      <td>2.863</td>\n",
              "      <td>0.642</td>\n",
              "      <td>9.332</td>\n",
              "      <td>0.932</td>\n",
              "      <td>1.582</td>\n",
              "      <td>1.204</td>\n",
              "      <td>0.949</td>\n",
              "      <td>5.734</td>\n",
              "    </tr>\n",
              "    <tr>\n",
              "      <th>14</th>\n",
              "      <td>0.411</td>\n",
              "      <td>0.873</td>\n",
              "      <td>0.580</td>\n",
              "      <td>0.454</td>\n",
              "      <td>1.471</td>\n",
              "      <td>1.639</td>\n",
              "      <td>1.015</td>\n",
              "      <td>1.821</td>\n",
              "      <td>0.533</td>\n",
              "      <td>2.171</td>\n",
              "      <td>...</td>\n",
              "      <td>2.183</td>\n",
              "      <td>0.371</td>\n",
              "      <td>2.025</td>\n",
              "      <td>0.312</td>\n",
              "      <td>6.016</td>\n",
              "      <td>0.488</td>\n",
              "      <td>0.920</td>\n",
              "      <td>0.661</td>\n",
              "      <td>0.491</td>\n",
              "      <td>3.759</td>\n",
              "    </tr>\n",
              "    <tr>\n",
              "      <th>20</th>\n",
              "      <td>0.677</td>\n",
              "      <td>1.729</td>\n",
              "      <td>0.929</td>\n",
              "      <td>0.914</td>\n",
              "      <td>2.573</td>\n",
              "      <td>2.317</td>\n",
              "      <td>1.820</td>\n",
              "      <td>2.550</td>\n",
              "      <td>1.058</td>\n",
              "      <td>3.110</td>\n",
              "      <td>...</td>\n",
              "      <td>3.138</td>\n",
              "      <td>0.719</td>\n",
              "      <td>2.922</td>\n",
              "      <td>0.634</td>\n",
              "      <td>9.301</td>\n",
              "      <td>0.883</td>\n",
              "      <td>1.642</td>\n",
              "      <td>1.048</td>\n",
              "      <td>0.905</td>\n",
              "      <td>6.104</td>\n",
              "    </tr>\n",
              "  </tbody>\n",
              "</table>\n",
              "<p>5 rows × 125 columns</p>\n",
              "</div>\n",
              "      <button class=\"colab-df-convert\" onclick=\"convertToInteractive('df-45c2a9e7-6da3-4e13-884a-0fb00148c092')\"\n",
              "              title=\"Convert this dataframe to an interactive table.\"\n",
              "              style=\"display:none;\">\n",
              "        \n",
              "  <svg xmlns=\"http://www.w3.org/2000/svg\" height=\"24px\"viewBox=\"0 0 24 24\"\n",
              "       width=\"24px\">\n",
              "    <path d=\"M0 0h24v24H0V0z\" fill=\"none\"/>\n",
              "    <path d=\"M18.56 5.44l.94 2.06.94-2.06 2.06-.94-2.06-.94-.94-2.06-.94 2.06-2.06.94zm-11 1L8.5 8.5l.94-2.06 2.06-.94-2.06-.94L8.5 2.5l-.94 2.06-2.06.94zm10 10l.94 2.06.94-2.06 2.06-.94-2.06-.94-.94-2.06-.94 2.06-2.06.94z\"/><path d=\"M17.41 7.96l-1.37-1.37c-.4-.4-.92-.59-1.43-.59-.52 0-1.04.2-1.43.59L10.3 9.45l-7.72 7.72c-.78.78-.78 2.05 0 2.83L4 21.41c.39.39.9.59 1.41.59.51 0 1.02-.2 1.41-.59l7.78-7.78 2.81-2.81c.8-.78.8-2.07 0-2.86zM5.41 20L4 18.59l7.72-7.72 1.47 1.35L5.41 20z\"/>\n",
              "  </svg>\n",
              "      </button>\n",
              "      \n",
              "  <style>\n",
              "    .colab-df-container {\n",
              "      display:flex;\n",
              "      flex-wrap:wrap;\n",
              "      gap: 12px;\n",
              "    }\n",
              "\n",
              "    .colab-df-convert {\n",
              "      background-color: #E8F0FE;\n",
              "      border: none;\n",
              "      border-radius: 50%;\n",
              "      cursor: pointer;\n",
              "      display: none;\n",
              "      fill: #1967D2;\n",
              "      height: 32px;\n",
              "      padding: 0 0 0 0;\n",
              "      width: 32px;\n",
              "    }\n",
              "\n",
              "    .colab-df-convert:hover {\n",
              "      background-color: #E2EBFA;\n",
              "      box-shadow: 0px 1px 2px rgba(60, 64, 67, 0.3), 0px 1px 3px 1px rgba(60, 64, 67, 0.15);\n",
              "      fill: #174EA6;\n",
              "    }\n",
              "\n",
              "    [theme=dark] .colab-df-convert {\n",
              "      background-color: #3B4455;\n",
              "      fill: #D2E3FC;\n",
              "    }\n",
              "\n",
              "    [theme=dark] .colab-df-convert:hover {\n",
              "      background-color: #434B5C;\n",
              "      box-shadow: 0px 1px 3px 1px rgba(0, 0, 0, 0.15);\n",
              "      filter: drop-shadow(0px 1px 2px rgba(0, 0, 0, 0.3));\n",
              "      fill: #FFFFFF;\n",
              "    }\n",
              "  </style>\n",
              "\n",
              "      <script>\n",
              "        const buttonEl =\n",
              "          document.querySelector('#df-45c2a9e7-6da3-4e13-884a-0fb00148c092 button.colab-df-convert');\n",
              "        buttonEl.style.display =\n",
              "          google.colab.kernel.accessAllowed ? 'block' : 'none';\n",
              "\n",
              "        async function convertToInteractive(key) {\n",
              "          const element = document.querySelector('#df-45c2a9e7-6da3-4e13-884a-0fb00148c092');\n",
              "          const dataTable =\n",
              "            await google.colab.kernel.invokeFunction('convertToInteractive',\n",
              "                                                     [key], {});\n",
              "          if (!dataTable) return;\n",
              "\n",
              "          const docLinkHtml = 'Like what you see? Visit the ' +\n",
              "            '<a target=\"_blank\" href=https://colab.research.google.com/notebooks/data_table.ipynb>data table notebook</a>'\n",
              "            + ' to learn more about interactive tables.';\n",
              "          element.innerHTML = '';\n",
              "          dataTable['output_type'] = 'display_data';\n",
              "          await google.colab.output.renderOutput(dataTable, element);\n",
              "          const docLink = document.createElement('div');\n",
              "          docLink.innerHTML = docLinkHtml;\n",
              "          element.appendChild(docLink);\n",
              "        }\n",
              "      </script>\n",
              "    </div>\n",
              "  </div>\n",
              "  "
            ]
          },
          "metadata": {},
          "execution_count": 47
        }
      ]
    },
    {
      "cell_type": "code",
      "metadata": {
        "id": "ePSWOZhB-vVv",
        "outputId": "55472606-2a3a-4958-a785-338fd449b1b0",
        "colab": {
          "base_uri": "https://localhost:8080/"
        }
      },
      "source": [
        "y_train = weekends['s_40380'] # Variable respuesta Y\n",
        "y_train.head()"
      ],
      "execution_count": 48,
      "outputs": [
        {
          "output_type": "execute_result",
          "data": {
            "text/plain": [
              "6     2.425\n",
              "7     1.467\n",
              "13    2.477\n",
              "14    1.556\n",
              "20    2.432\n",
              "Name: s_40380, dtype: float64"
            ]
          },
          "metadata": {},
          "execution_count": 48
        }
      ]
    },
    {
      "cell_type": "markdown",
      "metadata": {
        "id": "Mn5E2PmsIgxF"
      },
      "source": [
        "### Baseline con regresión lineal"
      ]
    },
    {
      "cell_type": "code",
      "metadata": {
        "id": "H74AGyrp-xR1"
      },
      "source": [
        "from sklearn.linear_model import LinearRegression\n",
        "from sklearn.model_selection import cross_val_score, cross_val_predict\n",
        "from sklearn.pipeline import Pipeline"
      ],
      "execution_count": 49,
      "outputs": []
    },
    {
      "cell_type": "code",
      "metadata": {
        "id": "t6ZGtnorAcP1"
      },
      "source": [
        "lr = LinearRegression()"
      ],
      "execution_count": 50,
      "outputs": []
    },
    {
      "cell_type": "code",
      "metadata": {
        "id": "KSGe5yuGAp57",
        "outputId": "e9c29552-ffa3-4e55-963f-37f07b43fecc",
        "colab": {
          "base_uri": "https://localhost:8080/"
        }
      },
      "source": [
        "cross_val  = cross_val_score( lr, X_train, y_train, cv=ts_cv, scoring='neg_root_mean_squared_error')\n",
        "print(cross_val*-1)\n",
        "print(f'Mean: {cross_val.mean()*-1}, Std: {cross_val.std()}')"
      ],
      "execution_count": 51,
      "outputs": [
        {
          "output_type": "stream",
          "name": "stdout",
          "text": [
            "[0.72689689 0.78765332 0.70486282 0.76826587 0.77764362 0.57708818\n",
            " 0.73809462 0.70769294 0.72473128 0.71359768 0.76220357 0.75457878\n",
            " 0.69509936 0.58001822 0.57824242 0.5716051  0.59847844 0.66711076\n",
            " 0.52862888 0.67875962 0.68095314 0.59486706 1.02346851 1.00033777\n",
            " 0.95691412]\n",
            "Mean: 0.7159117184517422, Std: 0.12589588137729457\n"
          ]
        }
      ]
    },
    {
      "cell_type": "markdown",
      "metadata": {
        "id": "WH_9wVQKA6wP"
      },
      "source": [
        "### PCA"
      ]
    },
    {
      "cell_type": "code",
      "metadata": {
        "id": "lD15WCT5BvM3"
      },
      "source": [
        "pca_stations = PCA(n_components=20,random_state=6011)"
      ],
      "execution_count": 52,
      "outputs": []
    },
    {
      "cell_type": "code",
      "metadata": {
        "id": "69SGJtu2B1ar",
        "outputId": "a9be90cf-7edf-4408-d64b-dac486cabd00",
        "colab": {
          "base_uri": "https://localhost:8080/",
          "height": 75
        }
      },
      "source": [
        "pca_stations.fit(X_train)"
      ],
      "execution_count": 53,
      "outputs": [
        {
          "output_type": "execute_result",
          "data": {
            "text/plain": [
              "PCA(n_components=20, random_state=6011)"
            ],
            "text/html": [
              "<style>#sk-container-id-4 {color: black;background-color: white;}#sk-container-id-4 pre{padding: 0;}#sk-container-id-4 div.sk-toggleable {background-color: white;}#sk-container-id-4 label.sk-toggleable__label {cursor: pointer;display: block;width: 100%;margin-bottom: 0;padding: 0.3em;box-sizing: border-box;text-align: center;}#sk-container-id-4 label.sk-toggleable__label-arrow:before {content: \"▸\";float: left;margin-right: 0.25em;color: #696969;}#sk-container-id-4 label.sk-toggleable__label-arrow:hover:before {color: black;}#sk-container-id-4 div.sk-estimator:hover label.sk-toggleable__label-arrow:before {color: black;}#sk-container-id-4 div.sk-toggleable__content {max-height: 0;max-width: 0;overflow: hidden;text-align: left;background-color: #f0f8ff;}#sk-container-id-4 div.sk-toggleable__content pre {margin: 0.2em;color: black;border-radius: 0.25em;background-color: #f0f8ff;}#sk-container-id-4 input.sk-toggleable__control:checked~div.sk-toggleable__content {max-height: 200px;max-width: 100%;overflow: auto;}#sk-container-id-4 input.sk-toggleable__control:checked~label.sk-toggleable__label-arrow:before {content: \"▾\";}#sk-container-id-4 div.sk-estimator input.sk-toggleable__control:checked~label.sk-toggleable__label {background-color: #d4ebff;}#sk-container-id-4 div.sk-label input.sk-toggleable__control:checked~label.sk-toggleable__label {background-color: #d4ebff;}#sk-container-id-4 input.sk-hidden--visually {border: 0;clip: rect(1px 1px 1px 1px);clip: rect(1px, 1px, 1px, 1px);height: 1px;margin: -1px;overflow: hidden;padding: 0;position: absolute;width: 1px;}#sk-container-id-4 div.sk-estimator {font-family: monospace;background-color: #f0f8ff;border: 1px dotted black;border-radius: 0.25em;box-sizing: border-box;margin-bottom: 0.5em;}#sk-container-id-4 div.sk-estimator:hover {background-color: #d4ebff;}#sk-container-id-4 div.sk-parallel-item::after {content: \"\";width: 100%;border-bottom: 1px solid gray;flex-grow: 1;}#sk-container-id-4 div.sk-label:hover label.sk-toggleable__label {background-color: #d4ebff;}#sk-container-id-4 div.sk-serial::before {content: \"\";position: absolute;border-left: 1px solid gray;box-sizing: border-box;top: 0;bottom: 0;left: 50%;z-index: 0;}#sk-container-id-4 div.sk-serial {display: flex;flex-direction: column;align-items: center;background-color: white;padding-right: 0.2em;padding-left: 0.2em;position: relative;}#sk-container-id-4 div.sk-item {position: relative;z-index: 1;}#sk-container-id-4 div.sk-parallel {display: flex;align-items: stretch;justify-content: center;background-color: white;position: relative;}#sk-container-id-4 div.sk-item::before, #sk-container-id-4 div.sk-parallel-item::before {content: \"\";position: absolute;border-left: 1px solid gray;box-sizing: border-box;top: 0;bottom: 0;left: 50%;z-index: -1;}#sk-container-id-4 div.sk-parallel-item {display: flex;flex-direction: column;z-index: 1;position: relative;background-color: white;}#sk-container-id-4 div.sk-parallel-item:first-child::after {align-self: flex-end;width: 50%;}#sk-container-id-4 div.sk-parallel-item:last-child::after {align-self: flex-start;width: 50%;}#sk-container-id-4 div.sk-parallel-item:only-child::after {width: 0;}#sk-container-id-4 div.sk-dashed-wrapped {border: 1px dashed gray;margin: 0 0.4em 0.5em 0.4em;box-sizing: border-box;padding-bottom: 0.4em;background-color: white;}#sk-container-id-4 div.sk-label label {font-family: monospace;font-weight: bold;display: inline-block;line-height: 1.2em;}#sk-container-id-4 div.sk-label-container {text-align: center;}#sk-container-id-4 div.sk-container {/* jupyter's `normalize.less` sets `[hidden] { display: none; }` but bootstrap.min.css set `[hidden] { display: none !important; }` so we also need the `!important` here to be able to override the default hidden behavior on the sphinx rendered scikit-learn.org. See: https://github.com/scikit-learn/scikit-learn/issues/21755 */display: inline-block !important;position: relative;}#sk-container-id-4 div.sk-text-repr-fallback {display: none;}</style><div id=\"sk-container-id-4\" class=\"sk-top-container\"><div class=\"sk-text-repr-fallback\"><pre>PCA(n_components=20, random_state=6011)</pre><b>In a Jupyter environment, please rerun this cell to show the HTML representation or trust the notebook. <br />On GitHub, the HTML representation is unable to render, please try loading this page with nbviewer.org.</b></div><div class=\"sk-container\" hidden><div class=\"sk-item\"><div class=\"sk-estimator sk-toggleable\"><input class=\"sk-toggleable__control sk-hidden--visually\" id=\"sk-estimator-id-4\" type=\"checkbox\" checked><label for=\"sk-estimator-id-4\" class=\"sk-toggleable__label sk-toggleable__label-arrow\">PCA</label><div class=\"sk-toggleable__content\"><pre>PCA(n_components=20, random_state=6011)</pre></div></div></div></div></div>"
            ]
          },
          "metadata": {},
          "execution_count": 53
        }
      ]
    },
    {
      "cell_type": "code",
      "metadata": {
        "id": "56qoWt7SDjua",
        "outputId": "d44922e9-d6ce-4da4-dde6-daf2d2000d7d",
        "colab": {
          "base_uri": "https://localhost:8080/"
        }
      },
      "source": [
        "print(pca_stations.n_components_)\n",
        "print(pca_stations.components_.shape) #eigenvectors"
      ],
      "execution_count": 54,
      "outputs": [
        {
          "output_type": "stream",
          "name": "stdout",
          "text": [
            "20\n",
            "(20, 125)\n"
          ]
        }
      ]
    },
    {
      "cell_type": "code",
      "metadata": {
        "id": "HDO-qtpMSM49",
        "outputId": "63a7c1ff-cfc6-4682-f553-09345d4225f7",
        "colab": {
          "base_uri": "https://localhost:8080/"
        }
      },
      "source": [
        "variance_ration_cumsum = np.cumsum(np.pad(pca_stations.explained_variance_ratio_, (1, 0), \"constant\"))\n",
        "variance_ration_cumsum"
      ],
      "execution_count": 55,
      "outputs": [
        {
          "output_type": "execute_result",
          "data": {
            "text/plain": [
              "array([0.        , 0.59369887, 0.68608817, 0.75469993, 0.79281085,\n",
              "       0.82173348, 0.84652008, 0.86502377, 0.88082534, 0.89509672,\n",
              "       0.90798609, 0.91723096, 0.92486139, 0.9312862 , 0.93700982,\n",
              "       0.94209304, 0.94673842, 0.95045597, 0.95412672, 0.95716812,\n",
              "       0.96006433])"
            ]
          },
          "metadata": {},
          "execution_count": 55
        }
      ]
    },
    {
      "cell_type": "code",
      "metadata": {
        "id": "E4WMqOqOQiK5",
        "outputId": "3e0741aa-7ce4-4102-b216-15d6fe4007c4",
        "colab": {
          "base_uri": "https://localhost:8080/",
          "height": 517
        }
      },
      "source": [
        "fig =px.line(x=range(21), y=variance_ration_cumsum, width=500, height=500)\n",
        "fig.update_yaxes(range=[-0.02, 1.02])"
      ],
      "execution_count": 56,
      "outputs": [
        {
          "output_type": "display_data",
          "data": {
            "text/html": [
              "<html>\n",
              "<head><meta charset=\"utf-8\" /></head>\n",
              "<body>\n",
              "    <div>            <script src=\"https://cdnjs.cloudflare.com/ajax/libs/mathjax/2.7.5/MathJax.js?config=TeX-AMS-MML_SVG\"></script><script type=\"text/javascript\">if (window.MathJax && window.MathJax.Hub && window.MathJax.Hub.Config) {window.MathJax.Hub.Config({SVG: {font: \"STIX-Web\"}});}</script>                <script type=\"text/javascript\">window.PlotlyConfig = {MathJaxConfig: 'local'};</script>\n",
              "        <script src=\"https://cdn.plot.ly/plotly-2.18.2.min.js\"></script>                <div id=\"6d039c73-b830-4f55-a600-0f64178b5085\" class=\"plotly-graph-div\" style=\"height:500px; width:500px;\"></div>            <script type=\"text/javascript\">                                    window.PLOTLYENV=window.PLOTLYENV || {};                                    if (document.getElementById(\"6d039c73-b830-4f55-a600-0f64178b5085\")) {                    Plotly.newPlot(                        \"6d039c73-b830-4f55-a600-0f64178b5085\",                        [{\"hovertemplate\":\"x=%{x}<br>y=%{y}<extra></extra>\",\"legendgroup\":\"\",\"line\":{\"color\":\"#636efa\",\"dash\":\"solid\"},\"marker\":{\"symbol\":\"circle\"},\"mode\":\"lines\",\"name\":\"\",\"orientation\":\"v\",\"showlegend\":false,\"x\":[0,1,2,3,4,5,6,7,8,9,10,11,12,13,14,15,16,17,18,19,20],\"xaxis\":\"x\",\"y\":[0.0,0.5936988659850616,0.6860881656000924,0.7546999326401884,0.792810848198091,0.8217334834897565,0.8465200762638719,0.8650237748428445,0.8808253366411328,0.8950967246325631,0.9079860889123563,0.9172309619604027,0.9248613882440183,0.9312862043150909,0.9370098154823612,0.9420930399850621,0.9467384231731314,0.9504559715013223,0.9541267208475517,0.9571681195586198,0.9600643318502629],\"yaxis\":\"y\",\"type\":\"scatter\"}],                        {\"template\":{\"data\":{\"histogram2dcontour\":[{\"type\":\"histogram2dcontour\",\"colorbar\":{\"outlinewidth\":0,\"ticks\":\"\"},\"colorscale\":[[0.0,\"#0d0887\"],[0.1111111111111111,\"#46039f\"],[0.2222222222222222,\"#7201a8\"],[0.3333333333333333,\"#9c179e\"],[0.4444444444444444,\"#bd3786\"],[0.5555555555555556,\"#d8576b\"],[0.6666666666666666,\"#ed7953\"],[0.7777777777777778,\"#fb9f3a\"],[0.8888888888888888,\"#fdca26\"],[1.0,\"#f0f921\"]]}],\"choropleth\":[{\"type\":\"choropleth\",\"colorbar\":{\"outlinewidth\":0,\"ticks\":\"\"}}],\"histogram2d\":[{\"type\":\"histogram2d\",\"colorbar\":{\"outlinewidth\":0,\"ticks\":\"\"},\"colorscale\":[[0.0,\"#0d0887\"],[0.1111111111111111,\"#46039f\"],[0.2222222222222222,\"#7201a8\"],[0.3333333333333333,\"#9c179e\"],[0.4444444444444444,\"#bd3786\"],[0.5555555555555556,\"#d8576b\"],[0.6666666666666666,\"#ed7953\"],[0.7777777777777778,\"#fb9f3a\"],[0.8888888888888888,\"#fdca26\"],[1.0,\"#f0f921\"]]}],\"heatmap\":[{\"type\":\"heatmap\",\"colorbar\":{\"outlinewidth\":0,\"ticks\":\"\"},\"colorscale\":[[0.0,\"#0d0887\"],[0.1111111111111111,\"#46039f\"],[0.2222222222222222,\"#7201a8\"],[0.3333333333333333,\"#9c179e\"],[0.4444444444444444,\"#bd3786\"],[0.5555555555555556,\"#d8576b\"],[0.6666666666666666,\"#ed7953\"],[0.7777777777777778,\"#fb9f3a\"],[0.8888888888888888,\"#fdca26\"],[1.0,\"#f0f921\"]]}],\"heatmapgl\":[{\"type\":\"heatmapgl\",\"colorbar\":{\"outlinewidth\":0,\"ticks\":\"\"},\"colorscale\":[[0.0,\"#0d0887\"],[0.1111111111111111,\"#46039f\"],[0.2222222222222222,\"#7201a8\"],[0.3333333333333333,\"#9c179e\"],[0.4444444444444444,\"#bd3786\"],[0.5555555555555556,\"#d8576b\"],[0.6666666666666666,\"#ed7953\"],[0.7777777777777778,\"#fb9f3a\"],[0.8888888888888888,\"#fdca26\"],[1.0,\"#f0f921\"]]}],\"contourcarpet\":[{\"type\":\"contourcarpet\",\"colorbar\":{\"outlinewidth\":0,\"ticks\":\"\"}}],\"contour\":[{\"type\":\"contour\",\"colorbar\":{\"outlinewidth\":0,\"ticks\":\"\"},\"colorscale\":[[0.0,\"#0d0887\"],[0.1111111111111111,\"#46039f\"],[0.2222222222222222,\"#7201a8\"],[0.3333333333333333,\"#9c179e\"],[0.4444444444444444,\"#bd3786\"],[0.5555555555555556,\"#d8576b\"],[0.6666666666666666,\"#ed7953\"],[0.7777777777777778,\"#fb9f3a\"],[0.8888888888888888,\"#fdca26\"],[1.0,\"#f0f921\"]]}],\"surface\":[{\"type\":\"surface\",\"colorbar\":{\"outlinewidth\":0,\"ticks\":\"\"},\"colorscale\":[[0.0,\"#0d0887\"],[0.1111111111111111,\"#46039f\"],[0.2222222222222222,\"#7201a8\"],[0.3333333333333333,\"#9c179e\"],[0.4444444444444444,\"#bd3786\"],[0.5555555555555556,\"#d8576b\"],[0.6666666666666666,\"#ed7953\"],[0.7777777777777778,\"#fb9f3a\"],[0.8888888888888888,\"#fdca26\"],[1.0,\"#f0f921\"]]}],\"mesh3d\":[{\"type\":\"mesh3d\",\"colorbar\":{\"outlinewidth\":0,\"ticks\":\"\"}}],\"scatter\":[{\"fillpattern\":{\"fillmode\":\"overlay\",\"size\":10,\"solidity\":0.2},\"type\":\"scatter\"}],\"parcoords\":[{\"type\":\"parcoords\",\"line\":{\"colorbar\":{\"outlinewidth\":0,\"ticks\":\"\"}}}],\"scatterpolargl\":[{\"type\":\"scatterpolargl\",\"marker\":{\"colorbar\":{\"outlinewidth\":0,\"ticks\":\"\"}}}],\"bar\":[{\"error_x\":{\"color\":\"#2a3f5f\"},\"error_y\":{\"color\":\"#2a3f5f\"},\"marker\":{\"line\":{\"color\":\"#E5ECF6\",\"width\":0.5},\"pattern\":{\"fillmode\":\"overlay\",\"size\":10,\"solidity\":0.2}},\"type\":\"bar\"}],\"scattergeo\":[{\"type\":\"scattergeo\",\"marker\":{\"colorbar\":{\"outlinewidth\":0,\"ticks\":\"\"}}}],\"scatterpolar\":[{\"type\":\"scatterpolar\",\"marker\":{\"colorbar\":{\"outlinewidth\":0,\"ticks\":\"\"}}}],\"histogram\":[{\"marker\":{\"pattern\":{\"fillmode\":\"overlay\",\"size\":10,\"solidity\":0.2}},\"type\":\"histogram\"}],\"scattergl\":[{\"type\":\"scattergl\",\"marker\":{\"colorbar\":{\"outlinewidth\":0,\"ticks\":\"\"}}}],\"scatter3d\":[{\"type\":\"scatter3d\",\"line\":{\"colorbar\":{\"outlinewidth\":0,\"ticks\":\"\"}},\"marker\":{\"colorbar\":{\"outlinewidth\":0,\"ticks\":\"\"}}}],\"scattermapbox\":[{\"type\":\"scattermapbox\",\"marker\":{\"colorbar\":{\"outlinewidth\":0,\"ticks\":\"\"}}}],\"scatterternary\":[{\"type\":\"scatterternary\",\"marker\":{\"colorbar\":{\"outlinewidth\":0,\"ticks\":\"\"}}}],\"scattercarpet\":[{\"type\":\"scattercarpet\",\"marker\":{\"colorbar\":{\"outlinewidth\":0,\"ticks\":\"\"}}}],\"carpet\":[{\"aaxis\":{\"endlinecolor\":\"#2a3f5f\",\"gridcolor\":\"white\",\"linecolor\":\"white\",\"minorgridcolor\":\"white\",\"startlinecolor\":\"#2a3f5f\"},\"baxis\":{\"endlinecolor\":\"#2a3f5f\",\"gridcolor\":\"white\",\"linecolor\":\"white\",\"minorgridcolor\":\"white\",\"startlinecolor\":\"#2a3f5f\"},\"type\":\"carpet\"}],\"table\":[{\"cells\":{\"fill\":{\"color\":\"#EBF0F8\"},\"line\":{\"color\":\"white\"}},\"header\":{\"fill\":{\"color\":\"#C8D4E3\"},\"line\":{\"color\":\"white\"}},\"type\":\"table\"}],\"barpolar\":[{\"marker\":{\"line\":{\"color\":\"#E5ECF6\",\"width\":0.5},\"pattern\":{\"fillmode\":\"overlay\",\"size\":10,\"solidity\":0.2}},\"type\":\"barpolar\"}],\"pie\":[{\"automargin\":true,\"type\":\"pie\"}]},\"layout\":{\"autotypenumbers\":\"strict\",\"colorway\":[\"#636efa\",\"#EF553B\",\"#00cc96\",\"#ab63fa\",\"#FFA15A\",\"#19d3f3\",\"#FF6692\",\"#B6E880\",\"#FF97FF\",\"#FECB52\"],\"font\":{\"color\":\"#2a3f5f\"},\"hovermode\":\"closest\",\"hoverlabel\":{\"align\":\"left\"},\"paper_bgcolor\":\"white\",\"plot_bgcolor\":\"#E5ECF6\",\"polar\":{\"bgcolor\":\"#E5ECF6\",\"angularaxis\":{\"gridcolor\":\"white\",\"linecolor\":\"white\",\"ticks\":\"\"},\"radialaxis\":{\"gridcolor\":\"white\",\"linecolor\":\"white\",\"ticks\":\"\"}},\"ternary\":{\"bgcolor\":\"#E5ECF6\",\"aaxis\":{\"gridcolor\":\"white\",\"linecolor\":\"white\",\"ticks\":\"\"},\"baxis\":{\"gridcolor\":\"white\",\"linecolor\":\"white\",\"ticks\":\"\"},\"caxis\":{\"gridcolor\":\"white\",\"linecolor\":\"white\",\"ticks\":\"\"}},\"coloraxis\":{\"colorbar\":{\"outlinewidth\":0,\"ticks\":\"\"}},\"colorscale\":{\"sequential\":[[0.0,\"#0d0887\"],[0.1111111111111111,\"#46039f\"],[0.2222222222222222,\"#7201a8\"],[0.3333333333333333,\"#9c179e\"],[0.4444444444444444,\"#bd3786\"],[0.5555555555555556,\"#d8576b\"],[0.6666666666666666,\"#ed7953\"],[0.7777777777777778,\"#fb9f3a\"],[0.8888888888888888,\"#fdca26\"],[1.0,\"#f0f921\"]],\"sequentialminus\":[[0.0,\"#0d0887\"],[0.1111111111111111,\"#46039f\"],[0.2222222222222222,\"#7201a8\"],[0.3333333333333333,\"#9c179e\"],[0.4444444444444444,\"#bd3786\"],[0.5555555555555556,\"#d8576b\"],[0.6666666666666666,\"#ed7953\"],[0.7777777777777778,\"#fb9f3a\"],[0.8888888888888888,\"#fdca26\"],[1.0,\"#f0f921\"]],\"diverging\":[[0,\"#8e0152\"],[0.1,\"#c51b7d\"],[0.2,\"#de77ae\"],[0.3,\"#f1b6da\"],[0.4,\"#fde0ef\"],[0.5,\"#f7f7f7\"],[0.6,\"#e6f5d0\"],[0.7,\"#b8e186\"],[0.8,\"#7fbc41\"],[0.9,\"#4d9221\"],[1,\"#276419\"]]},\"xaxis\":{\"gridcolor\":\"white\",\"linecolor\":\"white\",\"ticks\":\"\",\"title\":{\"standoff\":15},\"zerolinecolor\":\"white\",\"automargin\":true,\"zerolinewidth\":2},\"yaxis\":{\"gridcolor\":\"white\",\"linecolor\":\"white\",\"ticks\":\"\",\"title\":{\"standoff\":15},\"zerolinecolor\":\"white\",\"automargin\":true,\"zerolinewidth\":2},\"scene\":{\"xaxis\":{\"backgroundcolor\":\"#E5ECF6\",\"gridcolor\":\"white\",\"linecolor\":\"white\",\"showbackground\":true,\"ticks\":\"\",\"zerolinecolor\":\"white\",\"gridwidth\":2},\"yaxis\":{\"backgroundcolor\":\"#E5ECF6\",\"gridcolor\":\"white\",\"linecolor\":\"white\",\"showbackground\":true,\"ticks\":\"\",\"zerolinecolor\":\"white\",\"gridwidth\":2},\"zaxis\":{\"backgroundcolor\":\"#E5ECF6\",\"gridcolor\":\"white\",\"linecolor\":\"white\",\"showbackground\":true,\"ticks\":\"\",\"zerolinecolor\":\"white\",\"gridwidth\":2}},\"shapedefaults\":{\"line\":{\"color\":\"#2a3f5f\"}},\"annotationdefaults\":{\"arrowcolor\":\"#2a3f5f\",\"arrowhead\":0,\"arrowwidth\":1},\"geo\":{\"bgcolor\":\"white\",\"landcolor\":\"#E5ECF6\",\"subunitcolor\":\"white\",\"showland\":true,\"showlakes\":true,\"lakecolor\":\"white\"},\"title\":{\"x\":0.05},\"mapbox\":{\"style\":\"light\"}}},\"xaxis\":{\"anchor\":\"y\",\"domain\":[0.0,1.0],\"title\":{\"text\":\"x\"}},\"yaxis\":{\"anchor\":\"x\",\"domain\":[0.0,1.0],\"title\":{\"text\":\"y\"},\"range\":[-0.02,1.02]},\"legend\":{\"tracegroupgap\":0},\"margin\":{\"t\":60},\"height\":500,\"width\":500},                        {\"responsive\": true}                    ).then(function(){\n",
              "                            \n",
              "var gd = document.getElementById('6d039c73-b830-4f55-a600-0f64178b5085');\n",
              "var x = new MutationObserver(function (mutations, observer) {{\n",
              "        var display = window.getComputedStyle(gd).display;\n",
              "        if (!display || display === 'none') {{\n",
              "            console.log([gd, 'removed!']);\n",
              "            Plotly.purge(gd);\n",
              "            observer.disconnect();\n",
              "        }}\n",
              "}});\n",
              "\n",
              "// Listen for the removal of the full notebook cells\n",
              "var notebookContainer = gd.closest('#notebook-container');\n",
              "if (notebookContainer) {{\n",
              "    x.observe(notebookContainer, {childList: true});\n",
              "}}\n",
              "\n",
              "// Listen for the clearing of the current output cell\n",
              "var outputEl = gd.closest('.output');\n",
              "if (outputEl) {{\n",
              "    x.observe(outputEl, {childList: true});\n",
              "}}\n",
              "\n",
              "                        })                };                            </script>        </div>\n",
              "</body>\n",
              "</html>"
            ]
          },
          "metadata": {}
        }
      ]
    },
    {
      "cell_type": "code",
      "metadata": {
        "id": "qvCaZn2PGf6n",
        "outputId": "f93c262c-f15d-4121-90d6-faae000f82b5",
        "colab": {
          "base_uri": "https://localhost:8080/",
          "height": 270
        }
      },
      "source": [
        "projected_pca_stations = pca_stations.transform(X_train)\n",
        "projected_pca_stations = pd.DataFrame(projected_pca_stations, columns=[f'Component{i+1}' for i in range(20)])\n",
        "projected_pca_stations.head()"
      ],
      "execution_count": 57,
      "outputs": [
        {
          "output_type": "execute_result",
          "data": {
            "text/plain": [
              "   Component1  Component2  Component3  Component4  Component5  Component6  \\\n",
              "0   -7.114355   -2.175063   -0.379346    2.540779   -0.009440   -0.674176   \n",
              "1  -14.535785   -1.667696   -1.537011    0.242685   -0.569687   -0.257708   \n",
              "2   -7.707024   -2.300821   -0.304957    2.674230   -0.225906   -0.892391   \n",
              "3  -14.915697   -1.532904   -1.260822   -0.110103   -0.341546   -0.315613   \n",
              "4   -7.238659   -2.263573   -0.122216    2.744442   -0.331381   -1.092928   \n",
              "\n",
              "   Component7  Component8  Component9  Component10  Component11  Component12  \\\n",
              "0   -0.654405   -0.005031    0.512845     1.147103    -0.011797    -0.185293   \n",
              "1   -0.734300    0.018334    0.190639     1.124521    -0.658442     0.093078   \n",
              "2   -0.861200   -0.139298    0.587227     1.541963     0.037089    -0.227728   \n",
              "3   -0.884247   -0.053133    0.401786     1.388930    -0.635560    -0.069712   \n",
              "4   -1.152684   -0.237267    0.492314     1.664385     0.055132    -0.222827   \n",
              "\n",
              "   Component13  Component14  Component15  Component16  Component17  \\\n",
              "0     0.354725     0.193992    -0.485729     0.179416     0.686617   \n",
              "1    -0.138747    -0.110550     0.102941    -0.013802     0.024722   \n",
              "2     0.312402     0.313737    -0.506254    -0.075538     0.498127   \n",
              "3    -0.060471    -0.141211     0.027960     0.092237     0.175393   \n",
              "4     0.436139     0.139718    -0.570349     0.116821     0.505888   \n",
              "\n",
              "   Component18  Component19  Component20  \n",
              "0     0.222124    -0.050386    -0.140073  \n",
              "1     0.354342     0.142855    -0.024956  \n",
              "2     0.223177    -0.050878    -0.271154  \n",
              "3     0.367445     0.113294    -0.073569  \n",
              "4     0.314611    -0.110137    -0.328079  "
            ],
            "text/html": [
              "\n",
              "  <div id=\"df-62463498-eef6-4e57-962c-c96bb7eb2faf\">\n",
              "    <div class=\"colab-df-container\">\n",
              "      <div>\n",
              "<style scoped>\n",
              "    .dataframe tbody tr th:only-of-type {\n",
              "        vertical-align: middle;\n",
              "    }\n",
              "\n",
              "    .dataframe tbody tr th {\n",
              "        vertical-align: top;\n",
              "    }\n",
              "\n",
              "    .dataframe thead th {\n",
              "        text-align: right;\n",
              "    }\n",
              "</style>\n",
              "<table border=\"1\" class=\"dataframe\">\n",
              "  <thead>\n",
              "    <tr style=\"text-align: right;\">\n",
              "      <th></th>\n",
              "      <th>Component1</th>\n",
              "      <th>Component2</th>\n",
              "      <th>Component3</th>\n",
              "      <th>Component4</th>\n",
              "      <th>Component5</th>\n",
              "      <th>Component6</th>\n",
              "      <th>Component7</th>\n",
              "      <th>Component8</th>\n",
              "      <th>Component9</th>\n",
              "      <th>Component10</th>\n",
              "      <th>Component11</th>\n",
              "      <th>Component12</th>\n",
              "      <th>Component13</th>\n",
              "      <th>Component14</th>\n",
              "      <th>Component15</th>\n",
              "      <th>Component16</th>\n",
              "      <th>Component17</th>\n",
              "      <th>Component18</th>\n",
              "      <th>Component19</th>\n",
              "      <th>Component20</th>\n",
              "    </tr>\n",
              "  </thead>\n",
              "  <tbody>\n",
              "    <tr>\n",
              "      <th>0</th>\n",
              "      <td>-7.114355</td>\n",
              "      <td>-2.175063</td>\n",
              "      <td>-0.379346</td>\n",
              "      <td>2.540779</td>\n",
              "      <td>-0.009440</td>\n",
              "      <td>-0.674176</td>\n",
              "      <td>-0.654405</td>\n",
              "      <td>-0.005031</td>\n",
              "      <td>0.512845</td>\n",
              "      <td>1.147103</td>\n",
              "      <td>-0.011797</td>\n",
              "      <td>-0.185293</td>\n",
              "      <td>0.354725</td>\n",
              "      <td>0.193992</td>\n",
              "      <td>-0.485729</td>\n",
              "      <td>0.179416</td>\n",
              "      <td>0.686617</td>\n",
              "      <td>0.222124</td>\n",
              "      <td>-0.050386</td>\n",
              "      <td>-0.140073</td>\n",
              "    </tr>\n",
              "    <tr>\n",
              "      <th>1</th>\n",
              "      <td>-14.535785</td>\n",
              "      <td>-1.667696</td>\n",
              "      <td>-1.537011</td>\n",
              "      <td>0.242685</td>\n",
              "      <td>-0.569687</td>\n",
              "      <td>-0.257708</td>\n",
              "      <td>-0.734300</td>\n",
              "      <td>0.018334</td>\n",
              "      <td>0.190639</td>\n",
              "      <td>1.124521</td>\n",
              "      <td>-0.658442</td>\n",
              "      <td>0.093078</td>\n",
              "      <td>-0.138747</td>\n",
              "      <td>-0.110550</td>\n",
              "      <td>0.102941</td>\n",
              "      <td>-0.013802</td>\n",
              "      <td>0.024722</td>\n",
              "      <td>0.354342</td>\n",
              "      <td>0.142855</td>\n",
              "      <td>-0.024956</td>\n",
              "    </tr>\n",
              "    <tr>\n",
              "      <th>2</th>\n",
              "      <td>-7.707024</td>\n",
              "      <td>-2.300821</td>\n",
              "      <td>-0.304957</td>\n",
              "      <td>2.674230</td>\n",
              "      <td>-0.225906</td>\n",
              "      <td>-0.892391</td>\n",
              "      <td>-0.861200</td>\n",
              "      <td>-0.139298</td>\n",
              "      <td>0.587227</td>\n",
              "      <td>1.541963</td>\n",
              "      <td>0.037089</td>\n",
              "      <td>-0.227728</td>\n",
              "      <td>0.312402</td>\n",
              "      <td>0.313737</td>\n",
              "      <td>-0.506254</td>\n",
              "      <td>-0.075538</td>\n",
              "      <td>0.498127</td>\n",
              "      <td>0.223177</td>\n",
              "      <td>-0.050878</td>\n",
              "      <td>-0.271154</td>\n",
              "    </tr>\n",
              "    <tr>\n",
              "      <th>3</th>\n",
              "      <td>-14.915697</td>\n",
              "      <td>-1.532904</td>\n",
              "      <td>-1.260822</td>\n",
              "      <td>-0.110103</td>\n",
              "      <td>-0.341546</td>\n",
              "      <td>-0.315613</td>\n",
              "      <td>-0.884247</td>\n",
              "      <td>-0.053133</td>\n",
              "      <td>0.401786</td>\n",
              "      <td>1.388930</td>\n",
              "      <td>-0.635560</td>\n",
              "      <td>-0.069712</td>\n",
              "      <td>-0.060471</td>\n",
              "      <td>-0.141211</td>\n",
              "      <td>0.027960</td>\n",
              "      <td>0.092237</td>\n",
              "      <td>0.175393</td>\n",
              "      <td>0.367445</td>\n",
              "      <td>0.113294</td>\n",
              "      <td>-0.073569</td>\n",
              "    </tr>\n",
              "    <tr>\n",
              "      <th>4</th>\n",
              "      <td>-7.238659</td>\n",
              "      <td>-2.263573</td>\n",
              "      <td>-0.122216</td>\n",
              "      <td>2.744442</td>\n",
              "      <td>-0.331381</td>\n",
              "      <td>-1.092928</td>\n",
              "      <td>-1.152684</td>\n",
              "      <td>-0.237267</td>\n",
              "      <td>0.492314</td>\n",
              "      <td>1.664385</td>\n",
              "      <td>0.055132</td>\n",
              "      <td>-0.222827</td>\n",
              "      <td>0.436139</td>\n",
              "      <td>0.139718</td>\n",
              "      <td>-0.570349</td>\n",
              "      <td>0.116821</td>\n",
              "      <td>0.505888</td>\n",
              "      <td>0.314611</td>\n",
              "      <td>-0.110137</td>\n",
              "      <td>-0.328079</td>\n",
              "    </tr>\n",
              "  </tbody>\n",
              "</table>\n",
              "</div>\n",
              "      <button class=\"colab-df-convert\" onclick=\"convertToInteractive('df-62463498-eef6-4e57-962c-c96bb7eb2faf')\"\n",
              "              title=\"Convert this dataframe to an interactive table.\"\n",
              "              style=\"display:none;\">\n",
              "        \n",
              "  <svg xmlns=\"http://www.w3.org/2000/svg\" height=\"24px\"viewBox=\"0 0 24 24\"\n",
              "       width=\"24px\">\n",
              "    <path d=\"M0 0h24v24H0V0z\" fill=\"none\"/>\n",
              "    <path d=\"M18.56 5.44l.94 2.06.94-2.06 2.06-.94-2.06-.94-.94-2.06-.94 2.06-2.06.94zm-11 1L8.5 8.5l.94-2.06 2.06-.94-2.06-.94L8.5 2.5l-.94 2.06-2.06.94zm10 10l.94 2.06.94-2.06 2.06-.94-2.06-.94-.94-2.06-.94 2.06-2.06.94z\"/><path d=\"M17.41 7.96l-1.37-1.37c-.4-.4-.92-.59-1.43-.59-.52 0-1.04.2-1.43.59L10.3 9.45l-7.72 7.72c-.78.78-.78 2.05 0 2.83L4 21.41c.39.39.9.59 1.41.59.51 0 1.02-.2 1.41-.59l7.78-7.78 2.81-2.81c.8-.78.8-2.07 0-2.86zM5.41 20L4 18.59l7.72-7.72 1.47 1.35L5.41 20z\"/>\n",
              "  </svg>\n",
              "      </button>\n",
              "      \n",
              "  <style>\n",
              "    .colab-df-container {\n",
              "      display:flex;\n",
              "      flex-wrap:wrap;\n",
              "      gap: 12px;\n",
              "    }\n",
              "\n",
              "    .colab-df-convert {\n",
              "      background-color: #E8F0FE;\n",
              "      border: none;\n",
              "      border-radius: 50%;\n",
              "      cursor: pointer;\n",
              "      display: none;\n",
              "      fill: #1967D2;\n",
              "      height: 32px;\n",
              "      padding: 0 0 0 0;\n",
              "      width: 32px;\n",
              "    }\n",
              "\n",
              "    .colab-df-convert:hover {\n",
              "      background-color: #E2EBFA;\n",
              "      box-shadow: 0px 1px 2px rgba(60, 64, 67, 0.3), 0px 1px 3px 1px rgba(60, 64, 67, 0.15);\n",
              "      fill: #174EA6;\n",
              "    }\n",
              "\n",
              "    [theme=dark] .colab-df-convert {\n",
              "      background-color: #3B4455;\n",
              "      fill: #D2E3FC;\n",
              "    }\n",
              "\n",
              "    [theme=dark] .colab-df-convert:hover {\n",
              "      background-color: #434B5C;\n",
              "      box-shadow: 0px 1px 3px 1px rgba(0, 0, 0, 0.15);\n",
              "      filter: drop-shadow(0px 1px 2px rgba(0, 0, 0, 0.3));\n",
              "      fill: #FFFFFF;\n",
              "    }\n",
              "  </style>\n",
              "\n",
              "      <script>\n",
              "        const buttonEl =\n",
              "          document.querySelector('#df-62463498-eef6-4e57-962c-c96bb7eb2faf button.colab-df-convert');\n",
              "        buttonEl.style.display =\n",
              "          google.colab.kernel.accessAllowed ? 'block' : 'none';\n",
              "\n",
              "        async function convertToInteractive(key) {\n",
              "          const element = document.querySelector('#df-62463498-eef6-4e57-962c-c96bb7eb2faf');\n",
              "          const dataTable =\n",
              "            await google.colab.kernel.invokeFunction('convertToInteractive',\n",
              "                                                     [key], {});\n",
              "          if (!dataTable) return;\n",
              "\n",
              "          const docLinkHtml = 'Like what you see? Visit the ' +\n",
              "            '<a target=\"_blank\" href=https://colab.research.google.com/notebooks/data_table.ipynb>data table notebook</a>'\n",
              "            + ' to learn more about interactive tables.';\n",
              "          element.innerHTML = '';\n",
              "          dataTable['output_type'] = 'display_data';\n",
              "          await google.colab.output.renderOutput(dataTable, element);\n",
              "          const docLink = document.createElement('div');\n",
              "          docLink.innerHTML = docLinkHtml;\n",
              "          element.appendChild(docLink);\n",
              "        }\n",
              "      </script>\n",
              "    </div>\n",
              "  </div>\n",
              "  "
            ]
          },
          "metadata": {},
          "execution_count": 57
        }
      ]
    },
    {
      "cell_type": "code",
      "metadata": {
        "id": "COuY-gC2QnOb"
      },
      "source": [
        "from plotly.subplots import make_subplots"
      ],
      "execution_count": 58,
      "outputs": []
    },
    {
      "cell_type": "code",
      "metadata": {
        "id": "fo8IMJH9GN2z",
        "outputId": "b4c224fe-b714-4459-c195-1462cfdba4c7",
        "colab": {
          "base_uri": "https://localhost:8080/",
          "height": 317
        }
      },
      "source": [
        "#fig, axes = plt.subplots( nrows=5,n_cols=1)\n",
        "fig = make_subplots( rows=1, cols=5, subplot_titles=[f'Component{i+1}' for i in range(5)],\n",
        "                    column_widths=[50 for i in range(5)], row_heights=[50 ])\n",
        "for i in range(1,6):\n",
        "  scat = px.scatter( data_frame=projected_pca_stations, x=f'Component{i}', \n",
        "  y=y_train, color_discrete_sequence=['black'], opacity=0.3,\n",
        "   trendline='ols' )\n",
        "  fig.add_trace(scat.data[0], col=i, row=1)\n",
        "  fig.add_trace(scat.data[1], col=i, row=1)\n",
        "fig.update_layout(\n",
        "    height=300, width=1500,\n",
        "    margin=dict(l=5, r=5, t=30, b=5),\n",
        ")\n",
        "fig.show()"
      ],
      "execution_count": 59,
      "outputs": [
        {
          "output_type": "display_data",
          "data": {
            "text/html": [
              "<html>\n",
              "<head><meta charset=\"utf-8\" /></head>\n",
              "<body>\n",
              "    <div>            <script src=\"https://cdnjs.cloudflare.com/ajax/libs/mathjax/2.7.5/MathJax.js?config=TeX-AMS-MML_SVG\"></script><script type=\"text/javascript\">if (window.MathJax && window.MathJax.Hub && window.MathJax.Hub.Config) {window.MathJax.Hub.Config({SVG: {font: \"STIX-Web\"}});}</script>                <script type=\"text/javascript\">window.PlotlyConfig = {MathJaxConfig: 'local'};</script>\n",
              "        <script src=\"https://cdn.plot.ly/plotly-2.18.2.min.js\"></script>                <div id=\"9ddd95c9-41fa-4808-a035-bc4fde928ea0\" class=\"plotly-graph-div\" style=\"height:300px; width:1500px;\"></div>            <script type=\"text/javascript\">                                    window.PLOTLYENV=window.PLOTLYENV || {};                                    if (document.getElementById(\"9ddd95c9-41fa-4808-a035-bc4fde928ea0\")) {                    Plotly.newPlot(                        \"9ddd95c9-41fa-4808-a035-bc4fde928ea0\",                        [{\"hovertemplate\":\"Component1=%{x}<br>y=%{y}<extra></extra>\",\"legendgroup\":\"\",\"marker\":{\"color\":\"black\",\"opacity\":0.3,\"symbol\":\"circle\"},\"mode\":\"markers\",\"name\":\"\",\"showlegend\":false,\"x\":[-7.114355238278364,-14.53578539610926,-7.707024264660686,-14.915697094903624,-7.238658815388518,-14.955598507674967,-7.917202813122962,-14.487307217894568,-7.155198507044575,-14.351612758440028,-7.088355910126124,-14.368852418814928,-8.948703201415894,-14.67657915843954,-5.619040251584732,-14.15139962860469,-5.606287146723823,-13.341256243183565,1.7101536922648577,-12.416421194094768,-6.437887488473964,-14.7677150892,-6.2650239993621515,-12.923497799154385,-4.933602291959041,-12.386665731121191,-5.082241176735377,-15.754369366624168,-4.760224645368205,-13.500092173900816,-5.364277280951831,-12.356088347145855,-2.3969909618228087,-10.562092988455133,-5.432399678918492,-12.347023672607904,-1.4381417906238712,-9.360246396407305,-5.303214389688169,-9.505952714663463,-6.202160499548083,-12.038313280992195,0.039463020877418674,-8.835065387953879,0.9735646816831275,-7.236145822972902,0.7626337151541733,-1.0345282285279354,0.3574616265215903,-6.8141629563225115,0.058437757615726955,-7.888430141361739,0.8142239185001897,-6.636374933937643,-3.7047953717097566,-12.045901185568471,3.9878831301225452,-6.757944946471172,-1.7708333090936974,-9.365689555836688,-1.6392013345718186,-7.4923230622532975,-4.137646170059827,-8.657048021100875,-2.540673605688164,-6.441329738805486,-2.5147375071108162,-7.905089265969243,1.0230716378880513,-9.352664980344692,-7.163458409150521,-13.698837511822726,-3.7933659640282493,-12.68901313878173,-0.07106293268839789,-9.232433846912048,-0.038625144356630746,-1.7761382910029961,-6.42442353281102,-10.787983765966118,-2.3059635928140745,-10.871994747600562,-5.630451280696137,-11.494235798937444,-2.92467110073881,-9.721483619222118,-1.2296147105194764,-9.73494560716358,0.7625283395318935,-12.12334595348826,-8.418972147681535,-14.33692589557529,-4.729870708098624,-11.769924597257997,-2.27098159181596,-11.489435816159757,-2.2968128029462136,-10.577066891406723,-8.024780507797995,-14.45319302450431,-10.636008550988986,-15.30465551095013,-8.775052860014217,-13.659994589980915,-6.7131785476725465,-14.064341930936946,-5.597812622534742,-13.39366339733975,-5.277543330159222,-13.088829912990732,-6.216476323156338,-14.097083803437794,-4.280233216498251,-13.86048318180964,-3.927277810956279,-10.945672529648585,-4.119764374858208,-11.902264596683239,-6.461440095639339,-13.9401261729648,-6.913493849379127,-13.255165765667975,-0.15042385736268932,-13.460357351214757,-4.15647428540842,-12.493426581077387,-6.640768806868711,-16.530337261131624,-0.2194285416428785,-13.054603674173192,-2.5859337675020075,-10.964747368183623,-1.6210753408922267,-11.825935575240056,-4.663944888057357,-10.190003279818848,-3.24079575698888,-11.459414881290343,-7.124413249666484,-12.278941257942073,-3.0953649324960146,-11.05392503354204,-5.763432849463887,-9.678829044447644,4.639317937698656,-6.395678646582135,-1.7036931645481321,-9.446511235027268,-0.5084681185730078,-8.871497172519382,3.192596982369789,-7.044079764817835,1.9614554490575964,-0.6778338560248472,-1.3947628570660324,-7.616213548639166,0.5616530317107076,-6.185039724552938,2.344568943398761,-7.267137780862539,-1.1428155636382746,-10.143015699654544,0.1840331797381339,-7.042034427591219,-0.6137345765355361,-8.348812851088558,3.052093047434614,-1.3587377971813792,-2.7985229881084375,-9.390543635899155,3.863835268554342,-4.033637021004359,-2.5846827261748517,-10.518787484100336,-1.715705747469723,-9.946842173959373,-1.0200966525220194,-10.455605459442927,1.759262375525358,-7.613810083452511,-0.025061816400376215,-9.365911095868986,0.28195070534954264,1.818039167065333,0.08389779302249258,-9.435984832908023,-0.3204910464111469,-9.725301651152417,-2.2175473293135206,-10.815428932951457,-0.03463703355395885,-9.459760876052052,-1.3111818932570751,-10.90804999341252,3.4158073106675486,-11.02127024509104,-7.255906640612818,-13.435305559225444,-1.111286035629139,-11.2825255961948,-0.6075013196180931,-9.837847073926518,-5.03189192886642,-12.447037371160349,-9.375834242804519,-13.593706225161302,-8.120200616936811,-14.430890329646108,-8.492083657604631,-14.673770247315804,-7.268248955741131,-14.29320192057333,-7.598461367189439,-15.054087660979139,-5.508368705025164,-13.04816530929643,-6.886708160273947,-14.053009661565932,-6.1739661713481135,-12.925304378915706,-6.082062041253854,-13.422387009558626,-4.783263721153261,-13.657481445248807,-6.260866778971979,-13.875315579933588,4.718968643802183,-8.505545703019562,-4.702079664670074,-10.67151904909909,-5.628088875720088,-12.971358924050786,-4.595448641101812,-13.194105548938262,-0.009031648926656529,-9.082238813631388,-7.6008992307859025,-15.332574739978398,-3.940174398639885,-11.269086005823796,0.36648441629358824,-9.929036669775103,-2.160198819542092,-11.38089913297974,-3.5796299709825594,-11.471398604877148,-2.4859341606867202,-8.804638585843644,-0.9210602152007392,-6.682754010860883,3.68916949168998,-7.710806738637397,-2.853634662576765,-10.728277831781785,1.7165873006114463,-6.953022455595481,0.07708388015333156,-0.08028454080749035,4.490386887244086,-4.495463536666669,2.2595782900187715,-4.929030554154813,-1.795610218965811,-9.849704048896823,-2.6300741124465286,-9.747639520065047,8.216245849813465,-5.318921190151894,1.4058179849561672,-7.421088056960471,4.588889463771007,-1.5037368986641462,-3.171324017298502,-9.842864734479482,1.5232715883623411,-5.718127589893239,-1.7555319750387466,-10.416333627785487,3.088392048977743,-7.195965329712986,-0.5465891757705195,-9.285882994935962,4.804714373472631,-6.690907136762797,6.965970729126879,-8.105759329205979,3.1370433233597166,4.6183394838366985,2.3286133821568646,-7.790626372872668,-0.32675618414929236,-8.38096710329337,-3.178471867273811,-10.488142674236778,-1.216577488191969,-9.516184234407062,-0.055490351727893114,-9.239181325879812,3.3029319267290416,-11.612162245659784,-6.647206383915093,-10.753322244702794,-1.076970331941237,-10.574442731005663,-2.738583697896203,-10.421484587303366,-4.5033683249444,-10.019535567528596,-10.441453467127454,-14.537022461481525,-8.601515764843114,-15.801381502111152,-7.322112119508987,-13.931044087343725,-5.395417627992737,-13.71496632877104,-7.621122806025286,-14.539982079014171,-9.33977707349557,-15.209506548306978,-6.158799231936176,-13.613300839417695,-4.0275629256911305,-12.787997661120643,-5.945599966489367,-14.836243889606191,-2.9966519412136017,-11.48906757583598,-4.40418185693906,-13.157106235805653,0.5401597546714652,-12.048912662657514,-2.398450238311043,-13.191014540056424,-3.742135931088883,-10.80625485796008,-4.061008440216749,-12.438893268445213,-7.312543402344902,-16.49818500546027,1.2345924359885718,-8.27269531100891,-0.7175538344051893,-8.959268732557524,-6.066943846300796,-12.294770875472032,-1.0261059184413295,-9.584157812317635,-3.224528892982878,-10.990875570476454,-0.27272833356869775,-8.123180417201985,-4.539254108928654,-12.764924792323695,2.5351112973916097,-6.189176878526094,-0.21449308249759752,-9.167853063100793,1.5259668311007626,-7.747687706430669,1.9230117963924842,0.09984417686543781,8.333172164406456,0.8447168064914031,-3.3364442193897816,-9.341900681390728,4.686027441993501,-4.045090724248953,-1.8430883511631764,-6.976576401420945,5.8558340265702435,-5.259494607759481,-1.371603542741487,-8.374624770448996,2.4993032055491735,-6.599250402459698,1.6945693572974012,-5.703544158071791,-1.8854460725285775,-7.209570311726519,-2.625041850628822,-7.109717642430273,1.5749641096731433,-5.857503981194773,-1.2807928246974996,-9.561951726057188,-2.6280537839394333,-10.510729008150083,3.019702738372285,-6.737440959226183,1.5743780905277764,2.925146737501702,-2.4876186698110887,-9.167226678407399,-3.113909679276977,-10.016363476619812,-2.725211796815841,-9.068940531246023,-1.555639780710981,-10.475446406836365,-0.9121062893676262,-10.435798614804998,3.606749513959335,-9.329025310720372,-9.240306262291515,-12.624965888211714,-0.9964075939092849,-9.422641493667019,-2.5449131809345733,-11.77768425417444,-4.039557521648131,-14.039533110025562,-23.56683634861808,-17.58451086144778,-10.939970978918119,-14.170268779288673,-8.160327213458324,-14.860940326241222,-9.028370066008197,-15.140873504050957,-7.62678606546951,-13.856762724188755,-7.100598956365925,-14.093388999838488,-4.339349336921571,-13.679251391749347,-5.361012387721172,-14.38086390275728,-5.332501694781146,-14.012800095574727,-5.855951407850584,-13.506078762919898,-6.098653821610095,-12.20103592825171,-4.1326730287702595,-13.092299737604737,-5.010093406053819,-12.816179042666555,-9.032782562245002,-16.623278621685287,-4.179232185914011,-10.94960769776694,-0.4993493185690462,-8.28611257048925,-3.5969707670661486,-11.568632017058158,-4.785982733655563,-10.659613625780263,-5.305181008257073,-12.59101037685412,-1.2192073723081165,-9.163908230050211,-2.8636884916851426,-11.339030193954438,1.832604450645745,-6.901683570586883,3.4239942976838176,-3.9908184229223447,-3.4616872980164066,-10.050633702280168,7.455427254074804,-3.438824535502043,-1.8072282061514893,-9.720254271491038,3.5807064351717974,2.4891626593569898,9.906340917280351,16.185524109439523,-2.2138875886093805,-9.690171125750577,6.608972668963824,-4.873265078839188,0.5803632344970511,-7.6365633642266815,5.850135965066046,-5.110530410630391,0.7587007077572241,-6.616245903860926,0.9775781249049047,-6.645882138008611,0.266044022006953,-4.943035169806288,2.8878913475182544,-4.713479217532679,-0.38256365326475666,-0.5493870731903968,2.293459701482097,-7.605052012550064,7.295112576799739,-2.29565903869512,5.660532304584588,-3.9123522524323655,1.9419914412516475,-8.562974732422338,3.382268765639653,5.528087470066453,2.8861955943599966,-5.394370193526214,3.5614278407303432,-5.292123083554654,2.954802321096081,-7.640544235165393,0.5299068256428724,-8.809801148738131,1.6298246286493518,-7.071121118200575,6.518255197542506,-7.854394059825329,-4.960396692266518,-11.89728394799659,0.060418359351388506,-8.846705529579838,-0.5493519299106414,-9.772143495596836,-1.0801106422196958,-9.585481080414484,-14.568037461840396,-22.41805219868735,-3.7827241933918914,-9.429480023645944,-6.389962982400178,-12.692776192439194,-3.4495391555057293,-9.561978110988187,-3.7029288271977348,-11.816121636536046,-3.33091584778152,-10.934586130560884,-3.217591431106698,-11.80364578086991,-2.1009447164462007,-10.668977917927108,-6.750947114791947,-12.319154755772344,-2.8117822959501355,-11.456877918896785,-2.03234818175544,-11.43380401692821,4.5300606833711905,-9.30351486974435,1.5961421864218985,-9.638930886405333,-2.0915320902322376,-9.68337817519821,0.6060589318450206,-7.350319844160269,3.5781623162162024,-5.379461390306559,-2.286402406882644,-14.810978763070846,0.49035709396764865,-8.736877149930775,1.9314475142011749,-9.38054572792834,1.1775592153870926,-8.090220041501253,1.4866940319823045,-6.740519834372876,1.0107812518520134,-7.877299147821394,5.0588991966678725,-0.5545194857179142,1.3007599424263798,-6.476665646378911,-0.3361545463364448,-6.916951368626463,5.615078063889495,-5.261341205229171,1.671714402244073,-0.7624937255734954,8.61722195809474,2.690341537163491,5.163176195045121,-3.603331121619292,9.684285939596455,1.0511258042941622,6.964477376203905,-4.9079143847264675,10.104095190286118,-1.553787551066544,14.585115667784715,4.93034199624395,1.775448768326725,-6.48136775893243,5.8792817943496445,0.6540197943404241,0.9612801680568783,-6.020518525938196,6.956199121534672,0.9842199719265938,2.91182536269222,-8.585949179447967,8.450566870157408,-1.7227380024168149,-0.009333308100054465,-7.243174094511746,6.1830394966409346,-1.8627269245224234,2.5156308689372224,-4.476520793075788,4.319757606041205,-6.642925415259675,5.889812956070383,5.5500574750321015,4.67724347346836,-4.650337377795349,2.5160079322578994,-5.115986308944777,4.468716845001983,-6.6538176522827,7.962490583190395,-7.844730554032608,-1.8536541455634614,-9.804105194888496,2.139667188340762,-8.025609926872454,1.6190350833740945,-8.23773423501955,2.266514983787101,-6.497718477217857,-6.54363908463434,-15.59186116715188,-2.248926491685092,-2.357818496265387,-3.146681354291451,-11.470810395712384,-2.823017042571459,-9.84447358366339,-2.2977904487577203,-10.382581471765993,-2.061322546042861,-11.906463780034478,-8.130783956289537,-15.031570962899353,-4.273820240581565,-12.18004744094577,-2.6872308396220626,-9.620859118659897,-3.0116310353893194,-12.291655015023546,-3.0315813503603795,-10.720386330533048,0.450037268517137,-8.818466348741016,11.980854652667864,-8.096174294723097,-1.1615322220848914,-5.929608031808231,-1.3766419914758248,-10.087482691649479,-5.266229320010671,-13.847390607098026,2.5650821224348275,-6.444369535788722,1.7175642900756667,-6.282090201663689,-9.73531452568012,-14.624679857887381,4.743366534237747,-3.837528513634203,-6.833870503375136,-15.451743244592139,-6.520880884916276,-11.626537269237629,-3.3615835213103478,-5.767947021757456,2.752684248581248,-5.627093919486774,4.013853848938401,-4.650896614498166,0.8879046180459407,-7.509198642370239,-0.8112791944640175,3.42494917667138,10.755456694244911,2.994464804317298,3.7487784668309425,-5.29419548177287,7.180801177578401,-1.6572347485295973,5.484647088705819,-3.760555611083494,3.439384228820823,-5.476520950647934,10.827596839578764,2.562610634583961,2.1357826326084735,-5.753671517464989,5.84770901979947,-6.670368113152709,2.310437648079768,-5.510305701104049,9.0143040245115,2.9386361463941726,2.9275384218938196,-5.986069964586918,2.9273188050100405,-5.903354108018191,-4.498525280779698,-9.830400508246464,-6.811892226070132,-13.953462382595582,9.93674723309908,6.686162581900675,-7.960461927357289,-13.736225520661804,-7.187443194570256,-13.41015161358922,-8.509363761443167,-13.584779243351877,-8.841453732340266,-15.20893625879802,-8.890553582778002,-15.516944143210896,4.152075676197189,-10.635605022074156,-5.8905648445722925,-11.346371197583448,-3.4096680670359025,-10.736702442694199,-1.7338016362611082,-11.308128366792689,-1.7041965780091188,-10.482068093387293,-5.791269320036858,-13.985470821507416,-5.816576551023335,-8.334885032806346,-6.090955814788992,-12.229812299253235,-4.60856580265421,-12.5394002800302,-9.949344478908511,-15.003542627351264,-4.75311301473846,-11.391876064533662,-2.1728533467521,-11.389705134057087,-2.7988372884571016,-14.354323485292166,-3.5085440707990405,-12.245242983237636,-4.560590316781328,-12.066219798219864,-5.273885037663966,-12.00167795339177,-7.0428217834140545,-12.93552348860415,7.3084835674528845,-10.31495970600663,-5.743235923895153,-14.344389323102678,-5.974752349597104,-10.134535666069434,-5.627658397073735,-11.991656694059646,-11.002571211182863,-16.039807562225203,-2.0407908617175856,-7.495238672464792,-9.750478287002089,-15.159139216534088,-2.9599190787711382,-11.489495637494693,-8.579129129976499,-16.75364628093022,-6.0149381962378445,-12.09043031476046,1.5285322254360576,-5.029802701971688,-4.823121860086959,-10.647950454538707,-7.506713118694258,-11.70612691493588,-7.099988636548556,-14.896988867202461,5.122626882350333,-8.133655854825399,9.670888069536389,8.190005044874153,4.0618122857150425,-3.509040567576277,-4.979442920582846,-9.07812962397545,-8.0758970199269,-11.679377805843313,9.98845383190152,-8.230111527472323,15.05698380703562,7.375594819172472,-0.609168365394216,-7.099990446520312,4.530178738602203,-2.816468313037653,-3.913332811689767,-9.351255097734686,-3.651125835778147,-5.359577071325896,4.596807191821819,-7.243749163639224,-3.1370418816687535,-10.378126710480341,11.247436207226523,-0.33407646701572447,5.06105992635149,-5.429596328583679,3.202792644928657,-6.965527138295599,8.411999819595962,10.687511992353269,7.1457072953528264,-3.5548290971552032,4.478533850586532,-6.01626750785741,3.760847501660667,-5.532493261326532,4.762307834491035,-5.6770083550526795,3.57303396746063,-7.812193112458637,8.975681482474842,-8.115653183180022,-3.165490711442289,-11.76943845540889,0.6945686905401905,-8.071622149294296,1.1072902918572651,-7.964947389024158,-0.7274456012538398,-14.56593497975761,-9.375049581175967,-11.283343540567232,-5.054492270412468,-11.726109745440048,-4.051884418898093,-10.965924232898717,-4.189006741979522,-10.169066103605156,-2.870900346607485,-10.935873174204438,-1.3582197451820133,-9.525314377857072,3.2154750952157682,-8.925786150904612,3.172438267895261,-6.537758196526769,-2.3701387722748524,-10.24057095823584,-0.11370667641648009,-10.792115456791924,-2.4617236321559264,-11.36147863016111,13.209263993219087,-4.46619348289776,2.1959628513693596,-7.318867885841314,-1.305608567227107,-9.535634036720541,3.7959402888164817,-9.170144606977942,-0.35215009402793845,-11.131772845092787,9.405021668305766,-7.7470165329308065,0.6758437902464316,-8.371101525616444,5.585947527718907,-2.9982186000764024,-0.24834467905173188,-8.566344395366263,7.776191362734843,-2.188550684718873,2.0849911194083472,-3.73991691669138,5.421761956327313,-2.779249786608893,2.4266413926889,-6.889441742869566,10.827290834400678,4.64548155360552,9.65006479329019,-2.367224116057988,10.58727857073501,14.851494857462752,7.639283458836683,3.115347317458182,10.034219314119493,3.8618522854930175,6.609869142680962,-2.7845924657447307,13.876223963768803,2.114835308544295,5.731383191451854,-0.3121454893578577,11.74285935981198,4.124713482063127,14.031355613938727,2.6404547403388157,4.58647999100694,-5.462295148451879,7.985640043145799,-1.5296296397170834,6.936650812713189,0.7895924983991419,15.358869510287004,4.833047454339901,6.533879927904625,-3.053305598405014,8.423530369174106,-3.354754670736033,8.243457935215917,-0.3391216833244156,8.762379236996395,10.225645017165181,7.99729195332278,-2.5357008680299655,5.3464732010660185,-4.738549155384164,6.465334412288836,-2.6015193613809116,7.492048154101624,-2.9240775847060054,5.490075805968021,-5.5737299704881,14.40285017124231,-2.9283226745587223,-0.6816886740523536,-10.0535417424241,4.961404424916242,-4.136238929289658,4.031659983253707,-4.8687454268317145,0.992106594695948,-6.529105305704002,-10.345552532721642,-12.225089879465289,-6.950441656534508,-12.563571905559206,-3.3721521995780166,-11.102759306933153,0.00521032635453112,-7.520982369362716,-0.08671537419041483,-9.136211787776103,0.7966132016848336,-8.118172176868562,0.25511139040814534,-8.32936400093474,3.954267882424142,-2.775203406063202,2.7904834935090244,-7.364759205334115,2.7206598693043262,-6.82452564331194,4.969107609819019,-6.835759118367735,10.577786463967268,-5.189698326344501,-1.5721356914581555,-5.660746918808213,2.308693964596271,-6.7927397364620505,-0.32908562534243607,-10.178352881581889,8.495802053448598,-4.56750075112909,10.79387044138661,-0.23578717458702222,3.738298867321893,-6.693323381369676,11.255118070434504,-0.7840602884867163,2.82571277268529,-5.805241178840802,9.984871163323527,-0.06437081734435586,5.193341458885319,-2.34019804241096,13.946669533368633,6.538159124453665,2.63316490722389,-4.182672585251967,10.719631520749054,1.793796681857781,13.3060845017655,-3.265055586662545,10.042316037717843,12.720480122043359,15.39309314861036,11.400798612426463,5.141353485557363,-3.5234451191818277,19.163727740555284,6.032303043813288,10.526687732385422,3.6631705111787918,9.00781436045081,0.9715237459988054,21.862647244941748,10.204539450337311,8.536049739944563,1.4961104408496062,12.952781850226305,1.4833768439125194,9.314706906597888,-0.5651977802810947,13.503629305759599,9.141223027752975,7.718756660389702,0.4314936109851512,12.835672590361934,0.477039715885952,15.215798848304138,1.8855913359741334,6.555841354435046,-2.9340313452508275,14.373982601719927,14.954400750081204,12.00588964395544,0.6257876706203437,9.628584341035431,-1.166500051514725,9.074090430871612,-0.5208304836018013,10.249016440412555,-2.569203605255858,8.462981240314043,-1.811966425938372,23.364958586261118,-3.4040680522020383,-0.7284298780791151,-6.318782383215975,6.446440530318957,-4.736699999611919,4.9759613271837715,-6.653027725847397,3.6622005750656594,-5.262632249381924,-20.444728605674324,-11.439712811863025,-6.623985962675297,-10.170504638344841,-0.6852671276975478,-9.094581937381129,0.9977372840223744,-6.118958934642143,-1.3407166933339314,-6.936416202418551,3.0590816743482985,-7.5098648620209065,4.473235124517209,-6.326555997667244,6.035858300055395,-2.9204840843682125,8.202824589917611,-6.2863293965307285,4.704517448626918,-4.793832536624956,2.410721720352848,-5.669148526561178,16.22297857585618,-4.165221168252944,7.423728825466123,-6.577298840313931,4.019472986400858,-5.187003006369597,11.821533609216578,-1.761708687096027,10.190514878960443,1.917023029408415,4.897652079399025,-2.9649214230950274,9.056629654805818,-5.102251038583956,8.649396898985309,-2.15701088983585,10.478517919771729,-0.4100855522927458,7.695209944316562,-4.360269417034101,5.595237765676279,-2.2905550510836505,9.89575857805021,0.05059565946376187,9.339909165679506,0.13911854344900867,8.045654020792075,3.219358878756101,16.72768096164191,2.8140403673098273,14.35973909170897,23.529827636358462,17.129315581247198,12.410755660791265,11.687237466156002,0.8211118482559285,17.478115420516694,6.416577292046015,15.904423024847288,3.3363788225136433,10.848506834903018,4.7016383654011324,22.257618100574064,9.772833917016085,10.281005793599334,2.875070548342348,14.518246642531142,8.900324280882955,10.198662667300027,-0.29788046751411384,13.274377948570976,11.695336462896845,11.604707029501286,1.3044392549863628,17.035875109397708,0.5706962248198397,10.337872476604584,-0.22779196501447413,11.92286891525877,0.4657508287831418,15.618398494050947,17.720071636860425,14.674818054482147,2.0686903521523132,13.181830250109545,-0.11729952216311818,10.870454750485454,-1.1238854333871344,16.29444644148437,-0.21258157118964094,12.12881596067164,0.7705486196616045,19.038954012246652,0.0922519072796044,-0.17969244257376799,-6.907961729393402,10.733139254364785,-0.34840030124278865,9.369837639135914,-2.276840150169402,9.433121429646611,0.09546577789277441,-8.778018100111048,-19.32291426003137,5.417213500127351,-2.6671660201851264,4.199331060603712,-5.593626462598736,3.164634856792366,-4.908787311220473,4.369461517447333,-5.683593730936031,6.667271536878265,-4.208109209069298,6.083392582979652,-4.7612767010757775,5.548532255518196,-4.361379502875578,10.413109226429148,-0.7288862972752647,6.58514495953748,-3.539998249116653,6.539966599959596,-3.6943770127608024,9.50357161726368,-1.3118520678051828,40.37319862849332,3.8950080370599642,7.730597086356632,2.2266687671216405,9.242319465665954,-1.2559668907564712,10.642030057396843,-3.765025384564699,11.568857204961553,-1.8131319466149431,14.376830016458706,2.153220404517903,7.2115347832322705,-1.2226014518539008,15.427930048007624,2.4127564799926713,7.443103990887971,-2.140107094474495,11.297671412202483,4.6160198598634015,11.370970108493886,5.529841074250493,11.713465419956588,0.8109544926567995,20.752760991837533,5.450919385522396,18.39725487171019,5.56817004637836,13.353547180531576,22.595048834019156,14.689105123630107,3.718458550793091,8.582849654724683,-0.11495270245340627,19.46050321750073,9.97928279804261,11.538269062855251,2.8493745782955764,18.737535789794673,5.809664997321857,16.85951050114976,9.691219485064888,19.61862873497107,7.791086839248983,14.440575404730295,3.3069168381439575,15.584520617340589,0.23153950581625568,14.978947600315262,10.787328883601852,20.22923993647796,3.531081061696388,16.502107261694697,3.308676449444042,16.534335614764547,5.004123292750006,14.336934926173628,1.5426864910573987,17.003440516343122,17.409731095251665,9.585121500729013,-0.5161100830548024,14.940302523917454,2.0664044352628372,13.038934073458613,1.2148629073539197,11.70560297668384,2.0251858045310076,11.726223537369096,2.2523989369476647,22.731525831367637,0.0915627490776956,2.8266161483575467,-3.6649189781688607,13.347915029924437,1.6505524181177644,12.087798228740674,-3.4914433564502048,7.874440160992448,0.8608716659912538,2.439628099512503,-5.459640799367813,1.6763608104770835,-3.592626939885251,0.6456244223194676,-6.7582454420117575,4.746699450291084,-6.474966625557216,6.421908802825898,-4.9802834445098725,4.097846478682001,-6.856984071584594,2.1752598757945796,-6.502924862268136,6.338303559596388,-5.779274198426096,2.1833639704499284,-4.433582674590225,2.280980193821072,-7.599016652178981,6.067463928659155,-3.7189601858746286,6.662927773043874,-3.5295276138206497,29.53995049530605,1.8368947211300324,6.667737044047398,-4.15953109421171,4.107790890072297,-7.225721995649671,10.209678671524648,2.1059563124703176,12.578620871247645,3.27583961946896,8.958680310423816,-2.414549423109097,11.422789932688307,-0.7785745064296064,13.751568827050495,3.1960871831092947,7.4770612391794105,-3.380860525611323,14.99618600661178,5.519952127542343,4.346375129539866,2.2998634527539656,10.132172031852926,1.2525355525575093,19.380526233303204,6.29670627937142,10.789395333959202,3.2447816066508315,16.415951005561713,7.822252906294669,12.392321306103938,24.106656384809774,15.692582826251321,4.930792175362074,24.806809167884463,10.5725628678222,23.634288339283064,9.42141711723619,12.56346639615625,5.423683644701944,25.264915082644784,15.008980940920752,15.709618225105212,5.2042225207462005,19.702293922053144,7.637519691773927,12.258807717409644,2.475264612242971,14.389542131224815,11.182282593583203,16.679793365591166,5.431192635283188,15.367962764663414,2.1312160617228653,19.511455615988947,5.999110204589408,15.433880605026683,3.3159929894603013,11.297304659589559,3.2557642369672015,16.73186114557896,21.48191873437187,16.287634907590697,3.2749243001913744,12.934484864773133,0.9960486930270599,11.883607871095974,4.401469342696255,14.83419397296083,3.9954898836441792,12.485137645461043,-1.3964692078979184,17.78457045921803,-1.760894547747431,5.786463859641453,-3.2277335732301218,10.26718094594392,-0.6335648546285757,12.802922703630792,-0.7759095088057061,6.709914043621486,-2.2726204888944124,4.788766913360252,-3.581922823949651,1.0486289739529615,-9.237527232384608,6.508861164966679,-2.460589784374558,6.318143695225854,-1.684323051614629,4.069571861614311,-5.185462401375919,4.827404852677467,-4.153116481516793,5.911994073605341,-3.5415660542485567,9.189636499288637,-1.02835242863312,9.073088516322727,-2.234526599803153,9.23782384646459,-3.334731760915403,8.692298996809601,-1.3222574049683433,34.36699024800598,2.339623377452667,8.608952548675553,-2.610679024641874,8.50764271609057,3.373557794811349,18.478874090865588,4.376037196423544,15.262153521673273,-0.5789388181297358,14.051381668426233,0.0964136668497611,13.473094699768444,0.28902625037070917,17.081249929739613,2.8168304456491766,9.62526189353749,-2.4558823056225054,15.014818478800153,5.784053723914113,13.65390612237844,6.337956144857031,12.720538199555696,2.104318477046327,17.10408246411491,6.445016142308802,17.11700953428816,3.7794292068146875,16.73354266086467,10.38626755443265,19.949680376298517,21.22628830197807,9.01211688936542,0.6115798769561582,14.139915905583981,9.392124912985059,21.235899086711065,8.552393144905356,21.506658104196013,8.759828655150509,19.171322020183272,8.377273918675778,20.74834338493836,8.971827445286849,13.511027668237888,3.5754759869081605,12.565315190526386,5.962943117502961,14.494096525443135,9.839094889437835,18.00546546983767,6.238241652081303,16.90247022173585,4.19947463612593,16.45310942521185,5.658773752880465,14.06222004221247,3.838434539569466,13.100005799235943,1.1295526130618894,16.73604891844249,20.517661983134616,16.28477229101697,5.416778488672014,13.011604569158688,1.5634308810625548,13.701086182892041,5.122045218218075,13.359537322467945,3.940080519721366,10.226029432135393,-0.041953461261368,18.601318906462506,0.6046299672105765,5.111981728225731,-3.8377407483892805,12.280986808221169,-0.6739133878635513,13.884632553356655,1.963480621856122,7.885953943142461,-0.0030323865189584892,-1.7913786000234202,-5.530263188663113,-1.1299270298643729,-6.882578711880105,-0.19850484808738803,-5.692422101249714,3.110416204495514,-5.768879155982454,2.566966809558502,-6.264201735185143,3.9743243196940616,-6.418392827346503,2.985665799535718,-5.0539632746682654,-0.9666673469039222,-6.400162354314542,0.9214331178283977,-4.404054013759203,4.440249354789162,-3.9168016325439274,5.899449144237387,-3.311766408184297,34.33801653202531,3.087415791688769,8.440973934500215,-3.5235070122721805,6.7424918595495935,-1.2308820231271034,6.976206234405602,0.6874156974232182,12.479399391857857,0.2256676873532789,18.27404219130757,2.5368025438349466,8.101986418783493,0.9591355560613001,21.915878346052484,6.501983633231672,11.0522996664332,-1.716115991091056,16.863836993938985,5.805447296592111,13.798582047896655,3.0731411628693746,10.411108083632312,4.083335466100412,16.419059108142747,1.280108982373745,22.192701084505032,8.00749342423893,14.182210014485646,4.54637287806575,14.366075446199618,27.705672057481596,22.47662055002865,11.833579418515509,21.339621649330294,12.738465277162156,18.13471883701732,11.827391869359603,23.551307001602222,10.270283138910859,21.102370682124338,11.637280815074762,23.042070911771702,8.0887639608734,15.467401142398325,7.274941254741733,19.781149085198916,8.45235685460103,15.06595374385298,4.172034291491684,18.689154861415744,14.372292441066355,17.40144177211593,8.271688151348426,23.9410820391728,12.470828203715472,24.31708917543152,9.96222919007901,12.813751250654738,3.624465095436404,17.756036154528942,21.478266235547732,18.64853712929634,5.81712853526094,13.088694964985088,2.9243218916460094,6.735239273965518,4.483564258551786,13.94061412828976,4.1000378451242465,11.76189581957282,1.3169309531566906,14.544738258914725,1.4165712101497867,4.743575623991652,-2.9857442741274056,14.452694735106702,2.71488413806872,13.577635469499613,1.304726233965019,8.060593191314162,-0.29813015393262693,-5.353224066432225,-6.244207163139196,1.9219073462140595,-4.524931467049355,3.4180469021076734,-6.795134866634971,5.055530685849693,-8.339550438276058,6.0820668581676784,-3.978629904665695,6.778663260649148,-4.200589557043283,6.522227321271335,-3.7612365151929446,5.044773217077929,-1.489432503697545,10.823515750723471,-2.259326526425373,9.891902110512476,-1.3381843613302542,6.385307432368476,-1.386896356571022,27.642145081336697,-2.756627726182026,7.949179628165376,-2.0166645087405244,6.41977727370442,-6.048235501654591,6.162877839659345,1.1808024257685183,9.17386444326775,-2.907527111515229,17.29998891613952,5.744324886711052,8.96875335989534,0.2728030344454002,7.179250407118749,1.0578231247019405,14.59630928340574,3.060494231704592,12.677536899625402,4.086717597899465,9.168309940733371,0.9558390178546853,20.82361811615291,12.48308242948542,11.552347342563735,6.531396445682741,16.578590165971637,6.1039525389050535,18.497937659608834,8.310506783170215,15.847330403309986,13.714487613539099,8.925869193161525,3.2781277815679086,14.630901045894854,4.048831589051896,19.29603423337077,8.75516462716615,11.294688578289932,0.9646328520109194,23.63348352013993,13.989738971024373,10.792864445858957,1.4031681560300302,15.964570256618186,6.675937612626417],\"xaxis\":\"x\",\"y\":[2.425,1.467,2.477,1.556,2.432,1.787,2.445,1.595,2.346,1.771,2.763,1.716,3.0,1.926,4.564,2.351,2.695,1.712,2.812,1.849,3.189,2.008,2.51,1.456,2.995,1.977,2.973,2.273,2.968,1.997,2.889,1.991,3.364,2.334,2.492,1.896,2.869,2.104,3.539,2.498,3.292,2.436,3.273,2.725,3.378,2.313,3.042,2.511,3.5,2.784,3.079,2.259,3.305,2.423,3.124,2.334,2.91,2.528,2.97,2.666,2.629,2.517,3.03,2.227,3.076,2.137,2.598,1.554,2.611,1.637,2.824,2.022,3.366,2.871,2.895,2.369,3.583,2.574,2.682,1.992,2.874,2.173,3.057,2.067,4.465,1.968,2.46,1.771,3.09,2.279,3.067,2.025,3.023,1.848,2.503,1.512,1.934,1.245,2.293,1.403,2.523,1.453,2.25,1.453,2.753,1.716,2.469,1.452,2.764,1.588,2.565,1.738,2.639,1.92,2.417,1.569,2.357,1.601,3.901,2.031,2.829,1.83,2.324,1.259,2.931,1.697,2.915,1.893,2.583,1.83,2.515,1.851,2.821,1.936,2.129,1.716,3.354,2.35,2.495,1.773,2.996,1.932,2.844,2.241,2.837,2.106,3.022,2.552,3.127,2.486,2.778,2.228,3.06,2.41,3.167,2.379,3.05,2.56,2.958,2.328,3.108,2.9,3.264,3.468,3.15,2.654,2.978,2.568,2.917,2.194,3.092,2.138,3.015,2.408,3.043,2.242,3.107,2.531,3.241,3.322,3.329,2.456,3.185,2.603,3.085,2.274,3.23,2.366,3.168,2.018,3.949,1.991,2.462,1.735,3.271,2.265,3.327,2.412,2.977,1.896,2.352,1.791,2.183,1.516,2.267,1.531,2.333,1.678,2.28,1.545,2.411,1.738,2.397,1.595,2.473,1.703,2.517,1.679,2.764,1.986,2.642,1.801,4.34,2.994,2.789,2.129,2.649,1.818,2.72,1.893,2.964,2.171,2.23,1.607,2.829,2.353,2.845,2.095,2.636,2.028,3.321,2.422,2.871,2.13,2.962,2.2,3.103,2.389,3.303,2.597,3.376,2.675,3.556,2.972,2.912,2.721,3.385,2.842,3.23,2.634,3.38,2.609,4.635,3.145,3.532,2.78,3.618,3.316,3.305,2.54,3.138,2.104,3.347,2.496,3.379,2.427,3.376,2.633,3.053,2.481,3.125,2.374,4.22,3.592,3.953,3.043,3.555,2.768,2.917,2.309,3.11,2.493,3.216,2.488,4.166,1.946,2.838,2.318,3.525,2.394,3.086,2.127,2.889,2.212,2.328,1.566,2.114,1.523,2.347,1.651,2.596,1.715,2.433,1.652,2.182,1.537,2.497,1.718,2.534,1.825,2.925,2.394,3.084,2.208,2.748,1.592,3.847,2.114,3.07,2.087,3.109,2.201,3.236,2.204,2.35,1.611,3.057,2.464,2.804,2.295,2.708,2.154,3.0,2.206,3.059,2.443,3.087,2.4,3.05,2.061,3.128,2.464,3.72,2.834,3.287,2.513,3.297,2.669,3.739,2.648,3.064,2.448,3.706,3.303,3.257,2.893,3.639,3.101,3.339,2.821,3.183,2.846,3.643,3.421,2.918,3.0,3.264,2.542,3.48,2.922,3.426,2.702,3.129,2.818,3.444,2.754,3.929,4.023,3.367,2.862,3.357,2.958,3.256,2.433,3.401,2.617,3.329,2.826,4.419,2.501,2.482,2.251,3.475,2.783,3.321,2.425,3.131,1.876,0.619,1.272,1.892,1.724,2.456,1.7,2.283,1.609,2.786,1.999,2.627,1.792,3.177,1.948,3.165,2.163,3.086,2.017,3.051,2.371,3.069,2.447,3.49,2.49,3.197,2.429,2.719,1.939,3.32,2.578,3.51,2.834,3.553,2.753,2.822,2.468,3.429,2.555,3.097,2.831,3.43,2.432,3.816,2.82,3.819,3.027,3.292,2.886,4.227,3.408,3.886,3.04,4.071,3.661,4.044,5.39,3.519,2.969,4.229,3.469,3.86,3.181,4.021,3.311,4.014,3.332,3.639,3.103,4.14,3.885,4.003,3.287,3.785,3.368,3.697,2.955,4.04,3.287,4.009,3.266,3.969,3.095,3.954,4.625,4.458,3.545,4.338,3.159,3.986,3.207,3.588,3.04,3.806,3.246,5.13,2.803,3.635,2.672,4.112,2.803,3.851,2.809,3.645,2.504,1.919,0.941,2.726,2.26,2.981,2.316,3.291,2.263,3.164,2.213,3.359,2.481,3.142,2.296,3.488,2.699,2.779,2.215,3.219,2.511,3.517,2.667,5.007,2.873,4.424,2.952,3.849,3.102,4.162,2.973,3.738,3.026,3.554,2.175,4.148,3.088,3.775,2.755,4.299,3.451,3.729,3.124,4.275,3.194,4.389,3.231,4.187,3.302,3.709,3.37,4.176,3.238,3.999,3.395,4.331,3.551,4.105,3.379,4.556,3.676,4.842,3.812,4.829,3.848,5.447,4.341,4.246,3.512,4.447,4.318,3.933,3.346,4.256,3.498,4.245,2.991,4.798,3.495,3.612,3.166,4.669,3.719,4.541,3.687,5.11,3.382,5.335,5.215,4.1,3.396,4.127,3.495,4.265,3.124,6.146,3.511,4.566,3.239,4.367,2.813,4.563,3.268,4.955,3.375,3.395,1.957,3.68,2.566,3.576,2.611,3.541,2.262,3.564,2.613,3.505,2.219,2.711,1.722,3.155,2.368,3.428,2.341,3.423,2.407,3.589,2.6,4.118,2.796,6.269,3.229,3.919,3.266,3.752,3.026,3.171,2.339,4.427,3.224,5.186,4.02,6.2,4.968,4.707,3.542,6.67,4.751,8.161,4.777,4.579,3.765,4.854,3.474,5.086,4.157,5.829,4.82,4.507,3.764,5.356,4.429,4.749,3.575,4.278,2.761,3.408,2.381,5.033,3.822,5.119,3.904,3.279,2.356,4.518,3.426,3.259,2.59,5.29,4.252,3.326,2.946,4.41,3.535,6.387,5.234,6.603,5.031,5.751,5.764,6.643,4.883,7.763,5.771,6.771,5.118,6.479,5.023,7.426,5.067,6.14,3.254,4.405,2.931,4.371,3.01,4.838,3.226,4.638,3.016,4.395,2.331,3.784,3.315,3.381,2.688,3.762,2.501,2.721,1.971,3.517,2.802,4.592,2.59,4.027,2.163,4.828,3.377,5.076,3.637,4.544,3.494,4.415,3.508,6.121,3.84,3.643,2.547,4.811,2.99,7.109,5.034,6.048,4.518,5.798,4.573,7.139,5.347,6.14,4.952,4.681,2.82,7.805,5.36,5.907,4.535,8.127,5.84,7.713,5.526,7.483,5.349,6.061,5.346,6.288,4.901,5.184,4.527,7.504,6.543,7.574,6.522,6.502,6.603,7.375,5.627,9.022,6.868,6.716,5.579,8.577,6.565,8.218,6.787,4.343,3.148,3.348,2.453,4.059,3.138,3.844,2.836,4.475,2.932,5.958,6.358,4.364,3.236,3.964,2.843,3.373,2.803,3.754,2.799,2.705,1.545,3.3,1.545,4.652,2.92,5.096,3.349,4.989,3.718,4.717,2.277,3.089,2.709,3.606,2.559,3.682,2.48,3.393,2.411,3.587,2.672,3.749,2.526,4.755,2.957,4.651,3.344,4.144,3.138,4.296,2.974,4.111,2.818,6.917,4.007,5.131,3.572,4.129,3.371,5.188,3.104,4.461,3.174,5.179,3.491,4.504,3.419,3.571,2.351,2.381,1.739,3.171,1.951,2.596,1.85,3.002,2.229,2.548,1.849,5.745,5.584,2.901,2.038,5.997,5.352,5.198,5.1,3.244,2.601,3.88,2.566,5.942,5.155,2.644,1.787,6.49,5.155,6.688,5.479,2.952,1.857,2.273,1.772,5.532,4.529,7.805,6.524,6.52,5.187,7.764,5.116,6.858,5.338,6.219,6.289,8.366,6.094,7.161,5.289,6.081,4.934,8.261,5.48,6.074,4.344,7.991,4.481,5.353,3.496,9.268,6.212,8.729,5.535,5.422,4.195,2.871,2.664,3.375,2.547,3.831,2.57,4.152,2.967,4.407,3.0,4.545,3.108,4.247,2.943,4.905,3.93,4.746,3.153,4.773,3.486,5.15,3.521,6.208,3.814,4.291,3.59,5.077,3.578,4.549,3.543,6.015,3.926,5.706,4.52,5.092,3.696,8.372,4.862,4.87,4.135,5.615,4.673,5.681,4.704,6.241,5.064,5.131,4.386,5.621,4.909,7.194,5.122,6.183,5.27,5.865,5.722,6.12,5.155,8.26,6.602,6.007,5.577,6.701,5.427,7.528,5.862,6.174,5.675,6.487,5.334,6.194,5.051,6.179,5.344,5.433,4.994,5.534,5.073,5.965,4.955,5.398,4.753,7.334,7.844,6.946,5.395,5.898,5.06,6.187,4.335,5.907,4.605,5.912,4.432,7.738,4.122,4.96,3.552,6.106,4.318,5.393,3.446,4.997,3.63,1.303,2.218,3.339,2.637,3.962,2.758,4.255,3.174,4.023,3.02,4.703,3.14,4.569,3.033,5.18,3.883,5.203,3.408,5.646,3.644,4.521,3.517,7.69,4.182,5.696,3.629,4.652,3.763,5.486,4.042,6.575,4.56,4.905,4.231,5.031,3.735,6.299,4.83,5.483,4.514,4.994,4.034,5.684,4.994,5.264,4.116,6.372,4.93,6.04,5.544,6.662,5.674,6.909,6.409,6.404,5.5735,6.626,5.168,7.252,6.174,6.957,5.913,7.049,5.549,7.567,5.962,6.258,5.414,6.378,6.8,6.94,5.371,6.109,6.033,6.557,5.122,6.546,4.768,5.976,4.657,6.276,4.957,7.382,8.078,6.999,5.331,6.887,5.457,6.364,4.638,6.896,4.978,6.238,4.994,8.564,4.614,4.83,3.507,7.243,5.215,6.189,5.199,6.063,4.828,3.22,1.474,4.73,3.876,5.112,4.238,4.4,3.283,4.791,3.647,5.14,3.44,4.773,3.341,4.555,3.735,5.625,4.298,5.31,4.002,5.183,4.117,5.995,4.49,14.184,6.02,5.748,4.644,5.772,4.28,5.101,4.071,6.376,4.778,6.703,5.058,5.503,4.8,6.614,5.016,6.569,5.325,6.234,5.337,6.686,5.564,7.493,5.749,7.384,6.301,7.978,6.421,7.079,6.026,7.363,5.928,6.079,5.443,7.457,6.443,8.103,6.102,7.746,6.303,7.267,6.379,7.803,6.603,7.592,6.551,8.218,5.822,6.774,6.101,5.93,4.567,7.287,5.646,5.575,4.864,6.449,5.304,7.005,7.753,5.114,4.413,7.174,5.731,7.469,5.814,7.39,5.86,6.687,5.168,10.384,5.215,5.519,4.399,7.944,6.214,7.595,4.968,6.14,5.194,5.557,4.16,4.625,3.962,4.478,3.512,4.856,3.343,5.415,3.43,4.925,3.326,4.405,3.117,5.465,3.742,5.732,4.563,5.934,4.661,5.312,4.044,5.484,3.968,10.652,5.404,5.506,4.241,5.485,3.973,6.137,4.946,6.249,5.359,6.013,4.98,6.661,4.96,5.328,4.756,5.69,4.662,6.643,6.074,5.75,5.293,6.232,4.726,6.951,6.007,6.561,5.982,6.733,5.828,7.508,7.238,6.582,5.962,8.131,6.36,8.133,7.258,7.41,6.048,7.939,6.569,7.631,6.319,7.66,6.722,7.026,6.003,6.695,6.373,6.887,5.67,6.809,5.431,7.197,5.716,7.351,6.179,6.236,5.678,7.954,8.823,7.366,5.951,6.551,5.85,6.105,5.403,6.492,5.181,6.117,4.653,6.138,3.947,6.098,4.22,6.129,4.797,6.784,4.773,6.063,4.996,5.386,3.783,5.186,3.428,6.469,5.186,6.555,5.172,5.537,3.762,4.871,3.637,5.205,3.767,5.665,4.266,5.446,4.24,5.142,3.942,5.842,4.342,12.487,4.798,5.404,3.976,5.621,4.794,5.917,4.525,6.023,3.954,5.531,4.374,5.713,4.429,6.346,4.872,5.828,4.551,6.401,5.634,6.728,5.869,6.484,4.561,6.463,5.211,7.519,6.118,6.739,6.176,6.773,6.246,6.084,5.548,6.43,5.881,7.708,6.675,7.518,5.829,7.621,5.933,6.363,5.525,7.479,6.051,5.746,5.205,6.949,6.387,6.98,5.734,6.775,5.744,6.625,5.659,6.888,5.701,8.405,5.446,7.316,8.458,7.424,6.109,6.726,5.689,6.128,8.697,6.736,5.852,5.902,4.77,8.592,4.861,6.986,4.801,7.803,5.62,7.515,5.951,6.392,5.009,4.491,3.951,4.309,3.34,4.148,3.468,6.633,5.15,6.4,3.919,5.916,3.474,6.675,4.468,5.414,4.056,5.914,4.212,5.304,4.26,5.983,4.737,13.453,6.174,6.221,4.545,5.865,4.69,5.811,4.568,7.369,5.316,7.756,5.959,7.135,6.097,8.287,6.238,6.833,4.937,7.719,6.021,7.997,5.853,6.369,5.269,8.023,5.842,7.652,6.655,7.297,6.36,8.359,7.118,7.834,6.633,8.131,7.116,8.334,7.526,8.912,7.228,8.639,7.323,8.657,6.559,7.762,7.11,8.601,6.668,7.679,6.721,7.289,6.938,7.77,6.517,8.511,7.254,8.384,7.018,6.94,5.817,8.084,9.531,8.554,7.015,8.246,6.157,5.506,6.039,7.394,6.283,7.001,6.047,6.798,4.894,5.911,4.562,8.321,6.562,7.832,5.299,6.374,5.308,3.598,3.666,4.749,3.599,4.775,3.265,5.08,2.981,5.386,3.745,5.498,4.058,5.209,3.791,4.681,3.973,6.987,4.518,6.028,4.643,5.312,4.656,12.399,4.727,6.273,4.868,6.041,4.694,5.711,4.76,6.101,4.75,6.829,5.568,6.108,5.481,5.417,4.937,6.495,5.418,6.26,5.681,6.971,5.823,7.587,6.651,6.215,5.589,8.046,7.003,6.92,5.482,6.173,5.065,6.617,5.741,7.641,6.144,7.903,6.398,7.22,5.67,8.074,7.037,6.155,5.287,6.763,6.383,6.225,6.619,6.269,5.627],\"yaxis\":\"y\",\"type\":\"scattergl\"},{\"hovertemplate\":\"<b>OLS trendline</b><br>y = 0.142556 * Component1 + 4.40213<br>R<sup>2</sup>=0.512684<br><br>Component1=%{x}<br>y=%{y} <b>(trend)</b><extra></extra>\",\"legendgroup\":\"\",\"marker\":{\"color\":\"black\",\"symbol\":\"circle\"},\"mode\":\"lines\",\"name\":\"\",\"showlegend\":false,\"x\":[-23.56683634861808,-22.41805219868735,-20.444728605674324,-19.32291426003137,-17.58451086144778,-16.75364628093022,-16.623278621685287,-16.530337261131624,-16.49818500546027,-16.039807562225203,-15.801381502111152,-15.754369366624168,-15.59186116715188,-15.516944143210896,-15.451743244592139,-15.332574739978398,-15.30465551095013,-15.209506548306978,-15.20893625879802,-15.159139216534088,-15.140873504050957,-15.054087660979139,-15.031570962899353,-15.003542627351264,-14.955598507674967,-14.915697094903624,-14.896988867202461,-14.860940326241222,-14.836243889606191,-14.810978763070846,-14.7677150892,-14.67657915843954,-14.673770247315804,-14.624679857887381,-14.568037461840396,-14.56593497975761,-14.539982079014171,-14.537022461481525,-14.53578539610926,-14.487307217894568,-14.45319302450431,-14.430890329646108,-14.38086390275728,-14.368852418814928,-14.354323485292166,-14.351612758440028,-14.344389323102678,-14.33692589557529,-14.29320192057333,-14.170268779288673,-14.15139962860469,-14.097083803437794,-14.093388999838488,-14.064341930936946,-14.053009661565932,-14.039533110025562,-14.012800095574727,-13.985470821507416,-13.953462382595582,-13.9401261729648,-13.931044087343725,-13.875315579933588,-13.86048318180964,-13.856762724188755,-13.847390607098026,-13.736225520661804,-13.71496632877104,-13.698837511822726,-13.679251391749347,-13.659994589980915,-13.657481445248807,-13.613300839417695,-13.593706225161302,-13.584779243351877,-13.506078762919898,-13.500092173900816,-13.460357351214757,-13.435305559225444,-13.422387009558626,-13.41015161358922,-13.39366339733975,-13.341256243183565,-13.255165765667975,-13.194105548938262,-13.191014540056424,-13.157106235805653,-13.092299737604737,-13.088829912990732,-13.054603674173192,-13.04816530929643,-12.971358924050786,-12.93552348860415,-12.925304378915706,-12.923497799154385,-12.816179042666555,-12.787997661120643,-12.764924792323695,-12.692776192439194,-12.68901313878173,-12.624965888211714,-12.59101037685412,-12.563571905559206,-12.5394002800302,-12.493426581077387,-12.447037371160349,-12.438893268445213,-12.416421194094768,-12.386665731121191,-12.356088347145855,-12.347023672607904,-12.319154755772344,-12.294770875472032,-12.291655015023546,-12.278941257942073,-12.245242983237636,-12.229812299253235,-12.225089879465289,-12.20103592825171,-12.18004744094577,-12.12334595348826,-12.09043031476046,-12.066219798219864,-12.048912662657514,-12.045901185568471,-12.038313280992195,-12.00167795339177,-11.991656694059646,-11.906463780034478,-11.902264596683239,-11.89728394799659,-11.825935575240056,-11.816121636536046,-11.80364578086991,-11.77768425417444,-11.769924597257997,-11.76943845540889,-11.726109745440048,-11.70612691493588,-11.679377805843313,-11.626537269237629,-11.612162245659784,-11.568632017058158,-11.494235798937444,-11.489495637494693,-11.489435816159757,-11.48906757583598,-11.471398604877148,-11.470810395712384,-11.459414881290343,-11.456877918896785,-11.439712811863025,-11.43380401692821,-11.391876064533662,-11.389705134057087,-11.38089913297974,-11.36147863016111,-11.346371197583448,-11.339030193954438,-11.308128366792689,-11.283343540567232,-11.2825255961948,-11.269086005823796,-11.131772845092787,-11.102759306933153,-11.05392503354204,-11.02127024509104,-11.002571211182863,-10.990875570476454,-10.965924232898717,-10.964747368183623,-10.94960769776694,-10.945672529648585,-10.939970978918119,-10.935873174204438,-10.934586130560884,-10.90804999341252,-10.871994747600562,-10.815428932951457,-10.80625485796008,-10.792115456791924,-10.787983765966118,-10.753322244702794,-10.736702442694199,-10.728277831781785,-10.720386330533048,-10.67151904909909,-10.668977917927108,-10.659613625780263,-10.647950454538707,-10.636008550988986,-10.635605022074156,-10.577066891406723,-10.574442731005663,-10.562092988455133,-10.518787484100336,-10.510729008150083,-10.488142674236778,-10.482068093387293,-10.475446406836365,-10.455605459442927,-10.441453467127454,-10.435798614804998,-10.421484587303366,-10.416333627785487,-10.382581471765993,-10.378126710480341,-10.345552532721642,-10.31495970600663,-10.24057095823584,-10.190003279818848,-10.178352881581889,-10.170504638344841,-10.169066103605156,-10.143015699654544,-10.134535666069434,-10.087482691649479,-10.0535417424241,-10.050633702280168,-10.019535567528596,-10.016363476619812,-9.949344478908511,-9.946842173959373,-9.929036669775103,-9.849704048896823,-9.84447358366339,-9.842864734479482,-9.837847073926518,-9.830400508246464,-9.804105194888496,-9.772143495596836,-9.750478287002089,-9.747639520065047,-9.73531452568012,-9.73494560716358,-9.725301651152417,-9.721483619222118,-9.720254271491038,-9.690171125750577,-9.68337817519821,-9.678829044447644,-9.638930886405333,-9.620859118659897,-9.585481080414484,-9.584157812317635,-9.561978110988187,-9.561951726057188,-9.535634036720541,-9.525314377857072,-9.516184234407062,-9.505952714663463,-9.459760876052052,-9.446511235027268,-9.435984832908023,-9.429480023645944,-9.422641493667019,-9.390543635899155,-9.38054572792834,-9.375834242804519,-9.375049581175967,-9.365911095868986,-9.365689555836688,-9.360246396407305,-9.352664980344692,-9.351255097734686,-9.341900681390728,-9.33977707349557,-9.329025310720372,-9.30351486974435,-9.285882994935962,-9.240306262291515,-9.239181325879812,-9.237527232384608,-9.232433846912048,-9.170144606977942,-9.167853063100793,-9.167226678407399,-9.163908230050211,-9.136211787776103,-9.094581937381129,-9.082238813631388,-9.07812962397545,-9.068940531246023,-9.032782562245002,-9.028370066008197,-8.959268732557524,-8.948703201415894,-8.925786150904612,-8.890553582778002,-8.871497172519382,-8.846705529579838,-8.841453732340266,-8.835065387953879,-8.818466348741016,-8.809801148738131,-8.804638585843644,-8.778018100111048,-8.775052860014217,-8.736877149930775,-8.657048021100875,-8.601515764843114,-8.585949179447967,-8.579129129976499,-8.566344395366263,-8.562974732422338,-8.509363761443167,-8.505545703019562,-8.492083657604631,-8.418972147681535,-8.38096710329337,-8.374624770448996,-8.371101525616444,-8.348812851088558,-8.339550438276058,-8.334885032806346,-8.32936400093474,-8.28611257048925,-8.27269531100891,-8.23773423501955,-8.230111527472323,-8.160327213458324,-8.133655854825399,-8.130783956289537,-8.123180417201985,-8.120200616936811,-8.118172176868562,-8.115653183180022,-8.105759329205979,-8.096174294723097,-8.090220041501253,-8.0758970199269,-8.071622149294296,-8.025609926872454,-8.024780507797995,-7.964947389024158,-7.960461927357289,-7.917202813122962,-7.905089265969243,-7.888430141361739,-7.877299147821394,-7.854394059825329,-7.844730554032608,-7.812193112458637,-7.790626372872668,-7.747687706430669,-7.7470165329308065,-7.710806738637397,-7.707024264660686,-7.640544235165393,-7.6365633642266815,-7.62678606546951,-7.621122806025286,-7.616213548639166,-7.613810083452511,-7.605052012550064,-7.6008992307859025,-7.599016652178981,-7.598461367189439,-7.520982369362716,-7.5098648620209065,-7.509198642370239,-7.506713118694258,-7.495238672464792,-7.4923230622532975,-7.421088056960471,-7.364759205334115,-7.350319844160269,-7.322112119508987,-7.318867885841314,-7.312543402344902,-7.268248955741131,-7.267137780862539,-7.255906640612818,-7.243749163639224,-7.243174094511746,-7.238658815388518,-7.236145822972902,-7.225721995649671,-7.209570311726519,-7.195965329712986,-7.187443194570256,-7.163458409150521,-7.155198507044575,-7.124413249666484,-7.114355238278364,-7.109717642430273,-7.100598956365925,-7.099990446520312,-7.099988636548556,-7.088355910126124,-7.071121118200575,-7.044079764817835,-7.0428217834140545,-7.042034427591219,-6.976576401420945,-6.965527138295599,-6.953022455595481,-6.950441656534508,-6.936416202418551,-6.916951368626463,-6.913493849379127,-6.907961729393402,-6.901683570586883,-6.889441742869566,-6.886708160273947,-6.882578711880105,-6.856984071584594,-6.835759118367735,-6.833870503375136,-6.82452564331194,-6.8141629563225115,-6.811892226070132,-6.795134866634971,-6.7927397364620505,-6.7582454420117575,-6.757944946471172,-6.750947114791947,-6.740519834372876,-6.737440959226183,-6.7131785476725465,-6.693323381369676,-6.690907136762797,-6.682754010860883,-6.670368113152709,-6.6538176522827,-6.653027725847397,-6.647206383915093,-6.645882138008611,-6.642925415259675,-6.640768806868711,-6.636374933937643,-6.623985962675297,-6.616245903860926,-6.599250402459698,-6.577298840313931,-6.54363908463434,-6.537758196526769,-6.529105305704002,-6.520880884916276,-6.502924862268136,-6.497718477217857,-6.48136775893243,-6.476665646378911,-6.474966625557216,-6.461440095639339,-6.444369535788722,-6.441329738805486,-6.437887488473964,-6.42442353281102,-6.418392827346503,-6.400162354314542,-6.395678646582135,-6.389962982400178,-6.326555997667244,-6.318782383215975,-6.2863293965307285,-6.282090201663689,-6.2650239993621515,-6.264201735185143,-6.260866778971979,-6.244207163139196,-6.216476323156338,-6.202160499548083,-6.189176878526094,-6.185039724552938,-6.1739661713481135,-6.158799231936176,-6.118958934642143,-6.098653821610095,-6.090955814788992,-6.082062041253854,-6.066943846300796,-6.048235501654591,-6.020518525938196,-6.01626750785741,-6.0149381962378445,-5.986069964586918,-5.974752349597104,-5.945599966489367,-5.929608031808231,-5.903354108018191,-5.8905648445722925,-5.857503981194773,-5.855951407850584,-5.816576551023335,-5.805241178840802,-5.791269320036858,-5.779274198426096,-5.768879155982454,-5.767947021757456,-5.763432849463887,-5.753671517464989,-5.743235923895153,-5.718127589893239,-5.703544158071791,-5.692422101249714,-5.683593730936031,-5.6770083550526795,-5.669148526561178,-5.660746918808213,-5.630451280696137,-5.628088875720088,-5.627658397073735,-5.627093919486774,-5.619040251584732,-5.606287146723823,-5.597812622534742,-5.593626462598736,-5.5737299704881,-5.532493261326532,-5.530263188663113,-5.510305701104049,-5.508368705025164,-5.476520950647934,-5.462295148451879,-5.459640799367813,-5.432399678918492,-5.429596328583679,-5.395417627992737,-5.394370193526214,-5.379461390306559,-5.364277280951831,-5.361012387721172,-5.359577071325896,-5.353224066432225,-5.332501694781146,-5.318921190151894,-5.305181008257073,-5.303214389688169,-5.29419548177287,-5.292123083554654,-5.277543330159222,-5.273885037663966,-5.266229320010671,-5.262632249381924,-5.261341205229171,-5.259494607759481,-5.189698326344501,-5.187003006369597,-5.185462401375919,-5.115986308944777,-5.110530410630391,-5.102251038583956,-5.082241176735377,-5.054492270412468,-5.0539632746682654,-5.03189192886642,-5.029802701971688,-5.010093406053819,-4.9802834445098725,-4.979442920582846,-4.960396692266518,-4.943035169806288,-4.933602291959041,-4.929030554154813,-4.908787311220473,-4.9079143847264675,-4.873265078839188,-4.8687454268317145,-4.823121860086959,-4.793832536624956,-4.785982733655563,-4.783263721153261,-4.7612767010757775,-4.760224645368205,-4.75311301473846,-4.738549155384164,-4.736699999611919,-4.729870708098624,-4.713479217532679,-4.702079664670074,-4.663944888057357,-4.650896614498166,-4.650337377795349,-4.60856580265421,-4.595448641101812,-4.56750075112909,-4.560590316781328,-4.539254108928654,-4.524931467049355,-4.5033683249444,-4.498525280779698,-4.495463536666669,-4.476520793075788,-4.46619348289776,-4.433582674590225,-4.40418185693906,-4.404054013759203,-4.361379502875578,-4.360269417034101,-4.339349336921571,-4.280233216498251,-4.273820240581565,-4.208109209069298,-4.200589557043283,-4.189006741979522,-4.182672585251967,-4.179232185914011,-4.165221168252944,-4.15953109421171,-4.15647428540842,-4.153116481516793,-4.137646170059827,-4.136238929289658,-4.1326730287702595,-4.119764374858208,-4.061008440216749,-4.051884418898093,-4.045090724248953,-4.039557521648131,-4.033637021004359,-4.0275629256911305,-3.9908184229223447,-3.978629904665695,-3.940174398639885,-3.927277810956279,-3.9168016325439274,-3.913332811689767,-3.9123522524323655,-3.8377407483892805,-3.837528513634203,-3.7933659640282493,-3.7827241933918914,-3.765025384564699,-3.7612365151929446,-3.760555611083494,-3.742135931088883,-3.73991691669138,-3.7189601858746286,-3.7047953717097566,-3.7029288271977348,-3.6943770127608024,-3.6649189781688607,-3.651125835778147,-3.603331121619292,-3.5969707670661486,-3.592626939885251,-3.581922823949651,-3.5796299709825594,-3.5548290971552032,-3.5415660542485567,-3.539998249116653,-3.5295276138206497,-3.5235070122721805,-3.5234451191818277,-3.509040567576277,-3.5085440707990405,-3.4914433564502048,-3.4616872980164066,-3.4495391555057293,-3.438824535502043,-3.4096680670359025,-3.4040680522020383,-3.380860525611323,-3.3721521995780166,-3.3615835213103478,-3.354754670736033,-3.3364442193897816,-3.334731760915403,-3.33091584778152,-3.311766408184297,-3.265055586662545,-3.24079575698888,-3.2277335732301218,-3.224528892982878,-3.217591431106698,-3.178471867273811,-3.171324017298502,-3.165490711442289,-3.146681354291451,-3.1370418816687535,-3.113909679276977,-3.0953649324960146,-3.053305598405014,-3.0315813503603795,-3.0116310353893194,-2.9982186000764024,-2.9966519412136017,-2.9857442741274056,-2.9649214230950274,-2.9599190787711382,-2.9340313452508275,-2.9283226745587223,-2.92467110073881,-2.9240775847060054,-2.9204840843682125,-2.907527111515229,-2.870900346607485,-2.8636884916851426,-2.853634662576765,-2.823017042571459,-2.816468313037653,-2.8117822959501355,-2.7988372884571016,-2.7985229881084375,-2.7845924657447307,-2.779249786608893,-2.775203406063202,-2.756627726182026,-2.738583697896203,-2.725211796815841,-2.6872308396220626,-2.6671660201851264,-2.6300741124465286,-2.6280537839394333,-2.625041850628822,-2.610679024641874,-2.6015193613809116,-2.5859337675020075,-2.5846827261748517,-2.569203605255858,-2.5449131809345733,-2.540673605688164,-2.5357008680299655,-2.5147375071108162,-2.4876186698110887,-2.4859341606867202,-2.4617236321559264,-2.460589784374558,-2.4558823056225054,-2.414549423109097,-2.398450238311043,-2.3969909618228087,-2.3701387722748524,-2.367224116057988,-2.357818496265387,-2.34019804241096,-2.3059635928140745,-2.2977904487577203,-2.2968128029462136,-2.29565903869512,-2.2905550510836505,-2.286402406882644,-2.276840150169402,-2.2726204888944124,-2.27098159181596,-2.259326526425373,-2.248926491685092,-2.234526599803153,-2.2175473293135206,-2.2138875886093805,-2.188550684718873,-2.1728533467521,-2.160198819542092,-2.15701088983585,-2.140107094474495,-2.1009447164462007,-2.0915320902322376,-2.061322546042861,-2.0407908617175856,-2.03234818175544,-2.0166645087405244,-1.8854460725285775,-1.8627269245224234,-1.8536541455634614,-1.8430883511631764,-1.8131319466149431,-1.811966425938372,-1.8072282061514893,-1.795610218965811,-1.7913786000234202,-1.7761382910029961,-1.7708333090936974,-1.761708687096027,-1.760894547747431,-1.7555319750387466,-1.7338016362611082,-1.7227380024168149,-1.716115991091056,-1.715705747469723,-1.7041965780091188,-1.7036931645481321,-1.684323051614629,-1.6572347485295973,-1.6392013345718186,-1.6210753408922267,-1.5721356914581555,-1.555639780710981,-1.553787551066544,-1.5296296397170834,-1.5037368986641462,-1.489432503697545,-1.4381417906238712,-1.3964692078979184,-1.3947628570660324,-1.386896356571022,-1.3766419914758248,-1.371603542741487,-1.3587377971813792,-1.3582197451820133,-1.3407166933339314,-1.3381843613302542,-1.3222574049683433,-1.3118520678051828,-1.3111818932570751,-1.305608567227107,-1.2807928246974996,-1.2559668907564712,-1.2308820231271034,-1.2296147105194764,-1.2226014518539008,-1.2192073723081165,-1.216577488191969,-1.166500051514725,-1.1615322220848914,-1.1428155636382746,-1.1299270298643729,-1.1238854333871344,-1.111286035629139,-1.0801106422196958,-1.076970331941237,-1.0345282285279354,-1.02835242863312,-1.0261059184413295,-1.0200966525220194,-0.9964075939092849,-0.9666673469039222,-0.9210602152007392,-0.9121062893676262,-0.8112791944640175,-0.7840602884867163,-0.7785745064296064,-0.7759095088057061,-0.7624937255734954,-0.7288862972752647,-0.7284298780791151,-0.7274456012538398,-0.7175538344051893,-0.6852671276975478,-0.6816886740523536,-0.6778338560248472,-0.6739133878635513,-0.6335648546285757,-0.6137345765355361,-0.609168365394216,-0.6075013196180931,-0.5789388181297358,-0.5651977802810947,-0.5545194857179142,-0.5493870731903968,-0.5493519299106414,-0.5465891757705195,-0.5208304836018013,-0.5161100830548024,-0.5084681185730078,-0.4993493185690462,-0.4100855522927458,-0.38256365326475666,-0.35215009402793845,-0.34840030124278865,-0.3391216833244156,-0.3361545463364448,-0.33407646701572447,-0.32908562534243607,-0.32675618414929236,-0.3204910464111469,-0.3121454893578577,-0.29813015393262693,-0.29788046751411384,-0.27272833356869775,-0.24834467905173188,-0.23578717458702222,-0.22779196501447413,-0.2194285416428785,-0.21449308249759752,-0.21258157118964094,-0.19850484808738803,-0.17969244257376799,-0.15042385736268932,-0.11729952216311818,-0.11495270245340627,-0.11370667641648009,-0.08671537419041483,-0.08028454080749035,-0.07106293268839789,-0.06437081734435586,-0.055490351727893114,-0.041953461261368,-0.038625144356630746,-0.03463703355395885,-0.025061816400376215,-0.009333308100054465,-0.009031648926656529,-0.0030323865189584892,0.00521032635453112,0.039463020877418674,0.05059565946376187,0.058437757615726955,0.060418359351388506,0.07708388015333156,0.08389779302249258,0.0915627490776956,0.0922519072796044,0.09546577789277441,0.0964136668497611,0.09984417686543781,0.13911854344900867,0.1840331797381339,0.2256676873532789,0.23153950581625568,0.25511139040814534,0.266044022006953,0.2728030344454002,0.28195070534954264,0.28902625037070917,0.3574616265215903,0.36648441629358824,0.4314936109851512,0.450037268517137,0.4657508287831418,0.477039715885952,0.49035709396764865,0.5299068256428724,0.5401597546714652,0.5616530317107076,0.5706962248198397,0.5803632344970511,0.6046299672105765,0.6060589318450206,0.6115798769561582,0.6257876706203437,0.6456244223194676,0.6540197943404241,0.6758437902464316,0.6874156974232182,0.6945686905401905,0.7587007077572241,0.7625283395318935,0.7626337151541733,0.7705486196616045,0.7895924983991419,0.7966132016848336,0.8109544926567995,0.8142239185001897,0.8211118482559285,0.8447168064914031,0.8608716659912538,0.8879046180459407,0.9214331178283977,0.9558390178546853,0.9591355560613001,0.9612801680568783,0.9646328520109194,0.9715237459988054,0.9735646816831275,0.9775781249049047,0.9842199719265938,0.992106594695948,0.9960486930270599,0.9977372840223744,1.0107812518520134,1.0230716378880513,1.0486289739529615,1.0511258042941622,1.0578231247019405,1.1072902918572651,1.1295526130618894,1.1775592153870926,1.1808024257685183,1.2148629073539197,1.2345924359885718,1.2525355525575093,1.280108982373745,1.3007599424263798,1.3044392549863628,1.304726233965019,1.3169309531566906,1.4031681560300302,1.4058179849561672,1.4165712101497867,1.4833768439125194,1.4866940319823045,1.4961104408496062,1.5232715883623411,1.5259668311007626,1.5285322254360576,1.5426864910573987,1.5634308810625548,1.5743780905277764,1.5749641096731433,1.5961421864218985,1.6190350833740945,1.6298246286493518,1.6505524181177644,1.671714402244073,1.6763608104770835,1.6945693572974012,1.7101536922648577,1.7165873006114463,1.7175642900756667,1.759262375525358,1.775448768326725,1.793796681857781,1.818039167065333,1.832604450645745,1.8368947211300324,1.8855913359741334,1.917023029408415,1.9219073462140595,1.9230117963924842,1.9314475142011749,1.9419914412516475,1.9614554490575964,1.963480621856122,2.0251858045310076,2.0664044352628372,2.0686903521523132,2.0849911194083472,2.104318477046327,2.1059563124703176,2.114835308544295,2.1312160617228653,2.1357826326084735,2.139667188340762,2.153220404517903,2.1752598757945796,2.1833639704499284,2.1959628513693596,2.2266687671216405,2.2523989369476647,2.2595782900187715,2.266514983787101,2.280980193821072,2.293459701482097,2.2998634527539656,2.308693964596271,2.310437648079768,2.3286133821568646,2.339623377452667,2.344568943398761,2.410721720352848,2.4127564799926713,2.4266413926889,2.439628099512503,2.475264612242971,2.4891626593569898,2.4993032055491735,2.5156308689372224,2.5160079322578994,2.5351112973916097,2.5368025438349466,2.562610634583961,2.5650821224348275,2.566966809558502,2.63316490722389,2.6404547403388157,2.690341537163491,2.71488413806872,2.7206598693043262,2.752684248581248,2.7904834935090244,2.8140403673098273,2.8168304456491766,2.82571277268529,2.8266161483575467,2.8493745782955764,2.875070548342348,2.8861955943599966,2.8878913475182544,2.91182536269222,2.9243218916460094,2.925146737501702,2.9273188050100405,2.9275384218938196,2.9386361463941726,2.954802321096081,2.985665799535718,2.994464804317298,3.019702738372285,3.052093047434614,3.0590816743482985,3.060494231704592,3.0731411628693746,3.087415791688769,3.088392048977743,3.110416204495514,3.115347317458182,3.1370433233597166,3.164634856792366,3.172438267895261,3.192596982369789,3.1960871831092947,3.202792644928657,3.2154750952157682,3.219358878756101,3.2447816066508315,3.2557642369672015,3.2749243001913744,3.27583961946896,3.2781277815679086,3.3029319267290416,3.3069168381439575,3.308676449444042,3.3159929894603013,3.3363788225136433,3.373557794811349,3.382268765639653,3.4158073106675486,3.4180469021076734,3.4239942976838176,3.42494917667138,3.439384228820823,3.531081061696388,3.5614278407303432,3.57303396746063,3.5754759869081605,3.5781623162162024,3.5807064351717974,3.606749513959335,3.624465095436404,3.6622005750656594,3.6631705111787918,3.68916949168998,3.718458550793091,3.738298867321893,3.7487784668309425,3.760847501660667,3.7794292068146875,3.7959402888164817,3.838434539569466,3.8618522854930175,3.863835268554342,3.8950080370599642,3.940080519721366,3.954267882424142,3.9743243196940616,3.9878831301225452,3.9954898836441792,4.013853848938401,4.019472986400858,4.031659983253707,4.048831589051896,4.0618122857150425,4.069571861614311,4.083335466100412,4.086717597899465,4.097846478682001,4.1000378451242465,4.107790890072297,4.124713482063127,4.152075676197189,4.172034291491684,4.199331060603712,4.19947463612593,4.319757606041205,4.346375129539866,4.369461517447333,4.376037196423544,4.401469342696255,4.440249354789162,4.468716845001983,4.473235124517209,4.478533850586532,4.483564258551786,4.490386887244086,4.5300606833711905,4.530178738602203,4.54637287806575,4.58647999100694,4.588889463771007,4.596807191821819,4.6160198598634015,4.6183394838366985,4.639317937698656,4.64548155360552,4.67724347346836,4.686027441993501,4.7016383654011324,4.704517448626918,4.718968643802183,4.743366534237747,4.743575623991652,4.746699450291084,4.762307834491035,4.788766913360252,4.804714373472631,4.827404852677467,4.833047454339901,4.897652079399025,4.93034199624395,4.930792175362074,4.961404424916242,4.969107609819019,4.9759613271837715,5.004123292750006,5.044773217077929,5.055530685849693,5.0588991966678725,5.06105992635149,5.111981728225731,5.122045218218075,5.122626882350333,5.141353485557363,5.163176195045121,5.193341458885319,5.2042225207462005,5.3464732010660185,5.416778488672014,5.417213500127351,5.421761956327313,5.423683644701944,5.431192635283188,5.450919385522396,5.484647088705819,5.490075805968021,5.519952127542343,5.528087470066453,5.529841074250493,5.548532255518196,5.5500574750321015,5.56817004637836,5.585947527718907,5.595237765676279,5.615078063889495,5.658773752880465,5.660532304584588,5.731383191451854,5.744324886711052,5.784053723914113,5.786463859641453,5.805447296592111,5.809664997321857,5.81712853526094,5.84770901979947,5.850135965066046,5.8558340265702435,5.8792817943496445,5.889812956070383,5.899449144237387,5.911994073605341,5.962943117502961,5.999110204589408,6.032303043813288,6.035858300055395,6.067463928659155,6.0820668581676784,6.083392582979652,6.1039525389050535,6.162877839659345,6.1830394966409346,6.238241652081303,6.29670627937142,6.318143695225854,6.337956144857031,6.338303559596388,6.385307432368476,6.416577292046015,6.41977727370442,6.421908802825898,6.445016142308802,6.446440530318957,6.465334412288836,6.501983633231672,6.508861164966679,6.518255197542506,6.522227321271335,6.531396445682741,6.533879927904625,6.538159124453665,6.539966599959596,6.555841354435046,6.58514495953748,6.608972668963824,6.609869142680962,6.662927773043874,6.667271536878265,6.667737044047398,6.675937612626417,6.686162581900675,6.709914043621486,6.735239273965518,6.7424918595495935,6.778663260649148,6.936650812713189,6.956199121534672,6.964477376203905,6.965970729126879,6.976206234405602,7.1457072953528264,7.179250407118749,7.180801177578401,7.2115347832322705,7.274941254741733,7.295112576799739,7.3084835674528845,7.375594819172472,7.423728825466123,7.443103990887971,7.455427254074804,7.4770612391794105,7.492048154101624,7.637519691773927,7.639283458836683,7.695209944316562,7.718756660389702,7.730597086356632,7.776191362734843,7.791086839248983,7.822252906294669,7.874440160992448,7.885953943142461,7.949179628165376,7.962490583190395,7.985640043145799,7.99729195332278,8.00749342423893,8.045654020792075,8.060593191314162,8.0887639608734,8.101986418783493,8.190005044874153,8.202824589917611,8.216245849813465,8.243457935215917,8.271688151348426,8.310506783170215,8.333172164406456,8.377273918675778,8.411999819595962,8.423530369174106,8.440973934500215,8.450566870157408,8.45235685460103,8.462981240314043,8.495802053448598,8.50764271609057,8.536049739944563,8.552393144905356,8.582849654724683,8.608952548675553,8.61722195809474,8.649396898985309,8.692298996809601,8.75516462716615,8.759828655150509,8.762379236996395,8.900324280882955,8.925869193161525,8.958680310423816,8.96875335989534,8.971827445286849,8.975681482474842,9.00781436045081,9.01211688936542,9.0143040245115,9.056629654805818,9.073088516322727,9.074090430871612,9.141223027752975,9.168309940733371,9.17386444326775,9.189636499288637,9.23782384646459,9.242319465665954,9.314706906597888,9.339909165679506,9.369837639135914,9.392124912985059,9.405021668305766,9.42141711723619,9.433121429646611,9.50357161726368,9.585121500729013,9.62526189353749,9.628584341035431,9.65006479329019,9.670888069536389,9.684285939596455,9.691219485064888,9.772833917016085,9.839094889437835,9.891902110512476,9.89575857805021,9.906340917280351,9.93674723309908,9.96222919007901,9.97928279804261,9.984871163323527,9.98845383190152,10.034219314119493,10.042316037717843,10.104095190286118,10.132172031852926,10.190514878960443,10.198662667300027,10.204539450337311,10.209678671524648,10.225645017165181,10.226029432135393,10.249016440412555,10.26718094594392,10.270283138910859,10.281005793599334,10.337872476604584,10.38626755443265,10.411108083632312,10.413109226429148,10.478517919771729,10.526687732385422,10.5725628678222,10.577786463967268,10.58727857073501,10.642030057396843,10.687511992353269,10.719631520749054,10.733139254364785,10.755456694244911,10.787328883601852,10.789395333959202,10.792864445858957,10.79387044138661,10.823515750723471,10.827290834400678,10.827596839578764,10.848506834903018,10.870454750485454,11.0522996664332,11.182282593583203,11.247436207226523,11.255118070434504,11.294688578289932,11.297304659589559,11.297671412202483,11.370970108493886,11.400798612426463,11.422789932688307,11.538269062855251,11.552347342563735,11.568857204961553,11.604707029501286,11.637280815074762,11.687237466156002,11.695336462896845,11.70560297668384,11.713465419956588,11.726223537369096,11.74285935981198,11.76189581957282,11.821533609216578,11.827391869359603,11.833579418515509,11.883607871095974,11.92286891525877,11.980854652667864,12.00588964395544,12.087798228740674,12.12881596067164,12.258807717409644,12.280986808221169,12.392321306103938,12.410755660791265,12.470828203715472,12.479399391857857,12.48308242948542,12.485137645461043,12.56346639615625,12.565315190526386,12.578620871247645,12.677536899625402,12.720480122043359,12.720538199555696,12.738465277162156,12.802922703630792,12.813751250654738,12.835672590361934,12.934484864773133,12.952781850226305,13.011604569158688,13.038934073458613,13.088694964985088,13.100005799235943,13.181830250109545,13.209263993219087,13.274377948570976,13.3060845017655,13.347915029924437,13.353547180531576,13.359537322467945,13.473094699768444,13.503629305759599,13.511027668237888,13.577635469499613,13.65390612237844,13.701086182892041,13.714487613539099,13.751568827050495,13.798582047896655,13.876223963768803,13.884632553356655,13.94061412828976,13.946669533368633,13.989738971024373,14.031355613938727,14.051381668426233,14.06222004221247,14.139915905583981,14.182210014485646,14.336934926173628,14.35973909170897,14.366075446199618,14.372292441066355,14.373982601719927,14.376830016458706,14.389542131224815,14.40285017124231,14.440575404730295,14.452694735106702,14.494096525443135,14.518246642531142,14.544738258914725,14.585115667784715,14.59630928340574,14.630901045894854,14.674818054482147,14.689105123630107,14.83419397296083,14.851494857462752,14.940302523917454,14.954400750081204,14.978947600315262,14.99618600661178,15.008980940920752,15.014818478800153,15.05698380703562,15.06595374385298,15.215798848304138,15.262153521673273,15.358869510287004,15.367962764663414,15.39309314861036,15.427930048007624,15.433880605026683,15.467401142398325,15.584520617340589,15.618398494050947,15.692582826251321,15.709618225105212,15.847330403309986,15.904423024847288,15.964570256618186,16.185524109439523,16.22297857585618,16.28477229101697,16.287634907590697,16.29444644148437,16.415951005561713,16.419059108142747,16.45310942521185,16.502107261694697,16.534335614764547,16.578590165971637,16.679793365591166,16.72768096164191,16.73186114557896,16.73354266086467,16.73604891844249,16.85951050114976,16.863836993938985,16.90247022173585,17.003440516343122,17.035875109397708,17.081249929739613,17.10408246411491,17.11700953428816,17.129315581247198,17.29998891613952,17.40144177211593,17.409731095251665,17.478115420516694,17.720071636860425,17.756036154528942,17.78457045921803,18.00546546983767,18.13471883701732,18.27404219130757,18.39725487171019,18.478874090865588,18.497937659608834,18.601318906462506,18.64853712929634,18.689154861415744,18.737535789794673,19.038954012246652,19.163727740555284,19.171322020183272,19.29603423337077,19.380526233303204,19.46050321750073,19.511455615988947,19.61862873497107,19.702293922053144,19.781149085198916,19.949680376298517,20.22923993647796,20.517661983134616,20.74834338493836,20.752760991837533,20.82361811615291,21.102370682124338,21.22628830197807,21.235899086711065,21.339621649330294,21.478266235547732,21.48191873437187,21.506658104196013,21.862647244941748,21.915878346052484,22.192701084505032,22.257618100574064,22.47662055002865,22.595048834019156,22.731525831367637,23.042070911771702,23.364958586261118,23.529827636358462,23.551307001602222,23.63348352013993,23.634288339283064,23.9410820391728,24.106656384809774,24.31708917543152,24.806809167884463,25.264915082644784,27.642145081336697,27.705672057481596,29.53995049530605,34.33801653202531,34.36699024800598,40.37319862849332],\"xaxis\":\"x\",\"y\":[1.0425350942419471,1.2063011214302035,1.487610160385942,1.6475314812361792,1.8953512463798439,2.013795944185783,2.032380630986747,2.045629975853024,2.0502134715225595,2.1155579079302553,2.1495469637902103,2.156248823890564,2.1794153362546997,2.1900952045139563,2.199389981201589,2.21637816176426,2.220358214257493,2.23392226595867,2.2340035641270286,2.2411024292861463,2.2437063154620707,2.2560781546251647,2.259288044133256,2.2632836504111515,2.2701183704122054,2.2758065546103907,2.2784735239679828,2.283612458326984,2.2871330825571055,2.2907347769218402,2.2969022714784324,2.3098942415675427,2.3102946685890045,2.317292796174854,2.325367507313233,2.325667228664675,2.329366969341825,2.329788880460069,2.3299652315016464,2.3368760847302736,2.341739266314552,2.344918648387973,2.3520502136924746,2.353762522315459,2.3558337083798286,2.3562201386482076,2.357249882406354,2.3583138384815157,2.364546951707687,2.38207180366458,2.3847617135524546,2.3925047581457934,2.3930314744194603,2.397172307208419,2.398787789746222,2.4007089524869314,2.4045199030224547,2.4084158539199425,2.412978847653278,2.4148800038183547,2.416174709251779,2.424119140118308,2.4262335868701896,2.4267639602775275,2.428100011425504,2.443947257027558,2.446977881533818,2.449277140515613,2.4520692586629975,2.4548144305233146,2.4551726942829175,2.4614709029552495,2.464264231999047,2.465536826459721,2.4767560489907154,2.4776094729347373,2.483273908723408,2.486845190977158,2.488686807225168,2.4904310358420982,2.4927815293362494,2.5002524815015614,2.51252519216032,2.521229689966703,2.5216703317048506,2.526504162565221,2.535742715122711,2.5362373593011758,2.541116513628891,2.542034340913955,2.552983548887558,2.558092103785369,2.559548898776124,2.559806437488099,2.5751053658323446,2.5791227897293654,2.582411964687899,2.5926971775984287,2.5932336233246485,2.6023639406073293,2.607204501122126,2.6111160187352107,2.614561828014357,2.621115652797808,2.627728711145604,2.6288897015255213,2.6320932296550428,2.6363350482409134,2.6406940365641356,2.6419862599438924,2.6459591401342006,2.6494352075960093,2.649879392073095,2.6516918139175254,2.656495703814315,2.658695439781315,2.659368648867142,2.6627976829712994,2.6657897169256257,2.673872851896753,2.6785651723706563,2.682016525795291,2.6844837611181536,2.684913065125239,2.6859947661455874,2.691217350437183,2.69264594068048,2.704790698314308,2.705389316927656,2.706099338082006,2.716270473846187,2.7176695092983403,2.7194480168781494,2.7231489872361716,2.7242551725762345,2.7243244749941713,2.73050124083414,2.7333499124177805,2.737163157340405,2.7446958907568,2.7467451360412367,2.752950629563336,2.763556253848973,2.76423199211343,2.764240520001253,2.7642930148540756,2.7668118319692034,2.7668956846912964,2.7685201831880564,2.768881842297249,2.771328830606889,2.7721711645405556,2.7781482440399614,2.7784577231178824,2.779713071054167,2.7824815794748288,2.784635234027259,2.7856817378460748,2.7900869774791626,2.7936202021721903,2.793736805017331,2.795652698723063,2.815227508155223,2.819363560937083,2.8263251776553933,2.8309803123677026,2.8336459710953106,2.8353132543826236,2.838870216261307,2.839037985340416,2.8411962355889324,2.8417572172573338,2.84257000729452,2.843154173778879,2.843337649520893,2.8471205340235843,2.8522604241990157,2.860324218202711,2.8616320372691173,2.8636476931747716,2.8642366903263716,2.8691778967609642,2.8715471485893147,2.8727481270845487,2.873873107619956,2.8808394298314983,2.881201683224901,2.882536618880491,2.884199273452075,2.8859016629753995,2.8859591884271927,2.8943041478340668,2.894678237538919,2.89643876694248,2.902612224683864,2.9037610084581216,2.9069808249693017,2.907846792673169,2.9087907535554605,2.9116191988560596,2.913636649704806,2.914442782605613,2.916483332535856,2.9172176325142303,2.922029203513607,2.92266425628472,2.927307899462411,2.931669089240211,2.942273648582944,2.9494823725185793,2.9511432062222327,2.952262020070261,2.952467091770898,2.956180732111338,2.957389611438878,2.9640972933725216,2.968935777968582,2.96935033642267,2.973783560872657,2.9742357613369848,2.983789718885912,2.9841464373698487,2.986684718109984,2.99799405602908,2.9987396900210506,2.998969041060765,2.9996843384772442,3.0007458907955735,3.0044944444316632,3.0090507751535798,3.0121392797608038,3.0125439629063893,3.0143009643114476,3.0143535558446906,3.015728359250902,3.016272642457578,3.0164478933034085,3.0207364250206483,3.021704800607058,3.0223533063078243,3.0280410265249884,3.030617264722667,3.0356606149234118,3.035849254677136,3.0390111032900062,3.0390148646191717,3.0427666080843796,3.0442377369592952,3.045539293322653,3.046997857440733,3.0535827793326025,3.0554715946269555,3.056972195985147,3.0578994953133387,3.058874368518652,3.06345010944284,3.0648753708104115,3.0655470210946976,3.065658879286337,3.0669616248311224,3.0669932066830783,3.0677691615003138,3.068849937544369,3.0690509247131565,3.070384452514186,3.070687185476089,3.072219913338909,3.0758565787392067,3.078370107577,3.084867342447321,3.0850277088372953,3.0852635097232355,3.085989602178315,3.094869304567314,3.095195977804328,3.0952852726755493,3.09575833726642,3.0997066301800653,3.10564121346278,3.1074007993168413,3.1079865887925724,3.109296548727042,3.1144510827052923,3.115080110341797,3.1249309172608424,3.126437096694379,3.129704058827632,3.134726671395957,3.137443276252241,3.1409774727084887,3.1417261477050706,3.142636844271116,3.1450031362391906,3.1462384121431537,3.146974366252018,3.1507692751480993,3.151191987796377,3.1566341627914216,3.1680142808781486,3.1759307349732735,3.178149844496332,3.179122083195166,3.1809446233093386,3.181424988844782,3.189067552272814,3.1896118392562687,3.1915309340623415,3.2019534155377016,3.207371261120737,3.208275398467245,3.2087776580162415,3.2119550414080162,3.2132754535573067,3.213940534912271,3.2147275909102553,3.2208933400935935,3.2228060503977716,3.2277899601438707,3.22887662253515,3.23882479240398,3.2426269535351993,3.2430363597876566,3.244120289600768,3.24454507788782,3.2448342441088083,3.24519334167201,3.2466037695221917,3.247970173313381,3.2488189875967897,3.2508608196857027,3.2514702279720966,3.258029544505652,3.2581477831379546,3.2666773508173703,3.2673167801107956,3.273483624664027,3.2752104830060764,3.277585340505259,3.27917212997382,3.2824373867792342,3.283814977123321,3.2884533833389367,3.2915278506020953,3.2976490134127,3.297744693195219,3.3029066151777715,3.3034458293862423,3.312922953803792,3.313490450681618,3.3148842628909803,3.3156915942771006,3.3163914381760766,3.3167340664627982,3.3179825816669934,3.3185745854575552,3.318842958257915,3.3189221174426056,3.3299672103483315,3.331552077278915,3.331647050860707,3.332001377074141,3.3336371277704737,3.334052765382809,3.3442077399393817,3.3522377534519125,3.354296170444104,3.3583173497077965,3.3587798345523665,3.3596814273679425,3.3659958647208947,3.3661542693223065,3.367755335301152,3.369488456100841,3.3695704356323066,3.3702141155818444,3.3705723576278235,3.3720583363375094,3.374360855142852,3.3763003264129408,3.3775152075684396,3.3809343816764645,3.382111879949692,3.3865005018653775,3.3879343313332946,3.388595448260954,3.3898953713057014,3.389982118010839,3.3899823760331005,3.3916406905142713,3.394097612820549,3.397952518908479,3.3981318516550054,3.398244093920097,3.407575525672648,3.4091506639834477,3.4109332810287576,3.4113011893161516,3.413300601390404,3.4160754294555393,3.4165683194306466,3.4173569561053827,3.418251945060325,3.4199970905612522,3.4203867790520817,3.4209754565316404,3.4246241250467495,3.427649868625986,3.4279191019490995,3.4292512674453524,3.430728530236066,3.4310522363668223,3.433441097826155,3.433782537906993,3.4386999051627365,3.4387427425929644,3.439740325205075,3.4412267961741527,3.44166570817604,3.4451244595440715,3.4479549318349534,3.448299381904192,3.4494616585931612,3.4512273421299247,3.453586708965705,3.453699317686924,3.454529184673873,3.4547179638201886,3.455139462269762,3.4554468996490213,3.4560732724223002,3.457839394112529,3.458942785626339,3.4613655956422322,3.4644949216547865,3.4692933204350154,3.470131676084137,3.471365197241113,3.472537637440964,3.4750973754851957,3.475839576703543,3.478170469043449,3.478840783211979,3.479082988756072,3.48101127621236,3.483444786257553,3.4838781274343384,3.4843688407344953,3.4862882078578075,3.4871479208640555,3.489746783446192,3.4903859627058065,3.491200764699617,3.5002398082713144,3.5013479833411516,3.5059743500090383,3.5065786725024273,3.5090115613530286,3.509128780012057,3.509604197896182,3.5119791254224557,3.5159323219344896,3.5179731279104365,3.5198240204679436,3.5204137964237585,3.5219923974301537,3.524154535036464,3.5298340068591174,3.5327286217378724,3.533826018489417,3.5350938789126736,3.537249067705859,3.5399160537346637,3.543867273812884,3.5444732817758573,3.5446627830697643,3.548778121542799,3.5503915150112237,3.5545473609679354,3.5568271065667423,3.5605697598732466,3.5623929455999344,3.567105968713177,3.5673272972965417,3.572940417806686,3.574556342668764,3.5765481144118674,3.5782580904869663,3.5797399657405125,3.5798728470296943,3.5805163691940676,3.581907905246877,3.5833955613051423,3.5869749039597716,3.589053859081422,3.590639374567533,3.5918979113717757,3.592836695951997,3.593957161347095,3.5951548606048536,3.5994736843760964,3.599810459285082,3.599871826581721,3.599952296225961,3.601100394584291,3.6029184256891877,3.604126519619488,3.6047232816673764,3.607559645198452,3.61343818385527,3.6137560940044056,3.6166011528001807,3.6168772831354894,3.621417370330757,3.6234453432178775,3.6238237364994133,3.627707120573272,3.6281067548711308,3.6329791323413225,3.633128450367109,3.635253789120748,3.6374183744047337,3.6378838043931356,3.6380884172995955,3.638994076010335,3.641948173592044,3.643884155465121,3.6458429002840624,3.6461232534818704,3.647408952556805,3.6477043852740563,3.649782816014155,3.650304327412338,3.651395695590973,3.6519084794472105,3.6520925254856533,3.652355768960457,3.662305644853621,3.662689878779827,3.6629095012034965,3.672813732248727,3.6735915030699418,3.6747717768992243,3.6776243019621138,3.681580073938595,3.6816554854346824,3.684801887321307,3.6850997190666925,3.687909396664822,3.6921589843467046,3.692278806041924,3.6949939594016508,3.6974689479009464,3.698813660856891,3.699465389327892,3.7023511842554804,3.702475625129738,3.707415090189673,3.708059393519922,3.7145633048703677,3.718738672490728,3.719857708687899,3.72024532012509,3.7233797008771354,3.7235296776883757,3.7245434830191106,3.726619647968919,3.726883256144999,3.727856812351977,3.7301935170234684,3.731818591223999,3.7372549309088328,3.73911504007084,3.73919476259581,3.7451495495857525,3.7470194791417555,3.751003617423436,3.7519887410250687,3.755030344615705,3.757072122576825,3.760146076997625,3.760836481807265,3.7612729516782046,3.763973352673563,3.7654455722889697,3.7700944373697114,3.7742856991512292,3.7743039239584477,3.7803874298198705,3.780545679172551,3.7835279612737587,3.791955316565084,3.7928695245025743,3.8022370236745076,3.8033089948870398,3.804960194206566,3.805863165998893,3.8063536154288853,3.808350969500454,3.80916212346719,3.8095978897803127,3.810076564737172,3.812281949836562,3.8124825603953356,3.8129909007667147,3.8148311063159053,3.8232071149773628,3.824507798594409,3.8254762802562485,3.8262650712642188,3.8271090739164615,3.8279749724042413,3.833213120266757,3.8349506661863484,3.8404327277605272,3.84227121319694,3.843764654866386,3.8442591559529027,3.844398940519061,3.85503525509601,3.85506551042524,3.8613611450750627,3.862878192902951,3.865401263584044,3.8659413894941936,3.8660384564331025,3.868664291595416,3.8689806253228394,3.8719681322003674,3.873987410880162,3.874253497924732,3.875472610040504,3.8796720284379353,3.8816383230912046,3.8884517444453084,3.8893584508938086,3.889977689347134,3.891503624869,3.8918304847245873,3.8953659970989074,3.8972567229113935,3.897480222876877,3.8989728743420518,3.8998311469748486,3.899839970203754,3.9018934248845234,3.9019642034591797,3.904402012207811,3.908643915680085,3.910375705796453,3.911903138735828,3.9160595670847282,3.9168578825747113,3.9201662538042905,3.921407677580916,3.9229143056560263,3.9238877990045244,3.9264980629720245,3.926742184133594,3.9272861652932134,3.930016032036159,3.9366749380349733,3.9401333213406273,3.9419954134844852,3.9424522597532397,3.9434412362901288,3.949017963262411,3.9500369318767197,3.950868504392325,3.953549890355688,3.954924054628153,3.9582216879442504,3.960865352122341,3.9668611608655957,3.9699580818982687,3.9728021181988757,3.9747141407892363,3.9749374773472272,3.976492430298751,3.979460851815109,3.980173965811851,3.9838644165129558,3.984678221543107,3.9851987751540774,3.985283384401838,3.985795659291821,3.9876427529940166,3.9928641166227377,3.993892209523707,3.995325442782721,3.999690166991817,4.000623727416503,4.001291747080428,4.003137135049251,4.003181940437145,4.005167819424333,4.005929450176873,4.006506285839603,4.009154359715487,4.011726643487874,4.013632887681805,4.0190472994917235,4.021907659086374,4.027195331597828,4.02748334146743,4.027912710511619,4.029960216956777,4.03126598154512,4.033487800840827,4.033666144238069,4.035872785178774,4.039335529933786,4.0399399066525215,4.040648800042617,4.043637252080757,4.047503203962847,4.047743340777998,4.0511946959119065,4.051356332670737,4.052027411822851,4.057919660564155,4.0602146953063265,4.060422723866838,4.064250663522725,4.06466616513744,4.06600699229524,4.068518893007979,4.073399217831224,4.074564348227415,4.074703717464497,4.074868193434787,4.0755957972879555,4.07618778146807,4.077550938152445,4.078152476015869,4.0783861105620325,4.080047609596251,4.081530196531437,4.083582986940835,4.0860034831435454,4.0865252009925355,4.090137127647033,4.092374876728447,4.094178855001696,4.094633313380999,4.097043050154352,4.102625880545357,4.1039677065102795,4.108274257079732,4.111201171046674,4.112404725392637,4.114640526453722,4.133346496581863,4.136585246533535,4.137878625246809,4.139384842209435,4.143655306214361,4.14382145813317,4.144496919603011,4.146153132918139,4.146756375418318,4.148928972299591,4.149685229087817,4.150985998335236,4.151102058751552,4.151866525451465,4.1549643147544275,4.156541501696861,4.15748550887774,4.157543991550964,4.159184692250841,4.159256456839989,4.1620177818822075,4.165879380930013,4.168450151566677,4.17103411999445,4.178010758695712,4.18036234908637,4.180626395461251,4.184070249702368,4.187761414257093,4.189800591012059,4.197112387847204,4.203053062878379,4.20329631335911,4.204417729888073,4.205879550747178,4.2065978116428075,4.2084319003507,4.208505751750737,4.2110009161077695,4.211361915127288,4.213632397679427,4.2151157405065955,4.215211277882588,4.216005788724514,4.219543420720957,4.223082505563836,4.226658502947202,4.22683916591245,4.2278389477334075,4.228322794000966,4.228697699655516,4.235836536709369,4.236544730402259,4.239212901612861,4.241050238916445,4.2419115045014655,4.2437076237427656,4.248151861874884,4.248599531820951,4.254649906612358,4.255530303694391,4.255850557111161,4.256707213782462,4.260084230271653,4.26432387973057,4.270825448167889,4.272101883659722,4.286475386955614,4.29035560422409,4.291137635150934,4.291517546445286,4.293430046301496,4.298220985501647,4.298286050778262,4.298426365305876,4.299836495623895,4.304439158089965,4.3049492879842415,4.305498815268315,4.306057701370228,4.311809625255288,4.314636549583528,4.315287490195793,4.315525137506572,4.319596892322818,4.321555759163077,4.3230780136944125,4.323809669688773,4.3238146795727515,4.324208526641109,4.327880581728473,4.328553502959468,4.329642910541539,4.330942849829057,4.3436679317130755,4.34759134244673,4.351926976577101,4.352461531886938,4.353784254170652,4.354207237232067,4.354503479824339,4.355214954049683,4.3555470297749554,4.3564401624989975,4.357629871395462,4.359627840990045,4.359663435277105,4.363249021874723,4.366725057149771,4.368515204252434,4.36965496902749,4.370847224874111,4.371550803990014,4.371823301319342,4.373830022093148,4.376511842618792,4.380684253877886,4.385406325277646,4.38574087841403,4.385918506851759,4.389766277849006,4.390683031474737,4.391997626671791,4.392951627598288,4.394217590898424,4.396147355312669,4.396621826723809,4.397190355687392,4.398555359959779,4.400797552558012,4.400840555871032,4.401695786482133,4.402870834327828,4.407753760074014,4.409340784053686,4.410458721883213,4.410741068464779,4.4131168377796,4.414088201669202,4.4151808868370885,4.415279130446071,4.415737286856261,4.415872414076384,4.416361453724547,4.421960248751545,4.428363097840401,4.4342983450376074,4.435135407754838,4.438495720389014,4.4400542321805965,4.441017769686599,4.442321824693005,4.443330485805172,4.453086356542107,4.454372608998849,4.463640057149128,4.466283566048285,4.468523627715137,4.470132925852054,4.472031397467575,4.477669447429531,4.479131063568784,4.482195058308078,4.483484219382131,4.484862309225834,4.488321676600961,4.488525384026059,4.489312427655822,4.491337833319396,4.4941656804987655,4.495362490815762,4.498473631500559,4.500123275835787,4.501142977635593,4.510285378909004,4.51083103063071,4.510846052553692,4.511974369363107,4.514689187776374,4.515690030872298,4.517734467372724,4.518200543512085,4.5191824589500005,4.522547486429184,4.524850457931912,4.528704166360456,4.53348385383028,4.538388619934061,4.538858561102386,4.5391642883239856,4.539642233403228,4.540624571410103,4.540915518955634,4.541487659206538,4.542434494084091,4.543558779163187,4.54412074877472,4.544361467484902,4.5462209628395,4.547973030618162,4.551616381192869,4.551972319238817,4.5529270621781714,4.559978901674541,4.563152528243022,4.569996155518067,4.570458494487084,4.575314019133464,4.578126581025956,4.580684479231679,4.584615235986315,4.587559153419061,4.588083661352748,4.588124571916516,4.58986442737595,4.602158054608921,4.602535803515004,4.604068739854286,4.613592281100721,4.614065166030112,4.615407531234812,4.619279514689931,4.619663737605617,4.620029449857555,4.622047224779601,4.625004461208911,4.626565051162232,4.626648591684008,4.629667652743338,4.632931171642792,4.634469285626174,4.6374241555500335,4.640440922510123,4.641103295695775,4.643699032565764,4.645920672396141,4.646837821609481,4.646977097280345,4.652921407876782,4.655228874639575,4.6578444790647895,4.6613003898134275,4.663376757795157,4.663988361422189,4.670930354094194,4.675411129322371,4.676107417792958,4.676264863748282,4.677467425597777,4.678970525239361,4.681745235555249,4.682033936007466,4.690830377553252,4.696706339022166,4.697032210098551,4.6993559816215145,4.70211121164154,4.702344694842532,4.703610448650628,4.705945622643556,4.706596614539514,4.707150381110638,4.709082472852231,4.7122243308353235,4.713379617827875,4.715175663390758,4.7195529746848175,4.72322096374224,4.724244423310609,4.725233290349147,4.727295392250404,4.729074420443852,4.729987313353245,4.731246155445157,4.731494727917873,4.734085787135757,4.735655327583423,4.736360347484019,4.745790820101433,4.7460808872150135,4.748060264272273,4.749911596729191,4.754991794008258,4.756973043455054,4.758418638751188,4.760746244478067,4.760799997101683,4.763523295655256,4.7637643929153795,4.767443490064774,4.767795815387686,4.768064488769674,4.777501422124591,4.778540631281654,4.785652291488332,4.789150985518328,4.789974350428628,4.79453961655601,4.799928124199426,4.803286296955871,4.803684039251677,4.8049502679082785,4.805079049494369,4.808323399319545,4.8119865129946096,4.813572454608364,4.813814194327559,4.817226130834465,4.81900758551464,4.819125172207352,4.819434813375927,4.8194661210716,4.821048167840231,4.823352752392449,4.8277525251866455,4.829006875759272,4.832604693673868,4.8372221252730565,4.83821839569098,4.838419764160792,4.840222659572523,4.842257592985802,4.842396764280721,4.845536438911102,4.846239398452772,4.849332293399627,4.853265630932678,4.854378053692789,4.8572517985846515,4.857749347501246,4.858705251047343,4.860513209921652,4.8610668664122105,4.86469102779001,4.866256667196767,4.86898804840105,4.869118532619263,4.869444723763639,4.872980702486086,4.873548775357876,4.8737996184357755,4.874842634820793,4.877748756819665,4.883048840902915,4.88429064171083,4.889071761190259,4.889391028297745,4.890238864982888,4.890374988673529,4.89243279138861,4.905504721417138,4.909830835631589,4.911485358168114,4.911833482594502,4.912216434847563,4.912579114167327,4.916291710262113,4.918817171984409,4.924196589504488,4.924334859678118,4.928041169300791,4.932216499235215,4.9350448546023005,4.936538783969471,4.938259296814447,4.940908229628884,4.943261982772307,4.9493197914777785,4.952658130726135,4.952940816779868,4.957384680716302,4.963810031746272,4.965832524854531,4.968691689521316,4.970624578756779,4.971708966806626,4.974326859506346,4.975127901041004,4.976865230075416,4.979313144822657,4.981163620495383,4.982269794285964,4.984231878134889,4.9847140211799426,4.9863005094622865,4.98661290180891,4.9877181445734715,4.990130560918382,4.994031204767584,4.996876424328766,5.000767741451153,5.0007882089975375,5.0179352632310215,5.021729749843001,5.025020852031311,5.025958254259627,5.029583758283341,5.035112080131402,5.039170290524063,5.039814398197362,5.040569763178316,5.04128687781439,5.042259484196526,5.047915220285507,5.047932049762283,5.050240620857938,5.055958128841284,5.05630161354397,5.057430332866321,5.060169213200845,5.0604998894229185,5.063490493050007,5.064369153231942,5.068897004205619,5.070149211270276,5.072374641441263,5.0727850719140894,5.074845175913712,5.0783232406038,5.078353047594368,5.0787983676509825,5.0810234358427815,5.084795335228522,5.08706874071249,5.090303403755671,5.09110779025188,5.100317564589869,5.1049777070640925,5.1050418827803945,5.109405841399674,5.110503976317622,5.1114810145753005,5.115495670608701,5.1212905595903155,5.1228241008769535,5.123304302170005,5.1236123270640945,5.130871533409094,5.132306143884694,5.132389063573396,5.1350586524688655,5.138169609767075,5.1424698479088455,5.144021008126937,5.164299690403506,5.174322128162815,5.174384141638389,5.175032551177947,5.175306499308783,5.176376950668821,5.179189116484483,5.183997201586343,5.184771097586573,5.189030145286282,5.190189886848759,5.190439873576465,5.193104412863373,5.193321841995205,5.195903896989365,5.198438182906115,5.199762561695641,5.202590914451731,5.208819995338454,5.209070687364634,5.219170903550344,5.221015819340493,5.2266794018628895,5.227022981074941,5.229729183151263,5.230330441527278,5.231394413342285,5.235753843669269,5.236099819181322,5.236912111808508,5.240254730851343,5.241756010719094,5.243129706772825,5.2449180612205,5.252181151078291,5.2573369848939615,5.262068821950663,5.2625756449168755,5.267081215640094,5.269162950273241,5.269351940246349,5.272282884498384,5.280683037308627,5.283557201672408,5.291426597928653,5.299761078991019,5.302817110385494,5.305641493160239,5.305691019201885,5.312391701402985,5.3168494062646285,5.3173055827215405,5.317609444901465,5.320903533861722,5.321106588861752,5.323800024341827,5.329024589212185,5.3300050223502735,5.331344197681265,5.33191044759219,5.3332175609239165,5.333571596115902,5.334181621087465,5.334439287493173,5.336702328355279,5.3408797319086,5.344276513897613,5.344404311568867,5.351968135550168,5.352587364973071,5.352653725794398,5.353822765719741,5.355280396029376,5.358666308453539,5.362276570974413,5.363310470273962,5.368466919077912,5.390988986211487,5.393775714139562,5.394955828680066,5.39516871503944,5.396627847319305,5.420791233763308,5.425573004258459,5.425794075829888,5.4301753344844474,5.43921430489308,5.442089847071108,5.443995961478213,5.453563070385844,5.4604248598559035,5.463186905160447,5.4649436597729,5.468027713285515,5.4701641873278914,5.490902022015979,5.491153457522616,5.499126111342912,5.50248283605474,5.504170759343843,5.510670495177971,5.512793934130313,5.517236842733694,5.524676446920636,5.5263178051868795,5.535331003404389,5.5372285593749,5.540528652859545,5.542189702099259,5.543643982577899,5.549084003049124,5.551213670842711,5.555229581937785,5.55711452211713,5.5696621018467996,5.571489604395694,5.573402884982946,5.577282129937828,5.581306515496216,5.5868403428167985,5.5900714279949755,5.596358395907229,5.601308780045602,5.6029525286086574,5.60543921280745,5.606806742958128,5.607061915908659,5.608576485412112,5.6132552879325495,5.614943244961091,5.618992835513929,5.621322685295822,5.625664442287709,5.62938556539052,5.6305644189879125,5.635151148570649,5.641267098306855,5.650228968585791,5.650893853572009,5.651257454215301,5.670922342357232,5.674563921847153,5.679241342163213,5.680677315399544,5.681115544593284,5.6816649605640315,5.686245693827601,5.686859044966934,5.6871708341170715,5.693204604971202,5.6955509137732765,5.69569374266351,5.705263894451167,5.7091252953312726,5.709917122771716,5.712165523357054,5.719034916887791,5.719675794198296,5.729995055323602,5.733587787558125,5.7378542698194455,5.7410314535361175,5.7428699628701985,5.745207231830138,5.74687575132054,5.756918845440014,5.768544267355514,5.774266519582285,5.774740154274504,5.777802320764337,5.780770802897459,5.78268074912422,5.7836691673538425,5.795303791040704,5.804749687566865,5.812277671655754,5.812827434087342,5.8143360096140695,5.818670611152021,5.822303215988915,5.824734309441583,5.8255309642183635,5.826041694976431,5.832565837223384,5.833720073427829,5.842527059822769,5.846529580922724,5.854846701494266,5.8560082172819135,5.8568459877288,5.857578614338196,5.859854712066758,5.859909512711829,5.863186447741548,5.865775906263316,5.86621814235945,5.867746720691027,5.87585340527203,5.882752412045275,5.886293577529259,5.886578852361519,5.895903251425465,5.902770145299847,5.9093099192666605,5.910054574029146,5.911407730420704,5.9192128811566365,5.925696602051548,5.9302754322529,5.932201040184294,5.935382524248468,5.939926094795723,5.9402206796099595,5.94071522218676,5.940858632844839,5.945084748373294,5.945622909050525,5.945666531912416,5.948647376366949,5.9517761825401685,5.97769925908239,5.9962291000302645,6.005517135962836,6.006612231346116,6.012253243076384,6.012626181057176,6.0126784638279505,6.023127629835721,6.027379860845612,6.030514854614567,6.046977092861619,6.04898403553892,6.051337614820527,6.056448220969317,6.061091808238667,6.068213426585942,6.069367986840398,6.070831539567923,6.071952377715672,6.0737711233896725,6.07614265902641,6.078856419820333,6.087358142168118,6.088193272066034,6.089075344075258,6.096207198154175,6.101804093990692,6.110070306446392,6.11363919365998,6.125315750586447,6.1311630727339645,6.149694172392233,6.152855933972135,6.168727330185566,6.1713552573127854,6.179918956331775,6.1811408302847255,6.181665869248996,6.181958852535162,6.1931250827767155,6.19338863943277,6.195285443519846,6.20938651289275,6.215508325184881,6.215516604480399,6.218072216236431,6.2272610065380585,6.2288046804531625,6.231929698076977,6.246015976703586,6.248624321027773,6.257009850187928,6.260905833906447,6.267999545562486,6.26961197239616,6.281276535532097,6.285187379114178,6.294469761520947,6.298989719646078,6.30495291074006,6.305755807376049,6.306609737809605,6.322798018732128,6.327150908798754,6.328205589463387,6.337700928507745,6.348573764639557,6.3552995634532685,6.357210017262924,6.3624961652485545,6.369198180073328,6.3802664979174,6.381465192477334,6.389445699627514,6.390308933710995,6.396448738737499,6.4023814392151355,6.405236272635211,6.406781347413846,6.417857355795473,6.423886633087218,6.44594359139024,6.449194461097392,6.450097746193945,6.4509840158647425,6.451224958339063,6.451630874280326,6.453443062002913,6.455340202421729,6.460718159293304,6.462445842068215,6.468347914030373,6.471790657153068,6.475567194955401,6.481323235234328,6.48291895185371,6.487850213759286,6.494110845073504,6.496147551929762,6.516830832113982,6.519297176310926,6.531957238447075,6.533967024610453,6.537466324407599,6.539923761963999,6.541747756106016,6.5425799319217495,6.54859085076201,6.549869568715071,6.571230881413419,6.577839016370477,6.591626456963047,6.592922754569109,6.5965052405748175,6.601471448207636,6.602319735575309,6.607098287956015,6.623794367127045,6.628623860360186,6.639199279045064,6.641627776680618,6.661259468431759,6.669398361897073,6.677972708256295,6.7094709968344155,6.714810354246234,6.72361941662553,6.724027499678965,6.724998524431433,6.742319724193274,6.742762802740119,6.747616878374121,6.7546018119859745,6.759196155793198,6.765504905819581,6.779932025084266,6.786758687305623,6.787354597439244,6.787594307464852,6.7879515894195634,6.805551773850698,6.80616854118318,6.811675938055023,6.826069855322125,6.8306935998683365,6.837162050936557,6.84041696479092,6.842259795687903,6.844014096024477,6.868344597105965,6.8828073063722455,6.883988998788615,6.893737591917515,6.928229892587318,6.933356848925174,6.937424584119634,6.96891448439121,6.9873403222172215,7.007201696721763,7.024766398645941,7.036401704777291,7.039119330118222,7.053856942997035,7.060588182076938,7.066378481867366,7.073275471552307,7.11624443557926,7.134031674186098,7.135114284008063,7.152892753267761,7.164937591420306,7.176338787170888,7.183602355245562,7.198880522095388,7.210807493148409,7.2220487666221445,7.246073906594657,7.2859267880396565,7.327043069751339,7.359928078411924,7.360557834603808,7.370658939974922,7.410396779585978,7.428061974830268,7.429432049473079,7.444218318948472,7.463982931018858,7.464503616494694,7.4680303611068,7.518778734772649,7.526367145486958,7.565829876683659,7.5750841842219225,7.606304288619983,7.623186946321185,7.642642555679733,7.686912607702733,7.732942170072979,7.756445235764103,7.759507247294039,7.7712219997737755,7.771336731539254,7.81507200191216,7.838675611685934,7.868674060143235,7.938486563739771,8.003792292145114,8.342680596464069,8.351736745526676,8.613224068917852,9.297216978349788,9.301347354242703,10.157568155162119],\"yaxis\":\"y\",\"type\":\"scattergl\"},{\"hovertemplate\":\"Component2=%{x}<br>y=%{y}<extra></extra>\",\"legendgroup\":\"\",\"marker\":{\"color\":\"black\",\"opacity\":0.3,\"symbol\":\"circle\"},\"mode\":\"markers\",\"name\":\"\",\"showlegend\":false,\"x\":[-2.175062674110581,-1.667695993064971,-2.3008211075508576,-1.5329039499250425,-2.263572741199832,-1.3020583425565053,-2.0912760270301356,-1.638661208768693,-2.097957743782358,-1.5883547072216015,-2.275273585665943,-1.6957753221188752,-1.8720558411893682,-1.6189835073450778,-1.9715292988984414,-1.4803663616813099,-2.198716310689392,-1.5480590124688305,-1.3610694249755912,-1.1102778557170807,-2.145372243817023,-1.3949722942829244,-2.0992545071187334,-1.1918341186795383,-1.630385675134742,-1.4794640824992797,1.31265997358193,0.2701257651536411,-1.532208868057549,-1.3327690771958076,-2.127010335165093,-1.3691466864410455,1.8427335703721062,1.8901687057986032,-2.0568337086872686,-1.2042184266902367,2.0310619612074152,2.2610394999902135,1.8465017373240011,2.201363427243678,-1.5880736045032224,-1.0336131331859468,0.07410807992205376,-0.25737633945047306,1.4725697303279102,3.2016142952557898,1.6745283609952923,6.486505408330151,-0.23991297598185748,0.5518702345418788,0.46212312406270734,0.03512898041461088,2.2344915035299007,2.316620854527244,-1.663707627659115,-1.4558756441757101,3.3928369099060363,1.8066068059464289,-0.7245820227500364,-0.3527269079865782,2.9771163034988213,2.2932082800247113,-2.2342753103223583,-2.057040048653751,1.34285569403581,2.206635916652694,-2.079874349743087,-2.1732117982156227,2.308045408157284,2.2399233455835885,-1.0509535639135643,-0.5896908362126179,-1.8948407859028982,-0.8091053804259539,1.1360458283337467,1.6426093441653926,-0.254868392657358,0.720675092960567,-1.6685062247909557,-1.0823097008264537,-2.4427206460128548,-1.352757952664163,-0.8166179223173623,-0.1833619126114536,-2.6376362550278434,-1.0228509933131966,-2.6729590879151957,-1.4860516021450563,-1.8835138947200338,-1.2789714952621651,-2.4679588030229684,-0.5075393246412272,-0.3139587324034548,0.14207770684975074,-3.4786658327632964,-2.2230409758790723,-3.706542954305953,-2.0672752738143743,-2.9234990278302333,-2.407666183389041,-2.5197604922469945,-1.9938232950624506,-2.0961118590088916,-1.3487393749473504,-2.1663487751642974,-1.523554419867848,-1.823913270363997,-1.697860596354502,-2.246304018938964,-1.48680620012418,-2.36350529014058,-1.1584991755074368,-2.483369396133204,-1.4864752711718008,-2.555863694801403,-2.019925958614803,-2.4355502209962627,-1.489009545370387,-2.0393504995961704,-1.5575376461434465,-2.5923172027692996,-1.837430992486828,1.899570792746934,0.9638825220947739,-2.255381954140898,-1.2853202849815308,-2.315430775626594,-1.1842900309908384,1.0722073177745681,-0.016404756226288297,-2.3467103833434027,-1.290249557828572,1.0910660582610374,0.6516334705737417,0.30122153085329345,1.8775939156642365,-2.2054957739414345,-1.6083883031623525,-0.9946276953777767,0.8178424760340771,-3.2384239588951793,-1.918698251322401,-2.3794137742149384,-2.146506691127202,2.4447226345752138,2.7301402392385565,-1.3456018240032992,-1.0332520921797312,1.990373189881389,1.0051559670760142,1.7974479460771735,1.1905537778136674,-0.5172500837253635,3.033804521048121,-1.1791632622716313,-0.2585758142176379,0.3162001005487193,2.3433135908936316,2.139586670655311,1.6838303652940505,-0.8358377840243194,-1.6066890657241988,-0.23125243951784172,1.5146552710893746,-0.5867049434427493,-0.2246036775009968,1.1144940583883554,1.242121404338871,-2.1818287351015755,-1.2934500111820253,3.229895451841477,1.263102215014979,-1.8767771794917274,-1.3447473179395466,-1.833567128756081,-1.0119338438291334,-2.128106563424972,-1.5304529626109415,0.8517564752662702,1.402002662117093,-2.861391926174838,-1.6152614428309746,-2.747261215086239,-2.426528213601396,-2.8815449455165076,-1.6514726900039123,-2.814160326353882,-1.6475140581099363,-2.8787948961280754,-1.6977523641071481,-3.1692029356255773,-1.758260628958514,-3.378791779468967,-2.010957355362973,-5.466051812737135,-2.208591267172141,-3.294328108058998,-1.7898629849535268,-4.027526965143196,-2.444085198468399,-4.00435466909812,-2.728520499657384,-3.4304382898652683,-2.5510954967363295,-2.723114935635294,-1.9743962070289476,-2.260949078906655,-1.495617433248407,-2.1594262389906516,-1.5424858964315469,-2.3913206608130175,-1.5332257583391082,-2.2025366977566962,-1.3615634495811935,-2.470510750613452,-1.481261179985409,-2.272394294975271,-1.516625211186095,-2.371402791960524,-1.7306474905636442,-2.274482807379067,-1.6835996294340565,-2.320576526723835,-1.5671648776827596,-2.3881077197136364,-1.7060826335044963,-2.2916509225079045,-1.740323020269751,-2.1658168421014476,-1.1948892475480162,-2.3586962213512663,-1.597542762352802,-1.9961462933391418,-1.2508185731438113,1.583147334820506,1.3403297286834688,-2.2411749457767307,-0.9061958724038421,-2.107045502817916,-1.4327180115005405,1.6646378372038473,1.355157459424186,1.4015653699758783,2.149299115502932,-2.295774766860154,-1.2436342906426456,-3.4046155597803827,-2.4314798202563415,2.4984386595654273,3.0504052373813257,3.8147872209448255,2.7340529598796652,-1.1932529851616513,-1.118138254452822,2.5357975353988085,2.663792453422355,-0.46231069011521747,4.186632237954858,3.745614977241582,3.7974844674710946,2.460408694336637,2.258712159711687,-1.3170025173138864,-0.9687307110534414,-2.0993826197259526,-0.9714281676494858,2.6263380663043696,3.0753401105798166,-0.46470382131288024,0.02308784651757806,2.2900031383861266,2.544495198968295,-2.165620500851063,-1.559429928892546,2.0379983384088143,2.374935684196155,-1.8670769778310632,-1.3700354588199022,2.2523541460781984,2.2035212131898807,-2.633502405723268,-1.593758423208759,3.010120666730189,3.1399310588149345,5.079481261891161,-0.705398784651832,0.07635213944562103,1.6914094217446447,-2.5910265062795315,-1.46454194272076,-2.945099311339237,-1.339890196049143,-2.2824613282127677,-1.2974653364082223,-3.55803617077733,-2.0002905903341275,-3.40046502282701,-1.5420677669150331,-5.2006216724035275,-1.833798667318426,-3.3221436103844413,-1.5170537543150104,-3.8905674353801367,-2.225002283824507,-3.720074052400554,-1.9140014118838844,-3.828028259573013,-2.412523880169357,-2.4857020980583697,-1.623349524330715,-2.206800692062039,-1.1751785710263039,-2.252024738766959,-1.3933307913812378,-2.2364477655156896,-1.3775200215090384,-2.018112406643819,-1.3677836124981388,-2.105391630408249,-1.1138349547649704,-2.2181341259823015,-1.3842768688943488,-3.048391177712563,-1.5817790637934475,-0.4465877130191067,1.708655605591502,-2.2494570412241472,-1.3387493491095592,-2.0829642230728322,-1.3236012794873568,-1.6587313205091814,-1.2435000640573322,-2.6266899418418084,-1.274747131226907,-1.9685053579754643,-0.7576650572858089,-1.7585820095156501,-1.2246313892856433,-1.6422991066332389,-0.6369178533014437,1.988302305703446,2.787931364336301,2.3159852730315267,3.095359132674486,-1.8419271290803532,-1.1159936916491255,1.6887370218807005,1.7951886177113239,-2.135619263481819,-1.1662235620839123,2.8410846645291334,2.6748805030280653,-1.7864812082056736,-1.2746089569318078,3.0338267158997887,3.140123874797114,-0.4633400276451339,-0.18641755845686495,2.8892347261846876,3.080030947433542,0.2859224955445617,4.783611104476096,5.848273242735477,4.071735486426721,-1.4950357019506466,-0.4669633256520978,3.07228738533298,3.1987783554890172,-2.110868969284284,-0.73865378555262,3.7946235578308976,3.4704197230679066,-0.36395936085068564,0.22589812126478878,2.2031148884174248,3.209977861370373,-2.8268881128858596,-1.9609996603763626,3.387379507278481,3.6314967098062994,-1.323937304560014,-1.2445910210326152,2.8492546037154844,3.8741459033440964,-1.0542287295860417,-0.2581316644061948,-1.0777000138720594,-0.42018655228958146,1.9602156759891562,2.349880366594001,-1.9009242938818498,0.9161441042261703,-2.0283447609414043,-0.5380032570421546,-1.679801847241541,-0.90713672038812,-1.3350314955155844,0.1729219326320065,-2.0416817153801596,-1.117079027619448,-2.606671313198733,-1.0132001542844922,-4.531951720592182,-1.1927096091377527,-2.2420488787748956,-1.1146433068558894,-3.1929355178439396,-1.232327789111829,-3.043192085024227,-1.8272779956173015,-2.791536445555255,-1.2712494625681985,-0.3145970928738962,-1.350935279465879,-2.180549765180198,-0.7300039550209605,-1.363904744785979,-0.723861155368946,-1.5977195943634868,-1.1421264500654367,-1.5370223136379213,-0.8472315756376606,-1.225253836874013,-0.861218868536562,-1.5373309686331011,-0.0912392097880304,-0.5720965810811942,-0.5173704296842303,-0.6337571755948999,-0.20381262518884857,-0.7162983983059654,-0.42036797774724577,-0.48341594261076515,-0.32894032537688633,0.19520458843254906,-0.20866261530951413,-0.6774494796506099,-0.41317326486949546,-0.6238853680581928,-0.0828198263176334,-0.7798992920147131,0.23333856228260696,3.7681821489481244,4.676955452862362,-0.7044328179615754,0.22430849090547444,2.9566870573126187,3.3369425000561916,-0.8660263947122921,0.10811162016491349,4.073666204449222,2.902611402635116,-1.5755670110579256,-0.9618809734101441,3.1086312979910127,3.6985418117053506,2.4831959761603755,3.215584878830472,-1.2216524649055,-0.6694432553938309,4.9021331364279375,4.103150981755136,-1.3850025662624512,-0.737288897974847,1.2813858974183192,5.512433879434497,6.152935790307999,7.256725292457495,-1.298649212298619,-0.8467093643816005,3.909227547449535,3.7593973644671532,-0.6671520767349192,-0.6486548727449452,4.22332109890019,3.593878514339682,0.47026339537616674,0.801315804334297,4.404302250203468,2.9515090937897357,-2.028126355906036,-1.7712747470322747,3.215734594288945,3.705088326273582,-0.19064195010246715,4.029872241133147,-0.8426054705608478,-0.6820583476121648,3.374854849199278,3.3964369538114045,2.3211307155663543,2.4845054089925,-2.4065975527911565,-0.7890404047355907,-2.495488359110828,0.5407710412971141,-2.2354427525563607,-0.8451151342491022,-3.1346841272892374,-1.5316748814040206,-1.8489005147105315,-0.7970946194782966,-2.3041734425567233,-1.4817529190683336,-2.983418699753866,-1.0619593272225334,-5.506705389635135,-1.5241519483965509,-3.0525037471434673,-1.1269564936523027,-3.7390396307703724,-1.5862850939080761,-4.117126892690699,-2.08522257831629,-4.039301771203367,-2.303219079454806,-1.8647539277370802,-0.31254481760290437,-2.1315621896327497,-3.0771486394170284,-1.7108709076129998,-1.0873488046749604,-2.1095550948913115,-0.8833643574768952,-2.2064031253997074,-0.9234730578366115,-1.88583240504415,-1.1727433242102885,-2.155803058422565,-0.8832800636045752,-2.03648886843109,-1.2892446747504895,-2.3023989428032365,-1.5099902342318938,-2.3551131133615355,-1.2293276436342007,-2.300359414243094,-1.097729826433737,-1.3349405703291037,-1.0044689527269806,-2.2718681637136506,-1.4327772242214982,-1.8691450076281229,-1.060516038359207,-2.3544041740978643,-0.4415232356389859,2.4073428875164065,2.5730402466621234,-2.135902438097886,-0.779842472726904,-2.0088815090468235,-0.9205649667074255,2.773830532125027,0.9039495226379262,-1.5690880572916288,-0.6942435124824445,1.7038196381147672,2.520916454385139,-1.9283867079593333,-0.7718499875001974,2.9190349572755547,3.9802556382731784,-1.3218516688163047,-0.562587483063235,-1.0106244402275197,-0.800344263695591,3.1863977215999943,3.3973583037388333,-1.03527955268306,3.439900948461805,5.00079165789378,5.266214623291435,-0.2884648209809499,0.20586765046551375,4.453278713051408,3.511155766971136,0.7344456216025524,-0.946994276281295,3.512549231972117,3.277309469002837,5.443527708105054,6.122051405963831,-1.4655666499531264,-1.2093114531029752,2.732496364579347,2.447183371614306,-2.2850702579929854,-0.6088204947205779,2.9076069071480086,0.4268216200652966,-1.4481826203229562,-0.8177765228424952,2.024046678748949,3.1482580140263106,-2.0247568390270643,-1.0974032712200268,1.3004589880258302,2.8005795172366295,-2.112117446788509,-0.8584645401749649,-3.0547659281886204,-1.3020134164683386,-2.617579509726093,0.43718289754547196,-3.6021062231628775,-0.7823173627994431,-3.4715142774715257,-1.323904253375286,-3.6119441237568495,-1.5563853565929462,-5.039885435394274,-1.2084345732605124,-3.180009440175039,-1.0917856193956506,-6.258641922626783,-3.1746333477712625,-4.376405858352353,-2.5554465084475475,-4.141871945519203,-2.259026548435461,-3.3179983324291062,-1.8448923121217045,-3.019113200754782,-1.1670272102985182,-2.618221982407795,-1.4059654470847598,-2.200450765962203,-0.8168420833448118,-2.5227734576084164,-0.5043816943145233,-2.3865939554133786,-1.2769134896716248,-2.4246930524284185,-0.4553117653169336,-2.8453925600308194,-1.372114158252674,-2.6151783747517667,-1.625253861198345,-2.555084065744163,-1.2654982539962278,-2.642653522269514,-1.3310643429278626,-2.2423047249870636,-1.03057538352601,-1.5823037379290237,-0.537617862401787,-2.0630915096310516,-0.04024872386983164,-1.9700498118375682,-1.1752033668894304,-2.6217262168918114,-0.8875059463595841,2.0247063551524676,4.20754322658304,8.98795889627002,8.63924929619054,12.134421045238488,8.859299860236696,1.0055956436151097,2.200126157986174,8.965791960134796,8.102813739077666,15.490122375374385,11.314219789689801,-0.23267507269916832,-0.3344062220905158,3.5520546806661484,4.038748452481954,0.8269520555300098,1.0162297346734674,7.568035811900646,7.2347545652916505,-0.3302337151109749,5.931822148764277,5.4941053412486305,6.57595039650829,1.267531432981976,0.5202185864260259,3.839050380145668,3.9325132017010658,3.236157936305515,3.8472457313052426,-0.4318804262691509,-0.5809103308941851,4.955099622179897,5.35086412565649,0.9963688784135075,1.3950364106145658,2.611264910264856,2.903778170225016,-1.4190550508261506,-0.23373111078930442,3.118936895913857,3.8025464885453166,-0.8231002205492367,0.5184408096885761,-0.517673199269454,0.842547018116968,20.301891538256644,15.631772519137323,15.065189199126724,9.511830552507538,6.772112479334573,3.531788152318581,13.717636231344414,9.446268070221587,14.351791912910706,9.472207087864513,13.645288344373025,10.007130757427385,13.218499432581904,8.943269308166908,13.137624849507585,8.72366187156732,-2.95750453846561,0.4589530222330975,-1.3879950791743085,0.18931639872381026,-0.8301385756184314,0.1343445625816462,-1.255913394684997,-0.40741427773399036,-2.4346493767802517,-1.1497671214623106,-1.6944310106684064,-1.0134804265216846,-1.6498557378208412,-1.173700648867667,-0.9351718748630224,-0.3067326384307817,-0.8951692091010699,-0.2648185915809768,-1.2971211418105741,-0.7454255759356117,-1.1153134499450321,-0.39582587517377926,-1.8252457754511617,0.03305349199421148,-1.2662216244035136,-0.568396959892755,4.38772608046896,2.6929339469549824,3.57728694278578,2.4081151115912367,4.3968207572817075,2.8031207283277992,3.5315620795900715,2.624876981197193,0.5846552792969216,4.776343546131984,-0.8175992817778899,-0.09210093109217823,5.805912074635178,1.886971276886311,18.154632926305474,14.059094554925606,11.196497786136444,8.030807706287465,9.297934570037434,9.072882486874104,11.919986551909018,8.50561655262594,4.873103682636728,5.743815235151368,13.733281452301886,8.093448014756333,17.628550705837213,13.59237397387571,-0.03799860991093513,0.3972977414174526,17.906844903210686,14.573380999343277,13.94158288979404,11.231227672686225,14.362398276937625,9.341564948408397,10.32369878243072,9.199551088025329,4.412016577059495,10.715916296254429,1.636504174373981,1.8827952071007743,19.767024528135046,16.86621724992122,13.477770141427815,11.186491392057412,6.40811232067757,15.44240171756406,7.86386974407831,8.153646759885705,24.81240239481938,18.774150402691667,-0.10973489294125201,0.6421977981683478,20.166461409059657,16.093587420813126,20.353253863842436,16.219113731610275,-2.098843770175175,-0.22341703812101216,-1.64334856979642,-0.6223261354064422,2.5731588012129696,3.5087644963702407,-2.674983511735654,-0.7995430269735317,-3.1956811726362373,-1.1019445816134585,-1.2459932385100132,2.2114320485359884,-4.076140393601038,-1.824348224972965,-3.8510924084934013,-1.929946179940021,-1.1670956975490443,-1.4299181447242053,-4.132763719023295,-1.7470280780068965,-2.8831825512276104,-1.07792600593092,-6.0435118951154765,-1.510806490090838,-2.651018470306606,-0.7217075891635599,-2.8127429879699886,-1.1180861159005888,-2.7711118249548004,-1.4523440044175369,-2.9090341422988306,-1.356134695573977,-1.7281089485827295,-1.21610478570626,-1.5335195709101757,-0.6667004581257715,-1.136668045780792,-0.4039413985390086,-1.6199291207035076,-0.7449996570966502,-1.3865974083050407,-0.9017936907937162,-1.3097867041596516,-0.47490560393148135,-0.611623339354496,-0.6711027419856478,-2.296566522460667,-1.342903840479661,0.2456333596765653,0.37532377269560113,-1.3692556405043852,-0.3144229886664525,-1.0534229870748917,-0.4618868335628609,-0.07628887103271224,0.025800213609554822,-1.6037904162531411,-0.5973789090356204,-1.5547988321450688,-0.09446120949426345,-1.3665935139710452,-0.48103756813426873,-1.48846394812796,-0.2914324195456731,3.7633400681503577,0.9314495932911868,-0.6772626575659667,-0.3745349576210614,4.782004870752223,5.102844401463107,-1.5073344542766913,-0.30697327610992053,2.836210926028911,4.339516674388648,-1.4089988814721384,-1.0984580624392273,6.149571381199208,5.243222362121896,-0.6299072577046213,-0.5017092344398946,5.828379557045895,6.046003052940811,3.9524972243307053,3.866207241480093,1.6458814192133784,10.24137682521125,4.351723267910771,5.414148597067914,3.6320236146731353,6.8256183486313295,5.42820232926667,0.8792716969982888,4.204091614840707,4.0445626128075185,0.12591251714722224,1.226832621619124,1.391542180580989,3.129404072447941,2.7063316586666164,3.981163813232557,-1.9249195891834228,-0.774002033923823,2.299743941248232,3.1327540651274752,-1.6171298972193344,-1.5498001300159814,3.0504341216546544,4.782630776807979,-1.332142831115665,-0.23556874795642152,-1.6013785465902024,-0.40832290920082664,1.1069247389578252,2.431261453301208,-1.9640879301422076,1.15624756145497,-2.0239417304525205,-1.1426498220001482,-1.6370072202551755,-0.5910259842689914,-0.8411016421875266,1.3313847073500997,-2.47385283277243,-0.6224588463049516,-2.4562336357210732,-0.8518985789976536,-5.705251770095057,-0.8206337260534794,-3.067484972482145,-0.7453432945689121,-3.1383352443581085,-1.3891949711215976,-3.050222592017937,-1.5308266786720992,-3.439334308184554,-2.543703634838349,-2.8845201626668224,-1.6550327128181441,-2.482870665485189,-1.122804960051815,-1.7555798984139965,-1.0254643294165635,-1.790336619519865,-0.9591545487523487,-1.4383188221992935,-0.481506720366405,-2.0904828320501174,-1.1113095753938114,-1.9285607689636715,-0.5819119185645991,-2.8633570505336094,-2.4553747296021484,-2.1521163715095266,-0.7304925375131975,-2.32104509696497,-0.6399257543745578,-2.778326137096563,-1.1403215795159158,-0.4963093408902215,-0.4190672271837593,-2.300984947772902,-0.6682354943766804,-2.4127213288531095,-0.7857831176085909,-2.1671079789672687,-0.6261158612761648,-2.4030016633119415,-0.5207554780313277,2.648322179642678,4.300848805422024,-1.3814369210063944,-0.662132761846474,3.449369207407381,4.043919212750765,-2.234091269200865,-1.0362015912133034,2.8667220987433693,4.248591187897103,-1.997135463021562,-0.7857528577465795,3.2565801573773707,4.666259166710889,-0.9631759417839534,-0.36063375847152174,5.123507320372836,4.564121787576837,3.1858679949936497,6.528656915188427,0.8294087355669486,9.288488520993193,3.9854927217458425,4.615142222468749,-1.6967954702326864,-0.7552329891224081,3.3644123712391543,3.299814886307223,2.988758638729178,3.7919122058815296,-2.3366550572759444,-1.0090167902445064,7.268218091386473,7.161651377589214,-2.646174266696283,-1.6528890100309674,3.4439201197147424,3.9631271318673744,-2.4150988245349665,-0.9803486207431281,1.5634307662829319,4.002343992165125,-1.1623770864214096,0.07754704022405817,2.092795146488394,1.9631266216307,2.50084317511489,3.227277073144385,-2.3239706889215093,-0.7364873743683685,-1.8448320983932471,1.1239535342584412,-2.7240617912422382,-0.49411299107145296,-2.4838418257333106,-0.6494670635579484,-1.5076363564635014,1.4500333147142201,-3.372349333639469,-1.4424787323734523,-2.544034794724744,-0.8623932815309868,0.21028412846041108,-1.297118414491932,-3.5144472802781324,-1.1837761676723078,-3.7306883795906,-2.200817532846573,-3.081179658316156,-1.7346543394352898,-5.020098617693452,-2.9927589327940622,-0.8240104178085392,-2.3426483631046127,-2.6779253361298463,-1.2708875748839201,-2.3872591341100677,-1.0125903831210412,-2.278346453429522,-0.6333940279719406,-2.0308029787763107,0.20796034977889194,-2.3378598910188986,-1.145131993534777,-2.493059065634992,-0.4793336920526401,-3.1617331005680316,-1.8238040320514108,-3.753687306564684,-1.1233066578069153,-2.6829685073577347,-1.501023273944943,-2.5104066590126672,-1.384107103099822,-1.257215117334632,-0.6353896180474652,-3.0400563335264814,-1.1005897209956004,-2.5957369975680713,-1.1060491970654953,1.053551219856632,2.087639878857283,-3.368163184261291,-0.7259998544089183,-1.6278834326023628,-1.0821620160521925,2.165080247628986,2.593105737753493,-2.7041883747697892,-0.6372417066981468,2.088443881492363,2.467224776850646,1.5435523169574188,0.813863836894525,-2.0438004653382946,-0.4353688422683958,2.6433001770280526,3.348456483745193,-0.6355117481719729,-0.05415935132553285,-0.529940743872079,0.4521630503120655,3.3937752105840784,3.5767143299112187,-0.011381518127926036,12.000972611528983,3.478146721570821,4.518985651506279,-3.422444721651946,-1.5685676084849236,2.59135567481379,3.0461836987183597,2.6086823969709334,3.547846263395687,-2.9484916569105417,1.8136873473786173,4.507364403353497,5.132445527984309,0.47161580380881085,1.3503877989655648,2.8423562513907985,1.526644626269251,-2.012737023521398,-1.065765455349886,2.503510647634249,3.552247351516697,-2.0069950956824547,-0.08653464760819558,2.03184997580565,2.6913755234924275,-2.57511855672956,-0.2567891392505978,-2.324981142116487,-0.7454121936691238,-2.6510649058305016,0.4682223744306937,-3.498420348033604,-1.1027454644615786,-2.0284864840073062,-0.3061332063963003,-1.7336956030002673,0.6260534969232359,-3.1223895438645926,-1.2922346939494527,-3.307496295266646,-0.8622802371717208,-6.0681246813783165,-1.3138186728153813,-3.175523642233168,-1.3458356201198682,-3.6105195739106155,-1.629646832319162,-3.7226776837696836,-2.1332063264518886,-4.4812593176323,-2.4783379097500005,-3.093426853011881,-0.8358096861017478,-3.137842211787994,-1.628994474887146,-2.575120537645192,-1.0246007901095917,-2.37959017122655,-1.45891073124506,-2.0610990961707647,-1.0662560656983495,-2.4442846040804307,-1.3374910950815992,-2.783634418931956,-0.4080199418019627,-3.3249295100614753,-1.5667084130230304,-3.523962106247223,-1.7445836190306432,-3.252874355694418,-1.3789829887865968,-2.897463623477751,-1.2041272068404663,-2.6944153344382427,-0.7399579390635866,0.2883646852373055,0.840320584334947,-2.6392962081623486,-0.4667846323630489,-2.7656013230153196,-1.5562207830244452,2.45582605651822,2.7197577781688564,-1.7951817786844837,-1.1084254030510983,1.9736240483760752,2.978572074125419,-2.2944473892799335,-1.2747260798604614,2.516778345875224,3.704133795751571,-2.3889774092873877,-1.155874066476132,3.583682756872343,5.55529665276243,-2.495323377715612,-2.204690297050504,-0.4424596370480792,0.2413566973912643,3.169852524526433,0.7910648445343477,2.0214052521945054,3.6120745365275613,-0.32103099484927133,10.616519792735508,2.552685637639882,3.8085489770259686,-2.002778306355697,-1.0609434500872557,4.089338409044751,4.970031268783457,-1.8844477011601215,1.2904257267684938,3.112549536329069,3.760847023204679,0.008413652791403096,0.8861747102134464,4.476121320079641,5.44826900477732,-2.414795689902335,-1.6981315067308136,1.4197544361371734,2.069365631749667,2.1455994367046722,3.7594143013435417,0.27912142267645357,-0.018936847853877403,2.3032875427355872,2.6650750218525237,-0.6452407749721387,0.25566554344113346,-4.073480031735841,-2.1603922993233904,-2.7794007675211123,0.2391543804483096,-5.322440059945673,-3.275240996348315,-3.169312135944405,-1.254918452485857,-1.5855719777974013,0.19408269590178767,-3.086756806705955,-0.7503950688227522,-2.8978697060867926,-1.348044592491948,-7.539199108517281,-2.009496068986781,-3.867297770427772,-1.3865870851639965,-3.7463893667805985,-1.3520557698927762,-1.8185815290737528,-1.5976052140835988,-3.8189278103216617,-2.277851205252918,-4.21508826417502,-3.3009014316558782,-3.7926130850923654,-2.615491807904392,-2.374751343287643,-1.3528524457105484,-1.9424009201163877,-1.155650292061619,-2.2993960078491043,-1.3514063366927642,-2.1860784519843675,-1.031685794568562,-2.2847299320897423,-0.8851789865460269,-2.7369790026163243,-1.0280120855181467,5.020793001607871,4.714673001510586,1.9815386170630769,2.2449592352596275,-4.843025086313644,-3.015688296762622,-4.500677328296453,-3.0965178700660534,1.1192230615604726,0.503873149495241,-2.6401343594556637,-1.3411216077551797,-2.765866854823301,-1.0449779756468327,-3.5017536184363935,-0.8401574908215514,1.3219550056050766,2.9366666836685797,-2.3067139679467528,-1.3464794591513334,-4.8954685089341,-2.9948366344638937,-1.1575416770213858,0.7624198420592982,-2.2220765144527417,-1.4421685779180013,2.0674397411840104,3.83914760416851,-0.35015896509145333,-0.4301460649984758,2.3802174568666503,3.8300411407259602,5.303363209148381,4.329650425931817,-0.010216296086873534,0.7297320667929749,5.305174257232263,4.560670939017191,0.02597798506340791,10.202213445131909,3.3087765889935783,4.036140918000984,4.6398328966376186,4.823705810557021,5.979421997886115,1.998674224945371,0.13466297623265563,-0.1171831176571507,4.935029940386798,5.942598468647096,1.435831500191975,1.4912216397594427,3.2290931232117788,3.1567132282214243,-1.6361203009270566,-0.6852397480498729,2.9056815516796473,2.788386814802563,2.434175285744706,2.8391998523301645,-0.7522590326463876,-0.2587585129037571,2.487093798383144,2.8211319819474383,-1.4930304423060854,-0.36555457830691973,-1.3485461010449538,-0.688338936268103,-2.143506842245832,1.2186476854319,-2.4543455555450593,-2.0234690110448508,-2.818832192809426,-0.8579970829207522,-2.8456056179118074,-1.2906138381751995,-3.6967224606668077,-2.0010781475902304,-3.328332893719287,-1.055188639852163,-8.341222373274068,-2.6095160942367785,-4.333156010123085,-2.4182902867796194,-4.705956097381679,-3.2594674642197083,-3.222605852467614,-3.3488476363743387,-5.040441872866458,-3.9279526849070896,-4.24155486014815,-2.3420858365833905,-2.985282435290306,-1.368311928890007,-2.938780176483689,-1.695392142971914,-3.438140002400721,-1.9316992220717977,-2.9728072796782183,-1.8657991821228057,-2.6934324610852727,-1.662452992344725,-3.1722060233558356,-2.227330214854584,-3.98935969960397,-2.2267385602298346,-3.3663192761734617,-2.0275966640147693,-2.8888061181800615,-2.249216690125156,-2.5439800778096533,-2.2343269550611797,-1.1007649142377853,-0.9272084941647533,-3.228337434076275,-2.1958399625224962,-3.4097715095431123,-1.4931592483795206,-0.06923510737846762,1.43540490926882,-2.8551706800207866,-2.0365000336018766,0.9570464769776219,1.6744705182396065,-2.701533390191358,-1.8138926937918107,1.544245903539277,1.1196660484919805,-2.8258500321704725,-1.5149353248896218,1.851070035024777,2.5274104957076076,-3.7101919167314477,-2.8163902885266063,-1.9419749030518736,-1.2816630730790106,1.5544625187692378,2.1908355233069194,-1.2475372397013338,-1.0945231096423056,2.912444682597914,4.513673462764249,4.344559475894245,8.342098116961566,-3.5125895611965894,-1.9096543956036776,1.161268386866154,4.169063073727838,1.820457211559488,-0.9694470538093839,2.476772656931908,2.099763898813087,-1.9346196362756702,-0.8374823434377783,3.328680391065337,3.7800909194030106,-4.1450058831268946,-3.103705653195071,2.280477831759289,1.0373812979378028,-3.7163807928046824,-3.426421567268999,0.7321562343485738,1.5053603083801823,-1.314133948892575,-1.0154713140733933,0.9959796271821918,1.5202979291812315,-3.417995102451282,-1.9185182277271826,-4.0196856667598615,-2.2296943189783685,-4.531194722051607,-1.4400886352005349,-4.313604336817106,-2.735951166614589,-3.4703586224852767,-1.7760474237067887,-1.6200094103442915,-2.127125217351216,-4.922532829808215,-2.857305573522437,-4.440929431376281,-2.502492846788144,-8.439238560783387,-2.5602843664758583,-4.672941862179615,-2.60874471880204,-4.791750081130041,-2.9425666696691968,-4.132547232510344,-3.338118283578267,-5.277070085861646,-3.744109174905081,-3.8949716159549492,-2.9978805217018905,-3.28083504416619,-2.3469820654023774,-2.7563335442404986,-1.9616658101584725,1.8384280698257214,1.904318295782882,2.316674691433235,-0.711685707080978,-0.021903166346451806,-1.1981872713914783,6.287359303968167,-0.12266948085924129,3.8973268613579295,-0.9318615271347817,4.923684937288138,-1.5496506228763478,-2.9308617491297824,-2.9432865980017153,-2.0914445691291093,-1.6755904485815345,-0.3028720790427261,-2.1365104806203212,-2.907229442088672,-1.93560918615505,-2.682971639451251,-1.476678408237187,-2.742821546395742,3.4266986244803066,-5.338026225256755,-3.106989039511269,-1.0515201765334128,-0.1170831759499285,-1.840291319138184,-1.8603668789495362,-1.9017217989411945,0.3971050470210397,-5.892993372252355,-3.579045869047378,-1.0883965621556428,0.15940733678873215,-2.460296193886863,-2.1623511441417906,-1.7172993179933727,0.8096945604614605,-5.359602918293139,-2.8784611406774916,2.9478368521686265,2.7564141613408086,-1.5876005820047954,-0.8857562288980636,-2.6713703949287915,10.52834171434204,-0.5331973820851683,2.1469693982154814,3.2849127381780248,4.6397741289780505,-4.891139662838694,-4.0079175672723775,-1.745653924839236,0.7289748454564391,-1.6815721156707155,-0.9311650613225686,1.3131694687845703,0.7421435554266597,-3.7762915606275693,-3.317521840139401,-1.608849872635712,0.3730068996801273,-2.8263760230555066,-2.82233072476896,1.312027094104044,2.5995610120631074,-4.266599192370924,-2.682187777028538,-1.297650878094494,0.8097562803475802,-1.5255497441496713,-0.360161372511724,-3.8129001264133837,-1.9986274532581252,-2.8260215263153214,-0.9507151957221812,-2.6565842948884337,-1.891725128561577,-3.6948065504886567,-1.985092474987277,-1.548746929638064,-0.2525799517946525,-4.068959002654184,-2.1944025071216178,-3.8400045097900013,-2.143415516335684,-7.902672331867652,-3.3509252867346833,-4.100341647471818,-2.787084201165033,-4.327480120303211,-3.0570235694030585,-3.6544862488081575,-2.7489656973889915,-5.029289849068886,-3.8646407394009983,-3.813239574428564,-3.0331591642236173,-3.9350398300300697,-2.1231841738526143,-2.8611518992748626,-2.186516134527071,-3.4005616068147377,-1.888783419154198,-3.451810696329164,-2.1521897169026025,-3.211693220490669,-2.134618655503553,-3.3773622590684567,-1.7210551301958312,-4.181463399406266,-3.475382147650773,-3.8324589958411606,-3.722333998370701,-4.048711259802508,-2.428557633009321,-2.7657531811876273,-2.188540637190001,-0.40652017997262907,-1.5777040914424745,-3.265424100345826,-2.3501231300375176,-3.782159063910393,-1.7636437862741685,-3.820456592131422,-2.1204255785799577,-3.649935685815142,-2.0027442159231983,1.3451303077931356,2.8290370126457822,-2.33784907708861,-1.8379766355741454,-1.129205354252061,1.7515016206638783,0.5768450368791193,2.3023564895157187,1.3136984762179387,1.8563367391450292,-2.4847996891402793,-1.7083575710321353,1.7797862879811053,3.531212335478365,2.3986049230769493,2.387301539514463,-2.510487425321252,-1.3891388809512588,-1.190814549774051,1.5717567583760552,-4.372600370434303,2.6890403914775614,-2.8847519659446217,-2.550787684922375,-2.224544642464468,-0.8649835901280909,2.5275544961949543,2.8480776625112587,-3.038391188311881,-2.114804773045207,2.424105113075368,3.2700825926827872,-6.353263307036216,-4.819001399325571,3.833843519416227,3.4649812267678843],\"xaxis\":\"x2\",\"y\":[2.425,1.467,2.477,1.556,2.432,1.787,2.445,1.595,2.346,1.771,2.763,1.716,3.0,1.926,4.564,2.351,2.695,1.712,2.812,1.849,3.189,2.008,2.51,1.456,2.995,1.977,2.973,2.273,2.968,1.997,2.889,1.991,3.364,2.334,2.492,1.896,2.869,2.104,3.539,2.498,3.292,2.436,3.273,2.725,3.378,2.313,3.042,2.511,3.5,2.784,3.079,2.259,3.305,2.423,3.124,2.334,2.91,2.528,2.97,2.666,2.629,2.517,3.03,2.227,3.076,2.137,2.598,1.554,2.611,1.637,2.824,2.022,3.366,2.871,2.895,2.369,3.583,2.574,2.682,1.992,2.874,2.173,3.057,2.067,4.465,1.968,2.46,1.771,3.09,2.279,3.067,2.025,3.023,1.848,2.503,1.512,1.934,1.245,2.293,1.403,2.523,1.453,2.25,1.453,2.753,1.716,2.469,1.452,2.764,1.588,2.565,1.738,2.639,1.92,2.417,1.569,2.357,1.601,3.901,2.031,2.829,1.83,2.324,1.259,2.931,1.697,2.915,1.893,2.583,1.83,2.515,1.851,2.821,1.936,2.129,1.716,3.354,2.35,2.495,1.773,2.996,1.932,2.844,2.241,2.837,2.106,3.022,2.552,3.127,2.486,2.778,2.228,3.06,2.41,3.167,2.379,3.05,2.56,2.958,2.328,3.108,2.9,3.264,3.468,3.15,2.654,2.978,2.568,2.917,2.194,3.092,2.138,3.015,2.408,3.043,2.242,3.107,2.531,3.241,3.322,3.329,2.456,3.185,2.603,3.085,2.274,3.23,2.366,3.168,2.018,3.949,1.991,2.462,1.735,3.271,2.265,3.327,2.412,2.977,1.896,2.352,1.791,2.183,1.516,2.267,1.531,2.333,1.678,2.28,1.545,2.411,1.738,2.397,1.595,2.473,1.703,2.517,1.679,2.764,1.986,2.642,1.801,4.34,2.994,2.789,2.129,2.649,1.818,2.72,1.893,2.964,2.171,2.23,1.607,2.829,2.353,2.845,2.095,2.636,2.028,3.321,2.422,2.871,2.13,2.962,2.2,3.103,2.389,3.303,2.597,3.376,2.675,3.556,2.972,2.912,2.721,3.385,2.842,3.23,2.634,3.38,2.609,4.635,3.145,3.532,2.78,3.618,3.316,3.305,2.54,3.138,2.104,3.347,2.496,3.379,2.427,3.376,2.633,3.053,2.481,3.125,2.374,4.22,3.592,3.953,3.043,3.555,2.768,2.917,2.309,3.11,2.493,3.216,2.488,4.166,1.946,2.838,2.318,3.525,2.394,3.086,2.127,2.889,2.212,2.328,1.566,2.114,1.523,2.347,1.651,2.596,1.715,2.433,1.652,2.182,1.537,2.497,1.718,2.534,1.825,2.925,2.394,3.084,2.208,2.748,1.592,3.847,2.114,3.07,2.087,3.109,2.201,3.236,2.204,2.35,1.611,3.057,2.464,2.804,2.295,2.708,2.154,3.0,2.206,3.059,2.443,3.087,2.4,3.05,2.061,3.128,2.464,3.72,2.834,3.287,2.513,3.297,2.669,3.739,2.648,3.064,2.448,3.706,3.303,3.257,2.893,3.639,3.101,3.339,2.821,3.183,2.846,3.643,3.421,2.918,3.0,3.264,2.542,3.48,2.922,3.426,2.702,3.129,2.818,3.444,2.754,3.929,4.023,3.367,2.862,3.357,2.958,3.256,2.433,3.401,2.617,3.329,2.826,4.419,2.501,2.482,2.251,3.475,2.783,3.321,2.425,3.131,1.876,0.619,1.272,1.892,1.724,2.456,1.7,2.283,1.609,2.786,1.999,2.627,1.792,3.177,1.948,3.165,2.163,3.086,2.017,3.051,2.371,3.069,2.447,3.49,2.49,3.197,2.429,2.719,1.939,3.32,2.578,3.51,2.834,3.553,2.753,2.822,2.468,3.429,2.555,3.097,2.831,3.43,2.432,3.816,2.82,3.819,3.027,3.292,2.886,4.227,3.408,3.886,3.04,4.071,3.661,4.044,5.39,3.519,2.969,4.229,3.469,3.86,3.181,4.021,3.311,4.014,3.332,3.639,3.103,4.14,3.885,4.003,3.287,3.785,3.368,3.697,2.955,4.04,3.287,4.009,3.266,3.969,3.095,3.954,4.625,4.458,3.545,4.338,3.159,3.986,3.207,3.588,3.04,3.806,3.246,5.13,2.803,3.635,2.672,4.112,2.803,3.851,2.809,3.645,2.504,1.919,0.941,2.726,2.26,2.981,2.316,3.291,2.263,3.164,2.213,3.359,2.481,3.142,2.296,3.488,2.699,2.779,2.215,3.219,2.511,3.517,2.667,5.007,2.873,4.424,2.952,3.849,3.102,4.162,2.973,3.738,3.026,3.554,2.175,4.148,3.088,3.775,2.755,4.299,3.451,3.729,3.124,4.275,3.194,4.389,3.231,4.187,3.302,3.709,3.37,4.176,3.238,3.999,3.395,4.331,3.551,4.105,3.379,4.556,3.676,4.842,3.812,4.829,3.848,5.447,4.341,4.246,3.512,4.447,4.318,3.933,3.346,4.256,3.498,4.245,2.991,4.798,3.495,3.612,3.166,4.669,3.719,4.541,3.687,5.11,3.382,5.335,5.215,4.1,3.396,4.127,3.495,4.265,3.124,6.146,3.511,4.566,3.239,4.367,2.813,4.563,3.268,4.955,3.375,3.395,1.957,3.68,2.566,3.576,2.611,3.541,2.262,3.564,2.613,3.505,2.219,2.711,1.722,3.155,2.368,3.428,2.341,3.423,2.407,3.589,2.6,4.118,2.796,6.269,3.229,3.919,3.266,3.752,3.026,3.171,2.339,4.427,3.224,5.186,4.02,6.2,4.968,4.707,3.542,6.67,4.751,8.161,4.777,4.579,3.765,4.854,3.474,5.086,4.157,5.829,4.82,4.507,3.764,5.356,4.429,4.749,3.575,4.278,2.761,3.408,2.381,5.033,3.822,5.119,3.904,3.279,2.356,4.518,3.426,3.259,2.59,5.29,4.252,3.326,2.946,4.41,3.535,6.387,5.234,6.603,5.031,5.751,5.764,6.643,4.883,7.763,5.771,6.771,5.118,6.479,5.023,7.426,5.067,6.14,3.254,4.405,2.931,4.371,3.01,4.838,3.226,4.638,3.016,4.395,2.331,3.784,3.315,3.381,2.688,3.762,2.501,2.721,1.971,3.517,2.802,4.592,2.59,4.027,2.163,4.828,3.377,5.076,3.637,4.544,3.494,4.415,3.508,6.121,3.84,3.643,2.547,4.811,2.99,7.109,5.034,6.048,4.518,5.798,4.573,7.139,5.347,6.14,4.952,4.681,2.82,7.805,5.36,5.907,4.535,8.127,5.84,7.713,5.526,7.483,5.349,6.061,5.346,6.288,4.901,5.184,4.527,7.504,6.543,7.574,6.522,6.502,6.603,7.375,5.627,9.022,6.868,6.716,5.579,8.577,6.565,8.218,6.787,4.343,3.148,3.348,2.453,4.059,3.138,3.844,2.836,4.475,2.932,5.958,6.358,4.364,3.236,3.964,2.843,3.373,2.803,3.754,2.799,2.705,1.545,3.3,1.545,4.652,2.92,5.096,3.349,4.989,3.718,4.717,2.277,3.089,2.709,3.606,2.559,3.682,2.48,3.393,2.411,3.587,2.672,3.749,2.526,4.755,2.957,4.651,3.344,4.144,3.138,4.296,2.974,4.111,2.818,6.917,4.007,5.131,3.572,4.129,3.371,5.188,3.104,4.461,3.174,5.179,3.491,4.504,3.419,3.571,2.351,2.381,1.739,3.171,1.951,2.596,1.85,3.002,2.229,2.548,1.849,5.745,5.584,2.901,2.038,5.997,5.352,5.198,5.1,3.244,2.601,3.88,2.566,5.942,5.155,2.644,1.787,6.49,5.155,6.688,5.479,2.952,1.857,2.273,1.772,5.532,4.529,7.805,6.524,6.52,5.187,7.764,5.116,6.858,5.338,6.219,6.289,8.366,6.094,7.161,5.289,6.081,4.934,8.261,5.48,6.074,4.344,7.991,4.481,5.353,3.496,9.268,6.212,8.729,5.535,5.422,4.195,2.871,2.664,3.375,2.547,3.831,2.57,4.152,2.967,4.407,3.0,4.545,3.108,4.247,2.943,4.905,3.93,4.746,3.153,4.773,3.486,5.15,3.521,6.208,3.814,4.291,3.59,5.077,3.578,4.549,3.543,6.015,3.926,5.706,4.52,5.092,3.696,8.372,4.862,4.87,4.135,5.615,4.673,5.681,4.704,6.241,5.064,5.131,4.386,5.621,4.909,7.194,5.122,6.183,5.27,5.865,5.722,6.12,5.155,8.26,6.602,6.007,5.577,6.701,5.427,7.528,5.862,6.174,5.675,6.487,5.334,6.194,5.051,6.179,5.344,5.433,4.994,5.534,5.073,5.965,4.955,5.398,4.753,7.334,7.844,6.946,5.395,5.898,5.06,6.187,4.335,5.907,4.605,5.912,4.432,7.738,4.122,4.96,3.552,6.106,4.318,5.393,3.446,4.997,3.63,1.303,2.218,3.339,2.637,3.962,2.758,4.255,3.174,4.023,3.02,4.703,3.14,4.569,3.033,5.18,3.883,5.203,3.408,5.646,3.644,4.521,3.517,7.69,4.182,5.696,3.629,4.652,3.763,5.486,4.042,6.575,4.56,4.905,4.231,5.031,3.735,6.299,4.83,5.483,4.514,4.994,4.034,5.684,4.994,5.264,4.116,6.372,4.93,6.04,5.544,6.662,5.674,6.909,6.409,6.404,5.5735,6.626,5.168,7.252,6.174,6.957,5.913,7.049,5.549,7.567,5.962,6.258,5.414,6.378,6.8,6.94,5.371,6.109,6.033,6.557,5.122,6.546,4.768,5.976,4.657,6.276,4.957,7.382,8.078,6.999,5.331,6.887,5.457,6.364,4.638,6.896,4.978,6.238,4.994,8.564,4.614,4.83,3.507,7.243,5.215,6.189,5.199,6.063,4.828,3.22,1.474,4.73,3.876,5.112,4.238,4.4,3.283,4.791,3.647,5.14,3.44,4.773,3.341,4.555,3.735,5.625,4.298,5.31,4.002,5.183,4.117,5.995,4.49,14.184,6.02,5.748,4.644,5.772,4.28,5.101,4.071,6.376,4.778,6.703,5.058,5.503,4.8,6.614,5.016,6.569,5.325,6.234,5.337,6.686,5.564,7.493,5.749,7.384,6.301,7.978,6.421,7.079,6.026,7.363,5.928,6.079,5.443,7.457,6.443,8.103,6.102,7.746,6.303,7.267,6.379,7.803,6.603,7.592,6.551,8.218,5.822,6.774,6.101,5.93,4.567,7.287,5.646,5.575,4.864,6.449,5.304,7.005,7.753,5.114,4.413,7.174,5.731,7.469,5.814,7.39,5.86,6.687,5.168,10.384,5.215,5.519,4.399,7.944,6.214,7.595,4.968,6.14,5.194,5.557,4.16,4.625,3.962,4.478,3.512,4.856,3.343,5.415,3.43,4.925,3.326,4.405,3.117,5.465,3.742,5.732,4.563,5.934,4.661,5.312,4.044,5.484,3.968,10.652,5.404,5.506,4.241,5.485,3.973,6.137,4.946,6.249,5.359,6.013,4.98,6.661,4.96,5.328,4.756,5.69,4.662,6.643,6.074,5.75,5.293,6.232,4.726,6.951,6.007,6.561,5.982,6.733,5.828,7.508,7.238,6.582,5.962,8.131,6.36,8.133,7.258,7.41,6.048,7.939,6.569,7.631,6.319,7.66,6.722,7.026,6.003,6.695,6.373,6.887,5.67,6.809,5.431,7.197,5.716,7.351,6.179,6.236,5.678,7.954,8.823,7.366,5.951,6.551,5.85,6.105,5.403,6.492,5.181,6.117,4.653,6.138,3.947,6.098,4.22,6.129,4.797,6.784,4.773,6.063,4.996,5.386,3.783,5.186,3.428,6.469,5.186,6.555,5.172,5.537,3.762,4.871,3.637,5.205,3.767,5.665,4.266,5.446,4.24,5.142,3.942,5.842,4.342,12.487,4.798,5.404,3.976,5.621,4.794,5.917,4.525,6.023,3.954,5.531,4.374,5.713,4.429,6.346,4.872,5.828,4.551,6.401,5.634,6.728,5.869,6.484,4.561,6.463,5.211,7.519,6.118,6.739,6.176,6.773,6.246,6.084,5.548,6.43,5.881,7.708,6.675,7.518,5.829,7.621,5.933,6.363,5.525,7.479,6.051,5.746,5.205,6.949,6.387,6.98,5.734,6.775,5.744,6.625,5.659,6.888,5.701,8.405,5.446,7.316,8.458,7.424,6.109,6.726,5.689,6.128,8.697,6.736,5.852,5.902,4.77,8.592,4.861,6.986,4.801,7.803,5.62,7.515,5.951,6.392,5.009,4.491,3.951,4.309,3.34,4.148,3.468,6.633,5.15,6.4,3.919,5.916,3.474,6.675,4.468,5.414,4.056,5.914,4.212,5.304,4.26,5.983,4.737,13.453,6.174,6.221,4.545,5.865,4.69,5.811,4.568,7.369,5.316,7.756,5.959,7.135,6.097,8.287,6.238,6.833,4.937,7.719,6.021,7.997,5.853,6.369,5.269,8.023,5.842,7.652,6.655,7.297,6.36,8.359,7.118,7.834,6.633,8.131,7.116,8.334,7.526,8.912,7.228,8.639,7.323,8.657,6.559,7.762,7.11,8.601,6.668,7.679,6.721,7.289,6.938,7.77,6.517,8.511,7.254,8.384,7.018,6.94,5.817,8.084,9.531,8.554,7.015,8.246,6.157,5.506,6.039,7.394,6.283,7.001,6.047,6.798,4.894,5.911,4.562,8.321,6.562,7.832,5.299,6.374,5.308,3.598,3.666,4.749,3.599,4.775,3.265,5.08,2.981,5.386,3.745,5.498,4.058,5.209,3.791,4.681,3.973,6.987,4.518,6.028,4.643,5.312,4.656,12.399,4.727,6.273,4.868,6.041,4.694,5.711,4.76,6.101,4.75,6.829,5.568,6.108,5.481,5.417,4.937,6.495,5.418,6.26,5.681,6.971,5.823,7.587,6.651,6.215,5.589,8.046,7.003,6.92,5.482,6.173,5.065,6.617,5.741,7.641,6.144,7.903,6.398,7.22,5.67,8.074,7.037,6.155,5.287,6.763,6.383,6.225,6.619,6.269,5.627],\"yaxis\":\"y2\",\"type\":\"scattergl\"},{\"hovertemplate\":\"<b>OLS trendline</b><br>y = 0.0525226 * Component2 + 4.40213<br>R<sup>2</sup>=0.010830<br><br>Component2=%{x}<br>y=%{y} <b>(trend)</b><extra></extra>\",\"legendgroup\":\"\",\"marker\":{\"color\":\"black\",\"symbol\":\"circle\"},\"mode\":\"lines\",\"name\":\"\",\"showlegend\":false,\"x\":[-8.439238560783387,-8.341222373274068,-7.902672331867652,-7.539199108517281,-6.353263307036216,-6.258641922626783,-6.0681246813783165,-6.0435118951154765,-5.892993372252355,-5.705251770095057,-5.506705389635135,-5.466051812737135,-5.359602918293139,-5.338026225256755,-5.322440059945673,-5.277070085861646,-5.2006216724035275,-5.040441872866458,-5.039885435394274,-5.029289849068886,-5.020098617693452,-4.922532829808215,-4.8954685089341,-4.891139662838694,-4.843025086313644,-4.819001399325571,-4.791750081130041,-4.705956097381679,-4.672941862179615,-4.531951720592182,-4.531194722051607,-4.500677328296453,-4.4812593176323,-4.440929431376281,-4.376405858352353,-4.372600370434303,-4.333156010123085,-4.327480120303211,-4.313604336817106,-4.266599192370924,-4.24155486014815,-4.21508826417502,-4.181463399406266,-4.1450058831268946,-4.141871945519203,-4.132763719023295,-4.132547232510344,-4.117126892690699,-4.100341647471818,-4.076140393601038,-4.073480031735841,-4.068959002654184,-4.048711259802508,-4.039301771203367,-4.027526965143196,-4.0196856667598615,-4.0079175672723775,-4.00435466909812,-3.98935969960397,-3.9350398300300697,-3.9279526849070896,-3.8949716159549492,-3.8905674353801367,-3.867297770427772,-3.8646407394009983,-3.8510924084934013,-3.8400045097900013,-3.8324589958411606,-3.828028259573013,-3.820456592131422,-3.8189278103216617,-3.813239574428564,-3.8129001264133837,-3.7926130850923654,-3.782159063910393,-3.7762915606275693,-3.753687306564684,-3.7463893667805985,-3.744109174905081,-3.7390396307703724,-3.7306883795906,-3.7226776837696836,-3.722333998370701,-3.720074052400554,-3.7163807928046824,-3.7101919167314477,-3.706542954305953,-3.6967224606668077,-3.6948065504886567,-3.6544862488081575,-3.649935685815142,-3.6119441237568495,-3.6105195739106155,-3.6021062231628775,-3.579045869047378,-3.55803617077733,-3.523962106247223,-3.5144472802781324,-3.5125895611965894,-3.5017536184363935,-3.498420348033604,-3.4786658327632964,-3.475382147650773,-3.4715142774715257,-3.4703586224852767,-3.451810696329164,-3.439334308184554,-3.438140002400721,-3.4304382898652683,-3.426421567268999,-3.422444721651946,-3.417995102451282,-3.4097715095431123,-3.4046155597803827,-3.4005616068147377,-3.40046502282701,-3.378791779468967,-3.3773622590684567,-3.372349333639469,-3.368163184261291,-3.3663192761734617,-3.3509252867346833,-3.3488476363743387,-3.338118283578267,-3.328332893719287,-3.3249295100614753,-3.3221436103844413,-3.3179983324291062,-3.317521840139401,-3.307496295266646,-3.3009014316558782,-3.294328108058998,-3.28083504416619,-3.275240996348315,-3.265424100345826,-3.2594674642197083,-3.252874355694418,-3.2384239588951793,-3.228337434076275,-3.222605852467614,-3.211693220490669,-3.1956811726362373,-3.1929355178439396,-3.180009440175039,-3.175523642233168,-3.1746333477712625,-3.1722060233558356,-3.169312135944405,-3.1692029356255773,-3.1617331005680316,-3.1383352443581085,-3.137842211787994,-3.1346841272892374,-3.1223895438645926,-3.106989039511269,-3.103705653195071,-3.0965178700660534,-3.093426853011881,-3.086756806705955,-3.081179658316156,-3.0771486394170284,-3.067484972482145,-3.0570235694030585,-3.0547659281886204,-3.0525037471434673,-3.050222592017937,-3.048391177712563,-3.043192085024227,-3.0400563335264814,-3.038391188311881,-3.0331591642236173,-3.019113200754782,-3.015688296762622,-2.9978805217018905,-2.9948366344638937,-2.9927589327940622,-2.985282435290306,-2.983418699753866,-2.9728072796782183,-2.95750453846561,-2.9484916569105417,-2.945099311339237,-2.9432865980017153,-2.9425666696691968,-2.938780176483689,-2.9308617491297824,-2.9234990278302333,-2.9090341422988306,-2.907229442088672,-2.8978697060867926,-2.897463623477751,-2.8888061181800615,-2.8847519659446217,-2.8845201626668224,-2.8831825512276104,-2.8815449455165076,-2.8787948961280754,-2.8784611406774916,-2.8633570505336094,-2.861391926174838,-2.8611518992748626,-2.857305573522437,-2.8551706800207866,-2.8456056179118074,-2.8453925600308194,-2.8268881128858596,-2.8263760230555066,-2.8260215263153214,-2.8258500321704725,-2.82233072476896,-2.818832192809426,-2.8163902885266063,-2.814160326353882,-2.8127429879699886,-2.791536445555255,-2.787084201165033,-2.783634418931956,-2.7794007675211123,-2.778326137096563,-2.7711118249548004,-2.765866854823301,-2.7657531811876273,-2.7656013230153196,-2.7563335442404986,-2.7489656973889915,-2.747261215086239,-2.742821546395742,-2.7369790026163243,-2.735951166614589,-2.728520499657384,-2.7240617912422382,-2.723114935635294,-2.7041883747697892,-2.701533390191358,-2.6944153344382427,-2.6934324610852727,-2.682971639451251,-2.6829685073577347,-2.682187777028538,-2.6779253361298463,-2.674983511735654,-2.6729590879151957,-2.6713703949287915,-2.6565842948884337,-2.6510649058305016,-2.651018470306606,-2.646174266696283,-2.642653522269514,-2.6401343594556637,-2.6392962081623486,-2.6376362550278434,-2.633502405723268,-2.6266899418418084,-2.6217262168918114,-2.618221982407795,-2.617579509726093,-2.615491807904392,-2.6151783747517667,-2.6095160942367785,-2.60874471880204,-2.606671313198733,-2.5957369975680713,-2.5923172027692996,-2.5910265062795315,-2.575120537645192,-2.57511855672956,-2.5602843664758583,-2.555863694801403,-2.5554465084475475,-2.555084065744163,-2.5510954967363295,-2.550787684922375,-2.544034794724744,-2.5439800778096533,-2.543703634838349,-2.5227734576084164,-2.5197604922469945,-2.510487425321252,-2.5104066590126672,-2.502492846788144,-2.495488359110828,-2.495323377715612,-2.493059065634992,-2.4857020980583697,-2.4847996891402793,-2.4838418257333106,-2.483369396133204,-2.482870665485189,-2.4783379097500005,-2.47385283277243,-2.470510750613452,-2.4679588030229684,-2.460296193886863,-2.4562336357210732,-2.4553747296021484,-2.4543455555450593,-2.4442846040804307,-2.444085198468399,-2.4427206460128548,-2.4355502209962627,-2.4346493767802517,-2.4314798202563415,-2.428557633009321,-2.426528213601396,-2.4246930524284185,-2.4182902867796194,-2.4150988245349665,-2.414795689902335,-2.4127213288531095,-2.412523880169357,-2.407666183389041,-2.4065975527911565,-2.4030016633119415,-2.3913206608130175,-2.3889774092873877,-2.3881077197136364,-2.3872591341100677,-2.3865939554133786,-2.37959017122655,-2.3794137742149384,-2.374751343287643,-2.371402791960524,-2.36350529014058,-2.3586962213512663,-2.3551131133615355,-2.3544041740978643,-2.3501231300375176,-2.3469820654023774,-2.3467103833434027,-2.3426483631046127,-2.3420858365833905,-2.3378598910188986,-2.33784907708861,-2.3366550572759444,-2.324981142116487,-2.3239706889215093,-2.32104509696497,-2.320576526723835,-2.315430775626594,-2.3067139679467528,-2.3041734425567233,-2.303219079454806,-2.3023989428032365,-2.300984947772902,-2.3008211075508576,-2.300359414243094,-2.2993960078491043,-2.296566522460667,-2.295774766860154,-2.2944473892799335,-2.2916509225079045,-2.2850702579929854,-2.2847299320897423,-2.2824613282127677,-2.278346453429522,-2.277851205252918,-2.275273585665943,-2.274482807379067,-2.272394294975271,-2.2718681637136506,-2.263572741199832,-2.260949078906655,-2.259026548435461,-2.255381954140898,-2.252024738766959,-2.2494570412241472,-2.249216690125156,-2.246304018938964,-2.2423047249870636,-2.2420488787748956,-2.2411749457767307,-2.2364477655156896,-2.2354427525563607,-2.2343269550611797,-2.2342753103223583,-2.234091269200865,-2.2296943189783685,-2.227330214854584,-2.2267385602298346,-2.225002283824507,-2.224544642464468,-2.2230409758790723,-2.2220765144527417,-2.2181341259823015,-2.208591267172141,-2.206800692062039,-2.2064031253997074,-2.2054957739414345,-2.204690297050504,-2.2025366977566962,-2.200817532846573,-2.200450765962203,-2.198716310689392,-2.1958399625224962,-2.1944025071216178,-2.188540637190001,-2.186516134527071,-2.1860784519843675,-2.1818287351015755,-2.180549765180198,-2.175062674110581,-2.1732117982156227,-2.1671079789672687,-2.1663487751642974,-2.1658168421014476,-2.165620500851063,-2.1623511441417906,-2.1603922993233904,-2.1594262389906516,-2.155803058422565,-2.1521897169026025,-2.1521163715095266,-2.146506691127202,-2.145372243817023,-2.143506842245832,-2.143415516335684,-2.1365104806203212,-2.135902438097886,-2.135619263481819,-2.134618655503553,-2.1332063264518886,-2.1315621896327497,-2.128106563424972,-2.127125217351216,-2.127010335165093,-2.1231841738526143,-2.1204255785799577,-2.114804773045207,-2.112117446788509,-2.110868969284284,-2.1095550948913115,-2.107045502817916,-2.105391630408249,-2.0993826197259526,-2.0992545071187334,-2.098843770175175,-2.097957743782358,-2.0961118590088916,-2.0914445691291093,-2.0912760270301356,-2.0904828320501174,-2.08522257831629,-2.0829642230728322,-2.079874349743087,-2.0672752738143743,-2.0630915096310516,-2.0610990961707647,-2.057040048653751,-2.0568337086872686,-2.0438004653382946,-2.0416817153801596,-2.0393504995961704,-2.0365000336018766,-2.03648886843109,-2.0308029787763107,-2.0284864840073062,-2.0283447609414043,-2.028126355906036,-2.0275966640147693,-2.0247568390270643,-2.0239417304525205,-2.0234690110448508,-2.019925958614803,-2.018112406643819,-2.012737023521398,-2.010957355362973,-2.009496068986781,-2.0088815090468235,-2.0069950956824547,-2.002778306355697,-2.0027442159231983,-2.0010781475902304,-2.0002905903341275,-1.9986274532581252,-1.997135463021562,-1.9961462933391418,-1.9938232950624506,-1.985092474987277,-1.9743962070289476,-1.9715292988984414,-1.9700498118375682,-1.9685053579754643,-1.9640879301422076,-1.9616658101584725,-1.9609996603763626,-1.9424009201163877,-1.9419749030518736,-1.93560918615505,-1.9346196362756702,-1.9316992220717977,-1.929946179940021,-1.9285607689636715,-1.9283867079593333,-1.9249195891834228,-1.918698251322401,-1.9185182277271826,-1.9140014118838844,-1.9096543956036776,-1.9017217989411945,-1.9009242938818498,-1.8948407859028982,-1.891725128561577,-1.888783419154198,-1.88583240504415,-1.8844477011601215,-1.8835138947200338,-1.8767771794917274,-1.8720558411893682,-1.8691450076281229,-1.8670769778310632,-1.8657991821228057,-1.8647539277370802,-1.8603668789495362,-1.8489005147105315,-1.8448923121217045,-1.8448320983932471,-1.8419271290803532,-1.840291319138184,-1.8379766355741454,-1.837430992486828,-1.833798667318426,-1.833567128756081,-1.8272779956173015,-1.8252457754511617,-1.824348224972965,-1.823913270363997,-1.8238040320514108,-1.8185815290737528,-1.8138926937918107,-1.7951817786844837,-1.790336619519865,-1.7898629849535268,-1.7864812082056736,-1.7760474237067887,-1.7712747470322747,-1.7636437862741685,-1.7585820095156501,-1.758260628958514,-1.7555798984139965,-1.7470280780068965,-1.745653924839236,-1.7445836190306432,-1.740323020269751,-1.7346543394352898,-1.7336956030002673,-1.7306474905636442,-1.7281089485827295,-1.7210551301958312,-1.7172993179933727,-1.7108709076129998,-1.7083575710321353,-1.7060826335044963,-1.6981315067308136,-1.697860596354502,-1.6977523641071481,-1.6967954702326864,-1.6957753221188752,-1.695392142971914,-1.6944310106684064,-1.6835996294340565,-1.6815721156707155,-1.679801847241541,-1.6755904485815345,-1.6685062247909557,-1.667695993064971,-1.663707627659115,-1.662452992344725,-1.6587313205091814,-1.6550327128181441,-1.6528890100309674,-1.6514726900039123,-1.6498557378208412,-1.6475140581099363,-1.64334856979642,-1.6422991066332389,-1.638661208768693,-1.6370072202551755,-1.6361203009270566,-1.630385675134742,-1.629646832319162,-1.628994474887146,-1.6278834326023628,-1.625253861198345,-1.623349524330715,-1.6200094103442915,-1.6199291207035076,-1.6189835073450778,-1.6171298972193344,-1.6152614428309746,-1.608849872635712,-1.6083883031623525,-1.6066890657241988,-1.6037904162531411,-1.6013785465902024,-1.5977195943634868,-1.5976052140835988,-1.597542762352802,-1.593758423208759,-1.5883547072216015,-1.5880736045032224,-1.5876005820047954,-1.5862850939080761,-1.5855719777974013,-1.5823037379290237,-1.5817790637934475,-1.5777040914424745,-1.5755670110579256,-1.5690880572916288,-1.5685676084849236,-1.5671648776827596,-1.5667084130230304,-1.559429928892546,-1.5575376461434465,-1.5563853565929462,-1.5562207830244452,-1.5547988321450688,-1.5498001300159814,-1.5496506228763478,-1.548746929638064,-1.5480590124688305,-1.5424858964315469,-1.5420677669150331,-1.5373309686331011,-1.5370223136379213,-1.5335195709101757,-1.5332257583391082,-1.5329039499250425,-1.532208868057549,-1.5316748814040206,-1.5308266786720992,-1.5304529626109415,-1.5255497441496713,-1.5241519483965509,-1.523554419867848,-1.5170537543150104,-1.516625211186095,-1.5149353248896218,-1.510806490090838,-1.5099902342318938,-1.5076363564635014,-1.5073344542766913,-1.501023273944943,-1.495617433248407,-1.4950357019506466,-1.4931592483795206,-1.4930304423060854,-1.489009545370387,-1.48846394812796,-1.48680620012418,-1.4864752711718008,-1.4860516021450563,-1.4817529190683336,-1.481261179985409,-1.4803663616813099,-1.4794640824992797,-1.476678408237187,-1.4655666499531264,-1.46454194272076,-1.45891073124506,-1.4558756441757101,-1.4523440044175369,-1.4481826203229562,-1.4424787323734523,-1.4421685779180013,-1.4400886352005349,-1.4383188221992935,-1.4327772242214982,-1.4327180115005405,-1.4299181447242053,-1.4190550508261506,-1.4089988814721384,-1.4059654470847598,-1.3949722942829244,-1.3933307913812378,-1.3891949711215976,-1.3891388809512588,-1.3879950791743085,-1.3865974083050407,-1.3865870851639965,-1.3850025662624512,-1.3842768688943488,-1.384107103099822,-1.3814369210063944,-1.3789829887865968,-1.3775200215090384,-1.372114158252674,-1.3700354588199022,-1.3692556405043852,-1.3691466864410455,-1.368311928890007,-1.3677836124981388,-1.3665935139710452,-1.363904744785979,-1.3615634495811935,-1.3610694249755912,-1.356134695573977,-1.3528524457105484,-1.352757952664163,-1.3520557698927762,-1.3514063366927642,-1.350935279465879,-1.3487393749473504,-1.3485461010449538,-1.348044592491948,-1.3464794591513334,-1.3458356201198682,-1.3456018240032992,-1.3447473179395466,-1.342903840479661,-1.3411216077551797,-1.339890196049143,-1.3387493491095592,-1.3374910950815992,-1.3350314955155844,-1.3349405703291037,-1.3327690771958076,-1.332142831115665,-1.3310643429278626,-1.323937304560014,-1.323904253375286,-1.3236012794873568,-1.3218516688163047,-1.3170025173138864,-1.314133948892575,-1.3138186728153813,-1.3097867041596516,-1.3020583425565053,-1.3020134164683386,-1.298649212298619,-1.297650878094494,-1.2974653364082223,-1.2971211418105741,-1.297118414491932,-1.2934500111820253,-1.2922346939494527,-1.2906138381751995,-1.290249557828572,-1.2892446747504895,-1.2853202849815308,-1.2816630730790106,-1.2789714952621651,-1.2769134896716248,-1.274747131226907,-1.2747260798604614,-1.2746089569318078,-1.2712494625681985,-1.2708875748839201,-1.2662216244035136,-1.2654982539962278,-1.257215117334632,-1.255913394684997,-1.254918452485857,-1.2508185731438113,-1.2475372397013338,-1.2459932385100132,-1.2445910210326152,-1.2436342906426456,-1.2435000640573322,-1.232327789111829,-1.2293276436342007,-1.225253836874013,-1.2246313892856433,-1.2216524649055,-1.21610478570626,-1.2093114531029752,-1.2084345732605124,-1.2042184266902367,-1.2041272068404663,-1.1981872713914783,-1.1948892475480162,-1.1932529851616513,-1.1927096091377527,-1.1918341186795383,-1.190814549774051,-1.1842900309908384,-1.1837761676723078,-1.1791632622716313,-1.1752033668894304,-1.1751785710263039,-1.173700648867667,-1.1727433242102885,-1.1670956975490443,-1.1670272102985182,-1.1662235620839123,-1.1623770864214096,-1.1584991755074368,-1.1575416770213858,-1.155874066476132,-1.155650292061619,-1.1497671214623106,-1.145131993534777,-1.1426498220001482,-1.1421264500654367,-1.1403215795159158,-1.136668045780792,-1.129205354252061,-1.1269564936523027,-1.1233066578069153,-1.122804960051815,-1.118138254452822,-1.1180861159005888,-1.117079027619448,-1.1159936916491255,-1.1153134499450321,-1.1146433068558894,-1.1138349547649704,-1.1113095753938114,-1.1102778557170807,-1.1084254030510983,-1.1060491970654953,-1.1027454644615786,-1.1019445816134585,-1.1007649142377853,-1.1005897209956004,-1.0984580624392273,-1.097729826433737,-1.0974032712200268,-1.0945231096423056,-1.0917856193956506,-1.0883965621556428,-1.0873488046749604,-1.0823097008264537,-1.0821620160521925,-1.07792600593092,-1.0777000138720594,-1.0662560656983495,-1.065765455349886,-1.0619593272225334,-1.0609434500872557,-1.060516038359207,-1.055188639852163,-1.0542287295860417,-1.0534229870748917,-1.0515201765334128,-1.0509535639135643,-1.0449779756468327,-1.0362015912133034,-1.03527955268306,-1.0336131331859468,-1.0332520921797312,-1.031685794568562,-1.03057538352601,-1.0280120855181467,-1.0254643294165635,-1.0246007901095917,-1.0228509933131966,-1.0154713140733933,-1.0134804265216846,-1.0132001542844922,-1.0125903831210412,-1.0119338438291334,-1.0106244402275197,-1.0090167902445064,-1.0044689527269806,-0.9946276953777767,-0.9803486207431281,-0.9714281676494858,-0.9694470538093839,-0.9687307110534414,-0.9631759417839534,-0.9618809734101441,-0.9591545487523487,-0.9507151957221812,-0.946994276281295,-0.9351718748630224,-0.9318615271347817,-0.9311650613225686,-0.9272084941647533,-0.9234730578366115,-0.9205649667074255,-0.90713672038812,-0.9061958724038421,-0.9017936907937162,-0.8951692091010699,-0.8875059463595841,-0.8857562288980636,-0.8851789865460269,-0.8833643574768952,-0.8832800636045752,-0.8660263947122921,-0.8649835901280909,-0.8623932815309868,-0.8622802371717208,-0.861218868536562,-0.8584645401749649,-0.8579970829207522,-0.8518985789976536,-0.8472315756376606,-0.8467093643816005,-0.8451151342491022,-0.8426054705608478,-0.8411016421875266,-0.8401574908215514,-0.8374823434377783,-0.8358377840243194,-0.8358096861017478,-0.8301385756184314,-0.8240104178085392,-0.8231002205492367,-0.8206337260534794,-0.8177765228424952,-0.8175992817778899,-0.8168420833448118,-0.8166179223173623,-0.8091053804259539,-0.800344263695591,-0.7995430269735317,-0.7970946194782966,-0.7890404047355907,-0.7857831176085909,-0.7857528577465795,-0.7823173627994431,-0.7798992920147131,-0.779842472726904,-0.774002033923823,-0.7718499875001974,-0.7576650572858089,-0.7552329891224081,-0.7522590326463876,-0.7503950688227522,-0.7454255759356117,-0.7454121936691238,-0.7453432945689121,-0.7449996570966502,-0.7399579390635866,-0.73865378555262,-0.737288897974847,-0.7364873743683685,-0.7304925375131975,-0.7300039550209605,-0.7259998544089183,-0.7245820227500364,-0.723861155368946,-0.7217075891635599,-0.7162983983059654,-0.711685707080978,-0.705398784651832,-0.7044328179615754,-0.6942435124824445,-0.688338936268103,-0.6852397480498729,-0.6820583476121648,-0.6774494796506099,-0.6772626575659667,-0.6711027419856478,-0.6694432553938309,-0.6682354943766804,-0.6671520767349192,-0.6667004581257715,-0.662132761846474,-0.6494670635579484,-0.6486548727449452,-0.6452407749721387,-0.6399257543745578,-0.6372417066981468,-0.6369178533014437,-0.6355117481719729,-0.6353896180474652,-0.6337571755948999,-0.6333940279719406,-0.6299072577046213,-0.6261158612761648,-0.6238853680581928,-0.6224588463049516,-0.6223261354064422,-0.611623339354496,-0.6088204947205779,-0.5973789090356204,-0.5910259842689914,-0.5896908362126179,-0.5867049434427493,-0.5819119185645991,-0.5809103308941851,-0.5720965810811942,-0.568396959892755,-0.562587483063235,-0.5380032570421546,-0.537617862401787,-0.5331973820851683,-0.529940743872079,-0.5207554780313277,-0.517673199269454,-0.5173704296842303,-0.5172500837253635,-0.5075393246412272,-0.5043816943145233,-0.5017092344398946,-0.4963093408902215,-0.49411299107145296,-0.48341594261076515,-0.481506720366405,-0.48103756813426873,-0.4793336920526401,-0.47490560393148135,-0.4669633256520978,-0.4667846323630489,-0.46470382131288024,-0.4633400276451339,-0.46231069011521747,-0.4618868335628609,-0.4553117653169336,-0.4465877130191067,-0.4424596370480792,-0.4415232356389859,-0.4353688422683958,-0.4318804262691509,-0.4301460649984758,-0.42036797774724577,-0.42018655228958146,-0.4190672271837593,-0.41317326486949546,-0.40832290920082664,-0.4080199418019627,-0.40741427773399036,-0.40652017997262907,-0.4039413985390086,-0.39582587517377926,-0.3745349576210614,-0.36555457830691973,-0.36395936085068564,-0.36063375847152174,-0.360161372511724,-0.3527269079865782,-0.35015896509145333,-0.3344062220905158,-0.3302337151109749,-0.32894032537688633,-0.32103099484927133,-0.3145970928738962,-0.3144229886664525,-0.3139587324034548,-0.31254481760290437,-0.30697327610992053,-0.3067326384307817,-0.3061332063963003,-0.3028720790427261,-0.2914324195456731,-0.2884648209809499,-0.2648185915809768,-0.2587585129037571,-0.2585758142176379,-0.2581316644061948,-0.25737633945047306,-0.2567891392505978,-0.254868392657358,-0.2525799517946525,-0.23991297598185748,-0.23556874795642152,-0.23373111078930442,-0.23267507269916832,-0.23125243951784172,-0.2246036775009968,-0.22341703812101216,-0.20866261530951413,-0.20381262518884857,-0.19064195010246715,-0.18641755845686495,-0.1833619126114536,-0.12266948085924129,-0.1171831176571507,-0.1170831759499285,-0.10973489294125201,-0.09446120949426345,-0.09210093109217823,-0.0912392097880304,-0.08653464760819558,-0.0828198263176334,-0.07628887103271224,-0.06923510737846762,-0.05415935132553285,-0.04024872386983164,-0.03799860991093513,-0.021903166346451806,-0.018936847853877403,-0.016404756226288297,-0.011381518127926036,-0.010216296086873534,0.008413652791403096,0.02308784651757806,0.025800213609554822,0.02597798506340791,0.03305349199421148,0.03512898041461088,0.07410807992205376,0.07635213944562103,0.07754704022405817,0.10811162016491349,0.12591251714722224,0.1343445625816462,0.13466297623265563,0.14207770684975074,0.15940733678873215,0.1729219326320065,0.18931639872381026,0.19408269590178767,0.19520458843254906,0.20586765046551375,0.20796034977889194,0.21028412846041108,0.22430849090547444,0.22589812126478878,0.23333856228260696,0.2391543804483096,0.2413566973912643,0.2456333596765653,0.25566554344113346,0.2701257651536411,0.27912142267645357,0.2859224955445617,0.2883646852373055,0.30122153085329345,0.3162001005487193,0.3730068996801273,0.37532377269560113,0.3971050470210397,0.3972977414174526,0.4268216200652966,0.43718289754547196,0.4521630503120655,0.4589530222330975,0.46212312406270734,0.4682223744306937,0.47026339537616674,0.47161580380881085,0.503873149495241,0.5184408096885761,0.5202185864260259,0.5407710412971141,0.5518702345418788,0.5768450368791193,0.5846552792969216,0.6260534969232359,0.6421977981683478,0.6516334705737417,0.720675092960567,0.7289748454564391,0.7297320667929749,0.7321562343485738,0.7344456216025524,0.7421435554266597,0.7624198420592982,0.7910648445343477,0.801315804334297,0.8096945604614605,0.8097562803475802,0.813863836894525,0.8178424760340771,0.8269520555300098,0.8294087355669486,0.840320584334947,0.842547018116968,0.8517564752662702,0.8792716969982888,0.8861747102134464,0.9039495226379262,0.9161441042261703,0.9314495932911868,0.9570464769776219,0.9638825220947739,0.9959796271821918,0.9963688784135075,1.0051559670760142,1.0055956436151097,1.0162297346734674,1.0373812979378028,1.053551219856632,1.0722073177745681,1.0910660582610374,1.1069247389578252,1.1144940583883554,1.1192230615604726,1.1196660484919805,1.1239535342584412,1.1360458283337467,1.15624756145497,1.161268386866154,1.1905537778136674,1.2186476854319,1.226832621619124,1.242121404338871,1.263102215014979,1.267531432981976,1.2813858974183192,1.2904257267684938,1.3004589880258302,1.312027094104044,1.31265997358193,1.3131694687845703,1.3136984762179387,1.3219550056050766,1.3313847073500997,1.3403297286834688,1.34285569403581,1.3451303077931356,1.3503877989655648,1.355157459424186,1.391542180580989,1.3950364106145658,1.4015653699758783,1.402002662117093,1.4197544361371734,1.43540490926882,1.435831500191975,1.4500333147142201,1.4725697303279102,1.4912216397594427,1.5053603083801823,1.5146552710893746,1.5202979291812315,1.526644626269251,1.5435523169574188,1.544245903539277,1.5544625187692378,1.5634307662829319,1.5717567583760552,1.583147334820506,1.636504174373981,1.6426093441653926,1.6458814192133784,1.6646378372038473,1.6744705182396065,1.6745283609952923,1.6838303652940505,1.6887370218807005,1.6914094217446447,1.7038196381147672,1.708655605591502,1.7515016206638783,1.7797862879811053,1.7951886177113239,1.7974479460771735,1.8066068059464289,1.8136873473786173,1.820457211559488,1.8384280698257214,1.8427335703721062,1.8465017373240011,1.851070035024777,1.8563367391450292,1.8775939156642365,1.8827952071007743,1.886971276886311,1.8901687057986032,1.899570792746934,1.904318295782882,1.9602156759891562,1.9631266216307,1.9736240483760752,1.9815386170630769,1.988302305703446,1.990373189881389,1.998674224945371,2.0214052521945054,2.024046678748949,2.0247063551524676,2.0310619612074152,2.03184997580565,2.0379983384088143,2.0674397411840104,2.069365631749667,2.087639878857283,2.088443881492363,2.092795146488394,2.099763898813087,2.139586670655311,2.1455994367046722,2.1469693982154814,2.149299115502932,2.165080247628986,2.1908355233069194,2.200126157986174,2.201363427243678,2.2031148884174248,2.2035212131898807,2.206635916652694,2.2114320485359884,2.2344915035299007,2.2399233455835885,2.2449592352596275,2.2523541460781984,2.258712159711687,2.2610394999902135,2.280477831759289,2.2900031383861266,2.2932082800247113,2.299743941248232,2.3023564895157187,2.3032875427355872,2.308045408157284,2.3159852730315267,2.316620854527244,2.316674691433235,2.3211307155663543,2.3433135908936316,2.349880366594001,2.374935684196155,2.3802174568666503,2.387301539514463,2.3986049230769493,2.4073428875164065,2.4081151115912367,2.424105113075368,2.431261453301208,2.434175285744706,2.4447226345752138,2.447183371614306,2.45582605651822,2.460408694336637,2.467224776850646,2.476772656931908,2.4831959761603755,2.4845054089925,2.487093798383144,2.4984386595654273,2.50084317511489,2.503510647634249,2.516778345875224,2.520916454385139,2.5274104957076076,2.5275544961949543,2.5357975353988085,2.544495198968295,2.552685637639882,2.5730402466621234,2.5731588012129696,2.59135567481379,2.593105737753493,2.5995610120631074,2.6086823969709334,2.611264910264856,2.624876981197193,2.6263380663043696,2.6433001770280526,2.648322179642678,2.663792453422355,2.6650750218525237,2.6748805030280653,2.6890403914775614,2.6913755234924275,2.6929339469549824,2.7063316586666164,2.7197577781688564,2.7301402392385565,2.732496364579347,2.7340529598796652,2.7564141613408086,2.773830532125027,2.787931364336301,2.788386814802563,2.8005795172366295,2.8031207283277992,2.8211319819474383,2.8290370126457822,2.836210926028911,2.8391998523301645,2.8410846645291334,2.8423562513907985,2.8480776625112587,2.8492546037154844,2.8667220987433693,2.8892347261846876,2.902611402635116,2.903778170225016,2.9056815516796473,2.9076069071480086,2.912444682597914,2.9190349572755547,2.9366666836685797,2.9478368521686265,2.9515090937897357,2.9566870573126187,2.9771163034988213,2.978572074125419,2.988758638729178,3.010120666730189,3.033804521048121,3.0338267158997887,3.0461836987183597,3.0504052373813257,3.0504341216546544,3.07228738533298,3.0753401105798166,3.080030947433542,3.095359132674486,3.1086312979910127,3.112549536329069,3.118936895913857,3.129404072447941,3.1327540651274752,3.1399310588149345,3.140123874797114,3.1482580140263106,3.1567132282214243,3.169852524526433,3.1858679949936497,3.1863977215999943,3.1987783554890172,3.2016142952557898,3.209977861370373,3.215584878830472,3.215734594288945,3.227277073144385,3.2290931232117788,3.229895451841477,3.236157936305515,3.2565801573773707,3.2700825926827872,3.277309469002837,3.2849127381780248,3.299814886307223,3.3087765889935783,3.328680391065337,3.3369425000561916,3.348456483745193,3.3644123712391543,3.374854849199278,3.387379507278481,3.3928369099060363,3.3937752105840784,3.3964369538114045,3.3973583037388333,3.4266986244803066,3.439900948461805,3.4439201197147424,3.449369207407381,3.4649812267678843,3.4704197230679066,3.478146721570821,3.5087644963702407,3.511155766971136,3.512549231972117,3.531212335478365,3.5315620795900715,3.531788152318581,3.547846263395687,3.5520546806661484,3.552247351516697,3.5767143299112187,3.57728694278578,3.583682756872343,3.593878514339682,3.6120745365275613,3.6314967098062994,3.6320236146731353,3.6985418117053506,3.704133795751571,3.705088326273582,3.745614977241582,3.7593973644671532,3.7594143013435417,3.760847023204679,3.7633400681503577,3.7681821489481244,3.7800909194030106,3.7919122058815296,3.7946235578308976,3.7974844674710946,3.8025464885453166,3.8085489770259686,3.8147872209448255,3.8300411407259602,3.833843519416227,3.839050380145668,3.83914760416851,3.8472457313052426,3.866207241480093,3.8741459033440964,3.8973268613579295,3.909227547449535,3.9325132017010658,3.9524972243307053,3.9631271318673744,3.9802556382731784,3.981163813232557,3.9854927217458425,4.002343992165125,4.029872241133147,4.036140918000984,4.038748452481954,4.043919212750765,4.0445626128075185,4.071735486426721,4.073666204449222,4.089338409044751,4.103150981755136,4.169063073727838,4.186632237954858,4.204091614840707,4.20754322658304,4.22332109890019,4.248591187897103,4.300848805422024,4.329650425931817,4.339516674388648,4.344559475894245,4.351723267910771,4.38772608046896,4.3968207572817075,4.404302250203468,4.412016577059495,4.453278713051408,4.476121320079641,4.507364403353497,4.513673462764249,4.518985651506279,4.560670939017191,4.564121787576837,4.615142222468749,4.6397741289780505,4.6398328966376186,4.666259166710889,4.676955452862362,4.714673001510586,4.776343546131984,4.782004870752223,4.782630776807979,4.783611104476096,4.823705810557021,4.873103682636728,4.9021331364279375,4.923684937288138,4.935029940386798,4.955099622179897,4.970031268783457,5.00079165789378,5.020793001607871,5.079481261891161,5.102844401463107,5.123507320372836,5.132445527984309,5.243222362121896,5.266214623291435,5.303363209148381,5.305174257232263,5.35086412565649,5.414148597067914,5.42820232926667,5.443527708105054,5.44826900477732,5.4941053412486305,5.512433879434497,5.55529665276243,5.743815235151368,5.805912074635178,5.828379557045895,5.848273242735477,5.931822148764277,5.942598468647096,5.979421997886115,6.046003052940811,6.122051405963831,6.149571381199208,6.152935790307999,6.287359303968167,6.40811232067757,6.486505408330151,6.528656915188427,6.57595039650829,6.772112479334573,6.8256183486313295,7.161651377589214,7.2347545652916505,7.256725292457495,7.268218091386473,7.568035811900646,7.86386974407831,8.030807706287465,8.093448014756333,8.102813739077666,8.153646759885705,8.342098116961566,8.50561655262594,8.63924929619054,8.72366187156732,8.859299860236696,8.943269308166908,8.965791960134796,8.98795889627002,9.072882486874104,9.199551088025329,9.288488520993193,9.297934570037434,9.341564948408397,9.446268070221587,9.472207087864513,9.511830552507538,10.007130757427385,10.202213445131909,10.24137682521125,10.32369878243072,10.52834171434204,10.616519792735508,10.715916296254429,11.186491392057412,11.196497786136444,11.231227672686225,11.314219789689801,11.919986551909018,12.000972611528983,12.134421045238488,13.137624849507585,13.218499432581904,13.477770141427815,13.59237397387571,13.645288344373025,13.717636231344414,13.733281452301886,13.94158288979404,14.059094554925606,14.351791912910706,14.362398276937625,14.573380999343277,15.065189199126724,15.44240171756406,15.490122375374385,15.631772519137323,16.093587420813126,16.219113731610275,16.86621724992122,17.628550705837213,17.906844903210686,18.154632926305474,18.774150402691667,19.767024528135046,20.166461409059657,20.301891538256644,20.353253863842436,24.81240239481938],\"xaxis\":\"x2\",\"y\":[3.9588776538091457,3.9640257149424873,3.987059486001733,4.006150030346386,4.068438415167134,4.073408172549453,4.083414625869313,4.084707352423598,4.092612970639221,4.102473640287134,4.112901804556573,4.115037034506627,4.120628002999685,4.121761266163957,4.122579891473661,4.1249628386800135,4.128978105097023,4.137391158300758,4.137420383821526,4.137976891144784,4.138459638150292,4.143584043142152,4.145005530571247,4.145232892651963,4.147759993405931,4.1490217789579455,4.150453087965158,4.154959207662657,4.1566931998267025,4.164098363060802,4.164138122562408,4.165740974220629,4.166760857859517,4.16887908674826,4.172268030012731,4.172467903981941,4.17453962278072,4.17483773504688,4.1755665267237925,4.178035357264335,4.179350749717385,4.180740843104237,4.18250690709661,4.184421749199178,4.184586351626618,4.185064739003324,4.1850761094292865,4.185886025159593,4.186767629216236,4.188038741035582,4.18817847005246,4.188415926075688,4.189479389373552,4.189973599807285,4.190592042770343,4.191003887838673,4.191621978555363,4.19180911109009,4.192596685281763,4.195449703914986,4.195821938923111,4.19755418911079,4.197785507951255,4.19900769033532,4.199147244408036,4.1998588374371,4.200441202266991,4.20083751197948,4.201070225592953,4.2014679089538465,4.201548204488861,4.2018469652023995,4.201864793881295,4.20293032123539,4.203479393194844,4.203787569490696,4.204974802791096,4.205358109274552,4.205477870790166,4.205744136228425,4.206182765323332,4.206603507578817,4.206621558815959,4.206740256964785,4.20693423641516,4.207259292032822,4.207450944882387,4.207966742353179,4.208067370861324,4.210185096343619,4.210424103563493,4.212419517678214,4.212494338683624,4.212936229406842,4.2141474182498255,4.215250901397209,4.217040558511201,4.217540301533314,4.21763787369607,4.218207005154704,4.218382077050924,4.21941963477333,4.219592102323145,4.2197952527684395,4.219855950727312,4.220830135300031,4.2214854271505295,4.2215481551482545,4.2219526688104505,4.222163637365816,4.22237251148013,4.222606216873568,4.223038141029186,4.223308944712267,4.223521868701958,4.223526941540292,4.224665275774669,4.224740357846317,4.225003649525182,4.225223516808942,4.225320363582945,4.22612889532378,4.22623801884042,4.226801551921221,4.227315505651596,4.227494260075491,4.227640582659681,4.227858303271663,4.227883329866752,4.228409897153355,4.228756276275998,4.22910152406196,4.229810214325899,4.230104028040563,4.230619636554265,4.230932494335265,4.231278781276326,4.232037753115711,4.232567523225223,4.232868560566726,4.233441719939382,4.234282713690713,4.234426922510511,4.235105833206231,4.235341438799791,4.235388199344483,4.235515688637819,4.235667683014316,4.235673418494662,4.236065753358009,4.2372946686751485,4.237320564008115,4.237486434692101,4.238132177693204,4.238941051614032,4.239113503470299,4.23949102424418,4.239653372374253,4.240003700284547,4.240296626397978,4.240508345831775,4.241015906362511,4.241565366038103,4.241683943135259,4.241802758675948,4.241922570783919,4.242018761352479,4.242291831012476,4.242456528710067,4.242543986400255,4.242818785701696,4.24355651566704,4.243736400393996,4.244671710336068,4.244831583087523,4.244940709299069,4.2453333940911495,4.245431282253521,4.245988621205884,4.246792360356244,4.24726573997253,4.247443914647859,4.247539122993705,4.2475769354730675,4.247775811790289,4.248191707869638,4.248578416844155,4.249338149668852,4.24943293714473,4.249924534444666,4.249945862943047,4.2504005772883735,4.250613511744225,4.250625686645895,4.250695941423567,4.250781952668519,4.250926392303757,4.250943921994586,4.25173722748218,4.251840440845101,4.251853047672465,4.252055066549299,4.25216719662229,4.252669578175097,4.252680768520531,4.253652669464259,4.253679565733329,4.253698184809793,4.253707192121382,4.253892035157113,4.254075787013438,4.25420404207874,4.254321165401754,4.254395607642698,4.255509429548568,4.2557432728236835,4.255924464219552,4.256146826431694,4.256203268773127,4.256582182918684,4.256857662179463,4.256863632609864,4.256871608589899,4.257358376060818,4.257745354242448,4.257834878017227,4.258068060784392,4.258374926143217,4.258428910721749,4.258819188376178,4.259053371158433,4.259103102439283,4.260097173876415,4.260236620464424,4.2606104789779895,4.260662102003083,4.2612115311396925,4.2612116956452635,4.2612527016011725,4.26147657591093,4.2616310880605015,4.261737415982983,4.261820858206395,4.2625974620395555,4.262887354484986,4.262889793397598,4.263144223374543,4.26332914188652,4.263461454767689,4.263505476619657,4.263592661608505,4.2638097819584875,4.264167590004501,4.264428297548235,4.264612348915745,4.264646093226006,4.264755744671134,4.264772206982839,4.265069604453461,4.26511011906636,4.2652190196374935,4.265793317891162,4.2659729342702,4.266040724954604,4.266876147153686,4.266876251196447,4.267655380850744,4.267887565845986,4.267909477541474,4.267928513960272,4.2681380038170875,4.268154170881692,4.268508849965296,4.2685117238377766,4.268526243330447,4.269625549829194,4.269783798484517,4.270270843702662,4.270275085755988,4.270690739436924,4.271058633064364,4.271067298309666,4.271186225777794,4.2715726325520516,4.271620029379,4.271670338817694,4.271695152029923,4.271721346640531,4.271959418577628,4.272194986304297,4.272370521016514,4.272504555838095,4.272907015689635,4.273120391646471,4.273165503595022,4.273219558451647,4.273747985383112,4.273758458676424,4.273830128465255,4.274206737546627,4.2742540521914165,4.274420525415537,4.274574006171859,4.2746805964753865,4.2747769838390255,4.275113273484849,4.275280897253511,4.2752968186605775,4.275405769414177,4.275416139924604,4.275671278597387,4.27572740581256,4.275916271135097,4.27652978729494,4.27665286086484,4.2766985391880485,4.276743109076707,4.276778045965012,4.27714590264333,4.277155167466035,4.277400050276249,4.277575924765741,4.2779907217824675,4.278243306388652,4.2784315003946345,4.278468735699965,4.278693587095405,4.278858563852576,4.278872833289941,4.279086180993473,4.279115726326688,4.279337683808049,4.279338251783356,4.279400964761143,4.28001410867577,4.280067180264783,4.2802208398451675,4.2802454503539815,4.280515718377036,4.280973547435315,4.281106982333682,4.281157107927392,4.28120018360425,4.2812744502437035,4.28128305555167,4.281307304866336,4.2813579054368995,4.28150651725425,4.2815481022856385,4.281617819554833,4.2817646971499075,4.28211033049968,4.282128205287506,4.282247358171767,4.282463481931305,4.282489493633598,4.282624876814167,4.2826664105145404,4.282776104533515,4.282803738294508,4.283239435124932,4.28337723658632,4.283478212809206,4.283669636233351,4.283845965780766,4.28398082783017,4.283993451685296,4.2841464326337375,4.284356485792076,4.284369923490219,4.284415824688943,4.284664108299952,4.28471689415386,4.284775498695248,4.284778211209165,4.284787877520094,4.285018816603941,4.285142985405688,4.285174060621481,4.285265254303934,4.2852892907999305,4.285368267219055,4.285418923202619,4.285625987539368,4.286127202918071,4.286221248507529,4.286242129726583,4.286289786148398,4.286332091857091,4.2864452044061805,4.2865354993490925,4.286554762884947,4.286645860916858,4.286796934087323,4.286872432925508,4.287180313343329,4.2872866454068195,4.287309633614626,4.28753283962649,4.287600014401496,4.287888210473884,4.287985423214958,4.288306011430394,4.2883458867580275,4.288373825244475,4.288384137589667,4.2885558525750564,4.288658736120439,4.288709476082662,4.288899774803063,4.289089556751464,4.289093409039306,4.289388043816281,4.289447627893705,4.289545603560487,4.289550400231124,4.28991307038688,4.289945006337019,4.289959879392908,4.290012433885932,4.29008661302392,4.290172967299388,4.290354465635772,4.2904060084442515,4.290412042350816,4.290613002139635,4.290757890626595,4.29105310972506,4.291194254980821,4.291259828216004,4.291328836263231,4.291460646464605,4.291547512078216,4.291863120705009,4.291869849507166,4.291891422463112,4.291937958837887,4.292034909432482,4.2922800474473215,4.292288899709902,4.292330560341187,4.2926068423358945,4.292725456935682,4.29288774499442,4.293549480721476,4.293769222728694,4.2938738693850995,4.294087060953673,4.294097898457036,4.294782437768665,4.294893719941416,4.295016161363348,4.295165875135838,4.295166461559195,4.295465099042289,4.295586767278822,4.295594210937118,4.29560568212879,4.295633502903168,4.2957826577827465,4.295825469372125,4.295850297805789,4.296036387991217,4.296131640384238,4.296413969269217,4.296507441997645,4.296584192499671,4.296616470761266,4.296715550021226,4.296937026593537,4.296938817110338,4.297026323285067,4.297067687808657,4.297155040026265,4.297233403173653,4.297285356898091,4.297407366715499,4.297865931740658,4.298427727121068,4.298578304476651,4.298656010925238,4.298737129596569,4.298969144216966,4.299096360160224,4.2991313480524225,4.300108201511984,4.300130577019007,4.300464920769515,4.300516894462871,4.300670282094427,4.3007623563557615,4.300835121687512,4.300844263817134,4.301026365772622,4.301353126366495,4.301362581666657,4.301599816399819,4.301828132825165,4.3022447731128795,4.302286660120567,4.302606181536127,4.302769823837172,4.302924329947341,4.30307932476432,4.303152052957771,4.303201098862967,4.3035549283957675,4.303802905172148,4.3039557896038225,4.304064407823847,4.304131520926174,4.304186420362832,4.304416839397964,4.305019082206826,4.305229603269586,4.305232765848778,4.305385342275114,4.305471259201684,4.3055928323090935,4.305621490881131,4.305812269899355,4.305824430897491,4.306154752272938,4.306261489679459,4.3063086313287045,4.306331476258446,4.306337213734323,4.3066115129626565,4.3068577825971825,4.307840527766945,4.3080950079320495,4.30811988443219,4.308297504005851,4.308845513082895,4.309096186282031,4.309496983879725,4.309762841355498,4.3097797210852375,4.3099205199173065,4.3103696834215794,4.310441857464393,4.310498072665922,4.310721850221886,4.311019583853674,4.311069939146036,4.311230033815741,4.311363364540384,4.311733849142999,4.311931114016434,4.312268750589221,4.312400757461716,4.312520243005527,4.312937856542128,4.312952085448743,4.312957770083497,4.313008028599861,4.313061609390835,4.313081734940743,4.313132216070253,4.313701107945869,4.313807598160063,4.313900577190644,4.314121770631335,4.314493852203603,4.314536407648408,4.314745886811526,4.314811783470666,4.315007255204616,4.315201515550642,4.315314108309864,4.315388497064099,4.315473423532875,4.315596414547041,4.315815196658784,4.31587031715121,4.316061388861704,4.316148260573386,4.316194843847409,4.316496041077233,4.316534846993676,4.316569110476332,4.316627465261895,4.316765577084915,4.316865597733159,4.317041029071914,4.3170452460894255,4.317094912124204,4.317192268474081,4.3172904044826375,4.317627156565784,4.31765139937635,4.317740647677411,4.317892892169472,4.318019569739636,4.318211747279141,4.318217754824305,4.3182210349491115,4.318419798130559,4.318703615130139,4.3187183793646575,4.318743223717425,4.318812316520503,4.318849771204532,4.319021427530577,4.319048984759579,4.319263012741207,4.319375257674887,4.319715548915717,4.319742884219627,4.319816559232976,4.319840533925659,4.320222818548372,4.320322206083446,4.320382727281016,4.320391371106216,4.320466055607232,4.320728600241969,4.320736452739748,4.3207839170224815,4.320820048193586,4.321112762517538,4.321134723750345,4.321383512524437,4.321399723875079,4.321583696891731,4.321599128680255,4.321616030882136,4.321652538361538,4.321680584707826,4.321725134487085,4.321744763011498,4.32200229259952,4.322075708411457,4.322107092139725,4.322448523739176,4.32247103192157,4.322559789076726,4.322776646052025,4.322819517899718,4.322943149587095,4.322959006262951,4.323290485613424,4.32357441420818,4.323604968225431,4.323703524371548,4.323710289596327,4.323921477398687,4.323950133562833,4.324037202732569,4.324054583968474,4.3240768361505415,4.324302613992285,4.324328441387992,4.3243754395364595,4.324422829549339,4.324569140294158,4.325152758290316,4.32520657853787,4.325502344182998,4.325661754727062,4.325847245489742,4.326065812037397,4.326365394837014,4.326381684943148,4.326490928860255,4.326583883970594,4.326874942885361,4.326878052889077,4.327025109061084,4.327595666566997,4.328123842329768,4.328283166070745,4.328860554603293,4.328946770538672,4.329163994408261,4.329166940407624,4.329227015805594,4.329300425058311,4.329300967256111,4.329384190245898,4.329422305729781,4.329431222263986,4.329571467064396,4.329700353867746,4.329777192655015,4.330061122434671,4.3301703010512815,4.330211259105897,4.330216981652274,4.330260825256208,4.330288573785836,4.330351080807664,4.330492301849718,4.330615272668638,4.330641220105848,4.330900404729139,4.331072796895996,4.331077759912737,4.331114640349793,4.331148750244298,4.331173491375971,4.331288825903783,4.331298977144005,4.331325317657296,4.331407522467787,4.331441338542236,4.331453618112901,4.331498498959288,4.331595323115609,4.331688930541613,4.3317536074373795,4.331813527639726,4.331879614362968,4.332008798829852,4.332013574453455,4.332127626832811,4.3321605188804115,4.332217163841448,4.332591494144938,4.332593230077786,4.332609143042129,4.33270103707436,4.332955726927267,4.3331063914855745,4.333122950592397,4.333334719909842,4.333740633249307,4.333742992882488,4.333919689499353,4.333972124567936,4.333981869692368,4.333999947673929,4.334000090919687,4.33419276485428,4.334256596427091,4.334341727922472,4.334360860858998,4.334413639891209,4.334619758890071,4.334811845023292,4.334953213581878,4.33506130530491,4.335175087997275,4.335176193668941,4.335182345265041,4.335358794510829,4.335377801778601,4.335622869444756,4.335660862710699,4.336095914256707,4.336164284063258,4.336216540975055,4.336431877135627,4.3366042211697104,4.336685316065613,4.336758964117831,4.3368092140475705,4.336816263971511,4.337403060457678,4.33756063577988,4.337774602541695,4.337807295082781,4.337963755818607,4.3382551341346955,4.338611937356995,4.338657993331527,4.338879436144621,4.338884227244695,4.339196207863372,4.339369428520049,4.339455369210146,4.339483908710207,4.33952989171072,4.3395834420801895,4.339926126512375,4.3399531159295845,4.340195397532333,4.340403381376912,4.340404683719132,4.340482307975046,4.340532589117232,4.340829216929935,4.34083281405569,4.340875023717621,4.341077050468117,4.341280728278508,4.34133101855062,4.341418605726287,4.3414303589315,4.341739358114928,4.341982806901687,4.342113176906157,4.342140665740234,4.342235462162772,4.342427355109224,4.342819314776147,4.3429374306929365,4.343129129416751,4.34315547986742,4.343400587194337,4.343403325644598,4.3434562204997205,4.343513225123828,4.343548953159851,4.343584150790758,4.343626607512317,4.3437592469029935,4.34381343546208,4.343910731019206,4.344035535441722,4.344209055937115,4.344251120354917,4.344313079505964,4.344322281103617,4.344434241268999,4.344472490088617,4.344489641604569,4.344640915065135,4.344784695062091,4.344962697025841,4.345017727931455,4.345282394567942,4.345290151350425,4.345512637448079,4.34552450712965,4.346125572589368,4.346151340701051,4.346351248295694,4.346404604763939,4.3464270535222616,4.346706862132378,4.346757279077355,4.346799598737102,4.346899539218788,4.3469292991643655,4.347243152360317,4.347704110542242,4.347752538366682,4.347840062985451,4.347859025783524,4.347941291744487,4.347999613375591,4.348134244350155,4.348268059024007,4.348313414319457,4.348405318127467,4.348792917776427,4.348897484288207,4.348912204903726,4.348944231646518,4.348978714771164,4.349047488000981,4.349131925894393,4.349370789965315,4.349887677999323,4.350637651559963,4.351106176596797,4.351210229768219,4.351247853923919,4.35153960462865,4.3516076196833415,4.351750818487238,4.352194074916907,4.3523895071331635,4.353010449926295,4.353184317864955,4.353220898032677,4.353428707070391,4.3536249017507345,4.353777642142856,4.354482928021873,4.354532343766999,4.35476355761672,4.355111492356858,4.355513986537427,4.355605886178567,4.355636204424895,4.355731513389869,4.355735940719874,4.356642147587219,4.356696918354028,4.356832967993898,4.356838905373091,4.356894651171388,4.357039315549255,4.357063867601146,4.357384176642089,4.357629299608175,4.357656727480438,4.35774046052894,4.357872274491711,4.3579512594083525,4.358000848655544,4.358141354245715,4.358227730716919,4.358229206491756,4.358527067734923,4.358848934273928,4.358896740164499,4.359026286770748,4.359176354399109,4.359185663553638,4.35922543355411,4.359237207065225,4.359631785000834,4.360091941283897,4.360134024288064,4.360262620918735,4.36068564889942,4.360856729959444,4.360858319284875,4.361038760275905,4.3611657635448635,4.361168747839343,4.36147550263942,4.361588533627792,4.362333562482428,4.362461300929554,4.362617500738335,4.362715400890935,4.362976411381496,4.362977114252397,4.362980733009552,4.362998781729462,4.363263585669615,4.363332083151228,4.363403770541536,4.363445868613608,4.363760732794709,4.3637863943981925,4.363996700014628,4.364071168163637,4.364109029964235,4.3642221407754365,4.364506245329229,4.364748515682922,4.365078720946238,4.365129455990118,4.365664624403069,4.365974747864207,4.3661375251647385,4.366304620461537,4.366546690007644,4.366556502381878,4.366880036920301,4.366967197405132,4.367030632106162,4.367087535974742,4.36711125614044,4.367351163244377,4.368016398148353,4.368059056489424,4.368238373646072,4.368517532136691,4.368658505193021,4.368675514802625,4.368749367044284,4.368755781631131,4.368841521688523,4.368860595131502,4.369043729233636,4.369242863081731,4.369360014296602,4.369434938871617,4.369441909187805,4.370004047440407,4.370151260017118,4.370752201392877,4.371085873267954,4.371155998662452,4.371312825395949,4.371564567334841,4.371617173283804,4.37208009399113,4.372274407568635,4.372579536166584,4.373870762663844,4.373891004577139,4.374123179521778,4.374294226499182,4.374776660179534,4.374938549352122,4.374954451585964,4.374960772463863,4.375470806394856,4.3756366532245625,4.375777017659873,4.376060633895248,4.37617599181137,4.376737828185761,4.3768381054265,4.376862746502971,4.376952238437465,4.377184812963477,4.377601961754501,4.377611347183577,4.37772063670774,4.377792266643093,4.377846330085729,4.377868592117122,4.378213931536518,4.378672141100682,4.378888958220404,4.378938140420018,4.379261384917845,4.379444605458033,4.3795356985527105,4.38004926873143,4.380058797660997,4.380117587481528,4.380427153473457,4.380681906572259,4.38069781919578,4.380729630223401,4.380776590527119,4.380912034730848,4.3813382827973655,4.382456536301522,4.382928208816895,4.383011993722167,4.383186662874153,4.383211473794281,4.383601950906702,4.383736825842639,4.384564200239127,4.38478335098918,4.384851283129671,4.385266701420411,4.385604626425829,4.385613770824589,4.385638154752225,4.385712417177806,4.38600504880266,4.386017687709709,4.386049171414974,4.386220454173531,4.38682129438097,4.38697716025597,4.388219120768998,4.388537411617642,4.388547007420428,4.388570335305747,4.388610006906392,4.388640848164385,4.388741730693433,4.388861925466977,4.389527227469798,4.389755397448863,4.389851914858055,4.389907380682479,4.389982101019741,4.390331311024675,4.390393636363241,4.3911685764272335,4.391423310326518,4.392115067904884,4.392336943770446,4.392497434114069,4.395685156029511,4.395973313872433,4.395978563066792,4.396364513705304,4.397166726667412,4.39729069453246,4.397335954341746,4.3975830499932185,4.397778161919005,4.398121184412741,4.398491666140657,4.3992834834492465,4.4000141052206585,4.40013228696708,4.4009776608746325,4.401133459516966,4.401266451452536,4.401530284779203,4.401591485224289,4.4025699778403915,4.403340704067401,4.403483164531946,4.4034925015438775,4.4038641252843505,4.403973135250371,4.406020417360459,4.406138281112434,4.406201040360799,4.407806370358311,4.408741319046093,4.409184191662122,4.409200915562355,4.409590356199398,4.410500552735409,4.411210373912518,4.412071453248838,4.4123217913804815,4.4123807160487445,4.412940767368932,4.413050681295118,4.413172732101386,4.413909327525651,4.413992818982289,4.414383609995407,4.41468907165657,4.414804742981332,4.415029364234727,4.415556280212927,4.416315768081914,4.416788243047925,4.417145452808752,4.417273722864515,4.417948997315551,4.4187357101478035,4.421719348689041,4.421841036792046,4.4229850450894395,4.422995165892523,4.424545835593464,4.425090036416235,4.4258768323954385,4.426233459106101,4.426399960971073,4.426720309217214,4.426827508863198,4.426898540816852,4.42859277920556,4.42935791001865,4.429451283404806,4.430530750958128,4.43111370900625,4.432425449571685,4.432835663501187,4.435010003888905,4.435857943926942,4.436353529601223,4.439979772386463,4.440415696638631,4.440455467842052,4.440582791329027,4.440703035809463,4.441107351004065,4.442172313494389,4.443676822368418,4.44421522902416,4.444655302749329,4.444658544435778,4.444874283822808,4.4450832521375165,4.445561710577247,4.44569074170299,4.446263859939506,4.446380797942406,4.4468645022122235,4.448309672108883,4.44867223603775,4.449605814697767,4.450246305346374,4.451050188820977,4.452394602691679,4.45275364928457,4.4544394714267295,4.454459915898056,4.454921436293494,4.4549445292310965,4.455503058921519,4.45661399318164,4.457463278883061,4.45844314491368,4.459433654250854,4.460266592766377,4.460664152803717,4.460912532158684,4.460935798966571,4.461160988696911,4.461796106943435,4.4628571536924495,4.463120860298607,4.464659004014892,4.466134567975991,4.466564461781648,4.4673674677962225,4.4684694336932065,4.468702067561615,4.469429739507448,4.469904534490932,4.470431507061811,4.471039093612573,4.471072334063207,4.471099094055785,4.471126878880682,4.471560532944508,4.472055805024419,4.472525620448109,4.472658290616017,4.472777759154582,4.473053896052491,4.473304410832245,4.475215429548587,4.475398955456745,4.475741873119462,4.475764840822382,4.476697209446412,4.4775192123675085,4.4775416180150565,4.478287533676773,4.479471203928124,4.480450849968713,4.481193449046,4.4816816442867555,4.481978011137472,4.482311355918923,4.483199391125129,4.4832358200683,4.48377242285929,4.4842434581814405,4.484680760604442,4.485279022844282,4.488081460675045,4.4884021198244595,4.4885739775839575,4.4895591126816505,4.490075550265717,4.490078588315349,4.490567153398418,4.490824863565588,4.490965224848983,4.491617041188456,4.491871038582578,4.494121420999172,4.495607004148093,4.496415973942389,4.496534639653056,4.497015686424175,4.497387574589551,4.497743145190215,4.498687020679807,4.498913156592513,4.499111070369022,4.499351009061155,4.499627629846673,4.500744111185357,4.50101729632924,4.501236634206986,4.50140457136031,4.501898393040392,4.502147744055574,4.505083617586344,4.505236507904763,4.505787859635546,4.506203553047828,4.506558799293294,4.50666756743271,4.507103559048639,4.508297450801377,4.508436185287252,4.508470833181032,4.508804645884236,4.508846034428607,4.509168962175088,4.510715300032022,4.510816452735673,4.511776262984024,4.5118184912610255,4.512047030839805,4.512413047555026,4.514504641496316,4.514820447364604,4.514892401250867,4.5150147639679235,4.515843629433952,4.517196362457602,4.517684330379144,4.517749314928511,4.517841306153882,4.517862647371304,4.518026239572207,4.518278144698964,4.51948928631778,4.519774580570389,4.520039078390309,4.5204274780407845,4.520761417196179,4.5208836550666405,4.521904606021991,4.5224048995150845,4.522573241760542,4.522916511422221,4.523053729146524,4.523102630445544,4.523352525719759,4.523769547752566,4.523802930120095,4.5238057577722435,4.524039799569133,4.52520490097942,4.5255498048530916,4.526865774286395,4.527143186510754,4.527515260669842,4.52810894331627,4.528567883581734,4.528608442767384,4.529448278586898,4.529824147898996,4.529977189839645,4.530531163606161,4.530660407816044,4.531114343756343,4.531355035628172,4.531713033734032,4.532214512842751,4.532551882015205,4.532620656780283,4.532756605618516,4.533352466775737,4.533478758089031,4.533618860575673,4.534315714058541,4.534533058112893,4.534874141790804,4.534881705065105,4.5353146505899655,4.53577147415055,4.536201656960774,4.53727073314354,4.537276959932104,4.5382327063257675,4.538324624112306,4.538663671647441,4.539142750137632,4.53927839034822,4.539993331166586,4.540070071097447,4.540960964583258,4.541224733019154,4.542037271408895,4.5421046351867975,4.542619644164562,4.543363357761587,4.5434860048739925,4.543567857264508,4.544271539387747,4.544976713560885,4.545522027000018,4.545645776735653,4.545727533106406,4.54690200066184,4.547816753049139,4.548557364861323,4.548581286285968,4.549221678236586,4.549355149149733,4.550301146306715,4.550716338759412,4.551093131058726,4.551250117121058,4.551349112283712,4.551415899281519,4.551716402442941,4.551778218408484,4.552695655971961,4.5538780768075915,4.554580654105052,4.5546419357263215,4.554741906193828,4.554843030792799,4.555097123146301,4.555443261246426,4.5563693246617065,4.556956010511965,4.557148886044489,4.557420845946617,4.5584938422643395,4.558570303065073,4.559105327520232,4.560227315927207,4.561471252597262,4.561472418327701,4.562121438704744,4.5623431647243535,4.5623446818003455,4.563492471162877,4.563652808109184,4.563899182871386,4.564704258407262,4.565401346512375,4.565607142422335,4.565942622902231,4.566492385814462,4.566668336007473,4.567045290092258,4.567055417281337,4.567482643100695,4.567926732599359,4.568616842083783,4.569458015599501,4.569485838197203,4.570136100789024,4.570285051606851,4.570724327513665,4.571018822427146,4.571026685866364,4.5716329264097695,4.5717283100092105,4.571770450363163,4.57209937208198,4.573171999422709,4.573881181897233,4.574260755945604,4.57466009911046,4.575442798086381,4.575913489657442,4.576958888304901,4.577392835423801,4.5779975793281045,4.578835623393507,4.579384089073395,4.580041916184451,4.580328552943846,4.580377834897926,4.580517636467481,4.580566028124738,4.582107056894446,4.582800476753818,4.583011573918902,4.583297773956625,4.584117757187203,4.584403400937867,4.584809242683818,4.586417366611504,4.586542962266186,4.586616150615933,4.587596384597988,4.587614754054236,4.587626627972784,4.5884700410825126,4.588691077932991,4.588701197499385,4.589986265851092,4.590016340945409,4.590352265477385,4.590887772765277,4.5918434744405525,4.592863576710617,4.592891251103336,4.596384957127853,4.596678662447945,4.596728796834987,4.598857360310209,4.599581246576382,4.5995821361444955,4.5996573863650525,4.599788327468912,4.600042645950307,4.600668125066385,4.601289009300026,4.601431416446682,4.601581678746196,4.601847549054056,4.6021628151181195,4.602490463661437,4.603291638585211,4.603491349249817,4.603764826907223,4.60376993336184,4.604195267733894,4.605191174798239,4.605608133645867,4.606825656914391,4.607450711419011,4.608673733602008,4.609723345638567,4.610281655599719,4.611181288612802,4.611228988287003,4.611456353646067,4.612341425515289,4.61378727963574,4.61411652659546,4.614253480982857,4.614525062551637,4.61455885557001,4.615986044467221,4.616087450721266,4.616910595034488,4.617636066719612,4.621097938554503,4.622020716044638,4.622937727222509,4.623119014708889,4.623947708961407,4.625274958738275,4.628019662613596,4.629532397467822,4.630050598098792,4.630315458945696,4.630691719644921,4.632582679543807,4.63306035525646,4.633453302420684,4.633858478619295,4.636025671651145,4.637225423859576,4.638866390589409,4.6391977585436805,4.639476768297994,4.641666186331079,4.64184743373315,4.644527157608844,4.645820888407429,4.6458239750353805,4.64721195040272,4.64777374673868,4.649754768967506,4.6529938638752455,4.653291211139828,4.653324085328476,4.653375574647684,4.655481451271465,4.658075953993774,4.6596006552352955,4.660732610998739,4.661328479609771,4.6623825906849214,4.663166838996245,4.6647824533926965,4.665832975176961,4.668915432875279,4.670142524785701,4.67122779419317,4.67169725174274,4.677515534709971,4.6787231471370845,4.680674285983314,4.680769406865775,4.683169155741948,4.6864930182170745,4.687231156216003,4.688036084352431,4.688285109393502,4.690692551146532,4.691655212901323,4.693906475504408,4.703807954143505,4.707069439148923,4.708249488851955,4.70929435616112,4.713682558628382,4.7142485585408345,4.7161826245812,4.719679632070003,4.723673886288626,4.725119305851454,4.725296013232242,4.732356280354092,4.738698537973491,4.74281594365843,4.745029848725369,4.747513823456788,4.757816758309639,4.760627023564101,4.77827633864007,4.782115905235113,4.783269864080768,4.7838734953072315,4.799620689656322,4.815158645241696,4.823926654452894,4.827216683840932,4.827708595662738,4.830378476070884,4.84027642386441,4.848864830785956,4.8558835646376615,4.86031712923046,4.867441183689394,4.871851474094095,4.873034421443528,4.874198685686637,4.878659090107602,4.885312049368432,4.889983271067577,4.890479401749499,4.892770980934857,4.8982702569793855,4.8996326406014985,4.901713766418371,4.927728201371186,4.937974443628507,4.9400314046260725,4.9443551646003305,4.955103535361901,4.959734873814511,4.964955432678904,4.989671241593545,4.990196803031427,4.992020905597091,4.996379864079119,5.028196285465173,5.032449880677008,5.039458934103209,5.092149766554606,5.096397506732834,5.110015068210592,5.11603435492791,5.118813553150924,5.122613449417664,5.1234351764811255,5.134375701323214,5.1405477148584335,5.155920929536179,5.156478002931916,5.167559355722952,5.193390381624906,5.213202548926277,5.215708960060738,5.223148788298996,5.247404489388056,5.253997452634715,5.287984986291321,5.328024691311209,5.342641415115088,5.355655876536376,5.388194520638469,5.440342811909334,5.461322259632861,5.468435396780092,5.471133077630421,5.705338975895312],\"yaxis\":\"y2\",\"type\":\"scattergl\"},{\"hovertemplate\":\"Component3=%{x}<br>y=%{y}<extra></extra>\",\"legendgroup\":\"\",\"marker\":{\"color\":\"black\",\"opacity\":0.3,\"symbol\":\"circle\"},\"mode\":\"markers\",\"name\":\"\",\"showlegend\":false,\"x\":[-0.37934593254027027,-1.5370107531778565,-0.3049571407335034,-1.2608218820204053,-0.12221640361510216,-1.1381074531685333,-0.22864224144297135,-1.2089141451751617,-0.20710074428333347,-1.0266744904209,-0.3740917637011481,-1.2404754292757587,0.06010195419859698,-1.178944154151843,-0.5400677582966381,-1.1303063412153904,-0.20366216083486477,-1.1854505338725696,-0.639724506278122,-1.3195294068922505,-0.13990366018445954,-1.1750727121806368,-0.21963491319091427,-1.2255737290659583,0.1872586041204667,-1.1132863622416018,-3.5563378739527796,-2.529598211205576,-0.5772429322266359,-1.2145284949467394,-0.00548635328932565,-0.8761443885302074,-3.2825155229052214,-4.273743798864969,-0.3171701674675894,-0.7693429288748789,-3.728736337806503,-4.46837469333725,-4.046703913244861,-5.733407687366422,0.050520845734353725,-1.1197890238014714,1.0910408763980757,-0.6824949721964492,-2.918575314342129,-4.517844428789128,-5.2545251888165225,-7.009550000029484,1.2088506138673152,-0.011489709487561181,1.2506224653348443,0.31706447866200477,-4.859497553825681,-5.616692732335948,-0.578937732208994,-1.36371131159791,-5.816724181113219,-5.459023263123975,-1.0125470709253772,-2.082820950306322,-4.93371972286392,-5.2388898854258885,-0.6989788264642771,-1.2643057415570453,-4.610972893963346,-4.9601904857658194,-0.334405389689448,-1.5335878453859035,-3.171183420581726,-4.473391029250072,0.7270235851739378,-0.6124441313084593,-0.07663476663672948,-0.43851745152607874,-3.4488575608397287,-4.173091261642826,-2.769373585196357,-3.656709672088513,-0.0045482803648758474,-0.1367221954116071,0.13534666010094518,-0.8381445183185455,0.8349430568374201,0.08245857764749549,-0.30614225692922054,-0.2313554503744751,-1.0024196102860758,-0.40675880701570216,1.0774788758990073,-0.8905337798274053,-0.37746251075659926,-0.14710801543285973,1.466727958039258,1.040552306360267,-0.6026253348719045,-1.1420136487038934,-0.44513786264060706,-0.42012222755731377,0.16926846445307883,-0.9138665710115669,-0.9144327854240054,-1.6654101138132633,-0.5247680360578704,-0.5084221971354905,-0.3907083360310755,-1.3323981724806098,-0.21781416432751888,-1.5040272507203862,-0.1918498326269985,-0.9986497325921166,-0.14835747914870745,-1.1041422828491623,0.03823936846138271,-0.9942006990693756,-0.5128314359481272,-1.41684896480886,-0.285639277481662,-1.1623733287181877,-0.423308121508987,-1.163649549808437,-1.0158941665282808,-1.315523735153999,2.410989847980924,0.008265928603238387,-0.42881394131876444,-1.110750758174861,-0.36754792823738985,-0.9283273695966329,-4.313619142571818,-2.739847233571677,-0.576243188952116,-1.0490736149355653,-4.812248584907467,-3.2198511209555174,-2.9999051005314983,-4.303299253533389,0.21561981323053717,-1.0389251147800629,-1.7491934919819712,-3.176183181042553,-0.6314575969918005,-1.2667806938859945,-0.7261107363403752,-2.0638543610389743,-3.7928430990049002,-4.819423494603581,0.29797444572198994,-0.8959944238478309,-4.538878809519897,-3.597066566878765,-6.0649041737302545,-4.92328493373386,0.33367050940299453,-2.2667197162954222,-0.3628439234986114,-0.19532246233147163,-4.294273542306269,-5.599464994633,-5.468703945363144,-5.058626131600527,0.7214026376192131,-1.2863316124679147,-4.1553960858079115,-4.568223491912081,-1.0031705156392887,-1.9934281297879768,-5.949794421122604,-5.368813916382067,-0.6244616188498003,-1.0873650103619426,-7.573129131043041,-5.4680863157816,0.25165816827500154,-0.7789102361233377,0.04079635405773334,-0.8503945916792408,-0.23918256681550853,-1.0316488619223791,-4.011025593953475,-3.4693871249968278,-0.5816403797016112,-1.1825699265115883,-0.5751012810816984,-1.5655784299449145,-0.06759406937460241,-0.7680824354642707,-0.25289628079725524,-0.9316044347861179,-0.36920508342565606,-0.8952125232162873,-0.5654389160453347,-1.1585606175597556,-0.6123439459525067,-1.3248115072237296,-1.5239121974990237,-1.4747840034702793,-0.7762628452180506,-0.8557212996624557,-0.4780830078228556,-1.3034604780133612,-0.6493976978576156,-1.3688755237534478,-0.4599966400443578,-1.2078145409127568,-0.8250038314595723,-1.4579796116297927,-0.8571023790366065,-1.2407568731766123,-0.688156660719391,-1.4151281686062975,-0.5841283429786132,-1.3998103404719104,-0.5792576647770483,-1.2069215179774648,-0.29504909899029935,-1.2277570956366581,-0.4285411026409947,-1.1886749568285835,-0.8343626558317648,-1.206798487857323,-0.4176737800450412,-1.2303705636825883,-0.2988718467458413,-1.151031606884849,-0.3711926534594674,-1.2253922365367207,-0.6078561143599515,-1.0077086421468475,-0.2426467155197393,-1.0413541388462444,-0.37544674098834263,-1.0969456430184694,-0.8476678984018747,-1.1704666903684282,-4.840860328309712,-3.967217789999897,-0.6618294459963007,-1.0782339655247586,-0.4748268232709592,-0.8832724051618874,-4.566669782923391,-3.892390444683945,-4.7453563321587815,-4.638576266555386,-0.10009606507824313,-0.8077670839205496,-1.3826795703767378,-2.3450203317688976,-3.7504884680523944,-4.394169137352569,-6.990306807172665,-5.452536730737929,-0.16122439284447554,-0.7751115850401878,-5.065661610019006,-5.079426990384284,-0.6486135056207797,-2.220742304212425,-6.228432953829468,-4.586448473231461,-6.561090913285129,-6.452304114914938,-1.2444721585639271,-1.7151554103134907,-0.9006297446732034,-0.5853198972614939,-6.612948589656702,-6.952129219561748,-1.4054494046580384,-2.022629706578734,-7.189309163329123,-6.78569923467239,-0.5335482094082963,-0.9740777667843143,-5.498761739612269,-6.397037193942401,0.10880369563764619,-0.8742995731841416,-5.6463296370612,-4.73580336468026,-0.14499952826471224,-1.0587337124762366,-7.010548474027569,-6.139867197640588,-8.268568841651286,-0.9502373791281694,-1.4339986720027509,-3.666521738409594,0.32066456842191043,-1.1836748862104194,0.39805087637794834,-0.01974996175570087,-0.6680337921176963,-0.19352396499388724,-1.1927397163158715,-1.051605295478143,-1.1977879321116245,-0.463332412414039,-1.6672808675991506,-1.4819134247957413,-0.8754758875582634,0.050414563392752056,-0.6134950376907493,-1.15989509636548,-1.0208623909689054,-0.6194666829376677,-0.9596005974695453,-0.5018931791431452,-0.6976251873025069,-1.2033989548965098,-0.9910839854245178,-1.2274505011215129,-0.6051386016359614,-1.3165485418460081,-0.777004338676379,-1.6268191984666425,-0.3151979466593599,-1.273629518423231,-0.3215444657640574,-1.1370754219487798,-0.2614907505624955,-1.1428748900877905,-0.43877214023445266,-1.2929478110789614,0.9902580764543805,1.618066226533206,-0.43886637594690353,-1.1627567623062913,-0.44004499493809934,-1.317336253785917,-0.287207470242123,-1.1309544353797993,-0.4909166251717271,-0.9177230079085335,-0.335891011475448,-0.7537574932549326,-0.1424623727047138,-0.9263026861846928,-0.8824562322139294,-0.8395372971501931,-4.754923293123873,-4.459256732785259,-5.114915231077127,-4.918327683888793,0.15813558933095637,-0.7411436725093647,-4.693321915236804,-3.5798567757785915,-0.3118160660353613,-0.9862893544211858,-5.401085324363385,-4.771492551086036,-1.0849636596289287,-1.752068337630724,-4.3954086486050645,-4.831737602217175,0.47834867036700945,-0.5267573746359379,-5.663784692155879,-5.730868116258875,-0.31434497720920246,-2.0832688027072113,-4.853855254831107,-5.159261796088275,-1.3520638464136754,-0.7336783012903924,-5.634203422614884,-4.519190861158944,-0.747017733783685,0.16600297184623436,-6.081320906035874,-6.292856207321222,-1.528441446530038,-2.027476774432672,-5.596333150514233,-5.631452227478531,-0.42964342681536827,-1.131920838033381,-5.8710354926314565,-4.608451551171692,0.006491929955967467,-1.068256028015808,-3.353732772029098,-3.094257297887501,0.25069216137174744,-0.33219379086536127,-0.30279772414480804,-0.8560208434335551,-4.794179570110084,-2.6878532130773496,0.13577327068100564,-0.9289736268825468,0.05987598062721808,0.2220374140949924,0.15527881607026534,-0.3554856401756405,0.2670525089882526,-0.41955630614706974,-0.19856291067573625,-0.6233596845599796,-0.5048368232012395,-0.76235021259834,-0.9076928543783451,-0.1926083907246145,-0.5315542707151161,-0.4492671695347434,-0.49953557062335274,0.21414463990539084,-0.2012871421941139,-1.0466109001367376,-0.3030904288335339,-0.5569495139131868,-0.9511657208098582,-0.9539713540348723,-3.0123793283313907,-0.5607944120016187,-0.20958743969730054,-0.9115072788490853,-0.2208471120713577,-1.1162994277926013,-0.09782175285510253,-0.6438070976435657,-0.2958477860083382,-0.820012922131058,0.19404736873246187,-0.9008954584168204,0.299166356565727,-0.689961707950193,-0.14595329598726278,-1.114900285249565,-0.03341437411551471,-0.7166850037977756,0.01493726979368803,-0.7737961419257394,-0.13064564013639188,-0.9229371940099304,-0.2057027798226719,-0.9628529952143406,-0.43507437142388944,-0.6492529971749104,-0.5281600577698958,-0.4125333063866572,-4.52295466782535,-5.127125172136392,0.09985367710802337,-0.9632316224402387,-3.7449901343429723,-4.196691944034211,0.5598779708044805,-0.8316776217415504,-4.281176679211262,-3.1706782409543135,-0.15376639115827223,-0.9128610039368266,-4.586973063254505,-4.928337071324166,-4.2633287168035086,-6.812998465665159,0.2142471716451054,-0.3762975535317049,-4.7217652171434334,-4.748068193702149,0.8049459843877242,-0.555485856086125,-0.4243448058619533,-1.7909467905300438,-2.6182352529476147,-2.4781142251268165,-0.7713134715223351,-0.8952214665266971,-4.219912415774307,-4.72911073279482,-0.0016234562841164488,-0.5526660987101562,-5.043061959416633,-5.403910806982935,-1.1583586522334866,-1.5992539427275347,-6.0840859930731135,-5.061093840270999,-0.11896940404866659,-0.5343605524712469,-4.229862164901211,-3.925347874308847,0.6997032277001042,-6.045650584064167,1.7621301643569962,-0.17670240289103128,-4.413408890113059,-3.0427818993805515,-4.985371698755914,-2.7844000535160207,0.8253068937345273,-0.17347916383674855,0.6702562827448848,-0.9443494506879155,0.5724706450866932,0.5381683017988429,0.17754166077563968,0.4704121309433134,-0.24921833758831569,-0.41896387509769734,0.15027234992677313,-0.4839264423797464,-0.08376916561381388,0.21366763882741124,-1.04002543133096,-0.20926362968290774,0.08593166553594461,-0.28146423927147424,0.03315790092678447,-0.0793530270785525,-0.23457459278387835,-0.8398421399102624,-0.42187494409663073,-0.5324592972531875,-0.07062368664791248,-0.7807414063970987,-1.5913483423730421,-4.145575811019937,-0.29615522337912487,-0.7875022473290477,0.23386911308245645,-0.19544762296405538,0.23613194694087528,-0.9630244184404253,0.36326046387070593,-0.5648900047071107,0.39822270289593664,-0.6533479737308303,0.19116931095813644,-0.5219456692726689,-0.3891084523224733,-0.9891809058628616,0.1828229938939561,-0.5473409907780539,0.2562308521576857,-0.5286412316845025,0.1019916953690446,-0.7706903588437422,-0.93336263729945,-0.9402805049667136,0.23850709471093756,-0.5340931281283141,-0.2251313248544415,-0.307125258964767,-4.800363508585424,-4.640961416549606,-0.4045903343672235,-0.7708706422404497,0.2523424175558173,-0.3343045776590598,-4.804331625948498,-2.3893327847737043,1.0070920452221521,0.20733082085590923,-4.173908942903965,-3.973421462995198,0.04450141943090362,-0.4753177803271276,-5.424979767430215,-7.365978708678733,0.6219739852245909,-0.13261770294961972,0.6121818794031951,-0.20758965276121202,-5.681109354665362,-5.36252055252449,-0.41470001053316524,-2.2238359437719115,-4.215839475324182,-5.376606082086039,0.8865680965453868,0.2301034829806881,-6.061571522251561,-5.357387492706493,-2.1370846243934567,-0.3997380098911227,-4.113642686921218,-4.423375554520233,-4.488736046408099,-4.71532676250865,0.7794662102571444,-0.15494348343183503,-5.622403426912415,-4.96365925553758,0.4734971601894019,0.26375019007814704,-3.85835325724191,-4.564031305025728,1.557405157633227,-0.24429630240792055,-2.5076868443855855,-2.948396992814947,0.7153043657868094,-0.2349251415530388,-3.2010580492905647,-2.6303235970378096,1.0943353420690227,1.0991430774097157,0.6817993576935011,-0.3141399557021614,1.0591207300465422,-0.1287997624118749,0.10741761142689955,0.32649251016929554,0.2534477173863842,0.5266488693572254,0.09261879356564573,-0.5229721167756064,0.7749646297638881,0.2888840291180819,0.7666360999658504,0.3036472839775256,-0.8941604980401843,-0.7258260798494199,0.21059123135155,-0.41718597919873546,0.5782388031957706,-0.0017273687495507023,0.8241933188583764,-0.15527694001404874,-0.4838485031602596,0.3506623790794094,0.20941608824122296,-0.5032394899869835,0.4527854712322579,-0.18430439273088747,0.6882141878405366,0.33716396430610573,0.2048854255282869,-0.6758914352845106,0.05947116313181728,-1.2077858095110836,0.5867634888344364,-0.30144753105963507,0.32173417418898836,-0.6889465465676936,0.14714659192718024,-0.521918661140729,0.360371015404115,-0.4656993162652602,0.36710722869935064,-0.5272311503358218,-0.9533693904915441,-0.9070075751692422,0.5793778349999205,0.6127075576273255,0.3427951017701633,-0.21265165645787032,-0.21138893413075427,-0.48944631719565024,-2.194392388731875,-2.8360361138199006,1.6076446831218798,0.8113469641927022,11.719010617323908,8.090601525410408,-5.09719972420161,-5.003501237083981,10.640303462148033,7.557499608675304,7.690957807702799,1.767085234772142,1.2377693280721327,-0.4960816216402667,-2.0009248196379743,-3.3947087538761416,2.5620829354776045,0.8650145181367973,1.0947074798261553,-1.1084754708235791,-0.0018974756982666466,-0.6252949732283996,-3.2697795995318204,-3.651915368945774,1.5012599663446202,0.9706567874146003,-6.185603258114411,-5.2388647928794425,-6.8004437255637855,-6.2720623847192405,0.9571118729938588,-0.44931667598837544,-5.814135630603285,-4.365434409235691,-1.6275574837677913,-2.12485619617799,-6.488472152441794,-4.157890447814864,-0.4018658894526079,-0.11978973007067707,-2.454620435713157,-6.022999223429814,0.4908338031376919,0.43405890007138914,1.6164710599435763,2.0187989789044383,9.218320102510777,5.790810216093936,13.481187114246886,8.002415703575332,-3.4429902094567084,1.749652682340717,13.497675969004446,8.587715009903729,14.092981498692705,8.427860828689765,12.93553129416374,8.297546535961558,12.830194448064722,7.778491682497372,12.854364870786666,7.425042317856038,1.731198036210121,1.2151091575561537,1.5722510094929019,1.759281664088254,1.9455410615217616,1.6420871117417934,2.4695635467574233,0.7607865204511527,1.4678922541939767,0.21001890295170536,1.907009631344501,0.6773221735858612,0.4919850933107775,0.2451181865305192,1.1249404237568137,0.20658631737349462,1.3461817915601844,0.034393997679383864,0.560229142323805,-0.42006644162649404,1.15508813162727,0.19426208859684052,1.483954274065472,0.1900708790876831,1.4319031185199838,-0.4790384709016407,5.970664545120069,2.464132892458924,5.6349100326072685,2.9484760919823314,6.026892978323694,3.0524410031677958,5.091016119410061,2.82475572892643,1.367043724808692,3.501712928821354,1.1596265009873192,0.23205431146741443,6.255681427596859,1.9756207971751931,9.970078494170146,4.531586310985383,11.057726205831163,6.891768037109128,2.5313906473987027,0.10056130663699928,12.734530686281571,8.131990733551639,7.440424645318145,5.573880311457393,5.86934361761171,2.2616672030814353,9.282748419984266,4.516010118670416,2.5175017352702076,0.6363338041151048,10.306945400849491,5.4720499212706075,13.794378762873704,10.439052214627207,14.206099882804692,7.4762931250352604,-0.5160929113827025,3.257302031604515,4.8439045393043365,0.30937209619900025,2.357185539539058,2.47005102203256,9.099677304082254,6.09802780695464,13.399765918271346,10.379203119081918,-0.6995020594125393,5.5381464285253985,-0.10406463637743549,-0.46019498623217364,9.359273891712409,6.608669215493285,3.2161740039464997,1.8783091842661932,11.11483459658994,7.119958781181679,11.153256913429882,6.933388599882519,2.4258274048839183,0.4211827295110818,0.7606017389125332,-0.24608525801902842,-6.5093543661988456,-4.266881239091703,-0.08165880834795454,-0.16417908159453845,0.5768724435601473,-0.3502835330237511,2.7490419954243106,2.3155824324442285,0.19276776300843704,0.4545795279205361,0.04074255656388779,-0.37147185856027065,-0.7850532560543174,0.6458584989872121,-0.6693342666015828,0.05957941970558639,-0.2777898466905886,-0.8393948020189516,-1.6511010895321048,-0.8854377338433775,1.386235276065672,0.3995881164629473,1.9720228721652018,1.2973682839442688,1.483452174928372,0.3193783081367958,1.6612599789364209,-0.4246288041635283,0.7960404324756735,0.06808666489532163,0.8139311269405282,0.012326186441165817,1.4454598768407971,0.10471943569686151,1.1863741471233746,-0.16525370594035677,1.2583081669026497,-0.1565279581486162,1.685465391093519,0.2050893036102872,1.3519387148058448,0.44915017254698103,1.6151554779774566,0.16437607976991248,2.620932330120155,1.1800654792339378,2.0190206686864838,0.5210937548324039,1.398006168582037,0.20327670302187342,1.0994006782871097,0.13768062324448133,1.8012312486751256,0.5980303756918116,1.247927601131874,0.7738487903294824,1.8231197588192614,0.3054048634727506,1.1914386043418048,0.41339437754397673,-4.173996199640406,-1.0729623982886494,1.2601615626701492,0.8240931696458452,-2.9184648889147162,-4.519587248706144,-0.575773040008812,-0.7132945611265105,-4.77561247542593,-5.454106868032291,-0.7415971720337526,-2.1832746848661895,-3.6177342309632463,-4.781728740933255,0.35997775540032584,-1.0907525306330954,-4.537294275312718,-3.323394765313096,-6.542575857626721,-6.047555496935288,1.3596454292233935,-1.854203551297588,-5.696210260758031,-3.6368364977978884,-7.475473908992467,-10.228091129156878,-0.5435417208989668,-0.652946073522145,-4.432386941762872,-4.380478580151661,-2.6848216534695672,-2.636537090083374,3.2601994448341944,0.05528556882429543,-4.9603368759131765,-5.5595179105628425,-0.2935850796480923,-1.2496946469707304,-6.650628996181018,-5.169695559357928,1.4505857183752495,0.06911476386581987,-1.755101862379969,-2.10888747817379,1.0364777624596797,1.342966532176539,1.7644424987027578,-0.14167759375007596,-2.2800503229259004,-1.6634465989519336,1.8810351138360297,1.2223365035552622,2.1746033708386063,0.7199034284663282,1.675364197337822,0.6394513194369119,1.0798421353320902,0.32376477872253295,1.8121414692347928,1.6913211371429921,1.4542294810021492,-0.08225637101573133,0.7873619366671707,1.188663991065746,1.7651689495868328,0.7670906149490504,2.2882675561959225,1.4839645687792347,1.5457458827445516,1.2227026533717307,1.6719930103012715,0.3355274318591342,0.4680465424967627,-0.054757306744172486,0.1762814029820509,-0.03560159395622798,1.243036350414127,0.20534362671801923,1.529428776639113,0.08792006660666116,1.9373100208505005,0.2957280670163009,1.9244335673120088,0.665444224977849,1.6756237674958452,0.4303561096220268,1.4287598615555792,0.44333401815079715,1.886446293796414,0.33457777169744435,1.890530035710331,0.16696751748176178,1.6035361524205776,0.3010080136326461,0.9984766492835839,0.0030144288770359733,1.1185918647273585,0.82926727536637,1.548498013891508,0.5722385007574512,1.1863456062740707,0.7200658435034397,1.8091106255229703,0.48983712400577784,-3.411624499192161,-4.851409837048754,1.3730410344625308,0.6407016715586695,-1.4526521989188053,-3.544689084615206,1.6884234872915131,0.8924506635770271,-3.5742555534559965,-4.22384738411324,1.9954117146916768,1.1113186415054552,-5.219477691058912,-6.685387770793362,2.032296966775144,1.3797133303873845,-4.239654243485495,-3.5372492184306576,-3.365739722678618,-2.6198198378036497,1.462368862907658,-2.6503624752651658,-3.954376132077578,-5.995559183390167,2.091034654479965,0.7143320997540861,-4.06193935661615,-3.1966066606949184,-5.575877291898727,-4.90106582894084,2.504755228563879,2.1037668238925797,-4.831174559353785,-4.90815416269722,1.2497577631535626,0.5681972941999128,-3.6376918540516843,-3.882509018087162,2.324290337137058,0.435318978216728,-1.962434451009751,-5.0632548712858965,2.297629924031088,2.6008715659237573,-3.5227360876571487,-1.0965806452754148,-3.68346972428711,-4.036274189133583,2.1177030651438327,0.9940721202909059,3.7647224339495184,2.6353569027046877,2.4646826592184117,2.077340477436069,1.71764987161391,2.1066950592159923,2.181571577135224,-0.30339960881642825,2.026878823662378,0.5242809023594176,1.1574738108048055,1.441075530427272,-7.122643585463739,0.23079737735442638,1.3189851322782744,1.7106674894988647,2.0835695339225357,0.5183868358836798,1.4067050844393216,1.0502565013212892,1.057129041664076,-0.12404994147978662,-0.34711545956598566,0.4190414286929389,-2.2768660911437806,-0.16606323169101045,0.9691715038876505,0.260326471871868,1.3861545835095495,0.9726243793310342,1.3907828434890925,0.8724916984000239,1.6646674767752319,0.41861164985187493,2.0333177854770046,0.3193587397820701,2.0750206091317582,0.3294813165973888,1.7226177182758426,0.03648318704808645,2.0596230336843186,0.33252374665766987,1.9519060498474223,0.7863903003143741,1.5294792084290962,-0.06340969788211635,1.465694267595086,0.24995277843952615,1.0892650536609143,0.1263768252161058,-2.8717610157265674,-2.43360171763336,1.926241966373471,1.7462287075261944,1.167141795526324,0.8605331424923709,-4.541475883036506,-3.0070624418600382,2.6550937315510446,1.0612106107188652,-2.3084154079642105,-2.4671501254707753,-2.797357677581231,-1.3341634947834973,2.4270593477786506,1.0444962667649356,-3.963010011316875,-5.01139045717906,2.1701749352754343,0.9598710917513794,2.8669287990447008,3.6113754317505506,-4.671516251674002,-4.3439673506941565,1.7704464033303733,-2.182014895449212,-4.176027156011469,-6.199807174659688,1.7045666909184138,0.5135887226123294,-3.0793956903782127,-2.6441816351467584,-2.2705154979439865,-3.6770304246129477,1.70571644924373,-2.825950487392001,-2.946713048560986,-2.724921471710608,1.1611862350295412,-0.3697033437407702,-5.788902570194579,-2.5012247105259355,2.0223767161370123,1.4619026048408579,-2.216816755981279,-4.3342040818833025,3.2555151673531357,2.5442229194999526,-1.1946599030261813,-2.6876809904051755,2.7298329402971664,2.026816665027022,2.2885516928758087,2.4295210518290706,2.649740898484238,3.191316796881579,2.7827392550906787,1.809743076176736,2.6396262087086884,1.7338269383200786,3.058832458228017,0.12737585432036133,2.9263327042205325,1.1018935618214958,2.4303061351009285,2.002316491152527,1.6395421056559378,1.795267501922939,1.4641786474752179,1.1243846310566092,2.9932366284746403,2.5530028738459962,1.6282633146252663,1.1940357432239688,1.8184135588325463,1.8890912054103903,1.0802498531137812,-0.09013032012832468,0.6379317625796542,-1.8838031347727417,1.7014461963478817,0.9172774974986143,1.565299525993933,0.5065932958502241,2.3815786597491275,0.9230839725026302,2.3131831861060888,0.5406591100952965,2.1585984724543312,0.5865532116245153,1.6742914390350634,0.771280817038695,1.9055210945027699,0.7715429032799155,2.312065878414616,1.1172327940162534,2.3976844322166397,1.0198949435641607,2.579176360406054,0.6248129912688024,-1.4778318444651222,-0.3741409452780717,2.1159271721764714,2.1098300081494763,1.6827973281224635,0.8913655118418329,-4.5689421293266825,-2.6447286727222465,1.4707015635103062,1.202465189612514,-2.787348438149898,-3.325747572771171,2.2906384452317674,1.2826627050412363,-2.2568848137632322,-3.921643329535381,2.3871905156150723,1.647739920884212,-2.852910961959443,-4.35190586828109,2.118598598682994,0.5292817155685158,2.6401766735402874,1.4736830955781923,-1.380930085498579,1.247379943445474,-2.9487209292781627,-2.910615707151277,0.9660130336891901,-3.0069875605277496,-3.60702214422102,-4.669333218071855,2.4947364357584942,1.1957420737923243,-2.0352675383038403,-2.3245711130875315,2.923619648634374,-0.38633332384791963,-3.3291765329076766,-4.114891977798815,4.063338734707738,2.943117615543285,-5.579712082793044,-5.079134619176964,3.4122459632578193,1.766103650552408,-1.2249631369883927,-1.8057636356824278,-0.040920727537862356,-4.235104364312824,-4.756139682583905,-0.15989588317466766,-0.1396475788529947,-1.3070382818803072,-4.546971560519808,-2.3330852217992617,2.4713542871411924,1.047737778799562,4.118864747654494,3.2100386455063603,0.24722429104537497,-0.5166841428731562,2.5473728051412174,1.4546989969221824,3.4861404888129672,2.374063285288106,2.792654194594057,1.6069797109415638,3.0789151370211805,2.273069762536291,1.8355254395473275,1.1173374839723655,2.1096996652652713,2.526755475629273,4.07734908808776,3.0145426448970176,1.9619737971483675,1.3541302380848679,2.4609619218780634,2.123872481514925,2.353208279163974,1.2272450526828382,1.0748475815361849,0.07816661442339932,1.8293014708767612,0.8958003907953093,2.35069927964447,0.5873911573357966,2.342353907123451,0.48192073518987366,2.181408310477395,0.710538397996113,2.3568482193582807,0.7784788646456805,2.908679131396061,0.9689567535802802,8.143386578506787,6.536926668059002,6.653174175416426,4.402598468307089,1.0819275321631012,0.13711889604136715,0.5071501107944663,-0.3851776766638095,-1.303671749586955,-0.7786573445935799,2.1396768913310025,0.7460880052146887,2.2844862810606124,1.0166960584260025,2.6870265309951797,2.4890924307777094,-1.5748432592228345,-3.0124988361349194,2.769374082152873,1.608202451458694,1.0725562699287372,0.06748102867028405,-4.21803066908015,-4.643122372264065,2.290944550876901,1.325753477560635,-1.772230084150238,-1.3608892731738624,3.222527634099774,1.608573840970567,2.1019529812346316,-1.1604408684863483,0.2180330633886834,0.023024604012446652,4.929972547932593,3.9556654499082615,-2.19363634119712,-2.490213766618706,4.056082936731336,-0.8080666812626431,-1.83129395164185,-1.921678819377253,0.09468244726583336,-1.7727704283543788,-0.6246187253068156,5.323859594843958,6.293459855629764,5.2381585559881,0.01708517810395275,-1.3055197387626298,3.720603687307077,1.7015908923078944,-2.5331301437288136,-1.4758247238950528,4.585638319743405,3.1359471790553144,-0.777946582421428,-1.2923336659563092,0.8193288575728715,0.9061867921605926,6.216120931189004,4.238437767101339,0.8280500762181386,-1.0602971848407605,5.9611344983892245,3.6502289076616456,3.9427432589352738,3.8123236903130566,5.247669998527261,5.337753413864188,4.922652047016716,2.247967508242968,3.6198176426982855,1.4355657110049231,3.356788828456254,2.2600490470945886,3.698554425284818,2.66277962578061,3.1771319605147528,2.3093035633257495,0.5889777165560424,1.1946002716547808,3.3239129560572898,1.7078272652312632,3.497459526692715,1.3805207654276819,2.1150295347434924,1.0872342905364707,2.958843420118047,1.524372718200922,2.104027188977209,1.514522211345588,2.1084803354943698,0.6629571150143952,3.2669624985815564,1.5002108794041562,2.929623141824263,1.3050280207024716,2.911180996772859,1.043288967956917,2.9305118143008984,1.267539189333999,3.3658817283550695,1.3540084209056371,3.093788784952136,1.324213200555684,3.2059165428613854,1.2550366273367382,4.43987951754143,1.3606371500770826,2.886627888059712,1.617866931380654,2.435639395526494,-0.31909330887309234,3.497655693119592,1.3819778280424777,2.8507532147584813,2.625395624995303,0.5799224381889209,-0.22232162348879478,4.849096440265654,2.3893142938242984,-1.4977897200355117,-1.0585294142483224,4.590457363254871,2.8359420684785306,0.37771799915532384,-0.2954737260689119,3.936855198875699,1.578577098049317,0.765320086527066,-1.1759427586269882,3.674311233821558,1.7361686464817878,5.2056549444564535,2.990877900532413,-0.33435135957213075,-1.91200396841829,5.603016956050708,3.527218283949609,-3.922522867866712,-4.171939610729048,-6.779079086169687,-3.992462722746169,1.7112679086183626,1.8792708537731098,-3.3500143791575465,-3.0429396835035507,-0.42472571856545227,2.805704292682431,-3.7862305400804668,-2.9522021387935715,4.821979598196229,3.141943029306479,-3.5432934281365385,-4.039895245373058,2.3618840580912592,1.4981278789237906,-4.329011084622676,-3.0429556093258427,3.821189013735623,3.166062570874773,-0.8483049527355861,-0.43873433753773944,0.6865718471217707,1.6832480929374525,-1.3593166797893566,-2.0542225985076574,3.899247128328601,2.9318411150810912,4.526158508444055,2.407718911579014,3.7662344318384657,3.3972197477486388,3.129012619687657,2.9630958052101843,3.371251136294898,1.2589666677444387,3.821637102161979,2.613570082258662,2.5695996646064776,1.8408555514140617,2.251823394117306,1.857086378989443,1.3293950724154338,1.874048886520631,3.2631901238387795,1.4716959698421244,4.1909942957141295,1.773226654996488,3.188565613738375,2.211522772809162,2.5857401880952975,2.107304630868762,1.6154877782350867,0.8869999195269345,1.6098501375882808,0.7276810210127526,2.056832618354543,1.111143767647081,6.720522753548214,4.580128402587616,7.885279734248162,1.926917560284463,5.777621886578308,1.3869627408093699,10.823827551970087,2.7736665790345314,8.467235315847638,2.43724862174303,9.167687349997795,1.9083012125343233,3.598120954615785,0.764013908759844,3.863431924256524,1.8774469975673447,1.6754315380782647,0.5165178477073188,3.9675230766354663,1.7943105795787893,4.062548284737342,2.6067082901605265,3.422135351618204,-3.883547003059593,2.5327168782598966,1.0206177462814388,-2.0917451256712467,-1.8581296387144166,3.706776398808338,2.6850968525931393,-0.9203670135369764,-3.0223191639585534,2.4375514447487046,0.9032541101592139,-2.395916294289383,-2.4735220457207916,4.3533561147091895,1.3433243616002208,-1.1158032657491317,-3.2800234799831536,2.756466922027675,0.8554565591812704,0.2714865084594595,0.3184332860945431,2.373784154915811,1.695894582280069,4.1557460970756175,-1.2643421587475427,0.07720641460177184,-0.12469475399757625,-0.6032870934621157,-0.5665319266599609,2.0114882490325425,3.2538625975572493,-3.2273761300951094,-4.407148892811695,5.701377951707799,4.573494044990146,-5.8947488457393264,-3.757386676989877,2.864323910212112,2.5813342822534446,-2.7286130482532673,-2.9355743232609277,-2.8132779254609717,0.5714661260021542,-0.7245129222249242,-4.0658009584389445,2.9738947778123954,3.796639212448795,-2.905902816041974,-2.514988845982306,-2.5087455670791257,-3.3839100369779076,3.897732543890709,3.2378079922502505,3.9753564996225528,4.396278716578907,3.231129807899264,2.0740826374223493,4.417015250289265,2.0621985993960408,2.6198421106548984,2.6334679927028732,4.2095264230963085,2.865444360441511,4.091235485352449,2.5385799643798883,1.7554699783840138,2.5089626903836124,4.188224739985205,2.1545377847825558,5.413836381937774,3.750393256324208,4.579706998244616,3.3444176403909176,3.4399306949668027,2.318078232236343,1.8259389613382073,1.3238818248813857,2.238401461187177,2.173355930523387,3.177320668468821,1.0809672668984012,3.1304930821867756,0.541654422593114,3.7948912853895473,1.547541231683641,3.9599544191504035,1.4996749131474651,3.820683171218758,1.529781814442337,2.8763223665235436,1.4051193481025577,4.253424337512268,0.6582698618655535,4.312195102145792,2.2465826823260118,3.831633045583732,2.3967522757592223,2.760623409408339,1.1612024685963478,4.056713081754641,2.234643423416244,3.6362004641391366,1.8117795657417377,2.8804874936294538,2.854831661079587,3.5637594409211424,1.73375373427692,-1.048758347933244,-2.6386174207123876,2.8306234702298614,2.592433846813868,1.9143710281500947,-1.9418775998545026,-0.9452754867058389,-2.558849118329969,-1.8634379397439462,-3.735398826316003,4.28648355496647,2.825660316480729,1.0090613435732574,-3.8044057204077006,-0.40226415207705213,-1.4274778097639231,5.337390440607048,3.612671789315075,-5.3543439081278175,-6.52144285857195,-2.9644368767237026,-3.264407631799166,4.656310732345823,2.4766244119367173,6.0023392422003425,4.08835794257916,-2.011871934845531,-1.7299345897911196,2.7766682565386698,2.8495988569317277,-0.061171823800901325,-0.5684037077197284,1.429125538636225,0.12503749491316157,-3.8183726725061073,-3.9445889598976605],\"xaxis\":\"x3\",\"y\":[2.425,1.467,2.477,1.556,2.432,1.787,2.445,1.595,2.346,1.771,2.763,1.716,3.0,1.926,4.564,2.351,2.695,1.712,2.812,1.849,3.189,2.008,2.51,1.456,2.995,1.977,2.973,2.273,2.968,1.997,2.889,1.991,3.364,2.334,2.492,1.896,2.869,2.104,3.539,2.498,3.292,2.436,3.273,2.725,3.378,2.313,3.042,2.511,3.5,2.784,3.079,2.259,3.305,2.423,3.124,2.334,2.91,2.528,2.97,2.666,2.629,2.517,3.03,2.227,3.076,2.137,2.598,1.554,2.611,1.637,2.824,2.022,3.366,2.871,2.895,2.369,3.583,2.574,2.682,1.992,2.874,2.173,3.057,2.067,4.465,1.968,2.46,1.771,3.09,2.279,3.067,2.025,3.023,1.848,2.503,1.512,1.934,1.245,2.293,1.403,2.523,1.453,2.25,1.453,2.753,1.716,2.469,1.452,2.764,1.588,2.565,1.738,2.639,1.92,2.417,1.569,2.357,1.601,3.901,2.031,2.829,1.83,2.324,1.259,2.931,1.697,2.915,1.893,2.583,1.83,2.515,1.851,2.821,1.936,2.129,1.716,3.354,2.35,2.495,1.773,2.996,1.932,2.844,2.241,2.837,2.106,3.022,2.552,3.127,2.486,2.778,2.228,3.06,2.41,3.167,2.379,3.05,2.56,2.958,2.328,3.108,2.9,3.264,3.468,3.15,2.654,2.978,2.568,2.917,2.194,3.092,2.138,3.015,2.408,3.043,2.242,3.107,2.531,3.241,3.322,3.329,2.456,3.185,2.603,3.085,2.274,3.23,2.366,3.168,2.018,3.949,1.991,2.462,1.735,3.271,2.265,3.327,2.412,2.977,1.896,2.352,1.791,2.183,1.516,2.267,1.531,2.333,1.678,2.28,1.545,2.411,1.738,2.397,1.595,2.473,1.703,2.517,1.679,2.764,1.986,2.642,1.801,4.34,2.994,2.789,2.129,2.649,1.818,2.72,1.893,2.964,2.171,2.23,1.607,2.829,2.353,2.845,2.095,2.636,2.028,3.321,2.422,2.871,2.13,2.962,2.2,3.103,2.389,3.303,2.597,3.376,2.675,3.556,2.972,2.912,2.721,3.385,2.842,3.23,2.634,3.38,2.609,4.635,3.145,3.532,2.78,3.618,3.316,3.305,2.54,3.138,2.104,3.347,2.496,3.379,2.427,3.376,2.633,3.053,2.481,3.125,2.374,4.22,3.592,3.953,3.043,3.555,2.768,2.917,2.309,3.11,2.493,3.216,2.488,4.166,1.946,2.838,2.318,3.525,2.394,3.086,2.127,2.889,2.212,2.328,1.566,2.114,1.523,2.347,1.651,2.596,1.715,2.433,1.652,2.182,1.537,2.497,1.718,2.534,1.825,2.925,2.394,3.084,2.208,2.748,1.592,3.847,2.114,3.07,2.087,3.109,2.201,3.236,2.204,2.35,1.611,3.057,2.464,2.804,2.295,2.708,2.154,3.0,2.206,3.059,2.443,3.087,2.4,3.05,2.061,3.128,2.464,3.72,2.834,3.287,2.513,3.297,2.669,3.739,2.648,3.064,2.448,3.706,3.303,3.257,2.893,3.639,3.101,3.339,2.821,3.183,2.846,3.643,3.421,2.918,3.0,3.264,2.542,3.48,2.922,3.426,2.702,3.129,2.818,3.444,2.754,3.929,4.023,3.367,2.862,3.357,2.958,3.256,2.433,3.401,2.617,3.329,2.826,4.419,2.501,2.482,2.251,3.475,2.783,3.321,2.425,3.131,1.876,0.619,1.272,1.892,1.724,2.456,1.7,2.283,1.609,2.786,1.999,2.627,1.792,3.177,1.948,3.165,2.163,3.086,2.017,3.051,2.371,3.069,2.447,3.49,2.49,3.197,2.429,2.719,1.939,3.32,2.578,3.51,2.834,3.553,2.753,2.822,2.468,3.429,2.555,3.097,2.831,3.43,2.432,3.816,2.82,3.819,3.027,3.292,2.886,4.227,3.408,3.886,3.04,4.071,3.661,4.044,5.39,3.519,2.969,4.229,3.469,3.86,3.181,4.021,3.311,4.014,3.332,3.639,3.103,4.14,3.885,4.003,3.287,3.785,3.368,3.697,2.955,4.04,3.287,4.009,3.266,3.969,3.095,3.954,4.625,4.458,3.545,4.338,3.159,3.986,3.207,3.588,3.04,3.806,3.246,5.13,2.803,3.635,2.672,4.112,2.803,3.851,2.809,3.645,2.504,1.919,0.941,2.726,2.26,2.981,2.316,3.291,2.263,3.164,2.213,3.359,2.481,3.142,2.296,3.488,2.699,2.779,2.215,3.219,2.511,3.517,2.667,5.007,2.873,4.424,2.952,3.849,3.102,4.162,2.973,3.738,3.026,3.554,2.175,4.148,3.088,3.775,2.755,4.299,3.451,3.729,3.124,4.275,3.194,4.389,3.231,4.187,3.302,3.709,3.37,4.176,3.238,3.999,3.395,4.331,3.551,4.105,3.379,4.556,3.676,4.842,3.812,4.829,3.848,5.447,4.341,4.246,3.512,4.447,4.318,3.933,3.346,4.256,3.498,4.245,2.991,4.798,3.495,3.612,3.166,4.669,3.719,4.541,3.687,5.11,3.382,5.335,5.215,4.1,3.396,4.127,3.495,4.265,3.124,6.146,3.511,4.566,3.239,4.367,2.813,4.563,3.268,4.955,3.375,3.395,1.957,3.68,2.566,3.576,2.611,3.541,2.262,3.564,2.613,3.505,2.219,2.711,1.722,3.155,2.368,3.428,2.341,3.423,2.407,3.589,2.6,4.118,2.796,6.269,3.229,3.919,3.266,3.752,3.026,3.171,2.339,4.427,3.224,5.186,4.02,6.2,4.968,4.707,3.542,6.67,4.751,8.161,4.777,4.579,3.765,4.854,3.474,5.086,4.157,5.829,4.82,4.507,3.764,5.356,4.429,4.749,3.575,4.278,2.761,3.408,2.381,5.033,3.822,5.119,3.904,3.279,2.356,4.518,3.426,3.259,2.59,5.29,4.252,3.326,2.946,4.41,3.535,6.387,5.234,6.603,5.031,5.751,5.764,6.643,4.883,7.763,5.771,6.771,5.118,6.479,5.023,7.426,5.067,6.14,3.254,4.405,2.931,4.371,3.01,4.838,3.226,4.638,3.016,4.395,2.331,3.784,3.315,3.381,2.688,3.762,2.501,2.721,1.971,3.517,2.802,4.592,2.59,4.027,2.163,4.828,3.377,5.076,3.637,4.544,3.494,4.415,3.508,6.121,3.84,3.643,2.547,4.811,2.99,7.109,5.034,6.048,4.518,5.798,4.573,7.139,5.347,6.14,4.952,4.681,2.82,7.805,5.36,5.907,4.535,8.127,5.84,7.713,5.526,7.483,5.349,6.061,5.346,6.288,4.901,5.184,4.527,7.504,6.543,7.574,6.522,6.502,6.603,7.375,5.627,9.022,6.868,6.716,5.579,8.577,6.565,8.218,6.787,4.343,3.148,3.348,2.453,4.059,3.138,3.844,2.836,4.475,2.932,5.958,6.358,4.364,3.236,3.964,2.843,3.373,2.803,3.754,2.799,2.705,1.545,3.3,1.545,4.652,2.92,5.096,3.349,4.989,3.718,4.717,2.277,3.089,2.709,3.606,2.559,3.682,2.48,3.393,2.411,3.587,2.672,3.749,2.526,4.755,2.957,4.651,3.344,4.144,3.138,4.296,2.974,4.111,2.818,6.917,4.007,5.131,3.572,4.129,3.371,5.188,3.104,4.461,3.174,5.179,3.491,4.504,3.419,3.571,2.351,2.381,1.739,3.171,1.951,2.596,1.85,3.002,2.229,2.548,1.849,5.745,5.584,2.901,2.038,5.997,5.352,5.198,5.1,3.244,2.601,3.88,2.566,5.942,5.155,2.644,1.787,6.49,5.155,6.688,5.479,2.952,1.857,2.273,1.772,5.532,4.529,7.805,6.524,6.52,5.187,7.764,5.116,6.858,5.338,6.219,6.289,8.366,6.094,7.161,5.289,6.081,4.934,8.261,5.48,6.074,4.344,7.991,4.481,5.353,3.496,9.268,6.212,8.729,5.535,5.422,4.195,2.871,2.664,3.375,2.547,3.831,2.57,4.152,2.967,4.407,3.0,4.545,3.108,4.247,2.943,4.905,3.93,4.746,3.153,4.773,3.486,5.15,3.521,6.208,3.814,4.291,3.59,5.077,3.578,4.549,3.543,6.015,3.926,5.706,4.52,5.092,3.696,8.372,4.862,4.87,4.135,5.615,4.673,5.681,4.704,6.241,5.064,5.131,4.386,5.621,4.909,7.194,5.122,6.183,5.27,5.865,5.722,6.12,5.155,8.26,6.602,6.007,5.577,6.701,5.427,7.528,5.862,6.174,5.675,6.487,5.334,6.194,5.051,6.179,5.344,5.433,4.994,5.534,5.073,5.965,4.955,5.398,4.753,7.334,7.844,6.946,5.395,5.898,5.06,6.187,4.335,5.907,4.605,5.912,4.432,7.738,4.122,4.96,3.552,6.106,4.318,5.393,3.446,4.997,3.63,1.303,2.218,3.339,2.637,3.962,2.758,4.255,3.174,4.023,3.02,4.703,3.14,4.569,3.033,5.18,3.883,5.203,3.408,5.646,3.644,4.521,3.517,7.69,4.182,5.696,3.629,4.652,3.763,5.486,4.042,6.575,4.56,4.905,4.231,5.031,3.735,6.299,4.83,5.483,4.514,4.994,4.034,5.684,4.994,5.264,4.116,6.372,4.93,6.04,5.544,6.662,5.674,6.909,6.409,6.404,5.5735,6.626,5.168,7.252,6.174,6.957,5.913,7.049,5.549,7.567,5.962,6.258,5.414,6.378,6.8,6.94,5.371,6.109,6.033,6.557,5.122,6.546,4.768,5.976,4.657,6.276,4.957,7.382,8.078,6.999,5.331,6.887,5.457,6.364,4.638,6.896,4.978,6.238,4.994,8.564,4.614,4.83,3.507,7.243,5.215,6.189,5.199,6.063,4.828,3.22,1.474,4.73,3.876,5.112,4.238,4.4,3.283,4.791,3.647,5.14,3.44,4.773,3.341,4.555,3.735,5.625,4.298,5.31,4.002,5.183,4.117,5.995,4.49,14.184,6.02,5.748,4.644,5.772,4.28,5.101,4.071,6.376,4.778,6.703,5.058,5.503,4.8,6.614,5.016,6.569,5.325,6.234,5.337,6.686,5.564,7.493,5.749,7.384,6.301,7.978,6.421,7.079,6.026,7.363,5.928,6.079,5.443,7.457,6.443,8.103,6.102,7.746,6.303,7.267,6.379,7.803,6.603,7.592,6.551,8.218,5.822,6.774,6.101,5.93,4.567,7.287,5.646,5.575,4.864,6.449,5.304,7.005,7.753,5.114,4.413,7.174,5.731,7.469,5.814,7.39,5.86,6.687,5.168,10.384,5.215,5.519,4.399,7.944,6.214,7.595,4.968,6.14,5.194,5.557,4.16,4.625,3.962,4.478,3.512,4.856,3.343,5.415,3.43,4.925,3.326,4.405,3.117,5.465,3.742,5.732,4.563,5.934,4.661,5.312,4.044,5.484,3.968,10.652,5.404,5.506,4.241,5.485,3.973,6.137,4.946,6.249,5.359,6.013,4.98,6.661,4.96,5.328,4.756,5.69,4.662,6.643,6.074,5.75,5.293,6.232,4.726,6.951,6.007,6.561,5.982,6.733,5.828,7.508,7.238,6.582,5.962,8.131,6.36,8.133,7.258,7.41,6.048,7.939,6.569,7.631,6.319,7.66,6.722,7.026,6.003,6.695,6.373,6.887,5.67,6.809,5.431,7.197,5.716,7.351,6.179,6.236,5.678,7.954,8.823,7.366,5.951,6.551,5.85,6.105,5.403,6.492,5.181,6.117,4.653,6.138,3.947,6.098,4.22,6.129,4.797,6.784,4.773,6.063,4.996,5.386,3.783,5.186,3.428,6.469,5.186,6.555,5.172,5.537,3.762,4.871,3.637,5.205,3.767,5.665,4.266,5.446,4.24,5.142,3.942,5.842,4.342,12.487,4.798,5.404,3.976,5.621,4.794,5.917,4.525,6.023,3.954,5.531,4.374,5.713,4.429,6.346,4.872,5.828,4.551,6.401,5.634,6.728,5.869,6.484,4.561,6.463,5.211,7.519,6.118,6.739,6.176,6.773,6.246,6.084,5.548,6.43,5.881,7.708,6.675,7.518,5.829,7.621,5.933,6.363,5.525,7.479,6.051,5.746,5.205,6.949,6.387,6.98,5.734,6.775,5.744,6.625,5.659,6.888,5.701,8.405,5.446,7.316,8.458,7.424,6.109,6.726,5.689,6.128,8.697,6.736,5.852,5.902,4.77,8.592,4.861,6.986,4.801,7.803,5.62,7.515,5.951,6.392,5.009,4.491,3.951,4.309,3.34,4.148,3.468,6.633,5.15,6.4,3.919,5.916,3.474,6.675,4.468,5.414,4.056,5.914,4.212,5.304,4.26,5.983,4.737,13.453,6.174,6.221,4.545,5.865,4.69,5.811,4.568,7.369,5.316,7.756,5.959,7.135,6.097,8.287,6.238,6.833,4.937,7.719,6.021,7.997,5.853,6.369,5.269,8.023,5.842,7.652,6.655,7.297,6.36,8.359,7.118,7.834,6.633,8.131,7.116,8.334,7.526,8.912,7.228,8.639,7.323,8.657,6.559,7.762,7.11,8.601,6.668,7.679,6.721,7.289,6.938,7.77,6.517,8.511,7.254,8.384,7.018,6.94,5.817,8.084,9.531,8.554,7.015,8.246,6.157,5.506,6.039,7.394,6.283,7.001,6.047,6.798,4.894,5.911,4.562,8.321,6.562,7.832,5.299,6.374,5.308,3.598,3.666,4.749,3.599,4.775,3.265,5.08,2.981,5.386,3.745,5.498,4.058,5.209,3.791,4.681,3.973,6.987,4.518,6.028,4.643,5.312,4.656,12.399,4.727,6.273,4.868,6.041,4.694,5.711,4.76,6.101,4.75,6.829,5.568,6.108,5.481,5.417,4.937,6.495,5.418,6.26,5.681,6.971,5.823,7.587,6.651,6.215,5.589,8.046,7.003,6.92,5.482,6.173,5.065,6.617,5.741,7.641,6.144,7.903,6.398,7.22,5.67,8.074,7.037,6.155,5.287,6.763,6.383,6.225,6.619,6.269,5.627],\"yaxis\":\"y3\",\"type\":\"scattergl\"},{\"hovertemplate\":\"<b>OLS trendline</b><br>y = 0.181184 * Component3 + 4.40213<br>R<sup>2</sup>=0.095708<br><br>Component3=%{x}<br>y=%{y} <b>(trend)</b><extra></extra>\",\"legendgroup\":\"\",\"marker\":{\"color\":\"black\",\"symbol\":\"circle\"},\"mode\":\"lines\",\"name\":\"\",\"showlegend\":false,\"x\":[-10.228091129156878,-8.268568841651286,-7.573129131043041,-7.475473908992467,-7.365978708678733,-7.189309163329123,-7.122643585463739,-7.010548474027569,-7.009550000029484,-6.990306807172665,-6.952129219561748,-6.812998465665159,-6.8004437255637855,-6.78569923467239,-6.779079086169687,-6.685387770793362,-6.650628996181018,-6.612948589656702,-6.561090913285129,-6.542575857626721,-6.52144285857195,-6.5093543661988456,-6.488472152441794,-6.452304114914938,-6.397037193942401,-6.292856207321222,-6.2720623847192405,-6.228432953829468,-6.199807174659688,-6.185603258114411,-6.139867197640588,-6.0840859930731135,-6.081320906035874,-6.0649041737302545,-6.061571522251561,-6.047555496935288,-6.045650584064167,-6.022999223429814,-5.995559183390167,-5.949794421122604,-5.8947488457393264,-5.8710354926314565,-5.816724181113219,-5.814135630603285,-5.788902570194579,-5.733407687366422,-5.730868116258875,-5.696210260758031,-5.681109354665362,-5.663784692155879,-5.6463296370612,-5.634203422614884,-5.631452227478531,-5.622403426912415,-5.616692732335948,-5.599464994633,-5.596333150514233,-5.579712082793044,-5.575877291898727,-5.5595179105628425,-5.498761739612269,-5.468703945363144,-5.4680863157816,-5.459023263123975,-5.454106868032291,-5.452536730737929,-5.424979767430215,-5.403910806982935,-5.401085324363385,-5.376606082086039,-5.368813916382067,-5.36252055252449,-5.357387492706493,-5.3543439081278175,-5.2545251888165225,-5.2388898854258885,-5.2388647928794425,-5.219477691058912,-5.169695559357928,-5.159261796088275,-5.127125172136392,-5.114915231077127,-5.09719972420161,-5.079426990384284,-5.079134619176964,-5.065661610019006,-5.0632548712858965,-5.061093840270999,-5.058626131600527,-5.043061959416633,-5.01139045717906,-5.003501237083981,-4.985371698755914,-4.96365925553758,-4.9603368759131765,-4.9601904857658194,-4.93371972286392,-4.928337071324166,-4.92328493373386,-4.918327683888793,-4.90815416269722,-4.90106582894084,-4.859497553825681,-4.853855254831107,-4.851409837048754,-4.840860328309712,-4.831737602217175,-4.831174559353785,-4.819423494603581,-4.812248584907467,-4.804331625948498,-4.800363508585424,-4.794179570110084,-4.781728740933255,-4.77561247542593,-4.771492551086036,-4.756139682583905,-4.754923293123873,-4.748068193702149,-4.7453563321587815,-4.73580336468026,-4.72911073279482,-4.7217652171434334,-4.71532676250865,-4.693321915236804,-4.671516251674002,-4.669333218071855,-4.643122372264065,-4.640961416549606,-4.638576266555386,-4.610972893963346,-4.608451551171692,-4.586973063254505,-4.586448473231461,-4.5689421293266825,-4.568223491912081,-4.566669782923391,-4.564031305025728,-4.546971560519808,-4.541475883036506,-4.538878809519897,-4.537294275312718,-4.52295466782535,-4.519587248706144,-4.519190861158944,-4.517844428789128,-4.488736046408099,-4.473391029250072,-4.46837469333725,-4.459256732785259,-4.432386941762872,-4.423375554520233,-4.413408890113059,-4.407148892811695,-4.3954086486050645,-4.394169137352569,-4.380478580151661,-4.365434409235691,-4.35190586828109,-4.3439673506941565,-4.3342040818833025,-4.329011084622676,-4.313619142571818,-4.303299253533389,-4.294273542306269,-4.281176679211262,-4.273743798864969,-4.266881239091703,-4.2633287168035086,-4.239654243485495,-4.235104364312824,-4.229862164901211,-4.22384738411324,-4.219912415774307,-4.21803066908015,-4.215839475324182,-4.196691944034211,-4.176027156011469,-4.173996199640406,-4.173908942903965,-4.173091261642826,-4.171939610729048,-4.157890447814864,-4.1553960858079115,-4.145575811019937,-4.114891977798815,-4.113642686921218,-4.0658009584389445,-4.06193935661615,-4.046703913244861,-4.039895245373058,-4.036274189133583,-4.011025593953475,-3.992462722746169,-3.973421462995198,-3.967217789999897,-3.963010011316875,-3.954376132077578,-3.9445889598976605,-3.925347874308847,-3.922522867866712,-3.921643329535381,-3.892390444683945,-3.883547003059593,-3.882509018087162,-3.85835325724191,-3.8183726725061073,-3.8044057204077006,-3.7928430990049002,-3.7862305400804668,-3.757386676989877,-3.7504884680523944,-3.7449901343429723,-3.735398826316003,-3.728736337806503,-3.68346972428711,-3.6770304246129477,-3.666521738409594,-3.656709672088513,-3.651915368945774,-3.6376918540516843,-3.6368364977978884,-3.6177342309632463,-3.60702214422102,-3.597066566878765,-3.5798567757785915,-3.5742555534559965,-3.5563378739527796,-3.544689084615206,-3.5432934281365385,-3.5372492184306576,-3.5227360876571487,-3.4693871249968278,-3.4488575608397287,-3.4429902094567084,-3.411624499192161,-3.3947087538761416,-3.3839100369779076,-3.365739722678618,-3.353732772029098,-3.3500143791575465,-3.3291765329076766,-3.325747572771171,-3.323394765313096,-3.2825155229052214,-3.2800234799831536,-3.2697795995318204,-3.264407631799166,-3.2273761300951094,-3.2198511209555174,-3.2010580492905647,-3.1966066606949184,-3.176183181042553,-3.171183420581726,-3.1706782409543135,-3.094257297887501,-3.0793956903782127,-3.0429556093258427,-3.0429396835035507,-3.0427818993805515,-3.0223191639585534,-3.0124988361349194,-3.0123793283313907,-3.0070624418600382,-3.0069875605277496,-2.9999051005314983,-2.9644368767237026,-2.9522021387935715,-2.9487209292781627,-2.948396992814947,-2.946713048560986,-2.9355743232609277,-2.918575314342129,-2.9184648889147162,-2.910615707151277,-2.905902816041974,-2.8717610157265674,-2.852910961959443,-2.8360361138199006,-2.825950487392001,-2.8132779254609717,-2.797357677581231,-2.787348438149898,-2.7844000535160207,-2.769373585196357,-2.739847233571677,-2.7286130482532673,-2.724921471710608,-2.6878532130773496,-2.6876809904051755,-2.6848216534695672,-2.6503624752651658,-2.6447286727222465,-2.6441816351467584,-2.6386174207123876,-2.636537090083374,-2.6303235970378096,-2.6198198378036497,-2.6182352529476147,-2.558849118329969,-2.5331301437288136,-2.529598211205576,-2.514988845982306,-2.5087455670791257,-2.5076868443855855,-2.5012247105259355,-2.490213766618706,-2.4781142251268165,-2.4735220457207916,-2.4671501254707753,-2.454620435713157,-2.43360171763336,-2.395916294289383,-2.3893327847737043,-2.3450203317688976,-2.3330852217992617,-2.3245711130875315,-2.3084154079642105,-2.2800503229259004,-2.2768660911437806,-2.2705154979439865,-2.2667197162954222,-2.2568848137632322,-2.2238359437719115,-2.220742304212425,-2.216816755981279,-2.194392388731875,-2.19363634119712,-2.1832746848661895,-2.182014895449212,-2.1370846243934567,-2.12485619617799,-2.10888747817379,-2.0917451256712467,-2.0832688027072113,-2.082820950306322,-2.0638543610389743,-2.0542225985076574,-2.0352675383038403,-2.027476774432672,-2.022629706578734,-2.011871934845531,-2.0009248196379743,-1.9934281297879768,-1.962434451009751,-1.9418775998545026,-1.921678819377253,-1.91200396841829,-1.8838031347727417,-1.8634379397439462,-1.8581296387144166,-1.854203551297588,-1.83129395164185,-1.8057636356824278,-1.7909467905300438,-1.7727704283543788,-1.772230084150238,-1.755101862379969,-1.752068337630724,-1.7491934919819712,-1.7299345897911196,-1.7151554103134907,-1.6672808675991506,-1.6654101138132633,-1.6634465989519336,-1.6511010895321048,-1.6275574837677913,-1.6268191984666425,-1.5992539427275347,-1.5913483423730421,-1.5748432592228345,-1.5655784299449145,-1.5370107531778565,-1.5335878453859035,-1.528441446530038,-1.5239121974990237,-1.5040272507203862,-1.4977897200355117,-1.4819134247957413,-1.4778318444651222,-1.4758247238950528,-1.4747840034702793,-1.4579796116297927,-1.4526521989188053,-1.4339986720027509,-1.4274778097639231,-1.41684896480886,-1.4151281686062975,-1.4054494046580384,-1.3998103404719104,-1.3826795703767378,-1.380930085498579,-1.3688755237534478,-1.36371131159791,-1.3608892731738624,-1.3593166797893566,-1.3520638464136754,-1.3341634947834973,-1.3323981724806098,-1.3248115072237296,-1.3195294068922505,-1.317336253785917,-1.3165485418460081,-1.315523735153999,-1.3070382818803072,-1.3055197387626298,-1.303671749586955,-1.3034604780133612,-1.2929478110789614,-1.2923336659563092,-1.2863316124679147,-1.273629518423231,-1.2667806938859945,-1.2643421587475427,-1.2643057415570453,-1.2608218820204053,-1.2496946469707304,-1.2444721585639271,-1.2407568731766123,-1.2404754292757587,-1.2303705636825883,-1.2277570956366581,-1.2274505011215129,-1.2255737290659583,-1.2253922365367207,-1.2249631369883927,-1.2145284949467394,-1.2089141451751617,-1.2078145409127568,-1.2077858095110836,-1.2069215179774648,-1.206798487857323,-1.2033989548965098,-1.1977879321116245,-1.1946599030261813,-1.1927397163158715,-1.1886749568285835,-1.1854505338725696,-1.1836748862104194,-1.1825699265115883,-1.178944154151843,-1.1759427586269882,-1.1750727121806368,-1.1704666903684282,-1.163649549808437,-1.1627567623062913,-1.1623733287181877,-1.1604408684863483,-1.15989509636548,-1.1585606175597556,-1.1583586522334866,-1.151031606884849,-1.1428748900877905,-1.1420136487038934,-1.1381074531685333,-1.1370754219487798,-1.131920838033381,-1.1309544353797993,-1.1303063412153904,-1.1197890238014714,-1.1162994277926013,-1.1158032657491317,-1.114900285249565,-1.1132863622416018,-1.110750758174861,-1.1084754708235791,-1.1041422828491623,-1.0969456430184694,-1.0965806452754148,-1.0907525306330954,-1.0873650103619426,-1.0849636596289287,-1.0782339655247586,-1.0729623982886494,-1.068256028015808,-1.0602971848407605,-1.0587337124762366,-1.0585294142483224,-1.051605295478143,-1.0490736149355653,-1.048758347933244,-1.0466109001367376,-1.0413541388462444,-1.04002543133096,-1.0389251147800629,-1.0316488619223791,-1.0266744904209,-1.0208623909689054,-1.0158941665282808,-1.0125470709253772,-1.0077086421468475,-1.0031705156392887,-1.0024196102860758,-0.9986497325921166,-0.9942006990693756,-0.9910839854245178,-0.9891809058628616,-0.9862893544211858,-0.9740777667843143,-0.9632316224402387,-0.9630244184404253,-0.9628529952143406,-0.9596005974695453,-0.9539713540348723,-0.9533693904915441,-0.9511657208098582,-0.9502373791281694,-0.9452754867058389,-0.9443494506879155,-0.9402805049667136,-0.93336263729945,-0.9316044347861179,-0.9289736268825468,-0.9283273695966329,-0.9263026861846928,-0.9229371940099304,-0.9203670135369764,-0.9177230079085335,-0.9144327854240054,-0.9138665710115669,-0.9128610039368266,-0.9115072788490853,-0.9076928543783451,-0.9070075751692422,-0.9008954584168204,-0.9006297446732034,-0.8959944238478309,-0.8952214665266971,-0.8952125232162873,-0.8941604980401843,-0.8905337798274053,-0.8854377338433775,-0.8832724051618874,-0.8824562322139294,-0.8761443885302074,-0.8754758875582634,-0.8742995731841416,-0.8571023790366065,-0.8560208434335551,-0.8557212996624557,-0.8503945916792408,-0.8483049527355861,-0.8476678984018747,-0.8398421399102624,-0.8395372971501931,-0.8393948020189516,-0.8381445183185455,-0.8343626558317648,-0.8316776217415504,-0.8250038314595723,-0.820012922131058,-0.8080666812626431,-0.8077670839205496,-0.7875022473290477,-0.7850532560543174,-0.7807414063970987,-0.7789102361233377,-0.7786573445935799,-0.777946582421428,-0.777004338676379,-0.7762628452180506,-0.7751115850401878,-0.7737961419257394,-0.7713134715223351,-0.7708706422404497,-0.7706903588437422,-0.7693429288748789,-0.7680824354642707,-0.76235021259834,-0.7537574932549326,-0.747017733783685,-0.7415971720337526,-0.7411436725093647,-0.7336783012903924,-0.7261107363403752,-0.7258260798494199,-0.7245129222249242,-0.7166850037977756,-0.7132945611265105,-0.6995020594125393,-0.6989788264642771,-0.6976251873025069,-0.689961707950193,-0.6889465465676936,-0.688156660719391,-0.6824949721964492,-0.6758914352845106,-0.6693342666015828,-0.6680337921176963,-0.6618294459963007,-0.6533479737308303,-0.652946073522145,-0.6493976978576156,-0.6492529971749104,-0.6486135056207797,-0.6438070976435657,-0.639724506278122,-0.6314575969918005,-0.6252949732283996,-0.6246187253068156,-0.6244616188498003,-0.6233596845599796,-0.6194666829376677,-0.6134950376907493,-0.6124441313084593,-0.6123439459525067,-0.6078561143599515,-0.6051386016359614,-0.6032870934621157,-0.6026253348719045,-0.5853198972614939,-0.5841283429786132,-0.5816403797016112,-0.5792576647770483,-0.578937732208994,-0.5772429322266359,-0.576243188952116,-0.575773040008812,-0.5751012810816984,-0.5684037077197284,-0.5665319266599609,-0.5654389160453347,-0.5648900047071107,-0.5607944120016187,-0.5569495139131868,-0.555485856086125,-0.5526660987101562,-0.5473409907780539,-0.5435417208989668,-0.5400677582966381,-0.5343605524712469,-0.5340931281283141,-0.5335482094082963,-0.5324592972531875,-0.5315542707151161,-0.5286412316845025,-0.5281600577698958,-0.5272311503358218,-0.5267573746359379,-0.5247680360578704,-0.5229721167756064,-0.5219456692726689,-0.521918661140729,-0.5166841428731562,-0.5160929113827025,-0.5128314359481272,-0.5084221971354905,-0.5048368232012395,-0.5032394899869835,-0.5018931791431452,-0.49953557062335274,-0.4960816216402667,-0.4909166251717271,-0.48944631719565024,-0.4839264423797464,-0.4838485031602596,-0.4790384709016407,-0.4780830078228556,-0.4753177803271276,-0.4748268232709592,-0.4656993162652602,-0.463332412414039,-0.46019498623217364,-0.4599966400443578,-0.44931667598837544,-0.4492671695347434,-0.44513786264060706,-0.44004499493809934,-0.43886637594690353,-0.43877214023445266,-0.43873433753773944,-0.43851745152607874,-0.43507437142388944,-0.42964342681536827,-0.42881394131876444,-0.4285411026409947,-0.42472571856545227,-0.4246288041635283,-0.4243448058619533,-0.423308121508987,-0.42187494409663073,-0.42012222755731377,-0.42006644162649404,-0.41955630614706974,-0.41896387509769734,-0.4176737800450412,-0.41718597919873546,-0.41470001053316524,-0.4125333063866572,-0.40675880701570216,-0.4045903343672235,-0.40226415207705213,-0.4018658894526079,-0.3997380098911227,-0.3907083360310755,-0.3891084523224733,-0.38633332384791963,-0.3851776766638095,-0.37934593254027027,-0.37746251075659926,-0.3762975535317049,-0.37544674098834263,-0.3741409452780717,-0.3740917637011481,-0.37147185856027065,-0.3711926534594674,-0.3697033437407702,-0.36920508342565606,-0.36754792823738985,-0.3628439234986114,-0.3554856401756405,-0.3502835330237511,-0.34711545956598566,-0.335891011475448,-0.334405389689448,-0.33435135957213075,-0.3343045776590598,-0.33219379086536127,-0.3215444657640574,-0.31909330887309234,-0.3171701674675894,-0.3151979466593599,-0.31434497720920246,-0.3141399557021614,-0.3118160660353613,-0.307125258964767,-0.30614225692922054,-0.3049571407335034,-0.30339960881642825,-0.3030904288335339,-0.30279772414480804,-0.30144753105963507,-0.2988718467458413,-0.29615522337912487,-0.2958477860083382,-0.2954737260689119,-0.29504909899029935,-0.2935850796480923,-0.287207470242123,-0.285639277481662,-0.28146423927147424,-0.2777898466905886,-0.2614907505624955,-0.25289628079725524,-0.24921833758831569,-0.24608525801902842,-0.24429630240792055,-0.2426467155197393,-0.23918256681550853,-0.2349251415530388,-0.23457459278387835,-0.2313554503744751,-0.22864224144297135,-0.2251313248544415,-0.22232162348879478,-0.2208471120713577,-0.21963491319091427,-0.21781416432751888,-0.21265165645787032,-0.21138893413075427,-0.20958743969730054,-0.20926362968290774,-0.20758965276121202,-0.20710074428333347,-0.2057027798226719,-0.20366216083486477,-0.2012871421941139,-0.19856291067573625,-0.19544762296405538,-0.19532246233147163,-0.19352396499388724,-0.1926083907246145,-0.1918498326269985,-0.18430439273088747,-0.17670240289103128,-0.17347916383674855,-0.16606323169101045,-0.16525370594035677,-0.16417908159453845,-0.16122439284447554,-0.15989588317466766,-0.1565279581486162,-0.15527694001404874,-0.15494348343183503,-0.15376639115827223,-0.14835747914870745,-0.14710801543285973,-0.14595329598726278,-0.14499952826471224,-0.1424623727047138,-0.14167759375007596,-0.13990366018445954,-0.1396475788529947,-0.1367221954116071,-0.13261770294961972,-0.13064564013639188,-0.1287997624118749,-0.12469475399757625,-0.12404994147978662,-0.12221640361510216,-0.11978973007067707,-0.11896940404866659,-0.10406463637743549,-0.10009606507824313,-0.09782175285510253,-0.09013032012832468,-0.08376916561381388,-0.08225637101573133,-0.08165880834795454,-0.0793530270785525,-0.07663476663672948,-0.07062368664791248,-0.06759406937460241,-0.06340969788211635,-0.061171823800901325,-0.054757306744172486,-0.040920727537862356,-0.03560159395622798,-0.03341437411551471,-0.01974996175570087,-0.011489709487561181,-0.00548635328932565,-0.0045482803648758474,-0.0018974756982666466,-0.0017273687495507023,-0.0016234562841164488,0.0030144288770359733,0.006491929955967467,0.008265928603238387,0.012326186441165817,0.01493726979368803,0.01708517810395275,0.023024604012446652,0.03315790092678447,0.034393997679383864,0.03648318704808645,0.03823936846138271,0.04074255656388779,0.04079635405773334,0.04450141943090362,0.050414563392752056,0.050520845734353725,0.05528556882429543,0.05947116313181728,0.05957941970558639,0.05987598062721808,0.06010195419859698,0.06748102867028405,0.06808666489532163,0.06911476386581987,0.07720641460177184,0.07816661442339932,0.08245857764749549,0.08593166553594461,0.08792006660666116,0.09261879356564573,0.09468244726583336,0.09985367710802337,0.10056130663699928,0.1019916953690446,0.10471943569686151,0.10741761142689955,0.10880369563764619,0.12503749491316157,0.1263768252161058,0.12737585432036133,0.13534666010094518,0.13577327068100564,0.13711889604136715,0.13768062324448133,0.14714659192718024,0.15027234992677313,0.15527881607026534,0.15813558933095637,0.16437607976991248,0.16600297184623436,0.16696751748176178,0.16926846445307883,0.1762814029820509,0.17754166077563968,0.1828229938939561,0.1872586041204667,0.1900708790876831,0.19116931095813644,0.19276776300843704,0.19404736873246187,0.19426208859684052,0.20327670302187342,0.2048854255282869,0.2050893036102872,0.20534362671801923,0.20658631737349462,0.20733082085590923,0.20941608824122296,0.21001890295170536,0.21059123135155,0.21366763882741124,0.21414463990539084,0.2142471716451054,0.21561981323053717,0.2180330633886834,0.2220374140949924,0.2301034829806881,0.23079737735442638,0.23205431146741443,0.23386911308245645,0.23613194694087528,0.23850709471093756,0.2451181865305192,0.24722429104537497,0.24995277843952615,0.25069216137174744,0.25165816827500154,0.2523424175558173,0.2534477173863842,0.2562308521576857,0.260326471871868,0.26375019007814704,0.2670525089882526,0.2714865084594595,0.2888840291180819,0.2957280670163009,0.29797444572198994,0.299166356565727,0.3010080136326461,0.3036472839775256,0.3054048634727506,0.30937209619900025,0.31706447866200477,0.3184332860945431,0.3193587397820701,0.3193783081367958,0.32066456842191043,0.32173417418898836,0.32376477872253295,0.32649251016929554,0.3294813165973888,0.33252374665766987,0.33367050940299453,0.33457777169744435,0.3355274318591342,0.33716396430610573,0.3427951017701633,0.3506623790794094,0.35997775540032584,0.360371015404115,0.36326046387070593,0.36710722869935064,0.37771799915532384,0.39805087637794834,0.39822270289593664,0.3995881164629473,0.41339437754397673,0.41861164985187493,0.4190414286929389,0.4211827295110818,0.4303561096220268,0.43405890007138914,0.435318978216728,0.44333401815079715,0.44915017254698103,0.4527854712322579,0.4545795279205361,0.4680465424967627,0.4704121309433134,0.4734971601894019,0.47834867036700945,0.48192073518987366,0.48983712400577784,0.4908338031376919,0.4919850933107775,0.5065932958502241,0.5071501107944663,0.5135887226123294,0.5165178477073188,0.5183868358836798,0.5210937548324039,0.5242809023594176,0.5266488693572254,0.5292817155685158,0.5381683017988429,0.5406591100952965,0.541654422593114,0.5598779708044805,0.560229142323805,0.5681972941999128,0.5714661260021542,0.5722385007574512,0.5724706450866932,0.5768724435601473,0.5782388031957706,0.5793778349999205,0.5799224381889209,0.5865532116245153,0.5867634888344364,0.5873911573357966,0.5889777165560424,0.5980303756918116,0.6121818794031951,0.6127075576273255,0.6219739852245909,0.6248129912688024,0.6363338041151048,0.6379317625796542,0.6394513194369119,0.6407016715586695,0.6458584989872121,0.6582698618655535,0.6629571150143952,0.665444224977849,0.6702562827448848,0.6773221735858612,0.6817993576935011,0.6865718471217707,0.6882141878405366,0.6997032277001042,0.710538397996113,0.7143320997540861,0.7153043657868094,0.7199034284663282,0.7200658435034397,0.7214026376192131,0.7270235851739378,0.7276810210127526,0.7460880052146887,0.7606017389125332,0.7607865204511527,0.764013908759844,0.765320086527066,0.7666360999658504,0.7670906149490504,0.771280817038695,0.7715429032799155,0.7738487903294824,0.7749646297638881,0.7784788646456805,0.7794662102571444,0.7863903003143741,0.7873619366671707,0.7960404324756735,0.8049459843877242,0.8113469641927022,0.8139311269405282,0.8193288575728715,0.8240931696458452,0.8241933188583764,0.8253068937345273,0.8280500762181386,0.82926727536637,0.8349430568374201,0.8554565591812704,0.8605331424923709,0.8650145181367973,0.8724916984000239,0.8865680965453868,0.8869999195269345,0.8913655118418329,0.8924506635770271,0.8958003907953093,0.9032541101592139,0.9061867921605926,0.9172774974986143,0.9230839725026302,0.9571118729938588,0.9598710917513794,0.9660130336891901,0.9689567535802802,0.9691715038876505,0.9706567874146003,0.9726243793310342,0.9902580764543805,0.9940721202909059,0.9984766492835839,1.0070920452221521,1.0090613435732574,1.0166960584260025,1.0198949435641607,1.0206177462814388,1.0364777624596797,1.040552306360267,1.043288967956917,1.0444962667649356,1.047737778799562,1.0502565013212892,1.057129041664076,1.0591207300465422,1.0612106107188652,1.0725562699287372,1.0748475815361849,1.0774788758990073,1.0798421353320902,1.0802498531137812,1.0809672668984012,1.0819275321631012,1.0872342905364707,1.0892650536609143,1.0910408763980757,1.0943353420690227,1.0947074798261553,1.0991430774097157,1.0994006782871097,1.1018935618214958,1.111143767647081,1.1113186415054552,1.1172327940162534,1.1173374839723655,1.1185918647273585,1.1243846310566092,1.1249404237568137,1.15508813162727,1.1574738108048055,1.1596265009873192,1.1611862350295412,1.1612024685963478,1.167141795526324,1.1800654792339378,1.1863456062740707,1.1863741471233746,1.188663991065746,1.1914386043418048,1.1940357432239688,1.1946002716547808,1.1957420737923243,1.202465189612514,1.2088506138673152,1.2151091575561537,1.2223365035552622,1.2227026533717307,1.2272450526828382,1.2377693280721327,1.243036350414127,1.247379943445474,1.247927601131874,1.2497577631535626,1.2506224653348443,1.2550366273367382,1.2583081669026497,1.2589666677444387,1.2601615626701492,1.267539189333999,1.2826627050412363,1.2973682839442688,1.3050280207024716,1.3189851322782744,1.3238818248813857,1.324213200555684,1.325753477560635,1.3293950724154338,1.342966532176539,1.3433243616002208,1.3461817915601844,1.3519387148058448,1.3540084209056371,1.3541302380848679,1.3596454292233935,1.3606371500770826,1.367043724808692,1.3730410344625308,1.3797133303873845,1.3805207654276819,1.3819778280424777,1.3861545835095495,1.386235276065672,1.3869627408093699,1.3907828434890925,1.398006168582037,1.4051193481025577,1.4067050844393216,1.4287598615555792,1.429125538636225,1.4319031185199838,1.4355657110049231,1.441075530427272,1.4454598768407971,1.4505857183752495,1.4542294810021492,1.4546989969221824,1.4619026048408579,1.462368862907658,1.4641786474752179,1.465694267595086,1.466727958039258,1.4678922541939767,1.4707015635103062,1.4716959698421244,1.4736830955781923,1.483452174928372,1.483954274065472,1.4839645687792347,1.4981278789237906,1.4996749131474651,1.5002108794041562,1.5012599663446202,1.514522211345588,1.524372718200922,1.529428776639113,1.5294792084290962,1.529781814442337,1.5457458827445516,1.547541231683641,1.548498013891508,1.557405157633227,1.565299525993933,1.5722510094929019,1.578577098049317,1.6035361524205776,1.6069797109415638,1.6076446831218798,1.608202451458694,1.608573840970567,1.6098501375882808,1.6151554779774566,1.6154877782350867,1.6164710599435763,1.617866931380654,1.618066226533206,1.6282633146252663,1.6395421056559378,1.6420871117417934,1.647739920884212,1.6612599789364209,1.6646674767752319,1.6719930103012715,1.6742914390350634,1.675364197337822,1.6754315380782647,1.6756237674958452,1.6827973281224635,1.6832480929374525,1.685465391093519,1.6884234872915131,1.6913211371429921,1.695894582280069,1.7014461963478817,1.7015908923078944,1.7045666909184138,1.70571644924373,1.7078272652312632,1.7106674894988647,1.7112679086183626,1.71764987161391,1.7226177182758426,1.731198036210121,1.73375373427692,1.7338269383200786,1.7361686464817878,1.7462287075261944,1.749652682340717,1.7554699783840138,1.759281664088254,1.7621301643569962,1.7644424987027578,1.7651689495868328,1.766103650552408,1.767085234772142,1.7704464033303733,1.773226654996488,1.7943105795787893,1.795267501922939,1.8012312486751256,1.8091106255229703,1.809743076176736,1.8117795657417377,1.8121414692347928,1.8184135588325463,1.8231197588192614,1.8259389613382073,1.8293014708767612,1.8355254395473275,1.8408555514140617,1.857086378989443,1.874048886520631,1.8774469975673447,1.8783091842661932,1.8792708537731098,1.8810351138360297,1.886446293796414,1.8890912054103903,1.890530035710331,1.9055210945027699,1.907009631344501,1.9083012125343233,1.9143710281500947,1.9244335673120088,1.926241966373471,1.926917560284463,1.9373100208505005,1.9455410615217616,1.9519060498474223,1.9619737971483675,1.9720228721652018,1.9756207971751931,1.9954117146916768,2.002316491152527,2.0114882490325425,2.0187989789044383,2.0190206686864838,2.0223767161370123,2.026816665027022,2.026878823662378,2.032296966775144,2.0333177854770046,2.056832618354543,2.0596230336843186,2.0621985993960408,2.0740826374223493,2.0750206091317582,2.077340477436069,2.0835695339225357,2.091034654479965,2.1019529812346316,2.1037668238925797,2.104027188977209,2.1066950592159923,2.107304630868762,2.1084803354943698,2.1096996652652713,2.1098300081494763,2.1150295347434924,2.1159271721764714,2.1177030651438327,2.118598598682994,2.123872481514925,2.1396768913310025,2.1545377847825558,2.1585984724543312,2.1701749352754343,2.173355930523387,2.1746033708386063,2.181408310477395,2.181571577135224,2.211522772809162,2.234643423416244,2.238401461187177,2.2465826823260118,2.247967508242968,2.251823394117306,2.2600490470945886,2.2616672030814353,2.273069762536291,2.2844862810606124,2.2882675561959225,2.2885516928758087,2.2906384452317674,2.290944550876901,2.297629924031088,2.3093035633257495,2.312065878414616,2.3131831861060888,2.3155824324442285,2.318078232236343,2.324290337137058,2.342353907123451,2.35069927964447,2.353208279163974,2.3568482193582807,2.357185539539058,2.3618840580912592,2.373784154915811,2.374063285288106,2.3815786597491275,2.3871905156150723,2.3893142938242984,2.3967522757592223,2.3976844322166397,2.407718911579014,2.410989847980924,2.4258274048839183,2.4270593477786506,2.4295210518290706,2.4303061351009285,2.435639395526494,2.43724862174303,2.4375514447487046,2.4609619218780634,2.464132892458924,2.4646826592184117,2.4695635467574233,2.47005102203256,2.4713542871411924,2.4766244119367173,2.4890924307777094,2.4947364357584942,2.504755228563879,2.5089626903836124,2.5175017352702076,2.526755475629273,2.5313906473987027,2.5327168782598966,2.5385799643798883,2.5442229194999526,2.5473728051412174,2.5530028738459962,2.5620829354776045,2.5695996646064776,2.579176360406054,2.5813342822534446,2.5857401880952975,2.592433846813868,2.6008715659237573,2.6067082901605265,2.613570082258662,2.6198421106548984,2.620932330120155,2.625395624995303,2.6334679927028732,2.6353569027046877,2.6396262087086884,2.6401766735402874,2.649740898484238,2.6550937315510446,2.66277962578061,2.6850968525931393,2.6870265309951797,2.7298329402971664,2.7490419954243106,2.756466922027675,2.760623409408339,2.769374082152873,2.7736665790345314,2.7766682565386698,2.7827392550906787,2.792654194594057,2.805704292682431,2.82475572892643,2.825660316480729,2.8306234702298614,2.8359420684785306,2.8495988569317277,2.8507532147584813,2.854831661079587,2.864323910212112,2.865444360441511,2.8669287990447008,2.8763223665235436,2.8804874936294538,2.886627888059712,2.908679131396061,2.911180996772859,2.923619648634374,2.9263327042205325,2.929623141824263,2.9305118143008984,2.9318411150810912,2.943117615543285,2.9484760919823314,2.958843420118047,2.9630958052101843,2.9738947778123954,2.990877900532413,2.9932366284746403,3.0145426448970176,3.0524410031677958,3.058832458228017,3.0789151370211805,3.093788784952136,3.129012619687657,3.1304930821867756,3.1359471790553144,3.141943029306479,3.166062570874773,3.1771319605147528,3.177320668468821,3.188565613738375,3.191316796881579,3.2059165428613854,3.2100386455063603,3.2161740039464997,3.222527634099774,3.231129807899264,3.2378079922502505,3.2538625975572493,3.2555151673531357,3.257302031604515,3.2601994448341944,3.2631901238387795,3.2669624985815564,3.3239129560572898,3.3444176403909176,3.356788828456254,3.3658817283550695,3.371251136294898,3.3972197477486388,3.4122459632578193,3.422135351618204,3.4399306949668027,3.4861404888129672,3.497459526692715,3.497655693119592,3.501712928821354,3.527218283949609,3.5637594409211424,3.598120954615785,3.6113754317505506,3.612671789315075,3.6198176426982855,3.6362004641391366,3.6502289076616456,3.674311233821558,3.698554425284818,3.706776398808338,3.720603687307077,3.750393256324208,3.7647224339495184,3.7662344318384657,3.7948912853895473,3.796639212448795,3.8123236903130566,3.820683171218758,3.821189013735623,3.821637102161979,3.831633045583732,3.863431924256524,3.897732543890709,3.899247128328601,3.936855198875699,3.9427432589352738,3.9556654499082615,3.9599544191504035,3.9675230766354663,3.9753564996225528,4.056082936731336,4.056713081754641,4.062548284737342,4.063338734707738,4.07734908808776,4.08835794257916,4.091235485352449,4.118864747654494,4.1557460970756175,4.188224739985205,4.1909942957141295,4.2095264230963085,4.238437767101339,4.253424337512268,4.28648355496647,4.312195102145792,4.3533561147091895,4.396278716578907,4.402598468307089,4.417015250289265,4.43987951754143,4.516010118670416,4.526158508444055,4.531586310985383,4.573494044990146,4.579706998244616,4.580128402587616,4.585638319743405,4.590457363254871,4.656310732345823,4.821979598196229,4.8439045393043365,4.849096440265654,4.922652047016716,4.929972547932593,5.091016119410061,5.2056549444564535,5.2381585559881,5.247669998527261,5.323859594843958,5.337390440607048,5.337753413864188,5.413836381937774,5.4720499212706075,5.5381464285253985,5.573880311457393,5.603016956050708,5.6349100326072685,5.701377951707799,5.777621886578308,5.790810216093936,5.86934361761171,5.9611344983892245,5.970664545120069,6.0023392422003425,6.026892978323694,6.09802780695464,6.216120931189004,6.255681427596859,6.293459855629764,6.536926668059002,6.608669215493285,6.653174175416426,6.720522753548214,6.891768037109128,6.933388599882519,7.119958781181679,7.425042317856038,7.440424645318145,7.4762931250352604,7.557499608675304,7.690957807702799,7.778491682497372,7.885279734248162,8.002415703575332,8.090601525410408,8.131990733551639,8.143386578506787,8.297546535961558,8.427860828689765,8.467235315847638,8.587715009903729,9.099677304082254,9.167687349997795,9.218320102510777,9.282748419984266,9.359273891712409,9.970078494170146,10.306945400849491,10.379203119081918,10.439052214627207,10.640303462148033,10.823827551970087,11.057726205831163,11.11483459658994,11.153256913429882,11.719010617323908,12.734530686281571,12.830194448064722,12.854364870786666,12.93553129416374,13.399765918271346,13.481187114246886,13.497675969004446,13.794378762873704,14.092981498692705,14.206099882804692],\"xaxis\":\"x3\",\"y\":[2.5489640718235855,2.9039976859584264,3.0300000669695835,3.047693607198662,3.0675323591973895,3.099542011546318,3.111620731548051,3.1319305452173265,3.132111452489686,3.1355980065090057,3.1425151653465857,3.1677233983471353,3.16999811335351,3.172669575639562,3.1738690390312323,3.1908443837482583,3.1971421091950196,3.203969186894364,3.2133649556387303,3.216719583023285,3.2205485392335635,3.222738777723848,3.226522295711153,3.233075356710357,3.2430888252072947,3.2619647279924244,3.2657322309379806,3.273637175234971,3.278823701512766,3.2813972205067032,3.2896838518708105,3.299790500202734,3.3002914890664425,3.303265934338085,3.30386975666084,3.3064092328156,3.306754372090391,3.3108584307593656,3.3158301203642244,3.3241219520272147,3.3340953162982254,3.3383917907557112,3.3482321183394657,3.3487011216515343,3.3532729423905527,3.363327713873428,3.3637878429132524,3.3700672834560246,3.372803322388052,3.3759422698670507,3.3791048423647974,3.3813019154821085,3.381800387358993,3.3834398830611123,3.384474568171678,3.3875959544498766,3.3881633937403013,3.391174861270658,3.3918696631003398,3.3948337173076957,3.405841748750418,3.411287732903409,3.4113996373527384,3.4130417153023735,3.4139324862464164,3.4142169696237477,3.419209843825844,3.423027197280488,3.423539128842834,3.427974369979117,3.429386183853069,3.4305264391743115,3.4314564662479374,3.4320079143431097,3.450093445138737,3.4529263081820747,3.4529308545439656,3.4564434825303025,3.4654631962890248,3.4673536247400163,3.4731762590731288,3.4753885020929123,3.4785982642233813,3.4818183949462904,3.4818713678606916,3.484312458306624,3.484748520277515,3.4851400640003747,3.48558717273371,3.48840714795762,3.4941455097900844,3.495574908343457,3.4988596862488937,3.502793628330928,3.50339558956051,3.503422113077707,3.5082181854071166,3.5091934344471367,3.510108799727353,3.5110069728891924,3.512850249702195,3.514134540658092,3.5216660370037003,3.5226883299456313,3.523131399932063,3.5250427995823,3.5266956893891916,3.5267977036117277,3.5289268056968632,3.5302267828069707,3.531661207191976,3.532380165612458,3.5335005948316027,3.5357564828660544,3.536864650842464,3.537611114221667,3.5403928046501982,3.5406131946651236,3.541855227347511,3.5423465726161587,3.5440774151746934,3.545290011378121,3.5466208995165336,3.547787442930204,3.5517743638778367,3.5557251959723084,3.5561207262066366,3.5608697057798757,3.561261235859519,3.5616933863015428,3.5666946691122314,3.56715149547726,3.5710430486583657,3.5711380958507393,3.5743099610479008,3.5744401664761245,3.574721673311278,3.5751997226551384,3.5782906712943925,3.5792863987997428,3.5797569463422,3.580044038206315,3.5826421421952195,3.5832522638497784,3.5833240828356496,3.5835680345138172,3.5888420006555912,3.591622268548084,3.592531147145791,3.594183173514132,3.599051543258408,3.600684260273939,3.6024900579971444,3.603624267840303,3.605751409418678,3.60597598872688,3.608456495345024,3.6111822547844628,3.613633406690062,3.6150717371483236,3.616840682892799,3.6177815696575926,3.620570339578565,3.622440135868276,3.6240754481571607,3.6264483870454285,3.627795104247679,3.629038488624603,3.629682147967145,3.633971578038151,3.6347959422502094,3.6357457436456757,3.636835524239139,3.6375484765948154,3.6378894185345794,3.6382864272562516,3.6417556489532865,3.6454997729287193,3.6458677492386427,3.64588355874216,3.6460317093068175,3.646240369748573,3.6487858498978905,3.6492377877829227,3.6510170620846254,3.6565764743319202,3.6568028255493608,3.6654709697587036,3.666170629293192,3.6689310441951024,3.6701646642347328,3.6708207408161955,3.675395376203493,3.678758666988942,3.6822086340090534,3.6833326388027094,3.6840950199620557,3.6856593386584424,3.6874326153051804,3.6909187875217615,3.691430632808493,3.691589990869656,3.696890138512221,3.6984924265093024,3.6986804925285206,3.7030571240829304,3.710300956717284,3.7128315416019593,3.7149265008130303,3.7161245890963794,3.721350628638751,3.722600472065257,3.723596680835641,3.72533447007887,3.726541604792133,3.7347431799923276,3.7359098765134098,3.7378138797831735,3.7395916668439875,3.740460316709762,3.7430373866062103,3.743192363267662,3.7466533837805263,3.7485942399245302,3.7503980288516363,3.7535161634968808,3.7545310140129704,3.7577774065401175,3.759887977981527,3.7601408482687755,3.7612359609042127,3.763865504494395,3.7735314700944853,3.7772510937016177,3.7783141624812866,3.7839971197745683,3.787061978099286,3.789018530220609,3.7923106960697943,3.794486160524074,3.7951598729224365,3.7989353522380074,3.799556624125421,3.799982914625167,3.807389569434711,3.8078410871392263,3.8096971119074015,3.8106704252150894,3.8173799318997865,3.81874334134313,3.822148340712847,3.822954860031922,3.826655262849702,3.8275611382447075,3.8276526685886343,3.841498902329176,3.8441915842443137,3.8507939351121157,3.8507968206124654,3.8508254085330007,3.85453292385869,3.8563122077695926,3.85633386064268,3.857297194120388,3.8573107614016604,3.858593988127617,3.865020254246516,3.8672369900565773,3.8678677286828727,3.867926420708995,3.8682315240590808,3.8702496801807795,3.8733296245180466,3.873349631812088,3.8747717760700247,3.875625675397544,3.8818116151219035,3.885226938723095,3.8882843871436408,3.890111738852954,3.8924078012613323,3.8952922916183477,3.897105803244475,3.8976400026557805,3.900362554672274,3.9057122500528103,3.9077477019794804,3.908416555694568,3.915132722137872,3.9151639260890225,3.915681991503614,3.921925434946964,3.922946188469845,3.9230453027941534,3.924053448081937,3.9244303702055197,3.9255561542327975,3.9274592648157616,3.9277463658566267,3.9385061689664145,3.943166029465431,3.943805958276959,3.946452937986506,3.9475841187274354,3.9477759420849194,3.9489467757895644,3.950941779998165,3.9531340204093257,3.953966048736675,3.9551205372004024,3.957390713491328,3.9611989638449643,3.968026950510554,3.9692197755128245,3.97724847232418,3.9794109204140207,3.980953538635991,3.9838806900215107,3.989019982756585,3.989596913840787,3.9907475381893844,3.99143527217728,3.9932171967886667,3.9992051152884494,3.9997656325332076,4.000476878118344,4.004539809272537,4.0046767928069595,4.006554156651735,4.006782410034005,4.014923045442286,4.017138638034526,4.0200319103908955,4.0231378262575115,4.024673598315673,4.0247547418971985,4.028191179838391,4.029936298780792,4.033370647842915,4.03478220772753,4.035660417702029,4.037609551224434,4.039592990709288,4.040951269157286,4.0465668203873655,4.050291387955397,4.053951078931958,4.055704004797654,4.060813537847947,4.06450338043853,4.065465158373614,4.066176501650439,4.07032734903606,4.074953027653177,4.077637599356224,4.080930860982385,4.081028762576512,4.084132118183935,4.084681743601395,4.085202618942933,4.088692019238447,4.091369766532952,4.100043856148213,4.100382806351533,4.100738563355201,4.10297536916017,4.10724108815585,4.107374853462017,4.112369230118005,4.113801596508353,4.116792049518139,4.1184706861143425,4.123646685180399,4.124266860481274,4.125199304371924,4.126019930737367,4.129622760144674,4.130752899401801,4.133629426254284,4.134368942321746,4.134732599971644,4.1349211616104,4.137965844493829,4.138931085155203,4.14231080128275,4.143492275615901,4.145418049699991,4.1457298300246554,4.1474834648604615,4.148505171707638,4.151608989030147,4.1519259672769,4.154110058088459,4.155045729459706,4.155557036989763,4.1558419653707395,4.157156060986035,4.160399313984008,4.160719161714908,4.1620937422453546,4.163050773039475,4.163448136763612,4.163590857373991,4.163776535702823,4.165313962024809,4.1655890973752605,4.165923923000927,4.165962201978827,4.1678669264924055,4.1679781996143745,4.1690656742278565,4.171367087375602,4.172607983150829,4.1730498061139665,4.173056404317438,4.173687623084541,4.1757036973594825,4.176649927441002,4.177323076813689,4.177374069877628,4.179204907411227,4.179678425376135,4.179733975322916,4.180074015938958,4.180106899437658,4.180184645306862,4.182075232977067,4.183092461973711,4.183291692407521,4.183296898070881,4.18345349365992,4.1834757847195725,4.184091724880674,4.185108351081362,4.185675099149708,4.186023005796099,4.186759474199935,4.187343687272107,4.187665405790413,4.187865606542326,4.188522537608187,4.189066341731994,4.189223980017756,4.190058516364292,4.191293671517419,4.191455430113155,4.191524902052022,4.191875032461182,4.191973917505665,4.192215703392155,4.1922522962291815,4.193579837848709,4.195057702460099,4.195213745411546,4.19592148460251,4.196108471898437,4.197042398788942,4.197217495254544,4.197334919391517,4.199240486496457,4.199872744619164,4.199962641123333,4.200126246524659,4.200418663162177,4.200878073438635,4.201290318554024,4.202075421840214,4.203379336097791,4.2034454677609485,4.204501427480442,4.205115191137273,4.205550276890053,4.206769588165592,4.207724710533898,4.208577428391754,4.210019441516477,4.2103027173167655,4.2103397328376815,4.211594270705074,4.212052970102675,4.212110091363284,4.212499174027574,4.213451613798997,4.21369235402139,4.213891713510306,4.215210052355388,4.216111327683299,4.217164385710405,4.218064547290723,4.2186709866542,4.219547631368541,4.2203698661885545,4.2205059180431945,4.221188958655219,4.221995051273332,4.222559749167616,4.222904556276506,4.2234284584364055,4.225640999789309,4.227606144993556,4.227643686993147,4.22767474609765,4.228264027747214,4.229283955233725,4.22939302125136,4.229792290408152,4.229960490843791,4.23085950516523,4.231027287852041,4.231764514733474,4.233017920002542,4.233336477743206,4.2338131374087045,4.233930228733127,4.234297068484736,4.234906841008256,4.2353725159679705,4.235851566846873,4.23644770172497,4.236550290580684,4.236732483003336,4.236977756003552,4.23766886776805,4.237793029231203,4.238900445520604,4.238948588535522,4.239788433387403,4.239928480700487,4.239930101083086,4.240120710959184,4.240777813398254,4.241701134166302,4.2420934565565505,4.242241333839356,4.243384937404967,4.243506058924041,4.243719187984254,4.246835040266267,4.247030996952453,4.247085269418922,4.2480503823950695,4.24842899103409,4.248544414933037,4.249962315274533,4.250017547831744,4.250043365635279,4.250269896736088,4.250955108797928,4.251441593367765,4.25265077577865,4.253555047492231,4.255719512320154,4.255773794492818,4.259445453764473,4.259889171209687,4.260670408339353,4.261002186653147,4.2610480064911584,4.261176785053351,4.261347504317089,4.261481850889234,4.261690440535987,4.261928777464375,4.262378597020726,4.262458830494667,4.262491494918191,4.262735627345104,4.262964008279587,4.264002593966565,4.265559455158289,4.266780590114872,4.267762707869282,4.26784487461787,4.26919747863857,4.270568598503618,4.270620173636709,4.270858096471435,4.272276388158171,4.272890681306441,4.275389658614683,4.275484459927147,4.2757297173589714,4.277118215355983,4.27730214611138,4.277445260598653,4.278471066608221,4.279667520249431,4.280855572720605,4.281091197576239,4.282215324329411,4.283752029357363,4.283824847147965,4.2844677551896435,4.284493972603284,4.284609838086989,4.285480681152177,4.28622038040273,4.287718210103551,4.288834777443062,4.2889573025835945,4.288985767722059,4.2891854203189945,4.2898907689871955,4.290972734121179,4.291163141290008,4.291181293249409,4.2919944154476575,4.292486784618453,4.292822247829437,4.292942147738443,4.296077611977959,4.296293502262131,4.296744280801216,4.297175990048166,4.297233956633512,4.297541026865277,4.297722164109913,4.297807347462808,4.297929059270446,4.299142550789168,4.299481687117831,4.29967972288975,4.299779176709434,4.300521231591651,4.301217864680756,4.301483055707933,4.301993949949124,4.302958773021996,4.303647139020611,4.304276564623952,4.305310617629483,4.305359070577216,4.305457800999325,4.3056550941969425,4.305819070307216,4.306346865669253,4.306434046567894,4.306602349508676,4.306688189970962,4.307048625812704,4.307374017219345,4.307559992836469,4.307564886271341,4.308513295968257,4.308620417512208,4.3092113438917306,4.310010226354674,4.310659837881942,4.310949248718272,4.3111931783779065,4.3116203387520615,4.312246138212635,4.3131819516886605,4.313448347614834,4.314448459283866,4.314462580604635,4.315334080330753,4.31550719472307,4.316008209035576,4.316097162480579,4.31775091851129,4.318179763048536,4.318748213718137,4.318784150826053,4.320719186861011,4.32072815662638,4.321476319972031,4.322399064887085,4.322612611506483,4.322629685487109,4.322636534721805,4.322675830944698,4.323299661140573,4.324283660100332,4.324433949400745,4.324483383338016,4.32517466896732,4.325192228282973,4.325243684162838,4.325431514530932,4.325691183001992,4.326008746773262,4.326018854277914,4.326111282541738,4.326218621426284,4.32645236569755,4.326540747288587,4.326991164436476,4.327383736038646,4.328429981541728,4.328822873567733,4.329244340019471,4.329316498738886,4.329702035956796,4.331338066210411,4.331627939154894,4.332130747363962,4.332340131864999,4.333396749187543,4.333737994626322,4.3339490659555455,4.33410321937046,4.334339808345893,4.33434871924888,4.334823403510849,4.334873990940579,4.33514382967391,4.335234106350824,4.335534355957284,4.336386645218787,4.3377198466519316,4.338662383981069,4.339236387439325,4.3412700751384445,4.341539245678267,4.341549035058028,4.3415575111808975,4.341939951466886,4.343869436220859,4.3443135460405635,4.3446619880297375,4.345019322409592,4.345173866620988,4.345211013188335,4.345632064253952,4.346481962312321,4.346660066316347,4.346874790123684,4.347156989611373,4.347213008002919,4.347266041338735,4.347510674397449,4.347977346563735,4.348469554597437,4.348525257255971,4.348593030841934,4.348669966372261,4.348935222900111,4.3500907421465005,4.35037487320587,4.351131322323272,4.351797062583569,4.354750194090358,4.3563073724300905,4.356973756006526,4.357541419140519,4.357865548843043,4.358164427196443,4.358792074680836,4.359563450994074,4.359626964737826,4.360210221060712,4.3607018104542075,4.361337931519683,4.361847003775123,4.362114161296604,4.362333792046567,4.362663682170055,4.3635990447523785,4.363827829530333,4.364154231063825,4.364212900179474,4.364516197610832,4.3646047798867205,4.364858068342823,4.365227795361971,4.365658110167288,4.366151696674509,4.366716136212859,4.366738813286765,4.367064671795161,4.367230558983024,4.367367997390662,4.368735108555273,4.370112465651271,4.370696464219677,4.37204011068324,4.372186783601849,4.37238148808047,4.372916829695243,4.37315753407125,4.373767747387913,4.373994411556264,4.3740548284733345,4.374268098476293,4.375248105486949,4.375474488019874,4.375683704429759,4.375856511651061,4.3763162030329,4.376458392233982,4.376779800185834,4.376826197964109,4.377356229932896,4.378099897306449,4.378457203060176,4.378791646125184,4.379535406980917,4.37965223653682,4.3799844438196365,4.380424117654579,4.380572747406953,4.383273249242476,4.38399228990881,4.384404358346817,4.385797921041293,4.386950458928593,4.387224552740653,4.387332821391112,4.387750591509217,4.3882430961543415,4.389332206223102,4.389881123669383,4.390639263825958,4.391044730264435,4.392206936577729,4.394713900011727,4.395677640629323,4.396073929342091,4.398549698939643,4.400046322496886,4.401134033140234,4.401303996719018,4.401784279473214,4.401815100089635,4.401833927340742,4.402674236808618,4.403304303526452,4.403625723270044,4.404361376048127,4.404834461945319,4.4052236280472234,4.4062997555603545,4.4081357443876,4.408359705043876,4.408738232227216,4.409056423777378,4.409509960807581,4.409519708039747,4.410191005711853,4.411262371363095,4.411281627997274,4.412144918437888,4.412903280148687,4.412922894481673,4.412976626504263,4.413017569245388,4.4143545376970135,4.4144642691449265,4.414650543981152,4.416116619678999,4.4162905922921905,4.417068226323148,4.417697493442541,4.418057759423177,4.418909092436696,4.419282992971623,4.420219935833718,4.420348146811845,4.4206073100193235,4.421101532265827,4.421590397887369,4.421841533835133,4.424782834612713,4.425025499511707,4.425206507360289,4.426650687914852,4.4267279828234285,4.42697178828459,4.427073564130851,4.4287886439205195,4.429354980504994,4.430262070860792,4.430779671779125,4.431910347295624,4.432205113717699,4.432379873721789,4.432796767943594,4.434067398508769,4.434295736753275,4.43525262854083,4.4360562890756725,4.436565827625919,4.436764845641348,4.437054459192598,4.437286302967872,4.437325206720058,4.438958508448628,4.4392499828397245,4.439286922237024,4.439333001453715,4.439558156818101,4.439693048757724,4.440070865341371,4.440180085576671,4.440283782187607,4.440841177258677,4.440927602107091,4.440946179193121,4.441194879555498,4.441632121290854,4.442357644604669,4.443819085286721,4.443944807677789,4.444172543725349,4.444501356304024,4.444911345048763,4.445341683250215,4.4465395057179915,4.446921097651098,4.447415455253889,4.44754941943298,4.44772444419505,4.447848419051925,4.448048681430185,4.448552940250194,4.449295000025947,4.449915322160737,4.450513648714692,4.451317017406833,4.454469165599176,4.455709194113153,4.456116201451462,4.45633215633867,4.456665834689068,4.457144027611495,4.457462472471397,4.458181270610052,4.459575005381309,4.459823011057451,4.459990688235451,4.4599942337035205,4.460227283177187,4.460421078370846,4.4607889909335245,4.461283211570927,4.461824734754858,4.4623759736700475,4.462583748455067,4.462748129648086,4.46292019264607,4.4632167057467385,4.4642369764006125,4.465662399277562,4.467350194177028,4.467421446502827,4.467944967637795,4.46864193894991,4.47056443822831,4.474248425357284,4.47427955753173,4.474526948294558,4.477028418576648,4.477973703585759,4.478051572531775,4.478439541463418,4.4801016089557795,4.4807724944486385,4.481000800143799,4.482452995208572,4.48350678792571,4.484165445007042,4.484490498941904,4.486930503266984,4.487359109474267,4.487918066670076,4.488797081521477,4.489444281653913,4.490878602738255,4.491059184810014,4.491267779891415,4.493914548941537,4.49401543476627,4.495182006658962,4.495712716554612,4.496051346858161,4.496541796608931,4.497119255978754,4.497548293140896,4.498025322114649,4.499635427213627,4.500086721224032,4.500267055683889,4.503568866653376,4.503632493229344,4.5050761929395176,4.505668452173387,4.505808393935004,4.505850454717234,4.506647989111555,4.506895551286651,4.507101925350687,4.5072005986037,4.508401987060652,4.5084400858760025,4.508553809214562,4.508841267978157,4.510481462790431,4.513045485430098,4.5131407297868344,4.514819655972545,4.515334037759807,4.517421421939448,4.517710946060977,4.517986265084576,4.518212808582223,4.519147141960873,4.521395879343006,4.522245133488473,4.522695757421002,4.523567624136349,4.5248478488004675,4.525659041847374,4.526523739422361,4.526821304887546,4.5289029323180126,4.530866089202978,4.531553446348477,4.531729605163154,4.53256288062787,4.532592307594832,4.5328345129779,4.533852937385697,4.533972054082355,4.537307100674172,4.539936753504453,4.539970232918236,4.540554983264153,4.540791641462101,4.541030081723996,4.541112432457229,4.541871629023315,4.541919114793713,4.542336904077466,4.542539076060769,4.543175798347092,4.54335468933653,4.544609222001603,4.5447852667285025,4.546357669222617,4.5479712105951045,4.5491309641782385,4.549599172499074,4.550577153625773,4.551440369596788,4.551458515007588,4.551660276689713,4.552157296804054,4.552377833521331,4.553406192944214,4.557122906411644,4.558042700859448,4.5588546533447465,4.560209396972475,4.5627598117033585,4.562838051014431,4.563629025440841,4.563825637311442,4.564432553480886,4.565783046374683,4.566314400724004,4.568323856408469,4.569375895376948,4.575541198302999,4.576041123929729,4.577153944058335,4.577687298294006,4.577726207561968,4.577995316814744,4.578351812514582,4.58154675204662,4.582237794846381,4.583035823966439,4.5845967937889185,4.584953598667005,4.586336885003855,4.5869164710381884,4.587047431151609,4.589921008502528,4.590659249683147,4.591155088318675,4.591373831255096,4.5919611405907705,4.592417492205444,4.5936626848994715,4.594023546487608,4.594402198923937,4.596457848109306,4.596872996559664,4.597349744363679,4.5977779285915465,4.597851800431895,4.597981784158239,4.598155768628652,4.599117267059494,4.599485208356269,4.599806958595323,4.600403862269886,4.600471287587634,4.601274945831779,4.6013216189270985,4.601773288936914,4.603449276001052,4.603480960304084,4.604552508688015,4.604571476807806,4.604798750228366,4.605848305407619,4.605949006018335,4.611411281059235,4.611843527380682,4.612233559880176,4.612516158357177,4.612519099615835,4.613595209195666,4.615936770791524,4.617074627816423,4.617079798954788,4.617494681488071,4.617997396351539,4.618467955737174,4.618570239120399,4.618777115123854,4.6199952345211726,4.621152169691251,4.622286116163427,4.623595593880026,4.623661934280175,4.624484943262798,4.626391771039872,4.627346069947178,4.628133058460696,4.62823228513903,4.628563880773923,4.6287205507656495,4.629520325230529,4.630113075067199,4.6302323847251,4.630448880279497,4.631785586411857,4.634525721838844,4.63719013390457,4.638577953804311,4.641106755746109,4.641993956919208,4.642053996809559,4.642333069987407,4.642992867832401,4.645451795928699,4.645516628808807,4.646034348710383,4.647077409705012,4.647452406836451,4.64747447813091,4.648473741193667,4.648653424905939,4.649814192198913,4.650900807306617,4.652109718964261,4.65225601308011,4.652520009161935,4.653276769418396,4.653291389599047,4.653423194395939,4.654115334959686,4.65542408415339,4.656712876758232,4.6570001864287045,4.66099615385324,4.661062408601336,4.661565660965939,4.662229263240495,4.663227553035523,4.6640219254000215,4.6649506446379,4.665610835247993,4.665695903907352,4.667001080669303,4.667085559058567,4.66741346262972,4.667688068380439,4.6678753563008835,4.668086307854928,4.668595309077398,4.668775479354693,4.6691355142654025,4.670905512785236,4.6709964849943475,4.6709983502292864,4.673564512002897,4.673844809479033,4.6739419178601835,4.674131995375703,4.6765348987793836,4.678319650640696,4.679235726314872,4.67924486373616,4.679299691031172,4.682192120937057,4.6825174090067785,4.682690762403862,4.684304592190032,4.685734923525524,4.686994419437346,4.688140603942539,4.69266277923767,4.693286696115262,4.693407178274604,4.693508236838587,4.6935755265864465,4.693806770805399,4.6947680123205355,4.694828219730371,4.695006374406591,4.695259283640813,4.695295392685727,4.6971429394383515,4.699186473195647,4.6996475869652725,4.700671784175299,4.703121399116754,4.7037387823843915,4.705066050086218,4.705482488044282,4.705676854426207,4.705689055474702,4.705723884323193,4.707023617003818,4.707105288267478,4.70750702668249,4.708042985671488,4.7085679927642,4.709396626746277,4.7104024890522815,4.710428705610247,4.710967871988893,4.711176189524355,4.711558635099793,4.712073237609348,4.712182023802468,4.713338331848583,4.714238424981537,4.715793039239337,4.716256090222262,4.716269353605984,4.716693633093491,4.71851635277052,4.719136721398556,4.720190720963609,4.720881336508098,4.721397438494651,4.721816395923764,4.721948017025759,4.722117369660357,4.722295216779184,4.7229042059336095,4.723407942381783,4.727228007094662,4.727401385882164,4.72848191993718,4.729909535054016,4.730024124840925,4.730393103675726,4.730458674711038,4.731595075481913,4.7324477624866885,4.732958556196799,4.73356778831508,4.734695470355475,4.735661200060034,4.738601962413813,4.7416752932924595,4.742290975825819,4.742447190052982,4.7426214289492785,4.742941084219549,4.74392150214606,4.744400717174827,4.74466140985731,4.747377546242553,4.7476472449431295,4.747881258478314,4.748981010488761,4.7508041791604345,4.751131831700384,4.751254238344819,4.753137183416706,4.754628514307017,4.755781746818632,4.757605859120514,4.759426588307769,4.760078473886121,4.763664266718243,4.764915300073322,4.766577073643785,4.767901659163906,4.767941825751976,4.768549887044856,4.769354333675061,4.769365595810276,4.770347275346912,4.7705322311166976,4.77479273693259,4.775298314871552,4.77576496554907,4.7779181602322325,4.778088105472494,4.778508427932539,4.779637031802544,4.780989590407443,4.782967813892182,4.783296452723406,4.7833436266481835,4.783827001406898,4.783937445890401,4.784150464474086,4.784371387225589,4.784395003239323,4.785337073013286,4.785499710337723,4.785821473301348,4.785983729434394,4.786939271351056,4.789802773732247,4.7924953262717205,4.7932310569287155,4.795328523979986,4.795904868656762,4.796130884582354,4.797363829126713,4.797393410393517,4.8028200806159385,4.80700916700629,4.807690062416554,4.809172366816701,4.809423274782065,4.810121898679526,4.811612253407189,4.811905436991732,4.813971395577382,4.816039883319712,4.816724988963005,4.816776469914771,4.817154555550982,4.817210016922455,4.8184212979616685,4.820536371811717,4.8210368584433985,4.821239296451036,4.821674000921642,4.822126199309994,4.82325173182797,4.82652455734128,4.828036603305916,4.828491193270497,4.829150691317883,4.8292118082562645,4.830063103509859,4.832219207786455,4.832269781676593,4.833631445472655,4.834648222614101,4.8350330167335915,4.836380658260848,4.836549549871893,4.838367634563606,4.838960275116755,4.841648599452635,4.841871807497328,4.84231782829103,4.84246007262945,4.8434263728017335,4.843717938456924,4.843772805067442,4.848014403316593,4.848588931686501,4.848688540494625,4.849572878046798,4.849661200649627,4.849897331121142,4.850852192142641,4.853111194665063,4.854133796703989,4.855949039246339,4.8567113629952035,4.858258499247073,4.859935126711274,4.860774944556638,4.861015236049534,4.862077532032814,4.863099943854027,4.863670651975318,4.864690728987369,4.866335888686848,4.867697797926724,4.869432939671666,4.869823920063869,4.870622198646636,4.87183498089555,4.873363758562301,4.874421278200481,4.875664523487139,4.876800913169293,4.876998443230277,4.877807119773829,4.879269701700107,4.87961194151488,4.880385470425529,4.880485205712984,4.882218087941423,4.883187934358423,4.884580493567155,4.88862401261424,4.88897363900102,4.896729465152896,4.900209833970026,4.901555110083233,4.902308198091608,4.903893677874314,4.904671408595355,4.905215263809229,4.90631523014851,4.908111656159206,4.910476121987776,4.9139279328231495,4.914091829396693,4.914991072250064,4.915954715874021,4.918429104143514,4.918638255033938,4.919377203269775,4.921097044650135,4.921300052034607,4.92156900820092,4.923270970068309,4.924025623454581,4.925138163199951,4.929133490360958,4.9295867877347455,4.931840469437432,4.932332031047242,4.932928204901444,4.933089217921389,4.933330065633749,4.935373184377237,4.936344053281634,4.938222444765321,4.938992907881551,4.940949506332283,4.944026572348336,4.944453935543656,4.948314239690991,4.955180806707067,4.956338834561142,4.959977489798139,4.962672353242136,4.969054340030232,4.969322575791063,4.970310769564323,4.971397120251966,4.9757671894616236,4.977772783087788,4.977806973904283,4.979844375359349,4.980342845063269,4.982988081922127,4.983734939974832,4.984846567280582,4.985997741875827,4.987556316061444,4.98876629460627,4.991675128347023,4.991974547154854,4.99229829793696,4.992823262157645,4.993365124622025,4.99404861765874,5.0043671156279474,5.008082231415138,5.010323689773628,5.011971175558621,5.012944025073422,5.017649115715805,5.020371621927146,5.022163418485704,5.025387645688481,5.033760109845811,5.035810935678515,5.035846477849151,5.036581583065242,5.041202739185137,5.0478234033679295,5.054049151588269,5.056450647580751,5.056685526517458,5.057980239095567,5.060948540269256,5.0634902664013035,5.067853592783374,5.072246065345817,5.073735753416215,5.076241033524889,5.081638419622056,5.084234633889346,5.084508583350651,5.089700739801662,5.09001743579693,5.092859208456252,5.094373810631061,5.094465461079791,5.094546647425297,5.096357750030427,5.102119190404248,5.108333905609806,5.108608323711771,5.115422295306844,5.116489116162377,5.118830407298963,5.119607498869017,5.120978816683672,5.12239810570727,5.137024425043216,5.137138597087331,5.13819584109898,5.138339057796014,5.140877506288043,5.14287213192843,5.14339349594513,5.1483994695507995,5.155081771080434,5.160966373693995,5.161468172212061,5.164825892715704,5.1700641587038225,5.172779481867231,5.178769275159236,5.183427789930044,5.190885496915574,5.198662375273654,5.199807411648488,5.202419498402469,5.2065621322928015,5.220355760789617,5.222194484197846,5.22317791386606,5.230770914649353,5.231896600875252,5.231972952498227,5.2329712600009675,5.23384439241975,5.245775953382539,5.2757924612668985,5.279764904515408,5.280705592648571,5.294032673984275,5.295359029858874,5.324537509521696,5.345308202785003,5.351197329307369,5.352920648221293,5.366724965687988,5.369176535187453,5.3692423000466425,5.383027298207422,5.393574646095578,5.405550259744877,5.412024658982544,5.417303745778181,5.423082253278684,5.435125160722378,5.448939323452517,5.451328834570707,5.465557811474384,5.482188828306832,5.48391551799814,5.489654458684215,5.494103196895549,5.506991672551448,5.528388228726766,5.535555948178699,5.542400785783444,5.586513018080978,5.599511602514156,5.607575178452632,5.619777647010113,5.650804511217701,5.658345481237783,5.692148968025756,5.747425150046843,5.750212177960483,5.756710963949644,5.7714242599206775,5.795604718106215,5.811464434592066,5.830812695237657,5.852035830488826,5.8680136691902245,5.875512721508361,5.877577463535713,5.905508744133554,5.929119577557458,5.9362535951542466,5.958082559021274,6.050841812009585,6.063164127786666,6.072337960221694,6.084011324975487,6.097876497611825,6.208544371574522,6.2695791840506985,6.2826711090656735,6.293514793176659,6.329978250730601,6.3632298352141206,6.405608472574393,6.415955585489512,6.422917085288773,6.525422468097846,6.709418211656069,6.726750931627752,6.731130219676097,6.745836257378095,6.829948031688792,6.844700230047901,6.847687742736503,6.901445470271923,6.955547436431911,6.976042650491198],\"yaxis\":\"y3\",\"type\":\"scattergl\"},{\"hovertemplate\":\"Component4=%{x}<br>y=%{y}<extra></extra>\",\"legendgroup\":\"\",\"marker\":{\"color\":\"black\",\"opacity\":0.3,\"symbol\":\"circle\"},\"mode\":\"markers\",\"name\":\"\",\"showlegend\":false,\"x\":[2.5407791503172934,0.24268543423721742,2.674229926752588,-0.11010293429233214,2.7444417012425224,-0.04738985629006296,2.591893424438658,0.07170850966188848,2.4683570728943507,-0.2082005126613411,2.429856278403714,-0.06114575527761231,1.6116275543767726,-0.22948543963028445,3.4332028345244403,-0.3504944515256195,2.4185643468222624,-0.13032558959098736,4.349920093500377,-0.11233722342111091,1.9563877314181668,-1.1683399020019052,2.4323232176936225,-0.06303953575754882,3.1884734646651736,0.07577032848326555,1.6102430925959115,-1.7358374966297714,2.8394037177024973,-0.37339987824313664,2.601560849416659,-0.3624952753770452,1.94014912629449,-0.5617475147754698,2.3264443827009385,-0.5921213629719921,1.3914565168545947,-1.1194916896854317,0.17441214637636596,-0.3177939812054773,3.2151126920218545,0.3116402139076486,4.368000884624751,0.843215762280134,1.0701598941448631,-1.8311472380115166,1.659872216201644,2.595450444394596,4.374612940207852,2.504514961034361,3.3202317565935817,1.1891591451259635,1.2374101199936418,-1.111930518812081,2.283741850846264,-0.45061314749315895,1.7757018695322426,-0.8925229224881831,2.4680654372714312,0.014752604705988475,0.42183372206922276,-1.476111737091191,1.9115011247136364,-0.13865558899418393,0.35849032928104424,-0.5477230526782562,2.109585708957351,1.2088855780077952,2.161377506264946,-1.1330144588761992,3.805384813034531,1.5540752173188308,4.1308131657057965,-0.29674269193602726,3.7833078118048316,0.16371635160501713,3.4774568347210013,3.759156799746745,3.1764200833919864,-0.24821549706998738,4.501999044850895,0.671570477414082,3.540944952960981,-0.2349445904215722,4.298519645445887,-0.12141326741807165,4.303255412054034,-0.0866834940861918,3.5321644009403745,0.4597281580261745,0.5929273322946265,-3.0743855528087196,1.6190791693979767,-1.3280616836446308,4.102097404138356,0.788954861903366,3.3866719184521403,-0.18302679640198516,1.5363094702279172,0.07345766258731068,0.4769531257600078,-0.5035104119336136,1.7486766785717966,-0.8714466158630898,2.9225628434480875,0.40195762302575266,2.3934673034631113,1.1076754963632436,3.6173639610576718,0.8145363730434656,3.5123261850033054,0.4991350841142429,3.5991845739809896,0.19463059679613479,3.3916389934252558,0.549223693545863,3.4913454945018683,0.730501691757625,2.448174102612497,-0.11307614414719071,2.3540002435561673,-0.06490518622587073,4.281348111490114,0.9557535273614927,2.4144478987071762,-0.1538743694772352,2.370992183036771,-1.5220999571799574,2.5754245174252866,-0.7982872519217671,3.4289886973206385,0.3867496594522146,1.8417383308416566,-0.7276874927031246,1.2705735755750613,-0.9528924540605322,3.3761086228755004,0.2949199222455872,1.2528162918214898,-1.2770737267916015,1.8766767669175346,-0.5674927613649243,1.755961738968997,0.923383367836163,4.5106170127598375,0.34982691132253974,2.937733181518609,0.40819782102992785,2.0298047916493718,-0.5391692481780591,1.9192315014333565,-0.7182007725165405,5.085925754067172,4.549869602928283,3.8698966944037965,0.31167681761457505,2.20440930588945,-0.6517285086096142,2.1820624295375475,-0.8845600972503721,3.1650607989035935,0.028364363828451925,2.2724925673464655,-0.7230755308133447,3.1287909589029113,0.3769527774087237,1.689829452224601,0.30972047548871534,2.495585238620602,0.22441949120076696,3.3581432446230726,2.426927821360729,3.6501882584951995,0.09413524432385988,4.006428250426463,0.7216316923197111,4.161925813287499,-0.07699253724940647,3.1454977348940965,-0.33108732713817207,4.467251377906255,0.4029146024368748,3.0022042372359237,4.608719572560885,3.987141525848822,0.22452598968394785,4.312141875416468,0.3665867721937309,3.850984426025948,-0.09719667944921159,4.260027271763852,0.8574691591778039,3.532185552425338,0.4572723017892705,5.1278818998274796,0.5998940806873422,-0.24963139020911254,-3.638004811710598,3.414329981644057,0.4406177621514324,3.2907652878837803,0.45662269427473057,2.052793895986089,-0.014378876437588048,0.24065027670763653,-1.3576487518482165,1.6108049911434654,-0.640183799364845,2.1139195762015235,0.09901017828348085,2.7352976091944483,0.2389168680551988,2.7452802871088986,0.08206942021399592,3.462040022891881,0.5783897600264382,2.6993996707650343,0.16021565155738768,2.590947994397193,0.20605750959644234,2.9492776833860064,0.18513541322225233,3.0436847964108193,-0.3213387246238851,2.3846557113901845,-0.32370057171514793,5.171895071410239,0.5983068949630475,2.895509143048,0.7311092132973248,2.3544751250775375,-0.449198775887221,3.0762357193911742,-0.04478939072217446,2.6157030627400006,-0.055662996404601844,2.3836060288894663,-1.342627406031807,3.4010662099587745,0.32776070980748967,2.443122107254842,-0.3481038316580818,2.0085948585912594,-1.2292156309432545,2.510643564597393,-0.3367242963635319,1.1048673405853895,0.25286988475225847,2.4956756786283707,0.6890148789892432,2.731987316737507,-0.9100675239070033,3.0082457821494812,-0.314153083090035,1.8837540031456752,-0.976015058079208,4.199310678106507,4.996119130314823,3.9417254927951815,0.325851838937451,1.4796813743671795,-1.230384097429291,2.7148990727810136,-0.4079733693715717,2.7101214815971555,-0.5938192283034066,1.3236501593554484,-1.7243291496808124,3.2203918329597214,0.8267764285231294,1.8755918061844092,0.06678515069534069,2.241497940969603,-0.018153410020893743,1.5925467578976027,-0.6808400673442083,3.3628611280701373,-0.021213644628519334,3.457506243320314,-0.1459111344646515,3.9680771001644364,0.7375536491014087,3.310440040741552,-0.5068289357446504,4.208606896693849,0.05154616281337109,2.9717248756944286,4.686885136647166,3.8888689224493995,0.2655447433708559,4.859796873212545,-0.44884009675939385,3.490626014584186,-0.5703969150568471,4.102632333754528,0.6957904104518663,4.468896943151983,-0.3556227197954574,5.195235328360606,0.459096679287595,-0.20158346364000648,-3.84034118802446,3.422929718636032,0.5796915426409147,2.5590958550056717,-0.8823333859531046,1.5478832474675446,-0.8874124603033062,-0.5140535848578954,-2.320301005856859,1.0865112126786607,-1.199137914530706,2.708519556346904,0.12227582268418191,3.034660973051346,0.508367828818263,2.653654684253369,-0.06838833322323201,2.186422668678674,-0.09857468664453892,2.7049229135249715,0.1409879998834151,3.3802124527136215,0.17971246506554997,3.195768451842224,-0.20804192682991465,3.2100797914193997,0.2841336501144293,2.7783090728976747,0.12901853213245823,3.999230832497697,0.1780694636857988,3.0162090503428134,-0.5843015269123424,2.2428869685698123,0.10757092588869702,3.1384418550060555,0.012195685402735586,2.0270877587453153,-1.6957450581378384,2.4708170563956715,-0.33100621366602523,1.5359539606051582,-0.9573320765536166,1.8991378273724728,-0.25728162488008904,1.920095201125293,-0.5223616583402375,2.2982742963038367,-0.38160682234014665,0.6746086913542991,-1.0475563446773526,0.9476290926917345,-0.36266006446219995,2.5255642890188175,-0.09294373019914645,3.0008127915052976,0.19426852874190503,0.9788249790970138,-1.667922315064363,4.467577977468184,4.696110786259062,2.0383609766337276,2.3657257039814983,1.9801108227706627,-1.1904263609810901,0.9294494655040619,-1.111877208875705,2.039613415605828,-0.9465789113033842,1.4106512878414634,-1.7050149742277378,2.661620435822124,0.2741480458924504,0.9421118084727528,-1.5615290738235685,2.0291234740949884,0.3797520767443799,1.3665577776441875,-0.5396090095806299,2.9798917254836312,1.8267825733745404,3.7486908183519883,-0.945246232611491,4.622141458556851,0.7063565666973419,4.058998758306193,0.5757001858280457,4.15909627629569,-0.5544087640588978,3.16912476316038,4.532424543572199,3.8717824905754155,-0.19237521867767052,3.9819205310401697,0.37050508161242435,4.438679658275808,0.3604688656985501,4.194185633559437,0.27602011778506785,4.497794888152523,0.3876166245635612,5.879899859522436,0.00955406725528545,-0.38915843089644797,-3.144607109416966,3.739108142415024,-0.32233710621115025,3.1505285610471723,0.4180985528496645,2.188724962513357,-0.946863885184649,-2.352793238342843,-2.6108235500819097,0.2117902059619654,-1.6459005562601048,2.4187412612247567,-0.0016702645191034118,1.8520234801953626,-0.06091713198225159,2.267074945648414,0.36417216584778644,3.198299972886999,0.0740777019577606,3.9497614395815104,0.34628752880215463,5.022568423187893,0.7874485452999084,4.981949754731641,0.9944482021330737,4.5797224251731805,0.946796436091151,4.42686451968952,1.3184257195496893,4.588408988031692,0.7575919677578528,4.150117240726739,0.5836121997418787,2.6707568366857535,-1.3196113994721101,4.805732210430233,1.9058240800441981,4.6328139938436035,0.46184375627879476,4.849731068100774,0.8389126968211577,3.2673034153174645,0.033076679236129516,4.3110070442820465,0.40132682101793865,3.343862991300659,0.2317064238615401,2.725848075584084,-0.3868131729096604,1.817746008016321,-0.9704948054958822,0.026672911055127223,-0.37035929142451024,2.762835601192017,0.0007036416788249989,2.4752536391763633,-0.6977814895055724,1.931899807340705,-1.2335899908500423,3.6568895796017538,5.396962040617294,4.024480113327516,1.8473416191981349,2.2637274880367273,-0.43401094750039576,-0.19834439326769268,-1.1259964753803935,3.0056319109323257,0.22512531589018292,1.9185575213012511,-1.2712521850874607,3.0129410400208725,0.7421542732443582,0.10408602152993571,-1.134501489812086,2.2695936804715764,0.27325581016037026,2.3156281174652245,-0.6444672089682929,4.395356684216153,2.4149927350892018,3.156675934704803,0.096584379752426,3.469527079186191,-1.0742088159568677,2.8010435082270324,-1.9651239631811646,4.317273431831622,0.24762803649819326,3.140397405163478,3.7690566971360906,3.5163252612514877,-1.0296058938481587,3.176239947106386,-1.557265190106142,4.822844625070632,0.44049263122741306,3.802940003376669,0.14600235002964077,3.247705698687842,-1.3991569092303815,4.397804466637603,-0.33120733062756536,-0.7110079715245385,-3.561008809979858,2.7870212114604276,-0.944803086678559,2.294950410585151,-0.4064363942452407,1.6923113839792356,-1.3869327085052852,-0.8357713038166075,-2.3881110995003976,2.048573495635504,-0.3457200538163662,2.3589575866089842,-0.17184472607481674,2.307436496123904,-0.8062409547962073,2.5393667960291832,-0.10167826923848261,3.032642451677892,-0.06577775287642285,2.9745754728745117,0.10731071803039476,2.7075852201000883,-0.04632466724369366,1.4328584147019703,-0.3729130393850198,2.8676482640748713,-0.1910604330020359,2.4382788554262036,-0.5468160532533564,3.789227572746993,-0.18973282709574182,2.151194848706648,-0.7182234189411278,1.6317956308668076,-1.486689417037678,2.4722008497123835,0.9741197708111586,1.8463995600517409,-1.0221400161701868,2.110917452570134,-2.2252188358025164,2.4557753900709316,-0.7141373915750507,1.1684199639165016,-0.9900653788360376,2.689329098280594,-0.6665440479157335,0.9095400399657416,-2.022570315837499,2.285002294169602,-1.0861411637739664,0.29113467715223335,-0.7123777080068936,2.8689174589453668,-0.42673164049967577,2.3857114918001363,-0.42130814704238373,0.3834259552492181,-2.514008903123227,1.784908392804946,2.4257700485118168,1.6443634309890027,-0.11490162575032566,3.6541168922112703,0.6195090198529227,0.3807119715583568,-2.7193068905537303,1.8722704042898073,-0.7637390847988124,0.07998757879475132,-2.2479778866046853,3.1434100642965515,0.8011818493025753,0.9894252127175995,-1.3493847984785317,0.15871655641508495,-1.135954219955933,2.060470235346143,-0.18907564429063276,0.8129771191710872,0.23684076475560337,2.9531213928782445,-0.6862526778779643,3.0081186709959993,-2.03653822511346,1.9554980773760824,-0.23701818121876733,2.1675629046256457,-1.6767190063598112,2.4108065973846324,-1.6600835858324556,2.5604029071110004,-0.7472727487561415,2.1787282260482885,2.254523584823722,1.5905436598678917,-2.1915330582099695,1.853474642725861,-1.9842501500178458,2.074196075913973,-0.9521922275809954,2.7746185082520465,-1.222296226562181,-2.0080690899317455,-4.81756234866443,-0.3440947833727833,-2.5045498771119914,0.5035130782127807,-1.2831094646782428,0.6990177250577848,-2.48866473465676,-1.5590336077037754,-2.2589399899686033,-0.7913054787819305,-2.422667216157738,0.6413941415319167,-1.2486803572546883,0.8134750083563916,-1.6936778914215196,1.1539632601766034,-1.9931818992525272,1.4509085018415147,-1.1238324421570156,0.013149512756212236,-1.5466793582990823,0.8502339509864607,-0.9698825526756933,1.2705930523850355,-0.6099034868093279,0.7804672535522796,-1.4626156658257166,0.5541416020744039,-1.0236300179875784,1.435592576256308,-0.997494576140312,2.94293688181104,-0.9271702107974984,0.18904599399466304,-0.6540523854575359,1.4138925692308426,-0.7537934061427056,-0.3840708912203774,-3.033631849867592,1.1597302456240328,-1.0373524400764915,2.670454905713586,0.24283763169044337,1.829590681836444,-1.6321245892574592,-0.8582206151880779,-3.0780191062491986,-0.29298741408287743,-2.1341124581107116,-0.9205177433064728,-3.257330970293503,-0.8712112765266328,-1.0172357653895663,0.19776219383691,-2.3053468769801793,1.5497052768190567,-0.789227671264529,-0.7486660843246987,-3.520611565789882,0.2691562169017293,2.151725143147564,1.3675003298852757,-0.45876142277489623,1.6141288816637744,-1.0230109849950246,-0.5972123370373437,-2.2842800080419283,0.5566111863275791,-1.8199151301690712,0.26911276868226974,-1.8564188278727263,0.8145080448189863,-1.1333764242262727,2.043544516837128,0.08489752077044646,-1.0294341679566283,-2.695271443526731,1.1588447813883795,-0.00514175390169932,-1.1412634340134191,-1.2303228933127028,2.7691799577662537,-0.9452866000307459,2.5854786497889015,-1.6698177662627418,2.640553588968562,-1.792831206109103,3.472792162828226,-0.774083238009144,0.14836776724685694,2.2446640689084587,2.8304381328805217,-2.0263536125417314,2.705900568016818,-0.7955180673073053,2.663365528272292,-1.382681513941482,3.0309177361463084,-0.826852564518071,2.150782239672914,-0.8072087748678326,2.1885470176430686,-1.04052377334157,-2.482838204406499,-5.280742622760932,0.25773040565086314,-2.2130589113044428,0.48686509443260123,-1.0387008317165898,0.4398793755875346,-1.1378506610702597,-1.0861331845467699,-2.912566189877064,-1.9411893627255397,-2.828195948639812,0.48507680055211155,-1.1998956261434712,0.8734581841865852,-1.079921658639641,0.11866133811162859,-1.138838139385504,1.3646490231034154,-0.6313839912315884,1.038319572696059,-0.5286709124278863,1.3569080749198428,-1.3122014121886456,3.1195088754934326,-0.13866032551224408,1.474324500749825,-0.884502879060781,1.8213434206490366,-0.37304307709366924,0.5029976697676887,-1.3448950516036884,1.9251709550323253,-0.1434856041480026,-0.3249555024139141,-2.5645646756532283,2.3828520601900847,-0.3953603869469097,2.2030287369490704,-0.8922120549334246,1.3201633301796298,-1.0684365418023427,0.3073623162915168,-1.8736464320530903,1.4762566719954582,-0.9372838065090433,1.543561347868424,-0.6379347328182361,-0.2973547853019442,-2.9252802154098685,1.2424637879836247,-1.729234675447767,0.011364812494620092,-1.236837098377612,2.5503575350611305,-0.7197174874028373,1.7276617572902857,-0.748694278901563,2.206938637795191,-1.2467988055661348,-0.8815507456582716,-2.193517524026287,3.1666900999664183,7.313295626349991,1.7507903469191248,-1.427242453621547,3.511643193706546,1.8083756041876722,3.6499032566242975,2.1492634642186808,-0.997578043991853,-1.7841109741980103,1.3524274002849448,-1.31639462371863,1.2107196897505113,-0.059665177221509255,0.8330124607551596,-1.4575669277835979,1.3558820040686383,-0.8533878409109924,0.7247832636770405,-1.3756196592535554,1.3115815136070739,-1.3529594615733038,2.403935769440475,-0.8918681637003834,0.7570716487680851,-2.812222508863075,1.523388850839241,-1.774781225862118,1.278345518881723,-1.4139185801593352,1.8923232461698105,1.4757361688443618,1.858669699672738,-1.8151837098083636,1.203736280916587,-1.0900419569252606,2.274635973492072,-1.7996869701243667,2.1270951456888065,-1.761563763695234,2.836589382979044,0.043446425985708026,3.98005317036586,-0.061557827163847216,-1.8846281860835954,-3.8169620652266443,0.3530391292863331,-1.812349156335018,0.5388716260721423,-0.899841679925644,-0.247737629567856,-1.9938980893520346,-2.59570759424069,-3.865698423119053,0.08010041803713219,-1.7630943292204893,1.1713734536461096,-0.434139256753843,1.7840639774633662,0.18951505264933366,1.6136958824331102,-0.9199786925667625,2.119809698834581,-0.09562086470608326,3.0295000704918085,-0.22339070161485935,2.4989539292964924,-0.07979183212869069,2.061520012767665,-0.39034764752580514,1.7233303396413928,-1.1071103938031002,0.7751596637842307,-1.340867836008153,3.4281229253238936,-0.2700976048892435,1.294031960904253,-1.1329124157826156,0.24514751934654286,-1.5633221107471198,2.2905852302775305,-0.9586315017270973,0.35123135422730495,-2.3949572295258212,1.6714149859767078,-1.2260817646784985,1.5554172503293793,-1.1031507034421726,2.6822494028406005,-0.19042854771128787,2.515479525370771,-0.705197091921443,1.962053874088338,-1.0071455077022913,1.520869694882693,0.7121995031180919,2.5779333955257107,-0.16875677616230317,0.9212176889306875,-0.506735579981709,0.34846108262837994,-0.9911336896418746,0.14015188873625767,-1.6057875847883922,3.246286643280838,8.328999356249106,-0.4868933661245917,-1.5929074613233398,1.1642537869007419,-1.2694454239481978,2.2053248401974397,-0.09342739418303027,0.20225728538303056,-1.8745181783386622,2.399100298302376,1.7780902203646158,2.205606510042646,0.6805343873385478,0.5850345317247079,-2.059337895995937,1.0515411000208656,-0.3485248609575847,1.6030504804412433,-0.18208436331966663,1.3048266514489095,0.40548729931379485,-0.15475699578281346,-3.7478752456086,2.4226829472504425,-2.2680535116435467,1.8692049607677286,-0.3132299173717509,0.8044175012275635,-2.653256685121182,1.4899422363018038,2.2358778717851333,0.8463592846858623,-1.3322986234952316,2.023914653037704,-0.8106767029754155,3.9252432638006014,-1.025875359701667,2.471575112363422,-1.5105410598853537,3.354196070652048,-0.3292187250450963,3.8619517772403245,-1.0961417006164433,-1.8490030499538117,-4.5214438234994985,0.5814334753363171,-2.33988810416595,0.040763144345887924,-2.4117834696162554,-0.6171126847457504,-1.7824836364149599,-2.2401896215660275,-4.257957750154763,-0.9540115420662787,-2.361250959587313,0.8230277003323462,-0.8411815102194499,1.4829531605442878,-0.024356339678579492,2.2378586491529475,-0.2750535673301128,1.7598146560084762,-0.4205555672463507,2.3157370786856193,0.04391157709984092,1.837200912945977,-0.1120560007686251,2.1889834702168,-0.3338328114130083,2.074965752549004,-0.37265389291873396,2.131248078548472,-0.7712795002190287,1.6241365756174895,-0.9983957788785471,0.5102665008151962,-0.6817970276109429,0.9318514789035927,-1.109471851195078,0.774873456709984,-1.9980352087434958,2.8347771997280637,-0.5120754262001982,0.6445104288958708,-2.139489915837727,1.3228255157973559,-1.0697590795381127,0.25894047974574036,-2.022174215650101,1.2032676952338872,-1.421312990922464,0.18720439778270964,-2.4739297434856695,1.0701456268839484,-1.1536855247668931,-0.02348407006772863,-1.0571971588311575,1.1785192861835005,-1.299884087161111,0.1984837930866742,-1.6280864931586714,-0.9902712879151809,-2.9950582456018107,2.0290773430197797,7.035653596583267,0.4808386088189995,-0.8845506265954602,0.6302548744087929,-1.3215808781987597,-1.1715578385862204,-2.902352882092562,-0.7589834879266424,-2.1883992384920314,-0.910845413981923,-2.3601874123561224,2.48190719992381,0.4728520710911618,1.2331566493836321,-0.6113658574603498,-1.9363023153944992,-2.81370176106726,0.5815919776298155,-1.0823137490268488,-0.027272544731975643,-1.1774532258322565,2.356812435639619,-1.2879336263369512,0.778327600283396,-0.9221144276687986,1.713021094058052,-2.0085636910450733,2.0318690995067894,-0.8869620541170351,0.03303587546385597,2.4398062259120548,2.3412442363866437,-1.7220980399636736,3.0560096042892306,-1.4381410784232793,2.737170939817167,0.8505029588829303,2.627617176401105,-0.5143115987442286,2.448213765899293,-1.9820978732538488,3.108221533001953,0.09433894198372586,-2.101140695894403,-5.31334475295637,1.084213561100537,-0.8819170095165523,0.3317487827249479,-2.184159585900641,0.15889820148989903,-1.4165574027132741,-2.7285928661661045,-4.048089332434995,-1.2063034001362984,-2.1848574683924094,1.1455096156065225,-0.638937889172148,1.3527872202872546,-1.461927369418164,1.4622372883783497,-1.4255015262818442,2.394321338327323,-0.2440792019332836,3.427802281768961,0.6635875707037052,3.1041897521314863,0.3136895196196594,2.852703285132041,-0.5993262064927886,2.1865486306644155,0.12624760976196167,1.0831744153124998,-0.3885963007823644,2.3741059003869296,-0.7937748634422325,1.895512108067609,-1.2276503513542751,1.2102754081969855,-1.548541461710838,1.88293955418842,-0.6770796265230776,2.4141904331235597,0.824157252659284,1.0989346877641082,-0.38719542093553,0.12236303807114166,-2.8542328909386914,2.4685995025940235,-0.45991922864498164,0.45423126302274786,-1.7478964246066864,-0.3594910212377517,-1.9578930326140327,1.0441744614837152,-1.253098366304093,-1.1500353412737307,-1.8811480822966735,1.8483511468649778,-0.7927873785367823,1.7895715658723013,-2.020806470629689,-0.077951479455302,-3.2037812214249026,2.0402819639142282,9.192571321354935,-0.3365622452823165,-1.244807780710502,1.5427963092506367,-0.7692054138113747,-0.30293049799712923,-2.639710321432621,-0.6208801388242357,-3.2144084355086675,1.3874219384362694,-2.129527340609747,1.042873484844494,-0.7177011717595256,0.3410720438357123,-0.146918878310986,-1.0097919143149428,-1.1990563651486215,1.3704328006337434,-0.7468816832861352,-1.5941655956054102,-1.3366274308634765,2.935686885863953,-1.2988756361211415,1.2376881621957398,-1.5788758864368233,2.626607047510088,-1.5423056400064201,2.3483491745415104,-1.5425939069096002,2.0449377095979515,2.1654276441968365,2.9209787720718454,-1.6006163107801283,2.9589865727055438,-1.1008463671505764,2.913161810949062,-0.16773225894441995,2.8530554247509747,0.08156677882080089,3.190011049100604,-1.5394859642356207,3.9640829713849284,-1.3412902934657944,-2.0410188146934614,-4.568152137524092,1.5450221946618348,-1.83511352578353,0.8186480742609237,-1.2829314565221668,0.8600774373578945,-2.0556876398727706,-1.9281854742118583,-2.8032111564019777,2.1156374410960193,-0.7034606957707287,1.6415754885181577,-0.6964604661301714,1.6959073910913796,0.0014920692469423706,1.818245145382698,-0.11282000108813094,2.5947063901654515,-0.10743082849889549,2.9974762357885694,0.2005858423688191,1.8253472564517714,-0.3531660098076126,2.5502308355794607,0.11486214805949103,2.5129600978284383,-0.00386556535751723,1.7056773664778486,-0.5049673476473612,1.9757785023065093,-0.3410801715480539,3.3086110812339475,0.013814637411903974,0.7197526860264507,-0.5850213053392576,1.9800521977509897,-0.15741818076342334,-0.1569716343054857,-3.3043487734752146,2.156043949317389,-0.367358352749189,0.9548680337392201,-1.564607371873542,1.3099780539981063,-1.038240532082525,0.13637139364674464,-2.7852338318685583,1.220649093857542,-1.5157099027657355,0.2605458351528757,-2.323010456295281,0.6613845322293971,0.49888372068127523,1.7843878437327947,-1.1289375383702513,2.033603319357127,-0.6793649077187021,-1.242810622856728,-4.292996637720141,0.4868378214722005,8.621452028818906,-0.9731439394101625,-2.889743247376308,-0.7654942651779434,-2.588976337517502,-0.7824878143183616,-2.145219043346483,0.7701214745119808,-1.8566248283487417,-1.9591462370317978,-3.6266740566043403,2.3471876466766113,1.092416594510614,0.1521121200797906,-1.654250297748203,0.29385494888415614,-1.228610834902727,-0.5923243963533142,-2.913317649678199,-2.631437573884685,-1.7204184308101058,0.4905311360825678,-2.481648171862846,0.5085627936911705,-1.731619268994516,-0.28348549604648965,-3.2592810588079724,1.1224510387189026,-1.7220668560067438,-1.2707728427388387,0.6025984022265671,1.1040357115573434,-1.5795173897562402,2.9174670987564606,-0.6953670888684627,2.917251973075162,-1.938125404044946,1.8155501358253836,0.018686295641264894,2.2342577884310604,-1.2524662111190832,3.3708230155878818,-0.32363153803418626,-2.6573070022647305,-5.914160466660068,1.039200197355737,-2.0226534496302344,1.3205331252284558,-1.2073180891734927,0.34852930471549065,-2.3685070464042277,-1.3624108020652292,-2.516138293702797,-1.244796978715796,-1.8380381134913668,0.510941524358036,-1.3192956450646474,1.8072890435357842,-0.5838984546111194,2.3666244187626337,-0.09344964229850103,2.2842383174175658,-0.503324377086174,2.0088365037971174,-0.13567344510125173,2.9756627299636587,-0.28971289521044935,3.2930590211371915,-0.07890779272400834,1.7432903220163265,-0.8019476066998275,0.21900811685582797,-1.5567853546487311,-0.05086306887722241,-1.9449737924384753,2.2957427131535573,0.15551762077739317,0.8957695583511667,-1.495467074595886,0.39023512888661127,-2.5039665949773484,1.346944462277586,-0.018213657953745355,0.25994995511974034,-1.807822949088304,1.3296359342637176,-1.365077716853573,0.06563751465672124,-2.0252818274066122,-0.6012850003102164,-3.0019157836493413,0.4496748282247707,-2.1705327300556414,-0.5134620358757161,-3.6246325514626565,-1.5029757870414349,-1.2406639680587275,-1.2501172979392523,-3.384549336284494,0.45928785790930776,-2.4718693618041936,-2.2311853560762773,-4.592586360765053,-1.7750239306403521,-3.238506921751162,-0.8935944392078804,5.849771675021213,-2.888671564798768,-4.967519300052024,-2.0111453560678028,-3.3232117135527166,-2.2786302914534127,-5.016397566431122,-2.6138049978791225,-4.977669938115647,-1.9727483762047744,-2.4270727576120237,-1.3242835986047816,-2.4750070923037417,-2.4884302526813116,-3.9223796378439104,-1.2435652452633534,-2.957273998283572,-3.767946692403819,-3.8748009288493948,-0.6668716520729637,-3.9016630037211004,-0.7997121487092316,-4.044150649240757,-0.5541530523180564,-3.6070748236877295,0.8710170477888172,-3.0649956968519185,1.030348408367589,-3.163757654310088,-1.3214763244246317,0.11593209123147442,0.7905134037201379,-1.9377787405210483,1.464206845100688,-1.6409856652387165,1.5984515063926639,-1.0888120083934845,0.9499515868404441,-2.283346579687604,1.7126563134332025,-2.9222142630158263,1.7929813020397087,-1.5378390538933397,-4.512641975014506,-6.02741669563636,-0.6646577618996722,-2.038484633716667,-0.7632781845981433,-2.080293624623506,-2.0691176793686017,-2.7443367805700243,-2.4193381940102614,-4.855360974330029,-1.0908052015585519,-2.24140274173593,0.34856289479335784,-1.1060912313283193,0.3784184780592764,-0.8415710346226117,0.774638617470466,-1.2541671997240915,1.1749782478038233,-0.9542275377968688,0.5497147868360405,-1.027517489624406,0.6178874079218893,-1.0426269115762177,1.3249839772696892,-1.1237049259695113,-1.3511855255093785,-1.929657727810025,0.041140708982648766,-1.9739659542619843,0.5833692006989076,-1.2105461570645455,0.06527640444433339,-2.138810371141497,2.1434900310722815,0.3616416102295455,-0.6619384751711023,-2.4036917858024323,0.49671096127991715,-2.0354351251766483,-2.9121421953333333,-4.848650072485475,-0.5686440859800899,-2.3902732872910226,-2.0667312458019644,-3.5747396725010954,-0.07274129295834271,-1.9870499321617165,-3.606383323235386,-5.270877639362413,-3.134132230004929,-2.897518495070623,-0.3255285116052191,-2.0094933503218133,-0.22812737084452336,-2.5266947360779453,-0.7355358777596571,-3.2624528749699038,-2.4368758406348263,-3.0650142825214943,-2.6238400450877872,2.5730310483164764,-1.9685491066206668,-4.077717672974109,-2.383350286287096,-2.556922691629692,-2.8797800861608276,-3.8371164104554647,-3.132129531528159,-4.090453996278776,0.519544344415465,-0.809573769610421,-1.8755912337342566,-3.50483491584392,-0.8762228748545511,-2.511429196512209,-2.3723322087566046,-2.9777708168074857,-2.957024678250826,-3.488284476510621,-1.657438179285395,-3.9294984580328562,-0.8180186184322189,-2.641278263545084,-0.9454032632177941,-3.177244240634914,0.5366542092068439,-2.676040473595668,-1.933564435742561,-2.52220219226142,-1.2109568065931415,0.37213107699579023,0.682099690080971,-3.235071121919306,1.5992217240418094,-1.8787584303401739,-1.440834621414679,-3.3013977115232644,1.1905420617054223,-1.0791484009262604,0.6628907400046931,-2.8156020761220333,1.2403759644532446,-2.5068443069013098,-3.9682501865353497,-5.704753535913812,-0.5180729138446158,-1.9583132108939632,-1.2669530106701918,-2.864087695975608,-1.9989060055663026,-3.950163190115427,-3.6926772703639714,-4.7881897620550475,-1.6118998404015104,-2.544959724816451,-0.4487205092376778,-1.5838168540931592,0.23511657689909546,-1.1203045564804728,-0.41722432608306687,-2.325598551648023,-0.15550833390198354,-1.5304775322839592,2.4557751943896133,-1.192081095316674,0.8969687108221267,-1.6623308823382021,2.3758337167014303,-1.6595213934117885,-0.31580551874570095,-2.013384960494827,-0.3613121179616637,-2.4387055260745756,-0.6125775741398328,-2.382087521472052,-0.5722317169060439,-2.6670966692511864,-1.0414379970684884,-2.5789165600737376,-1.1025190658758712,-4.468727199430991,-1.1355528074212222,-3.007642830919586,-3.025677574904447,-4.462567360325549,-1.3813017834820838,-2.844853171359811,-1.308062735806297,-5.479913559488425,-2.7842606033950843,-3.9541977306341423,-3.566493889092819,-5.286842730102198,-1.1173968739088675,-2.098305398042535,-3.8117673934070537,-5.1831917086888435,-2.8592352129335534,-3.9053635913619,-3.560102704649026,-6.247431056288656,-2.756549696980683,-4.580376507087411,-1.9524319270395099,6.820275932887144,-7.320154651942755,-8.891806052871846,-2.4916083035332104,-3.456931274487048,-3.9798445021056397,-6.740940583342549,-5.912809268608607,-6.80960471939478,-0.277328032925528,-1.6967761298068182,-4.329107793261227,-4.764571821337391,-1.4281340246520615,-3.763636451107577,-4.578137154896156,-6.294951424362393,-4.23277594024317,-4.467163287484443,-4.386971465429283,-4.6803529155440176,-3.021144457201575,-6.643247626903706,-4.713801290241847,-6.5942711752798795,-4.604264413485048,-5.886474134145069,-2.0491856900741827,-5.2263437081276285,-2.3775948776072653,-1.2396687475601247,-1.3919005953059445,-3.686901233200063,-1.1396954696776662,-3.0040527171359495,-0.7906899992576928,-4.184135348967413,-0.7790379932484457,-3.3450045359583416,-0.42366523319011123,-3.1983677489363966,-1.1454277178657177,-4.148586452457565,-5.429856401635695,-6.432958714126896,-1.3140082808886984,-4.144448723345187,-1.6693162214742712,-4.132473302628382,-2.9193538170332016,-3.7860145684875497,-4.086537175562526,-5.453960375591282,-2.202760374852798,-4.410671706870225,-0.5357715822039845,-2.1879325925148696,-0.5176213179707333,-2.192017234472036,0.4689920457797296,-1.58855401090243,0.5048631820683637,-1.8598220690638474,0.2564440691348139,-1.5706630420036327,-0.8281418628793793,-2.2486459002292234,-0.030813140382382764,-2.5573338295231127,0.5658762914334022,-1.7999911908472401,-0.46817856337069,-2.188116632930071,-1.891452886972647,-3.060311253188181,-1.4735907336294853,-3.047363234564927,-2.005372754941293,-4.705210601876967,-0.6955965087579606,-1.698201071245216,-0.6105939845585588,-2.4738040513328814,-2.0728969282776384,-3.600735105614926,-1.114215785441855,-3.066371107632258,-1.804458346171831,-3.70585525222519,-3.1845484819963703,-4.920785980307173,-3.718401623893718,-4.950363746960045,-1.5125922917858716,-3.6829865252194813,-4.86001176636444,-4.083912398878309,-2.4638366954071484,-4.773331163408903,-0.9543531398145134,-3.3755442751542666,-4.998117619901434,-7.2289978274193265,-3.9731698681370715,1.7966119074276454,-4.266697150367658,-3.4955719298116543,-2.0681738301677064,-2.8246974973838466,-4.513606181676111,-5.842593773007946,-4.456601229733377,-4.713074152644881,-2.0574734261590812,-3.0456960664500476,-3.6344307199367325,-4.979989309532429,-3.2057936428871505,-3.905479030925223],\"xaxis\":\"x4\",\"y\":[2.425,1.467,2.477,1.556,2.432,1.787,2.445,1.595,2.346,1.771,2.763,1.716,3.0,1.926,4.564,2.351,2.695,1.712,2.812,1.849,3.189,2.008,2.51,1.456,2.995,1.977,2.973,2.273,2.968,1.997,2.889,1.991,3.364,2.334,2.492,1.896,2.869,2.104,3.539,2.498,3.292,2.436,3.273,2.725,3.378,2.313,3.042,2.511,3.5,2.784,3.079,2.259,3.305,2.423,3.124,2.334,2.91,2.528,2.97,2.666,2.629,2.517,3.03,2.227,3.076,2.137,2.598,1.554,2.611,1.637,2.824,2.022,3.366,2.871,2.895,2.369,3.583,2.574,2.682,1.992,2.874,2.173,3.057,2.067,4.465,1.968,2.46,1.771,3.09,2.279,3.067,2.025,3.023,1.848,2.503,1.512,1.934,1.245,2.293,1.403,2.523,1.453,2.25,1.453,2.753,1.716,2.469,1.452,2.764,1.588,2.565,1.738,2.639,1.92,2.417,1.569,2.357,1.601,3.901,2.031,2.829,1.83,2.324,1.259,2.931,1.697,2.915,1.893,2.583,1.83,2.515,1.851,2.821,1.936,2.129,1.716,3.354,2.35,2.495,1.773,2.996,1.932,2.844,2.241,2.837,2.106,3.022,2.552,3.127,2.486,2.778,2.228,3.06,2.41,3.167,2.379,3.05,2.56,2.958,2.328,3.108,2.9,3.264,3.468,3.15,2.654,2.978,2.568,2.917,2.194,3.092,2.138,3.015,2.408,3.043,2.242,3.107,2.531,3.241,3.322,3.329,2.456,3.185,2.603,3.085,2.274,3.23,2.366,3.168,2.018,3.949,1.991,2.462,1.735,3.271,2.265,3.327,2.412,2.977,1.896,2.352,1.791,2.183,1.516,2.267,1.531,2.333,1.678,2.28,1.545,2.411,1.738,2.397,1.595,2.473,1.703,2.517,1.679,2.764,1.986,2.642,1.801,4.34,2.994,2.789,2.129,2.649,1.818,2.72,1.893,2.964,2.171,2.23,1.607,2.829,2.353,2.845,2.095,2.636,2.028,3.321,2.422,2.871,2.13,2.962,2.2,3.103,2.389,3.303,2.597,3.376,2.675,3.556,2.972,2.912,2.721,3.385,2.842,3.23,2.634,3.38,2.609,4.635,3.145,3.532,2.78,3.618,3.316,3.305,2.54,3.138,2.104,3.347,2.496,3.379,2.427,3.376,2.633,3.053,2.481,3.125,2.374,4.22,3.592,3.953,3.043,3.555,2.768,2.917,2.309,3.11,2.493,3.216,2.488,4.166,1.946,2.838,2.318,3.525,2.394,3.086,2.127,2.889,2.212,2.328,1.566,2.114,1.523,2.347,1.651,2.596,1.715,2.433,1.652,2.182,1.537,2.497,1.718,2.534,1.825,2.925,2.394,3.084,2.208,2.748,1.592,3.847,2.114,3.07,2.087,3.109,2.201,3.236,2.204,2.35,1.611,3.057,2.464,2.804,2.295,2.708,2.154,3.0,2.206,3.059,2.443,3.087,2.4,3.05,2.061,3.128,2.464,3.72,2.834,3.287,2.513,3.297,2.669,3.739,2.648,3.064,2.448,3.706,3.303,3.257,2.893,3.639,3.101,3.339,2.821,3.183,2.846,3.643,3.421,2.918,3.0,3.264,2.542,3.48,2.922,3.426,2.702,3.129,2.818,3.444,2.754,3.929,4.023,3.367,2.862,3.357,2.958,3.256,2.433,3.401,2.617,3.329,2.826,4.419,2.501,2.482,2.251,3.475,2.783,3.321,2.425,3.131,1.876,0.619,1.272,1.892,1.724,2.456,1.7,2.283,1.609,2.786,1.999,2.627,1.792,3.177,1.948,3.165,2.163,3.086,2.017,3.051,2.371,3.069,2.447,3.49,2.49,3.197,2.429,2.719,1.939,3.32,2.578,3.51,2.834,3.553,2.753,2.822,2.468,3.429,2.555,3.097,2.831,3.43,2.432,3.816,2.82,3.819,3.027,3.292,2.886,4.227,3.408,3.886,3.04,4.071,3.661,4.044,5.39,3.519,2.969,4.229,3.469,3.86,3.181,4.021,3.311,4.014,3.332,3.639,3.103,4.14,3.885,4.003,3.287,3.785,3.368,3.697,2.955,4.04,3.287,4.009,3.266,3.969,3.095,3.954,4.625,4.458,3.545,4.338,3.159,3.986,3.207,3.588,3.04,3.806,3.246,5.13,2.803,3.635,2.672,4.112,2.803,3.851,2.809,3.645,2.504,1.919,0.941,2.726,2.26,2.981,2.316,3.291,2.263,3.164,2.213,3.359,2.481,3.142,2.296,3.488,2.699,2.779,2.215,3.219,2.511,3.517,2.667,5.007,2.873,4.424,2.952,3.849,3.102,4.162,2.973,3.738,3.026,3.554,2.175,4.148,3.088,3.775,2.755,4.299,3.451,3.729,3.124,4.275,3.194,4.389,3.231,4.187,3.302,3.709,3.37,4.176,3.238,3.999,3.395,4.331,3.551,4.105,3.379,4.556,3.676,4.842,3.812,4.829,3.848,5.447,4.341,4.246,3.512,4.447,4.318,3.933,3.346,4.256,3.498,4.245,2.991,4.798,3.495,3.612,3.166,4.669,3.719,4.541,3.687,5.11,3.382,5.335,5.215,4.1,3.396,4.127,3.495,4.265,3.124,6.146,3.511,4.566,3.239,4.367,2.813,4.563,3.268,4.955,3.375,3.395,1.957,3.68,2.566,3.576,2.611,3.541,2.262,3.564,2.613,3.505,2.219,2.711,1.722,3.155,2.368,3.428,2.341,3.423,2.407,3.589,2.6,4.118,2.796,6.269,3.229,3.919,3.266,3.752,3.026,3.171,2.339,4.427,3.224,5.186,4.02,6.2,4.968,4.707,3.542,6.67,4.751,8.161,4.777,4.579,3.765,4.854,3.474,5.086,4.157,5.829,4.82,4.507,3.764,5.356,4.429,4.749,3.575,4.278,2.761,3.408,2.381,5.033,3.822,5.119,3.904,3.279,2.356,4.518,3.426,3.259,2.59,5.29,4.252,3.326,2.946,4.41,3.535,6.387,5.234,6.603,5.031,5.751,5.764,6.643,4.883,7.763,5.771,6.771,5.118,6.479,5.023,7.426,5.067,6.14,3.254,4.405,2.931,4.371,3.01,4.838,3.226,4.638,3.016,4.395,2.331,3.784,3.315,3.381,2.688,3.762,2.501,2.721,1.971,3.517,2.802,4.592,2.59,4.027,2.163,4.828,3.377,5.076,3.637,4.544,3.494,4.415,3.508,6.121,3.84,3.643,2.547,4.811,2.99,7.109,5.034,6.048,4.518,5.798,4.573,7.139,5.347,6.14,4.952,4.681,2.82,7.805,5.36,5.907,4.535,8.127,5.84,7.713,5.526,7.483,5.349,6.061,5.346,6.288,4.901,5.184,4.527,7.504,6.543,7.574,6.522,6.502,6.603,7.375,5.627,9.022,6.868,6.716,5.579,8.577,6.565,8.218,6.787,4.343,3.148,3.348,2.453,4.059,3.138,3.844,2.836,4.475,2.932,5.958,6.358,4.364,3.236,3.964,2.843,3.373,2.803,3.754,2.799,2.705,1.545,3.3,1.545,4.652,2.92,5.096,3.349,4.989,3.718,4.717,2.277,3.089,2.709,3.606,2.559,3.682,2.48,3.393,2.411,3.587,2.672,3.749,2.526,4.755,2.957,4.651,3.344,4.144,3.138,4.296,2.974,4.111,2.818,6.917,4.007,5.131,3.572,4.129,3.371,5.188,3.104,4.461,3.174,5.179,3.491,4.504,3.419,3.571,2.351,2.381,1.739,3.171,1.951,2.596,1.85,3.002,2.229,2.548,1.849,5.745,5.584,2.901,2.038,5.997,5.352,5.198,5.1,3.244,2.601,3.88,2.566,5.942,5.155,2.644,1.787,6.49,5.155,6.688,5.479,2.952,1.857,2.273,1.772,5.532,4.529,7.805,6.524,6.52,5.187,7.764,5.116,6.858,5.338,6.219,6.289,8.366,6.094,7.161,5.289,6.081,4.934,8.261,5.48,6.074,4.344,7.991,4.481,5.353,3.496,9.268,6.212,8.729,5.535,5.422,4.195,2.871,2.664,3.375,2.547,3.831,2.57,4.152,2.967,4.407,3.0,4.545,3.108,4.247,2.943,4.905,3.93,4.746,3.153,4.773,3.486,5.15,3.521,6.208,3.814,4.291,3.59,5.077,3.578,4.549,3.543,6.015,3.926,5.706,4.52,5.092,3.696,8.372,4.862,4.87,4.135,5.615,4.673,5.681,4.704,6.241,5.064,5.131,4.386,5.621,4.909,7.194,5.122,6.183,5.27,5.865,5.722,6.12,5.155,8.26,6.602,6.007,5.577,6.701,5.427,7.528,5.862,6.174,5.675,6.487,5.334,6.194,5.051,6.179,5.344,5.433,4.994,5.534,5.073,5.965,4.955,5.398,4.753,7.334,7.844,6.946,5.395,5.898,5.06,6.187,4.335,5.907,4.605,5.912,4.432,7.738,4.122,4.96,3.552,6.106,4.318,5.393,3.446,4.997,3.63,1.303,2.218,3.339,2.637,3.962,2.758,4.255,3.174,4.023,3.02,4.703,3.14,4.569,3.033,5.18,3.883,5.203,3.408,5.646,3.644,4.521,3.517,7.69,4.182,5.696,3.629,4.652,3.763,5.486,4.042,6.575,4.56,4.905,4.231,5.031,3.735,6.299,4.83,5.483,4.514,4.994,4.034,5.684,4.994,5.264,4.116,6.372,4.93,6.04,5.544,6.662,5.674,6.909,6.409,6.404,5.5735,6.626,5.168,7.252,6.174,6.957,5.913,7.049,5.549,7.567,5.962,6.258,5.414,6.378,6.8,6.94,5.371,6.109,6.033,6.557,5.122,6.546,4.768,5.976,4.657,6.276,4.957,7.382,8.078,6.999,5.331,6.887,5.457,6.364,4.638,6.896,4.978,6.238,4.994,8.564,4.614,4.83,3.507,7.243,5.215,6.189,5.199,6.063,4.828,3.22,1.474,4.73,3.876,5.112,4.238,4.4,3.283,4.791,3.647,5.14,3.44,4.773,3.341,4.555,3.735,5.625,4.298,5.31,4.002,5.183,4.117,5.995,4.49,14.184,6.02,5.748,4.644,5.772,4.28,5.101,4.071,6.376,4.778,6.703,5.058,5.503,4.8,6.614,5.016,6.569,5.325,6.234,5.337,6.686,5.564,7.493,5.749,7.384,6.301,7.978,6.421,7.079,6.026,7.363,5.928,6.079,5.443,7.457,6.443,8.103,6.102,7.746,6.303,7.267,6.379,7.803,6.603,7.592,6.551,8.218,5.822,6.774,6.101,5.93,4.567,7.287,5.646,5.575,4.864,6.449,5.304,7.005,7.753,5.114,4.413,7.174,5.731,7.469,5.814,7.39,5.86,6.687,5.168,10.384,5.215,5.519,4.399,7.944,6.214,7.595,4.968,6.14,5.194,5.557,4.16,4.625,3.962,4.478,3.512,4.856,3.343,5.415,3.43,4.925,3.326,4.405,3.117,5.465,3.742,5.732,4.563,5.934,4.661,5.312,4.044,5.484,3.968,10.652,5.404,5.506,4.241,5.485,3.973,6.137,4.946,6.249,5.359,6.013,4.98,6.661,4.96,5.328,4.756,5.69,4.662,6.643,6.074,5.75,5.293,6.232,4.726,6.951,6.007,6.561,5.982,6.733,5.828,7.508,7.238,6.582,5.962,8.131,6.36,8.133,7.258,7.41,6.048,7.939,6.569,7.631,6.319,7.66,6.722,7.026,6.003,6.695,6.373,6.887,5.67,6.809,5.431,7.197,5.716,7.351,6.179,6.236,5.678,7.954,8.823,7.366,5.951,6.551,5.85,6.105,5.403,6.492,5.181,6.117,4.653,6.138,3.947,6.098,4.22,6.129,4.797,6.784,4.773,6.063,4.996,5.386,3.783,5.186,3.428,6.469,5.186,6.555,5.172,5.537,3.762,4.871,3.637,5.205,3.767,5.665,4.266,5.446,4.24,5.142,3.942,5.842,4.342,12.487,4.798,5.404,3.976,5.621,4.794,5.917,4.525,6.023,3.954,5.531,4.374,5.713,4.429,6.346,4.872,5.828,4.551,6.401,5.634,6.728,5.869,6.484,4.561,6.463,5.211,7.519,6.118,6.739,6.176,6.773,6.246,6.084,5.548,6.43,5.881,7.708,6.675,7.518,5.829,7.621,5.933,6.363,5.525,7.479,6.051,5.746,5.205,6.949,6.387,6.98,5.734,6.775,5.744,6.625,5.659,6.888,5.701,8.405,5.446,7.316,8.458,7.424,6.109,6.726,5.689,6.128,8.697,6.736,5.852,5.902,4.77,8.592,4.861,6.986,4.801,7.803,5.62,7.515,5.951,6.392,5.009,4.491,3.951,4.309,3.34,4.148,3.468,6.633,5.15,6.4,3.919,5.916,3.474,6.675,4.468,5.414,4.056,5.914,4.212,5.304,4.26,5.983,4.737,13.453,6.174,6.221,4.545,5.865,4.69,5.811,4.568,7.369,5.316,7.756,5.959,7.135,6.097,8.287,6.238,6.833,4.937,7.719,6.021,7.997,5.853,6.369,5.269,8.023,5.842,7.652,6.655,7.297,6.36,8.359,7.118,7.834,6.633,8.131,7.116,8.334,7.526,8.912,7.228,8.639,7.323,8.657,6.559,7.762,7.11,8.601,6.668,7.679,6.721,7.289,6.938,7.77,6.517,8.511,7.254,8.384,7.018,6.94,5.817,8.084,9.531,8.554,7.015,8.246,6.157,5.506,6.039,7.394,6.283,7.001,6.047,6.798,4.894,5.911,4.562,8.321,6.562,7.832,5.299,6.374,5.308,3.598,3.666,4.749,3.599,4.775,3.265,5.08,2.981,5.386,3.745,5.498,4.058,5.209,3.791,4.681,3.973,6.987,4.518,6.028,4.643,5.312,4.656,12.399,4.727,6.273,4.868,6.041,4.694,5.711,4.76,6.101,4.75,6.829,5.568,6.108,5.481,5.417,4.937,6.495,5.418,6.26,5.681,6.971,5.823,7.587,6.651,6.215,5.589,8.046,7.003,6.92,5.482,6.173,5.065,6.617,5.741,7.641,6.144,7.903,6.398,7.22,5.67,8.074,7.037,6.155,5.287,6.763,6.383,6.225,6.619,6.269,5.627],\"yaxis\":\"y4\",\"type\":\"scattergl\"},{\"hovertemplate\":\"<b>OLS trendline</b><br>y = -0.19541 * Component4 + 4.40213<br>R<sup>2</sup>=0.061838<br><br>Component4=%{x}<br>y=%{y} <b>(trend)</b><extra></extra>\",\"legendgroup\":\"\",\"marker\":{\"color\":\"black\",\"symbol\":\"circle\"},\"mode\":\"lines\",\"name\":\"\",\"showlegend\":false,\"x\":[-8.891806052871846,-7.320154651942755,-7.2289978274193265,-6.80960471939478,-6.740940583342549,-6.643247626903706,-6.5942711752798795,-6.432958714126896,-6.294951424362393,-6.247431056288656,-6.02741669563636,-5.914160466660068,-5.912809268608607,-5.886474134145069,-5.842593773007946,-5.704753535913812,-5.479913559488425,-5.453960375591282,-5.429856401635695,-5.31334475295637,-5.286842730102198,-5.280742622760932,-5.270877639362413,-5.2263437081276285,-5.1831917086888435,-5.016397566431122,-4.998117619901434,-4.979989309532429,-4.977669938115647,-4.967519300052024,-4.950363746960045,-4.920785980307173,-4.86001176636444,-4.855360974330029,-4.848650072485475,-4.81756234866443,-4.7881897620550475,-4.773331163408903,-4.764571821337391,-4.713801290241847,-4.713074152644881,-4.705210601876967,-4.6803529155440176,-4.604264413485048,-4.592586360765053,-4.580376507087411,-4.578137154896156,-4.568152137524092,-4.5214438234994985,-4.513606181676111,-4.512641975014506,-4.468727199430991,-4.467163287484443,-4.462567360325549,-4.456601229733377,-4.410671706870225,-4.386971465429283,-4.329107793261227,-4.292996637720141,-4.266697150367658,-4.257957750154763,-4.23277594024317,-4.184135348967413,-4.148586452457565,-4.144448723345187,-4.132473302628382,-4.090453996278776,-4.086537175562526,-4.083912398878309,-4.077717672974109,-4.048089332434995,-4.044150649240757,-3.9798445021056397,-3.9731698681370715,-3.9682501865353497,-3.9541977306341423,-3.950163190115427,-3.9294984580328562,-3.9223796378439104,-3.905479030925223,-3.9053635913619,-3.9016630037211004,-3.8748009288493948,-3.865698423119053,-3.84034118802446,-3.8371164104554647,-3.8169620652266443,-3.8117673934070537,-3.7860145684875497,-3.767946692403819,-3.763636451107577,-3.7478752456086,-3.718401623893718,-3.70585525222519,-3.6926772703639714,-3.686901233200063,-3.6829865252194813,-3.638004811710598,-3.6344307199367325,-3.6266740566043403,-3.6246325514626565,-3.6070748236877295,-3.606383323235386,-3.600735105614926,-3.5747396725010954,-3.566493889092819,-3.561008809979858,-3.560102704649026,-3.520611565789882,-3.50483491584392,-3.4955719298116543,-3.488284476510621,-3.456931274487048,-3.384549336284494,-3.3755442751542666,-3.3450045359583416,-3.3232117135527166,-3.3043487734752146,-3.3013977115232644,-3.2624528749699038,-3.2592810588079724,-3.257330970293503,-3.238506921751162,-3.235071121919306,-3.2144084355086675,-3.2057936428871505,-3.2037812214249026,-3.1983677489363966,-3.1845484819963703,-3.177244240634914,-3.163757654310088,-3.144607109416966,-3.134132230004929,-3.132129531528159,-3.0780191062491986,-3.0743855528087196,-3.066371107632258,-3.0650142825214943,-3.0649956968519185,-3.060311253188181,-3.047363234564927,-3.0456960664500476,-3.033631849867592,-3.025677574904447,-3.021144457201575,-3.007642830919586,-3.0040527171359495,-3.0019157836493413,-2.9950582456018107,-2.9777708168074857,-2.957273998283572,-2.957024678250826,-2.9252802154098685,-2.9222142630158263,-2.9193538170332016,-2.913317649678199,-2.912566189877064,-2.9121421953333333,-2.902352882092562,-2.897518495070623,-2.889743247376308,-2.888671564798768,-2.8797800861608276,-2.864087695975608,-2.8592352129335534,-2.8542328909386914,-2.844853171359811,-2.828195948639812,-2.8246974973838466,-2.8156020761220333,-2.81370176106726,-2.812222508863075,-2.8032111564019777,-2.7852338318685583,-2.7842606033950843,-2.756549696980683,-2.7443367805700243,-2.7285928661661045,-2.7193068905537303,-2.695271443526731,-2.676040473595668,-2.6670966692511864,-2.6573070022647305,-2.653256685121182,-2.641278263545084,-2.639710321432621,-2.631437573884685,-2.6238400450877872,-2.6138049978791225,-2.6108235500819097,-2.59570759424069,-2.588976337517502,-2.5789165600737376,-2.5645646756532283,-2.5573338295231127,-2.556922691629692,-2.544959724816451,-2.5266947360779453,-2.52220219226142,-2.516138293702797,-2.514008903123227,-2.511429196512209,-2.5068443069013098,-2.5045498771119914,-2.5039665949773484,-2.4916083035332104,-2.48866473465676,-2.4884302526813116,-2.482838204406499,-2.481648171862846,-2.4750070923037417,-2.4739297434856695,-2.4738040513328814,-2.4718693618041936,-2.4638366954071484,-2.4387055260745756,-2.4368758406348263,-2.4270727576120237,-2.422667216157738,-2.4193381940102614,-2.4117834696162554,-2.4036917858024323,-2.3949572295258212,-2.3902732872910226,-2.3881110995003976,-2.383350286287096,-2.382087521472052,-2.3775948776072653,-2.3723322087566046,-2.3685070464042277,-2.361250959587313,-2.3601874123561224,-2.352793238342843,-2.33988810416595,-2.325598551648023,-2.323010456295281,-2.320301005856859,-2.3053468769801793,-2.2842800080419283,-2.283346579687604,-2.2786302914534127,-2.2680535116435467,-2.2589399899686033,-2.2486459002292234,-2.2479778866046853,-2.24140274173593,-2.2401896215660275,-2.2311853560762773,-2.2252188358025164,-2.2130589113044428,-2.202760374852798,-2.193517524026287,-2.192017234472036,-2.1915330582099695,-2.1883992384920314,-2.188116632930071,-2.1879325925148696,-2.1848574683924094,-2.184159585900641,-2.1705327300556414,-2.145219043346483,-2.139489915837727,-2.138810371141497,-2.1341124581107116,-2.129527340609747,-2.101140695894403,-2.098305398042535,-2.080293624623506,-2.0728969282776384,-2.0691176793686017,-2.0681738301677064,-2.0667312458019644,-2.059337895995937,-2.0574734261590812,-2.0556876398727706,-2.0491856900741827,-2.0410188146934614,-2.038484633716667,-2.03653822511346,-2.0354351251766483,-2.0263536125417314,-2.0252818274066122,-2.0226534496302344,-2.022570315837499,-2.022174215650101,-2.020806470629689,-2.013384960494827,-2.0111453560678028,-2.0094933503218133,-2.0085636910450733,-2.0080690899317455,-2.005372754941293,-1.9989060055663026,-1.9980352087434958,-1.9938980893520346,-1.9931818992525272,-1.9870499321617165,-1.9842501500178458,-1.9820978732538488,-1.9739659542619843,-1.9727483762047744,-1.9685491066206668,-1.9651239631811646,-1.9591462370317978,-1.9583132108939632,-1.9578930326140327,-1.9524319270395099,-1.9449737924384753,-1.9411893627255397,-1.938125404044946,-1.9377787405210483,-1.9363023153944992,-1.933564435742561,-1.929657727810025,-1.9281854742118583,-1.891452886972647,-1.8846281860835954,-1.8811480822966735,-1.8787584303401739,-1.8755912337342566,-1.8745181783386622,-1.8736464320530903,-1.8598220690638474,-1.8566248283487417,-1.8564188278727263,-1.8490030499538117,-1.8380381134913668,-1.83511352578353,-1.8311472380115166,-1.8199151301690712,-1.8151837098083636,-1.812349156335018,-1.807822949088304,-1.804458346171831,-1.7999911908472401,-1.7996869701243667,-1.792831206109103,-1.7841109741980103,-1.7824836364149599,-1.7750239306403521,-1.774781225862118,-1.7630943292204893,-1.761563763695234,-1.7478964246066864,-1.7358374966297714,-1.731619268994516,-1.729234675447767,-1.7243291496808124,-1.7220980399636736,-1.7220668560067438,-1.7204184308101058,-1.7050149742277378,-1.698201071245216,-1.6967761298068182,-1.6957450581378384,-1.6936778914215196,-1.6767190063598112,-1.6698177662627418,-1.6693162214742712,-1.667922315064363,-1.6623308823382021,-1.6600835858324556,-1.6595213934117885,-1.657438179285395,-1.654250297748203,-1.6459005562601048,-1.6409856652387165,-1.6321245892574592,-1.6280864931586714,-1.6118998404015104,-1.6057875847883922,-1.6006163107801283,-1.5941655956054102,-1.5929074613233398,-1.58855401090243,-1.5838168540931592,-1.5795173897562402,-1.5788758864368233,-1.5706630420036327,-1.564607371873542,-1.5633221107471198,-1.5615290738235685,-1.5590336077037754,-1.557265190106142,-1.5567853546487311,-1.548541461710838,-1.5466793582990823,-1.5425939069096002,-1.5423056400064201,-1.5394859642356207,-1.5378390538933397,-1.5304775322839592,-1.5220999571799574,-1.5157099027657355,-1.5125922917858716,-1.5105410598853537,-1.5029757870414349,-1.495467074595886,-1.486689417037678,-1.476111737091191,-1.4735907336294853,-1.4626156658257166,-1.461927369418164,-1.4575669277835979,-1.440834621414679,-1.4381410784232793,-1.4281340246520615,-1.427242453621547,-1.4255015262818442,-1.421312990922464,-1.4165574027132741,-1.4139185801593352,-1.3991569092303815,-1.3919005953059445,-1.3869327085052852,-1.382681513941482,-1.3813017834820838,-1.3756196592535554,-1.365077716853573,-1.3624108020652292,-1.3576487518482165,-1.3529594615733038,-1.3511855255093785,-1.3493847984785317,-1.3448950516036884,-1.342627406031807,-1.3412902934657944,-1.340867836008153,-1.3366274308634765,-1.3322986234952316,-1.3280616836446308,-1.3242835986047816,-1.3215808781987597,-1.3214763244246317,-1.3196113994721101,-1.3192956450646474,-1.31639462371863,-1.3140082808886984,-1.3122014121886456,-1.308062735806297,-1.299884087161111,-1.2988756361211415,-1.2879336263369512,-1.2831094646782428,-1.2829314565221668,-1.2770737267916015,-1.2712521850874607,-1.2707728427388387,-1.2694454239481978,-1.2669530106701918,-1.2541671997240915,-1.253098366304093,-1.2524662111190832,-1.2501172979392523,-1.2486803572546883,-1.2467988055661348,-1.244807780710502,-1.244796978715796,-1.2435652452633534,-1.242810622856728,-1.2406639680587275,-1.2396687475601247,-1.236837098377612,-1.2335899908500423,-1.230384097429291,-1.2303228933127028,-1.2292156309432545,-1.228610834902727,-1.2276503513542751,-1.2260817646784985,-1.222296226562181,-1.2109568065931415,-1.2105461570645455,-1.2073180891734927,-1.2063034001362984,-1.1998956261434712,-1.199137914530706,-1.1990563651486215,-1.192081095316674,-1.1904263609810901,-1.1774532258322565,-1.1715578385862204,-1.1683399020019052,-1.1536855247668931,-1.1500353412737307,-1.1454277178657177,-1.1412634340134191,-1.1396954696776662,-1.138838139385504,-1.1378506610702597,-1.135954219955933,-1.1355528074212222,-1.134501489812086,-1.1333764242262727,-1.1330144588761992,-1.1329124157826156,-1.1289375383702513,-1.1259964753803935,-1.1238324421570156,-1.1237049259695113,-1.1203045564804728,-1.1194916896854317,-1.1173968739088675,-1.114215785441855,-1.111930518812081,-1.111877208875705,-1.109471851195078,-1.1071103938031002,-1.1060912313283193,-1.1031507034421726,-1.1025190658758712,-1.1008463671505764,-1.0961417006164433,-1.0908052015585519,-1.0900419569252606,-1.0888120083934845,-1.0861411637739664,-1.0861331845467699,-1.0823137490268488,-1.079921658639641,-1.0791484009262604,-1.0742088159568677,-1.0697590795381127,-1.0684365418023427,-1.0571971588311575,-1.0475563446773526,-1.0426269115762177,-1.0414379970684884,-1.04052377334157,-1.0387008317165898,-1.038240532082525,-1.0373524400764915,-1.0296058938481587,-1.0294341679566283,-1.027517489624406,-1.025875359701667,-1.0236300179875784,-1.0230109849950246,-1.0221400161701868,-1.0172357653895663,-1.0097919143149428,-1.0071455077022913,-0.9983957788785471,-0.997578043991853,-0.997494576140312,-0.9911336896418746,-0.9902712879151809,-0.9900653788360376,-0.976015058079208,-0.9731439394101625,-0.9704948054958822,-0.9698825526756933,-0.9586315017270973,-0.9573320765536166,-0.9543531398145134,-0.9542275377968688,-0.9540115420662787,-0.9528924540605322,-0.9521922275809954,-0.946863885184649,-0.9465789113033842,-0.9454032632177941,-0.9452866000307459,-0.945246232611491,-0.944803086678559,-0.9372838065090433,-0.9271702107974984,-0.9221144276687986,-0.9205177433064728,-0.9199786925667625,-0.910845413981923,-0.9100675239070033,-0.899841679925644,-0.8935944392078804,-0.8925229224881831,-0.8922120549334246,-0.8918681637003834,-0.8874124603033062,-0.8869620541170351,-0.8845600972503721,-0.8845506265954602,-0.884502879060781,-0.8823333859531046,-0.8819170095165523,-0.8815507456582716,-0.8762228748545511,-0.8714466158630898,-0.8712112765266328,-0.8582206151880779,-0.8533878409109924,-0.8415710346226117,-0.8411815102194499,-0.8357713038166075,-0.8281418628793793,-0.826852564518071,-0.8180186184322189,-0.8106767029754155,-0.809573769610421,-0.8072087748678326,-0.8062409547962073,-0.8019476066998275,-0.7997121487092316,-0.7982872519217671,-0.7955180673073053,-0.7937748634422325,-0.7927873785367823,-0.7913054787819305,-0.7906899992576928,-0.789227671264529,-0.7824878143183616,-0.7790379932484457,-0.774083238009144,-0.7712795002190287,-0.7692054138113747,-0.7654942651779434,-0.7637390847988124,-0.7632781845981433,-0.7589834879266424,-0.7537934061427056,-0.748694278901563,-0.7486660843246987,-0.7472727487561415,-0.7468816832861352,-0.7355358777596571,-0.7276874927031246,-0.7230755308133447,-0.7197174874028373,-0.7182234189411278,-0.7182007725165405,-0.7177011717595256,-0.7141373915750507,-0.7123777080068936,-0.7110079715245385,-0.705197091921443,-0.7034606957707287,-0.6977814895055724,-0.6964604661301714,-0.6955965087579606,-0.6953670888684627,-0.6862526778779643,-0.6817970276109429,-0.6808400673442083,-0.6793649077187021,-0.6770796265230776,-0.6668716520729637,-0.6665440479157335,-0.6646577618996722,-0.6619384751711023,-0.6540523854575359,-0.6517285086096142,-0.6444672089682929,-0.640183799364845,-0.638937889172148,-0.6379347328182361,-0.6313839912315884,-0.6208801388242357,-0.6171126847457504,-0.6125775741398328,-0.6113658574603498,-0.6105939845585588,-0.6099034868093279,-0.6012850003102164,-0.5993262064927886,-0.5972123370373437,-0.5938192283034066,-0.5923243963533142,-0.5921213629719921,-0.5850213053392576,-0.5843015269123424,-0.5838984546111194,-0.5722317169060439,-0.5703969150568471,-0.5686440859800899,-0.5674927613649243,-0.5617475147754698,-0.5544087640588978,-0.5541530523180564,-0.5477230526782562,-0.5468160532533564,-0.5396090095806299,-0.5391692481780591,-0.5357715822039845,-0.5286709124278863,-0.5223616583402375,-0.5180729138446158,-0.5176213179707333,-0.5143115987442286,-0.5140535848578954,-0.5134620358757161,-0.5120754262001982,-0.5068289357446504,-0.506735579981709,-0.5049673476473612,-0.5035104119336136,-0.503324377086174,-0.4868933661245917,-0.46817856337069,-0.45991922864498164,-0.45876142277489623,-0.45061314749315895,-0.449198775887221,-0.44884009675939385,-0.4487205092376778,-0.434139256753843,-0.43401094750039576,-0.42673164049967577,-0.42366523319011123,-0.42130814704238373,-0.4205555672463507,-0.41722432608306687,-0.4079733693715717,-0.4064363942452407,-0.3953603869469097,-0.39034764752580514,-0.38915843089644797,-0.3885963007823644,-0.38719542093553,-0.3868131729096604,-0.3840708912203774,-0.38160682234014665,-0.37339987824313664,-0.37304307709366924,-0.3729130393850198,-0.37265389291873396,-0.37035929142451024,-0.367358352749189,-0.36266006446219995,-0.3624952753770452,-0.3613121179616637,-0.3594910212377517,-0.3556227197954574,-0.3531660098076126,-0.3504944515256195,-0.3485248609575847,-0.3481038316580818,-0.3457200538163662,-0.3440947833727833,-0.3410801715480539,-0.3367242963635319,-0.3365622452823165,-0.3338328114130083,-0.33120733062756536,-0.33108732713817207,-0.33100621366602523,-0.3292187250450963,-0.3255285116052191,-0.3249555024139141,-0.32370057171514793,-0.32363153803418626,-0.32233710621115025,-0.3213387246238851,-0.3177939812054773,-0.31580551874570095,-0.314153083090035,-0.3132299173717509,-0.30293049799712923,-0.2973547853019442,-0.29674269193602726,-0.29298741408287743,-0.28971289521044935,-0.28348549604648965,-0.277328032925528,-0.2750535673301128,-0.2700976048892435,-0.25728162488008904,-0.24963139020911254,-0.24821549706998738,-0.247737629567856,-0.2440792019332836,-0.23701818121876733,-0.2349445904215722,-0.22948543963028445,-0.22812737084452336,-0.22339070161485935,-0.2082005126613411,-0.20804192682991465,-0.20158346364000648,-0.19834439326769268,-0.19237521867767052,-0.1910604330020359,-0.19042854771128787,-0.18973282709574182,-0.18907564429063276,-0.18302679640198516,-0.18208436331966663,-0.17184472607481674,-0.16875677616230317,-0.16773225894441995,-0.15741818076342334,-0.1569716343054857,-0.15550833390198354,-0.15475699578281346,-0.1538743694772352,-0.146918878310986,-0.1459111344646515,-0.1434856041480026,-0.13866032551224408,-0.13865558899418393,-0.13567344510125173,-0.13032558959098736,-0.12141326741807165,-0.11490162575032566,-0.11307614414719071,-0.11282000108813094,-0.11233722342111091,-0.1120560007686251,-0.11010293429233214,-0.10743082849889549,-0.10167826923848261,-0.09857468664453892,-0.09719667944921159,-0.09562086470608326,-0.09344964229850103,-0.09342739418303027,-0.09294373019914645,-0.0866834940861918,-0.07979183212869069,-0.07890779272400834,-0.077951479455302,-0.07699253724940647,-0.07274129295834271,-0.06838833322323201,-0.06577775287642285,-0.06490518622587073,-0.06303953575754882,-0.061557827163847216,-0.06114575527761231,-0.06091713198225159,-0.059665177221509255,-0.055662996404601844,-0.05086306887722241,-0.04738985629006296,-0.04632466724369366,-0.04478939072217446,-0.030813140382382764,-0.027272544731975643,-0.024356339678579492,-0.02348407006772863,-0.021213644628519334,-0.018213657953745355,-0.018153410020893743,-0.014378876437588048,-0.00514175390169932,-0.00386556535751723,-0.0016702645191034118,0.0007036416788249989,0.0014920692469423706,0.00955406725528545,0.011364812494620092,0.012195685402735586,0.013149512756212236,0.013814637411903974,0.014752604705988475,0.018686295641264894,0.026672911055127223,0.028364363828451925,0.03303587546385597,0.033076679236129516,0.040763144345887924,0.041140708982648766,0.043446425985708026,0.04391157709984092,0.05154616281337109,0.06527640444433339,0.06563751465672124,0.06678515069534069,0.07170850966188848,0.07345766258731068,0.0740777019577606,0.07577032848326555,0.07998757879475132,0.08010041803713219,0.08156677882080089,0.08206942021399592,0.08489752077044646,0.09413524432385988,0.09433894198372586,0.096584379752426,0.09901017828348085,0.10408602152993571,0.10731071803039476,0.10757092588869702,0.11486214805949103,0.11593209123147442,0.11866133811162859,0.12227582268418191,0.12236303807114166,0.12624760976196167,0.12901853213245823,0.13637139364674464,0.14015188873625767,0.1409879998834151,0.14600235002964077,0.14836776724685694,0.1521121200797906,0.15551762077739317,0.15871655641508495,0.15889820148989903,0.16021565155738768,0.16371635160501713,0.17441214637636596,0.1780694636857988,0.17971246506554997,0.18513541322225233,0.18720439778270964,0.18904599399466304,0.18951505264933366,0.19426852874190503,0.19463059679613479,0.19776219383691,0.1984837930866742,0.2005858423688191,0.20225728538303056,0.20605750959644234,0.2117902059619654,0.21900811685582797,0.22441949120076696,0.22452598968394785,0.22512531589018292,0.2317064238615401,0.23511657689909546,0.23684076475560337,0.2389168680551988,0.24065027670763653,0.24268543423721742,0.24283763169044337,0.24514751934654286,0.24762803649819326,0.25286988475225847,0.2564440691348139,0.25773040565086314,0.25894047974574036,0.25994995511974034,0.2605458351528757,0.2655447433708559,0.26911276868226974,0.2691562169017293,0.27325581016037026,0.2741480458924504,0.27602011778506785,0.2841336501144293,0.29113467715223335,0.29385494888415614,0.2949199222455872,0.3073623162915168,0.30972047548871534,0.3116402139076486,0.31167681761457505,0.3136895196196594,0.325851838937451,0.32776070980748967,0.3317487827249479,0.3410720438357123,0.34628752880215463,0.34846108262837994,0.34852930471549065,0.34856289479335784,0.34982691132253974,0.35123135422730495,0.3530391292863331,0.35849032928104424,0.3604688656985501,0.3616416102295455,0.36417216584778644,0.3665867721937309,0.37050508161242435,0.37213107699579023,0.3769527774087237,0.3784184780592764,0.3797520767443799,0.3807119715583568,0.3834259552492181,0.3867496594522146,0.3876166245635612,0.39023512888661127,0.40132682101793865,0.40195762302575266,0.4029146024368748,0.40548729931379485,0.40819782102992785,0.4180985528496645,0.42183372206922276,0.4398793755875346,0.44049263122741306,0.4406177621514324,0.4496748282247707,0.45423126302274786,0.45662269427473057,0.4572723017892705,0.459096679287595,0.45928785790930776,0.4597281580261745,0.46184375627879476,0.4689920457797296,0.4728520710911618,0.4769531257600078,0.4808386088189995,0.48507680055211155,0.4868378214722005,0.48686509443260123,0.4905311360825678,0.49671096127991715,0.49888372068127523,0.4991350841142429,0.5029976697676887,0.5035130782127807,0.5048631820683637,0.508367828818263,0.5085627936911705,0.5102665008151962,0.510941524358036,0.519544344415465,0.5366542092068439,0.5388716260721423,0.549223693545863,0.5497147868360405,0.5541416020744039,0.5566111863275791,0.5658762914334022,0.5757001858280457,0.5783897600264382,0.5796915426409147,0.5814334753363171,0.5815919776298155,0.5833692006989076,0.5836121997418787,0.5850345317247079,0.5929273322946265,0.5983068949630475,0.5998940806873422,0.6025984022265671,0.6178874079218893,0.6195090198529227,0.6302548744087929,0.6413941415319167,0.6445104288958708,0.6613845322293971,0.6628907400046931,0.6635875707037052,0.671570477414082,0.6746086913542991,0.6805343873385478,0.682099690080971,0.6890148789892432,0.6957904104518663,0.6990177250577848,0.7063565666973419,0.7121995031180919,0.7197526860264507,0.7216316923197111,0.7247832636770405,0.730501691757625,0.7311092132973248,0.7375536491014087,0.7421542732443582,0.7570716487680851,0.7575919677578528,0.7701214745119808,0.774638617470466,0.774873456709984,0.7751596637842307,0.778327600283396,0.7804672535522796,0.7874485452999084,0.788954861903366,0.7905134037201379,0.8011818493025753,0.8044175012275635,0.8129771191710872,0.8134750083563916,0.8145080448189863,0.8145363730434656,0.8186480742609237,0.8230277003323462,0.824157252659284,0.8267764285231294,0.8330124607551596,0.8389126968211577,0.843215762280134,0.8463592846858623,0.8502339509864607,0.8505029588829303,0.8574691591778039,0.8600774373578945,0.8710170477888172,0.8734581841865852,0.8957695583511667,0.8969687108221267,0.9095400399657416,0.9212176889306875,0.923383367836163,0.9294494655040619,0.9318514789035927,0.9421118084727528,0.946796436091151,0.9476290926917345,0.9499515868404441,0.9548680337392201,0.9557535273614927,0.9741197708111586,0.9788249790970138,0.9894252127175995,0.9944482021330737,1.030348408367589,1.038319572696059,1.039200197355737,1.042873484844494,1.0441744614837152,1.0515411000208656,1.0701456268839484,1.0701598941448631,1.0831744153124998,1.084213561100537,1.0865112126786607,1.092416594510614,1.0989346877641082,1.1040357115573434,1.1048673405853895,1.1076754963632436,1.1224510387189026,1.1455096156065225,1.1539632601766034,1.1588447813883795,1.1597302456240328,1.1642537869007419,1.1684199639165016,1.1713734536461096,1.1749782478038233,1.1785192861835005,1.1891591451259635,1.1905420617054223,1.2032676952338872,1.203736280916587,1.2088855780077952,1.2102754081969855,1.2107196897505113,1.220649093857542,1.2331566493836321,1.2374101199936418,1.2376881621957398,1.2403759644532446,1.2424637879836247,1.2528162918214898,1.2705735755750613,1.2705930523850355,1.278345518881723,1.294031960904253,1.3048266514489095,1.3099780539981063,1.3115815136070739,1.3184257195496893,1.3201633301796298,1.3205331252284558,1.3228255157973559,1.3236501593554484,1.3249839772696892,1.3296359342637176,1.346944462277586,1.3524274002849448,1.3527872202872546,1.3558820040686383,1.3569080749198428,1.3646490231034154,1.3665577776441875,1.3675003298852757,1.3704328006337434,1.3874219384362694,1.3914565168545947,1.4106512878414634,1.4138925692308426,1.4328584147019703,1.435592576256308,1.4509085018415147,1.4622372883783497,1.464206845100688,1.474324500749825,1.4757361688443618,1.4762566719954582,1.4796813743671795,1.4829531605442878,1.4899422363018038,1.520869694882693,1.523388850839241,1.5359539606051582,1.5363094702279172,1.5427963092506367,1.543561347868424,1.5450221946618348,1.5478832474675446,1.5497052768190567,1.5540752173188308,1.5554172503293793,1.5905436598678917,1.5925467578976027,1.5984515063926639,1.5992217240418094,1.6030504804412433,1.6102430925959115,1.6108049911434654,1.6116275543767726,1.6136958824331102,1.6141288816637744,1.6190791693979767,1.6241365756174895,1.6317956308668076,1.6415754885181577,1.6443634309890027,1.659872216201644,1.6714149859767078,1.689829452224601,1.6923113839792356,1.6959073910913796,1.7056773664778486,1.7126563134332025,1.713021094058052,1.7233303396413928,1.7276617572902857,1.7432903220163265,1.7486766785717966,1.7507903469191248,1.755961738968997,1.7598146560084762,1.7757018695322426,1.7780902203646158,1.7840639774633662,1.7843878437327947,1.784908392804946,1.7895715658723013,1.7929813020397087,1.7966119074276454,1.8072890435357842,1.8083756041876722,1.8155501358253836,1.817746008016321,1.818245145382698,1.8213434206490366,1.8253472564517714,1.8267825733745404,1.829590681836444,1.837200912945977,1.8417383308416566,1.8463995600517409,1.8473416191981349,1.8483511468649778,1.8520234801953626,1.853474642725861,1.858669699672738,1.8692049607677286,1.8722704042898073,1.8755918061844092,1.8766767669175346,1.88293955418842,1.8837540031456752,1.8923232461698105,1.895512108067609,1.8991378273724728,1.9058240800441981,1.9115011247136364,1.9185575213012511,1.9192315014333565,1.920095201125293,1.9251709550323253,1.931899807340705,1.94014912629449,1.9554980773760824,1.9563877314181668,1.962053874088338,1.9757785023065093,1.9800521977509897,1.9801108227706627,2.0085948585912594,2.0088365037971174,2.023914653037704,2.0270877587453153,2.0290773430197797,2.0291234740949884,2.0298047916493718,2.0318690995067894,2.033603319357127,2.0383609766337276,2.039613415605828,2.0402819639142282,2.043544516837128,2.0449377095979515,2.048573495635504,2.052793895986089,2.060470235346143,2.061520012767665,2.074196075913973,2.074965752549004,2.109585708957351,2.110917452570134,2.1139195762015235,2.1156374410960193,2.119809698834581,2.1270951456888065,2.131248078548472,2.1434900310722815,2.1492634642186808,2.150782239672914,2.151194848706648,2.151725143147564,2.156043949317389,2.161377506264946,2.1654276441968365,2.1675629046256457,2.1787282260482885,2.1820624295375475,2.186422668678674,2.1865486306644155,2.1885470176430686,2.188724962513357,2.1889834702168,2.2030287369490704,2.20440930588945,2.2053248401974397,2.205606510042646,2.206938637795191,2.2342577884310604,2.2358778717851333,2.2378586491529475,2.241497940969603,2.2428869685698123,2.2446640689084587,2.254523584823722,2.2637274880367273,2.267074945648414,2.2695936804715764,2.2724925673464655,2.274635973492072,2.283741850846264,2.2842383174175658,2.285002294169602,2.2905852302775305,2.294950410585151,2.2957427131535573,2.2982742963038367,2.307436496123904,2.3156281174652245,2.3157370786856193,2.3264443827009385,2.3412442363866437,2.3471876466766113,2.3483491745415104,2.3540002435561673,2.3544751250775375,2.356812435639619,2.3589575866089842,2.3657257039814983,2.3666244187626337,2.370992183036771,2.3741059003869296,2.3758337167014303,2.3828520601900847,2.3836060288894663,2.3846557113901845,2.3857114918001363,2.3934673034631113,2.394321338327323,2.399100298302376,2.403935769440475,2.4108065973846324,2.4141904331235597,2.4144478987071762,2.4149927350892018,2.4185643468222624,2.4187412612247567,2.4226829472504425,2.4257700485118168,2.426927821360729,2.429856278403714,2.4323232176936225,2.4382788554262036,2.4398062259120548,2.443122107254842,2.448174102612497,2.448213765899293,2.4557751943896133,2.4557753900709316,2.4680654372714312,2.4683570728943507,2.4685995025940235,2.4708170563956715,2.471575112363422,2.4722008497123835,2.4752536391763633,2.48190719992381,2.495585238620602,2.4956756786283707,2.4989539292964924,2.504514961034361,2.510643564597393,2.5129600978284383,2.515479525370771,2.5255642890188175,2.5393667960291832,2.5407791503172934,2.5502308355794607,2.5503575350611305,2.5590958550056717,2.5604029071110004,2.5730310483164764,2.5754245174252866,2.5779333955257107,2.5854786497889015,2.590947994397193,2.591893424438658,2.5947063901654515,2.595450444394596,2.601560849416659,2.6157030627400006,2.626607047510088,2.627617176401105,2.640553588968562,2.653654684253369,2.661620435822124,2.663365528272292,2.670454905713586,2.6707568366857535,2.674229926752588,2.6822494028406005,2.689329098280594,2.6993996707650343,2.7049229135249715,2.705900568016818,2.7075852201000883,2.708519556346904,2.7101214815971555,2.7148990727810136,2.725848075584084,2.731987316737507,2.7352976091944483,2.737170939817167,2.7444417012425224,2.7452802871088986,2.762835601192017,2.7691799577662537,2.7746185082520465,2.7783090728976747,2.7870212114604276,2.8010435082270324,2.8304381328805217,2.8347771997280637,2.836589382979044,2.8394037177024973,2.852703285132041,2.8530554247509747,2.8676482640748713,2.8689174589453668,2.895509143048,2.913161810949062,2.917251973075162,2.9174670987564606,2.9209787720718454,2.9225628434480875,2.935686885863953,2.937733181518609,2.94293688181104,2.9492776833860064,2.9531213928782445,2.9589865727055438,2.9717248756944286,2.9745754728745117,2.9756627299636587,2.9798917254836312,2.9974762357885694,3.0008127915052976,3.0022042372359237,3.0056319109323257,3.0081186709959993,3.0082457821494812,3.0129410400208725,3.0162090503428134,3.0295000704918085,3.0309177361463084,3.032642451677892,3.034660973051346,3.0436847964108193,3.0560096042892306,3.0762357193911742,3.1041897521314863,3.108221533001953,3.1195088754934326,3.1287909589029113,3.1384418550060555,3.140397405163478,3.1434100642965515,3.1454977348940965,3.1505285610471723,3.156675934704803,3.1650607989035935,3.1666900999664183,3.16912476316038,3.176239947106386,3.1764200833919864,3.1884734646651736,3.190011049100604,3.195768451842224,3.198299972886999,3.2100797914193997,3.2151126920218545,3.2203918329597214,3.246286643280838,3.247705698687842,3.2673034153174645,3.2907652878837803,3.2930590211371915,3.3086110812339475,3.310440040741552,3.3202317565935817,3.343862991300659,3.354196070652048,3.3581432446230726,3.3628611280701373,3.3708230155878818,3.3761086228755004,3.3802124527136215,3.3866719184521403,3.3916389934252558,3.4010662099587745,3.414329981644057,3.422929718636032,3.427802281768961,3.4281229253238936,3.4289886973206385,3.4332028345244403,3.457506243320314,3.462040022891881,3.469527079186191,3.472792162828226,3.4774568347210013,3.490626014584186,3.4913454945018683,3.511643193706546,3.5123261850033054,3.5163252612514877,3.5321644009403745,3.532185552425338,3.540944952960981,3.5991845739809896,3.6173639610576718,3.6499032566242975,3.6501882584951995,3.6541168922112703,3.6568895796017538,3.739108142415024,3.7486908183519883,3.759156799746745,3.7690566971360906,3.7833078118048316,3.789227572746993,3.802940003376669,3.805384813034531,3.850984426025948,3.8619517772403245,3.8698966944037965,3.8717824905754155,3.8888689224493995,3.9252432638006014,3.9417254927951815,3.9497614395815104,3.9640829713849284,3.9680771001644364,3.98005317036586,3.9819205310401697,3.987141525848822,3.999230832497697,4.006428250426463,4.024480113327516,4.058998758306193,4.102097404138356,4.102632333754528,4.1308131657057965,4.150117240726739,4.15909627629569,4.161925813287499,4.194185633559437,4.199310678106507,4.208606896693849,4.260027271763852,4.281348111490114,4.298519645445887,4.303255412054034,4.3110070442820465,4.312141875416468,4.317273431831622,4.349920093500377,4.368000884624751,4.374612940207852,4.395356684216153,4.397804466637603,4.42686451968952,4.438679658275808,4.467251377906255,4.467577977468184,4.468896943151983,4.497794888152523,4.501999044850895,4.5106170127598375,4.532424543572199,4.549869602928283,4.5797224251731805,4.588408988031692,4.608719572560885,4.622141458556851,4.6328139938436035,4.686885136647166,4.696110786259062,4.805732210430233,4.822844625070632,4.849731068100774,4.859796873212545,4.981949754731641,4.996119130314823,5.022568423187893,5.085925754067172,5.1278818998274796,5.171895071410239,5.195235328360606,5.396962040617294,5.849771675021213,5.879899859522436,6.820275932887144,7.035653596583267,7.313295626349991,8.328999356249106,8.621452028818906,9.192571321354935],\"xaxis\":\"x4\",\"y\":[6.139675514028004,5.83255918058796,5.814746229383181,5.732792639973736,5.719374984066883,5.700284807602383,5.690714321272703,5.659192260096665,5.632224261470878,5.6229383083658195,5.5799453115042095,5.557813916614807,5.557549879061014,5.552403731555078,5.543829072050756,5.516893717180184,5.4729577469455055,5.467886236383511,5.463176079857581,5.440408543542405,5.43522978438315,5.434037762666927,5.432110046680412,5.4234076730710905,5.414975342695276,5.3823821064476025,5.37881002287337,5.3752675705148505,5.374814342244901,5.372830806492422,5.369478440592051,5.3636986504678505,5.351822763904991,5.350913952831266,5.349602575787122,5.343527724996882,5.337788029096257,5.334884510966496,5.333172848304688,5.323251780981711,5.3231096910548015,5.3215730749335455,5.316715635503997,5.3018471845513995,5.299565176765854,5.297179249777782,5.296741658061291,5.294790486241108,5.285663216583269,5.284131663327762,5.283943247745009,5.27536186331518,5.275056259348192,5.2741581694174595,5.27299232809208,5.264017241981991,5.259385978809583,5.248078841091178,5.241022361722085,5.235883180016605,5.23417541419254,5.2292546377882685,5.219749781914927,5.212803173559226,5.211994620089283,5.209654503636122,5.2014435127687095,5.200678126999063,5.200165219498787,5.198954708373203,5.193165035608042,5.192395377692502,5.179829316214671,5.178525026274631,5.177563671501989,5.174817681691746,5.174029292300503,5.169991197882767,5.168600109532287,5.1652975626528,5.1652750046126386,5.164551872939073,5.159302756030378,5.157524035772587,5.152568979540763,5.1519388258931,5.148000466148757,5.146985375549331,5.141953017126639,5.138422374229235,5.137580110160778,5.134500213664278,5.128740774497983,5.1262890885436185,5.123713979668353,5.12258528449171,5.12182031157165,5.1130304368471835,5.112332023725598,5.110816294473573,5.110417364040628,5.10698640920256,5.106851283128565,5.105747565163473,5.100667798683841,5.099056490498583,5.097984651422306,5.097807589418129,5.090090627652548,5.087007713157319,5.085197633450551,5.0837735925108065,5.077646864636297,5.063502713169305,5.061743034556678,5.0557752654187365,5.05151673091893,5.0478307246003045,5.047254057709732,5.0396438488544995,5.039024044393139,5.038642977679431,5.034964571154037,5.03429318165496,5.030255486981889,5.0285720707219586,5.028178823529575,5.027120977100738,5.024420554735485,5.022993233241568,5.020357819981188,5.016615612817769,5.01456871707718,5.014177369852975,5.0036036539496065,5.002893621426275,5.001327519035061,5.0010623818978495,5.001058750072947,5.0001433631357655,4.997613191367054,4.997287410116602,4.99492994206711,4.993375597534721,4.9924897811971185,4.989851428979349,4.989149884997515,4.988732306915744,4.98739227569741,4.98401413997165,4.980008857535272,4.9799601379182725,4.973756953784071,4.973157836157094,4.9725988765292355,4.97141934932301,4.971272506595216,4.971189653839451,4.969276724555245,4.968332037192812,4.966812676371414,4.966603258924497,4.96486577546186,4.961799326162896,4.960851102657942,4.959873599129589,4.958040708525439,4.954785721341871,4.954102089130672,4.952324753248575,4.951953412764509,4.951664352154177,4.949903444152853,4.946390495930046,4.946200317395419,4.940785330351053,4.938398804874454,4.935322287230103,4.933507715130464,4.928810949448735,4.925053026432071,4.923305318005343,4.921392319595707,4.920600847294877,4.91826014444393,4.917953752942391,4.916337175695747,4.914852542916539,4.912891594768113,4.91230899018081,4.909355181892501,4.908039827302388,4.906074046619773,4.903269545495302,4.90185656616042,4.901776225722146,4.8994385428857505,4.895869382212858,4.8949914944166615,4.893806548257116,4.893390444134488,4.8928863437753005,4.891990410691351,4.891542056263764,4.89142807712663,4.889013143920918,4.888437941251911,4.8883921211390575,4.8872993792234105,4.887066835014647,4.885769101940334,4.885558577253596,4.885534015755363,4.885155958156812,4.883586295157657,4.8786754144267785,4.878317875672782,4.876402255636054,4.875541368967765,4.874890844891453,4.873414576518794,4.871833380928736,4.870126561658055,4.869211272705082,4.868788759680836,4.867858449373221,4.867611692554397,4.866733785207774,4.865705407311398,4.864957932498739,4.863540020882324,4.8633321931630915,4.861887297933504,4.859365506212633,4.8565731853625955,4.856067445759743,4.855537992164758,4.85261580647671,4.848499130513101,4.848316729318065,4.847395119634725,4.845328311541729,4.843547438658671,4.841535871020331,4.841405334506359,4.840120485727084,4.839883429966257,4.838123906829702,4.8369579893566605,4.834581819027447,4.832569382457252,4.830763237370184,4.830470065852169,4.830375452989383,4.829763073411528,4.8297078494706795,4.82967188614097,4.829070976266932,4.828934603078885,4.826271779757531,4.821325233313853,4.820205704750929,4.820072914950728,4.819154895965105,4.818258918349168,4.812711885312142,4.812157839879445,4.808638160001366,4.8071927718828755,4.806454269014227,4.806269831482006,4.805987936132426,4.804543201961143,4.804178865989587,4.803829905567298,4.802559359833572,4.800963471062624,4.800468266865684,4.800087919243278,4.799872362531522,4.798097744533615,4.797888307045926,4.797374695856384,4.79735845068548,4.7972810487647,4.797013777768408,4.795563540788465,4.795125899782592,4.79480308141,4.794621416730255,4.794524766747726,4.793997876041871,4.792734208821424,4.7925640464513,4.791755612126896,4.791615661449998,4.790417414021471,4.789870308711764,4.789449732400811,4.787860674456322,4.787622747579926,4.786802168489019,4.786132861355118,4.784964754142401,4.7848019725402215,4.784719865520404,4.7836527111122535,4.7821953173469325,4.781455802097615,4.780857074062098,4.780789332557631,4.780500824386419,4.779965815440029,4.779202405809018,4.77891471279599,4.771736799485185,4.770403184974594,4.769723138041541,4.769256176254313,4.768637274500197,4.768427588790963,4.76825724088636,4.765555822702346,4.764931050030131,4.76489079548587,4.763441678638002,4.761299020870028,4.7607275273103715,4.759952475185461,4.757757609469479,4.75683304281794,4.756279142844218,4.75539467687856,4.7547371999656916,4.753864273333625,4.753804825575101,4.752465141020338,4.750761120873314,4.750443122866311,4.748985422078028,4.748937995147632,4.746654259171735,4.746355171427514,4.74368443727726,4.741328002673951,4.740503718991075,4.740037745667481,4.739079157085908,4.7386431760309335,4.738637082375235,4.73831496367764,4.735304974881726,4.73397347038959,4.7336950226436905,4.73349354097269,4.733089596012535,4.729775661003599,4.728427089969622,4.728329083123829,4.728056699931528,4.726964078300217,4.726524934185568,4.726415076188546,4.726007995404672,4.725385051609015,4.723753428979798,4.722793010334255,4.721061467853468,4.720272383666474,4.7171093505393396,4.71591495492983,4.714904436495721,4.713643902517669,4.713398050551096,4.712547342989424,4.711621655378715,4.710781497235421,4.7106561410990455,4.7090512695175075,4.707867931274831,4.707616778452757,4.7072664011837535,4.706778762255374,4.706433195847801,4.706339431221467,4.704728492452946,4.704364618904418,4.703566281022084,4.7035099507987885,4.702958958076289,4.702637135396319,4.70119862077159,4.699561559176672,4.6983128789152495,4.697703666686213,4.697302835547736,4.695824505902928,4.694357228723161,4.692641987032876,4.690575003044221,4.690082373864944,4.687937736331992,4.687803236360254,4.686951162645818,4.683681503369607,4.6831551582481685,4.681199680296164,4.681025458438994,4.680685263901554,4.679866782385045,4.678937493095262,4.67842184089218,4.675537263403515,4.674119307408028,4.673148532859511,4.672317807110529,4.672048194040114,4.670937850386181,4.66887784986997,4.668356708164557,4.6674261561341,4.666509822120835,4.666163177349999,4.665811297357455,4.664933956111514,4.664490835586717,4.664229550477037,4.664146998083199,4.66331838069415,4.6624724886303515,4.66164454839427,4.660906272957251,4.660378134477611,4.660357703629053,4.659993278723364,4.659931577168026,4.659364688710132,4.658898373559185,4.658545293423323,4.6577365548473955,4.656138365463338,4.65594130408849,4.653803126421738,4.652860437197099,4.652825652630888,4.651680993913268,4.650543406696352,4.650449738428386,4.650190347578939,4.649703305206244,4.647204830432829,4.646995969739667,4.646872440321839,4.646413439297227,4.646132646779145,4.645764972843675,4.64537590676128,4.645373795943954,4.645133102962377,4.644985642229979,4.644566164507162,4.64437168851184,4.643818356065467,4.643183838921549,4.6425573754244915,4.642545415530671,4.64232904543813,4.642210862269562,4.642023174220192,4.641716656764564,4.640976924922189,4.638761089348111,4.638680844341185,4.63805004773183,4.637851767390209,4.636599624546684,4.636451560152646,4.63643562459136,4.635072587410038,4.634749235843869,4.632214156055961,4.631062138684844,4.630433321833706,4.627569710601214,4.626856428399995,4.625956052905718,4.6251423103751765,4.624835914530986,4.624668383655043,4.624475420559441,4.624104837081914,4.624026397075571,4.623820959146264,4.623601110127971,4.6235303784943005,4.623510438257722,4.622733707631555,4.622158994637741,4.62173612099756,4.6217112030647804,4.621046737007487,4.620887894741625,4.6204785468797835,4.619856930517682,4.619410366662711,4.619399949370311,4.618929918528198,4.618468466239625,4.618269311743755,4.617694703314534,4.617571275044555,4.617244413057756,4.616325074370331,4.615282269316299,4.615133123714955,4.6148927795246495,4.614370869891094,4.614369310670647,4.613622954938075,4.613155516657206,4.613004414400307,4.6120391703114345,4.611169647507017,4.6109112104642955,4.6087149231157145,4.606831012031779,4.605867751719051,4.60563542598564,4.60545677756603,4.605100556620591,4.605010609488667,4.604837067467523,4.603323315198373,4.603289758249209,4.602915220217794,4.602594331679403,4.602155569550509,4.60203460433975,4.601864408358717,4.6009060689221695,4.599451466300137,4.598934332096466,4.597224547958994,4.5970647544195495,4.597048443970229,4.595805463409989,4.595636941525239,4.595596704840838,4.5928511322590655,4.592290087082008,4.59177241993644,4.591652779638876,4.589454212251326,4.589200291633418,4.588618177731873,4.588593633846945,4.5885514261304134,4.588332745190786,4.588195913964189,4.5871547028030415,4.587099016069019,4.586869282726594,4.586846485578173,4.586838597382492,4.586752002254578,4.585282660036319,4.583306362728284,4.582318412362041,4.582006404338679,4.581901068456549,4.580116334876568,4.5799643274100985,4.577966095672432,4.576745322629362,4.576535937592719,4.576475190977059,4.576407991205831,4.575537302394433,4.575449288540722,4.574979922251521,4.574978071591248,4.574968741247526,4.574544800691586,4.574463436589821,4.574391864984846,4.573350745977594,4.572417417411125,4.572371429761393,4.5698329251814975,4.5688885529654675,4.566579431351022,4.56650331440396,4.565446106200784,4.563955237471591,4.563703295733619,4.561977054704539,4.560542371317252,4.560326847155287,4.559864703633181,4.55967558195413,4.558836618985139,4.558399788234232,4.558121349213571,4.557580222965784,4.55723958357262,4.557046619189227,4.556757041221131,4.556636770393466,4.556351016942489,4.555033981783169,4.554359852394559,4.553391643883889,4.5528437656015175,4.552438468464773,4.551713273068086,4.551370293344818,4.551280228856199,4.550441002362201,4.5494268087014476,4.548430388464035,4.548424878962969,4.548152607318752,4.5480761892318835,4.545859105856297,4.544325453266058,4.5434242299892444,4.542768034869158,4.542476079014572,4.5424716536777066,4.542374026715017,4.541677628580676,4.541333768889432,4.541066108741647,4.539930605005443,4.539591295907451,4.538481522452616,4.53822338133099,4.538054555457616,4.538009724526762,4.5362286778625895,4.535357999433334,4.535170999868294,4.534882738988587,4.534436172287304,4.532441432433979,4.532377415319542,4.532008816249334,4.531477440545309,4.529936420089642,4.5294823114135845,4.528063381159373,4.527226360270864,4.5269828970130765,4.5267868702726055,4.52550679013765,4.523454232785278,4.522718034743967,4.521831828973266,4.521595047468441,4.521444215817517,4.521309285681695,4.5196251476013005,4.519242379784711,4.51882930864429,4.518166261410842,4.517874156363024,4.517834481618611,4.516447059658443,4.516306407786639,4.516227643445394,4.513947846726432,4.513589308175083,4.513246787919712,4.513021807625608,4.511899129233811,4.510465064268277,4.51041509564787,4.509158609691615,4.5089813729725545,4.507573044874859,4.507487111117879,4.50682317335433,4.505435631775253,4.50420274070221,4.503364677322648,4.503276430992131,4.502629678898786,4.502579260416226,4.502463665854767,4.502192708517023,4.501167492040148,4.50114924939448,4.500803719189198,4.500519019443313,4.500482666381684,4.497271883228212,4.493614824417693,4.492000868170071,4.491774621374219,4.490182367247822,4.4899059849524345,4.489835895479315,4.48981252688678,4.486963204958806,4.486938132053044,4.485515682981498,4.484916476459499,4.484455878355577,4.484308816769629,4.4836578590755325,4.481850130017825,4.481549789773729,4.479385427658436,4.478405888461265,4.478173503690279,4.478063657868583,4.477789911997269,4.477715216926785,4.477179347778464,4.476697844183334,4.475094125586238,4.475024403088789,4.47499899242567,4.47494835262571,4.4744999646452746,4.473913551346309,4.4729954590318854,4.4729632576037615,4.472732056863522,4.472376196430122,4.471620291809736,4.471140226215453,4.470618177125145,4.470233299515978,4.470151026198462,4.469685212271753,4.469367618243467,4.468778533074957,4.467927351690331,4.4678956852954395,4.4673623267390745,4.466849281650408,4.466825831773647,4.466809981393504,4.466460688318079,4.465739583866674,4.465627612164962,4.465382386210467,4.465368896341805,4.465115951474296,4.464920857770772,4.464228179610078,4.463839614245349,4.463516711864125,4.463336316090362,4.4613237069882254,4.460234157207499,4.460114548068887,4.459380729383251,4.4587408557896,4.457523959983715,4.45632073037702,4.455876277151714,4.454907832741836,4.452403462633092,4.450908530601271,4.4506318509831475,4.450538470914872,4.44982357772633,4.448443783968692,4.448038583679166,4.446971811255125,4.446706431091435,4.445780838758636,4.442812524581009,4.442781535330432,4.44151948731306,4.440886540709308,4.439720104556439,4.4394631823434585,4.439339705665657,4.439203754929751,4.439075334865743,4.437893329756976,4.437709168948426,4.435708241869727,4.4351048257086,4.434904624842609,4.432889151263742,4.4328018916393805,4.432515948169741,4.432369129219816,4.432196655250966,4.430837483017868,4.430640559835697,4.430166587059638,4.429223679566561,4.429222754003768,4.42864001339243,4.427594989174522,4.425853432677601,4.424580993056137,4.424224275773675,4.424174222869393,4.424079883306005,4.4240249295994385,4.423643280962336,4.42312112488284,4.421997017522321,4.42139054657958,4.421121270252125,4.420813340360163,4.420389061881802,4.420384714378503,4.420290201619975,4.419066889147284,4.417720189777153,4.417547439674667,4.417360566539485,4.4171731796837985,4.416342444217614,4.415491832540834,4.414981699146247,4.414811190934158,4.414446624255458,4.414157083642154,4.414076560692383,4.414031885423956,4.413787240997384,4.413005175014097,4.41206722138003,4.41138852105603,4.411180372509763,4.410880364189962,4.408149265705235,4.40745739805971,4.406887542554202,4.406717092386629,4.406273428648075,4.405687201379496,4.405675428333499,4.404937846886451,4.4031328211644105,4.402883441215247,4.40245445757174,4.401990572662525,4.401836506064957,4.400261111376887,4.399907273726648,4.399744912886996,4.399558525524403,4.399428553543711,4.39924526539465,4.39847658301622,4.396915918837732,4.396585392123205,4.39567253223313,4.395664558769725,4.394162546949401,4.394088767059783,4.393638206998238,4.3935473118388,4.392055437769088,4.389372411835694,4.389301847304444,4.389077587794927,4.38811551442858,4.387773712529785,4.387652550662764,4.387321794585374,4.386497701881295,4.386475651969738,4.38618911047134,4.386090889338065,4.38553825032856,4.38373310716171,4.383693302610656,4.383254521711734,4.3827804965239086,4.381788626210907,4.381158488404845,4.381107641198316,4.379682863783892,4.379473786234141,4.378940464217319,4.378234157940658,4.3782171151856,4.377458031196642,4.376916565374023,4.375479743018108,4.374740996633386,4.374577612189666,4.373597758240766,4.373135532162911,4.3724038483350105,4.371738379588471,4.3711132757115045,4.371077780455158,4.370820337593479,4.370136265945996,4.368046201144437,4.3673315249244835,4.367010466094715,4.365950768025959,4.365546467840959,4.365186601603473,4.365094942871705,4.364166066310539,4.3640953146074555,4.363483369362851,4.363342361684132,4.362931600323272,4.362604983714923,4.361862382062939,4.360742156109866,4.359331704448951,4.358274268018259,4.358253457154189,4.358136342845707,4.356850328816806,4.356183950956713,4.355847027480974,4.3554413362234605,4.35510261091238,4.3547049208660455,4.354675179968181,4.354223804919503,4.353739087168353,4.352714777823872,4.352016346605626,4.3517649836417105,4.351528523114275,4.351331261574357,4.351214820682414,4.350237984240057,4.349540756565641,4.3495322663509235,4.348731165006538,4.348556813260064,4.348190991771115,4.346605526763565,4.345237456367742,4.3447058881842535,4.3444977817849715,4.342066414093418,4.341605606304946,4.341230470302116,4.341223317573302,4.340830015560054,4.338453377259221,4.338080364883658,4.337301055724402,4.335479197667107,4.33446003997154,4.334035305910762,4.334021974635619,4.334015410799931,4.333768409383701,4.333493967255388,4.333140710007957,4.3320754912487365,4.331688865531506,4.3314596995725605,4.330965203806781,4.330493365683372,4.329727689006444,4.329409953317707,4.328467745045,4.328181332543187,4.327920734080825,4.327733161076035,4.327202821638383,4.326553336741376,4.3263839231258245,4.325872241307377,4.323704814219536,4.323581549226006,4.323394545919962,4.322891815332616,4.3223621523992986,4.3204274508153135,4.319697561556913,4.316171261170073,4.316051424911556,4.316026973083012,4.314257132186664,4.313366759456499,4.312899449977215,4.312772510200416,4.312416008671028,4.312378650464686,4.312292611437568,4.311879202472964,4.3104823555254805,4.309728068143475,4.308926681224984,4.308167419145609,4.30733923427922,4.306995113256091,4.306989783848059,4.306273402805093,4.305065803426001,4.304641224603753,4.304592105686003,4.303837317987672,4.303736602045329,4.303472778308306,4.302787935435901,4.302749837358375,4.3024169160216985,4.302285009699889,4.300603932998198,4.2972604950467055,4.296827189711326,4.294804292646384,4.294708328127427,4.2938432843498955,4.293360702995972,4.29155020920113,4.289630522415115,4.289104952835349,4.288850571549997,4.288510180556043,4.288479207629609,4.288131920545233,4.288084436112576,4.287806498280279,4.286264166456458,4.285212946344122,4.284902794449214,4.284374343092202,4.28138671913926,4.2810698400207565,4.278969993038832,4.276793269323865,4.276184315742557,4.27288694792752,4.272592619930183,4.272456452272913,4.2708965128120155,4.270302815555121,4.269144875554757,4.268838999812406,4.267487703041826,4.266163696726762,4.265533047316822,4.264098964584032,4.262957196626454,4.261481229475439,4.261114052935556,4.260498204510602,4.259380766722482,4.259262050964237,4.258002744037733,4.257103736269545,4.254188732552635,4.254087057040965,4.251638666658807,4.250755971945326,4.250710082019515,4.250654154307305,4.250035107970681,4.249616998416371,4.248252784492762,4.247958435229319,4.247653880639161,4.245569160141445,4.244936881536339,4.24326424695789,4.243166954453356,4.242965088842118,4.242959553224977,4.242156085864874,4.241300263320448,4.241079537548262,4.240567724504056,4.239349141710708,4.238196176831887,4.237355314993485,4.236741039413822,4.235983891036745,4.235931324215132,4.234570059311665,4.234060375783379,4.231922666974147,4.231445644614439,4.22708577993746,4.226851453604089,4.224394890710579,4.22211296182279,4.221689766599941,4.220504390712544,4.2200350133762585,4.218030042811346,4.2171146199275915,4.216951910536671,4.216498072053807,4.21553734937433,4.215364315103247,4.21177536825155,4.210855923700444,4.208784532499292,4.207802990351156,4.200787732577092,4.199230087694544,4.199058004867234,4.198340207915218,4.1980859841254565,4.196646469602089,4.193010959798707,4.193008171833858,4.190465004805776,4.190261945371513,4.189812961374312,4.188658990961585,4.187385290636023,4.186388499793446,4.1862259912004305,4.185677249599263,4.182789961495695,4.178284085966373,4.176632159640323,4.175678261787858,4.175505233259212,4.1746212882506395,4.173807175777107,4.173230034474605,4.172525621801497,4.171833667642264,4.169754533258649,4.169484297588649,4.166997582081855,4.16690601577352,4.165899791847838,4.1656282051896545,4.165541388150168,4.163601083715741,4.161156982822121,4.160325812311046,4.160271480096155,4.159746256771282,4.15933827526397,4.157315292929128,4.153845342865757,4.153841536903148,4.1523266277546105,4.1492613407858645,4.147151950765447,4.146145315412309,4.145831983438289,4.14449455744601,4.144155011026684,4.144082749391914,4.143634793448301,4.143473649885673,4.143213008583755,4.142303969865321,4.1389217111419665,4.137850290459045,4.13777997804769,4.137175226480538,4.136974722019126,4.135462063663664,4.135089074019999,4.134904889926639,4.1343318559423485,4.131012009246615,4.130223612449411,4.126472763066894,4.125839384408391,4.122133269351172,4.121598986958076,4.118606102590595,4.116392344895053,4.116007473899672,4.114030383239406,4.113754529237067,4.113652817738439,4.112983596793574,4.112344257195799,4.110978522199149,4.1049349888326745,4.104442720674302,4.101987373109124,4.101917902988855,4.1006503100512,4.100500813887422,4.100215349877626,4.0996562716704945,4.099300228992375,4.098446299105093,4.098184052491556,4.091320002296961,4.090928576996133,4.089774730343741,4.089624222145666,4.088876045020425,4.08747053698506,4.08736073641377,4.08719999936732,4.086795827469761,4.086711215108505,4.085743879592816,4.084755612058466,4.083258956397806,4.081347874829926,4.080803083110221,4.077772512051143,4.075516939900115,4.071918569833468,4.071433575654808,4.070730880057901,4.068821729582981,4.067457973855131,4.067386692088737,4.065372162847573,4.0645257607089444,4.061471783540244,4.06041923583473,4.060006203992836,4.058995662492222,4.058242764137336,4.055138244418069,4.054671536883451,4.053504205262747,4.053440918568806,4.053339198096746,4.0524279676459,4.051761671246385,4.051052214801876,4.0489657960889005,4.048753471318108,4.047351496395793,4.0469224011043154,4.046824864692772,4.046219430854693,4.045437041470695,4.045156566251836,4.044607833896677,4.043120718959096,4.0422340623210005,4.04132321171922,4.041139123981473,4.040941852223013,4.0402242417230445,4.039940670114653,4.038925504257521,4.036866809334834,4.036267791146505,4.035618756143483,4.035406744012748,4.0341829330183945,4.034023781582282,4.032349266167239,4.031726130799358,4.031017629144134,4.029711068793805,4.028601717736298,4.0272228275791,4.027091125150139,4.0269223496300555,4.025930496774867,4.02461561203135,4.023003612965294,4.0200042750869684,4.019830427828427,4.018723207130133,4.016041278113494,4.015206155468376,4.0151946995557735,4.009628635327011,4.009581415447607,4.006634994945521,4.006014938494094,4.005626153915604,4.005617139444158,4.005484003209822,4.005080616899163,4.004741733071936,4.003812039465777,4.003567300419483,4.003436659422961,4.002799124094998,4.002526880356834,4.001816411561804,4.000991703308718,3.9994916701607135,3.999286533199403,3.9968095042388794,3.996659101760349,3.98989401755039,3.9896337815876324,3.9890471367364517,3.98871144883045,3.9878961481231325,3.986472499263074,3.98566097482952,3.983268775407284,3.9821405890815913,3.9818438052346474,3.981763177320907,3.9816595525067515,3.980815614776711,3.9797733846403345,3.9789819473592467,3.9785646962096295,3.9763828812251014,3.975731344663012,3.974879310517811,3.974854696291532,3.974464191576991,3.9744294193774525,3.974378904398113,3.9716343194230657,3.971364542505118,3.9711856379849158,3.9711305968924386,3.9708702858649465,3.965531851800608,3.9652152713812634,3.9648282077600276,3.9641170539008517,3.9638456240765465,3.9634983609749215,3.961571713389077,3.9597731790535082,3.959119052503919,3.9586268666392037,3.9580603952782214,3.9576415523744313,3.955862173267766,3.9557651587561744,3.955615870091538,3.9545249087840344,3.953671909085699,3.95351708527449,3.953022388718719,3.9512320036413913,3.9496312792633335,3.9496099871558887,3.947517673333454,3.9446256345539155,3.9434642330018246,3.943237258891125,3.942132983735214,3.942040187157312,3.9415834533997414,3.9411642695400144,3.939841712011984,3.939666094194809,3.9388125895636867,3.938204138188665,3.9378665056761033,3.9364950514733557,3.936347718481863,3.9361426000690227,3.9359362900639985,3.9344207272366587,3.934253840320151,3.9333199839545934,3.9323750847450674,3.9310324565485986,3.9303712213507116,3.9303209100119627,3.9302144435577135,3.929516515060796,3.929481944224926,3.928711699526219,3.928108449199976,3.92788220885679,3.9273099591905174,3.9268278946887536,3.9256641037726214,3.9253656403709143,3.924717684138688,3.9237304739406236,3.923722723339437,3.9222451449196023,3.9222451066815243,3.9198435090805606,3.919786520575884,3.919739147398577,3.919305815304472,3.919157683620041,3.9190354083112826,3.918438862851909,3.917138690829113,3.9144658658688662,3.9144481929907933,3.9138075901671034,3.9127209091916226,3.9115233190299152,3.9110706453697195,3.9105783241407805,3.9086076609050484,3.905910513596938,3.905634525505542,3.9037875720902804,3.9037628137499536,3.9020552590210826,3.901799848024747,3.899332183488644,3.8988644757918447,3.898374216028901,3.8968997982141014,3.8958310338167133,3.8956462873725037,3.8950966058594183,3.894951210254133,3.893757176268543,3.8909936469642554,3.888862899763893,3.8886655105202435,3.886137606690401,3.883577522217763,3.8820209350423602,3.881679926600862,3.880294591656449,3.8802355913380135,3.8795569149557045,3.8779898294742776,3.876606386489327,3.8746384963482723,3.8735591997153622,3.873368156292673,3.8730389585007012,3.872856379894432,3.872543347749383,3.871609758859255,3.869470214686981,3.8682705458341875,3.867623681725907,3.867257614268562,3.865836835087535,3.8656729670590373,3.862242483880383,3.8610027334319286,3.8599399865127086,3.8592188134322027,3.857516374806034,3.8547762783910007,3.8490322760371143,3.8481843791689023,3.8478302605168695,3.847280311488205,3.8446814435822017,3.844612631994236,3.841761045882338,3.8415130325666516,3.836316752706647,3.832867245622567,3.8320679872153907,3.8320259495151534,3.8313397335818857,3.8310301902615977,3.828465621691055,3.8280657551441726,3.827048900291253,3.8258098445250552,3.8250587454165843,3.8239126308758777,3.8214234396303626,3.8208664045565897,3.8206539436950218,3.8198275558602512,3.8163913674491323,3.815739371238373,3.815467468887306,3.8147976673160127,3.8143117296376894,3.8142868908525913,3.813369390711552,3.8127307889534743,3.8101335912711995,3.809856565285923,3.8095195386972187,3.809125099521445,3.8073617545824,3.804953364398843,3.801000980106644,3.795538483757267,3.794750633628772,3.7925449745123703,3.7907311629879326,3.7888452817907052,3.7884631478175796,3.7878744442244625,3.787466492601749,3.7864834190770518,3.785282161051957,3.7836436750953366,3.7833252934439163,3.782849536012689,3.7814591582202874,3.781423957796376,3.7790686070742074,3.778768147765047,3.777643093940071,3.777148409520334,3.7748465156817126,3.77386303678895,3.7728314400827134,3.767771336298728,3.7674940387419737,3.7636644497685356,3.759079766247785,3.758631547930249,3.7555925205279057,3.755235123628279,3.7533217248499087,3.7487039462804317,3.7466847596836663,3.7459134425857945,3.7449915211819746,3.743435689080615,3.742402828785248,3.741600899571047,3.7403386556456937,3.7393680397363624,3.737525867754326,3.7349339946931868,3.733253520453185,3.732301373098526,3.7322387161550883,3.7320695356860107,3.731246051314171,3.7264969232345786,3.725610977561243,3.7241479322090685,3.723509902353387,3.7225983790171284,3.7200249901399243,3.719884396599797,3.715918024061126,3.715784560760862,3.715003101441217,3.7119079758279803,3.7119038426172026,3.7101921685309205,3.6988115666633377,3.695259133407542,3.6889006310442087,3.688844938840732,3.688077244693292,3.687535433968193,3.671469108104204,3.6695965578067495,3.6675514008273398,3.6656168622993617,3.6628320525877993,3.661675272353758,3.658995726867369,3.658517986716062,3.6496073682799826,3.6474642386454352,3.645911722720283,3.6455432193705577,3.642204360444457,3.6350964519473985,3.6318756602802753,3.6303053562603904,3.627506786339535,3.6267262938045333,3.624386050435611,3.6240211495656314,3.623000915192032,3.6206385442937274,3.619232097162251,3.6157045834001935,3.608959296452399,3.600537391902586,3.6004328613290313,3.594926046155484,3.5911538376763144,3.5893992447175105,3.588846325014233,3.5825424349063533,3.581540950169291,3.579724376490348,3.5696763231839497,3.5655100187994524,3.562154530079167,3.5612291141276002,3.559714368003469,3.5594926106997367,3.5584898534788088,3.5521103707100226,3.5485772040850767,3.5472851425846805,3.543231608449896,3.5427532873909824,3.537074663659536,3.5347658679306853,3.5291826694123674,3.5291188486058553,3.528861109577657,3.5232141633736385,3.5223926292919403,3.520708592549229,3.5164471838802878,3.513038245573156,3.5072047068474115,3.5055072659685207,3.501538375509134,3.498915605337266,3.4968300856706023,3.4862640459540812,3.48446126215563,3.4630401443186694,3.4596962081012883,3.4544423294117896,3.4524753708628255,3.428605481478256,3.4258366443979282,3.4206681892020385,3.408287535868425,3.4000888872090815,3.391488275221224,3.3869273566028157,3.3475079483367303,3.259024436928126,3.2531370896755796,3.0693782411575268,3.0272913010510036,2.973037283817665,2.7745586611386237,2.7174104968247796,2.605808100150271],\"yaxis\":\"y4\",\"type\":\"scattergl\"},{\"hovertemplate\":\"Component5=%{x}<br>y=%{y}<extra></extra>\",\"legendgroup\":\"\",\"marker\":{\"color\":\"black\",\"opacity\":0.3,\"symbol\":\"circle\"},\"mode\":\"markers\",\"name\":\"\",\"showlegend\":false,\"x\":[-0.009440306508674308,-0.5696865581433588,-0.22590567843427264,-0.3415460140564556,-0.33138055799840027,-0.8471710416982345,-0.19874290904316802,-0.5033096146883637,-0.07338421225258641,-0.33905042804957225,0.2325414214303881,-0.3025949374595608,0.21641811790326704,-0.321181634393448,0.0035769406186500234,-0.21069701686042003,0.08358902334020611,0.0038775095510115366,2.6330256906579574,0.15346926621179077,0.5066289985500692,0.17789541397617203,0.45480763185719775,0.3018795048936958,0.14148458547557655,-0.006514338298162786,-0.6927065322017051,-0.3485835419114164,0.29888876502984085,0.08290678408100467,0.4276540698226839,0.17684828481112305,-0.3054466444383066,-0.8243698826034985,0.4987297807468796,0.46744033204463614,-0.1202978665838118,-0.38736405337441454,0.043175118075607664,-1.0665549824792315,-0.10852936138265572,0.42395449265158675,4.074961335923894,2.6318149259580084,1.3779900048792193,-0.27738901397216603,-0.10184254220984588,-4.393490405844217,7.974713638527135,8.104254017473442,6.444108837964398,6.828865393677092,0.056396191156461536,-0.020680355599849678,0.09586425260045461,0.2322821610755855,2.1442253183065967,-0.2114480652886216,-0.1663739406696753,-0.2789793243613467,-0.401706446927148,-0.07128877611766825,1.1363228658079385,1.2223188496654422,0.19824522571973768,0.5078728239539134,1.7381117653553355,1.0598793915885494,-0.23131809647050555,-0.6992705898975903,-1.091573910493828,-1.3586830550796667,-0.19006525667855106,-0.5020400978268553,-1.0905062169171391,-0.9091950351681825,0.3204558850165195,3.5458196144355894,0.3911300533963446,0.1651324391930477,0.5594139281896605,0.26220148125488774,-0.04842447801895391,-0.010390301613732895,0.2912341247626682,-0.13507524285907715,-0.3037518764385433,-0.0859158754710852,0.7496130802443483,-0.5871375194014108,1.0904422812920258,1.6859308720077093,-0.2601995986402435,-0.599064061464612,0.03556650347772215,-0.05700286730943997,0.5722317152372672,-0.06885527443030619,0.8411731152098559,0.19720069233444115,0.6398530310237942,-0.2105326739743289,0.14260065506678354,-0.38677776503549227,-0.23595289310449513,-0.5119979788225787,-0.45771594001082966,-0.9952265765265409,-0.6361854490024179,-0.8909751954129924,-0.8676445976750093,-1.08928273812544,-0.6078627423622787,-0.9028039704124752,-0.5279363086622417,-0.732497343374223,-0.45603944892030035,-0.7772430964013777,-0.5683348062616225,-0.723728030294266,-0.10976660811308808,-0.4493253189767446,-0.20005701399450296,-2.2565789614515586,0.21842782960844673,0.1889253279261946,-0.21171865172114615,-0.29211620954214107,-0.9408565575749851,-0.7726684584319852,-0.33796605290573023,-0.4836591092671472,-0.8500365541924597,-0.6191031572264916,-0.3455159936767893,-0.8098129913329752,0.3410064605634648,-0.21102961958654987,-0.3026282626669384,-0.5957889013942637,-0.03877307173544799,-0.1215395405125589,0.4595065649447325,-0.3701287814942958,2.066611162177344,0.0502748156579415,0.3218651829155347,0.5310481870962144,-0.5922919003480985,-0.18331885125711395,0.6768782816314443,-0.15389622827108762,7.785843721243664,3.2517055860486908,6.646893170365203,6.84880317888413,0.3111849583456931,-0.2172832078129852,-0.4340779157745738,-0.1540702879303067,3.3768750631061732,0.49862857196904387,0.8291643378620152,0.21755624946339971,0.3128069256378468,0.05278203897313242,0.7666546939483128,0.7879764319337403,1.373530896461406,1.6772037791952599,0.22890569410159578,0.13831872854952246,0.6337063766839562,0.6033961542873576,1.065532976275221,0.9476412171120036,1.2170872006126372,0.3708390545686458,-0.18715908155100058,-0.23334270059019688,0.36077434215048326,0.4363590590404906,1.724563461971174,6.91481798148017,0.42328558218512347,0.5183111919716652,0.9554566368741914,0.6129824903391713,0.4360698542940518,0.6413016844968696,0.6947070572784372,0.08650715877476499,0.856757824506785,0.492379538614074,1.3470758043967754,0.048672282088643486,1.969952025986943,2.2503088413597068,1.0987566827942714,0.3811246791205461,1.1173816423937857,0.41187891556044315,0.9466943164924871,0.2766830673512069,1.25846059651834,0.9198941202045395,0.47283606395563665,0.2520599800009403,0.19344843763838268,-0.24753220217481423,-0.008267059929627948,-0.3352822174058769,-0.05211576860646294,-0.3840233656258747,-0.17425487251061195,-0.4388118158559997,-0.5218879870630182,-0.3896532589215912,-0.2210628587479772,-0.20586218749233753,-0.4337773300808973,-0.2908093603120665,-0.2571040212762969,-0.2935952008689815,-0.023425818691182165,-0.4415318510164604,1.738435950231026,-0.6525110685199833,0.3788165893288225,0.5868897585563803,-0.20600211273393151,-0.17897901660853732,0.028077073671894156,-0.3377427999669759,-1.558041653583819,-1.145239600270276,-0.3583091961409675,-0.18533768161646924,0.005691809625305455,-0.017800614287548148,-0.7832295268652036,-1.0148816745668627,-1.2621585195834237,-0.5257922460544424,0.4093130435123155,0.2896408277996595,-0.20739733740950067,-0.8014810292835427,0.7283340783664296,0.923879376768866,-0.48021451835879875,-0.3800177554987459,0.20006370967018178,0.2531528466818878,0.29512722037577843,-0.33947963039284046,5.5676142978762675,4.087772825255844,6.900903029446022,4.821527865123464,-0.43639171703383967,-0.38171441072720513,-0.22430350311640995,0.005901046203525678,0.4913040734410476,1.1790438078252907,3.5976678806522506,-0.07278676158786097,-0.23782160988977108,-0.5167046416004176,0.049917429449306244,0.04766365699984832,0.6271462207153969,0.7170027451738299,0.174430100940321,-1.1101412134444997,-0.9323636689758212,-0.5387958905477664,-1.464558767319625,-1.1105072654642911,-0.33368886391380786,-0.42302586185639274,-2.1687030233712674,-1.569586934066265,-2.7643147090105336,-0.4484473282823156,0.5152410314625328,6.501280069372627,1.3936095170215772,-0.04583436245711712,-0.7894214455523225,-0.1807398422322634,-0.4314506134066376,-0.059256503011200994,0.043095411350558444,-0.09976831459015668,-0.3009022583974227,0.11209622650009383,0.6631010178884249,-0.5358080964570339,1.6340970662530043,1.8605171862010033,0.3937915136679734,-0.1821866045497313,0.16781929264615877,-0.09131704207589318,0.4393329129302769,0.043554962322841555,1.0329600437719202,1.041823774298318,-0.016975939897438848,-0.29621220457890196,-0.34291381082293015,-0.49965752346281017,-1.1563101327519605,-1.0153063645218217,-0.6918908198936712,-0.8309129442770306,-0.6106659911964949,-0.9759876660991453,-0.5057109611003213,-0.5986931966652921,-0.2190687735086704,-0.265880218357559,-0.6894474519357089,-0.8610548161349458,-0.18547600632701175,-0.2499670444004566,-0.5723944215046036,-0.9480173516633725,1.040767083526977,-0.36656427383644175,0.8059648118100753,-0.03360469207780919,0.2605132811972858,1.3448469331873707,-0.12032709569706487,-0.15643153609420676,-0.5764314122647601,0.021796898413693037,-1.216504629994374,-1.0822960396246017,-0.8570271707651589,-0.9662331900996237,0.4858089772133409,0.1564322941199198,-0.8864177019184165,-0.34599985903575586,-0.14662119684281877,0.32153751028092376,-0.11581050035109901,-0.6206173885248117,0.5746052581565585,-0.21347324266308618,0.06391680773901245,-0.20946025234152443,3.161642356419694,2.1877439643375967,-0.3606114685738481,-0.5318716469890359,7.468536896656424,3.2799139763607545,8.908663613900176,7.1779147344168095,0.322498302339427,0.4452852306028993,-0.5751484202106599,-0.15991963807047355,0.7526076075484446,1.0748729088358058,2.1302205371809517,-0.3188961700739605,-0.41851360448447944,-0.35167757850838793,-0.5781501000782502,-0.23467885267984398,1.5402236667607543,1.7017318270866508,-0.26653933214505404,0.9578670359526557,2.3603794083544183,1.7895072324936703,-0.0720353101092738,0.09418154548930828,1.3023182445845418,1.30588704780415,-0.004718625453634032,0.4986246326209556,-0.4000306923124298,-0.2904459795389167,2.269072303019595,7.551121116250675,0.7872442455415611,0.723505433308013,0.7164853165365652,0.6528075306170327,-0.09647182317928223,-0.3255588314417322,0.5942534686830919,0.6525825168415048,0.36780826564960317,0.5495850873950725,1.3875267742096005,0.26512529399872514,1.9170605868440385,2.556424377017099,0.663851895836491,0.4132230841846139,0.6556692951224727,0.24904363476281216,1.0357664006193137,0.67291876343046,-0.12179890728795899,1.2795094445550035,0.7535886390949059,0.593776663257225,-0.354593042885232,-0.3029522232190815,-0.007120840402789754,-0.20960800176294467,-0.40385444729137826,-0.5290834029293284,-0.4606034783402144,-0.25623329328857947,-0.4776740273149568,-0.5760876716138824,0.8947425302063065,0.5506707577046371,0.8649860524886883,0.34476245637069775,1.2755666428615902,0.5203296185639547,0.810312638057712,0.5301791417634295,2.1099432800574225,0.7034073052128123,1.843128106841153,0.9541883996995473,1.1638231729862114,1.0641116358584413,1.0936169361251782,1.9658080102090194,0.2733630443265947,-0.08423070160973894,1.3767305808972177,1.0103558739112144,0.31577073756319246,0.2108945977525743,1.6469536923326635,1.0541306716960541,1.5216964388250422,1.1289893514011708,0.9523724159424103,0.8880199695275341,0.30549772691284205,0.10501883763420135,1.2215651545898976,-0.3614563025916171,0.2738340283910748,0.5890484403741723,3.965627955791541,2.5267177634139557,2.583643279552486,1.696033770703905,7.965672642617563,2.5178954274620193,13.398076608801457,15.783374580479496,1.0619941908817698,1.0514272340637818,0.8442733953071688,0.29447600802993723,3.6381639645976143,3.169439929548995,2.230694766288838,0.22215103504342618,0.4723107173037399,0.23010821727972636,0.05011845929857228,0.4150946084645228,1.9608322984415756,2.3853275263739167,0.7341057547062175,1.3121310373098427,3.7348541833652766,1.901684241318233,0.4190561953643639,0.4777593853718066,0.3776595654635378,0.7606611888718038,-0.3499884781851761,0.2970799006745663,0.15623648108328667,0.28390893809601714,1.3070414213221417,6.83140924848357,0.7149680434955832,0.8458857831049106,1.1341134762688263,1.160349823723752,-0.3618848981973921,-0.015808985001836817,-0.20898102032742527,0.1505335474932846,0.3726718589790508,0.8739302762449401,1.2803983306999644,0.21020342065906186,2.0360419282112296,2.2344722158927928,0.5690130340408431,0.09531518135473208,0.3410677988068904,-0.002327537774960768,0.46209737557905256,0.28215856687553664,0.2941925195310233,-0.11157240986284526,-0.18524701989875192,0.391924733445404,-0.2555329512458087,-0.48784347522320576,-0.1817912960453423,-0.5404503619249417,-0.5838333376113536,-0.3757389088553171,-0.5936445236953127,-0.6575925198999262,-0.5014988301238309,-0.7132771864741498,-0.35097813696606656,-0.17323642072940026,0.1238659316775327,0.10329271748345972,-0.21661242934010333,-0.17321519539631341,0.00866771756274925,0.04960723860001603,1.8799913498974181,0.1346878623451056,-0.2669224906681619,0.2400738254353017,0.7937044725690121,0.8151258551801847,0.7643911108128377,1.9102748540047785,-0.7501052215245726,-0.6603950261769932,0.31905693714643163,0.6382479965507809,0.7704696303754941,0.7142725665292533,-0.46998065284553675,0.24765009130815263,1.5395874048934957,0.9412449103514136,-0.27325845208778793,0.41527708436643873,1.492039985864756,1.4976588199741172,0.6412821547740528,-0.3999627443536082,0.6704375265936484,1.222450835372154,2.3106648102034115,2.6894268185156163,0.8738352108342491,-0.02656269663826762,0.7526659509675174,-3.8617911212778955,6.672739234762164,6.14804115209938,7.8997926642926855,6.703453697952627,-0.4495362379511146,0.34361746976853275,0.18593367714414927,1.1143423278284639,2.0748236184745914,-0.14634786653221715,5.5444011197509075,3.880793565388018,1.0466133284818986,1.2779886518096746,0.45417916272704545,0.9427223062545956,1.2520092123867408,1.7104913927594723,1.0404707048142232,1.369730394680566,-0.5778195083427514,0.20050343186729902,0.597233529596421,0.09565294191730515,0.3334883388677169,0.14368594021136766,-0.5536601062556794,-0.5935646041726583,0.7164312189946286,1.001806795002726,0.7310991677528706,1.1624651240916017,1.4085564757237434,7.071524952187994,-0.14559088736018644,0.16143837875532466,0.2012409896834159,0.5578188881474954,-0.07800701063057054,0.2602921665617079,1.5447174520812366,0.14496327713866267,2.640612018965434,2.6338189957418088,0.07642388888000397,-0.021815710454080685,0.19412750634383424,0.28060358985502065,0.2940656256467521,0.2596276628414565,1.1629115924108653,0.19960761242784203,0.7136151366963169,-0.8289946888460161,-0.5472132446329169,-0.2299293724570762,-0.528079793284673,-0.2909772206152177,-0.5129854425236795,-0.49991957831190387,-0.8286966121803779,-0.27764499078866295,-0.2776295653911463,-0.8329205817822439,-0.13282722827489463,-0.009662697280631608,-0.14271073339729412,0.13086187631012566,0.07120859058184911,0.1327303852483439,-0.011193013713591,0.07249616023558833,0.45474015854823896,0.21051804632386145,2.1690683482047644,-0.30245224412895033,0.7132067834249817,2.498130560229668,-0.12918109302461925,-0.1888831173523081,0.44198891824844666,0.7669443043678384,-0.14176114852647984,-0.3185281567478277,1.9188420644232151,0.7649808521605507,-0.02717410444028595,0.6619171140922964,-0.07296373387286421,-0.42829850081409,0.9602554947630629,1.2445341140101847,-2.6797577970232123,-0.2298456185135431,1.2454984672759426,1.0618883950903095,-0.9183222208838393,-0.520602344705632,4.5118049322290945,3.8447847510050797,0.7215879656210783,-0.17081827266848412,0.5637343835232096,-3.8403903785203926,8.810614522494676,7.961332047130131,7.625013940463401,6.003019419696566,-0.8511717510311071,-0.8344363192480752,-0.9431775448084488,-0.7579869918595278,3.155162970629251,1.2673162317859974,5.238075114281762,5.006253418534121,-0.6308222946937221,-0.11413231688633561,0.22935658019307714,0.1862281897522388,1.3186906427105571,1.6839282509567088,1.7100304101545039,0.7644597235890545,-0.8881557412816592,0.09841987686925681,1.0038187519578587,1.6060551168984731,-1.3946941291719075,-0.623626960477696,-0.769380364507308,-0.09509504751815638,-0.10402123401430528,6.982745276142327,0.050610843393672555,0.43689572233743773,-0.4487482981308421,0.20134063447888487,-0.10265732427774393,-0.35736183556164675,-0.9631887990857214,-0.1471899794789539,-0.6253160338567577,-0.42149149460123,0.8980501557547422,-0.13433202291693278,1.7656356524664483,2.208207280140217,0.3906949649942882,0.12287678832326038,-0.5286286676105834,-0.2009625286767084,-0.6858370362195747,-0.5237645035288081,0.6179919584350291,0.14918899846151387,1.1595716475432407,0.519869448844757,-0.7828000210522016,-0.4513224968863888,-1.0772825119512082,-0.605258641013823,-0.46345837107287075,-0.517283738254992,-1.0837888378669573,-0.678959556504332,-1.517925781776149,-1.2156783749994278,-0.6758378717323383,-0.3928237613659808,0.656735302500323,0.20109823783254188,-0.608863675174182,-0.15023368456268862,0.3160728706197694,0.11357680240768704,-0.39159429775425364,-0.0829500581300818,0.8127171370456107,0.36191282491341503,0.04723977204474723,0.40332276912031545,0.5769526054843782,1.3103159021075323,-2.3722233155078087,-1.7665204379982111,-0.8017348745609448,-0.617348294170618,-2.51873267413791,-1.9686754026165778,-1.5099229984303542,-0.9268445830566342,1.0140894186571037,-0.2701531470239673,-6.591128138217611,-2.7438239340654715,-1.5317094098031554,-1.0063303934996564,0.7280145501750411,0.17703013064124065,-2.5304575624120753,-1.7320327588585978,1.9017302725562557,2.685877311930323,0.4969418561378847,-0.4471947734277066,-1.2566078874606728,-0.2671064743074271,10.276186065232677,-1.1989205761113784,8.06404309774935,6.981776181227812,-2.3290430551945183,-1.6671766879731325,-1.211521290646343,-1.1163420128752188,1.596835183147514,-0.6373182082686824,7.0330060417915945,6.893643436978023,-1.6826116986694142,-1.753892997975724,1.4793633829040138,1.657013815445697,-0.06170992630769562,0.3953122954813287,1.0422796546236917,-0.11100339257050164,-2.9884107103291666,-1.5134699550500068,-2.732140781031674,-1.3374072658569247,-3.2455353536296383,-2.108294506467898,-2.284041066593298,-1.0358062497503904,-2.3300549131194215,-0.8717137958944788,-0.5525507254957014,5.1307648501385525,-1.9432817299873504,-0.8225725711976855,-1.821667170443693,-0.687954838396164,-4.241105448794426,-1.5699454368534287,-2.2773731008472327,-1.0459597202760174,-1.8493040342756422,-1.1466838984509227,-0.813570782998058,-1.2899976043446564,1.5284758159972076,1.540026862007638,-0.9662508464094028,-0.4252182528844291,-0.9945567270259021,-0.7248269624095093,-0.6238118260938169,-0.36766238509596255,1.0064268093006394,1.3878668367627822,-0.6519487989303706,-0.339526041607163,-1.6680422030397262,-1.1596613593586902,-1.7725227428699568,-1.72483370376464,-1.498281877807328,-0.7852571493139949,-1.587765805798973,-1.511305363859261,-2.0301660376936854,-0.8984274312371352,-0.7565174504703569,-0.2765487812478751,-0.9440276768831879,-0.6526996537856711,-0.9621112530132202,-0.5611588664821661,-0.7928981838874708,-0.3620519385799112,0.15514854406264333,-0.7113270760297855,-0.7978600843432289,-0.17937087639039323,-0.35808806429956636,1.0584847730695277,-1.1467648988558128,-0.2899664926097427,-0.41589010297640433,0.1718482388628756,-2.618009178616345,-0.9816647291873851,-0.5504524490533116,-0.227339794286792,-2.4403362162379336,-2.323440389420137,-1.3749372246219935,-0.24563586883726501,-1.4579963745649622,-1.264801495510098,-0.2276918026154329,-0.8288793503668324,-3.353278920545159,-2.0794102503511835,-0.8953347760667664,-0.33069512843336024,0.4363069252881605,2.2289541805757165,-1.6055514221170988,-1.384901077755723,5.38087664511181,-3.096473512654926,4.313491013490715,5.667424951065294,-1.925358782296404,-2.211867522418438,-1.7469771454289944,-0.7411960380165438,0.1903458455022285,-1.1024062250935163,-2.234495071442538,-1.414817657618033,6.662245500300732,6.265076426346426,-0.6557945216707266,-0.30084492644739885,-1.2108426567336799,-0.2281896933912183,-1.5436246641944058,-1.0204166471676748,1.3133494255699307,0.6926622379646314,-1.4173680083219398,-0.7084450012343705,-2.1039117814758335,-1.0573751745057023,-2.646374610437803,-1.7432431293769999,-2.6773867573127434,-1.8804522866409494,-0.3975481254361322,5.8989968066943375,-1.4005584195741423,-0.7801562702017035,-2.351525145713232,-1.4996319166554755,-4.457442160741403,-2.9982210734171324,-2.4488747051840605,-1.3957242907928387,-0.4892875793002694,-0.1870851879620488,-0.2550038571971955,-1.1890420504134798,0.8867638550895619,1.6688257211232465,-2.5355028194764677,-1.8493424224032164,-2.7100058886973932,-2.0778049575884707,-0.9457247726567828,-0.8584539793575432,0.48796936410917746,1.26086432292628,-0.782908433049163,-0.3299562185100197,-1.8772787255081858,-1.1975476634711322,-2.0680224305137798,-1.701638722231298,-2.4307479864821966,-1.600035972653626,-2.3984592749308074,-1.3564700317706624,-2.1350207491607844,-2.168978207149718,-1.5039611156952197,-1.207501270859809,-1.5203570944213325,-1.0474565193973038,-1.5082339566424454,-1.302137326559224,-1.7538325976380131,-1.1804541113306082,-0.563125078832788,-1.0970375250748123,-1.2867443207565192,0.8512707096321401,-0.8979753922245387,-0.6385325074680772,-1.5290308411961293,-0.5230569439022603,-1.1879682751918048,-1.5012358261451104,-2.2012656025109245,-1.533508079583895,-1.2146146408911764,-0.5683597465520881,-1.6506021804842514,-1.8398180879425774,-0.9784073467151716,0.2161307807856106,-1.5384577593912951,-1.0111283329029233,-0.11191767643139242,0.2290578502852364,-1.7278681293297335,-2.106221309573622,-0.769688008903417,-0.21405071575897625,-0.24745823306138576,1.1399259076856583,-0.44252683750469807,-0.8636010728826731,3.2190952350205113,-5.8131179414788345,5.573678331994524,4.1385490202598545,-0.22384366534760902,0.18760706982308695,-1.3560337190394895,-0.7218999139405671,-1.7412311855921518,-0.9556622709527574,0.5772885071062595,1.4962549907811957,3.1185847986479787,2.290226772317649,0.5012529910720824,0.8915595055038243,-1.2248264112927425,-0.6158521958765507,-0.08579024566622051,0.18728639761301424,-0.6874463510404052,-1.0105143125472342,-2.065711301791251,-1.1498260966601448,-2.8000064681548307,-1.4103331882753627,-2.1518621808844887,-1.9660336194836299,-1.4802780605863552,-0.7241297448589845,0.27417634487953,6.04893947754554,-0.5099671757298682,-0.1789542650946259,-1.9566475470759461,-0.6193716920125774,-2.8573760491431015,-3.4140415512078537,-0.6032532578076975,-0.8677228480777532,-1.4603928935482557,-0.5992795361188432,-2.573992017066796,-1.2822810531283824,0.9272931315661168,1.5170209724891073,-1.752026238877077,-1.3002918593700117,-1.717399177271725,-1.2790467744214664,-1.3484115924876001,-1.1514694603821651,-0.24243515039758876,1.0375216222769608,-0.692930911335552,-0.36826482746330785,-1.962112507295542,-1.5090559790304399,-2.0535951325724757,-1.6035389006666176,-1.9889950544447716,-2.0297913971391033,-2.2982654693715716,-1.6308838268476296,-3.1619790720199914,-2.788791063468841,-2.4353090457591544,-1.768745345147049,-1.706139275894439,-1.5581383911761115,-2.1350784599022976,-1.4772309860870598,-1.4991782136234533,-1.0554357836848056,-0.7963399550314337,-0.8850062858236373,-1.6171442157613627,-0.8442391612096325,-1.4065677690459202,-0.4471753008946971,-2.9137791204701693,-2.226043813286043,-1.182056070602955,1.2954355844265792,-2.1841279437792394,-0.7943617054263692,-2.16323275687155,-1.2209035053550747,-1.4297998944982466,-1.0338306670626425,-2.3711662782658527,-1.1101155926007404,-1.519807147255887,-0.7824930443678959,-0.2766664339302065,-0.09175343004776129,-2.1396269153188463,-1.82210137297739,-1.1613369346442168,-0.2721095223262111,0.8229129779654673,2.4219549795967916,-1.3908176927729465,-1.1303354508844439,2.3502525239750334,-6.483973858820149,3.432700787700494,2.1176581360817353,-0.0029422266492879104,0.29104718783753797,-1.5883027815823914,-1.1094225415825756,-1.6445776787854631,-1.3384239310844575,-0.3618062021679245,-1.0203810478219457,4.779019581142427,4.763031483177534,-1.7082446082004141,-0.33784531801047907,-1.2032377076989422,0.1111860214142506,-0.9890109984990514,0.11791090702063767,-0.7352972971185721,-0.37305942795444674,-1.4481168875820536,-0.8857320494482694,-2.3131290190919187,-1.8057305202790164,-1.355374834333527,-0.5620870510911996,-1.2172977215457723,-0.5022742313255552,-0.05051780585432401,5.957132743944194,-0.2301297625028726,-0.07794079463111594,-1.1958587942821817,-0.47528275465273845,-2.8683758544402966,-2.2006992246820962,-0.05462318166370492,-0.9700538425971699,-1.4538772282358297,-0.8311041759737599,-0.23820884026895692,-0.9279374531303347,0.7827099507669647,1.7309767503144773,-2.0725035450594693,-1.2566921910972113,-1.736979876614307,-1.095845768190103,-1.784938167647448,-0.8869033502391931,-0.12714275357934307,-0.13172276863586072,-1.8469534880735194,-1.897831930514445,-1.9240339214543227,-1.4980741162072286,-2.457237158268315,-1.8471646520385712,-2.6105943614166414,-1.9609954860126488,-2.723376661186867,-1.6488718400615492,-2.261885318944958,-2.3110509193639075,-1.9810008045390632,-1.3085075813939764,-2.221381637652653,-1.506171229568883,-2.087932464959737,-1.5151732843562224,-1.3988175614264795,-1.160168640590944,-2.0106815780528233,-1.2710766876485653,-0.4454886084989186,-1.8631202810916987,-0.8601450350780436,1.9947839714174171,-1.665627555240684,-1.0043738681291756,-2.448239396841712,-1.0429610997753067,-2.174403718554449,-0.9145639500338923,-1.9988759549853654,-1.3334796735751797,-1.3115651784602393,-0.09491386228420204,-1.6677325011969653,-1.3154632215247613,-0.18253096969548957,1.1199634122931388,-3.4002251037951643,-1.9445808210611277,-0.6656906015488298,-0.41331427990482583,-0.14652972069354675,0.2996924380853968,1.028153886660571,2.4753447331271534,0.0639781903030015,0.22829402274773894,-1.003989101431276,-10.981750985006487,-0.0927269938048735,-0.22697104381054245,-0.07721046205740031,0.8463132982677808,2.3922162128433957,2.8819574896283076,0.9342636653604556,1.3840839047417661,-0.8984766257121772,-0.48528763215472315,6.9674868834910955,6.654919291083699,-1.1555847993669524,-1.5345863805313398,0.7331501977607459,1.0651501004216681,-0.26835127351669685,0.26940913130421124,0.17587613627660442,-0.5088627471773642,-5.069849643069147,-2.5265623593874804,-1.1371571199802077,-0.8682448102070031,-3.4529806356738386,-1.7055370869564415,-0.7637111970647036,-0.16891639693445698,0.8037707505866685,7.366924765262887,-2.514794229183749,-0.7780882936362299,-1.3304668142923157,-0.413741554406319,-1.1452737093902303,-0.02940443382871193,-0.529399483858566,1.2528293928442296,-0.8728467288310021,-0.41402997592481294,1.1580411119324927,-0.618771459530255,1.3694750456951843,2.2264253959053213,-1.3540708247556907,-0.6988039345507993,-1.827369152739154,-0.8412183223058608,-1.4489219940712967,-0.589723870407017,-0.027856013985413174,0.2298611707093105,0.37565173319248907,0.22671797119759016,-1.5433847302334385,-0.9785828152394674,-2.2317234350748576,-1.2837009771359358,-2.3632563069895918,-1.7084763497792637,-2.2208179435380297,-1.3213517974708653,-2.2753260865090383,-2.0099602158751253,-2.3876906588012905,-1.539976437881602,-0.5119751732381541,-0.5658429685310937,-1.8359122329237798,-1.184243411037288,-1.8142565730339677,-1.119087427988417,-2.111644313381259,-0.816067649274685,-1.3546227126845003,-2.235897968367826,-1.2312532211646037,-0.4550604536359213,-0.6990472416644465,0.021813159059359127,-1.1330816586799637,1.3288567670056395,-2.4125974582532654,-1.8259139349774087,-1.6693770900705824,-0.6422912931209913,-1.8103156087384769,-0.42958243875289315,-2.9267595559269513,-2.009349824953055,-1.034880489808264,0.39957530610581404,-1.2040616188141753,-0.6683711887173073,-0.9620880664403341,-0.8342489257131378,-1.5798595534605366,-1.5399563175005888,0.37247628040971614,0.6923622187848291,-1.1931361755225858,0.9932157750037275,-2.5119284892950384,-1.1817639411120753,-0.14042253091323187,-9.254843769215354,-1.677782897443679,-0.5604582152552552,4.511351550139115,3.0059740660827945,-2.0933164863165596,0.9643882905621207,-1.2162318379212282,0.30123274069635453,5.754904121068865,5.8245305068101265,-1.5086674016855812,-0.958961534972953,-1.37902756793843,-0.48558132660670034,-0.3133972730677899,0.0777595340834446,-1.0828962950716132,-1.1160920867074222,-2.4139179027529347,-1.2626795274310294,-1.230255355751404,-0.25302989044140245,-2.861155407787067,-1.3186773784503154,-1.3309699109784765,-0.30717733991770296,-1.5861692955486677,-0.3249438095638207,-0.41355860903810027,6.163551555428653,-1.6497753274746239,0.10855464826159439,-2.2460746272396865,-1.0135649124255564,-2.2394283911676722,0.31908157261687153,-2.0422024441065845,-1.0058696014096444,-1.984170434535062,-0.6393884406146322,-0.70375103952949,-0.8200969846992082,1.5190897405706887,2.0369213757055147,-1.4302118652558575,-0.8942225150200183,-2.63701786115688,-1.0885641407192952,-0.6298764357899116,-0.33704847103192626,1.0148973693567522,0.7190441902884894,-1.4674867533149436,-1.0640180154486154,-2.431178227435306,-1.7678332321264738,-2.0645620990770217,-1.8653172125291064,-2.497991221765616,-1.5996784423659902,-2.7296702713792675,-2.035110840819225,-2.3000430194311785,-1.4186780128651355,-1.391753707466325,-1.195920958369978,-2.181653415155563,-1.3199890309123832,-1.3143842823033445,-0.8759109083981883,-1.9920205058974974,-1.1089231456293585,-0.4602547013695295,-1.6008478310998213,-1.8122574018382156,-0.7353449913875039,-2.0510990204057813,1.554087849657103,-3.684246513512588,-2.588499040049715,-2.5451446530788067,-1.601802409654036,-2.6466722118268167,-0.7235264819619224,-2.379272279776152,-1.2185874405205357,-2.208999926610493,-0.8787999150763062,-1.062006015044633,-0.141043979194658,-1.6014218021318152,-0.7062558476848955,-0.03088746738808825,-0.2650979485560425,-1.6707192474276968,-0.9335867687931634,-2.5093680953255877,-1.3716843994884886,2.2451412862296887,2.1152708904189943,-1.2896133957770661,0.10238730440976784,-2.7230540595510897,-7.5632858328830626,0.8260265461131336,1.6031021160139909,-0.6701149117188879,3.067707512584161,-1.521888002863217,1.1262954101310152,-1.6122942755616656,-0.35802659607322723,4.943807928347266,6.051459137013487,-3.837120926925573,-2.4159519721091804,0.009148035219257259,0.9768935000916843,-1.5875739476186626,-0.5313592654484934,0.7314370215899828,0.9546853375402679,-1.956800332110929,-0.8967152020153228,-1.2493396501214136,-0.5814386124865544,-1.9970876216690092,-1.0284074814716464,-0.8184013343952385,-0.2992527048838109,-1.7653184204874246,-0.4227433584190838,-0.010078956419402624,6.618611168953895,-0.6714936560315479,0.49827816874503617,-1.1141533042902445,0.12640448452471376,-1.999570896038189,-1.0264220388422494,-1.6495705524111455,0.967883355702972,-1.4460771955753449,-0.42480957319855833,-0.3284217680949109,-0.6386690477180754,1.8635857156865163,2.1303579782496844,-1.2676876844155263,-0.46868328265721515,-1.7411084812424131,-0.853985486802713,-0.8451688071368161,-0.22134881174282137,1.2457575978715942,1.8527331116192463,-0.7602001302788262,-0.48969501579731894,-1.674803949296635,-1.4855008495629376,-2.506053323739313,-2.0315591671688713,-2.2579387184331496,-0.9258279231102767,-2.5241350410408585,-2.307657446605551,-2.027982248448408,-1.3960428436548245,-0.5380048191756246,-0.8219780567587932,-1.0989869255181024,-0.9338358306735658,-1.559704047781845,-0.8410897723383776,-0.8846820663079198,-0.3389067917554318,-1.5945582457280294,-1.1604542895973744,0.12048416584378659,0.5888498434723747,-0.14366389604378182,2.44066317395642,-0.12174439613100528,-0.7153015544880497,-0.250715642949325,0.3824139641068352,-1.6889554566770755,-0.05286849445768033,-0.3546263167637944,0.9929706845536921,2.251808149026861,-0.045419298193482,0.5579686177096509,1.0174772987276126,-0.8528632280867932,-0.060983880373360264,2.3856512819588493,1.1796236198131729,-0.6185382124308932,-0.6502841710207189,0.253614451442938,0.9069638782826905,2.8362865365663055,2.1464958337138516,0.5858527619138671,1.4216165697637195,0.8764766909906322,-10.470691730911033,4.607711767212803,2.576538157886241,5.052896636801923,6.859877329209584,0.45085585903604425,2.0292929125030468,-0.2666135936040686,0.40939171964945364,7.398095852240519,7.9918115459596475,-1.7132521881268872,-0.5447146268252994,1.5594482979809396,2.2851480633817043,0.5185960544485153,0.6317426062607462,-0.7892655887341231,1.026306029891684,0.6300489447538534,0.2352539047335652,-1.0350435033045,-0.20429193207392715,-0.6869497098332851,-0.09254408348078542,-0.6037722819545475,0.14993404910889815,0.48773456998993875,1.2211421489371836,1.6121477270869817,7.435217859173063,0.8328083015706041,1.4460875133869844,0.905642146659148,1.1010219496653573,-0.9150867346982097,0.5239788052906217,0.5956291003835048,2.8218488710311576,0.25011894541018304,1.1444439087370606,0.6082384545386841,0.43976255912524614,2.2348065938342696,2.731459810755368,0.12701200675634908,0.14740493327627444,0.10839855730010574,0.6375152704098717,0.5035851673030385,1.1112568952426374,2.3225076354786545,2.5437237203817493,0.38383669715957336,0.3669230148707525,-0.6174849106749174,-0.6077105466455399,-1.0061912652716003,-0.21229600487597683,-1.1629075713671289,-0.708472362278726,-1.1124048771754285,-0.6748490402218932,-0.7540819014749934,-0.8747464626512448,-0.17586113257224284,0.23274330005224936,-0.2171089933497955,-0.8245707189090746,-0.16037345156512214,0.021453471121201897,-0.39806742784475296,-0.050185437183978505,0.9037271505571928,0.0004813492821303385,0.7810536492202674,0.730975904250943,0.6805881177133563,1.261460820814136,-0.22455263454465496,1.7985700354402192,0.129426962793938,0.23873862215581976,-1.0650767272243793,-0.48052656130672394,0.06688513073272412,1.1896659035567028,1.2364728575540949,-0.35827562926082157,-0.09512959337043973,0.3569239278847324,-0.6613235162775493,-0.6541078635490627,0.7522671896145138,1.283323221394929,0.9489637783842572,-0.49593206355300057,-0.928541809978034,-0.360004078945656,3.7102702220849504,3.8178418803073946,-3.3355252471288117,-2.2924038947719176,-2.389795114764622,-8.077404187300296,2.210422999072013,1.647995101417638,5.919786745767794,6.28067783284179,0.21231993802250432,1.690649847716737,0.905939510043258,1.4257703609843089,5.288236757989526,6.998133524913955,-1.4456442975256463,-0.4509951081027858,-1.528284278640784,-0.6842150297363006],\"xaxis\":\"x5\",\"y\":[2.425,1.467,2.477,1.556,2.432,1.787,2.445,1.595,2.346,1.771,2.763,1.716,3.0,1.926,4.564,2.351,2.695,1.712,2.812,1.849,3.189,2.008,2.51,1.456,2.995,1.977,2.973,2.273,2.968,1.997,2.889,1.991,3.364,2.334,2.492,1.896,2.869,2.104,3.539,2.498,3.292,2.436,3.273,2.725,3.378,2.313,3.042,2.511,3.5,2.784,3.079,2.259,3.305,2.423,3.124,2.334,2.91,2.528,2.97,2.666,2.629,2.517,3.03,2.227,3.076,2.137,2.598,1.554,2.611,1.637,2.824,2.022,3.366,2.871,2.895,2.369,3.583,2.574,2.682,1.992,2.874,2.173,3.057,2.067,4.465,1.968,2.46,1.771,3.09,2.279,3.067,2.025,3.023,1.848,2.503,1.512,1.934,1.245,2.293,1.403,2.523,1.453,2.25,1.453,2.753,1.716,2.469,1.452,2.764,1.588,2.565,1.738,2.639,1.92,2.417,1.569,2.357,1.601,3.901,2.031,2.829,1.83,2.324,1.259,2.931,1.697,2.915,1.893,2.583,1.83,2.515,1.851,2.821,1.936,2.129,1.716,3.354,2.35,2.495,1.773,2.996,1.932,2.844,2.241,2.837,2.106,3.022,2.552,3.127,2.486,2.778,2.228,3.06,2.41,3.167,2.379,3.05,2.56,2.958,2.328,3.108,2.9,3.264,3.468,3.15,2.654,2.978,2.568,2.917,2.194,3.092,2.138,3.015,2.408,3.043,2.242,3.107,2.531,3.241,3.322,3.329,2.456,3.185,2.603,3.085,2.274,3.23,2.366,3.168,2.018,3.949,1.991,2.462,1.735,3.271,2.265,3.327,2.412,2.977,1.896,2.352,1.791,2.183,1.516,2.267,1.531,2.333,1.678,2.28,1.545,2.411,1.738,2.397,1.595,2.473,1.703,2.517,1.679,2.764,1.986,2.642,1.801,4.34,2.994,2.789,2.129,2.649,1.818,2.72,1.893,2.964,2.171,2.23,1.607,2.829,2.353,2.845,2.095,2.636,2.028,3.321,2.422,2.871,2.13,2.962,2.2,3.103,2.389,3.303,2.597,3.376,2.675,3.556,2.972,2.912,2.721,3.385,2.842,3.23,2.634,3.38,2.609,4.635,3.145,3.532,2.78,3.618,3.316,3.305,2.54,3.138,2.104,3.347,2.496,3.379,2.427,3.376,2.633,3.053,2.481,3.125,2.374,4.22,3.592,3.953,3.043,3.555,2.768,2.917,2.309,3.11,2.493,3.216,2.488,4.166,1.946,2.838,2.318,3.525,2.394,3.086,2.127,2.889,2.212,2.328,1.566,2.114,1.523,2.347,1.651,2.596,1.715,2.433,1.652,2.182,1.537,2.497,1.718,2.534,1.825,2.925,2.394,3.084,2.208,2.748,1.592,3.847,2.114,3.07,2.087,3.109,2.201,3.236,2.204,2.35,1.611,3.057,2.464,2.804,2.295,2.708,2.154,3.0,2.206,3.059,2.443,3.087,2.4,3.05,2.061,3.128,2.464,3.72,2.834,3.287,2.513,3.297,2.669,3.739,2.648,3.064,2.448,3.706,3.303,3.257,2.893,3.639,3.101,3.339,2.821,3.183,2.846,3.643,3.421,2.918,3.0,3.264,2.542,3.48,2.922,3.426,2.702,3.129,2.818,3.444,2.754,3.929,4.023,3.367,2.862,3.357,2.958,3.256,2.433,3.401,2.617,3.329,2.826,4.419,2.501,2.482,2.251,3.475,2.783,3.321,2.425,3.131,1.876,0.619,1.272,1.892,1.724,2.456,1.7,2.283,1.609,2.786,1.999,2.627,1.792,3.177,1.948,3.165,2.163,3.086,2.017,3.051,2.371,3.069,2.447,3.49,2.49,3.197,2.429,2.719,1.939,3.32,2.578,3.51,2.834,3.553,2.753,2.822,2.468,3.429,2.555,3.097,2.831,3.43,2.432,3.816,2.82,3.819,3.027,3.292,2.886,4.227,3.408,3.886,3.04,4.071,3.661,4.044,5.39,3.519,2.969,4.229,3.469,3.86,3.181,4.021,3.311,4.014,3.332,3.639,3.103,4.14,3.885,4.003,3.287,3.785,3.368,3.697,2.955,4.04,3.287,4.009,3.266,3.969,3.095,3.954,4.625,4.458,3.545,4.338,3.159,3.986,3.207,3.588,3.04,3.806,3.246,5.13,2.803,3.635,2.672,4.112,2.803,3.851,2.809,3.645,2.504,1.919,0.941,2.726,2.26,2.981,2.316,3.291,2.263,3.164,2.213,3.359,2.481,3.142,2.296,3.488,2.699,2.779,2.215,3.219,2.511,3.517,2.667,5.007,2.873,4.424,2.952,3.849,3.102,4.162,2.973,3.738,3.026,3.554,2.175,4.148,3.088,3.775,2.755,4.299,3.451,3.729,3.124,4.275,3.194,4.389,3.231,4.187,3.302,3.709,3.37,4.176,3.238,3.999,3.395,4.331,3.551,4.105,3.379,4.556,3.676,4.842,3.812,4.829,3.848,5.447,4.341,4.246,3.512,4.447,4.318,3.933,3.346,4.256,3.498,4.245,2.991,4.798,3.495,3.612,3.166,4.669,3.719,4.541,3.687,5.11,3.382,5.335,5.215,4.1,3.396,4.127,3.495,4.265,3.124,6.146,3.511,4.566,3.239,4.367,2.813,4.563,3.268,4.955,3.375,3.395,1.957,3.68,2.566,3.576,2.611,3.541,2.262,3.564,2.613,3.505,2.219,2.711,1.722,3.155,2.368,3.428,2.341,3.423,2.407,3.589,2.6,4.118,2.796,6.269,3.229,3.919,3.266,3.752,3.026,3.171,2.339,4.427,3.224,5.186,4.02,6.2,4.968,4.707,3.542,6.67,4.751,8.161,4.777,4.579,3.765,4.854,3.474,5.086,4.157,5.829,4.82,4.507,3.764,5.356,4.429,4.749,3.575,4.278,2.761,3.408,2.381,5.033,3.822,5.119,3.904,3.279,2.356,4.518,3.426,3.259,2.59,5.29,4.252,3.326,2.946,4.41,3.535,6.387,5.234,6.603,5.031,5.751,5.764,6.643,4.883,7.763,5.771,6.771,5.118,6.479,5.023,7.426,5.067,6.14,3.254,4.405,2.931,4.371,3.01,4.838,3.226,4.638,3.016,4.395,2.331,3.784,3.315,3.381,2.688,3.762,2.501,2.721,1.971,3.517,2.802,4.592,2.59,4.027,2.163,4.828,3.377,5.076,3.637,4.544,3.494,4.415,3.508,6.121,3.84,3.643,2.547,4.811,2.99,7.109,5.034,6.048,4.518,5.798,4.573,7.139,5.347,6.14,4.952,4.681,2.82,7.805,5.36,5.907,4.535,8.127,5.84,7.713,5.526,7.483,5.349,6.061,5.346,6.288,4.901,5.184,4.527,7.504,6.543,7.574,6.522,6.502,6.603,7.375,5.627,9.022,6.868,6.716,5.579,8.577,6.565,8.218,6.787,4.343,3.148,3.348,2.453,4.059,3.138,3.844,2.836,4.475,2.932,5.958,6.358,4.364,3.236,3.964,2.843,3.373,2.803,3.754,2.799,2.705,1.545,3.3,1.545,4.652,2.92,5.096,3.349,4.989,3.718,4.717,2.277,3.089,2.709,3.606,2.559,3.682,2.48,3.393,2.411,3.587,2.672,3.749,2.526,4.755,2.957,4.651,3.344,4.144,3.138,4.296,2.974,4.111,2.818,6.917,4.007,5.131,3.572,4.129,3.371,5.188,3.104,4.461,3.174,5.179,3.491,4.504,3.419,3.571,2.351,2.381,1.739,3.171,1.951,2.596,1.85,3.002,2.229,2.548,1.849,5.745,5.584,2.901,2.038,5.997,5.352,5.198,5.1,3.244,2.601,3.88,2.566,5.942,5.155,2.644,1.787,6.49,5.155,6.688,5.479,2.952,1.857,2.273,1.772,5.532,4.529,7.805,6.524,6.52,5.187,7.764,5.116,6.858,5.338,6.219,6.289,8.366,6.094,7.161,5.289,6.081,4.934,8.261,5.48,6.074,4.344,7.991,4.481,5.353,3.496,9.268,6.212,8.729,5.535,5.422,4.195,2.871,2.664,3.375,2.547,3.831,2.57,4.152,2.967,4.407,3.0,4.545,3.108,4.247,2.943,4.905,3.93,4.746,3.153,4.773,3.486,5.15,3.521,6.208,3.814,4.291,3.59,5.077,3.578,4.549,3.543,6.015,3.926,5.706,4.52,5.092,3.696,8.372,4.862,4.87,4.135,5.615,4.673,5.681,4.704,6.241,5.064,5.131,4.386,5.621,4.909,7.194,5.122,6.183,5.27,5.865,5.722,6.12,5.155,8.26,6.602,6.007,5.577,6.701,5.427,7.528,5.862,6.174,5.675,6.487,5.334,6.194,5.051,6.179,5.344,5.433,4.994,5.534,5.073,5.965,4.955,5.398,4.753,7.334,7.844,6.946,5.395,5.898,5.06,6.187,4.335,5.907,4.605,5.912,4.432,7.738,4.122,4.96,3.552,6.106,4.318,5.393,3.446,4.997,3.63,1.303,2.218,3.339,2.637,3.962,2.758,4.255,3.174,4.023,3.02,4.703,3.14,4.569,3.033,5.18,3.883,5.203,3.408,5.646,3.644,4.521,3.517,7.69,4.182,5.696,3.629,4.652,3.763,5.486,4.042,6.575,4.56,4.905,4.231,5.031,3.735,6.299,4.83,5.483,4.514,4.994,4.034,5.684,4.994,5.264,4.116,6.372,4.93,6.04,5.544,6.662,5.674,6.909,6.409,6.404,5.5735,6.626,5.168,7.252,6.174,6.957,5.913,7.049,5.549,7.567,5.962,6.258,5.414,6.378,6.8,6.94,5.371,6.109,6.033,6.557,5.122,6.546,4.768,5.976,4.657,6.276,4.957,7.382,8.078,6.999,5.331,6.887,5.457,6.364,4.638,6.896,4.978,6.238,4.994,8.564,4.614,4.83,3.507,7.243,5.215,6.189,5.199,6.063,4.828,3.22,1.474,4.73,3.876,5.112,4.238,4.4,3.283,4.791,3.647,5.14,3.44,4.773,3.341,4.555,3.735,5.625,4.298,5.31,4.002,5.183,4.117,5.995,4.49,14.184,6.02,5.748,4.644,5.772,4.28,5.101,4.071,6.376,4.778,6.703,5.058,5.503,4.8,6.614,5.016,6.569,5.325,6.234,5.337,6.686,5.564,7.493,5.749,7.384,6.301,7.978,6.421,7.079,6.026,7.363,5.928,6.079,5.443,7.457,6.443,8.103,6.102,7.746,6.303,7.267,6.379,7.803,6.603,7.592,6.551,8.218,5.822,6.774,6.101,5.93,4.567,7.287,5.646,5.575,4.864,6.449,5.304,7.005,7.753,5.114,4.413,7.174,5.731,7.469,5.814,7.39,5.86,6.687,5.168,10.384,5.215,5.519,4.399,7.944,6.214,7.595,4.968,6.14,5.194,5.557,4.16,4.625,3.962,4.478,3.512,4.856,3.343,5.415,3.43,4.925,3.326,4.405,3.117,5.465,3.742,5.732,4.563,5.934,4.661,5.312,4.044,5.484,3.968,10.652,5.404,5.506,4.241,5.485,3.973,6.137,4.946,6.249,5.359,6.013,4.98,6.661,4.96,5.328,4.756,5.69,4.662,6.643,6.074,5.75,5.293,6.232,4.726,6.951,6.007,6.561,5.982,6.733,5.828,7.508,7.238,6.582,5.962,8.131,6.36,8.133,7.258,7.41,6.048,7.939,6.569,7.631,6.319,7.66,6.722,7.026,6.003,6.695,6.373,6.887,5.67,6.809,5.431,7.197,5.716,7.351,6.179,6.236,5.678,7.954,8.823,7.366,5.951,6.551,5.85,6.105,5.403,6.492,5.181,6.117,4.653,6.138,3.947,6.098,4.22,6.129,4.797,6.784,4.773,6.063,4.996,5.386,3.783,5.186,3.428,6.469,5.186,6.555,5.172,5.537,3.762,4.871,3.637,5.205,3.767,5.665,4.266,5.446,4.24,5.142,3.942,5.842,4.342,12.487,4.798,5.404,3.976,5.621,4.794,5.917,4.525,6.023,3.954,5.531,4.374,5.713,4.429,6.346,4.872,5.828,4.551,6.401,5.634,6.728,5.869,6.484,4.561,6.463,5.211,7.519,6.118,6.739,6.176,6.773,6.246,6.084,5.548,6.43,5.881,7.708,6.675,7.518,5.829,7.621,5.933,6.363,5.525,7.479,6.051,5.746,5.205,6.949,6.387,6.98,5.734,6.775,5.744,6.625,5.659,6.888,5.701,8.405,5.446,7.316,8.458,7.424,6.109,6.726,5.689,6.128,8.697,6.736,5.852,5.902,4.77,8.592,4.861,6.986,4.801,7.803,5.62,7.515,5.951,6.392,5.009,4.491,3.951,4.309,3.34,4.148,3.468,6.633,5.15,6.4,3.919,5.916,3.474,6.675,4.468,5.414,4.056,5.914,4.212,5.304,4.26,5.983,4.737,13.453,6.174,6.221,4.545,5.865,4.69,5.811,4.568,7.369,5.316,7.756,5.959,7.135,6.097,8.287,6.238,6.833,4.937,7.719,6.021,7.997,5.853,6.369,5.269,8.023,5.842,7.652,6.655,7.297,6.36,8.359,7.118,7.834,6.633,8.131,7.116,8.334,7.526,8.912,7.228,8.639,7.323,8.657,6.559,7.762,7.11,8.601,6.668,7.679,6.721,7.289,6.938,7.77,6.517,8.511,7.254,8.384,7.018,6.94,5.817,8.084,9.531,8.554,7.015,8.246,6.157,5.506,6.039,7.394,6.283,7.001,6.047,6.798,4.894,5.911,4.562,8.321,6.562,7.832,5.299,6.374,5.308,3.598,3.666,4.749,3.599,4.775,3.265,5.08,2.981,5.386,3.745,5.498,4.058,5.209,3.791,4.681,3.973,6.987,4.518,6.028,4.643,5.312,4.656,12.399,4.727,6.273,4.868,6.041,4.694,5.711,4.76,6.101,4.75,6.829,5.568,6.108,5.481,5.417,4.937,6.495,5.418,6.26,5.681,6.971,5.823,7.587,6.651,6.215,5.589,8.046,7.003,6.92,5.482,6.173,5.065,6.617,5.741,7.641,6.144,7.903,6.398,7.22,5.67,8.074,7.037,6.155,5.287,6.763,6.383,6.225,6.619,6.269,5.627],\"yaxis\":\"y5\",\"type\":\"scattergl\"},{\"hovertemplate\":\"<b>OLS trendline</b><br>y = -0.0770552 * Component5 + 4.40213<br>R<sup>2</sup>=0.007297<br><br>Component5=%{x}<br>y=%{y} <b>(trend)</b><extra></extra>\",\"legendgroup\":\"\",\"marker\":{\"color\":\"black\",\"symbol\":\"circle\"},\"mode\":\"lines\",\"name\":\"\",\"showlegend\":false,\"x\":[-10.981750985006487,-10.470691730911033,-9.254843769215354,-8.077404187300296,-7.5632858328830626,-6.591128138217611,-6.483973858820149,-5.8131179414788345,-5.069849643069147,-4.457442160741403,-4.393490405844217,-4.241105448794426,-3.8617911212778955,-3.8403903785203926,-3.837120926925573,-3.684246513512588,-3.4529806356738386,-3.4140415512078537,-3.4002251037951643,-3.353278920545159,-3.3355252471288117,-3.2455353536296383,-3.1619790720199914,-3.096473512654926,-2.9982210734171324,-2.9884107103291666,-2.9267595559269513,-2.9137791204701693,-2.8683758544402966,-2.861155407787067,-2.8573760491431015,-2.8000064681548307,-2.788791063468841,-2.7643147090105336,-2.7438239340654715,-2.732140781031674,-2.7296702713792675,-2.723376661186867,-2.7230540595510897,-2.7100058886973932,-2.6797577970232123,-2.6773867573127434,-2.6466722118268167,-2.646374610437803,-2.63701786115688,-2.618009178616345,-2.6105943614166414,-2.588499040049715,-2.573992017066796,-2.5451446530788067,-2.5355028194764677,-2.5304575624120753,-2.5265623593874804,-2.5241350410408585,-2.51873267413791,-2.514794229183749,-2.5119284892950384,-2.5093680953255877,-2.506053323739313,-2.497991221765616,-2.457237158268315,-2.4488747051840605,-2.448239396841712,-2.4403362162379336,-2.4353090457591544,-2.431178227435306,-2.4307479864821966,-2.4159519721091804,-2.4139179027529347,-2.4125974582532654,-2.3984592749308074,-2.389795114764622,-2.3876906588012905,-2.379272279776152,-2.3722233155078087,-2.3711662782658527,-2.3632563069895918,-2.351525145713232,-2.3300549131194215,-2.3290430551945183,-2.323440389420137,-2.3131290190919187,-2.3110509193639075,-2.307657446605551,-2.3000430194311785,-2.2982654693715716,-2.2924038947719176,-2.284041066593298,-2.2773731008472327,-2.2753260865090383,-2.261885318944958,-2.2579387184331496,-2.2565789614515586,-2.2460746272396865,-2.2394283911676722,-2.235897968367826,-2.234495071442538,-2.2317234350748576,-2.226043813286043,-2.221381637652653,-2.2208179435380297,-2.211867522418438,-2.208999926610493,-2.2012656025109245,-2.2006992246820962,-2.1841279437792394,-2.181653415155563,-2.174403718554449,-2.168978207149718,-2.1687030233712674,-2.16323275687155,-2.1518621808844887,-2.1396269153188463,-2.1350784599022976,-2.1350207491607844,-2.111644313381259,-2.108294506467898,-2.106221309573622,-2.1039117814758335,-2.0933164863165596,-2.087932464959737,-2.0794102503511835,-2.0778049575884707,-2.0725035450594693,-2.0680224305137798,-2.065711301791251,-2.0645620990770217,-2.0535951325724757,-2.0510990204057813,-2.0422024441065845,-2.035110840819225,-2.0315591671688713,-2.0301660376936854,-2.0297913971391033,-2.027982248448408,-2.0106815780528233,-2.0099602158751253,-2.009349824953055,-1.999570896038189,-1.9988759549853654,-1.9970876216690092,-1.9920205058974974,-1.9889950544447716,-1.984170434535062,-1.9810008045390632,-1.9686754026165778,-1.9660336194836299,-1.962112507295542,-1.9609954860126488,-1.956800332110929,-1.9566475470759461,-1.9445808210611277,-1.9432817299873504,-1.925358782296404,-1.9240339214543227,-1.897831930514445,-1.8804522866409494,-1.8772787255081858,-1.8653172125291064,-1.8631202810916987,-1.8493424224032164,-1.8493040342756422,-1.8471646520385712,-1.8469534880735194,-1.8398180879425774,-1.8359122329237798,-1.827369152739154,-1.8259139349774087,-1.82210137297739,-1.821667170443693,-1.8142565730339677,-1.8122574018382156,-1.8103156087384769,-1.8057305202790164,-1.784938167647448,-1.7725227428699568,-1.768745345147049,-1.7678332321264738,-1.7665204379982111,-1.7653184204874246,-1.753892997975724,-1.7538325976380131,-1.752026238877077,-1.7469771454289944,-1.7432431293769999,-1.7412311855921518,-1.7411084812424131,-1.736979876614307,-1.7320327588585978,-1.7278681293297335,-1.72483370376464,-1.717399177271725,-1.7132521881268872,-1.7084763497792637,-1.7082446082004141,-1.706139275894439,-1.7055370869564415,-1.701638722231298,-1.6889554566770755,-1.6826116986694142,-1.677782897443679,-1.674803949296635,-1.6707192474276968,-1.6693770900705824,-1.6680422030397262,-1.6677325011969653,-1.6671766879731325,-1.665627555240684,-1.6506021804842514,-1.6497753274746239,-1.6495705524111455,-1.6488718400615492,-1.6445776787854631,-1.6308838268476296,-1.6171442157613627,-1.6122942755616656,-1.6055514221170988,-1.6035389006666176,-1.601802409654036,-1.6014218021318152,-1.6008478310998213,-1.600035972653626,-1.5996784423659902,-1.5945582457280294,-1.5883027815823914,-1.587765805798973,-1.5875739476186626,-1.5861692955486677,-1.5798595534605366,-1.5699454368534287,-1.569586934066265,-1.559704047781845,-1.5581383911761115,-1.558041653583819,-1.5436246641944058,-1.5433847302334385,-1.539976437881602,-1.5399563175005888,-1.5384577593912951,-1.5345863805313398,-1.533508079583895,-1.5317094098031554,-1.5290308411961293,-1.528284278640784,-1.521888002863217,-1.5203570944213325,-1.519807147255887,-1.517925781776149,-1.5151732843562224,-1.5134699550500068,-1.511305363859261,-1.5099229984303542,-1.5090559790304399,-1.5086674016855812,-1.5082339566424454,-1.506171229568883,-1.5039611156952197,-1.5012358261451104,-1.4996319166554755,-1.4991782136234533,-1.498281877807328,-1.4980741162072286,-1.4855008495629376,-1.4802780605863552,-1.4772309860870598,-1.4674867533149436,-1.464558767319625,-1.4603928935482557,-1.4579963745649622,-1.4538772282358297,-1.4489219940712967,-1.4481168875820536,-1.4460771955753449,-1.4456442975256463,-1.4302118652558575,-1.4297998944982466,-1.4186780128651355,-1.4173680083219398,-1.414817657618033,-1.4103331882753627,-1.4065677690459202,-1.4005584195741423,-1.3988175614264795,-1.3960428436548245,-1.3957242907928387,-1.3946941291719075,-1.391753707466325,-1.3908176927729465,-1.384901077755723,-1.37902756793843,-1.3749372246219935,-1.3716843994884886,-1.3586830550796667,-1.3564700317706624,-1.3560337190394895,-1.355374834333527,-1.3546227126845003,-1.3540708247556907,-1.3484115924876001,-1.3384239310844575,-1.3374072658569247,-1.3334796735751797,-1.3309699109784765,-1.3304668142923157,-1.3213517974708653,-1.3199890309123832,-1.3186773784503154,-1.3154632215247613,-1.3143842823033445,-1.3115651784602393,-1.3085075813939764,-1.302137326559224,-1.3002918593700117,-1.2899976043446564,-1.2896133957770661,-1.2867443207565192,-1.2837009771359358,-1.2822810531283824,-1.2790467744214664,-1.2710766876485653,-1.2676876844155263,-1.264801495510098,-1.2626795274310294,-1.2621585195834237,-1.2566921910972113,-1.2566078874606728,-1.2493396501214136,-1.2312532211646037,-1.230255355751404,-1.2248264112927425,-1.2209035053550747,-1.2185874405205357,-1.2172977215457723,-1.216504629994374,-1.2162318379212282,-1.2156783749994278,-1.2146146408911764,-1.211521290646343,-1.2108426567336799,-1.207501270859809,-1.2040616188141753,-1.2032377076989422,-1.1989205761113784,-1.1975476634711322,-1.195920958369978,-1.1958587942821817,-1.1931361755225858,-1.1890420504134798,-1.1879682751918048,-1.184243411037288,-1.182056070602955,-1.1817639411120753,-1.1804541113306082,-1.1629075713671289,-1.1613369346442168,-1.1604542895973744,-1.160168640590944,-1.1596613593586902,-1.1563101327519605,-1.1555847993669524,-1.1514694603821651,-1.1498260966601448,-1.1467648988558128,-1.1466838984509227,-1.1452737093902303,-1.145239600270276,-1.1371571199802077,-1.1330816586799637,-1.1303354508844439,-1.119087427988417,-1.1163420128752188,-1.1160920867074222,-1.1141533042902445,-1.1124048771754285,-1.1105072654642911,-1.1101412134444997,-1.1101155926007404,-1.1094225415825756,-1.1089231456293585,-1.1024062250935163,-1.0989869255181024,-1.0970375250748123,-1.095845768190103,-1.091573910493828,-1.0905062169171391,-1.08928273812544,-1.0885641407192952,-1.0837888378669573,-1.0828962950716132,-1.0822960396246017,-1.0772825119512082,-1.0665549824792315,-1.0650767272243793,-1.0640180154486154,-1.062006015044633,-1.0573751745057023,-1.0554357836848056,-1.0474565193973038,-1.0459597202760174,-1.0429610997753067,-1.0358062497503904,-1.0350435033045,-1.034880489808264,-1.0338306670626425,-1.0284074814716464,-1.0264220388422494,-1.0204166471676748,-1.0203810478219457,-1.0153063645218217,-1.0148816745668627,-1.0135649124255564,-1.0111283329029233,-1.0105143125472342,-1.0063303934996564,-1.0061912652716003,-1.0058696014096444,-1.0043738681291756,-1.003989101431276,-0.9952265765265409,-0.9945567270259021,-0.9890109984990514,-0.9816647291873851,-0.9785828152394674,-0.9784073467151716,-0.9759876660991453,-0.9700538425971699,-0.9662508464094028,-0.9662331900996237,-0.9631887990857214,-0.9621112530132202,-0.9620880664403341,-0.958961534972953,-0.9556622709527574,-0.9480173516633725,-0.9457247726567828,-0.9440276768831879,-0.9431775448084488,-0.9408565575749851,-0.9338358306735658,-0.9335867687931634,-0.9323636689758212,-0.928541809978034,-0.9279374531303347,-0.9268445830566342,-0.9258279231102767,-0.9183222208838393,-0.9150867346982097,-0.9145639500338923,-0.9091950351681825,-0.9028039704124752,-0.8984766257121772,-0.8984274312371352,-0.8979753922245387,-0.8967152020153228,-0.8953347760667664,-0.8942225150200183,-0.8909751954129924,-0.8881557412816592,-0.8869033502391931,-0.8864177019184165,-0.8857320494482694,-0.8850062858236373,-0.8846820663079198,-0.8787999150763062,-0.8759109083981883,-0.8747464626512448,-0.8728467288310021,-0.8717137958944788,-0.8682448102070031,-0.8677228480777532,-0.8676445976750093,-0.8636010728826731,-0.8610548161349458,-0.8601450350780436,-0.8584539793575432,-0.8570271707651589,-0.853985486802713,-0.8528632280867932,-0.8511717510311071,-0.8500365541924597,-0.8471710416982345,-0.8451688071368161,-0.8442391612096325,-0.8412183223058608,-0.8410897723383776,-0.8344363192480752,-0.8342489257131378,-0.8329205817822439,-0.8311041759737599,-0.8309129442770306,-0.8289946888460161,-0.8288793503668324,-0.8286966121803779,-0.8245707189090746,-0.8243698826034985,-0.8225725711976855,-0.8219780567587932,-0.8200969846992082,-0.8184013343952385,-0.816067649274685,-0.813570782998058,-0.8098129913329752,-0.8017348745609448,-0.8014810292835427,-0.7978600843432289,-0.7963399550314337,-0.7943617054263692,-0.7928981838874708,-0.7894214455523225,-0.7892655887341231,-0.7852571493139949,-0.7832295268652036,-0.782908433049163,-0.7828000210522016,-0.7824930443678959,-0.7801562702017035,-0.7780882936362299,-0.7772430964013777,-0.7726684584319852,-0.769688008903417,-0.769380364507308,-0.7637111970647036,-0.7602001302788262,-0.7579869918595278,-0.7565174504703569,-0.7540819014749934,-0.7501052215245726,-0.7411960380165438,-0.7353449913875039,-0.7352972971185721,-0.732497343374223,-0.7248269624095093,-0.7241297448589845,-0.723728030294266,-0.7235264819619224,-0.7218999139405671,-0.7153015544880497,-0.7132771864741498,-0.7113270760297855,-0.708472362278726,-0.7084450012343705,-0.7062558476848955,-0.70375103952949,-0.6992705898975903,-0.6990472416644465,-0.6988039345507993,-0.692930911335552,-0.6927065322017051,-0.6918908198936712,-0.6894474519357089,-0.687954838396164,-0.6874463510404052,-0.6869497098332851,-0.6858370362195747,-0.6842150297363006,-0.678959556504332,-0.6758378717323383,-0.6748490402218932,-0.6714936560315479,-0.6701149117188879,-0.6683711887173073,-0.6656906015488298,-0.6613235162775493,-0.6603950261769932,-0.6575925198999262,-0.6557945216707266,-0.6541078635490627,-0.6526996537856711,-0.6525110685199833,-0.6519487989303706,-0.6502841710207189,-0.6422912931209913,-0.6393884406146322,-0.6386690477180754,-0.6385325074680772,-0.6373182082686824,-0.6361854490024179,-0.6308222946937221,-0.6298764357899116,-0.6253160338567577,-0.6238118260938169,-0.623626960477696,-0.6206173885248117,-0.6193716920125774,-0.6191031572264916,-0.618771459530255,-0.6185382124308932,-0.6174849106749174,-0.617348294170618,-0.6158521958765507,-0.6106659911964949,-0.608863675174182,-0.6078627423622787,-0.6077105466455399,-0.605258641013823,-0.6037722819545475,-0.6032532578076975,-0.5992795361188432,-0.599064061464612,-0.5986931966652921,-0.5957889013942637,-0.5936445236953127,-0.5935646041726583,-0.5922919003480985,-0.589723870407017,-0.5871375194014108,-0.5838333376113536,-0.5814386124865544,-0.5781501000782502,-0.5778195083427514,-0.5764314122647601,-0.5760876716138824,-0.5751484202106599,-0.5723944215046036,-0.5696865581433588,-0.5683597465520881,-0.5683348062616225,-0.5658429685310937,-0.563125078832788,-0.5620870510911996,-0.5611588664821661,-0.5604582152552552,-0.5536601062556794,-0.5525507254957014,-0.5504524490533116,-0.5472132446329169,-0.5447146268252994,-0.5404503619249417,-0.5387958905477664,-0.5380048191756246,-0.5358080964570339,-0.5318716469890359,-0.5313592654484934,-0.529399483858566,-0.5290834029293284,-0.5286286676105834,-0.528079793284673,-0.5279363086622417,-0.5257922460544424,-0.5237645035288081,-0.5230569439022603,-0.5218879870630182,-0.520602344705632,-0.517283738254992,-0.5167046416004176,-0.5129854425236795,-0.5119979788225787,-0.5119751732381541,-0.5099671757298682,-0.5088627471773642,-0.5057109611003213,-0.5033096146883637,-0.5022742313255552,-0.5020400978268553,-0.5014988301238309,-0.49991957831190387,-0.49965752346281017,-0.49593206355300057,-0.48969501579731894,-0.4892875793002694,-0.48784347522320576,-0.48558132660670034,-0.48528763215472315,-0.4836591092671472,-0.48052656130672394,-0.48021451835879875,-0.4776740273149568,-0.47528275465273845,-0.46998065284553675,-0.46868328265721515,-0.46345837107287075,-0.4606034783402144,-0.4602547013695295,-0.45771594001082966,-0.45603944892030035,-0.4550604536359213,-0.4513224968863888,-0.4509951081027858,-0.4495362379511146,-0.4493253189767446,-0.4487482981308421,-0.4484473282823156,-0.4471947734277066,-0.4471753008946971,-0.4454886084989186,-0.44252683750469807,-0.4415318510164604,-0.4388118158559997,-0.43639171703383967,-0.4340779157745738,-0.4337773300808973,-0.4314506134066376,-0.42958243875289315,-0.42829850081409,-0.4252182528844291,-0.42480957319855833,-0.42302586185639274,-0.4227433584190838,-0.42149149460123,-0.41851360448447944,-0.41589010297640433,-0.41402997592481294,-0.413741554406319,-0.41355860903810027,-0.41331427990482583,-0.40385444729137826,-0.401706446927148,-0.4000306923124298,-0.3999627443536082,-0.39806742784475296,-0.3975481254361322,-0.3928237613659808,-0.39159429775425364,-0.3896532589215912,-0.38736405337441454,-0.38677776503549227,-0.3840233656258747,-0.38171441072720513,-0.3800177554987459,-0.3757389088553171,-0.37305942795444674,-0.3701287814942958,-0.36826482746330785,-0.36766238509596255,-0.36656427383644175,-0.3620519385799112,-0.3618848981973921,-0.3618062021679245,-0.3614563025916171,-0.3606114685738481,-0.360004078945656,-0.3583091961409675,-0.35827562926082157,-0.35808806429956636,-0.35802659607322723,-0.35736183556164675,-0.3546263167637944,-0.354593042885232,-0.35167757850838793,-0.35097813696606656,-0.3499884781851761,-0.3485835419114164,-0.34599985903575586,-0.3455159936767893,-0.34291381082293015,-0.3415460140564556,-0.339526041607163,-0.33947963039284046,-0.33905042804957225,-0.3389067917554318,-0.33796605290573023,-0.33784531801047907,-0.3377427999669759,-0.33704847103192626,-0.3352822174058769,-0.33368886391380786,-0.33138055799840027,-0.33069512843336024,-0.3299562185100197,-0.3284217680949109,-0.3255588314417322,-0.3249438095638207,-0.321181634393448,-0.3188961700739605,-0.3185281567478277,-0.3133972730677899,-0.30717733991770296,-0.3054466444383066,-0.3037518764385433,-0.3029522232190815,-0.3026282626669384,-0.3025949374595608,-0.30245224412895033,-0.3009022583974227,-0.30084492644739885,-0.2992527048838109,-0.29621220457890196,-0.2935952008689815,-0.29211620954214107,-0.2909772206152177,-0.2908093603120665,-0.2904459795389167,-0.2899664926097427,-0.2789793243613467,-0.27764499078866295,-0.2776295653911463,-0.27738901397216603,-0.2766664339302065,-0.2765487812478751,-0.27325845208778793,-0.2721095223262111,-0.2701531470239673,-0.26835127351669685,-0.2671064743074271,-0.2669224906681619,-0.2666135936040686,-0.26653933214505404,-0.265880218357559,-0.2650979485560425,-0.2601995986402435,-0.2571040212762969,-0.25623329328857947,-0.2555329512458087,-0.2550038571971955,-0.25302989044140245,-0.250715642949325,-0.2499670444004566,-0.24753220217481423,-0.24745823306138576,-0.24563586883726501,-0.24243515039758876,-0.23820884026895692,-0.23782160988977108,-0.23595289310449513,-0.23467885267984398,-0.23334270059019688,-0.23131809647050555,-0.2301297625028726,-0.2299293724570762,-0.2298456185135431,-0.2281896933912183,-0.2276918026154329,-0.227339794286792,-0.22697104381054245,-0.22590567843427264,-0.22455263454465496,-0.22430350311640995,-0.22384366534760902,-0.22134881174282137,-0.2210628587479772,-0.2190687735086704,-0.2172832078129852,-0.2171089933497955,-0.21661242934010333,-0.21405071575897625,-0.21347324266308618,-0.21229600487597683,-0.21171865172114615,-0.2114480652886216,-0.21102961958654987,-0.21069701686042003,-0.2105326739743289,-0.20960800176294467,-0.20946025234152443,-0.20898102032742527,-0.20739733740950067,-0.20600211273393151,-0.20586218749233753,-0.20429193207392715,-0.2009625286767084,-0.20005701399450296,-0.19874290904316802,-0.19006525667855106,-0.1888831173523081,-0.18715908155100058,-0.1870851879620488,-0.18547600632701175,-0.18533768161646924,-0.18524701989875192,-0.18331885125711395,-0.18253096969548957,-0.1821866045497313,-0.1817912960453423,-0.1807398422322634,-0.17937087639039323,-0.17897901660853732,-0.1789542650946259,-0.17586113257224284,-0.17425487251061195,-0.17323642072940026,-0.17321519539631341,-0.17081827266848412,-0.16891639693445698,-0.1663739406696753,-0.16037345156512214,-0.15991963807047355,-0.15643153609420676,-0.1540702879303067,-0.15389622827108762,-0.15023368456268862,-0.1471899794789539,-0.14662119684281877,-0.14652972069354675,-0.14634786653221715,-0.14559088736018644,-0.14366389604378182,-0.14271073339729412,-0.14176114852647984,-0.141043979194658,-0.14042253091323187,-0.13507524285907715,-0.13433202291693278,-0.13282722827489463,-0.13172276863586072,-0.12918109302461925,-0.12714275357934307,-0.12179890728795899,-0.12174439613100528,-0.1215395405125589,-0.12032709569706487,-0.1202978665838118,-0.11581050035109901,-0.11413231688633561,-0.11191767643139242,-0.11157240986284526,-0.11100339257050164,-0.10976660811308808,-0.10852936138265572,-0.10402123401430528,-0.10265732427774393,-0.10184254220984588,-0.09976831459015668,-0.09647182317928223,-0.09512959337043973,-0.09509504751815638,-0.09491386228420204,-0.0927269938048735,-0.09254408348078542,-0.09175343004776129,-0.09131704207589318,-0.0859158754710852,-0.08579024566622051,-0.08423070160973894,-0.0829500581300818,-0.07800701063057054,-0.07794079463111594,-0.07721046205740031,-0.07338421225258641,-0.07296373387286421,-0.07278676158786097,-0.0720353101092738,-0.07128877611766825,-0.06885527443030619,-0.06170992630769562,-0.060983880373360264,-0.059256503011200994,-0.05700286730943997,-0.05462318166370492,-0.05286849445768033,-0.05211576860646294,-0.05051780585432401,-0.050185437183978505,-0.04842447801895391,-0.04583436245711712,-0.045419298193482,-0.03877307173544799,-0.03360469207780919,-0.03088746738808825,-0.02940443382871193,-0.027856013985413174,-0.02717410444028595,-0.02656269663826762,-0.023425818691182165,-0.021815710454080685,-0.020680355599849678,-0.017800614287548148,-0.016975939897438848,-0.015808985001836817,-0.011193013713591,-0.010390301613732895,-0.010078956419402624,-0.009662697280631608,-0.009440306508674308,-0.008267059929627948,-0.007120840402789754,-0.006514338298162786,-0.004718625453634032,-0.0029422266492879104,-0.002327537774960768,0.0004813492821303385,0.0035769406186500234,0.0038775095510115366,0.005691809625305455,0.005901046203525678,0.00866771756274925,0.009148035219257259,0.021453471121201897,0.021796898413693037,0.021813159059359127,0.028077073671894156,0.03556650347772215,0.043095411350558444,0.043175118075607664,0.043554962322841555,0.04723977204474723,0.04766365699984832,0.048672282088643486,0.04960723860001603,0.049917429449306244,0.05011845929857228,0.0502748156579415,0.050610843393672555,0.05278203897313242,0.056396191156461536,0.06391680773901245,0.0639781903030015,0.06688513073272412,0.07120859058184911,0.07249616023558833,0.07642388888000397,0.0777595340834446,0.08290678408100467,0.08358902334020611,0.08650715877476499,0.09418154548930828,0.09531518135473208,0.09565294191730515,0.09586425260045461,0.09841987686925681,0.10238730440976784,0.10329271748345972,0.10501883763420135,0.10839855730010574,0.10855464826159439,0.1111860214142506,0.11209622650009383,0.11357680240768704,0.11791090702063767,0.12048416584378659,0.12287678832326038,0.1238659316775327,0.12640448452471376,0.12701200675634908,0.129426962793938,0.13086187631012566,0.1327303852483439,0.1346878623451056,0.13831872854952246,0.14148458547557655,0.14260065506678354,0.14368594021136766,0.14496327713866267,0.14740493327627444,0.14918899846151387,0.14993404910889815,0.1505335474932846,0.15346926621179077,0.15514854406264333,0.15623648108328667,0.1564322941199198,0.16143837875532466,0.1651324391930477,0.16781929264615877,0.1718482388628756,0.174430100940321,0.17587613627660442,0.17684828481112305,0.17703013064124065,0.17789541397617203,0.18593367714414927,0.1862281897522388,0.18728639761301424,0.18760706982308695,0.1889253279261946,0.1903458455022285,0.19344843763838268,0.19412750634383424,0.19720069233444115,0.19824522571973768,0.19960761242784203,0.20006370967018178,0.20050343186729902,0.20109823783254188,0.2012409896834159,0.20134063447888487,0.21020342065906186,0.21051804632386145,0.2108945977525743,0.21231993802250432,0.2161307807856106,0.21641811790326704,0.21755624946339971,0.21842782960844673,0.22215103504342618,0.22671797119759016,0.22829402274773894,0.22890569410159578,0.2290578502852364,0.22935658019307714,0.2298611707093105,0.23010821727972636,0.2322821610755855,0.2325414214303881,0.23274330005224936,0.2352539047335652,0.23873862215581976,0.2400738254353017,0.24765009130815263,0.24904363476281216,0.25011894541018304,0.2520599800009403,0.2531528466818878,0.253614451442938,0.2596276628414565,0.2602921665617079,0.2605132811972858,0.26220148125488774,0.26512529399872514,0.26940913130421124,0.2733630443265947,0.2738340283910748,0.27417634487953,0.2766830673512069,0.28060358985502065,0.28215856687553664,0.28390893809601714,0.2896408277996595,0.29104718783753797,0.2912341247626682,0.2940656256467521,0.2941925195310233,0.29447600802993723,0.29512722037577843,0.2970799006745663,0.29888876502984085,0.2996924380853968,0.30123274069635453,0.3018795048936958,0.30549772691284205,0.3111849583456931,0.3128069256378468,0.31577073756319246,0.3160728706197694,0.31905693714643163,0.31908157261687153,0.3204558850165195,0.32153751028092376,0.3218651829155347,0.322498302339427,0.3334883388677169,0.3410064605634648,0.3410677988068904,0.34361746976853275,0.34476245637069775,0.3569239278847324,0.36077434215048326,0.36191282491341503,0.3669230148707525,0.36780826564960317,0.3708390545686458,0.37247628040971614,0.3726718589790508,0.37565173319248907,0.3776595654635378,0.3788165893288225,0.3811246791205461,0.3824139641068352,0.38383669715957336,0.3906949649942882,0.3911300533963446,0.391924733445404,0.3937915136679734,0.3953122954813287,0.39957530610581404,0.40332276912031545,0.4093130435123155,0.40939171964945364,0.41187891556044315,0.4132230841846139,0.4150946084645228,0.41527708436643873,0.4190561953643639,0.42328558218512347,0.42395449265158675,0.4276540698226839,0.4360698542940518,0.4363069252881605,0.4363590590404906,0.43689572233743773,0.4393329129302769,0.43976255912524614,0.44198891824844666,0.4452852306028993,0.45085585903604425,0.45417916272704545,0.45474015854823896,0.45480763185719775,0.4595065649447325,0.46209737557905256,0.46744033204463614,0.4723107173037399,0.47283606395563665,0.4777593853718066,0.4858089772133409,0.48773456998993875,0.48796936410917746,0.4913040734410476,0.492379538614074,0.4969418561378847,0.49827816874503617,0.4986246326209556,0.49862857196904387,0.4987297807468796,0.5012529910720824,0.5035851673030385,0.5066289985500692,0.5078728239539134,0.5152410314625328,0.5183111919716652,0.5185960544485153,0.519869448844757,0.5203296185639547,0.5239788052906217,0.5301791417634295,0.5310481870962144,0.5495850873950725,0.5506707577046371,0.5578188881474954,0.5579686177096509,0.5594139281896605,0.5637343835232096,0.5690130340408431,0.5722317152372672,0.5746052581565585,0.5769526054843782,0.5772885071062595,0.5858527619138671,0.5868897585563803,0.5888498434723747,0.5890484403741723,0.593776663257225,0.5942534686830919,0.5956291003835048,0.597233529596421,0.6033961542873576,0.6082384545386841,0.6129824903391713,0.6179919584350291,0.6271462207153969,0.6300489447538534,0.6317426062607462,0.6337063766839562,0.6375152704098717,0.6382479965507809,0.6398530310237942,0.6412821547740528,0.6413016844968696,0.6525825168415048,0.6528075306170327,0.6556692951224727,0.656735302500323,0.6619171140922964,0.6631010178884249,0.663851895836491,0.6704375265936484,0.67291876343046,0.6768782816314443,0.6805881177133563,0.6923622187848291,0.6926622379646314,0.6947070572784372,0.7034073052128123,0.7132067834249817,0.7136151366963169,0.7142725665292533,0.7149680434955832,0.7164312189946286,0.7164853165365652,0.7170027451738299,0.7190441902884894,0.7215879656210783,0.723505433308013,0.7280145501750411,0.7283340783664296,0.730975904250943,0.7310991677528706,0.7314370215899828,0.7331501977607459,0.7341057547062175,0.7496130802443483,0.7522671896145138,0.7526076075484446,0.7526659509675174,0.7535886390949059,0.7606611888718038,0.7643911108128377,0.7644597235890545,0.7649808521605507,0.7666546939483128,0.7669443043678384,0.7704696303754941,0.7810536492202674,0.7827099507669647,0.7872442455415611,0.7879764319337403,0.7937044725690121,0.8037707505866685,0.8059648118100753,0.810312638057712,0.8127171370456107,0.8151258551801847,0.8229129779654673,0.8260265461131336,0.8291643378620152,0.8328083015706041,0.8411731152098559,0.8442733953071688,0.8458857831049106,0.8463132982677808,0.8512707096321401,0.856757824506785,0.8649860524886883,0.8738352108342491,0.8739302762449401,0.8764766909906322,0.8867638550895619,0.8880199695275341,0.8915595055038243,0.8947425302063065,0.8980501557547422,0.9037271505571928,0.905642146659148,0.905939510043258,0.9069638782826905,0.9198941202045395,0.923879376768866,0.9272931315661168,0.9342636653604556,0.9412449103514136,0.9427223062545956,0.9466943164924871,0.9476412171120036,0.9489637783842572,0.9523724159424103,0.9541883996995473,0.9546853375402679,0.9554566368741914,0.9578670359526557,0.9602554947630629,0.9643882905621207,0.967883355702972,0.9768935000916843,0.9929706845536921,0.9932157750037275,1.001806795002726,1.0038187519578587,1.0064268093006394,1.0103558739112144,1.0140894186571037,1.0148973693567522,1.0174772987276126,1.026306029891684,1.028153886660571,1.0329600437719202,1.0357664006193137,1.0375216222769608,1.0404707048142232,1.040767083526977,1.041823774298318,1.0422796546236917,1.0466133284818986,1.0514272340637818,1.0541306716960541,1.0584847730695277,1.0598793915885494,1.0618883950903095,1.0619941908817698,1.0641116358584413,1.0651501004216681,1.065532976275221,1.0748729088358058,1.0904422812920258,1.0936169361251782,1.0987566827942714,1.1010219496653573,1.1112568952426374,1.1143423278284639,1.1173816423937857,1.1199634122931388,1.1262954101310152,1.1289893514011708,1.1341134762688263,1.1363228658079385,1.1399259076856583,1.1444439087370606,1.1580411119324927,1.1595716475432407,1.160349823723752,1.1624651240916017,1.1629115924108653,1.1638231729862114,1.1790438078252907,1.1796236198131729,1.1896659035567028,1.2170872006126372,1.2211421489371836,1.2215651545898976,1.2223188496654422,1.222450835372154,1.2364728575540949,1.2445341140101847,1.2454984672759426,1.2457575978715942,1.2520092123867408,1.2528293928442296,1.25846059651834,1.26086432292628,1.261460820814136,1.2673162317859974,1.2755666428615902,1.2779886518096746,1.2795094445550035,1.2803983306999644,1.283323221394929,1.2954355844265792,1.3023182445845418,1.30588704780415,1.3070414213221417,1.3103159021075323,1.3121310373098427,1.3133494255699307,1.3186906427105571,1.3288567670056395,1.3448469331873707,1.3470758043967754,1.3694750456951843,1.369730394680566,1.373530896461406,1.3767305808972177,1.3779900048792193,1.3840839047417661,1.3875267742096005,1.3878668367627822,1.3936095170215772,1.4085564757237434,1.4216165697637195,1.4257703609843089,1.4460875133869844,1.4793633829040138,1.492039985864756,1.4962549907811957,1.4976588199741172,1.5170209724891073,1.5190897405706887,1.5216964388250422,1.5284758159972076,1.5395874048934957,1.540026862007638,1.5402236667607543,1.5447174520812366,1.554087849657103,1.5594482979809396,1.596835183147514,1.6031021160139909,1.6060551168984731,1.6121477270869817,1.6340970662530043,1.6469536923326635,1.647995101417638,1.657013815445697,1.6688257211232465,1.6772037791952599,1.6839282509567088,1.6859308720077093,1.690649847716737,1.696033770703905,1.7017318270866508,1.7100304101545039,1.7104913927594723,1.724563461971174,1.7309767503144773,1.7381117653553355,1.738435950231026,1.7656356524664483,1.7895072324936703,1.7985700354402192,1.843128106841153,1.8527331116192463,1.8605171862010033,1.8635857156865163,1.8799913498974181,1.901684241318233,1.9017302725562557,1.9102748540047785,1.9170605868440385,1.9188420644232151,1.9608322984415756,1.9658080102090194,1.969952025986943,1.9947839714174171,2.0292929125030468,2.0360419282112296,2.0369213757055147,2.066611162177344,2.0748236184745914,2.1099432800574225,2.1152708904189943,2.1176581360817353,2.1302205371809517,2.1303579782496844,2.1442253183065967,2.1464958337138516,2.1690683482047644,2.1877439643375967,2.208207280140217,2.210422999072013,2.2264253959053213,2.2289541805757165,2.230694766288838,2.2344722158927928,2.2348065938342696,2.2451412862296887,2.2503088413597068,2.251808149026861,2.269072303019595,2.2851480633817043,2.290226772317649,2.3106648102034115,2.3225076354786545,2.3502525239750334,2.3603794083544183,2.3853275263739167,2.3856512819588493,2.3922162128433957,2.4219549795967916,2.44066317395642,2.4753447331271534,2.498130560229668,2.5178954274620193,2.5267177634139557,2.5437237203817493,2.556424377017099,2.576538157886241,2.583643279552486,2.6318149259580084,2.6330256906579574,2.6338189957418088,2.640612018965434,2.685877311930323,2.6894268185156163,2.731459810755368,2.8218488710311576,2.8362865365663055,2.8819574896283076,3.0059740660827945,3.067707512584161,3.1185847986479787,3.155162970629251,3.161642356419694,3.169439929548995,3.2190952350205113,3.2517055860486908,3.2799139763607545,3.3768750631061732,3.432700787700494,3.5458196144355894,3.5976678806522506,3.6381639645976143,3.7102702220849504,3.7348541833652766,3.8178418803073946,3.8447847510050797,3.880793565388018,3.965627955791541,4.074961335923894,4.087772825255844,4.1385490202598545,4.313491013490715,4.511351550139115,4.5118049322290945,4.607711767212803,4.763031483177534,4.779019581142427,4.821527865123464,4.943807928347266,5.006253418534121,5.052896636801923,5.1307648501385525,5.238075114281762,5.288236757989526,5.38087664511181,5.5444011197509075,5.5676142978762675,5.573678331994524,5.667424951065294,5.754904121068865,5.8245305068101265,5.8989968066943375,5.919786745767794,5.957132743944194,6.003019419696566,6.04893947754554,6.051459137013487,6.14804115209938,6.163551555428653,6.265076426346426,6.28067783284179,6.444108837964398,6.501280069372627,6.618611168953895,6.646893170365203,6.654919291083699,6.662245500300732,6.672739234762164,6.703453697952627,6.828865393677092,6.83140924848357,6.84880317888413,6.859877329209584,6.893643436978023,6.900903029446022,6.91481798148017,6.9674868834910955,6.981776181227812,6.982745276142327,6.998133524913955,7.0330060417915945,7.071524952187994,7.1779147344168095,7.366924765262887,7.398095852240519,7.435217859173063,7.468536896656424,7.551121116250675,7.625013940463401,7.785843721243664,7.8997926642926855,7.961332047130131,7.965672642617563,7.974713638527135,7.9918115459596475,8.06404309774935,8.104254017473442,8.810614522494676,8.908663613900176,10.276186065232677,13.398076608801457,15.783374580479496],\"xaxis\":\"x5\",\"y\":[5.248329606922167,5.2089498098184155,5.1152623447018115,5.024534446779665,4.984918929944735,4.91000907856843,4.901752279092331,4.850059310617451,4.7927865882267175,4.745597378354038,4.740669560078372,4.728927499559566,4.69969934032667,4.698050300805505,4.697798372405007,4.6860185967051935,4.66819834734403,4.665197886568909,4.66413325679957,4.660515807049143,4.659147793357229,4.652213599877731,4.645775149952085,4.640727602889211,4.633156736906202,4.632400796954382,4.627650252018319,4.6266500413568155,4.623151481474031,4.622595108173041,4.622303888758875,4.617883261520173,4.61701905574084,4.615133024200107,4.613554102473578,4.612653854229727,4.612463488498014,4.611978532809528,4.6119536746607706,4.610948244631521,4.608617470453459,4.608434769402701,4.606068052510918,4.606045120762352,4.605324134134518,4.603859415404435,4.603288064832959,4.60158550438542,4.6004676621448795,4.598244821384789,4.597501867514126,4.597113103984379,4.59681295815284,4.596625920537866,4.596209639821269,4.595906161972162,4.595685341676932,4.595488049886959,4.59523262934332,4.594611402083644,4.5914710876507945,4.59082671676208,4.590777762920779,4.590168781386531,4.589781411523107,4.589463110296465,4.589429957973513,4.5882898474300005,4.58813311171315,4.588031364535954,4.58694194332659,4.586274324324126,4.586112164949874,4.585463484673966,4.584920324990515,4.584838874724649,4.584229369933454,4.58332542240261,4.581671028324939,4.581593059362512,4.581161344566885,4.580366799378371,4.580206670890345,4.579945186008444,4.5793584544410475,4.579221484881983,4.57876981980285,4.578125420011146,4.577611618262972,4.577453885067338,4.576418203401561,4.576114097123944,4.576009320713741,4.5751999066454925,4.574687779282721,4.574415741681534,4.57430764111231,4.574094071987145,4.57365642732681,4.573297182231386,4.573253746642099,4.572564069731137,4.572343106427591,4.571747136172998,4.57170349378945,4.570426589644824,4.570235914230286,4.569677287067335,4.569259222945434,4.56923801859139,4.568816505854587,4.5679403433123085,4.566997551900893,4.566647069544877,4.56664262262943,4.564841345594273,4.564583225394848,4.564423474695886,4.564245513437641,4.563429090351115,4.5630142232551085,4.562357541902662,4.562233845672174,4.561825344019807,4.561480050631235,4.5613019660364555,4.56121341393735,4.560368351623476,4.560176013083698,4.559490485198677,4.5589440399550805,4.558670364864357,4.558563016928414,4.558534148907909,4.558394744508519,4.557061637076303,4.557006052335456,4.556959018512133,4.556205500728288,4.556151951873748,4.55601415140817,4.555623703550345,4.555390576641085,4.55501881436181,4.554774577739273,4.55382484084861,4.553621277596533,4.553319135327999,4.553233062977037,4.552909804356544,4.5528980314679215,4.55196822691324,4.551868125129553,4.550487067966583,4.550384980487032,4.548365979600818,4.5470267868477485,4.546782247310497,4.545860549972281,4.545691264877524,4.544629608571864,4.544626650565208,4.544461799938303,4.544445528646799,4.543895708626598,4.543594742003013,4.542936452848448,4.542824320684241,4.54253054277727,4.542497085193748,4.541926059779231,4.54177201314876,4.541622387801655,4.5412690826774655,4.539666922807784,4.538710249183784,4.538419180868875,4.538348897774697,4.538247740098761,4.538155118342457,4.53727472958767,4.537270075424723,4.53713088600406,4.536741826860819,4.536454101331282,4.536299070505802,4.536289615491814,4.535971484842044,4.5355902834609765,4.535269376903577,4.535035558491872,4.534462689215937,4.534143141942687,4.533775138538733,4.533757281634113,4.533595054733062,4.5335486529156475,4.533248263458491,4.532270951297257,4.531782131456476,4.5314100469848615,4.5311805033993116,4.530865755687498,4.5307623354207065,4.530659475370702,4.530635611218683,4.5305927828933825,4.530473414087903,4.5293156301233735,4.529251916760407,4.529236137767292,4.529182298314547,4.528851410656358,4.527796227511627,4.526737518384405,4.526363805043929,4.5258442328056425,4.525689157467995,4.525555351723945,4.5255260239172745,4.525481796437579,4.525419238484403,4.525391688899746,4.5249971508826405,4.524515134547213,4.524473757745539,4.524458974066048,4.524350738253714,4.5238645395180175,4.523100604813143,4.5230729802922935,4.522311452047651,4.522190809991033,4.522183355851955,4.521072451172209,4.521053963001561,4.520791336192223,4.520789785811293,4.520674314045897,4.520376003991251,4.520292915245304,4.52015431830091,4.519947920535039,4.519890393972865,4.519397527362346,4.51927956283408,4.519237186519358,4.519092217437444,4.518880123068627,4.518748872608055,4.518582079498995,4.518475560989297,4.518408752595202,4.518378810671879,4.518345411456979,4.518186467512639,4.518016166641999,4.517806168782314,4.517682579140275,4.5176476189410355,4.517578551563245,4.517562542441812,4.516593706273764,4.516191262978657,4.515956469900201,4.5152056256362085,4.514980008951853,4.5146590065190395,4.514474342156618,4.514156940318412,4.513775113525458,4.513713075845993,4.513555906874421,4.513522549808235,4.512333399926432,4.51230165541791,4.511444656080526,4.511343713356756,4.511147195453091,4.510801643559809,4.510511498250673,4.510048446342254,4.509914304087531,4.509700497524022,4.509675951354529,4.509596571996282,4.509369997075199,4.509297872231717,4.508841965999609,4.508389381249331,4.508074198834385,4.507823551589971,4.506821729784002,4.5066512047261025,4.506617584540792,4.506566814016968,4.506508859097457,4.506466333236736,4.506030259695958,4.505260657978653,4.505182318588334,4.504879676994581,4.504686286617546,4.504647520378082,4.503945160504644,4.503840152190749,4.503739082486184,4.503491414830088,4.503408276901783,4.50319105015857,4.502955446261116,4.5024645847007765,4.502322381770508,4.501529155405886,4.5014995501197745,4.5012784728351365,4.501043967240462,4.500934554645206,4.5006853365002755,4.5000711994946325,4.49981005901311,4.499587663013844,4.499424154239187,4.499384007850752,4.498962798558552,4.498956302521008,4.498396246696897,4.497002592444591,4.496925701678611,4.496507373021892,4.49620509253554,4.4960266275874305,4.495927247973149,4.495866136107688,4.495845116047087,4.49580246882489,4.495720502530337,4.4954821436628745,4.495429851359048,4.495172380044902,4.494907336806611,4.4948438501320425,4.494511192490828,4.494405402368096,4.494280056204579,4.494275266135433,4.494065474074171,4.493750000252256,4.493667260237228,4.493380239909412,4.493211693851767,4.493189183741664,4.493088254484202,4.49173620151168,4.491615175710902,4.491547163278722,4.491525152523949,4.491486063843252,4.4912278342490035,4.491171943505797,4.490854835043451,4.4907282052457855,4.490492323892571,4.490486082386357,4.490377419919837,4.490374791633171,4.489751994117292,4.4894379584397806,4.489226348719527,4.48835962953596,4.488148080896038,4.488128822773423,4.4879794294152076,4.4878447039318505,4.4876984829925615,4.487670276763727,4.48766830254328,4.487614899325827,4.487576418247254,4.487074255325076,4.486810780351406,4.486660568818564,4.486568737697338,4.486239568647003,4.486157297254631,4.486063021794023,4.486007650093332,4.485639687952099,4.485570912846462,4.485524660014673,4.485138341400989,4.484311728966824,4.484197821642893,4.4841162423454115,4.48396120715713,4.483604376595152,4.483454936356237,4.482840092174939,4.482724755948799,4.482493696505177,4.48194237776859,4.481883604152732,4.481871043107501,4.481790148756432,4.481372263850684,4.481219275078286,4.480756528138908,4.480753785022527,4.480362754046914,4.480330029457496,4.4802285660253345,4.480040814788156,4.479993501297927,4.479671108381897,4.479660387821906,4.479635601933542,4.47952034783603,4.4794906995430495,4.478815501021352,4.478763885602565,4.478336558120615,4.477770489523589,4.477533011882811,4.477519491112314,4.47733304202456,4.476875809788406,4.476582768977462,4.476581408466148,4.476346822164323,4.476263791585452,4.476262004938349,4.476021089283584,4.475766863679281,4.475177782534428,4.475001127292594,4.474870357158418,4.474804850021337,4.474626005776561,4.474085021930397,4.47406583040566,4.473971584147015,4.473677089857584,4.473630520991352,4.473546309617782,4.473467970634405,4.4728896168947365,4.472640305707236,4.47260002240575,4.472186319344148,4.471693854270207,4.471360409655066,4.471356618962637,4.471321786984825,4.471224682716869,4.4711183136543085,4.471032608104519,4.470782385089808,4.470565131355049,4.470468628053815,4.4704312063024565,4.470378373181949,4.470322449286521,4.470297466471625,4.469844215855032,4.4696216027315945,4.469531876076837,4.469385491617906,4.469298193190542,4.46903088964123,4.468990669720387,4.468984640116268,4.468673065314266,4.468476862871406,4.468406759467266,4.468276454750874,4.468166511662233,4.467932133952926,4.467845658030268,4.467715320847789,4.467627847974887,4.467407045201595,4.467252762522726,4.467181128426097,4.466948356937937,4.46693845148843,4.4664257680165305,4.466411328361392,4.466308972491572,4.466169008893178,4.466154273487534,4.4660064618413085,4.465997574406296,4.465983493470185,4.465665571744683,4.4656500962535315,4.465511603979053,4.465465793522063,4.465320847049711,4.465190188296555,4.465010365612952,4.464817968965047,4.464528411399768,4.46390595011585,4.463886390005276,4.463607377198188,4.463490243258453,4.4633378087463225,4.463225036732516,4.462957135801021,4.462945126215383,4.462636254925407,4.4624800159766025,4.4624552740132675,4.462446920300054,4.462423266135793,4.462243205425015,4.4620838569797785,4.462018730098004,4.461666230238909,4.461436570964036,4.461412865349077,4.460976026250973,4.460705480132225,4.460534946204474,4.460421710329617,4.460234038499971,4.459927614443779,4.459241115107167,4.4587902612634105,4.458786586169733,4.458570835042112,4.4579797919415745,4.4579260676709405,4.457895113455895,4.457879583099345,4.457754247498545,4.457245809280519,4.457089821103001,4.45693955486085,4.456719584187381,4.456717475875347,4.456548790107667,4.45635578149633,4.456010539342855,4.455993329189561,4.4559745810998,4.455522033844763,4.455504744255162,4.455441889341709,4.455253615019968,4.4551386013148635,4.455099419696022,4.45506115088509,4.454975413544851,4.454850429434495,4.454445467646012,4.454204925454558,4.454128730798187,4.4538701808403065,4.453763941356615,4.453629578349866,4.453423025043244,4.453086518208586,4.453014973174464,4.452799025360804,4.452660480162979,4.452530514304652,4.452422004353374,4.452407472869129,4.452364147046968,4.452235878732071,4.451619985550519,4.451396305533366,4.451340872535964,4.4513303513932625,4.451236783268407,4.451149498223248,4.450736239042791,4.450663355651242,4.450311952753437,4.450196045652584,4.450181800786854,4.44994989747638,4.449853910023825,4.44983321800953,4.4498076589615865,4.449789686048711,4.4497085236216405,4.4496979966031445,4.449582714379419,4.44918309009632,4.4490442121898806,4.4489670850647345,4.448955357586175,4.448766425391873,4.448651893627291,4.448611900093408,4.448305703986793,4.448289100534068,4.4482605234553185,4.448036732265577,4.447871496712122,4.447865338493557,4.447767269985878,4.447569389804225,4.447370097888417,4.447115493344143,4.44693096720793,4.446677570071738,4.446652096243872,4.446545136157593,4.446518649136803,4.446446274887845,4.446234064837054,4.4460254097566585,4.445923171961646,4.445921250181402,4.445729241009359,4.445519813347084,4.445439827862965,4.445368306368568,4.445314317515152,4.444790487546421,4.44470500393784,4.444543320728101,4.444293723031102,4.444101191418543,4.443772607432974,4.443645121732197,4.4435841655321475,4.443414896520271,4.443111572433843,4.443072090747631,4.442921079292969,4.4428967235988654,4.442861683856517,4.442819390209711,4.442808333966675,4.4426431226926475,4.442486874491292,4.442432353309435,4.4423422790513465,4.442243213561824,4.4419874975217635,4.441942875085954,4.441656291282106,4.441580202022622,4.441578444732679,4.441423717988515,4.441338615973505,4.441095754318552,4.440910717977422,4.440830936256564,4.440812895041969,4.440771187525368,4.440649497886778,4.440629305185629,4.440342238951741,4.439861641695793,4.439830246575839,4.439718970779351,4.439544660358744,4.439522029660178,4.439396543426677,4.439155164169555,4.439131119623099,4.438935361457976,4.438751101352121,4.438342546587252,4.43824257740682,4.437839970553647,4.437619986088706,4.437593110993049,4.437397486109243,4.437268303674013,4.437192866950471,4.436904837769511,4.436879610745895,4.436767197145881,4.436750944732194,4.436706482248335,4.436683290942288,4.436586775018469,4.436585274557626,4.436455306058298,4.436227086062504,4.436150417132799,4.435940824151406,4.435754342838674,4.435576052310916,4.435552890606017,4.435373604877765,4.435229652218207,4.43513071806308,4.434893368797751,4.4348618778835736,4.43472443356536,4.434702665193194,4.434606202517381,4.434376740458617,4.434174585901663,4.434031253352077,4.434009028960702,4.433994932060149,4.433976105218413,4.433247175478921,4.433081660780098,4.432952535094192,4.432947299347436,4.432801255265526,4.432761240290113,4.432397203249328,4.4323024666269335,4.432152899400065,4.431976504100979,4.431931327508156,4.431719086581054,4.431541169490809,4.431410433302947,4.431080725717563,4.430874257654664,4.430648435967533,4.430504808529104,4.430458387183629,4.43037377194919,4.43002607284103,4.43001320150308,4.430007137561084,4.429980175962774,4.429915077068782,4.429868274510899,4.42973767489759,4.429735088393346,4.42972063552891,4.429715899079541,4.429664675794063,4.429453889717166,4.4294513257902315,4.429226673962281,4.42917277832141,4.4290965199195105,4.428988262207786,4.42878917588539,4.428751891520595,4.428551379677808,4.428445983759994,4.428290334283791,4.428286758056204,4.428253685763591,4.428242617833454,4.428170128968939,4.428160825711753,4.42815292615858,4.4280994244709255,4.42796332536134,4.427840549114301,4.427662682031622,4.427609866087123,4.4275529292004,4.427434691744511,4.4272140874532875,4.4271666967905166,4.4268768014531545,4.426700694435294,4.426672337077514,4.426276975567741,4.425797697081956,4.425664337914148,4.42553374714716,4.425472129670744,4.4254471668103506,4.425444598928262,4.425433603658413,4.425314169124879,4.425309751397303,4.425187062371293,4.424952775869011,4.424751122001498,4.424637157959359,4.424549392886158,4.424536458369022,4.424508457973758,4.424471510989952,4.423624892025714,4.423522074622566,4.423520886014749,4.4235023502657205,4.423446671682043,4.4234376059255345,4.423184068799085,4.423095537732413,4.422944788750091,4.422805944941757,4.422710026631105,4.4226958497263205,4.42267204758672,4.4226663253516465,4.422615537175888,4.422555259183039,4.422177815619926,4.42193928514125,4.421872190981006,4.42181822595185,4.421777456479198,4.421625351983076,4.421447027070738,4.421389343624582,4.421201726255251,4.421196026546938,4.421055603821355,4.420808971671108,4.420483312299853,4.420453474167303,4.420309479733666,4.420211308233937,4.420108350704514,4.419952344333805,4.419860776966299,4.4198453358618055,4.419838882180992,4.419711284461522,4.419672919364769,4.419645795276026,4.4196173811169635,4.41953528912465,4.419431029993407,4.419411833109645,4.419376400196747,4.419184158635768,4.419162124457093,4.419008469726252,4.41887088252037,4.418857458381861,4.418819195519397,4.41862180204642,4.418577304714327,4.4184865923657535,4.418442104275748,4.41842125417133,4.418389010734361,4.418363381949115,4.418350718467419,4.418279467621691,4.4182680827535155,4.418231155412253,4.418109124333695,4.418001614951568,4.417990832977503,4.417869836558237,4.41761328855679,4.417543513899206,4.417442255217474,4.416773596570327,4.416682506532444,4.416549660527776,4.416543966639021,4.416419970750515,4.416409312105765,4.416402326144705,4.416253750633585,4.416193040225174,4.416166505083777,4.416136044489293,4.416055024455919,4.415949538454711,4.415919343602394,4.415917436368374,4.415679094277569,4.415555323511623,4.4154768464579695,4.415475210934684,4.415290515461627,4.415143965957,4.414948056361292,4.414485687190659,4.414450718479695,4.4141819419200266,4.413999995359307,4.413986583149257,4.413704364938816,4.4134698314915095,4.41342600380494,4.413418955087654,4.413404942270318,4.413346613053172,4.41319812826114,4.413124682077894,4.413051511581037,4.412996249920966,4.412948364070085,4.412536327467792,4.412479058471505,4.412363106148538,4.412278001738147,4.412082152295891,4.411925087546275,4.411513316149863,4.411509115779195,4.411493330578897,4.411399905344052,4.411397653087508,4.411051877973646,4.410922565132101,4.410751915464622,4.41072531086387,4.4106814650958075,4.41058616436384,4.410490828011311,4.4101434531430135,4.41003835674125,4.409975573507681,4.409815743385917,4.40956173142571,4.409458305576134,4.40945564363695,4.409441682363978,4.409273172672942,4.409259078472724,4.409198154477077,4.409164528494076,4.408748340266749,4.408738659831093,4.408618488778468,4.4085198084787045,4.408138920732235,4.4081338184420344,4.408077542485107,4.407782709860955,4.407750309795508,4.407736673152359,4.407678769872997,4.407621245511811,4.4074337314379886,4.406883144872832,4.40682719922396,4.406694095734495,4.406520441278637,4.4063370740132,4.406201866156968,4.406143864680509,4.406020733265796,4.405995122515777,4.405859431372194,4.405659849377576,4.4056278664981825,4.405115739876219,4.404717489104627,4.404508112684751,4.404393837167386,4.404274523293756,4.4042219785852605,4.404174866406001,4.403933153500686,4.403809086212629,4.403721601163798,4.403499701985413,4.403436156496511,4.403346236498684,4.4029905516904915,4.402928698511292,4.4029047077304115,4.402872632779618,4.402855496403734,4.402765091598684,4.40267676936982,4.402630035200285,4.402491666103341,4.402354785254535,4.4023074202514385,4.4020909807651964,4.40185244920986,4.401829288796509,4.401689487455982,4.401673364679747,4.401460178134535,4.401423167138829,4.4004749687348115,4.40044850585993,4.40044725289186,4.399964585403619,4.399387485539341,4.398807343682856,4.398801201861462,4.398771932869134,4.39848799894552,4.398455336385566,4.398377616530124,4.398305573225119,4.3982816713925805,4.398266180987872,4.398254132909966,4.398228240209759,4.3980609381978955,4.397782448808376,4.397202945839311,4.3971982159906755,4.396974220977578,4.396641075710605,4.396541861712786,4.396239209611574,4.396136291140393,4.395739668519979,4.3956870984052845,4.395462240758322,4.394870888993742,4.394783536402017,4.39475751017841,4.394741227581506,4.394544303321996,4.394238592212536,4.394168825384421,4.394035818769693,4.39377539363573,4.393763366008123,4.39356060489965,4.393490468821854,4.393376382679454,4.393042417177574,4.392844134083121,4.392659769966763,4.392583551281189,4.39238794246429,4.392341129688616,4.3921550446544195,4.392044477038872,4.391900498620942,4.39174966473957,4.391469887447026,4.391225941559326,4.391139942541201,4.391056315626219,4.390957890113665,4.390769747696663,4.390632276112984,4.390574866051253,4.390528671555112,4.39030245902386,4.3901730618541235,4.390089230598176,4.390074142176254,4.389688397087702,4.389403750347895,4.389196714191161,4.388886262744906,4.388687316724567,4.388575892114424,4.388500982968885,4.388486970793512,4.388420296172333,4.387800905817722,4.387778212075934,4.387696671607745,4.387671962131361,4.3875703834274935,4.387460925094672,4.38722185409099,4.387169528284098,4.386932723178227,4.386852236400126,4.3867472573556965,4.386712112669989,4.386678229767438,4.386632396846813,4.386621397067671,4.386613718913335,4.385930794734284,4.385906551175941,4.385877535912558,4.385767705965867,4.38547406053512,4.38545191970252,4.38536422069393,4.385297060870491,4.385010168355719,4.384658261961899,4.384536818920271,4.384489686432959,4.384477962000632,4.384454943293769,4.38441606194686,4.384397025712333,4.384229511935975,4.384209534565274,4.384193978758184,4.384000523494111,4.383732007732088,4.383629123313468,4.383045332274589,4.382937952439354,4.3828550941117195,4.382705527211711,4.382621316099571,4.382585747030649,4.38212239754051,4.382071194042151,4.382054155999271,4.381924071326689,4.381698776213257,4.381368684071175,4.381064014326249,4.381027722532783,4.381001345251181,4.380808189131732,4.380506092301465,4.380386273162924,4.380251397876024,4.379809725698597,4.379701358278376,4.379686953807419,4.379468771807151,4.3794589939675435,4.379437149691212,4.379386970362993,4.379236506100074,4.3790971236102205,4.379035196384342,4.378916507986056,4.378866671411019,4.378587868419294,4.378149637395958,4.378024656305484,4.377796279045237,4.377772998107908,4.377543060124352,4.37754116183209,4.377435263850551,4.37735191894854,4.377326670052715,4.377277884879066,4.376431044898813,4.375851734173867,4.375847007740364,4.375650542214408,4.375562314988859,4.374625209796324,4.374328515173665,4.374240789103055,4.373854727677907,4.373786514460403,4.373552976271358,4.373426819429627,4.3734117490746405,4.373182134130816,4.373027420119048,4.372938265359215,4.37276041493,4.372661068756808,4.372551439709881,4.372022974187243,4.371989448342916,4.371928214075375,4.371784368864056,4.371667184645652,4.37133869730862,4.371049935620064,4.370588353546631,4.370582291137443,4.370390639641951,4.37028706439648,4.370142853630651,4.37012879290494,4.369837592573202,4.369511696126674,4.369460153065397,4.369175081232337,4.36852660088041,4.368508333316379,4.368504316137212,4.3684629634142595,4.368275165090915,4.368242058597199,4.368070505944841,4.367816507781871,4.36738726163149,4.367131183644412,4.367087955972792,4.367082756800298,4.366720679350162,4.366521043796562,4.366109340965896,4.3657340522263155,4.365693571510244,4.365314203762001,4.364693940473649,4.3645455634464465,4.364527471327572,4.36427051447602,4.3641876442413725,4.363836093737256,4.3637331238391175,4.36370642697955,4.3637061234321095,4.363698324764726,4.363503898169648,4.3633241917539065,4.363089648585055,4.362993805311221,4.362426046261008,4.36218947428436,4.362167524135819,4.362069402415969,4.362033943924551,4.361752754939637,4.361274986480662,4.361208021977809,4.359779656544933,4.359695999950967,4.359145198993436,4.359133661545027,4.359022292788863,4.35868937903558,4.358282631315623,4.358034615040718,4.357851721104584,4.357670845676225,4.357644962693752,4.35698504192338,4.356905135890856,4.35675410106333,4.35673879812999,4.356374463747422,4.356337723387517,4.356231723746932,4.356108094057487,4.355633231489182,4.355260106846815,4.3548945539959885,4.354508548194055,4.353803164252082,4.353579494134054,4.353448988628148,4.353297669812953,4.35300417456575,4.3529477141719095,4.352824037843998,4.352713916360295,4.352712411492678,4.351843164168941,4.351825825676868,4.351605311705779,4.351523170243874,4.351123884471263,4.351032658471717,4.3509747993858925,4.350467341980632,4.350276149663075,4.349971048009727,4.349685185673758,4.348777929406392,4.348754811354359,4.348597247296873,4.347926847542515,4.347171746327488,4.347140280565264,4.347089622147041,4.347036031997552,4.346923286647932,4.346919118148471,4.3468792475569735,4.346721943499236,4.346525932262432,4.346378181316022,4.34603073020166,4.346006108877918,4.34580254233161,4.3457930442320105,4.345767010821111,4.345635001607958,4.345561370931413,4.3443664501303125,4.344161937076981,4.3441357060889665,4.344131210422394,4.344060112460748,4.343515135390108,4.343227725333302,4.343222438358877,4.343182282668033,4.3430533043754815,4.343030988373044,4.342759343506438,4.341943789319112,4.34181616259417,4.341466771389919,4.341410352586551,4.340968977000038,4.340193317460076,4.340024253530368,4.339689230704536,4.339503951440888,4.33931834706985,4.338718308399482,4.338478391636522,4.338236608317984,4.337955821794019,4.3373112690121545,4.337072376163197,4.336948133223031,4.33691519093652,4.336533196378896,4.336110385386399,4.335476357246112,4.334794483163225,4.334787157874514,4.334590943257083,4.333798263285548,4.333701473077152,4.333428733257903,4.333183464502948,4.332928594599021,4.3324911523617695,4.33234359186395,4.332320678454911,4.3322417455071065,4.33124540252084,4.330938317591544,4.330675269872126,4.330138153668229,4.329600212110431,4.329486371004056,4.329180306773717,4.329107343112507,4.329005432826878,4.328742779417582,4.3286028483404575,4.328564556672351,4.328505124011593,4.328319390115007,4.328135346831199,4.327816893229715,4.327547580121679,4.326853301219459,4.325614469798171,4.325595584292983,4.324933601124175,4.324778569283856,4.324577604780874,4.324274849736459,4.32398716052353,4.323924903682729,4.323726106587574,4.3230458065262045,4.322903419466284,4.322533079842499,4.322316835322191,4.322181586283657,4.321954344000049,4.321931506465104,4.321850082896617,4.3218149549255,4.321481022615534,4.321110085931436,4.32090177187668,4.320566265519477,4.320458802844892,4.320303998583652,4.3202958464628,4.320132686216915,4.320052667073399,4.320023164479896,4.3193034736686045,4.318103771826899,4.317859148014294,4.317463103564709,4.317288552866224,4.316499896605778,4.316262147835488,4.3160279527006615,4.315829013783128,4.315341100125135,4.315133517814908,4.314738677107093,4.314568432050231,4.314290798768055,4.31394266308067,4.312894927228665,4.3127769914289935,4.3127170288711225,4.312554033878601,4.3125196311519405,4.312449389085462,4.311276559307016,4.311231881751022,4.310458071095781,4.308345116275511,4.3080326612304125,4.30800006642532,4.307941990265041,4.307931820073797,4.3068513496898175,4.3062301875817095,4.306155879102531,4.306135911730453,4.305654192029255,4.305590992821442,4.3051570790308995,4.304971859298591,4.304925896006451,4.304474705867181,4.303838968403127,4.30365233990517,4.303535154844401,4.303466661502863,4.303241283327641,4.3023079622013505,4.301777617122219,4.301502622108304,4.301413671571637,4.301161355645615,4.301021489954093,4.300927606745656,4.300516037939105,4.299732684719564,4.298500558513364,4.298328812291584,4.296602833218628,4.296583157239464,4.296290308635663,4.29604375616084,4.295946710934711,4.295477143975039,4.295211852817484,4.295185649213422,4.294743145567102,4.29359140397101,4.292585055197694,4.292264983788817,4.290699440590193,4.288135360242307,4.28715856146886,4.286833773223523,4.286725600818186,4.285233645371881,4.285074235936175,4.284873376158088,4.284350989574947,4.283494783346942,4.283460920870424,4.2834457560315435,4.283099486293289,4.282377447992716,4.281964397322591,4.279083541648024,4.278600641587479,4.278373097374658,4.277903629791138,4.27621231803816,4.275221647538803,4.275141401504436,4.274446462266537,4.273536292955908,4.272890719621006,4.2723725637878545,4.272218251327935,4.271854629488647,4.271439769972539,4.271000704830014,4.270361255461194,4.270325734332662,4.269241407562437,4.268747230044463,4.268197439697473,4.2681724595517725,4.266076579775152,4.264237149277642,4.263538812757236,4.2601053795554265,4.259365263538917,4.258765459748625,4.258529013450905,4.2572648732530585,4.255593322144454,4.255589775196035,4.254931370361208,4.254408494040568,4.254271221845514,4.2510356539877145,4.250652249288008,4.2503329311282805,4.248419499437323,4.245760404455034,4.245240357382002,4.245172591338024,4.242884837505284,4.242252024656055,4.239545870454949,4.23913535012212,4.2389514003177045,4.237983401396916,4.237972810841405,4.236904259526789,4.236729304401054,4.2349899737194345,4.2335509195036956,4.231974113648172,4.231803380878393,4.230570312236314,4.23037545610869,4.230241334846478,4.229950262533862,4.229924496958959,4.229128154682795,4.228729967445382,4.22861443792262,4.2272841442708495,4.2260454225839315,4.225654081411956,4.224079223352562,4.223166671524693,4.221028782286022,4.220248452707882,4.218326069309371,4.218301122242776,4.217795259871315,4.215503731850876,4.2140621673118215,4.2113897712003325,4.209634003662718,4.2081110169343585,4.20743120965764,4.2061208114414255,4.205142159206138,4.203592286851282,4.20304479994566,4.199332921828981,4.199239626055855,4.199178497736598,4.198655059653589,4.19516713131942,4.19489362321243,4.191654760609316,4.1846898092352145,4.183577311349951,4.180058124776762,4.1705019968343695,4.165745110860273,4.161824749011178,4.159006208930932,4.158506938257835,4.157906094333628,4.154079892501016,4.151567093844733,4.149393489359127,4.141922128861503,4.137620463858713,4.128904064713712,4.1249088837490175,4.1217884479942875,4.116232282506613,4.11433795929562,4.107943321802024,4.105867232243005,4.103092564153183,4.096555629238612,4.088130918616945,4.087143726140836,4.083231153888333,4.069750955372897,4.0545047628314,4.054469827362429,4.047079702494803,4.035111503402646,4.033879536563406,4.030604050237726,4.021181729751405,4.016369977075182,4.01277587236632,4.006775717946936,3.9985068990277104,3.994641681177192,3.9875032917842694,3.974902872985117,3.9731141758088415,3.9726469101614756,3.965423241264796,3.9586825122046356,3.9533174338471144,3.947579414709397,3.9459774408170327,3.9430997356995965,3.9395639265611977,3.9360255451570967,3.9358313921742023,3.9283892411369696,3.9271940831759125,3.9193710591612065,3.9181688889286996,3.9055756724462363,3.9011703290834348,3.8921293522134466,3.889950075606399,3.889331620891233,3.888767098029756,3.8879585007278967,3.885591790177411,3.875928160974946,3.875732143614263,3.87439185000932,3.8735385286196413,3.8709366728421584,3.8703772831507384,3.869305063083453,3.865246647824857,3.8641455824569615,3.8640709086088663,3.8628851632974324,3.860198052892653,3.8572299687342855,3.8490320777764193,3.8344678631464224,3.8320659673371877,3.829205521920393,3.826638115254195,3.820274567807335,3.814580737979186,3.8021879594811674,3.7934075955184805,3.7886656631679587,3.788331197510142,3.7876345413363586,3.7863170578543643,3.7807512377832606,3.7776527754280633,3.723223992176554,3.715668795211009,3.6102940148176574,3.3697359675840657,3.18593624298476],\"yaxis\":\"y5\",\"type\":\"scattergl\"}],                        {\"template\":{\"data\":{\"histogram2dcontour\":[{\"type\":\"histogram2dcontour\",\"colorbar\":{\"outlinewidth\":0,\"ticks\":\"\"},\"colorscale\":[[0.0,\"#0d0887\"],[0.1111111111111111,\"#46039f\"],[0.2222222222222222,\"#7201a8\"],[0.3333333333333333,\"#9c179e\"],[0.4444444444444444,\"#bd3786\"],[0.5555555555555556,\"#d8576b\"],[0.6666666666666666,\"#ed7953\"],[0.7777777777777778,\"#fb9f3a\"],[0.8888888888888888,\"#fdca26\"],[1.0,\"#f0f921\"]]}],\"choropleth\":[{\"type\":\"choropleth\",\"colorbar\":{\"outlinewidth\":0,\"ticks\":\"\"}}],\"histogram2d\":[{\"type\":\"histogram2d\",\"colorbar\":{\"outlinewidth\":0,\"ticks\":\"\"},\"colorscale\":[[0.0,\"#0d0887\"],[0.1111111111111111,\"#46039f\"],[0.2222222222222222,\"#7201a8\"],[0.3333333333333333,\"#9c179e\"],[0.4444444444444444,\"#bd3786\"],[0.5555555555555556,\"#d8576b\"],[0.6666666666666666,\"#ed7953\"],[0.7777777777777778,\"#fb9f3a\"],[0.8888888888888888,\"#fdca26\"],[1.0,\"#f0f921\"]]}],\"heatmap\":[{\"type\":\"heatmap\",\"colorbar\":{\"outlinewidth\":0,\"ticks\":\"\"},\"colorscale\":[[0.0,\"#0d0887\"],[0.1111111111111111,\"#46039f\"],[0.2222222222222222,\"#7201a8\"],[0.3333333333333333,\"#9c179e\"],[0.4444444444444444,\"#bd3786\"],[0.5555555555555556,\"#d8576b\"],[0.6666666666666666,\"#ed7953\"],[0.7777777777777778,\"#fb9f3a\"],[0.8888888888888888,\"#fdca26\"],[1.0,\"#f0f921\"]]}],\"heatmapgl\":[{\"type\":\"heatmapgl\",\"colorbar\":{\"outlinewidth\":0,\"ticks\":\"\"},\"colorscale\":[[0.0,\"#0d0887\"],[0.1111111111111111,\"#46039f\"],[0.2222222222222222,\"#7201a8\"],[0.3333333333333333,\"#9c179e\"],[0.4444444444444444,\"#bd3786\"],[0.5555555555555556,\"#d8576b\"],[0.6666666666666666,\"#ed7953\"],[0.7777777777777778,\"#fb9f3a\"],[0.8888888888888888,\"#fdca26\"],[1.0,\"#f0f921\"]]}],\"contourcarpet\":[{\"type\":\"contourcarpet\",\"colorbar\":{\"outlinewidth\":0,\"ticks\":\"\"}}],\"contour\":[{\"type\":\"contour\",\"colorbar\":{\"outlinewidth\":0,\"ticks\":\"\"},\"colorscale\":[[0.0,\"#0d0887\"],[0.1111111111111111,\"#46039f\"],[0.2222222222222222,\"#7201a8\"],[0.3333333333333333,\"#9c179e\"],[0.4444444444444444,\"#bd3786\"],[0.5555555555555556,\"#d8576b\"],[0.6666666666666666,\"#ed7953\"],[0.7777777777777778,\"#fb9f3a\"],[0.8888888888888888,\"#fdca26\"],[1.0,\"#f0f921\"]]}],\"surface\":[{\"type\":\"surface\",\"colorbar\":{\"outlinewidth\":0,\"ticks\":\"\"},\"colorscale\":[[0.0,\"#0d0887\"],[0.1111111111111111,\"#46039f\"],[0.2222222222222222,\"#7201a8\"],[0.3333333333333333,\"#9c179e\"],[0.4444444444444444,\"#bd3786\"],[0.5555555555555556,\"#d8576b\"],[0.6666666666666666,\"#ed7953\"],[0.7777777777777778,\"#fb9f3a\"],[0.8888888888888888,\"#fdca26\"],[1.0,\"#f0f921\"]]}],\"mesh3d\":[{\"type\":\"mesh3d\",\"colorbar\":{\"outlinewidth\":0,\"ticks\":\"\"}}],\"scatter\":[{\"fillpattern\":{\"fillmode\":\"overlay\",\"size\":10,\"solidity\":0.2},\"type\":\"scatter\"}],\"parcoords\":[{\"type\":\"parcoords\",\"line\":{\"colorbar\":{\"outlinewidth\":0,\"ticks\":\"\"}}}],\"scatterpolargl\":[{\"type\":\"scatterpolargl\",\"marker\":{\"colorbar\":{\"outlinewidth\":0,\"ticks\":\"\"}}}],\"bar\":[{\"error_x\":{\"color\":\"#2a3f5f\"},\"error_y\":{\"color\":\"#2a3f5f\"},\"marker\":{\"line\":{\"color\":\"#E5ECF6\",\"width\":0.5},\"pattern\":{\"fillmode\":\"overlay\",\"size\":10,\"solidity\":0.2}},\"type\":\"bar\"}],\"scattergeo\":[{\"type\":\"scattergeo\",\"marker\":{\"colorbar\":{\"outlinewidth\":0,\"ticks\":\"\"}}}],\"scatterpolar\":[{\"type\":\"scatterpolar\",\"marker\":{\"colorbar\":{\"outlinewidth\":0,\"ticks\":\"\"}}}],\"histogram\":[{\"marker\":{\"pattern\":{\"fillmode\":\"overlay\",\"size\":10,\"solidity\":0.2}},\"type\":\"histogram\"}],\"scattergl\":[{\"type\":\"scattergl\",\"marker\":{\"colorbar\":{\"outlinewidth\":0,\"ticks\":\"\"}}}],\"scatter3d\":[{\"type\":\"scatter3d\",\"line\":{\"colorbar\":{\"outlinewidth\":0,\"ticks\":\"\"}},\"marker\":{\"colorbar\":{\"outlinewidth\":0,\"ticks\":\"\"}}}],\"scattermapbox\":[{\"type\":\"scattermapbox\",\"marker\":{\"colorbar\":{\"outlinewidth\":0,\"ticks\":\"\"}}}],\"scatterternary\":[{\"type\":\"scatterternary\",\"marker\":{\"colorbar\":{\"outlinewidth\":0,\"ticks\":\"\"}}}],\"scattercarpet\":[{\"type\":\"scattercarpet\",\"marker\":{\"colorbar\":{\"outlinewidth\":0,\"ticks\":\"\"}}}],\"carpet\":[{\"aaxis\":{\"endlinecolor\":\"#2a3f5f\",\"gridcolor\":\"white\",\"linecolor\":\"white\",\"minorgridcolor\":\"white\",\"startlinecolor\":\"#2a3f5f\"},\"baxis\":{\"endlinecolor\":\"#2a3f5f\",\"gridcolor\":\"white\",\"linecolor\":\"white\",\"minorgridcolor\":\"white\",\"startlinecolor\":\"#2a3f5f\"},\"type\":\"carpet\"}],\"table\":[{\"cells\":{\"fill\":{\"color\":\"#EBF0F8\"},\"line\":{\"color\":\"white\"}},\"header\":{\"fill\":{\"color\":\"#C8D4E3\"},\"line\":{\"color\":\"white\"}},\"type\":\"table\"}],\"barpolar\":[{\"marker\":{\"line\":{\"color\":\"#E5ECF6\",\"width\":0.5},\"pattern\":{\"fillmode\":\"overlay\",\"size\":10,\"solidity\":0.2}},\"type\":\"barpolar\"}],\"pie\":[{\"automargin\":true,\"type\":\"pie\"}]},\"layout\":{\"autotypenumbers\":\"strict\",\"colorway\":[\"#636efa\",\"#EF553B\",\"#00cc96\",\"#ab63fa\",\"#FFA15A\",\"#19d3f3\",\"#FF6692\",\"#B6E880\",\"#FF97FF\",\"#FECB52\"],\"font\":{\"color\":\"#2a3f5f\"},\"hovermode\":\"closest\",\"hoverlabel\":{\"align\":\"left\"},\"paper_bgcolor\":\"white\",\"plot_bgcolor\":\"#E5ECF6\",\"polar\":{\"bgcolor\":\"#E5ECF6\",\"angularaxis\":{\"gridcolor\":\"white\",\"linecolor\":\"white\",\"ticks\":\"\"},\"radialaxis\":{\"gridcolor\":\"white\",\"linecolor\":\"white\",\"ticks\":\"\"}},\"ternary\":{\"bgcolor\":\"#E5ECF6\",\"aaxis\":{\"gridcolor\":\"white\",\"linecolor\":\"white\",\"ticks\":\"\"},\"baxis\":{\"gridcolor\":\"white\",\"linecolor\":\"white\",\"ticks\":\"\"},\"caxis\":{\"gridcolor\":\"white\",\"linecolor\":\"white\",\"ticks\":\"\"}},\"coloraxis\":{\"colorbar\":{\"outlinewidth\":0,\"ticks\":\"\"}},\"colorscale\":{\"sequential\":[[0.0,\"#0d0887\"],[0.1111111111111111,\"#46039f\"],[0.2222222222222222,\"#7201a8\"],[0.3333333333333333,\"#9c179e\"],[0.4444444444444444,\"#bd3786\"],[0.5555555555555556,\"#d8576b\"],[0.6666666666666666,\"#ed7953\"],[0.7777777777777778,\"#fb9f3a\"],[0.8888888888888888,\"#fdca26\"],[1.0,\"#f0f921\"]],\"sequentialminus\":[[0.0,\"#0d0887\"],[0.1111111111111111,\"#46039f\"],[0.2222222222222222,\"#7201a8\"],[0.3333333333333333,\"#9c179e\"],[0.4444444444444444,\"#bd3786\"],[0.5555555555555556,\"#d8576b\"],[0.6666666666666666,\"#ed7953\"],[0.7777777777777778,\"#fb9f3a\"],[0.8888888888888888,\"#fdca26\"],[1.0,\"#f0f921\"]],\"diverging\":[[0,\"#8e0152\"],[0.1,\"#c51b7d\"],[0.2,\"#de77ae\"],[0.3,\"#f1b6da\"],[0.4,\"#fde0ef\"],[0.5,\"#f7f7f7\"],[0.6,\"#e6f5d0\"],[0.7,\"#b8e186\"],[0.8,\"#7fbc41\"],[0.9,\"#4d9221\"],[1,\"#276419\"]]},\"xaxis\":{\"gridcolor\":\"white\",\"linecolor\":\"white\",\"ticks\":\"\",\"title\":{\"standoff\":15},\"zerolinecolor\":\"white\",\"automargin\":true,\"zerolinewidth\":2},\"yaxis\":{\"gridcolor\":\"white\",\"linecolor\":\"white\",\"ticks\":\"\",\"title\":{\"standoff\":15},\"zerolinecolor\":\"white\",\"automargin\":true,\"zerolinewidth\":2},\"scene\":{\"xaxis\":{\"backgroundcolor\":\"#E5ECF6\",\"gridcolor\":\"white\",\"linecolor\":\"white\",\"showbackground\":true,\"ticks\":\"\",\"zerolinecolor\":\"white\",\"gridwidth\":2},\"yaxis\":{\"backgroundcolor\":\"#E5ECF6\",\"gridcolor\":\"white\",\"linecolor\":\"white\",\"showbackground\":true,\"ticks\":\"\",\"zerolinecolor\":\"white\",\"gridwidth\":2},\"zaxis\":{\"backgroundcolor\":\"#E5ECF6\",\"gridcolor\":\"white\",\"linecolor\":\"white\",\"showbackground\":true,\"ticks\":\"\",\"zerolinecolor\":\"white\",\"gridwidth\":2}},\"shapedefaults\":{\"line\":{\"color\":\"#2a3f5f\"}},\"annotationdefaults\":{\"arrowcolor\":\"#2a3f5f\",\"arrowhead\":0,\"arrowwidth\":1},\"geo\":{\"bgcolor\":\"white\",\"landcolor\":\"#E5ECF6\",\"subunitcolor\":\"white\",\"showland\":true,\"showlakes\":true,\"lakecolor\":\"white\"},\"title\":{\"x\":0.05},\"mapbox\":{\"style\":\"light\"}}},\"xaxis\":{\"anchor\":\"y\",\"domain\":[0.0,0.168]},\"yaxis\":{\"anchor\":\"x\",\"domain\":[0.0,1.0]},\"xaxis2\":{\"anchor\":\"y2\",\"domain\":[0.20800000000000002,0.376]},\"yaxis2\":{\"anchor\":\"x2\",\"domain\":[0.0,1.0]},\"xaxis3\":{\"anchor\":\"y3\",\"domain\":[0.41600000000000004,0.5840000000000001]},\"yaxis3\":{\"anchor\":\"x3\",\"domain\":[0.0,1.0]},\"xaxis4\":{\"anchor\":\"y4\",\"domain\":[0.624,0.792]},\"yaxis4\":{\"anchor\":\"x4\",\"domain\":[0.0,1.0]},\"xaxis5\":{\"anchor\":\"y5\",\"domain\":[0.8320000000000001,1.0]},\"yaxis5\":{\"anchor\":\"x5\",\"domain\":[0.0,1.0]},\"annotations\":[{\"font\":{\"size\":16},\"showarrow\":false,\"text\":\"Component1\",\"x\":0.084,\"xanchor\":\"center\",\"xref\":\"paper\",\"y\":1.0,\"yanchor\":\"bottom\",\"yref\":\"paper\"},{\"font\":{\"size\":16},\"showarrow\":false,\"text\":\"Component2\",\"x\":0.29200000000000004,\"xanchor\":\"center\",\"xref\":\"paper\",\"y\":1.0,\"yanchor\":\"bottom\",\"yref\":\"paper\"},{\"font\":{\"size\":16},\"showarrow\":false,\"text\":\"Component3\",\"x\":0.5,\"xanchor\":\"center\",\"xref\":\"paper\",\"y\":1.0,\"yanchor\":\"bottom\",\"yref\":\"paper\"},{\"font\":{\"size\":16},\"showarrow\":false,\"text\":\"Component4\",\"x\":0.708,\"xanchor\":\"center\",\"xref\":\"paper\",\"y\":1.0,\"yanchor\":\"bottom\",\"yref\":\"paper\"},{\"font\":{\"size\":16},\"showarrow\":false,\"text\":\"Component5\",\"x\":0.916,\"xanchor\":\"center\",\"xref\":\"paper\",\"y\":1.0,\"yanchor\":\"bottom\",\"yref\":\"paper\"}],\"margin\":{\"l\":5,\"r\":5,\"t\":30,\"b\":5},\"height\":300,\"width\":1500},                        {\"responsive\": true}                    ).then(function(){\n",
              "                            \n",
              "var gd = document.getElementById('9ddd95c9-41fa-4808-a035-bc4fde928ea0');\n",
              "var x = new MutationObserver(function (mutations, observer) {{\n",
              "        var display = window.getComputedStyle(gd).display;\n",
              "        if (!display || display === 'none') {{\n",
              "            console.log([gd, 'removed!']);\n",
              "            Plotly.purge(gd);\n",
              "            observer.disconnect();\n",
              "        }}\n",
              "}});\n",
              "\n",
              "// Listen for the removal of the full notebook cells\n",
              "var notebookContainer = gd.closest('#notebook-container');\n",
              "if (notebookContainer) {{\n",
              "    x.observe(notebookContainer, {childList: true});\n",
              "}}\n",
              "\n",
              "// Listen for the clearing of the current output cell\n",
              "var outputEl = gd.closest('.output');\n",
              "if (outputEl) {{\n",
              "    x.observe(outputEl, {childList: true});\n",
              "}}\n",
              "\n",
              "                        })                };                            </script>        </div>\n",
              "</body>\n",
              "</html>"
            ]
          },
          "metadata": {}
        }
      ]
    },
    {
      "cell_type": "markdown",
      "metadata": {
        "id": "us7UeOKOGBEY"
      },
      "source": [
        "## NMF"
      ]
    },
    {
      "cell_type": "code",
      "metadata": {
        "id": "n29Q_51RGFUD"
      },
      "source": [
        "nfm_stations = NMF(n_components=20, random_state=6011)"
      ],
      "execution_count": null,
      "outputs": []
    },
    {
      "cell_type": "code",
      "metadata": {
        "id": "ITzgLXUmGFUD"
      },
      "source": [
        "nfm_stations.fit(X_train)"
      ],
      "execution_count": null,
      "outputs": []
    },
    {
      "cell_type": "code",
      "metadata": {
        "id": "aZf9zvnNGDjE"
      },
      "source": [
        "nfm_stations.reconstruction_err_"
      ],
      "execution_count": null,
      "outputs": []
    },
    {
      "cell_type": "code",
      "metadata": {
        "id": "RuRWIRMPGDlp"
      },
      "source": [
        "projected_nfm_stations = nfm_stations.transform(X_train)\n",
        "projected_nfm_stations = pd.DataFrame(projected_nfm_stations, columns=[f'Component{i+1}' for i in range(20)])\n",
        "projected_nfm_stations.head()"
      ],
      "execution_count": null,
      "outputs": []
    },
    {
      "cell_type": "code",
      "metadata": {
        "id": "FJHBj952GDos"
      },
      "source": [
        "#fig, axes = plt.subplots( nrows=5,n_cols=1)\n",
        "fig = make_subplots( rows=1, cols=15, subplot_titles=[f'Component{i+1}' for i in range(15)],\n",
        "                    column_widths=[50 for i in range(15)], row_heights=[50 ])\n",
        "for i in range(1,15):\n",
        "  scat = px.scatter( data_frame=projected_nfm_stations, x=f'Component{i}', \n",
        "  y=y_train, color_discrete_sequence=['black'], opacity=0.3,\n",
        "   trendline='ols' )\n",
        "  fig.add_trace(scat.data[0], col=i, row=1)\n",
        "  fig.add_trace(scat.data[1], col=i, row=1)\n",
        "fig.update_layout(\n",
        "    height=300, width=2500,\n",
        "    margin=dict(l=5, r=5, t=30, b=5),\n",
        ")\n",
        "fig.show()"
      ],
      "execution_count": null,
      "outputs": []
    },
    {
      "cell_type": "markdown",
      "metadata": {
        "id": "ICkVKfzTWKa8"
      },
      "source": [
        "## PLS"
      ]
    },
    {
      "cell_type": "code",
      "metadata": {
        "id": "RrAHRaaCWM3E"
      },
      "source": [
        "from sklearn.cross_decomposition import PLSCanonical,PLSRegression"
      ],
      "execution_count": null,
      "outputs": []
    },
    {
      "cell_type": "code",
      "metadata": {
        "id": "hxfb3ew1WKa8"
      },
      "source": [
        "pls_stations = PLSRegression(n_components=20 )"
      ],
      "execution_count": null,
      "outputs": []
    },
    {
      "cell_type": "code",
      "metadata": {
        "id": "IwHV4kzQWKa9"
      },
      "source": [
        "pls_stations.fit(X_train,y_train)"
      ],
      "execution_count": null,
      "outputs": []
    },
    {
      "cell_type": "code",
      "metadata": {
        "id": "_33A80nddLTQ"
      },
      "source": [
        "pls_stations.x_scores_"
      ],
      "execution_count": null,
      "outputs": []
    },
    {
      "cell_type": "code",
      "metadata": {
        "id": "NSEoHh6AWKa9"
      },
      "source": [
        "projected_pls_stations = pls_stations.transform(X_train)\n",
        "projected_pls_stations = pd.DataFrame(projected_pls_stations, columns=[f'Component{i+1}' for i in range(20)])\n",
        "projected_pls_stations.head()"
      ],
      "execution_count": null,
      "outputs": []
    },
    {
      "cell_type": "code",
      "metadata": {
        "id": "ZEdenYhAWKa9"
      },
      "source": [
        "#fig, axes = plt.subplots( nrows=5,n_cols=1)\n",
        "fig = make_subplots( rows=1, cols=5, subplot_titles=[f'Component{i+1}' for i in range(5)],\n",
        "                    column_widths=[50 for i in range(5)], row_heights=[50 ])\n",
        "for i in range(1,6):\n",
        "\n",
        "  #PLS\n",
        "  scat3 = px.scatter( data_frame=projected_pls_stations, x=f'Component{i}', \n",
        "  y=y_train, color_discrete_sequence=['black'], opacity=0.3,\n",
        "   trendline='ols' )\n",
        "  fig.add_trace(scat3.data[0], col=i, row=1)\n",
        "  fig.add_trace(scat3.data[1], col=i, row=1)\n",
        "fig.update_layout(\n",
        "    height=300, width=1200,\n",
        "    margin=dict(l=5, r=5, t=30, b=5),\n",
        ")\n",
        "fig.show()"
      ],
      "execution_count": null,
      "outputs": []
    },
    {
      "cell_type": "markdown",
      "metadata": {
        "id": "VeLQWr5DoEJj"
      },
      "source": [
        "### Gráfica de resumen"
      ]
    },
    {
      "cell_type": "code",
      "metadata": {
        "id": "c6or2EYUoEn8"
      },
      "source": [
        "#fig, axes = plt.subplots( nrows=5,n_cols=1)\n",
        "fig = make_subplots( rows=5, cols=3, row_titles=[f'Component{i+1}' for i in range(5)],\n",
        "                     horizontal_spacing=0.01, vertical_spacing=0.01,  shared_xaxes=True,\n",
        "                     column_titles=['PCA', 'NFM', 'PLS'])\n",
        "for i in range(1,6):\n",
        "  #PCA\n",
        "  scat = px.scatter( data_frame=projected_pca_stations, x=f'Component{i}', \n",
        "  y=y_train, color_discrete_sequence=['black'], opacity=0.3,\n",
        "   trendline='ols' )\n",
        "  fig.add_trace(scat.data[0], col=1, row=i)\n",
        "  fig.add_trace(scat.data[1], col=1, row=i)\n",
        "\n",
        "  #NMF\n",
        "  scat2 = px.scatter( data_frame=projected_nfm_stations, x=f'Component{i}', \n",
        "  y=y_train, color_discrete_sequence=['black'], opacity=0.3,\n",
        "   trendline='ols' )\n",
        "  fig.add_trace(scat2.data[0], col=2, row=i)\n",
        "  fig.add_trace(scat2.data[1], col=2, row=i)\n",
        "\n",
        "  #PLS\n",
        "  scat = px.scatter( data_frame=projected_pls_stations, x=f'Component{i}', \n",
        "  y=y_train, color_discrete_sequence=['black'], opacity=0.3,\n",
        "   trendline='ols' )\n",
        "  fig.add_trace(scat.data[0], col=3, row=i)\n",
        "  fig.add_trace(scat.data[1], col=3, row=i)\n",
        "fig.update_layout(\n",
        "    height=900, width=700,\n",
        "    margin=dict(l=5, r=20, t=40, b=5),\n",
        ")\n",
        "fig.show()"
      ],
      "execution_count": null,
      "outputs": []
    },
    {
      "cell_type": "markdown",
      "metadata": {
        "id": "sxwL-GTzFYv_"
      },
      "source": [
        "## Comparando el rendimiento"
      ]
    },
    {
      "cell_type": "code",
      "metadata": {
        "id": "IAR0us8zItn-"
      },
      "source": [
        "pca_lr_pipe = Pipeline([('pca', PCA(n_components=20,random_state=6011)),\n",
        "                   ('lr', LinearRegression())])\n",
        "\n",
        "cross_val_pca  = cross_val_score(pca_lr_pipe, X_train, y_train, cv=ts_cv, scoring='neg_root_mean_squared_error')\n",
        "print(cross_val_pca*-1)\n",
        "print('=================================================')\n",
        "print('Resultado de la regresión lineal utilizando PCA')\n",
        "print(f'Media: {cross_val_pca.mean()*-1}, Std: {cross_val_pca.std()}')"
      ],
      "execution_count": null,
      "outputs": []
    },
    {
      "cell_type": "code",
      "metadata": {
        "id": "sHgGBpzHEoeL"
      },
      "source": [
        "nmf_lr_pipe = Pipeline([('nmf', NMF(n_components=20,random_state=6011)),\n",
        "                   ('lr', LinearRegression())])\n",
        "\n",
        "cross_val_nmf  = cross_val_score(nmf_lr_pipe, X_train, y_train, cv=ts_cv, scoring='neg_root_mean_squared_error')\n",
        "print(cross_val_nmf*-1)\n",
        "print('=================================================')\n",
        "print('Resultado de la regresión lineal utilizando NMF')\n",
        "print(f'Media: {cross_val_nmf.mean()*-1}, Std: {cross_val_nmf.std()}')"
      ],
      "execution_count": null,
      "outputs": []
    },
    {
      "cell_type": "code",
      "metadata": {
        "id": "yaNGnARGcNf8"
      },
      "source": [
        "from sklearn.cross_decomposition import PLSRegression"
      ],
      "execution_count": null,
      "outputs": []
    },
    {
      "cell_type": "code",
      "metadata": {
        "id": "dFkeGYFXDodS"
      },
      "source": [
        "pls_lr_pipe = Pipeline([('pls', PLSRegression(n_components=20)),])\n",
        "\n",
        "cross_val_pls  = cross_val_score(pls_lr_pipe, X_train, y_train, cv=ts_cv, scoring='neg_root_mean_squared_error')\n",
        "print(cross_val_pls*-1)\n",
        "print('=================================================')\n",
        "print('Resultado de la regresión lineal utilizando PLS')\n",
        "print(f'Media: {cross_val_pls.mean()*-1}, Std: {cross_val_pls.std()}')"
      ],
      "execution_count": null,
      "outputs": []
    },
    {
      "cell_type": "code",
      "metadata": {
        "id": "cXgpgueSedZV"
      },
      "source": [
        "comp_df = pd.DataFrame()\n",
        "comp_df['RMSE'] = np.concatenate([cross_val_pca,cross_val_nmf,cross_val_pls], axis=0)\n",
        "comp_df['RMSE'] = comp_df['RMSE'] * -1\n",
        "comp_df['Algorithm'] = np.concatenate([['PCA']*25,['NMF']*25,['PLS']*25], axis=0)\n",
        "comp_df.head()"
      ],
      "execution_count": null,
      "outputs": []
    },
    {
      "cell_type": "code",
      "metadata": {
        "id": "0tT-WAzifT9i"
      },
      "source": [
        "px.box(data_frame=comp_df, x='RMSE', y ='Algorithm', orientation='h', width=600, height=400, notched=True )"
      ],
      "execution_count": null,
      "outputs": []
    },
    {
      "cell_type": "code",
      "metadata": {
        "id": "eWTwWfN7hHnv"
      },
      "source": [],
      "execution_count": null,
      "outputs": []
    },
    {
      "cell_type": "markdown",
      "metadata": {
        "id": "TSUDZ5fmsan3"
      },
      "source": [
        "# Feature Interactions"
      ]
    },
    {
      "cell_type": "markdown",
      "metadata": {
        "id": "bNpDMIhn78Rv"
      },
      "source": [
        "## Polinomyal interactions or combinations"
      ]
    },
    {
      "cell_type": "code",
      "metadata": {
        "id": "1-4l1SIB8CUM"
      },
      "source": [
        "from sklearn.preprocessing import PolynomialFeatures"
      ],
      "execution_count": null,
      "outputs": []
    },
    {
      "cell_type": "code",
      "metadata": {
        "id": "rRUUJjGT8Cgk"
      },
      "source": [
        "X_poly = pd.DataFrame(np.arange(6).reshape(3,2),columns=['x1','x2'])\n",
        "X_poly"
      ],
      "execution_count": null,
      "outputs": []
    },
    {
      "cell_type": "code",
      "metadata": {
        "id": "YKns2ZocCw3q"
      },
      "source": [
        "poly = PolynomialFeatures(3) # interaction_only=False, include_bias=True,"
      ],
      "execution_count": null,
      "outputs": []
    },
    {
      "cell_type": "code",
      "metadata": {
        "id": "fZlf0NZZCzqK"
      },
      "source": [
        "poly_generated = poly.fit_transform(X_poly)\n",
        "poly_generated = pd.DataFrame(poly_generated, columns=poly.get_feature_names_out())\n",
        "poly_generated"
      ],
      "execution_count": null,
      "outputs": []
    },
    {
      "cell_type": "markdown",
      "metadata": {
        "id": "tRZS0YOy8CoX"
      },
      "source": [
        "## Feature crossing"
      ]
    },
    {
      "cell_type": "markdown",
      "metadata": {
        "id": "EHQdWu74-OrR"
      },
      "source": [
        "Para esta funcionalidad utilizaremos el paquete [patsy](https://patsy.readthedocs.io/en/latest/overview.html) de python para describir modelos estadísticos y construir matrices de diseño (design matrices)"
      ]
    },
    {
      "cell_type": "code",
      "metadata": {
        "id": "QD_xNDN44Zrp"
      },
      "source": [
        "from patsy import dmatrices, dmatrix"
      ],
      "execution_count": null,
      "outputs": []
    },
    {
      "cell_type": "code",
      "metadata": {
        "id": "Ve3lLvW6seK7"
      },
      "source": [
        "df_okc = pd.read_csv('data/okc_train.csv',index_col=0)\n",
        "df_okc.head()"
      ],
      "execution_count": null,
      "outputs": []
    },
    {
      "cell_type": "markdown",
      "metadata": {
        "id": "bryFMALc_-R-"
      },
      "source": [
        "$a * b$ es una abreviación de  $a + b + a:b$, y es útil para el caso común donde se desea incluir todas las interaccones entre las variables \n"
      ]
    },
    {
      "cell_type": "code",
      "metadata": {
        "id": "PkGAuPvZ8IBx"
      },
      "source": [
        "y_cross,X_cross = dmatrices('Class~C(drinks)*C(drugs)', data=df_okc,return_type='dataframe') # a * b is short-hand for a + b + a:b"
      ],
      "execution_count": null,
      "outputs": []
    },
    {
      "cell_type": "code",
      "metadata": {
        "id": "RHopv44W-5b2"
      },
      "source": [
        "X_cross.head()"
      ],
      "execution_count": null,
      "outputs": []
    },
    {
      "cell_type": "code",
      "metadata": {
        "id": "fP0pYxLJ8v7r"
      },
      "source": [
        "y_cross.head()"
      ],
      "execution_count": null,
      "outputs": []
    },
    {
      "cell_type": "code",
      "metadata": {
        "id": "U0pJjebJ9Jju"
      },
      "source": [
        "X_cross = dmatrix('C(drinks)*C(drugs)', data=df_okc,return_type='dataframe')"
      ],
      "execution_count": null,
      "outputs": []
    },
    {
      "cell_type": "code",
      "metadata": {
        "id": "IrG_MmbJ9ath"
      },
      "source": [
        "X_cross.head()"
      ],
      "execution_count": null,
      "outputs": []
    },
    {
      "cell_type": "code",
      "metadata": {
        "id": "iTEc9c3F8Mue"
      },
      "source": [],
      "execution_count": null,
      "outputs": []
    },
    {
      "cell_type": "markdown",
      "metadata": {
        "id": "JLJ1-6KFTZAg"
      },
      "source": [
        "# Non linear Featurization"
      ]
    },
    {
      "cell_type": "markdown",
      "metadata": {
        "id": "Za1zjsELTcHu"
      },
      "source": [
        "## K-means featurization\n",
        "\n",
        "Este ejemplo es parte del capítulo 7 del libro [Feature Engineering for Machine Learning](https://www.oreilly.com/library/view/feature-engineering-for/9781491953235/). El link con el código original está en el [github del libro](https://github.com/alicezheng/feature-engineering-book/blob/master/07.03-05_K-means_featurization.ipynb)."
      ]
    },
    {
      "cell_type": "code",
      "metadata": {
        "id": "YcOHCqiwTa8B"
      },
      "source": [
        "from scipy.spatial import Voronoi, voronoi_plot_2d\n",
        "from scipy.sparse import hstack\n",
        "from sklearn.cluster import KMeans\n",
        "from sklearn.datasets import make_moons\n",
        "from sklearn.preprocessing import OneHotEncoder\n",
        "from sklearn.metrics import roc_curve\n",
        "from sklearn.metrics import roc_auc_score"
      ],
      "execution_count": null,
      "outputs": []
    },
    {
      "cell_type": "code",
      "metadata": {
        "id": "TvVRIVHMBbmN"
      },
      "source": [
        "class KMeansFeaturizer:\n",
        "    \"\"\"Transforms numeric data into k-means cluster memberships.\n",
        "    \n",
        "    This transformer runs k-means on the input data and converts each data point\n",
        "    into the id of the closest cluster. If a target variable is present, it is \n",
        "    scaled and included as input to k-means in order to derive clusters that\n",
        "    obey the classification boundary as well as group similar points together.\n",
        "\n",
        "    Parameters\n",
        "    ----------\n",
        "    k: integer, optional, default 100\n",
        "        The number of clusters to group data into.\n",
        "\n",
        "    target_scale: float, [0, infty], optional, default 5.0\n",
        "        The scaling factor for the target variable. Set this to zero to ignore\n",
        "        the target. For classification problems, larger `target_scale` values \n",
        "        will produce clusters that better respect the class boundary.\n",
        "\n",
        "    random_state : integer or numpy.RandomState, optional\n",
        "        This is passed to k-means as the generator used to initialize the \n",
        "        kmeans centers. If an integer is given, it fixes the seed. Defaults to \n",
        "        the global numpy random number generator.\n",
        "\n",
        "    Attributes\n",
        "    ----------\n",
        "    cluster_centers_ : array, [k, n_features]\n",
        "        Coordinates of cluster centers. n_features does count the target column.\n",
        "    \"\"\"\n",
        "\n",
        "    def __init__(self, k=100, target_scale=5.0, random_state=None):\n",
        "        self.k = k\n",
        "        self.target_scale = target_scale\n",
        "        self.random_state = random_state\n",
        "        self.cluster_encoder = OneHotEncoder().fit(np.array(range(k)).reshape(-1,1)) # crea una columna binaria por cada cluster\n",
        "        \n",
        "    def fit(self, X, y=None):\n",
        "        \"\"\"Runs k-means on the input data and find centroids.\n",
        "\n",
        "        If no target is given (`y` is None) then run vanilla k-means on input\n",
        "        `X`. \n",
        "\n",
        "        If target `y` is given, then include the target (weighted by \n",
        "        `target_scale`) as an extra dimension for k-means clustering. In this \n",
        "        case, run k-means twice, first with the target, then an extra iteration\n",
        "        without.\n",
        "\n",
        "        After fitting, the attribute `cluster_centers_` are set to the k-means\n",
        "        centroids in the input space represented by `X`.\n",
        "\n",
        "        Parameters\n",
        "        ----------\n",
        "        X : array-like or sparse matrix, shape=(n_data_points, n_features)\n",
        "\n",
        "        y : vector of length n_data_points, optional, default None\n",
        "            If provided, will be weighted with `target_scale` and included in \n",
        "            k-means clustering as hint.\n",
        "        \"\"\"\n",
        "        if y is None:\n",
        "            # No target variable, just do plain k-means\n",
        "            km_model = KMeans(n_clusters=self.k, \n",
        "                              n_init=20, \n",
        "                              random_state=self.random_state)\n",
        "            km_model.fit(X)\n",
        "\n",
        "            self.km_model_ = km_model\n",
        "            self.cluster_centers_ = km_model.cluster_centers_\n",
        "            return self\n",
        "\n",
        "        # There is target information. Apply appropriate scaling and include\n",
        "        # into input data to k-means            \n",
        "        data_with_target = np.hstack((X, y[:,np.newaxis]*self.target_scale))\n",
        "\n",
        "        # Build a pre-training k-means model on data and target\n",
        "        km_model_pretrain = KMeans(n_clusters=self.k, \n",
        "                                   n_init=20, \n",
        "                                   random_state=self.random_state)\n",
        "        km_model_pretrain.fit(data_with_target)\n",
        "\n",
        "        # Run k-means a second time to get the clusters in the original space\n",
        "        # without target info. Initialize using centroids found in pre-training.\n",
        "        # Go through a single iteration of cluster assignment and centroid \n",
        "        # recomputation.\n",
        "        km_model = KMeans(n_clusters=self.k, \n",
        "                          init=km_model_pretrain.cluster_centers_[:,:2], \n",
        "                          n_init=1, \n",
        "                          max_iter=1)\n",
        "        km_model.fit(X)\n",
        "        \n",
        "        self.km_model = km_model\n",
        "        self.cluster_centers_ = km_model.cluster_centers_\n",
        "        return self\n",
        "        \n",
        "    def transform(self, X, y=None):\n",
        "        \"\"\"Outputs the closest cluster id for each input data point.\n",
        "\n",
        "        Parameters\n",
        "        ----------\n",
        "        X : array-like or sparse matrix, shape=(n_data_points, n_features)\n",
        "\n",
        "        y : vector of length n_data_points, optional, default None\n",
        "            Target vector is ignored even if provided.\n",
        "\n",
        "        Returns\n",
        "        -------\n",
        "        cluster_ids : array, shape[n_data_points,1]\n",
        "        \"\"\"\n",
        "        clusters = self.km_model.predict(X)\n",
        "        return self.cluster_encoder.transform(clusters.reshape(-1,1))\n",
        "    \n",
        "    def fit_transform(self, X, y=None):\n",
        "        \"\"\"Runs fit followed by transform.\n",
        "        \"\"\"\n",
        "        self.fit(X, y)\n",
        "        return self.transform(X, y)"
      ],
      "execution_count": null,
      "outputs": []
    },
    {
      "cell_type": "code",
      "metadata": {
        "id": "U_vnzwjkBwiS"
      },
      "source": [
        "seed = 6011\n",
        "training_data, training_labels = make_moons(n_samples=2000, noise=0.2, random_state=seed)"
      ],
      "execution_count": null,
      "outputs": []
    },
    {
      "cell_type": "code",
      "metadata": {
        "id": "VR1ne7HIF2le"
      },
      "source": [
        "training_data"
      ],
      "execution_count": null,
      "outputs": []
    },
    {
      "cell_type": "code",
      "metadata": {
        "id": "EneQk0UwF97G"
      },
      "source": [
        "training_labels"
      ],
      "execution_count": null,
      "outputs": []
    },
    {
      "cell_type": "code",
      "metadata": {
        "id": "qr205_XoFqpn"
      },
      "source": [
        " plt.scatter(training_data[:, 0], training_data[:, 1], c=training_labels, cmap='Set1', alpha=0.2)"
      ],
      "execution_count": null,
      "outputs": []
    },
    {
      "cell_type": "code",
      "metadata": {
        "id": "Apr3WT9oB2-D"
      },
      "source": [
        "kmf_hint = KMeansFeaturizer(k=100, target_scale=10, random_state=seed).fit(training_data, training_labels)\n",
        "kmf_no_hint = KMeansFeaturizer(k=100, target_scale=0, random_state=seed).fit(training_data, training_labels)"
      ],
      "execution_count": null,
      "outputs": []
    },
    {
      "cell_type": "code",
      "metadata": {
        "id": "2WXbOwlBB40e"
      },
      "source": [
        "def kmeans_voronoi_plot(X, y, cluster_centers, ax):\n",
        "    \"\"\"Plots the Voronoi diagram of the kmeans clusters overlayed with the data\"\"\"\n",
        "    ax.scatter(X[:, 0], X[:, 1], c=y, cmap='Set1', alpha=0.2)\n",
        "    vor = Voronoi(cluster_centers)\n",
        "    voronoi_plot_2d(vor, ax=ax, show_vertices=False, alpha=0.5)"
      ],
      "execution_count": null,
      "outputs": []
    },
    {
      "cell_type": "code",
      "metadata": {
        "id": "ebfM-dfwB7xf"
      },
      "source": [
        "fig = plt.figure(figsize=(24,10))\n",
        "ax = plt.subplot(211, aspect='equal')\n",
        "kmeans_voronoi_plot(training_data, training_labels, kmf_hint.cluster_centers_, ax)\n",
        "ax.set_title('K-Means with Target Hint')\n",
        "ax2 = plt.subplot(212, aspect='equal')\n",
        "kmeans_voronoi_plot(training_data, training_labels, kmf_no_hint.cluster_centers_, ax2)\n",
        "ax2.set_title('K-Means without Target Hint')"
      ],
      "execution_count": null,
      "outputs": []
    },
    {
      "cell_type": "markdown",
      "metadata": {
        "id": "CXdn1HR4B9va"
      },
      "source": [
        "## Classification with KMeans clustering features¶"
      ]
    },
    {
      "cell_type": "code",
      "metadata": {
        "id": "cTZuWaH7CQ6X"
      },
      "source": [
        "test_data, test_labels = make_moons(n_samples=2000, noise=0.3, random_state=seed+5)"
      ],
      "execution_count": null,
      "outputs": []
    },
    {
      "cell_type": "code",
      "metadata": {
        "id": "LqVRqIjXCSxA"
      },
      "source": [
        "training_cluster_features = kmf_hint.transform(training_data)\n",
        "test_cluster_features = kmf_hint.transform(test_data)\n",
        "\n",
        "training_with_cluster = hstack((training_data, training_cluster_features)) #scipy.sparse.hstack\n",
        "test_with_cluster = hstack((test_data, test_cluster_features))"
      ],
      "execution_count": null,
      "outputs": []
    },
    {
      "cell_type": "code",
      "metadata": {
        "id": "KZHJFA1iCVHz"
      },
      "source": [
        "from sklearn.linear_model import LogisticRegression\n",
        "from sklearn.svm import SVC\n",
        "from sklearn.neighbors import KNeighborsClassifier\n",
        "from sklearn.ensemble import RandomForestClassifier, GradientBoostingClassifier"
      ],
      "execution_count": null,
      "outputs": []
    },
    {
      "cell_type": "code",
      "metadata": {
        "id": "pqzmQFUUClt3"
      },
      "source": [
        "lr_cluster = LogisticRegression(random_state=seed).fit(training_with_cluster, training_labels)\n",
        "\n",
        "classifier_names = ['LR',\n",
        "                    'kNN',\n",
        "                    'RBF SVM',\n",
        "                    'Random Forest',\n",
        "                    'Boosted Trees']\n",
        "classifiers = [LogisticRegression(random_state=seed),\n",
        "               KNeighborsClassifier(5),\n",
        "               SVC(gamma=2, C=1, random_state=seed),\n",
        "               RandomForestClassifier(max_depth=5, n_estimators=10, \n",
        "                                      max_features=1, random_state=seed),\n",
        "               GradientBoostingClassifier(n_estimators=10, learning_rate=1.0,\n",
        "                                          max_depth=5, random_state=seed)]\n",
        "for model in classifiers:\n",
        "    model.fit(training_data, training_labels)"
      ],
      "execution_count": null,
      "outputs": []
    },
    {
      "cell_type": "code",
      "metadata": {
        "id": "vIMKFB5KCnre"
      },
      "source": [
        "def test_roc(model, data, labels):\n",
        "    if hasattr(model, \"decision_function\"):\n",
        "        predictions = model.decision_function(data)\n",
        "    else:\n",
        "        predictions = model.predict_proba(data)[:,1]\n",
        "    fpr, tpr, _ = roc_curve(labels, predictions) # sklearn.metrics.roc_curve\n",
        "    auc_score = roc_auc_score(labels, predictions)\n",
        "    print(f'{model.__class__.__name__}: {auc_score}')\n",
        "    return fpr, tpr"
      ],
      "execution_count": null,
      "outputs": []
    },
    {
      "cell_type": "code",
      "metadata": {
        "id": "EYKpUIj7CpaP"
      },
      "source": [
        "\n",
        "plt.figure(figsize=(10,10))\n",
        "fpr_cluster, tpr_cluster = test_roc(lr_cluster, test_with_cluster, test_labels)\n",
        "plt.plot(fpr_cluster, tpr_cluster, 'r-', label='LR with k-means')\n",
        "\n",
        "for i, model in enumerate(classifiers):\n",
        "    fpr, tpr = test_roc(model, test_data, test_labels)\n",
        "    plt.plot(fpr, tpr, label=classifier_names[i])\n",
        "    \n",
        "plt.plot([0, 1], [0, 1], 'k--')\n",
        "plt.legend()\n",
        "plt.xlabel('False Positive Rate', fontsize=14)\n",
        "plt.ylabel('True Positive Rate', fontsize=14)"
      ],
      "execution_count": null,
      "outputs": []
    },
    {
      "cell_type": "code",
      "metadata": {
        "id": "Y__HsLmYT8o8"
      },
      "source": [],
      "execution_count": null,
      "outputs": []
    }
  ]
}
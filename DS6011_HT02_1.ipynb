{
  "nbformat": 4,
  "nbformat_minor": 0,
  "metadata": {
    "colab": {
      "name": "DS6011_HT02_1.ipynb",
      "provenance": []
    },
    "kernelspec": {
      "name": "python3",
      "display_name": "Python 3"
    },
    "language_info": {
      "name": "python"
    }
  },
  "cells": [
    {
      "cell_type": "markdown",
      "metadata": {
        "id": "saaO06RMwzGH"
      },
      "source": [
        "# Hoja de Trabajo \\# 2-1 \n",
        "\n",
        "\n",
        "---\n",
        "\n",
        "\n",
        "por Josué Obregón <br>\n",
        "DS6011 - Feature Engineering <br>\n",
        "UVG Masters - Escuela de Negocios<br>\n"
      ]
    },
    {
      "cell_type": "markdown",
      "metadata": {
        "id": "w0-nImUHNxOv"
      },
      "source": [
        "## Objetivos\n",
        "\n",
        "El objetivo de esta hoja de trabajo  es presentar al estudiante diferentes técnicas de visualización de datos para ayudar a entender las características y el comportamiento de la variable objetivo en los modelos predictivos.\n",
        "\n",
        "Así mismo, las técnicas también son útiles para entender la relación de las distintas variables predictoras, entre ellas mismas y con la variable objetivo.\n",
        "\n",
        "Como objetivo adicional, también se busca que el estudiante conozca el funcionamiento de dos librerías de visualización de datos del lenguaje python: [Seaborn](https://seaborn.pydata.org/) y [Plotly express](https://plotly.com/python/plotly-express/).\n",
        "\n",
        "El análisis presentado en esta hoja de trabajo está basado en la [sección 4.2](http://www.feat.engineering/visualizations-for-numeric-data-exploring-train-ridership-data.html) del libro **Feature engineering and selection: A practical approach for predictive models**. Intentaremos generar las visualizaciones lo más fielmente posible a las presentadas en el libro.\n"
      ]
    },
    {
      "cell_type": "markdown",
      "metadata": {
        "id": "RYjZ_KEuTCTe"
      },
      "source": [
        "## Importación de librerías y carga de los datos a varios pandas [DataFrames](https://pandas.pydata.org/pandas-docs/version/1.1.5/reference/frame.html)\n",
        "\n",
        "\n",
        "Las librerías que importaremos para empezar son pandas y numpy para el manejo de los datos, y matplotlib, seaborn y plotly para la generación de visualizaciones. \n",
        "\n",
        "Los datos fueron obtenidos del [portal de datos de Chicago](https://data.cityofchicago.org/Transportation/CTA-Ridership-L-Station-Entries-Daily-Totals/5neh-572f).\n",
        "\n",
        "Los datos necesitan cierto preprocesamiento, pero el objetivo de esta hoja de trabajo no es ese, así que incluyo dos archivos extra. El primero es donde están registrados los días usados para el análisis, y el segundo son atributos creados por el autor del libro. \n",
        "\n"
      ]
    },
    {
      "cell_type": "code",
      "metadata": {
        "id": "wMpdDWhPMSS7"
      },
      "source": [
        "import pandas as pd\n",
        "import numpy as np\n",
        "import matplotlib.pyplot as plt\n",
        "import seaborn as sns\n",
        "import plotly.express as px"
      ],
      "execution_count": 1,
      "outputs": []
    },
    {
      "cell_type": "code",
      "metadata": {
        "id": "bBRl7VGfALex"
      },
      "source": [
        "!mkdir data"
      ],
      "execution_count": 2,
      "outputs": []
    },
    {
      "cell_type": "code",
      "metadata": {
        "id": "YR1uTokC8Wzi",
        "outputId": "ce747f28-f2fe-429c-e160-26eaac2159f8",
        "colab": {
          "base_uri": "https://localhost:8080/"
        }
      },
      "source": [
        "import gdown\n",
        "\n",
        "urls = ['https://drive.google.com/uc?export=download&id=1GiEi6LVHBAAX4IWVA2gRH1gJZ1vLYghG', # chicago_train_data  https://drive.google.com/file/d/1GiEi6LVHBAAX4IWVA2gRH1gJZ1vLYghG/view?usp=sharing\n",
        "        'https://drive.google.com/uc?export=download&id=1LIK0YFER5ve9Wn7Uap4Zb6f5pXcAExZ-', # train_days   https://drive.google.com/file/d/1LIK0YFER5ve9Wn7Uap4Zb6f5pXcAExZ-/view?usp=sharing \n",
        "        'https://drive.google.com/uc?export=download&id=18pIOZQXBOSwT-t69icoGZgZh-kUUFMrN' # extra data chicago https://drive.google.com/file/d/18pIOZQXBOSwT-t69icoGZgZh-kUUFMrN/view?usp=sharing\n",
        "        ]\n",
        "outputs = ['chicago_train_data.csv','train_days.csv' ,'extra_data_chicago.csv']\n",
        "for url,output in zip(urls,outputs):\n",
        "  gdown.download(url, f'data/{output}', quiet=False)"
      ],
      "execution_count": 3,
      "outputs": [
        {
          "output_type": "stream",
          "name": "stderr",
          "text": [
            "Downloading...\n",
            "From: https://drive.google.com/uc?export=download&id=1GiEi6LVHBAAX4IWVA2gRH1gJZ1vLYghG\n",
            "To: /content/data/chicago_train_data.csv\n",
            "100%|██████████| 38.2M/38.2M [00:00<00:00, 261MB/s]\n",
            "Downloading...\n",
            "From: https://drive.google.com/uc?export=download&id=1LIK0YFER5ve9Wn7Uap4Zb6f5pXcAExZ-\n",
            "To: /content/data/train_days.csv\n",
            "100%|██████████| 107k/107k [00:00<00:00, 60.4MB/s]\n",
            "Downloading...\n",
            "From: https://drive.google.com/uc?export=download&id=18pIOZQXBOSwT-t69icoGZgZh-kUUFMrN\n",
            "To: /content/data/extra_data_chicago.csv\n",
            "100%|██████████| 1.32M/1.32M [00:00<00:00, 172MB/s]\n"
          ]
        }
      ]
    },
    {
      "cell_type": "code",
      "metadata": {
        "id": "tbt7GzUNOT3O"
      },
      "source": [
        "df = pd.read_csv('data/chicago_train_data.csv', parse_dates=True, index_col=2)\n",
        "train_days = pd.read_csv('data/train_days.csv',index_col=1, parse_dates=True)\n",
        "extra_data = pd.read_csv('data/extra_data_chicago.csv',index_col=0, parse_dates=True)"
      ],
      "execution_count": 4,
      "outputs": []
    },
    {
      "cell_type": "code",
      "metadata": {
        "id": "0MCGdyjEP-wp",
        "outputId": "52e24c96-4964-4f88-91f9-14d3f3bda3f7",
        "colab": {
          "base_uri": "https://localhost:8080/",
          "height": 238
        }
      },
      "source": [
        "df.head(5)"
      ],
      "execution_count": 5,
      "outputs": [
        {
          "output_type": "execute_result",
          "data": {
            "text/plain": [
              "            station_id       stationname daytype  rides\n",
              "date                                                   \n",
              "2017-12-22       41280    Jefferson Park       W   6104\n",
              "2017-12-18       41000  Cermak-Chinatown       W   3636\n",
              "2017-12-02       40280      Central-Lake       A   1270\n",
              "2017-12-19       40140   Dempster-Skokie       W   1759\n",
              "2017-12-03       40690          Dempster       U    499"
            ],
            "text/html": [
              "\n",
              "  <div id=\"df-9bb7e485-1a2b-4a09-823e-6f2d2fa77875\">\n",
              "    <div class=\"colab-df-container\">\n",
              "      <div>\n",
              "<style scoped>\n",
              "    .dataframe tbody tr th:only-of-type {\n",
              "        vertical-align: middle;\n",
              "    }\n",
              "\n",
              "    .dataframe tbody tr th {\n",
              "        vertical-align: top;\n",
              "    }\n",
              "\n",
              "    .dataframe thead th {\n",
              "        text-align: right;\n",
              "    }\n",
              "</style>\n",
              "<table border=\"1\" class=\"dataframe\">\n",
              "  <thead>\n",
              "    <tr style=\"text-align: right;\">\n",
              "      <th></th>\n",
              "      <th>station_id</th>\n",
              "      <th>stationname</th>\n",
              "      <th>daytype</th>\n",
              "      <th>rides</th>\n",
              "    </tr>\n",
              "    <tr>\n",
              "      <th>date</th>\n",
              "      <th></th>\n",
              "      <th></th>\n",
              "      <th></th>\n",
              "      <th></th>\n",
              "    </tr>\n",
              "  </thead>\n",
              "  <tbody>\n",
              "    <tr>\n",
              "      <th>2017-12-22</th>\n",
              "      <td>41280</td>\n",
              "      <td>Jefferson Park</td>\n",
              "      <td>W</td>\n",
              "      <td>6104</td>\n",
              "    </tr>\n",
              "    <tr>\n",
              "      <th>2017-12-18</th>\n",
              "      <td>41000</td>\n",
              "      <td>Cermak-Chinatown</td>\n",
              "      <td>W</td>\n",
              "      <td>3636</td>\n",
              "    </tr>\n",
              "    <tr>\n",
              "      <th>2017-12-02</th>\n",
              "      <td>40280</td>\n",
              "      <td>Central-Lake</td>\n",
              "      <td>A</td>\n",
              "      <td>1270</td>\n",
              "    </tr>\n",
              "    <tr>\n",
              "      <th>2017-12-19</th>\n",
              "      <td>40140</td>\n",
              "      <td>Dempster-Skokie</td>\n",
              "      <td>W</td>\n",
              "      <td>1759</td>\n",
              "    </tr>\n",
              "    <tr>\n",
              "      <th>2017-12-03</th>\n",
              "      <td>40690</td>\n",
              "      <td>Dempster</td>\n",
              "      <td>U</td>\n",
              "      <td>499</td>\n",
              "    </tr>\n",
              "  </tbody>\n",
              "</table>\n",
              "</div>\n",
              "      <button class=\"colab-df-convert\" onclick=\"convertToInteractive('df-9bb7e485-1a2b-4a09-823e-6f2d2fa77875')\"\n",
              "              title=\"Convert this dataframe to an interactive table.\"\n",
              "              style=\"display:none;\">\n",
              "        \n",
              "  <svg xmlns=\"http://www.w3.org/2000/svg\" height=\"24px\"viewBox=\"0 0 24 24\"\n",
              "       width=\"24px\">\n",
              "    <path d=\"M0 0h24v24H0V0z\" fill=\"none\"/>\n",
              "    <path d=\"M18.56 5.44l.94 2.06.94-2.06 2.06-.94-2.06-.94-.94-2.06-.94 2.06-2.06.94zm-11 1L8.5 8.5l.94-2.06 2.06-.94-2.06-.94L8.5 2.5l-.94 2.06-2.06.94zm10 10l.94 2.06.94-2.06 2.06-.94-2.06-.94-.94-2.06-.94 2.06-2.06.94z\"/><path d=\"M17.41 7.96l-1.37-1.37c-.4-.4-.92-.59-1.43-.59-.52 0-1.04.2-1.43.59L10.3 9.45l-7.72 7.72c-.78.78-.78 2.05 0 2.83L4 21.41c.39.39.9.59 1.41.59.51 0 1.02-.2 1.41-.59l7.78-7.78 2.81-2.81c.8-.78.8-2.07 0-2.86zM5.41 20L4 18.59l7.72-7.72 1.47 1.35L5.41 20z\"/>\n",
              "  </svg>\n",
              "      </button>\n",
              "      \n",
              "  <style>\n",
              "    .colab-df-container {\n",
              "      display:flex;\n",
              "      flex-wrap:wrap;\n",
              "      gap: 12px;\n",
              "    }\n",
              "\n",
              "    .colab-df-convert {\n",
              "      background-color: #E8F0FE;\n",
              "      border: none;\n",
              "      border-radius: 50%;\n",
              "      cursor: pointer;\n",
              "      display: none;\n",
              "      fill: #1967D2;\n",
              "      height: 32px;\n",
              "      padding: 0 0 0 0;\n",
              "      width: 32px;\n",
              "    }\n",
              "\n",
              "    .colab-df-convert:hover {\n",
              "      background-color: #E2EBFA;\n",
              "      box-shadow: 0px 1px 2px rgba(60, 64, 67, 0.3), 0px 1px 3px 1px rgba(60, 64, 67, 0.15);\n",
              "      fill: #174EA6;\n",
              "    }\n",
              "\n",
              "    [theme=dark] .colab-df-convert {\n",
              "      background-color: #3B4455;\n",
              "      fill: #D2E3FC;\n",
              "    }\n",
              "\n",
              "    [theme=dark] .colab-df-convert:hover {\n",
              "      background-color: #434B5C;\n",
              "      box-shadow: 0px 1px 3px 1px rgba(0, 0, 0, 0.15);\n",
              "      filter: drop-shadow(0px 1px 2px rgba(0, 0, 0, 0.3));\n",
              "      fill: #FFFFFF;\n",
              "    }\n",
              "  </style>\n",
              "\n",
              "      <script>\n",
              "        const buttonEl =\n",
              "          document.querySelector('#df-9bb7e485-1a2b-4a09-823e-6f2d2fa77875 button.colab-df-convert');\n",
              "        buttonEl.style.display =\n",
              "          google.colab.kernel.accessAllowed ? 'block' : 'none';\n",
              "\n",
              "        async function convertToInteractive(key) {\n",
              "          const element = document.querySelector('#df-9bb7e485-1a2b-4a09-823e-6f2d2fa77875');\n",
              "          const dataTable =\n",
              "            await google.colab.kernel.invokeFunction('convertToInteractive',\n",
              "                                                     [key], {});\n",
              "          if (!dataTable) return;\n",
              "\n",
              "          const docLinkHtml = 'Like what you see? Visit the ' +\n",
              "            '<a target=\"_blank\" href=https://colab.research.google.com/notebooks/data_table.ipynb>data table notebook</a>'\n",
              "            + ' to learn more about interactive tables.';\n",
              "          element.innerHTML = '';\n",
              "          dataTable['output_type'] = 'display_data';\n",
              "          await google.colab.output.renderOutput(dataTable, element);\n",
              "          const docLink = document.createElement('div');\n",
              "          docLink.innerHTML = docLinkHtml;\n",
              "          element.appendChild(docLink);\n",
              "        }\n",
              "      </script>\n",
              "    </div>\n",
              "  </div>\n",
              "  "
            ]
          },
          "metadata": {},
          "execution_count": 5
        }
      ]
    },
    {
      "cell_type": "code",
      "metadata": {
        "id": "Ijm0t723NBna",
        "outputId": "b42b05e0-31ab-4230-9f18-702eb88ae153",
        "colab": {
          "base_uri": "https://localhost:8080/"
        }
      },
      "source": [
        "df.info()"
      ],
      "execution_count": 6,
      "outputs": [
        {
          "output_type": "stream",
          "name": "stdout",
          "text": [
            "<class 'pandas.core.frame.DataFrame'>\n",
            "DatetimeIndex: 1036763 entries, 2017-12-22 to 2020-11-30\n",
            "Data columns (total 4 columns):\n",
            " #   Column       Non-Null Count    Dtype \n",
            "---  ------       --------------    ----- \n",
            " 0   station_id   1036763 non-null  int64 \n",
            " 1   stationname  1036763 non-null  object\n",
            " 2   daytype      1036763 non-null  object\n",
            " 3   rides        1036763 non-null  int64 \n",
            "dtypes: int64(2), object(2)\n",
            "memory usage: 39.5+ MB\n"
          ]
        }
      ]
    },
    {
      "cell_type": "code",
      "metadata": {
        "id": "q2cc8VZq7MZf",
        "outputId": "3fefbb19-1272-4b4d-9234-8c5ac7722cf0",
        "colab": {
          "base_uri": "https://localhost:8080/"
        }
      },
      "source": [
        "df = df.sort_index()\n",
        "df.info()"
      ],
      "execution_count": 7,
      "outputs": [
        {
          "output_type": "stream",
          "name": "stdout",
          "text": [
            "<class 'pandas.core.frame.DataFrame'>\n",
            "DatetimeIndex: 1036763 entries, 2001-01-01 to 2020-11-30\n",
            "Data columns (total 4 columns):\n",
            " #   Column       Non-Null Count    Dtype \n",
            "---  ------       --------------    ----- \n",
            " 0   station_id   1036763 non-null  int64 \n",
            " 1   stationname  1036763 non-null  object\n",
            " 2   daytype      1036763 non-null  object\n",
            " 3   rides        1036763 non-null  int64 \n",
            "dtypes: int64(2), object(2)\n",
            "memory usage: 39.5+ MB\n"
          ]
        }
      ]
    },
    {
      "cell_type": "code",
      "metadata": {
        "id": "q9YGmxp0hDWS",
        "outputId": "eaa40cab-1fe9-489a-923e-536434c5d991",
        "colab": {
          "base_uri": "https://localhost:8080/",
          "height": 455
        }
      },
      "source": [
        "df.loc[train_days.index]"
      ],
      "execution_count": 8,
      "outputs": [
        {
          "output_type": "execute_result",
          "data": {
            "text/plain": [
              "            station_id       stationname daytype  rides\n",
              "date                                                   \n",
              "2001-01-22       40240              79th       W   7697\n",
              "2001-01-22       40090       Damen-Brown       W   2035\n",
              "2001-01-22       40120       35th/Archer       W   2150\n",
              "2001-01-22       41260       Austin-Lake       W   2053\n",
              "2001-01-22       40750     Harlem-O'Hare       W   2665\n",
              "...                ...               ...     ...    ...\n",
              "2016-08-28       41090      Monroe/State       U   3192\n",
              "2016-08-28       40040      Quincy/Wells       U   1302\n",
              "2016-08-28       40830              18th       U   1022\n",
              "2016-08-28       40730  Washington/Wells       U    991\n",
              "2016-08-28       40450     95th/Dan Ryan       U   5540\n",
              "\n",
              "[810397 rows x 4 columns]"
            ],
            "text/html": [
              "\n",
              "  <div id=\"df-ece57183-e7ca-4201-b839-78ce8ed0fa34\">\n",
              "    <div class=\"colab-df-container\">\n",
              "      <div>\n",
              "<style scoped>\n",
              "    .dataframe tbody tr th:only-of-type {\n",
              "        vertical-align: middle;\n",
              "    }\n",
              "\n",
              "    .dataframe tbody tr th {\n",
              "        vertical-align: top;\n",
              "    }\n",
              "\n",
              "    .dataframe thead th {\n",
              "        text-align: right;\n",
              "    }\n",
              "</style>\n",
              "<table border=\"1\" class=\"dataframe\">\n",
              "  <thead>\n",
              "    <tr style=\"text-align: right;\">\n",
              "      <th></th>\n",
              "      <th>station_id</th>\n",
              "      <th>stationname</th>\n",
              "      <th>daytype</th>\n",
              "      <th>rides</th>\n",
              "    </tr>\n",
              "    <tr>\n",
              "      <th>date</th>\n",
              "      <th></th>\n",
              "      <th></th>\n",
              "      <th></th>\n",
              "      <th></th>\n",
              "    </tr>\n",
              "  </thead>\n",
              "  <tbody>\n",
              "    <tr>\n",
              "      <th>2001-01-22</th>\n",
              "      <td>40240</td>\n",
              "      <td>79th</td>\n",
              "      <td>W</td>\n",
              "      <td>7697</td>\n",
              "    </tr>\n",
              "    <tr>\n",
              "      <th>2001-01-22</th>\n",
              "      <td>40090</td>\n",
              "      <td>Damen-Brown</td>\n",
              "      <td>W</td>\n",
              "      <td>2035</td>\n",
              "    </tr>\n",
              "    <tr>\n",
              "      <th>2001-01-22</th>\n",
              "      <td>40120</td>\n",
              "      <td>35th/Archer</td>\n",
              "      <td>W</td>\n",
              "      <td>2150</td>\n",
              "    </tr>\n",
              "    <tr>\n",
              "      <th>2001-01-22</th>\n",
              "      <td>41260</td>\n",
              "      <td>Austin-Lake</td>\n",
              "      <td>W</td>\n",
              "      <td>2053</td>\n",
              "    </tr>\n",
              "    <tr>\n",
              "      <th>2001-01-22</th>\n",
              "      <td>40750</td>\n",
              "      <td>Harlem-O'Hare</td>\n",
              "      <td>W</td>\n",
              "      <td>2665</td>\n",
              "    </tr>\n",
              "    <tr>\n",
              "      <th>...</th>\n",
              "      <td>...</td>\n",
              "      <td>...</td>\n",
              "      <td>...</td>\n",
              "      <td>...</td>\n",
              "    </tr>\n",
              "    <tr>\n",
              "      <th>2016-08-28</th>\n",
              "      <td>41090</td>\n",
              "      <td>Monroe/State</td>\n",
              "      <td>U</td>\n",
              "      <td>3192</td>\n",
              "    </tr>\n",
              "    <tr>\n",
              "      <th>2016-08-28</th>\n",
              "      <td>40040</td>\n",
              "      <td>Quincy/Wells</td>\n",
              "      <td>U</td>\n",
              "      <td>1302</td>\n",
              "    </tr>\n",
              "    <tr>\n",
              "      <th>2016-08-28</th>\n",
              "      <td>40830</td>\n",
              "      <td>18th</td>\n",
              "      <td>U</td>\n",
              "      <td>1022</td>\n",
              "    </tr>\n",
              "    <tr>\n",
              "      <th>2016-08-28</th>\n",
              "      <td>40730</td>\n",
              "      <td>Washington/Wells</td>\n",
              "      <td>U</td>\n",
              "      <td>991</td>\n",
              "    </tr>\n",
              "    <tr>\n",
              "      <th>2016-08-28</th>\n",
              "      <td>40450</td>\n",
              "      <td>95th/Dan Ryan</td>\n",
              "      <td>U</td>\n",
              "      <td>5540</td>\n",
              "    </tr>\n",
              "  </tbody>\n",
              "</table>\n",
              "<p>810397 rows × 4 columns</p>\n",
              "</div>\n",
              "      <button class=\"colab-df-convert\" onclick=\"convertToInteractive('df-ece57183-e7ca-4201-b839-78ce8ed0fa34')\"\n",
              "              title=\"Convert this dataframe to an interactive table.\"\n",
              "              style=\"display:none;\">\n",
              "        \n",
              "  <svg xmlns=\"http://www.w3.org/2000/svg\" height=\"24px\"viewBox=\"0 0 24 24\"\n",
              "       width=\"24px\">\n",
              "    <path d=\"M0 0h24v24H0V0z\" fill=\"none\"/>\n",
              "    <path d=\"M18.56 5.44l.94 2.06.94-2.06 2.06-.94-2.06-.94-.94-2.06-.94 2.06-2.06.94zm-11 1L8.5 8.5l.94-2.06 2.06-.94-2.06-.94L8.5 2.5l-.94 2.06-2.06.94zm10 10l.94 2.06.94-2.06 2.06-.94-2.06-.94-.94-2.06-.94 2.06-2.06.94z\"/><path d=\"M17.41 7.96l-1.37-1.37c-.4-.4-.92-.59-1.43-.59-.52 0-1.04.2-1.43.59L10.3 9.45l-7.72 7.72c-.78.78-.78 2.05 0 2.83L4 21.41c.39.39.9.59 1.41.59.51 0 1.02-.2 1.41-.59l7.78-7.78 2.81-2.81c.8-.78.8-2.07 0-2.86zM5.41 20L4 18.59l7.72-7.72 1.47 1.35L5.41 20z\"/>\n",
              "  </svg>\n",
              "      </button>\n",
              "      \n",
              "  <style>\n",
              "    .colab-df-container {\n",
              "      display:flex;\n",
              "      flex-wrap:wrap;\n",
              "      gap: 12px;\n",
              "    }\n",
              "\n",
              "    .colab-df-convert {\n",
              "      background-color: #E8F0FE;\n",
              "      border: none;\n",
              "      border-radius: 50%;\n",
              "      cursor: pointer;\n",
              "      display: none;\n",
              "      fill: #1967D2;\n",
              "      height: 32px;\n",
              "      padding: 0 0 0 0;\n",
              "      width: 32px;\n",
              "    }\n",
              "\n",
              "    .colab-df-convert:hover {\n",
              "      background-color: #E2EBFA;\n",
              "      box-shadow: 0px 1px 2px rgba(60, 64, 67, 0.3), 0px 1px 3px 1px rgba(60, 64, 67, 0.15);\n",
              "      fill: #174EA6;\n",
              "    }\n",
              "\n",
              "    [theme=dark] .colab-df-convert {\n",
              "      background-color: #3B4455;\n",
              "      fill: #D2E3FC;\n",
              "    }\n",
              "\n",
              "    [theme=dark] .colab-df-convert:hover {\n",
              "      background-color: #434B5C;\n",
              "      box-shadow: 0px 1px 3px 1px rgba(0, 0, 0, 0.15);\n",
              "      filter: drop-shadow(0px 1px 2px rgba(0, 0, 0, 0.3));\n",
              "      fill: #FFFFFF;\n",
              "    }\n",
              "  </style>\n",
              "\n",
              "      <script>\n",
              "        const buttonEl =\n",
              "          document.querySelector('#df-ece57183-e7ca-4201-b839-78ce8ed0fa34 button.colab-df-convert');\n",
              "        buttonEl.style.display =\n",
              "          google.colab.kernel.accessAllowed ? 'block' : 'none';\n",
              "\n",
              "        async function convertToInteractive(key) {\n",
              "          const element = document.querySelector('#df-ece57183-e7ca-4201-b839-78ce8ed0fa34');\n",
              "          const dataTable =\n",
              "            await google.colab.kernel.invokeFunction('convertToInteractive',\n",
              "                                                     [key], {});\n",
              "          if (!dataTable) return;\n",
              "\n",
              "          const docLinkHtml = 'Like what you see? Visit the ' +\n",
              "            '<a target=\"_blank\" href=https://colab.research.google.com/notebooks/data_table.ipynb>data table notebook</a>'\n",
              "            + ' to learn more about interactive tables.';\n",
              "          element.innerHTML = '';\n",
              "          dataTable['output_type'] = 'display_data';\n",
              "          await google.colab.output.renderOutput(dataTable, element);\n",
              "          const docLink = document.createElement('div');\n",
              "          docLink.innerHTML = docLinkHtml;\n",
              "          element.appendChild(docLink);\n",
              "        }\n",
              "      </script>\n",
              "    </div>\n",
              "  </div>\n",
              "  "
            ]
          },
          "metadata": {},
          "execution_count": 8
        }
      ]
    },
    {
      "cell_type": "code",
      "metadata": {
        "id": "v7korxBsuOrx",
        "outputId": "ce29e994-ed7a-492d-b7da-8bc058b22c77",
        "colab": {
          "base_uri": "https://localhost:8080/"
        }
      },
      "source": [
        "df.index.year.unique()"
      ],
      "execution_count": 9,
      "outputs": [
        {
          "output_type": "execute_result",
          "data": {
            "text/plain": [
              "Int64Index([2001, 2002, 2003, 2004, 2005, 2006, 2007, 2008, 2009, 2010, 2011,\n",
              "            2012, 2013, 2014, 2015, 2016, 2017, 2018, 2019, 2020],\n",
              "           dtype='int64', name='date')"
            ]
          },
          "metadata": {},
          "execution_count": 9
        }
      ]
    },
    {
      "cell_type": "code",
      "metadata": {
        "id": "hp1tg2AqN3cm"
      },
      "source": [
        "df_cl = df[df.stationname=='Clark/Lake'][['daytype'\t,'rides']] # let's focus on Clark/Lake station\n",
        "df_cl ['rides_x1000']= df_cl.rides/1000 # transform \n",
        "df_cl['part_of_the_week']=df_cl.index.weekday.map(lambda x: 'Weekday' if x<5 else 'Weekend')"
      ],
      "execution_count": 10,
      "outputs": []
    },
    {
      "cell_type": "code",
      "metadata": {
        "id": "led0mrEX8SYm",
        "outputId": "69a25798-32c6-4fed-fd37-88591faa6695",
        "colab": {
          "base_uri": "https://localhost:8080/"
        }
      },
      "source": [
        "df_cl.index.duplicated().sum()"
      ],
      "execution_count": 11,
      "outputs": [
        {
          "output_type": "execute_result",
          "data": {
            "text/plain": [
              "1"
            ]
          },
          "metadata": {},
          "execution_count": 11
        }
      ]
    },
    {
      "cell_type": "code",
      "metadata": {
        "id": "RZv06yH98doW",
        "outputId": "2ad10bc5-a75f-4036-e874-6e4a68251efe",
        "colab": {
          "base_uri": "https://localhost:8080/"
        }
      },
      "source": [
        "df_cl = df_cl[~df_cl.index.duplicated(keep='first')] # there was one record duplicated index 3815 value '2011-07-03'\n",
        "print(df_cl.index.duplicated().sum())\n",
        "train_df_cl = df_cl.loc[train_days.index] # define our training data with train days"
      ],
      "execution_count": 12,
      "outputs": [
        {
          "output_type": "stream",
          "name": "stdout",
          "text": [
            "0\n"
          ]
        }
      ]
    },
    {
      "cell_type": "markdown",
      "metadata": {
        "id": "jTon0wOu8owK"
      },
      "source": [
        "## Gráficos de cajas, Gráficos de violin, Histogramas y Gráficos de densidad\n",
        "\n"
      ]
    },
    {
      "cell_type": "code",
      "metadata": {
        "id": "huf3C69Bl8oO"
      },
      "source": [
        "sns.set_style(\"darkgrid\") # Others whitegrid, white, dark, ticks https://www.python-graph-gallery.com/104-seaborn-themes "
      ],
      "execution_count": 13,
      "outputs": []
    },
    {
      "cell_type": "code",
      "metadata": {
        "id": "q3O5hTiFNKWG",
        "outputId": "cf57a755-c77d-471e-e726-9a039c747219",
        "colab": {
          "base_uri": "https://localhost:8080/",
          "height": 807
        }
      },
      "source": [
        "fig, axs = plt.subplots(2,2, figsize=(12,8)) #create grid\n",
        "sns.boxplot(data=train_df_cl, x='rides_x1000', orient='h', ax=axs[0,0])\n",
        "sns.histplot(data=train_df_cl,x='rides_x1000', binwidth=0.7, ax=axs[0,1])\n",
        "sns.violinplot(data=train_df_cl,x='rides_x1000', ax=axs[1,0])\n",
        "sns.kdeplot(data=train_df_cl, x='rides_x1000', ax=axs[1,1])\n",
        "plt.tight_layout()"
      ],
      "execution_count": 14,
      "outputs": [
        {
          "output_type": "display_data",
          "data": {
            "text/plain": [
              "<Figure size 1200x800 with 4 Axes>"
            ],
            "image/png": "[encoded data removed]"
          },
          "metadata": {}
        }
      ]
    },
    {
      "cell_type": "markdown",
      "metadata": {
        "id": "XrERHOVPuyCB"
      },
      "source": [
        "### Aumentando las visualizaciones con facetas, colores y formas"
      ]
    },
    {
      "cell_type": "code",
      "metadata": {
        "id": "E2PZYiPsNUCC",
        "outputId": "f0a6db0d-9662-42d4-c4ef-e14d3c413ff2",
        "colab": {
          "base_uri": "https://localhost:8080/",
          "height": 624
        }
      },
      "source": [
        "g = sns.FacetGrid(train_df_cl, sharey=False, row='part_of_the_week',  hue='part_of_the_week',height=3, aspect=3)\n",
        "g.map_dataframe(sns.histplot, x='rides', log_scale=True, binwidth=0.03)"
      ],
      "execution_count": 15,
      "outputs": [
        {
          "output_type": "execute_result",
          "data": {
            "text/plain": [
              "<seaborn.axisgrid.FacetGrid at 0x7f0241bf6d40>"
            ]
          },
          "metadata": {},
          "execution_count": 15
        },
        {
          "output_type": "display_data",
          "data": {
            "text/plain": [
              "<Figure size 900x600 with 2 Axes>"
            ],
            "image/png": "[encoded data removed]"
          },
          "metadata": {}
        }
      ]
    },
    {
      "cell_type": "markdown",
      "metadata": {
        "id": "MRJzBhV6wpU1"
      },
      "source": [
        "## Gráficos de dispersión\n",
        "\n"
      ]
    },
    {
      "cell_type": "code",
      "metadata": {
        "id": "AZ-dQntyPpIC"
      },
      "source": [
        "train_df_cl['two_week_lag_rides'] = train_df_cl['rides'].shift(periods=14, fill_value = 0) # We create a lagging variable of two weeks\n",
        "train_df_cl ['two_week_lag_rides_x1000']= train_df_cl['two_week_lag_rides']/1000"
      ],
      "execution_count": 16,
      "outputs": []
    },
    {
      "cell_type": "code",
      "metadata": {
        "id": "UQSwWydwzyT3",
        "outputId": "50041394-71d8-424d-96db-70d651f07c68",
        "colab": {
          "base_uri": "https://localhost:8080/",
          "height": 583
        }
      },
      "source": [
        "train_df_cl.head(16)"
      ],
      "execution_count": 17,
      "outputs": [
        {
          "output_type": "execute_result",
          "data": {
            "text/plain": [
              "           daytype  rides  rides_x1000 part_of_the_week  two_week_lag_rides  \\\n",
              "date                                                                          \n",
              "2001-01-22       W  15732       15.732          Weekday                   0   \n",
              "2001-01-23       W  15762       15.762          Weekday                   0   \n",
              "2001-01-24       W  15872       15.872          Weekday                   0   \n",
              "2001-01-25       W  15874       15.874          Weekday                   0   \n",
              "2001-01-26       W  15423       15.423          Weekday                   0   \n",
              "2001-01-27       A   2425        2.425          Weekend                   0   \n",
              "2001-01-28       U   1467        1.467          Weekend                   0   \n",
              "2001-01-29       W  15511       15.511          Weekday                   0   \n",
              "2001-01-30       W  15927       15.927          Weekday                   0   \n",
              "2001-01-31       W  15920       15.920          Weekday                   0   \n",
              "2001-02-01       W  15960       15.960          Weekday                   0   \n",
              "2001-02-02       W  14900       14.900          Weekday                   0   \n",
              "2001-02-03       A   2477        2.477          Weekend                   0   \n",
              "2001-02-04       U   1556        1.556          Weekend                   0   \n",
              "2001-02-05       W  15562       15.562          Weekday               15732   \n",
              "2001-02-06       W  15796       15.796          Weekday               15762   \n",
              "\n",
              "            two_week_lag_rides_x1000  \n",
              "date                                  \n",
              "2001-01-22                     0.000  \n",
              "2001-01-23                     0.000  \n",
              "2001-01-24                     0.000  \n",
              "2001-01-25                     0.000  \n",
              "2001-01-26                     0.000  \n",
              "2001-01-27                     0.000  \n",
              "2001-01-28                     0.000  \n",
              "2001-01-29                     0.000  \n",
              "2001-01-30                     0.000  \n",
              "2001-01-31                     0.000  \n",
              "2001-02-01                     0.000  \n",
              "2001-02-02                     0.000  \n",
              "2001-02-03                     0.000  \n",
              "2001-02-04                     0.000  \n",
              "2001-02-05                    15.732  \n",
              "2001-02-06                    15.762  "
            ],
            "text/html": [
              "\n",
              "  <div id=\"df-d6607e7d-b359-409e-9dc3-2ad2d355b06d\">\n",
              "    <div class=\"colab-df-container\">\n",
              "      <div>\n",
              "<style scoped>\n",
              "    .dataframe tbody tr th:only-of-type {\n",
              "        vertical-align: middle;\n",
              "    }\n",
              "\n",
              "    .dataframe tbody tr th {\n",
              "        vertical-align: top;\n",
              "    }\n",
              "\n",
              "    .dataframe thead th {\n",
              "        text-align: right;\n",
              "    }\n",
              "</style>\n",
              "<table border=\"1\" class=\"dataframe\">\n",
              "  <thead>\n",
              "    <tr style=\"text-align: right;\">\n",
              "      <th></th>\n",
              "      <th>daytype</th>\n",
              "      <th>rides</th>\n",
              "      <th>rides_x1000</th>\n",
              "      <th>part_of_the_week</th>\n",
              "      <th>two_week_lag_rides</th>\n",
              "      <th>two_week_lag_rides_x1000</th>\n",
              "    </tr>\n",
              "    <tr>\n",
              "      <th>date</th>\n",
              "      <th></th>\n",
              "      <th></th>\n",
              "      <th></th>\n",
              "      <th></th>\n",
              "      <th></th>\n",
              "      <th></th>\n",
              "    </tr>\n",
              "  </thead>\n",
              "  <tbody>\n",
              "    <tr>\n",
              "      <th>2001-01-22</th>\n",
              "      <td>W</td>\n",
              "      <td>15732</td>\n",
              "      <td>15.732</td>\n",
              "      <td>Weekday</td>\n",
              "      <td>0</td>\n",
              "      <td>0.000</td>\n",
              "    </tr>\n",
              "    <tr>\n",
              "      <th>2001-01-23</th>\n",
              "      <td>W</td>\n",
              "      <td>15762</td>\n",
              "      <td>15.762</td>\n",
              "      <td>Weekday</td>\n",
              "      <td>0</td>\n",
              "      <td>0.000</td>\n",
              "    </tr>\n",
              "    <tr>\n",
              "      <th>2001-01-24</th>\n",
              "      <td>W</td>\n",
              "      <td>15872</td>\n",
              "      <td>15.872</td>\n",
              "      <td>Weekday</td>\n",
              "      <td>0</td>\n",
              "      <td>0.000</td>\n",
              "    </tr>\n",
              "    <tr>\n",
              "      <th>2001-01-25</th>\n",
              "      <td>W</td>\n",
              "      <td>15874</td>\n",
              "      <td>15.874</td>\n",
              "      <td>Weekday</td>\n",
              "      <td>0</td>\n",
              "      <td>0.000</td>\n",
              "    </tr>\n",
              "    <tr>\n",
              "      <th>2001-01-26</th>\n",
              "      <td>W</td>\n",
              "      <td>15423</td>\n",
              "      <td>15.423</td>\n",
              "      <td>Weekday</td>\n",
              "      <td>0</td>\n",
              "      <td>0.000</td>\n",
              "    </tr>\n",
              "    <tr>\n",
              "      <th>2001-01-27</th>\n",
              "      <td>A</td>\n",
              "      <td>2425</td>\n",
              "      <td>2.425</td>\n",
              "      <td>Weekend</td>\n",
              "      <td>0</td>\n",
              "      <td>0.000</td>\n",
              "    </tr>\n",
              "    <tr>\n",
              "      <th>2001-01-28</th>\n",
              "      <td>U</td>\n",
              "      <td>1467</td>\n",
              "      <td>1.467</td>\n",
              "      <td>Weekend</td>\n",
              "      <td>0</td>\n",
              "      <td>0.000</td>\n",
              "    </tr>\n",
              "    <tr>\n",
              "      <th>2001-01-29</th>\n",
              "      <td>W</td>\n",
              "      <td>15511</td>\n",
              "      <td>15.511</td>\n",
              "      <td>Weekday</td>\n",
              "      <td>0</td>\n",
              "      <td>0.000</td>\n",
              "    </tr>\n",
              "    <tr>\n",
              "      <th>2001-01-30</th>\n",
              "      <td>W</td>\n",
              "      <td>15927</td>\n",
              "      <td>15.927</td>\n",
              "      <td>Weekday</td>\n",
              "      <td>0</td>\n",
              "      <td>0.000</td>\n",
              "    </tr>\n",
              "    <tr>\n",
              "      <th>2001-01-31</th>\n",
              "      <td>W</td>\n",
              "      <td>15920</td>\n",
              "      <td>15.920</td>\n",
              "      <td>Weekday</td>\n",
              "      <td>0</td>\n",
              "      <td>0.000</td>\n",
              "    </tr>\n",
              "    <tr>\n",
              "      <th>2001-02-01</th>\n",
              "      <td>W</td>\n",
              "      <td>15960</td>\n",
              "      <td>15.960</td>\n",
              "      <td>Weekday</td>\n",
              "      <td>0</td>\n",
              "      <td>0.000</td>\n",
              "    </tr>\n",
              "    <tr>\n",
              "      <th>2001-02-02</th>\n",
              "      <td>W</td>\n",
              "      <td>14900</td>\n",
              "      <td>14.900</td>\n",
              "      <td>Weekday</td>\n",
              "      <td>0</td>\n",
              "      <td>0.000</td>\n",
              "    </tr>\n",
              "    <tr>\n",
              "      <th>2001-02-03</th>\n",
              "      <td>A</td>\n",
              "      <td>2477</td>\n",
              "      <td>2.477</td>\n",
              "      <td>Weekend</td>\n",
              "      <td>0</td>\n",
              "      <td>0.000</td>\n",
              "    </tr>\n",
              "    <tr>\n",
              "      <th>2001-02-04</th>\n",
              "      <td>U</td>\n",
              "      <td>1556</td>\n",
              "      <td>1.556</td>\n",
              "      <td>Weekend</td>\n",
              "      <td>0</td>\n",
              "      <td>0.000</td>\n",
              "    </tr>\n",
              "    <tr>\n",
              "      <th>2001-02-05</th>\n",
              "      <td>W</td>\n",
              "      <td>15562</td>\n",
              "      <td>15.562</td>\n",
              "      <td>Weekday</td>\n",
              "      <td>15732</td>\n",
              "      <td>15.732</td>\n",
              "    </tr>\n",
              "    <tr>\n",
              "      <th>2001-02-06</th>\n",
              "      <td>W</td>\n",
              "      <td>15796</td>\n",
              "      <td>15.796</td>\n",
              "      <td>Weekday</td>\n",
              "      <td>15762</td>\n",
              "      <td>15.762</td>\n",
              "    </tr>\n",
              "  </tbody>\n",
              "</table>\n",
              "</div>\n",
              "      <button class=\"colab-df-convert\" onclick=\"convertToInteractive('df-d6607e7d-b359-409e-9dc3-2ad2d355b06d')\"\n",
              "              title=\"Convert this dataframe to an interactive table.\"\n",
              "              style=\"display:none;\">\n",
              "        \n",
              "  <svg xmlns=\"http://www.w3.org/2000/svg\" height=\"24px\"viewBox=\"0 0 24 24\"\n",
              "       width=\"24px\">\n",
              "    <path d=\"M0 0h24v24H0V0z\" fill=\"none\"/>\n",
              "    <path d=\"M18.56 5.44l.94 2.06.94-2.06 2.06-.94-2.06-.94-.94-2.06-.94 2.06-2.06.94zm-11 1L8.5 8.5l.94-2.06 2.06-.94-2.06-.94L8.5 2.5l-.94 2.06-2.06.94zm10 10l.94 2.06.94-2.06 2.06-.94-2.06-.94-.94-2.06-.94 2.06-2.06.94z\"/><path d=\"M17.41 7.96l-1.37-1.37c-.4-.4-.92-.59-1.43-.59-.52 0-1.04.2-1.43.59L10.3 9.45l-7.72 7.72c-.78.78-.78 2.05 0 2.83L4 21.41c.39.39.9.59 1.41.59.51 0 1.02-.2 1.41-.59l7.78-7.78 2.81-2.81c.8-.78.8-2.07 0-2.86zM5.41 20L4 18.59l7.72-7.72 1.47 1.35L5.41 20z\"/>\n",
              "  </svg>\n",
              "      </button>\n",
              "      \n",
              "  <style>\n",
              "    .colab-df-container {\n",
              "      display:flex;\n",
              "      flex-wrap:wrap;\n",
              "      gap: 12px;\n",
              "    }\n",
              "\n",
              "    .colab-df-convert {\n",
              "      background-color: #E8F0FE;\n",
              "      border: none;\n",
              "      border-radius: 50%;\n",
              "      cursor: pointer;\n",
              "      display: none;\n",
              "      fill: #1967D2;\n",
              "      height: 32px;\n",
              "      padding: 0 0 0 0;\n",
              "      width: 32px;\n",
              "    }\n",
              "\n",
              "    .colab-df-convert:hover {\n",
              "      background-color: #E2EBFA;\n",
              "      box-shadow: 0px 1px 2px rgba(60, 64, 67, 0.3), 0px 1px 3px 1px rgba(60, 64, 67, 0.15);\n",
              "      fill: #174EA6;\n",
              "    }\n",
              "\n",
              "    [theme=dark] .colab-df-convert {\n",
              "      background-color: #3B4455;\n",
              "      fill: #D2E3FC;\n",
              "    }\n",
              "\n",
              "    [theme=dark] .colab-df-convert:hover {\n",
              "      background-color: #434B5C;\n",
              "      box-shadow: 0px 1px 3px 1px rgba(0, 0, 0, 0.15);\n",
              "      filter: drop-shadow(0px 1px 2px rgba(0, 0, 0, 0.3));\n",
              "      fill: #FFFFFF;\n",
              "    }\n",
              "  </style>\n",
              "\n",
              "      <script>\n",
              "        const buttonEl =\n",
              "          document.querySelector('#df-d6607e7d-b359-409e-9dc3-2ad2d355b06d button.colab-df-convert');\n",
              "        buttonEl.style.display =\n",
              "          google.colab.kernel.accessAllowed ? 'block' : 'none';\n",
              "\n",
              "        async function convertToInteractive(key) {\n",
              "          const element = document.querySelector('#df-d6607e7d-b359-409e-9dc3-2ad2d355b06d');\n",
              "          const dataTable =\n",
              "            await google.colab.kernel.invokeFunction('convertToInteractive',\n",
              "                                                     [key], {});\n",
              "          if (!dataTable) return;\n",
              "\n",
              "          const docLinkHtml = 'Like what you see? Visit the ' +\n",
              "            '<a target=\"_blank\" href=https://colab.research.google.com/notebooks/data_table.ipynb>data table notebook</a>'\n",
              "            + ' to learn more about interactive tables.';\n",
              "          element.innerHTML = '';\n",
              "          dataTable['output_type'] = 'display_data';\n",
              "          await google.colab.output.renderOutput(dataTable, element);\n",
              "          const docLink = document.createElement('div');\n",
              "          docLink.innerHTML = docLinkHtml;\n",
              "          element.appendChild(docLink);\n",
              "        }\n",
              "      </script>\n",
              "    </div>\n",
              "  </div>\n",
              "  "
            ]
          },
          "metadata": {},
          "execution_count": 17
        }
      ]
    },
    {
      "cell_type": "code",
      "metadata": {
        "id": "ySTE_InvP8hW",
        "outputId": "7ef29d82-61ea-43bc-99ba-6423e225a72d",
        "colab": {
          "base_uri": "https://localhost:8080/",
          "height": 559
        }
      },
      "source": [
        "plt.figure(figsize=(6,6)) \n",
        "sns.scatterplot(data=train_df_cl, x='two_week_lag_rides_x1000', y='rides_x1000', hue='part_of_the_week')"
      ],
      "execution_count": 18,
      "outputs": [
        {
          "output_type": "execute_result",
          "data": {
            "text/plain": [
              "<Axes: xlabel='two_week_lag_rides_x1000', ylabel='rides_x1000'>"
            ]
          },
          "metadata": {},
          "execution_count": 18
        },
        {
          "output_type": "display_data",
          "data": {
            "text/plain": [
              "<Figure size 600x600 with 1 Axes>"
            ],
            "image/png": "[encoded data removed]"
          },
          "metadata": {}
        }
      ]
    },
    {
      "cell_type": "markdown",
      "metadata": {
        "id": "5SxlZZyh1-Gu"
      },
      "source": [
        "## Mapas de calor"
      ]
    },
    {
      "cell_type": "markdown",
      "metadata": {
        "id": "Yc1oOXjh3TBA"
      },
      "source": [
        "Creamos una variable indicador para valores entre semana que sean menores a 10,000 pasajeros"
      ]
    },
    {
      "cell_type": "code",
      "metadata": {
        "id": "CO2a1hHqYd_A"
      },
      "source": [
        "train_df_cl['less_than_10000']= train_df_cl.rides<=10000\n",
        "train_df_cl['less_than_10000'] = train_df_cl['less_than_10000'].astype(int) # to transforme it to int, i.e. True=1 and False=0\n",
        "train_df_cl['month_name'] = train_df_cl.index.month_name() \n",
        "train_df_cl['month'] = train_df_cl.index.month\n",
        "train_df_cl['day'] = train_df_cl.index.day\n",
        "train_df_cl['month_day']= train_df_cl['month'].apply('{:0>2d}'.format) +'-' + train_df_cl['day'].apply('{:0>2d}'.format) # To create a format mm-dd\n",
        "train_df_cl['year'] = train_df_cl.index.year"
      ],
      "execution_count": null,
      "outputs": []
    },
    {
      "cell_type": "code",
      "metadata": {
        "id": "dgLq2UsJZQPo"
      },
      "source": [
        "train_df_cl['2001-02'].head()"
      ],
      "execution_count": null,
      "outputs": []
    },
    {
      "cell_type": "markdown",
      "metadata": {
        "id": "EOz7DCiU6Ai2"
      },
      "source": [
        "Para crear la tabla fuente de nuestro mapa de calor, utilizamos la [función de tabla pivote de Pandas](https://pandas.pydata.org/docs/reference/api/pandas.pivot_table.html)."
      ]
    },
    {
      "cell_type": "code",
      "metadata": {
        "id": "Mc0aOImIfQmv"
      },
      "source": [
        "heat_map_data = train_df_cl[train_df_cl.part_of_the_week=='Weekday'].pivot_table(index='month_day', columns='year', values='less_than_10000', fill_value=0) "
      ],
      "execution_count": null,
      "outputs": []
    },
    {
      "cell_type": "code",
      "metadata": {
        "id": "ErF1X08R5dqG"
      },
      "source": [
        "heat_map_data.head(10)"
      ],
      "execution_count": null,
      "outputs": []
    },
    {
      "cell_type": "code",
      "metadata": {
        "id": "9NqEjlzOjb6Y"
      },
      "source": [
        "plt.figure(figsize=(10,10))\n",
        "ax_hm = sns.heatmap(data=heat_map_data, cmap=['white','red'], cbar=False, yticklabels=15)\n",
        "ax_hm.invert_yaxis()"
      ],
      "execution_count": null,
      "outputs": []
    },
    {
      "cell_type": "markdown",
      "metadata": {
        "id": "EqyejjF8-ZkK"
      },
      "source": [
        "Ahora que conocemos que el efecto de los días festivos en el conjunto de datos, podemos remover esos días.\n",
        "\n",
        "Para eso utilizamos el dataset de **extra\\_data** que cargamos al principio."
      ]
    },
    {
      "cell_type": "code",
      "metadata": {
        "id": "tepVpcNPnR34"
      },
      "source": [
        "common_holidays = ['USNewYearsDay', 'Jan02_Mon_Fri', 'USMLKingsBirthday', \n",
        "    'USPresidentsDay', 'USMemorialDay', 'USIndependenceDay', \n",
        "    'Jul03_Mon_Fri', 'Jul05_Mon_Fri', 'USLaborDay', 'USThanksgivingDay', \n",
        "    'Day_after_Thx', 'ChristmasEve', 'USChristmasDay', 'Dec26_wkday', \n",
        "    'Dec31_Mon_Fri']"
      ],
      "execution_count": null,
      "outputs": []
    },
    {
      "cell_type": "code",
      "metadata": {
        "id": "fpWlRBzGpP3u"
      },
      "source": [
        "dates_with_holiday = (extra_data[common_holidays]==1).any(axis=1)"
      ],
      "execution_count": null,
      "outputs": []
    },
    {
      "cell_type": "code",
      "metadata": {
        "id": "S8u-x0BAtRdD"
      },
      "source": [
        "train_df_cl['holiday']=dates_with_holiday"
      ],
      "execution_count": null,
      "outputs": []
    },
    {
      "cell_type": "code",
      "metadata": {
        "id": "NicHzNkf4LiL"
      },
      "source": [
        "train_df_cl['two_weeks_lag_holiday'] = train_df_cl['holiday'].shift(periods=14, fill_value = False)"
      ],
      "execution_count": null,
      "outputs": []
    },
    {
      "cell_type": "markdown",
      "metadata": {
        "id": "4Egk-8g5_eob"
      },
      "source": [
        "Filtramos el conjunto de datos con dias que no sean festivos y que no tengan un dia festivo con retardo de dos semanas."
      ]
    },
    {
      "cell_type": "code",
      "metadata": {
        "id": "WpoGfeNP14U7"
      },
      "source": [
        "train_df_cl_no_holiday= train_df_cl[~train_df_cl.holiday & ~train_df_cl.two_weeks_lag_holiday]"
      ],
      "execution_count": null,
      "outputs": []
    },
    {
      "cell_type": "code",
      "metadata": {
        "id": "iBrFjBmTkuOm"
      },
      "source": [
        "plt.figure(figsize=(6,6))\n",
        "sns.scatterplot(x=train_df_cl_no_holiday.two_week_lag_rides_x1000, y=train_df_cl_no_holiday.rides_x1000, hue=train_df_cl_no_holiday.part_of_the_week)"
      ],
      "execution_count": null,
      "outputs": []
    },
    {
      "cell_type": "markdown",
      "metadata": {
        "id": "NfXOx5Zn_1yZ"
      },
      "source": [
        "## Gráficos de matriz de correlación"
      ]
    },
    {
      "cell_type": "markdown",
      "metadata": {
        "id": "0SdKbeDiFxFw"
      },
      "source": [
        "Agregamos las características que creamos para nuestro subconjunto de datos conteniendo solo la estacion Clark/Lake.\n",
        "\n",
        "Despues de esto, tomamos solo los registros correspondientes al año 2016"
      ]
    },
    {
      "cell_type": "code",
      "metadata": {
        "id": "SuFWG3hZ-WG8"
      },
      "source": [
        "df['part_of_the_week']=df.index.weekday.map(lambda x: 'Weekday' if x<5 else 'Weekend')\n",
        "df['holiday'] = False\n",
        "df['two_week_lag_rides']=0\n",
        "for station in df.stationname.unique():\n",
        "  df.loc[df.stationname==station,'two_week_lag_rides'] = df[df.stationname==station]['rides'].shift(periods=14, fill_value = 0)\n",
        "for index, row in dates_with_holiday.iteritems():\n",
        "  if row:        \n",
        "    df.loc[index, 'holiday']=True\n",
        "\n",
        "\n",
        "all_2016 = df.loc[train_days.index]['2016'].copy()"
      ],
      "execution_count": null,
      "outputs": []
    },
    {
      "cell_type": "code",
      "metadata": {
        "id": "Dy0qs8Kyhbit"
      },
      "source": [
        "all_2016.head()"
      ],
      "execution_count": null,
      "outputs": []
    },
    {
      "cell_type": "markdown",
      "metadata": {
        "id": "3Ga5ujOiPydd"
      },
      "source": [
        "Tomamos los datos solo de días entre semana y que no son días festivos"
      ]
    },
    {
      "cell_type": "code",
      "metadata": {
        "id": "pDkL3vtG_ot4"
      },
      "source": [
        "clustermap_data = all_2016[(all_2016.part_of_the_week=='Weekday')&(~all_2016.holiday)][['stationname','two_week_lag_rides']]"
      ],
      "execution_count": null,
      "outputs": []
    },
    {
      "cell_type": "code",
      "metadata": {
        "id": "RufpfDN2Fjy0"
      },
      "source": [
        "clustermap_data.head()"
      ],
      "execution_count": null,
      "outputs": []
    },
    {
      "cell_type": "markdown",
      "metadata": {
        "id": "PRm20Fg8P7Fz"
      },
      "source": [
        "Creamos la tabla pivote donde las filas son los días del año 2016, y las columnas son las estaciones. Cada celda en el conjunto de datos representa la cantidad de pasajeros para una estación y día específicos."
      ]
    },
    {
      "cell_type": "code",
      "metadata": {
        "id": "ORukbvUcOSvt"
      },
      "source": [
        "clustermap_data.pivot(columns='stationname', values='two_week_lag_rides')"
      ],
      "execution_count": null,
      "outputs": []
    },
    {
      "cell_type": "markdown",
      "metadata": {
        "id": "fZa_Bo8JQQwZ"
      },
      "source": [
        "Creamos la matriz de correlación, y luego generamos la gráfica. La cual también incluye una función de clusterización para las estaciones. Es decir, las estaciones con correlación positiva mayor se encuentran contiguas y las estaciones con correlación negativa mayor se encuentran alejadas. Esto es representado con un dendograma en los ejes de la gráfica."
      ]
    },
    {
      "cell_type": "code",
      "metadata": {
        "id": "t4w3pKU7JXIY"
      },
      "source": [
        "corr_matrix = clustermap_data.pivot(columns='stationname', values='two_week_lag_rides').corr()"
      ],
      "execution_count": null,
      "outputs": []
    },
    {
      "cell_type": "code",
      "metadata": {
        "id": "ocI8O7lXKZN4"
      },
      "source": [
        "corr_matrix.loc['O\\'Hare Airport','UIC-Halsted']"
      ],
      "execution_count": null,
      "outputs": []
    },
    {
      "cell_type": "code",
      "metadata": {
        "id": "z-8mzizFSifJ"
      },
      "source": [
        "corr_matrix.loc['Harlem-Lake','Quincy/Wells']"
      ],
      "execution_count": null,
      "outputs": []
    },
    {
      "cell_type": "code",
      "metadata": {
        "id": "xlZtoLtLBnL0"
      },
      "source": [
        "clustermap = sns.clustermap(corr_matrix, cmap='RdBu_r', vmin=-1, vmax=1, figsize=(10 ,10))\n"
      ],
      "execution_count": null,
      "outputs": []
    },
    {
      "cell_type": "markdown",
      "metadata": {
        "id": "FhqsgUVbTvlP"
      },
      "source": [
        "## Gráficos de líneas"
      ]
    },
    {
      "cell_type": "code",
      "metadata": {
        "id": "ZDUrqLUvgeBk"
      },
      "source": [
        "from scipy.stats.mstats import gmean"
      ],
      "execution_count": null,
      "outputs": []
    },
    {
      "cell_type": "code",
      "metadata": {
        "id": "EmogmsnqEjXM"
      },
      "source": [
        "line_plot_data_gmean = train_df_cl.groupby([pd.Grouper(freq='M'),'part_of_the_week']).agg({'rides_x1000':gmean, 'month_name':max, 'year':max}).reset_index()\n",
        "line_plot_data_gmean.set_index('date', inplace=True)\n",
        "line_plot_data_mean = train_df_cl.groupby([pd.Grouper(freq='M'),'part_of_the_week']).agg({'rides_x1000':'mean', 'month_name':max, 'year':max}).reset_index()\n",
        "line_plot_data_mean.set_index('date', inplace=True)"
      ],
      "execution_count": null,
      "outputs": []
    },
    {
      "cell_type": "code",
      "metadata": {
        "id": "qKfVePtt6BHZ"
      },
      "source": [
        "line_plot_data_gmean.head()"
      ],
      "execution_count": null,
      "outputs": []
    },
    {
      "cell_type": "code",
      "metadata": {
        "id": "wPNiCuUGGK-8"
      },
      "source": [
        "gline = sns.FacetGrid(line_plot_data_gmean, sharex=False, col='part_of_the_week', hue='year',height=6, aspect=2, palette='gist_heat_r')\n",
        "gline.map_dataframe(sns.lineplot, x='month_name', y='rides_x1000', legend='full')\n",
        "gline.axes[0,1].legend()\n",
        "gline.set_xticklabels(rotation=30)"
      ],
      "execution_count": null,
      "outputs": []
    },
    {
      "cell_type": "code",
      "metadata": {
        "id": "cPIQv0ieGLpU"
      },
      "source": [
        "gline = sns.FacetGrid(line_plot_data_mean, sharex=False, col='part_of_the_week', hue='year',height=6, aspect=2, palette='gist_heat_r')\n",
        "gline.map_dataframe(sns.lineplot, x='month_name', y='rides_x1000', legend='full')\n",
        "gline.axes[0,1].legend()"
      ],
      "execution_count": null,
      "outputs": []
    },
    {
      "cell_type": "code",
      "metadata": {
        "id": "WSlOC_xqjeW_"
      },
      "source": [],
      "execution_count": null,
      "outputs": []
    },
    {
      "cell_type": "code",
      "metadata": {
        "id": "aXHSqjlKpa9A"
      },
      "source": [
        "fig = px.line(line_plot_data_gmean, x='month_name', y='rides_x1000', facet_col='part_of_the_week', color='year', color_discrete_sequence=px.colors.qualitative.Alphabet)\n",
        "fig.update_xaxes(tickangle=-45)\n",
        "fig.show()"
      ],
      "execution_count": null,
      "outputs": []
    },
    {
      "cell_type": "markdown",
      "metadata": {
        "id": "Fnp_hYMuZolL"
      },
      "source": [
        "Los precios promedio por semana en Chicago se han registrado. Cargamos el archivo y generemos un gráfico de líneas para observar si hay alguna relación con el número de pasajeros."
      ]
    },
    {
      "cell_type": "code",
      "metadata": {
        "id": "5MY6FPXKqBXY"
      },
      "source": [
        "gas_price_df = pd.read_csv('/content/drive/MyDrive/UVG-DS6011/session_02/data/Chicago_gas_prices.csv',index_col=0, parse_dates=True)"
      ],
      "execution_count": null,
      "outputs": []
    },
    {
      "cell_type": "code",
      "metadata": {
        "id": "bfTQwUfsv9wI"
      },
      "source": [
        "gas_price_df = gas_price_df.sort_index()"
      ],
      "execution_count": null,
      "outputs": []
    },
    {
      "cell_type": "code",
      "metadata": {
        "id": "sVPd_m9ZzpUE"
      },
      "source": [
        "gas_price_df.head()"
      ],
      "execution_count": null,
      "outputs": []
    },
    {
      "cell_type": "code",
      "metadata": {
        "id": "dNT0RDqsz1fg"
      },
      "source": [
        "gas_price_df['month_name'] = gas_price_df.index.month_name() \n",
        "gas_price_df['year'] = gas_price_df.index.year \n",
        "gas_price_df['part_of_the_week']=gas_price_df.index.weekday.map(lambda x: 'Weekday' if x<5 else 'Weekend')"
      ],
      "execution_count": null,
      "outputs": []
    },
    {
      "cell_type": "code",
      "metadata": {
        "id": "JnpvZXlP0XOa"
      },
      "source": [
        "gas_price_df.head()"
      ],
      "execution_count": null,
      "outputs": []
    },
    {
      "cell_type": "code",
      "metadata": {
        "id": "ol4Hhwyj0jN8"
      },
      "source": [
        "line_plot_gas = gas_price_df['2001-01':'2016-08'].groupby(pd.Grouper(freq='M')).agg({'gas_price':'mean', 'month_name':max, 'year':max}).reset_index()\n",
        "line_plot_gas.set_index('date', inplace=True)"
      ],
      "execution_count": null,
      "outputs": []
    },
    {
      "cell_type": "code",
      "metadata": {
        "id": "XAvAWgD39KxF"
      },
      "source": [
        "line_plot_gas"
      ],
      "execution_count": null,
      "outputs": []
    },
    {
      "cell_type": "code",
      "metadata": {
        "id": "VbyxzOr303lz"
      },
      "source": [
        "fig = px.line(line_plot_gas, x='month_name', y='gas_price', color='year', color_discrete_sequence=px.colors.qualitative.Alphabet)\n",
        "fig.show()"
      ],
      "execution_count": null,
      "outputs": []
    },
    {
      "cell_type": "markdown",
      "metadata": {
        "id": "M9bRIASOZ77Y"
      },
      "source": [
        "Ahora veamos si hay alguna relación entre los precios promedio de la gasolina y el número de pasajeros. \n",
        "\n",
        "Para esto calculamos el promedio mensual de los precios de la gasolina con un retardo de 2 semanas y lo graficamos en contra de la media geométrica de el número de pasajeros en la estación de Clark/Lake"
      ]
    },
    {
      "cell_type": "code",
      "metadata": {
        "id": "NKQW2t2iAeTX"
      },
      "source": [
        "gas_price_df['two_week_lag_gas_price'] = gas_price_df.gas_price.shift(periods=14,freq='d')\n",
        "gas_price_df['two_week_lag_gas_price'] = gas_price_df['two_week_lag_gas_price'].fillna(0)"
      ],
      "execution_count": null,
      "outputs": []
    },
    {
      "cell_type": "code",
      "metadata": {
        "id": "NE1Odq_cBBbJ"
      },
      "source": [
        "gas_price_df.head()"
      ],
      "execution_count": null,
      "outputs": []
    },
    {
      "cell_type": "code",
      "metadata": {
        "id": "lCsIMrfnBfvx"
      },
      "source": [
        "line_plot_gas_lagged = gas_price_df['2001-01-01':'2016-08-31'].groupby(pd.Grouper(freq='M')).agg({'gas_price':'mean', 'month_name':max, 'year':max}).reset_index()\n",
        "line_plot_gas_lagged.set_index('date', inplace=True)"
      ],
      "execution_count": null,
      "outputs": []
    },
    {
      "cell_type": "code",
      "metadata": {
        "id": "Khd6WZkmFLLZ"
      },
      "source": [
        "line_plot_gas_lagged.head()"
      ],
      "execution_count": null,
      "outputs": []
    },
    {
      "cell_type": "code",
      "metadata": {
        "id": "PTEnFaEpCDjo"
      },
      "source": [
        "line_plot_data_gmean.loc[line_plot_data_gmean.part_of_the_week=='Weekday', 'gas_price'] = line_plot_gas_lagged\n",
        "line_plot_data_gmean.loc[line_plot_data_gmean.part_of_the_week=='Weekend', 'gas_price'] = line_plot_gas_lagged"
      ],
      "execution_count": null,
      "outputs": []
    },
    {
      "cell_type": "code",
      "metadata": {
        "id": "Qp-0uj-4HYJx"
      },
      "source": [
        "line_plot_data_gmean.head()"
      ],
      "execution_count": null,
      "outputs": []
    },
    {
      "cell_type": "code",
      "metadata": {
        "id": "mkg63CcVJ3aJ"
      },
      "source": [
        "line_plot_data_gmean.year = line_plot_data_gmean.year.astype(str) # we make it string so it is considered categorical variable"
      ],
      "execution_count": null,
      "outputs": []
    },
    {
      "cell_type": "code",
      "metadata": {
        "id": "CpOSgKXOCSJZ"
      },
      "source": [
        "fig = px.scatter(line_plot_data_gmean, x='gas_price', y='rides_x1000', color='year', facet_col='part_of_the_week', color_discrete_sequence=px.colors.qualitative.Alphabet) #, trendline='ols')\n",
        "fig.show()"
      ],
      "execution_count": null,
      "outputs": []
    },
    {
      "cell_type": "markdown",
      "metadata": {
        "id": "_lkgTqkHIBk7"
      },
      "source": [
        "# PCA"
      ]
    },
    {
      "cell_type": "code",
      "metadata": {
        "id": "_mGDaCXNPhUl"
      },
      "source": [
        "lag_14_data = pd.read_csv('/content/drive/MyDrive/UVG-DS6011/session_02/data/lag_14_data.csv', index_col=0)"
      ],
      "execution_count": null,
      "outputs": []
    },
    {
      "cell_type": "code",
      "metadata": {
        "id": "p_jyeHokPlle"
      },
      "source": [
        "lag_14_data.head()"
      ],
      "execution_count": null,
      "outputs": []
    },
    {
      "cell_type": "code",
      "metadata": {
        "id": "rha2Pp39Pm3h"
      },
      "source": [
        "from sklearn.decomposition import PCA"
      ],
      "execution_count": null,
      "outputs": []
    },
    {
      "cell_type": "code",
      "metadata": {
        "id": "Vlhd6MG5QAtd"
      },
      "source": [
        "pca = PCA()\n",
        "pca.fit(lag_14_data)"
      ],
      "execution_count": null,
      "outputs": []
    },
    {
      "cell_type": "code",
      "metadata": {
        "id": "nMenjbwcd4qc"
      },
      "source": [
        "print(pca.n_components_)\n",
        "print(pca.components_.shape) #eigenvectors"
      ],
      "execution_count": null,
      "outputs": []
    },
    {
      "cell_type": "code",
      "metadata": {
        "id": "iUaal13Qd9Ic"
      },
      "source": [
        "pca.singular_values_ #eigenvalues"
      ],
      "execution_count": null,
      "outputs": []
    },
    {
      "cell_type": "code",
      "metadata": {
        "id": "miFvCIQzS6-y"
      },
      "source": [
        "projected_lag_14 = pca.transform(lag_14_data)\n",
        "projected_lag_14 = projected_lag_14*-1 # just for matching the book's result https://stackoverflow.com/questions/44765682/in-sklearn-decomposition-pca-why-are-components-negative"
      ],
      "execution_count": null,
      "outputs": []
    },
    {
      "cell_type": "code",
      "metadata": {
        "id": "dunyjOD8QR5e"
      },
      "source": [
        "len(pca.components_)"
      ],
      "execution_count": null,
      "outputs": []
    },
    {
      "cell_type": "code",
      "metadata": {
        "id": "HDO-qtpMSM49"
      },
      "source": [
        "variance_ration_cumsum = np.cumsum(np.pad(pca.explained_variance_ratio_, (1, 0), \"constant\"))"
      ],
      "execution_count": null,
      "outputs": []
    },
    {
      "cell_type": "code",
      "metadata": {
        "id": "E4WMqOqOQiK5"
      },
      "source": [
        "fig =px.line(x=range(50), y=variance_ration_cumsum[:50], width=500, height=500)\n",
        "fig.update_yaxes(range=[-0.02, 1.02])\n",
        "fig.update_xaxes(range=[-2, 53])"
      ],
      "execution_count": null,
      "outputs": []
    },
    {
      "cell_type": "code",
      "metadata": {
        "id": "X2-FJqzBQ3ah"
      },
      "source": [
        "fig =px.scatter(x=projected_lag_14[:,0], y = projected_lag_14[:,1], color_discrete_sequence=['black'], width=500, height=500, opacity=0.3)\n",
        "fig.update_yaxes(range=[-50, 45])\n",
        "fig.update_xaxes(range=[-50, 45])\n",
        "fig.show()"
      ],
      "execution_count": null,
      "outputs": []
    },
    {
      "cell_type": "code",
      "metadata": {
        "id": "6BS5ePRsRuhF"
      },
      "source": [
        "projected_df = pd.DataFrame(projected_lag_14[:, :2], columns=['Component1','Component2'])"
      ],
      "execution_count": null,
      "outputs": []
    },
    {
      "cell_type": "code",
      "metadata": {
        "id": "_qML-sZyS3g2"
      },
      "source": [
        "projected_df.index = train_df_cl.index\n",
        "projected_df['day'] = projected_df.index.day_name()\n",
        "projected_df['year'] = projected_df.index.year"
      ],
      "execution_count": null,
      "outputs": []
    },
    {
      "cell_type": "code",
      "metadata": {
        "id": "OpxoGtGzdeqQ"
      },
      "source": [
        "fig = px.violin(projected_df,x='day',y='Component1',width=1000, height=400)\n",
        "fig.layout.template = 'plotly_white' #  different template styles https://plotly.com/python/templates/ \n",
        "fig.show()"
      ],
      "execution_count": null,
      "outputs": []
    },
    {
      "cell_type": "code",
      "metadata": {
        "id": "YCyTRF2Dkk31"
      },
      "source": [
        "fig = px.violin(projected_df,x='year',y='Component2',width=1000, height=400)\n",
        "fig.layout.template = 'plotly_dark' \n",
        "fig.show()"
      ],
      "execution_count": null,
      "outputs": []
    },
    {
      "cell_type": "code",
      "metadata": {
        "id": "j4hRCD38lCJV"
      },
      "source": [],
      "execution_count": null,
      "outputs": []
    },
    {
      "cell_type": "code",
      "metadata": {
        "id": "kk3gp6o0rYck"
      },
      "source": [],
      "execution_count": null,
      "outputs": []
    }
  ]
}